{
 "cells": [
  {
   "cell_type": "code",
   "execution_count": 9,
   "metadata": {},
   "outputs": [],
   "source": [
    "import pandas as pd\n",
    "import shutil\n",
    "import os\n",
    "from tqdm.notebook import tqdm"
   ]
  },
  {
   "cell_type": "code",
   "execution_count": 10,
   "metadata": {},
   "outputs": [
    {
     "data": {
      "text/html": [
       "<div>\n",
       "<style scoped>\n",
       "    .dataframe tbody tr th:only-of-type {\n",
       "        vertical-align: middle;\n",
       "    }\n",
       "\n",
       "    .dataframe tbody tr th {\n",
       "        vertical-align: top;\n",
       "    }\n",
       "\n",
       "    .dataframe thead th {\n",
       "        text-align: right;\n",
       "    }\n",
       "</style>\n",
       "<table border=\"1\" class=\"dataframe\">\n",
       "  <thead>\n",
       "    <tr style=\"text-align: right;\">\n",
       "      <th></th>\n",
       "      <th>url</th>\n",
       "      <th>crawler_id</th>\n",
       "      <th>instance_id</th>\n",
       "      <th>crawled_at_date</th>\n",
       "      <th>referer</th>\n",
       "      <th>wait_crawler_finish_to_download</th>\n",
       "      <th>time_between_downloads</th>\n",
       "      <th>file_name</th>\n",
       "      <th>type</th>\n",
       "      <th>extracted_files</th>\n",
       "    </tr>\n",
       "  </thead>\n",
       "  <tbody>\n",
       "    <tr>\n",
       "      <th>0</th>\n",
       "      <td>https://pirapetinga.mg.gov.br/transparencia/do...</td>\n",
       "      <td>3</td>\n",
       "      <td>160616852568494</td>\n",
       "      <td>2020-11-23 21:58:50.994079</td>\n",
       "      <td>https://pirapetinga.mg.gov.br/transparencia/in...</td>\n",
       "      <td>False</td>\n",
       "      <td>1</td>\n",
       "      <td>bd9cf430f53cfa701f8c7d51e2e0ba2f</td>\n",
       "      <td>application/pdf</td>\n",
       "      <td>[]</td>\n",
       "    </tr>\n",
       "    <tr>\n",
       "      <th>1</th>\n",
       "      <td>https://pirapetinga.mg.gov.br/transparencia/do...</td>\n",
       "      <td>3</td>\n",
       "      <td>160616852568494</td>\n",
       "      <td>2020-11-23 21:58:50.994526</td>\n",
       "      <td>https://pirapetinga.mg.gov.br/transparencia/in...</td>\n",
       "      <td>False</td>\n",
       "      <td>1</td>\n",
       "      <td>bc0866e315473780ab8d83b14278998f</td>\n",
       "      <td>application/pdf</td>\n",
       "      <td>[]</td>\n",
       "    </tr>\n",
       "    <tr>\n",
       "      <th>2</th>\n",
       "      <td>https://pirapetinga.mg.gov.br/transparencia/do...</td>\n",
       "      <td>3</td>\n",
       "      <td>160616852568494</td>\n",
       "      <td>2020-11-23 22:00:40.249297</td>\n",
       "      <td>https://pirapetinga.mg.gov.br/transparencia/in...</td>\n",
       "      <td>False</td>\n",
       "      <td>1</td>\n",
       "      <td>c7bd8928fa0ff4856199e1eb2589e8dc</td>\n",
       "      <td>application/pdf</td>\n",
       "      <td>[]</td>\n",
       "    </tr>\n",
       "    <tr>\n",
       "      <th>3</th>\n",
       "      <td>https://pirapetinga.mg.gov.br/transparencia/do...</td>\n",
       "      <td>3</td>\n",
       "      <td>160616852568494</td>\n",
       "      <td>2020-11-23 22:00:40.249461</td>\n",
       "      <td>https://pirapetinga.mg.gov.br/transparencia/in...</td>\n",
       "      <td>False</td>\n",
       "      <td>1</td>\n",
       "      <td>25bff9c51ff33ab73b3ec2a5c1ae8ea7</td>\n",
       "      <td>application/pdf</td>\n",
       "      <td>[]</td>\n",
       "    </tr>\n",
       "    <tr>\n",
       "      <th>4</th>\n",
       "      <td>https://pirapetinga.mg.gov.br/transparencia/do...</td>\n",
       "      <td>3</td>\n",
       "      <td>160616852568494</td>\n",
       "      <td>2020-11-23 22:00:40.248959</td>\n",
       "      <td>https://pirapetinga.mg.gov.br/transparencia/in...</td>\n",
       "      <td>False</td>\n",
       "      <td>1</td>\n",
       "      <td>5df4600b8c2d6bfc9fbdb9034a937966</td>\n",
       "      <td>application/pdf</td>\n",
       "      <td>[]</td>\n",
       "    </tr>\n",
       "  </tbody>\n",
       "</table>\n",
       "</div>"
      ],
      "text/plain": [
       "                                                 url  crawler_id  \\\n",
       "0  https://pirapetinga.mg.gov.br/transparencia/do...           3   \n",
       "1  https://pirapetinga.mg.gov.br/transparencia/do...           3   \n",
       "2  https://pirapetinga.mg.gov.br/transparencia/do...           3   \n",
       "3  https://pirapetinga.mg.gov.br/transparencia/do...           3   \n",
       "4  https://pirapetinga.mg.gov.br/transparencia/do...           3   \n",
       "\n",
       "       instance_id             crawled_at_date  \\\n",
       "0  160616852568494  2020-11-23 21:58:50.994079   \n",
       "1  160616852568494  2020-11-23 21:58:50.994526   \n",
       "2  160616852568494  2020-11-23 22:00:40.249297   \n",
       "3  160616852568494  2020-11-23 22:00:40.249461   \n",
       "4  160616852568494  2020-11-23 22:00:40.248959   \n",
       "\n",
       "                                             referer  \\\n",
       "0  https://pirapetinga.mg.gov.br/transparencia/in...   \n",
       "1  https://pirapetinga.mg.gov.br/transparencia/in...   \n",
       "2  https://pirapetinga.mg.gov.br/transparencia/in...   \n",
       "3  https://pirapetinga.mg.gov.br/transparencia/in...   \n",
       "4  https://pirapetinga.mg.gov.br/transparencia/in...   \n",
       "\n",
       "   wait_crawler_finish_to_download  time_between_downloads  \\\n",
       "0                            False                       1   \n",
       "1                            False                       1   \n",
       "2                            False                       1   \n",
       "3                            False                       1   \n",
       "4                            False                       1   \n",
       "\n",
       "                          file_name             type extracted_files  \n",
       "0  bd9cf430f53cfa701f8c7d51e2e0ba2f  application/pdf              []  \n",
       "1  bc0866e315473780ab8d83b14278998f  application/pdf              []  \n",
       "2  c7bd8928fa0ff4856199e1eb2589e8dc  application/pdf              []  \n",
       "3  25bff9c51ff33ab73b3ec2a5c1ae8ea7  application/pdf              []  \n",
       "4  5df4600b8c2d6bfc9fbdb9034a937966  application/pdf              []  "
      ]
     },
     "execution_count": 10,
     "metadata": {},
     "output_type": "execute_result"
    }
   ],
   "source": [
    "PATH = \"/datalake/ufmg/c04/tmp/288_licitacoes-pirapetinga/data/files/\"\n",
    "# list all files and remove file_description\n",
    "files = os.listdir(PATH)\n",
    "files.remove(\"file_description.jsonl\")\n",
    "\n",
    "# Read file_description\n",
    "file_description = pd.read_json(os.path.join(PATH, \"file_description.jsonl\"), lines=True)\n",
    "file_description.head()"
   ]
  },
  {
   "cell_type": "code",
   "execution_count": 11,
   "metadata": {},
   "outputs": [
    {
     "data": {
      "text/plain": [
       "type\n",
       "application/msword                                                            8\n",
       "application/pdf                                                            1007\n",
       "application/vnd.ms-excel                                                      9\n",
       "application/vnd.openxmlformats-officedocument.spreadsheetml.sheet             3\n",
       "application/vnd.openxmlformats-officedocument.wordprocessingml.document      81\n",
       "dtype: int64"
      ]
     },
     "execution_count": 11,
     "metadata": {},
     "output_type": "execute_result"
    }
   ],
   "source": [
    "# Group and count types\n",
    "file_description.groupby('type').size()"
   ]
  },
  {
   "cell_type": "code",
   "execution_count": 12,
   "metadata": {},
   "outputs": [
    {
     "data": {
      "application/vnd.jupyter.widget-view+json": {
       "model_id": "45973c84bdb64328a628df5c4ee220fc",
       "version_major": 2,
       "version_minor": 0
      },
      "text/plain": [
       "HBox(children=(FloatProgress(value=0.0, max=1108.0), HTML(value='')))"
      ]
     },
     "metadata": {},
     "output_type": "display_data"
    },
    {
     "name": "stdout",
     "output_type": "stream",
     "text": [
      "\n"
     ]
    }
   ],
   "source": [
    "# Mapping extensions to their MIME types\n",
    "# https://stackoverflow.com/questions/4212861/what-is-a-correct-mime-type-for-docx-pptx-etc\n",
    "mime_dict = {     \n",
    "    \"application/pdf\" : \".pdf\", \n",
    "    \"application/msword\" : \".doc\",\n",
    "    #\"application/msword\" : \".dot\",\n",
    "    \"application/vnd.openxmlformats-officedocument.wordprocessingml.document\" : \".docx\",\n",
    "    \"application/vnd.openxmlformats-officedocument.wordprocessingml.template\" : \".dotx\",\n",
    "    \"application/vnd.ms-word.document.macroEnabled.12\" : \".docm\",\n",
    "    \"application/vnd.ms-word.template.macroEnabled.12\" : \".dotm\",\n",
    "    \"application/vnd.ms-excel\" : \".xls\",\n",
    "    #\"application/vnd.ms-excel\" : \".xlt\",\n",
    "    #\"application/vnd.ms-excel\" : \".xla\",\n",
    "    \"application/vnd.openxmlformats-officedocument.spreadsheetml.sheet\" : \".xlsx\",\n",
    "    \"application/vnd.openxmlformats-officedocument.spreadsheetml.template\" : \".xltx\",\n",
    "    \"application/vnd.ms-excel.sheet.macroEnabled.12\" : \".xlsm\",\n",
    "    \"application/vnd.ms-excel.template.macroEnabled.12\" : \".xltm\",\n",
    "    \"application/vnd.ms-excel.addin.macroEnabled.12\" : \".xlam\",\n",
    "    \"application/vnd.ms-excel.sheet.binary.macroEnabled.12\" : \".xlsb\",\n",
    "    \"application/vnd.ms-powerpoint\" : \".ppt\",\n",
    "    #\"application/vnd.ms-powerpoint\" : \".pot\",\n",
    "    #\"application/vnd.ms-powerpoint\" : \".pps\",\n",
    "    #\"application/vnd.ms-powerpoint\" : \".ppa\",\n",
    "    \"application/vnd.openxmlformats-officedocument.presentationml.presentation\" : \".pptx\",\n",
    "    \"application/vnd.openxmlformats-officedocument.presentationml.template\" : \".potx\",\n",
    "    \"application/vnd.openxmlformats-officedocument.presentationml.slideshow\" : \".ppsx\",\n",
    "    \"application/vnd.ms-powerpoint.addin.macroEnabled.12\" : \".ppam\",\n",
    "    \"application/vnd.ms-powerpoint.presentation.macroEnabled.12\" : \".pptm\",\n",
    "    \"application/vnd.ms-powerpoint.template.macroEnabled.12\" : \".potm\",\n",
    "    \"application/vnd.ms-powerpoint.slideshow.macroEnabled.12\" : \".ppsm\",\n",
    "    \"application/vnd.ms-access\" : \".mdb\"\n",
    "}\n",
    "\n",
    "# Rename files adding their extension\n",
    "for file in tqdm(files):\n",
    "    file = file.split(\".\")[0]\n",
    "    # get file extension\n",
    "    file_type = file_description.loc[file_description['file_name'] == file, \"type\"].values[0]\n",
    "    file_extension = mime_dict[file_type]\n",
    "    # set source and destination\n",
    "    src = os.path.join(PATH, file)    \n",
    "    dst = \".\".join([src, file_extension])\n",
    "    # rename file\n",
    "    #shutil.move(src, dst)\n",
    "    # update file_description\n",
    "    file_description.loc[file_description['file_name'] == file, \"file_name\"] = \"\".join([file, file_extension])\n",
    "\n",
    "# Write file\n",
    "file_description.to_json(os.path.join(PATH, \"file_description.jsonl\"), lines=True, orient='records')"
   ]
  },
  {
   "cell_type": "code",
   "execution_count": 22,
   "metadata": {},
   "outputs": [],
   "source": []
  }
 ],
 "metadata": {
  "kernelspec": {
   "display_name": "Python 3",
   "language": "python",
   "name": "python3"
  },
  "language_info": {
   "codemirror_mode": {
    "name": "ipython",
    "version": 3
   },
   "file_extension": ".py",
   "mimetype": "text/x-python",
   "name": "python",
   "nbconvert_exporter": "python",
   "pygments_lexer": "ipython3",
   "version": "3.7.6"
  }
 },
 "nbformat": 4,
 "nbformat_minor": 4
}
