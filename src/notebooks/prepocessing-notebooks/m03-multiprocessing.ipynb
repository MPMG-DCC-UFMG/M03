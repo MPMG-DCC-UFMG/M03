{
 "cells": [
  {
   "cell_type": "code",
   "execution_count": 1,
   "metadata": {},
   "outputs": [],
   "source": [
    "import multiprocessing\n",
    "import pdfplumber\n",
    "import os\n",
    "import time"
   ]
  },
  {
   "cell_type": "code",
   "execution_count": 2,
   "metadata": {},
   "outputs": [],
   "source": [
    "def get_ranges(num_items, n_process):\n",
    "\n",
    "    if(n_process == 1):\n",
    "        return 0, (num_items - 1)\n",
    "\n",
    "    total_len = num_items\n",
    "    num_process = n_process\n",
    "    lower = []\n",
    "    upper = []\n",
    "    step = int(total_len/num_process)\n",
    "\n",
    "    for k in range(num_process):\n",
    "        lower.append(0)\n",
    "        upper.append(0)\n",
    "\n",
    "    lower[0] = 0\n",
    "    upper[0] = step\n",
    "\n",
    "    i = 1\n",
    "    j = 0\n",
    "    while (i < num_process):\n",
    "        upper[i]  = upper[j] + step\n",
    "        lower[i]  = upper[j] +  1\n",
    "        if(i%2 != 0):\n",
    "            upper[i] = upper[i] + 1\n",
    "\n",
    "        i = i + 1\n",
    "        j = j + 1\n",
    "\n",
    "    upper[n_process - 1] = num_items - 1\n",
    "\n",
    "    return lower, upper"
   ]
  },
  {
   "cell_type": "code",
   "execution_count": 3,
   "metadata": {},
   "outputs": [],
   "source": [
    "def read_pdf(files, i, results_process, file_path):\n",
    "    \"\"\"\n",
    "    files: lista de arquivos a serem processados\n",
    "    i: id do processo\n",
    "    results_process: dict que recebe a saída da função\n",
    "    file_path: diretorio para o arquivo\n",
    "    \n",
    "    A ideia é fazer igual o pessoal do F03, extrair todas as informações e\n",
    "    retornar apenas as caracterizações.\n",
    "    \"\"\"\n",
    "    pdfs = {}\n",
    "    for file in files:\n",
    "        pages = []\n",
    "        tables = []\n",
    "        pdf = pdfplumber.open(file_path+file)\n",
    "        for page in pdf.pages:\n",
    "            pages.append(page.extract_text())\n",
    "            tables.append(page.extract_tables())\n",
    "        #pdfs.append(pdf.pages[0].extract_text())\n",
    "        pdfs[file] = [pages, tables]\n",
    "        \n",
    "    results_process[i] = pdfs"
   ]
  },
  {
   "cell_type": "code",
   "execution_count": 4,
   "metadata": {},
   "outputs": [],
   "source": [
    "def preprocess_items(items, file_path,n_process=10):\n",
    "    # It defines the ranges (of the items) the process will work on:\n",
    "    process_ranges = get_ranges(len(items), n_process)\n",
    "    if n_process == 1:\n",
    "        process_ranges = [[process_ranges[0]], [process_ranges[1]]]\n",
    "\n",
    "    print('Read ranges')\n",
    "    print(process_ranges)\n",
    "\n",
    "    manager = multiprocessing.Manager()\n",
    "    results_process = manager.dict()\n",
    "    jobs = []\n",
    "\n",
    "    for i in range(n_process):\n",
    "        lower = process_ranges[0][i]\n",
    "        upper = process_ranges[1][i]\n",
    "        items_process = items[lower:(upper + 1)]\n",
    "        p = multiprocessing.Process(target=read_pdf,\n",
    "        args = (items_process, i, results_process, file_path))\n",
    "        jobs.append(p)\n",
    "        p.start()\n",
    "\n",
    "    del items\n",
    "\n",
    "    for proc in jobs:\n",
    "        proc.join()\n",
    "        proc.close()\n",
    "\n",
    "    items_descriptions = []\n",
    "    return results_process\n",
    "    for i in range(n_process):\n",
    "        items_descriptions += results_process[i]\n",
    "\n",
    "    return items_descriptions"
   ]
  },
  {
   "cell_type": "code",
   "execution_count": 5,
   "metadata": {},
   "outputs": [
    {
     "name": "stdout",
     "output_type": "stream",
     "text": [
      "Total  1113\n",
      "Apenas pdfs  1007\n",
      "50\n"
     ]
    }
   ],
   "source": [
    "file_path = \"../data/288_licitacoes-pirapetinga/data/files/\"\n",
    "files = os.listdir(file_path)\n",
    "print(\"Total \",len(files))\n",
    "# seleciona apenas pdfs\n",
    "files = [file for file in files if \".pdf\" in file]\n",
    "print(\"Apenas pdfs \",len(files))\n",
    "# Seleciona amostra para testes\n",
    "files = files[:50]\n",
    "print(len(files))"
   ]
  },
  {
   "cell_type": "code",
   "execution_count": 35,
   "metadata": {
    "scrolled": false
   },
   "outputs": [
    {
     "name": "stdout",
     "output_type": "stream",
     "text": [
      "Read ranges\n",
      "([0, 6, 12, 17, 23, 28, 34, 39, 45, 50], [5, 11, 16, 22, 27, 33, 38, 44, 49, 49])\n"
     ]
    },
    {
     "data": {
      "text/plain": [
       "63.66626787185669"
      ]
     },
     "execution_count": 35,
     "metadata": {},
     "output_type": "execute_result"
    }
   ],
   "source": [
    "# Multi threads\n",
    "start = time.time()\n",
    "results = preprocess_items(files, file_path, 10)\n",
    "time.time() - start"
   ]
  },
  {
   "cell_type": "code",
   "execution_count": 37,
   "metadata": {
    "scrolled": false
   },
   "outputs": [
    {
     "name": "stdout",
     "output_type": "stream",
     "text": [
      "Read ranges\n",
      "[[0], [49]]\n"
     ]
    },
    {
     "data": {
      "text/plain": [
       "205.3191978931427"
      ]
     },
     "execution_count": 37,
     "metadata": {},
     "output_type": "execute_result"
    }
   ],
   "source": [
    "# Single thread\n",
    "start = time.time()\n",
    "results = preprocess_items(files, file_path, 1)\n",
    "time.time() - start"
   ]
  }
 ],
 "metadata": {
  "kernelspec": {
   "display_name": "Python 3",
   "language": "python",
   "name": "python3"
  },
  "language_info": {
   "codemirror_mode": {
    "name": "ipython",
    "version": 3
   },
   "file_extension": ".py",
   "mimetype": "text/x-python",
   "name": "python",
   "nbconvert_exporter": "python",
   "pygments_lexer": "ipython3",
   "version": "3.7.6"
  }
 },
 "nbformat": 4,
 "nbformat_minor": 4
}
