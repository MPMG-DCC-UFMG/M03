{
 "cells": [
  {
   "cell_type": "code",
   "execution_count": 2,
   "metadata": {},
   "outputs": [],
   "source": [
    "import json\n",
    "import os\n",
    "import re\n",
    "import os.path as osp\n",
    "import pandas as pd\n",
    "import glob\n",
    "import tqdm\n",
    "##Classe com vários métodos de pre-processamento de texto em português criado pelo grupo F03\n",
    "import utils.preprocessing_portuguese as preprossPT\n"
   ]
  },
  {
   "cell_type": "code",
   "execution_count": 3,
   "metadata": {},
   "outputs": [
    {
     "data": {
      "text/html": [
       "<div>\n",
       "<style scoped>\n",
       "    .dataframe tbody tr th:only-of-type {\n",
       "        vertical-align: middle;\n",
       "    }\n",
       "\n",
       "    .dataframe tbody tr th {\n",
       "        vertical-align: top;\n",
       "    }\n",
       "\n",
       "    .dataframe thead th {\n",
       "        text-align: right;\n",
       "    }\n",
       "</style>\n",
       "<table border=\"1\" class=\"dataframe\">\n",
       "  <thead>\n",
       "    <tr style=\"text-align: right;\">\n",
       "      <th></th>\n",
       "      <th>doc_id</th>\n",
       "      <th>final_meta-class</th>\n",
       "      <th>label</th>\n",
       "      <th>label_int</th>\n",
       "    </tr>\n",
       "  </thead>\n",
       "  <tbody>\n",
       "    <tr>\n",
       "      <th>0</th>\n",
       "      <td>499fa518c7724a6e449c509b7d7bc819</td>\n",
       "      <td>ATA</td>\n",
       "      <td>ata dispensa licitacao</td>\n",
       "      <td>0</td>\n",
       "    </tr>\n",
       "    <tr>\n",
       "      <th>1</th>\n",
       "      <td>56a09c5d1d04cc95ada4d68ad22dcbd9</td>\n",
       "      <td>ATA</td>\n",
       "      <td>ata dispensa licitacao</td>\n",
       "      <td>0</td>\n",
       "    </tr>\n",
       "    <tr>\n",
       "      <th>2</th>\n",
       "      <td>6e9f35208290c1130fcccad47b50aa53</td>\n",
       "      <td>ATA</td>\n",
       "      <td>ata dispensa licitacao</td>\n",
       "      <td>0</td>\n",
       "    </tr>\n",
       "    <tr>\n",
       "      <th>3</th>\n",
       "      <td>669c029c5812ec9a31b9c211044157b4</td>\n",
       "      <td>ATA</td>\n",
       "      <td>ata dispensa licitacao</td>\n",
       "      <td>0</td>\n",
       "    </tr>\n",
       "    <tr>\n",
       "      <th>4</th>\n",
       "      <td>a22421dc45d623c9200c7e8fb1e6ca34</td>\n",
       "      <td>ATA</td>\n",
       "      <td>ata dispensa licitacao</td>\n",
       "      <td>0</td>\n",
       "    </tr>\n",
       "  </tbody>\n",
       "</table>\n",
       "</div>"
      ],
      "text/plain": [
       "                             doc_id final_meta-class                   label  \\\n",
       "0  499fa518c7724a6e449c509b7d7bc819              ATA  ata dispensa licitacao   \n",
       "1  56a09c5d1d04cc95ada4d68ad22dcbd9              ATA  ata dispensa licitacao   \n",
       "2  6e9f35208290c1130fcccad47b50aa53              ATA  ata dispensa licitacao   \n",
       "3  669c029c5812ec9a31b9c211044157b4              ATA  ata dispensa licitacao   \n",
       "4  a22421dc45d623c9200c7e8fb1e6ca34              ATA  ata dispensa licitacao   \n",
       "\n",
       "   label_int  \n",
       "0          0  \n",
       "1          0  \n",
       "2          0  \n",
       "3          0  \n",
       "4          0  "
      ]
     },
     "execution_count": 3,
     "metadata": {},
     "output_type": "execute_result"
    }
   ],
   "source": [
    "df_labels = pd.read_csv('./resultado_m03_meta_classes_extraction/relacao_documentos_label_v2.csv')\n",
    "# Mapeia labels em inteiros\n",
    "df_labels['label_int'] = pd.factorize(df_labels['label'])[0]\n",
    "df_labels.head()"
   ]
  },
  {
   "cell_type": "code",
   "execution_count": null,
   "metadata": {},
   "outputs": [],
   "source": [
    "def ner_filter(page_text, named_entities):\n",
    "    "
   ]
  },
  {
   "cell_type": "code",
   "execution_count": 42,
   "metadata": {},
   "outputs": [],
   "source": [
    "def get_name(directory):\n",
    "    return re.search(\"licitacoes-(.*)/\", directory)[1].replace(\"-\", \"_\")\n",
    "\n",
    "def list_json_files_dir(city_dir, city_name):\n",
    "    if city_name != 'itamarati':\n",
    "        return glob.glob(os.path.join(city_dir, 'data', 'files_json', '*'))\n",
    "    else:\n",
    "        return glob.glob(os.path.join(city_dir, '*', 'data', 'files_json', '*'))\n",
    "\n",
    "def read_files(file_dir):\n",
    "    with open(file_dir) as f:\n",
    "        lines = f.read() # lê o conteúdo (pode ser lido em um stream, se achar necessário)\n",
    "        return json.loads(lines)\n",
    "    \n",
    "def preprocess_text(document, num_pages, city_name):\n",
    "    return [limpeza_texto(page_content, city_name) for page_content in document['text_content'][:4]]\n",
    "\n",
    "def merge_pages(document, num_pages):\n",
    "    # retorna lista onde a cada posicao uma nova pagina e concatenada ao texto\n",
    "    num_pages+=1\n",
    "    return [\" \".join(document['text_preprocessed'][0:num_pages]) for num_pages in range(1,num_pages)]"
   ]
  },
  {
   "cell_type": "code",
   "execution_count": null,
   "metadata": {},
   "outputs": [],
   "source": [
    "\"\"\"\n",
    "    Faz a leitura dos arquivos, aplica o pre-processamento e armazena em um dataframe\n",
    "\"\"\"\n",
    "\n",
    "base_path = \"../data/*licitacoes*/\"\n",
    "cities_dir = glob.glob(base_path)\n",
    "num_pages = 4\n",
    "\n",
    "cities_docs = {}\n",
    "df_document_content = pd.DataFrame(columns=['doc_id', 'city', 'file_dir', 'one_page', 'two_pages', 'three_pages', 'four_pages'])\n",
    "\n",
    "for city_dir in cities_dir:\n",
    "    city_name = get_name(city_dir)\n",
    "    #if city_name == \"bh\":\n",
    "    if city_name != \"olaria\":\n",
    "        continue\n",
    "    print(\"-\"*100)\n",
    "    print(city_name)\n",
    "    # Lista os arquivos a serem lidos\n",
    "    files_dir = list_json_files_dir(city_dir, city_name)\n",
    "    # Faz a leitura dos arquivos\n",
    "    for file_dir in tqdm.tqdm_notebook(files_dir):\n",
    "        document = read_files(file_dir)\n",
    "        # Verifica se foi possível extrair texto do documento\n",
    "        if document['status'] == 'SUCCESS':\n",
    "            # preprocessamento\n",
    "            document['text_preprocessed'] = preprocess_text(document, num_pages, city_name)\n",
    "            # gera variacoes do texto concatenando 1 a num_pages páginas\n",
    "            page_content = merge_pages(document, num_pages)\n",
    "            # gera linha a ser inserida no dataframe\n",
    "            new_row = [document['file_id'], city_name, file_dir]\n",
    "            new_row.extend(page_content)\n",
    "            # insere nova linha no dataframe\n",
    "            df_document_content.loc[len(df_document_content)] = new_row"
   ]
  },
  {
   "cell_type": "code",
   "execution_count": 44,
   "metadata": {},
   "outputs": [],
   "source": [
    "document = read_files(\"../data/302-licitacoes-olaria/data/files_json/7087aaed7cb40a722df310e1dbd7d881.json\")"
   ]
  },
  {
   "cell_type": "code",
   "execution_count": 47,
   "metadata": {},
   "outputs": [
    {
     "data": {
      "text/plain": [
       "'PREFEITURA MUNICIPAL DE OLARIA \\n2013-2016 \\n \\nNUMER VALOR  VL.  VL TL  VENC.  OBJETO  CONCEDENTE  CONT.  SIT. OBRA  OBS \\nO  CONV  C. PART  CONV.  CORRE\\nCONV  NTE \\n          CONSTRUÇÃO PONTE QUINTILIANOS  SETOP    VIGAS LIBERADAS  OF GAB SUBSEAM \\n  465/2016 \\n130/2016 \\n          CONSTRUÇÃO 2 BUEIROS PARQUE DE  DEP       OFÍCIO 129/2016 \\nEXPOSIÇÕES  \\n          REFORMA ESCOLA MUNICIPAL  S.E.E    PROJETO ENTREGUE   \\nAUTUALPA DUQUE  S.E.E \\n  501.655,03    501.655,03    AMPLIAÇÃO ESCOLA MUNICIPAL  PAR/FNDE    PROJETO ENTREGUE   \\nAUTUALPA DUQUE  / PROJETO INCENDIO \\nPROTOCOLADO \\nCORPO B. \\n          14 MATA BURRO  SETOP    CONCLUIDO  PRESTAÇÃO DE \\n  CONTAS ENVIADA \\n12/12/2016 \\n139/2014  101.889,94  1.018,90  102.908,84  27/06/2017  POÇO ARTESIANO E REDE  SEDESE  16814 – 9  ORDEM DE SERVIÇO   \\nDISTRIBUIÇÃO PACIENCIA  TRAVESSIA  40.000,00 \\nSOCIAL \\n852/2014  30.000,00    30.000,00  23/06/2017  AQUISIÇÃO DE VEÍCULO   S.E.S  17000 – 3  AGUARDAR REPASSE   \\n1.500,00  2ª PARCELA \\n1556/2014  49.935,67    49.935,67  29/06/2017  AQUISIÇÃO EQUIPAMENTOS  S.E.S  16973 – 0  AGUARDAR REPASSE   \\nFISIOTERAPIA/DEP LAFAIETE ANDRADA  2.496,78  2ª PARCELA \\n  25.000,00    25.000,00    ACADEMIA AO AR LIVRE SEDE DO  S.E.S   DOAÇÃ ORDEM DE   \\nMUNICÍPIO  JORGE  O  ENTREGA \\n  25.000,00    25.000,00    ACADEMIA AO AR LIVRE  S.E.S   DOAÇÃ ORDEM DE   \\nQUINTILIANOS  DEP   O  ENTREGA \\nPROPOS 99.302,92  4.634,98  103.937,90    POÇOS ARTESIANO BOA VISTA  FUNASA    CADASTRADO   \\nTA    SICONV \\n013851/20\\n16 \\nPROPOS 75.684,09  3.533,09  79.217,18    POÇOS ARTESIANO SÃO FRANCISCO DO  FUNASA    CADASTRADO   \\nTA  PRATA    SICONV \\n013851/20\\n \\n  1  16 \\nPROPOS 75.012,99  3.501,76  78.514,74    POÇOS ARTESIANO VILA TOMÉ E  FUNASA    CADASTRADO   \\nTA  PELEJA    SICONV \\n013851/20\\n16 \\n681/2016  60.000,00  7.113,69  67.113,69  21/06/2018  PAVIMENTAÇÃO POLIÉDRICA  SEDRU  17943-4  LICITAR   \\n \\n          CADASTRAMENTO ICMS SANEAMENTO      OFÍCIO 121/2016   \\n          PROJETO INC UBS SEDE      PROTOCOLADO NO   \\nCORPO DE \\nBOMBEIROS \\n          PROJETO INC UBS QUINTILIANOS      PROTOCOLADO NO   \\nCORPO DE \\nBOMBEIROS \\n15182490 203.098,02    203.098,02  01/12/2017  EQUIPAMENTOS UBS  F.N.S   17028-3  LICITANDO ITENS  AGUARDANDO \\n000/1140-   DEP MARCUS  203.098,0 REPROGRAMADOS E  ABERTURA DE \\n01  PESTANA  2  NÃO COTADOS    PRESTAÇÃO DE \\nCONTAS NO \\nSISTEMA FNS \\n \\n \\n \\n  2 '"
      ]
     },
     "execution_count": 47,
     "metadata": {},
     "output_type": "execute_result"
    }
   ],
   "source": [
    "text = \" \".join(document['text_content'])\n",
    "text"
   ]
  },
  {
   "cell_type": "code",
   "execution_count": 49,
   "metadata": {},
   "outputs": [
    {
     "data": {
      "text/plain": [
       "'PREFEITURA MUNICIPAL DE OLARIA \\n -  \\n \\nNUMER VALOR  VL.  VL TL  VENC.  OBJETO  CONCEDENTE  CONT.  SIT. OBRA  OBS \\nO  CONV  C. PART  CONV.  CORRE\\nCONV  NTE \\n          CONSTRUÇÃO PONTE QUINTILIANOS  SETOP    VIGAS LIBERADAS  OF GAB SUBSEAM \\n  465/  \\n  \\n          CONSTRUÇÃO 2 BUEIROS PARQUE DE  DEP       OFÍCIO 129/  \\nEXPOSIÇÕES  \\n          REFORMA ESCOLA MUNICIPAL  S.E.E    PROJETO ENTREGUE   \\nAUTUALPA DUQUE  S.E.E \\n  501.655,03    501.655,03    AMPLIAÇÃO ESCOLA MUNICIPAL  PAR/FNDE    PROJETO ENTREGUE   \\nAUTUALPA DUQUE  / PROJETO INCENDIO \\nPROTOCOLADO \\nCORPO B. \\n          14 MATA BURRO  SETOP    CONCLUIDO  PRESTAÇÃO DE \\n  CONTAS ENVIADA \\n  \\n139/2014  101.889,94  1.018,90  102.908,84     POÇO ARTESIANO E REDE  SEDESE  16814 – 9  ORDEM DE SERVIÇO   \\nDISTRIBUIÇÃO PACIENCIA  TRAVESSIA  40.000,00 \\nSOCIAL \\n852/2014  30.000,00    30.000,00     AQUISIÇÃO DE VEÍCULO   S.E.S  17000 – 3  AGUARDAR REPASSE   \\n1.500,00  2ª PARCELA \\n   49.935,67    49.935,67     AQUISIÇÃO EQUIPAMENTOS  S.E.S  16973 – 0  AGUARDAR REPASSE   \\nFISIOTERAPIA/DEP LAFAIETE ANDRADA  2.496,78  2ª PARCELA \\n  25.000,00    25.000,00    ACADEMIA AO AR LIVRE SEDE DO  S.E.S   DOAÇÃ ORDEM DE   \\nMUNICÍPIO  JORGE  O  ENTREGA \\n  25.000,00    25.000,00    ACADEMIA AO AR LIVRE  S.E.S   DOAÇÃ ORDEM DE   \\nQUINTILIANOS  DEP   O  ENTREGA \\nPROPOS 99.302,92  4.634,98  103.937,90    POÇOS ARTESIANO BOA VISTA  FUNASA    CADASTRADO   \\nTA    SICONV \\n013851/20\\n16 \\nPROPOS 75.684,09  3.533,09  79.217,18    POÇOS ARTESIANO SÃO FRANCISCO DO  FUNASA    CADASTRADO   \\nTA  PRATA    SICONV \\n013851/20\\n \\n  1  16 \\nPROPOS 75.012,99  3.501,76  78.514,74    POÇOS ARTESIANO VILA TOMÉ E  FUNASA    CADASTRADO   \\nTA  PELEJA    SICONV \\n013851/20\\n16 \\n681/   60.000,00  7.113,69  67.113,69     PAVIMENTAÇÃO POLIÉDRICA  SEDRU  17943-4  LICITAR   \\n \\n          CADASTRAMENTO ICMS SANEAMENTO      OFÍCIO 121/    \\n          PROJETO INC UBS SEDE      PROTOCOLADO NO   \\nCORPO DE \\nBOMBEIROS \\n          PROJETO INC UBS QUINTILIANOS      PROTOCOLADO NO   \\nCORPO DE \\nBOMBEIROS \\n15182490 203.098,02    203.098,02     EQUIPAMENTOS UBS  F.N.S   17028-3  LICITANDO ITENS  AGUARDANDO \\n000/1140-   DEP MARCUS  203.098,0 REPROGRAMADOS E  ABERTURA DE \\n01  PESTANA  2  NÃO COTADOS    PRESTAÇÃO DE \\nCONTAS NO \\nSISTEMA FNS \\n \\n \\n \\n  2 '"
      ]
     },
     "execution_count": 49,
     "metadata": {},
     "output_type": "execute_result"
    }
   ],
   "source": [
    "text"
   ]
  },
  {
   "cell_type": "code",
   "execution_count": 50,
   "metadata": {},
   "outputs": [
    {
     "name": "stdout",
     "output_type": "stream",
     "text": [
      "MATA BURRO SETOP\n",
      "PONTE QUINTILIANOS SETOP \n",
      " \n",
      " VIGAS LIBERADAS\n",
      "FRANCISCO DO \n",
      "PRATA \n",
      "FUNASA \n",
      " \n",
      " CADASTRADO \n",
      "SICONV\n",
      "FUNASA \n",
      " \n",
      " CADASTRADO \n",
      "SICONV \n",
      " \n",
      "PROPOS\n",
      "PO?OS ARTESIANO VILA TOM? E \n",
      "PELEJA \n",
      "FUNASA \n",
      " \n",
      " CADASTRADO \n",
      "SICONV\n",
      "23/06/2017\n",
      "12/12/2016\n",
      "2013\n",
      "27/06/2017\n",
      "29/06/2017\n",
      "1556/2014\n",
      "130/2016\n",
      "2016\n",
      "01/12/2017\n",
      "21/06/2018\n"
     ]
    }
   ],
   "source": [
    "df = pd.read_csv(\"../data/NER_results/Olaria.csv\", sep=\"\\t\")\n",
    "df.head()\n",
    "\n",
    "df[\"named_entities\"] = df[\"named_entities\"].apply(eval)\n",
    "\n",
    "for file_name in df['file'].values:\n",
    "    if file_name == '7087aaed7cb40a722df310e1dbd7d881':\n",
    "        named_entities = {\n",
    "            \"PESSOA\": [],\n",
    "            \"ORGANIZAÇÃO\": [],\n",
    "            \"LOCAL\": [],\n",
    "            \"TEMPO\": [],\n",
    "            \"LEGISLAÇÃO\": [],\n",
    "            \"JURISPRUDÊNCIA\": [],\n",
    "        }\n",
    "\n",
    "        for entity in df.loc[df[\"file\"] == file_name,\"named_entities\"].values[0]:\n",
    "            if entity[0] in named_entities.keys():\n",
    "                named_entities[entity[0]].append(entity[1])\n",
    "\n",
    "        for key in named_entities.keys():\n",
    "            named_entities[key] = set(named_entities[key])\n",
    "            for term in named_entities[key]:\n",
    "                print(term)\n",
    "                text = text.replace(term, \" \")"
   ]
  },
  {
   "cell_type": "code",
   "execution_count": null,
   "metadata": {},
   "outputs": [],
   "source": []
  }
 ],
 "metadata": {
  "kernelspec": {
   "display_name": "Python 3",
   "language": "python",
   "name": "python3"
  },
  "language_info": {
   "codemirror_mode": {
    "name": "ipython",
    "version": 3
   },
   "file_extension": ".py",
   "mimetype": "text/x-python",
   "name": "python",
   "nbconvert_exporter": "python",
   "pygments_lexer": "ipython3",
   "version": "3.7.6"
  }
 },
 "nbformat": 4,
 "nbformat_minor": 4
}
