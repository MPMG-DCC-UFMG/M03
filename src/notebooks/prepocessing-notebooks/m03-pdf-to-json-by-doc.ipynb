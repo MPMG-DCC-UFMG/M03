{
 "cells": [
  {
   "cell_type": "markdown",
   "metadata": {},
   "source": [
    "# Importa dependências"
   ]
  },
  {
   "cell_type": "code",
   "execution_count": 16,
   "metadata": {},
   "outputs": [],
   "source": [
    "import json\n",
    "import os\n",
    "import glob\n",
    "import re\n",
    "import os.path as osp\n",
    "import pathlib\n",
    "import tarfile\n",
    "import bz2\n",
    "from zipfile import ZipFile\n",
    "from pyunpack import Archive\n",
    "import pandas as pd"
   ]
  },
  {
   "cell_type": "markdown",
   "metadata": {},
   "source": [
    "# Define Origem (SRC) e Destino (DST)"
   ]
  },
  {
   "cell_type": "code",
   "execution_count": 17,
   "metadata": {},
   "outputs": [],
   "source": [
    "src_path = \"../data/documentos_json\"\n",
    "dst_path = \"../data/documentos_json_by_doc\""
   ]
  },
  {
   "cell_type": "code",
   "execution_count": 41,
   "metadata": {},
   "outputs": [],
   "source": [
    "base_path = \"../data/\"\n",
    "anos = [2017,2018,2019,2020]\n",
    "\n",
    "anos_list = []\n",
    "for ano in anos:\n",
    "    filename = f'{base_path}351-licitacoes-itamarati/licitacoes_itamarati_{str(ano)}/data/files/file_description.jsonl'\n",
    "    df = pd.read_json(filename, lines=True)\n",
    "    df['ano'] = str(ano)\n",
    "    anos_list.append(df)\n",
    "df_description = pd.concat(anos_list)\n",
    "df_description.reset_index(inplace=True, drop=True)\n",
    "df_description\n",
    "df_description[\"file_id\"] = df_description.file_name.apply(lambda v: str(v).rstrip(\".pdf\"))\n",
    "mapper = df_description.loc[:, [\"file_id\", \"ano\"]].set_index(\"file_id\").to_dict(\"index\")"
   ]
  },
  {
   "cell_type": "code",
   "execution_count": 49,
   "metadata": {},
   "outputs": [],
   "source": [
    "dirs = {\n",
    "    \"sao-bento-abade\": \"381-licitacoes-sao-bento-abade\",\n",
    "    \"olaria\": \"302-licitacoes-olaria\",\n",
    "    \"coqueiral\": \"289-licitacoes-coqueiral\",\n",
    "    \"cristais\": \"290-licitacoes-cristais\",\n",
    "    \"pirapetinga\": \"288_licitacoes-pirapetinga\",\n",
    "    \"passa-vinte\": \"304-licitacoes-passa-vinte\",\n",
    "    \"arantina\": \"306-licitacoes-arantina\",\n",
    "    \"ijaci\": \"353-licitacoes-ijaci\",\n",
    "    \"itamarati\": \"351-licitacoes-itamarati\",\n",
    "    \"ribeirao-vermelho\": \"385-licitacoes-ribeirao-vermelho\",\n",
    "}"
   ]
  },
  {
   "cell_type": "markdown",
   "metadata": {},
   "source": [
    "# Converte JSON/Cidade para JSON/doc"
   ]
  },
  {
   "cell_type": "code",
   "execution_count": 52,
   "metadata": {},
   "outputs": [
    {
     "name": "stdout",
     "output_type": "stream",
     "text": [
      "../data/documentos_json/sao-bento-abade.json 232\n",
      "../data/documentos_json/olaria.json 42\n",
      "../data/documentos_json/coqueiral.json 1528\n",
      "../data/documentos_json/cristais.json 1736\n",
      "../data/documentos_json/pirapetinga.json 1007\n",
      "../data/documentos_json/passa-vinte.json 395\n",
      "../data/documentos_json/arantina.json 983\n",
      "../data/documentos_json/ijaci.json 451\n",
      "../data/documentos_json/itamarati.json 1110\n",
      "../data/documentos_json/ribeirao-vermelho.json 684\n"
     ]
    }
   ],
   "source": [
    "cities = glob.glob(src_path + \"/*.json\")\n",
    "for city in cities:\n",
    "    city_name = city.split(\"/\")[-1].split(\".\")[0]\n",
    "    city_path = f\"../data/{dirs[city_name]}\"\n",
    "    \n",
    "    # Divide em JSON em JSON menores, ie, um JSON por doc ao invés de um JSON por cidade\n",
    "    with open(city) as f:\n",
    "        i = 0\n",
    "        for doc in f:\n",
    "            i += 1\n",
    "            doc = json.loads(doc)\n",
    "            if doc[\"status\"] == \"SUCCESS\":\n",
    "                try:\n",
    "                    file_id = doc[\"file_id\"]\n",
    "                    base_path = city_path\n",
    "                    if city_name == \"itamarati\":\n",
    "                        base_path += \"itamarati_\" + mapper[file_id][\"ano\"]\n",
    "                    \n",
    "                    base_path += \"/data/files_json/\"\n",
    "                    \n",
    "                    if not os.path.isdir(base_path):\n",
    "                        os.mkdir(base_path)\n",
    "                    \n",
    "                    with open(f\"{base_path}/{file_id}.json\", \"wt\", encoding=\"utf-8\") as dst_f:\n",
    "                       json.dump(doc, dst_f)\n",
    "                except:\n",
    "                    pass\n",
    "        print(city, i)\n"
   ]
  },
  {
   "cell_type": "code",
   "execution_count": 32,
   "metadata": {},
   "outputs": [
    {
     "ename": "KeyError",
     "evalue": "'72b0eb3a7dba3bc83522d8da5114f36d'",
     "output_type": "error",
     "traceback": [
      "\u001b[0;31m---------------------------------------------------------------------------\u001b[0m",
      "\u001b[0;31mKeyError\u001b[0m                                  Traceback (most recent call last)",
      "\u001b[0;32m<ipython-input-32-46b3fa002f59>\u001b[0m in \u001b[0;36m<module>\u001b[0;34m\u001b[0m\n\u001b[0;32m----> 1\u001b[0;31m \u001b[0mmapper\u001b[0m\u001b[0;34m[\u001b[0m\u001b[0;34m\"72b0eb3a7dba3bc83522d8da5114f36d\"\u001b[0m\u001b[0;34m]\u001b[0m\u001b[0;34m\u001b[0m\u001b[0;34m\u001b[0m\u001b[0m\n\u001b[0m",
      "\u001b[0;31mKeyError\u001b[0m: '72b0eb3a7dba3bc83522d8da5114f36d'"
     ]
    }
   ],
   "source": [
    "mapper[\"72b0eb3a7dba3bc83522d8da5114f36d\"]"
   ]
  },
  {
   "cell_type": "code",
   "execution_count": null,
   "metadata": {},
   "outputs": [],
   "source": []
  }
 ],
 "metadata": {
  "kernelspec": {
   "display_name": "Python 3",
   "language": "python",
   "name": "python3"
  },
  "language_info": {
   "codemirror_mode": {
    "name": "ipython",
    "version": 3
   },
   "file_extension": ".py",
   "mimetype": "text/x-python",
   "name": "python",
   "nbconvert_exporter": "python",
   "pygments_lexer": "ipython3",
   "version": "3.7.6"
  }
 },
 "nbformat": 4,
 "nbformat_minor": 4
}
