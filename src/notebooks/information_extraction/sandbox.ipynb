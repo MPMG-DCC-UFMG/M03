{
 "cells": [
  {
   "cell_type": "code",
   "execution_count": 1,
   "metadata": {},
   "outputs": [],
   "source": [
    "import pandas as pd\n",
    "import re\n",
    "from collections import Counter\n",
    "import matplotlib.pyplot as plt\n",
    "##Classe com vários métodos de pre-processamento de texto em português criado pelo grupo F03\n",
    "import utils.preprocessing_portuguese as preprossPT"
   ]
  },
  {
   "cell_type": "code",
   "execution_count": 12,
   "metadata": {},
   "outputs": [
    {
     "data": {
      "text/plain": [
       "0       ../data/290-licitacoes-cristais/data/files_jso...\n",
       "1       ../data/290-licitacoes-cristais/data/files_jso...\n",
       "2       ../data/290-licitacoes-cristais/data/files_jso...\n",
       "3       ../data/290-licitacoes-cristais/data/files_jso...\n",
       "4       ../data/290-licitacoes-cristais/data/files_jso...\n",
       "                              ...                        \n",
       "5648    ../data/304-licitacoes-passa-vinte/data/files_...\n",
       "5649    ../data/304-licitacoes-passa-vinte/data/files_...\n",
       "5650    ../data/304-licitacoes-passa-vinte/data/files_...\n",
       "5651    ../data/306-licitacoes-arantina/data/files_jso...\n",
       "5652    ../data/289-licitacoes-coqueiral/data/files_js...\n",
       "Name: file_dir, Length: 5653, dtype: object"
      ]
     },
     "execution_count": 12,
     "metadata": {},
     "output_type": "execute_result"
    }
   ],
   "source": [
    "df = pd.read_csv(\"lstm_data/preprocessed_data_v2_2.csv\")\n",
    "df['file_dir']"
   ]
  },
  {
   "cell_type": "code",
   "execution_count": 10,
   "metadata": {},
   "outputs": [
    {
     "data": {
      "text/plain": [
       "5653"
      ]
     },
     "execution_count": 10,
     "metadata": {},
     "output_type": "execute_result"
    }
   ],
   "source": [
    "df = pd.read_csv(\"lstm_data/preprocessed_data_v2.csv\")\n",
    "df['doc_id'].nunique()"
   ]
  },
  {
   "cell_type": "markdown",
   "metadata": {},
   "source": [
    "### Faz a leitura de todas as planilhas e armazena em um único dataframe"
   ]
  },
  {
   "cell_type": "code",
   "execution_count": 7,
   "metadata": {},
   "outputs": [
    {
     "data": {
      "text/html": [
       "<div>\n",
       "<style scoped>\n",
       "    .dataframe tbody tr th:only-of-type {\n",
       "        vertical-align: middle;\n",
       "    }\n",
       "\n",
       "    .dataframe tbody tr th {\n",
       "        vertical-align: top;\n",
       "    }\n",
       "\n",
       "    .dataframe thead th {\n",
       "        text-align: right;\n",
       "    }\n",
       "</style>\n",
       "<table border=\"1\" class=\"dataframe\">\n",
       "  <thead>\n",
       "    <tr style=\"text-align: right;\">\n",
       "      <th></th>\n",
       "      <th>number</th>\n",
       "      <th>doc_id</th>\n",
       "      <th>title</th>\n",
       "      <th>city</th>\n",
       "      <th>all_matches</th>\n",
       "      <th>meta-class</th>\n",
       "      <th>real_meta-class</th>\n",
       "      <th>real_class</th>\n",
       "      <th>key_words</th>\n",
       "      <th>obs</th>\n",
       "      <th>escaneado</th>\n",
       "    </tr>\n",
       "  </thead>\n",
       "  <tbody>\n",
       "    <tr>\n",
       "      <th>0</th>\n",
       "      <td>0</td>\n",
       "      <td>275acd244d5791013bd8f4b3243a4a1a</td>\n",
       "      <td>prefeitura municipal de são bento abade mg adm...</td>\n",
       "      <td>sao-bento-abade</td>\n",
       "      <td>['ata', 'ata']</td>\n",
       "      <td>ATA</td>\n",
       "      <td>ATA</td>\n",
       "      <td>ATA DE REGISTRO DE PREÇOS</td>\n",
       "      <td>ATA, ATA DE REGISTRO DE PREÇOS</td>\n",
       "      <td>NaN</td>\n",
       "      <td>NaN</td>\n",
       "    </tr>\n",
       "    <tr>\n",
       "      <th>1</th>\n",
       "      <td>1</td>\n",
       "      <td>2309298b1878b216dca666aba446a4cd</td>\n",
       "      <td>prefeitura municipal de são bento abade mg  ...</td>\n",
       "      <td>sao-bento-abade</td>\n",
       "      <td>['ata', 'sessão pública', 'edital']</td>\n",
       "      <td>ATA</td>\n",
       "      <td>ATA</td>\n",
       "      <td>ATA DE SESSÃO PÚBLICA</td>\n",
       "      <td>ATA, tomada de preco</td>\n",
       "      <td>NaN</td>\n",
       "      <td>NaN</td>\n",
       "    </tr>\n",
       "    <tr>\n",
       "      <th>2</th>\n",
       "      <td>2</td>\n",
       "      <td>85c1a53d38e9f0128f437554523bf87c</td>\n",
       "      <td>prefeitura municipal de são bento abade estado...</td>\n",
       "      <td>sao-bento-abade</td>\n",
       "      <td>['ata', 'ata', 'homologação', 'homologação', '...</td>\n",
       "      <td>ATA</td>\n",
       "      <td>ATA</td>\n",
       "      <td>ATA REFERENTE A FASE DE JULGAMENTO DAS EMPRESAS</td>\n",
       "      <td>ATA, FASE DE JULGAMENTO</td>\n",
       "      <td>NaN</td>\n",
       "      <td>NaN</td>\n",
       "    </tr>\n",
       "    <tr>\n",
       "      <th>3</th>\n",
       "      <td>3</td>\n",
       "      <td>4d6035bf3212568e336fe0ab7d9fb215</td>\n",
       "      <td>prefeitura municipal de são bento abade estad...</td>\n",
       "      <td>sao-bento-abade</td>\n",
       "      <td>['ata', 'sessão pública', 'edital']</td>\n",
       "      <td>ATA</td>\n",
       "      <td>ATA</td>\n",
       "      <td>ATA DO PREGÃO PRESENCIAL</td>\n",
       "      <td>ATA, ATA DO PREGÃO PRESENCIAL</td>\n",
       "      <td>NaN</td>\n",
       "      <td>NaN</td>\n",
       "    </tr>\n",
       "    <tr>\n",
       "      <th>4</th>\n",
       "      <td>4</td>\n",
       "      <td>580e6393365c2957e221de56844dd011</td>\n",
       "      <td>prefeitura municipal de são bento abade estado...</td>\n",
       "      <td>sao-bento-abade</td>\n",
       "      <td>['ata', 'sessão pública', 'edital', 'edital']</td>\n",
       "      <td>ATA</td>\n",
       "      <td>ATA</td>\n",
       "      <td>ATA DO PREGÃO PRESENCIAL</td>\n",
       "      <td>sessao, publica</td>\n",
       "      <td>NaN</td>\n",
       "      <td>NaN</td>\n",
       "    </tr>\n",
       "  </tbody>\n",
       "</table>\n",
       "</div>"
      ],
      "text/plain": [
       "   number                            doc_id  \\\n",
       "0       0  275acd244d5791013bd8f4b3243a4a1a   \n",
       "1       1  2309298b1878b216dca666aba446a4cd   \n",
       "2       2  85c1a53d38e9f0128f437554523bf87c   \n",
       "3       3  4d6035bf3212568e336fe0ab7d9fb215   \n",
       "4       4  580e6393365c2957e221de56844dd011   \n",
       "\n",
       "                                               title             city  \\\n",
       "0  prefeitura municipal de são bento abade mg adm...  sao-bento-abade   \n",
       "1    prefeitura municipal de são bento abade mg  ...  sao-bento-abade   \n",
       "2  prefeitura municipal de são bento abade estado...  sao-bento-abade   \n",
       "3   prefeitura municipal de são bento abade estad...  sao-bento-abade   \n",
       "4  prefeitura municipal de são bento abade estado...  sao-bento-abade   \n",
       "\n",
       "                                         all_matches meta-class  \\\n",
       "0                                     ['ata', 'ata']        ATA   \n",
       "1                ['ata', 'sessão pública', 'edital']        ATA   \n",
       "2  ['ata', 'ata', 'homologação', 'homologação', '...        ATA   \n",
       "3                ['ata', 'sessão pública', 'edital']        ATA   \n",
       "4      ['ata', 'sessão pública', 'edital', 'edital']        ATA   \n",
       "\n",
       "  real_meta-class                                       real_class  \\\n",
       "0             ATA                        ATA DE REGISTRO DE PREÇOS   \n",
       "1             ATA                            ATA DE SESSÃO PÚBLICA   \n",
       "2             ATA  ATA REFERENTE A FASE DE JULGAMENTO DAS EMPRESAS   \n",
       "3             ATA                         ATA DO PREGÃO PRESENCIAL   \n",
       "4             ATA                         ATA DO PREGÃO PRESENCIAL   \n",
       "\n",
       "                        key_words  obs  escaneado  \n",
       "0  ATA, ATA DE REGISTRO DE PREÇOS  NaN        NaN  \n",
       "1            ATA, tomada de preco  NaN        NaN  \n",
       "2         ATA, FASE DE JULGAMENTO  NaN        NaN  \n",
       "3   ATA, ATA DO PREGÃO PRESENCIAL  NaN        NaN  \n",
       "4                 sessao, publica  NaN        NaN  "
      ]
     },
     "execution_count": 7,
     "metadata": {},
     "output_type": "execute_result"
    }
   ],
   "source": [
    "sheet_names = ['sao-bento-abade', 'olaria', 'coqueiral', 'cristais', 'pirapetinga', 'passa-vinte', 'arantina', 'itamarati', 'ribeirao-vermelho']\n",
    "file_dir = 'resultado_m03_meta_classes_extraction/resultado_final.xlsx'\n",
    "all_sheets = []\n",
    "for sheet in sheet_names:\n",
    "    df = pd.read_excel(file_dir, sheet_name=sheet)\n",
    "    df.columns = df.columns.str.lower()\n",
    "    all_sheets.append(df)\n",
    "# Concatena todos dataframes em apenas um\n",
    "df_rotulos = pd.concat(all_sheets)\n",
    "# Dropa linhas vazias e reseta o indice\n",
    "#df_rotulos.dropna(how='all', subset=['doc_id', 'title', 'city', 'all_matches', 'meta-class',\n",
    "#       'real_meta-class', 'real_class', 'key_words', 'obs', 'escaneado'], inplace=True)\n",
    "df_rotulos.reset_index(drop=True, inplace=True)\n",
    "df_rotulos.head()"
   ]
  },
  {
   "cell_type": "markdown",
   "metadata": {},
   "source": [
    "### Exploração Inicial dos Dados"
   ]
  },
  {
   "cell_type": "code",
   "execution_count": 10,
   "metadata": {},
   "outputs": [
    {
     "name": "stdout",
     "output_type": "stream",
     "text": [
      "Numero de documentos rotulados:  5298\n"
     ]
    }
   ],
   "source": [
    "print(\"Numero de documentos rotulados: \",df_rotulos.shape[0])"
   ]
  },
  {
   "cell_type": "code",
   "execution_count": 20,
   "metadata": {
    "scrolled": true
   },
   "outputs": [
    {
     "name": "stdout",
     "output_type": "stream",
     "text": [
      "Documentos rotulados por cidade\n"
     ]
    },
    {
     "data": {
      "text/plain": [
       "city\n",
       "arantina              328\n",
       "coqueiral            1494\n",
       "cristais             1287\n",
       "itamarati             595\n",
       "olaria                 36\n",
       "passa-vinte           369\n",
       "pirapetinga           788\n",
       "ribeirao-vermelho     172\n",
       "sao-bento-abade       229\n",
       "dtype: int64"
      ]
     },
     "metadata": {},
     "output_type": "display_data"
    },
    {
     "name": "stdout",
     "output_type": "stream",
     "text": [
      "\n",
      "Numero inicial de classes\n"
     ]
    },
    {
     "data": {
      "text/plain": [
       "285"
      ]
     },
     "metadata": {},
     "output_type": "display_data"
    },
    {
     "name": "stdout",
     "output_type": "stream",
     "text": [
      "\n",
      "Numero inicial de classes por Municipio\n"
     ]
    },
    {
     "data": {
      "text/plain": [
       "city\n",
       "arantina             16\n",
       "coqueiral            97\n",
       "cristais             46\n",
       "itamarati            34\n",
       "olaria               12\n",
       "passa-vinte          41\n",
       "pirapetinga          89\n",
       "ribeirao-vermelho    16\n",
       "sao-bento-abade      28\n",
       "dtype: int64"
      ]
     },
     "metadata": {},
     "output_type": "display_data"
    }
   ],
   "source": [
    "print(\"Documentos rotulados por cidade\")\n",
    "display(df_rotulos.groupby(\"city\").size())\n",
    "print()\n",
    "print(\"Numero inicial de classes\")\n",
    "display(df_rotulos['real_class'].nunique())\n",
    "print()\n",
    "print(\"Numero inicial de classes por Municipio\")\n",
    "display(df_rotulos.groupby([\"city\", \"real_class\"]).size().reset_index().groupby('city').size())"
   ]
  },
  {
   "cell_type": "markdown",
   "metadata": {},
   "source": [
    "### Analise de termos"
   ]
  },
  {
   "cell_type": "code",
   "execution_count": 6,
   "metadata": {},
   "outputs": [],
   "source": [
    "def limpeza_texto(page_text):\n",
    "    txt_process = preprossPT.TextPreProcessing()\n",
    "    \n",
    "    page_text = page_text.lower()\n",
    "    \n",
    "    page_text = txt_process.remove_pronouns(page_text)\n",
    "\n",
    "    page_text = txt_process.remove_reduced_or_contracted_words(page_text)\n",
    "\n",
    "    page_text = txt_process.remove_adverbs(page_text)\n",
    "\n",
    "    page_text = txt_process.remove_special_characters(page_text)\n",
    "\n",
    "    page_text = txt_process.remove_excessive_spaces(page_text)\n",
    "\n",
    "    page_text = txt_process.remove_accents(page_text)\n",
    "\n",
    "    page_text = txt_process.remove_stopwords(page_text)\n",
    "\n",
    "    page_text = txt_process.remove_symbols_from_numbers(page_text)\n",
    "\n",
    "    page_text = txt_process.remove_numbers(page_text)\n",
    "\n",
    "    page_text = txt_process.remove_urls(page_text)\n",
    "    \n",
    "    page_text = txt_process.remove_person_names(page_text)\n",
    "    \n",
    "    #Removendo letras sozinhas no texto\n",
    "    page_text = re.sub(r'(?:^| )\\w(?:$| )', ' ', page_text).strip()\n",
    "\n",
    "    page_text = page_text.replace(\"_\",\"\")\n",
    "    \n",
    "    return page_text"
   ]
  },
  {
   "cell_type": "code",
   "execution_count": 7,
   "metadata": {},
   "outputs": [
    {
     "name": "stdout",
     "output_type": "stream",
     "text": [
      "Número real de classes  263\n"
     ]
    }
   ],
   "source": [
    "processed_classes = df_rotulos['real_class'].to_list()\n",
    "processed_classes = [limpeza_texto(class_name) for class_name in processed_classes]\n",
    "df_rotulos['processed_classes'] = processed_classes\n",
    "print(\"Número real de classes \", len(set(processed_classes)))"
   ]
  },
  {
   "cell_type": "code",
   "execution_count": 9,
   "metadata": {},
   "outputs": [
    {
     "name": "stdout",
     "output_type": "stream",
     "text": [
      "Numero de termos  237\n"
     ]
    }
   ],
   "source": [
    "terms = []\n",
    "for class_name in processed_classes:\n",
    "    terms.extend(class_name.split(\" \"))\n",
    "print(\"Numero de termos \",len(set(terms)))"
   ]
  },
  {
   "cell_type": "code",
   "execution_count": 10,
   "metadata": {},
   "outputs": [
    {
     "data": {
      "text/html": [
       "<div>\n",
       "<style scoped>\n",
       "    .dataframe tbody tr th:only-of-type {\n",
       "        vertical-align: middle;\n",
       "    }\n",
       "\n",
       "    .dataframe tbody tr th {\n",
       "        vertical-align: top;\n",
       "    }\n",
       "\n",
       "    .dataframe thead th {\n",
       "        text-align: right;\n",
       "    }\n",
       "</style>\n",
       "<table border=\"1\" class=\"dataframe\">\n",
       "  <thead>\n",
       "    <tr style=\"text-align: right;\">\n",
       "      <th></th>\n",
       "      <th>term</th>\n",
       "      <th>count</th>\n",
       "    </tr>\n",
       "  </thead>\n",
       "  <tbody>\n",
       "    <tr>\n",
       "      <th>11</th>\n",
       "      <td>edital</td>\n",
       "      <td>2034</td>\n",
       "    </tr>\n",
       "    <tr>\n",
       "      <th>12</th>\n",
       "      <td>licitacao</td>\n",
       "      <td>1372</td>\n",
       "    </tr>\n",
       "    <tr>\n",
       "      <th>16</th>\n",
       "      <td>contrato</td>\n",
       "      <td>966</td>\n",
       "    </tr>\n",
       "    <tr>\n",
       "      <th>0</th>\n",
       "      <td>ata</td>\n",
       "      <td>888</td>\n",
       "    </tr>\n",
       "    <tr>\n",
       "      <th>53</th>\n",
       "      <td>administrativo</td>\n",
       "      <td>673</td>\n",
       "    </tr>\n",
       "    <tr>\n",
       "      <th>...</th>\n",
       "      <td>...</td>\n",
       "      <td>...</td>\n",
       "    </tr>\n",
       "    <tr>\n",
       "      <th>74</th>\n",
       "      <td>administrativos</td>\n",
       "      <td>1</td>\n",
       "    </tr>\n",
       "    <tr>\n",
       "      <th>41</th>\n",
       "      <td>plano</td>\n",
       "      <td>1</td>\n",
       "    </tr>\n",
       "    <tr>\n",
       "      <th>43</th>\n",
       "      <td>gestao</td>\n",
       "      <td>1</td>\n",
       "    </tr>\n",
       "    <tr>\n",
       "      <th>72</th>\n",
       "      <td>re</td>\n",
       "      <td>1</td>\n",
       "    </tr>\n",
       "    <tr>\n",
       "      <th>164</th>\n",
       "      <td>tecnico</td>\n",
       "      <td>1</td>\n",
       "    </tr>\n",
       "  </tbody>\n",
       "</table>\n",
       "<p>237 rows × 2 columns</p>\n",
       "</div>"
      ],
      "text/plain": [
       "                term  count\n",
       "11            edital   2034\n",
       "12         licitacao   1372\n",
       "16          contrato    966\n",
       "0                ata    888\n",
       "53    administrativo    673\n",
       "..               ...    ...\n",
       "74   administrativos      1\n",
       "41             plano      1\n",
       "43            gestao      1\n",
       "72                re      1\n",
       "164          tecnico      1\n",
       "\n",
       "[237 rows x 2 columns]"
      ]
     },
     "execution_count": 10,
     "metadata": {},
     "output_type": "execute_result"
    }
   ],
   "source": [
    "df_terms = pd.DataFrame(columns=[\"term\", \"count\"])\n",
    "df_terms['term'] = Counter(terms).keys()\n",
    "df_terms['count'] = Counter(terms).values()\n",
    "\n",
    "df_terms.sort_values(by=\"count\",ascending=False, inplace=True)\n",
    "df_terms"
   ]
  },
  {
   "cell_type": "code",
   "execution_count": 11,
   "metadata": {},
   "outputs": [
    {
     "data": {
      "text/html": [
       "<div>\n",
       "<style scoped>\n",
       "    .dataframe tbody tr th:only-of-type {\n",
       "        vertical-align: middle;\n",
       "    }\n",
       "\n",
       "    .dataframe tbody tr th {\n",
       "        vertical-align: top;\n",
       "    }\n",
       "\n",
       "    .dataframe thead th {\n",
       "        text-align: right;\n",
       "    }\n",
       "</style>\n",
       "<table border=\"1\" class=\"dataframe\">\n",
       "  <thead>\n",
       "    <tr style=\"text-align: right;\">\n",
       "      <th></th>\n",
       "      <th>document_class</th>\n",
       "      <th>count</th>\n",
       "    </tr>\n",
       "  </thead>\n",
       "  <tbody>\n",
       "    <tr>\n",
       "      <th>4</th>\n",
       "      <td>edital licitacao</td>\n",
       "      <td>1156</td>\n",
       "    </tr>\n",
       "    <tr>\n",
       "      <th>41</th>\n",
       "      <td>contrato administrativo</td>\n",
       "      <td>459</td>\n",
       "    </tr>\n",
       "    <tr>\n",
       "      <th>0</th>\n",
       "      <td>ata registro precos</td>\n",
       "      <td>346</td>\n",
       "    </tr>\n",
       "    <tr>\n",
       "      <th>6</th>\n",
       "      <td>edital pregao presencial</td>\n",
       "      <td>344</td>\n",
       "    </tr>\n",
       "    <tr>\n",
       "      <th>40</th>\n",
       "      <td>edital</td>\n",
       "      <td>275</td>\n",
       "    </tr>\n",
       "    <tr>\n",
       "      <th>...</th>\n",
       "      <td>...</td>\n",
       "      <td>...</td>\n",
       "    </tr>\n",
       "    <tr>\n",
       "      <th>174</th>\n",
       "      <td>aviso convocacao colocado</td>\n",
       "      <td>1</td>\n",
       "    </tr>\n",
       "    <tr>\n",
       "      <th>173</th>\n",
       "      <td>aviso decisao proposta</td>\n",
       "      <td>1</td>\n",
       "    </tr>\n",
       "    <tr>\n",
       "      <th>172</th>\n",
       "      <td>planilha mao obra</td>\n",
       "      <td>1</td>\n",
       "    </tr>\n",
       "    <tr>\n",
       "      <th>171</th>\n",
       "      <td>aviso data   divulgacao classificacao proposta</td>\n",
       "      <td>1</td>\n",
       "    </tr>\n",
       "    <tr>\n",
       "      <th>131</th>\n",
       "      <td>ata pregao</td>\n",
       "      <td>1</td>\n",
       "    </tr>\n",
       "  </tbody>\n",
       "</table>\n",
       "<p>263 rows × 2 columns</p>\n",
       "</div>"
      ],
      "text/plain": [
       "                                     document_class  count\n",
       "4                                  edital licitacao   1156\n",
       "41                          contrato administrativo    459\n",
       "0                               ata registro precos    346\n",
       "6                          edital pregao presencial    344\n",
       "40                                           edital    275\n",
       "..                                              ...    ...\n",
       "174                       aviso convocacao colocado      1\n",
       "173                          aviso decisao proposta      1\n",
       "172                               planilha mao obra      1\n",
       "171  aviso data   divulgacao classificacao proposta      1\n",
       "131                                      ata pregao      1\n",
       "\n",
       "[263 rows x 2 columns]"
      ]
     },
     "execution_count": 11,
     "metadata": {},
     "output_type": "execute_result"
    }
   ],
   "source": [
    "df_processed_classes = pd.DataFrame(columns=[\"document_class\", \"count\"])\n",
    "df_processed_classes['document_class'] = Counter(processed_classes).keys()\n",
    "df_processed_classes['count'] = Counter(processed_classes).values()\n",
    "\n",
    "df_processed_classes.sort_values(by=\"count\",ascending=False, inplace=True)\n",
    "df_processed_classes"
   ]
  },
  {
   "cell_type": "markdown",
   "metadata": {},
   "source": [
    "### Exploração das classes"
   ]
  },
  {
   "cell_type": "code",
   "execution_count": 12,
   "metadata": {},
   "outputs": [],
   "source": [
    "df_rotulos.loc[df_rotulos['real_meta-class'].isnull(), 'real_meta-class'] = 'NULL'"
   ]
  },
  {
   "cell_type": "code",
   "execution_count": 13,
   "metadata": {},
   "outputs": [],
   "source": [
    "df_count_class_and_meta = df_rotulos.groupby(['real_meta-class', 'processed_classes']).size().reset_index(name='count').sort_values(by='count', ascending=False)\n",
    "df_count_class_and_meta.to_csv('numero_de_classes_rotuladas.csv',index=False)"
   ]
  },
  {
   "cell_type": "code",
   "execution_count": 14,
   "metadata": {},
   "outputs": [],
   "source": [
    "def explore_class(class_name, df_rotulos):\n",
    "    print(class_name)\n",
    "    display(df_rotulos.loc[df_rotulos['processed_classes'] ==class_name].groupby(\"city\").size())\n",
    "    print(df_rotulos.loc[df_rotulos['processed_classes'] ==class_name, 'city'].unique())\n",
    "    print(df_rotulos.loc[df_rotulos['processed_classes'] ==class_name, 'city'].nunique())\n",
    "    print(\"=\"*100)"
   ]
  },
  {
   "cell_type": "code",
   "execution_count": 15,
   "metadata": {},
   "outputs": [
    {
     "name": "stdout",
     "output_type": "stream",
     "text": [
      "ata registro precos\n"
     ]
    },
    {
     "data": {
      "text/plain": [
       "city\n",
       "coqueiral          253\n",
       "cristais            27\n",
       "passa-vinte          1\n",
       "pirapetinga         58\n",
       "sao-bento-abade      7\n",
       "dtype: int64"
      ]
     },
     "metadata": {},
     "output_type": "display_data"
    },
    {
     "name": "stdout",
     "output_type": "stream",
     "text": [
      "['sao-bento-abade' 'coqueiral' 'cristais' 'pirapetinga' 'passa-vinte']\n",
      "5\n",
      "====================================================================================================\n",
      "ata sessao publica\n"
     ]
    },
    {
     "data": {
      "text/plain": [
       "city\n",
       "passa-vinte         6\n",
       "sao-bento-abade    14\n",
       "dtype: int64"
      ]
     },
     "metadata": {},
     "output_type": "display_data"
    },
    {
     "name": "stdout",
     "output_type": "stream",
     "text": [
      "['sao-bento-abade' 'passa-vinte']\n",
      "2\n",
      "====================================================================================================\n",
      "ata referente fase julgamento empresas\n"
     ]
    },
    {
     "data": {
      "text/plain": [
       "city\n",
       "sao-bento-abade    3\n",
       "dtype: int64"
      ]
     },
     "metadata": {},
     "output_type": "display_data"
    },
    {
     "name": "stdout",
     "output_type": "stream",
     "text": [
      "['sao-bento-abade']\n",
      "1\n",
      "====================================================================================================\n",
      "ata pregao presencial\n"
     ]
    },
    {
     "data": {
      "text/plain": [
       "city\n",
       "cristais           116\n",
       "sao-bento-abade     20\n",
       "dtype: int64"
      ]
     },
     "metadata": {},
     "output_type": "display_data"
    },
    {
     "name": "stdout",
     "output_type": "stream",
     "text": [
      "['sao-bento-abade' 'cristais']\n",
      "2\n",
      "====================================================================================================\n",
      "edital licitacao\n"
     ]
    },
    {
     "data": {
      "text/plain": [
       "city\n",
       "arantina           248\n",
       "coqueiral           16\n",
       "cristais           562\n",
       "itamarati           58\n",
       "passa-vinte        148\n",
       "pirapetinga          7\n",
       "sao-bento-abade    117\n",
       "dtype: int64"
      ]
     },
     "metadata": {},
     "output_type": "display_data"
    },
    {
     "name": "stdout",
     "output_type": "stream",
     "text": [
      "['sao-bento-abade' 'coqueiral' 'cristais' 'pirapetinga' 'passa-vinte'\n",
      " 'arantina' 'itamarati']\n",
      "7\n",
      "====================================================================================================\n",
      "edital registro precos\n"
     ]
    },
    {
     "data": {
      "text/plain": [
       "city\n",
       "cristais           1\n",
       "sao-bento-abade    4\n",
       "dtype: int64"
      ]
     },
     "metadata": {},
     "output_type": "display_data"
    },
    {
     "name": "stdout",
     "output_type": "stream",
     "text": [
      "['sao-bento-abade' 'cristais']\n",
      "2\n",
      "====================================================================================================\n",
      "edital pregao presencial\n"
     ]
    },
    {
     "data": {
      "text/plain": [
       "city\n",
       "coqueiral             69\n",
       "itamarati            121\n",
       "pirapetinga           70\n",
       "ribeirao-vermelho     80\n",
       "sao-bento-abade        4\n",
       "dtype: int64"
      ]
     },
     "metadata": {},
     "output_type": "display_data"
    },
    {
     "name": "stdout",
     "output_type": "stream",
     "text": [
      "['sao-bento-abade' 'coqueiral' 'pirapetinga' 'itamarati'\n",
      " 'ribeirao-vermelho']\n",
      "5\n",
      "====================================================================================================\n",
      "termo homologacao\n"
     ]
    },
    {
     "data": {
      "text/plain": [
       "city\n",
       "sao-bento-abade    1\n",
       "dtype: int64"
      ]
     },
     "metadata": {},
     "output_type": "display_data"
    },
    {
     "name": "stdout",
     "output_type": "stream",
     "text": [
      "['sao-bento-abade']\n",
      "1\n",
      "====================================================================================================\n",
      "homologacao adjudicacao\n"
     ]
    },
    {
     "data": {
      "text/plain": [
       "city\n",
       "itamarati          44\n",
       "sao-bento-abade     1\n",
       "dtype: int64"
      ]
     },
     "metadata": {},
     "output_type": "display_data"
    },
    {
     "name": "stdout",
     "output_type": "stream",
     "text": [
      "['sao-bento-abade' 'itamarati']\n",
      "2\n",
      "====================================================================================================\n",
      "contrato\n"
     ]
    },
    {
     "data": {
      "text/plain": [
       "city\n",
       "coqueiral           7\n",
       "itamarati          17\n",
       "pirapetinga         4\n",
       "sao-bento-abade     6\n",
       "dtype: int64"
      ]
     },
     "metadata": {},
     "output_type": "display_data"
    },
    {
     "name": "stdout",
     "output_type": "stream",
     "text": [
      "['sao-bento-abade' 'coqueiral' 'pirapetinga' 'itamarati']\n",
      "4\n",
      "====================================================================================================\n",
      "aviso remarcacao licitacao\n"
     ]
    },
    {
     "data": {
      "text/plain": [
       "city\n",
       "sao-bento-abade    4\n",
       "dtype: int64"
      ]
     },
     "metadata": {},
     "output_type": "display_data"
    },
    {
     "name": "stdout",
     "output_type": "stream",
     "text": [
      "['sao-bento-abade']\n",
      "1\n",
      "====================================================================================================\n",
      "adendo edital\n"
     ]
    },
    {
     "data": {
      "text/plain": [
       "city\n",
       "cristais            6\n",
       "sao-bento-abade    16\n",
       "dtype: int64"
      ]
     },
     "metadata": {},
     "output_type": "display_data"
    },
    {
     "name": "stdout",
     "output_type": "stream",
     "text": [
      "['sao-bento-abade' 'cristais']\n",
      "2\n",
      "====================================================================================================\n",
      "termo ratificacao\n"
     ]
    },
    {
     "data": {
      "text/plain": [
       "city\n",
       "coqueiral          1\n",
       "passa-vinte        1\n",
       "sao-bento-abade    5\n",
       "dtype: int64"
      ]
     },
     "metadata": {},
     "output_type": "display_data"
    },
    {
     "name": "stdout",
     "output_type": "stream",
     "text": [
      "['sao-bento-abade' 'coqueiral' 'passa-vinte']\n",
      "3\n",
      "====================================================================================================\n",
      "aviso licitacao\n"
     ]
    },
    {
     "data": {
      "text/plain": [
       "city\n",
       "cristais            2\n",
       "itamarati           2\n",
       "pirapetinga        90\n",
       "sao-bento-abade     1\n",
       "dtype: int64"
      ]
     },
     "metadata": {},
     "output_type": "display_data"
    },
    {
     "name": "stdout",
     "output_type": "stream",
     "text": [
      "['sao-bento-abade' 'cristais' 'pirapetinga' 'itamarati']\n",
      "4\n",
      "====================================================================================================\n",
      "aviso anulacao\n"
     ]
    },
    {
     "data": {
      "text/plain": [
       "city\n",
       "sao-bento-abade    1\n",
       "dtype: int64"
      ]
     },
     "metadata": {},
     "output_type": "display_data"
    },
    {
     "name": "stdout",
     "output_type": "stream",
     "text": [
      "['sao-bento-abade']\n",
      "1\n",
      "====================================================================================================\n",
      "anexo\n"
     ]
    },
    {
     "data": {
      "text/plain": [
       "city\n",
       "coqueiral          1\n",
       "sao-bento-abade    2\n",
       "dtype: int64"
      ]
     },
     "metadata": {},
     "output_type": "display_data"
    },
    {
     "name": "stdout",
     "output_type": "stream",
     "text": [
      "['sao-bento-abade' 'coqueiral']\n",
      "2\n",
      "====================================================================================================\n",
      "tutorial\n"
     ]
    },
    {
     "data": {
      "text/plain": [
       "city\n",
       "arantina            1\n",
       "passa-vinte        23\n",
       "sao-bento-abade     1\n",
       "dtype: int64"
      ]
     },
     "metadata": {},
     "output_type": "display_data"
    },
    {
     "name": "stdout",
     "output_type": "stream",
     "text": [
      "['sao-bento-abade' 'passa-vinte' 'arantina']\n",
      "3\n",
      "====================================================================================================\n",
      "aviso suspensao\n"
     ]
    },
    {
     "data": {
      "text/plain": [
       "city\n",
       "cristais           1\n",
       "olaria             2\n",
       "pirapetinga        2\n",
       "sao-bento-abade    5\n",
       "dtype: int64"
      ]
     },
     "metadata": {},
     "output_type": "display_data"
    },
    {
     "name": "stdout",
     "output_type": "stream",
     "text": [
      "['sao-bento-abade' 'olaria' 'cristais' 'pirapetinga']\n",
      "4\n",
      "====================================================================================================\n",
      "edital chamada publica\n"
     ]
    },
    {
     "data": {
      "text/plain": [
       "city\n",
       "arantina           11\n",
       "cristais            1\n",
       "itamarati          16\n",
       "passa-vinte         2\n",
       "sao-bento-abade     4\n",
       "dtype: int64"
      ]
     },
     "metadata": {},
     "output_type": "display_data"
    },
    {
     "name": "stdout",
     "output_type": "stream",
     "text": [
      "['sao-bento-abade' 'cristais' 'passa-vinte' 'arantina' 'itamarati']\n",
      "5\n",
      "====================================================================================================\n",
      "edital credenciamento\n"
     ]
    },
    {
     "data": {
      "text/plain": [
       "city\n",
       "arantina             5\n",
       "coqueiral            2\n",
       "itamarati            2\n",
       "ribeirao-vermelho    2\n",
       "sao-bento-abade      3\n",
       "dtype: int64"
      ]
     },
     "metadata": {},
     "output_type": "display_data"
    },
    {
     "name": "stdout",
     "output_type": "stream",
     "text": [
      "['sao-bento-abade' 'coqueiral' 'arantina' 'itamarati' 'ribeirao-vermelho']\n",
      "5\n",
      "====================================================================================================\n",
      "errata\n"
     ]
    },
    {
     "data": {
      "text/plain": [
       "city\n",
       "arantina              2\n",
       "cristais             10\n",
       "itamarati             2\n",
       "passa-vinte           2\n",
       "ribeirao-vermelho     2\n",
       "sao-bento-abade       1\n",
       "dtype: int64"
      ]
     },
     "metadata": {},
     "output_type": "display_data"
    },
    {
     "name": "stdout",
     "output_type": "stream",
     "text": [
      "['sao-bento-abade' 'cristais' 'passa-vinte' 'arantina' 'itamarati'\n",
      " 'ribeirao-vermelho']\n",
      "6\n",
      "====================================================================================================\n",
      "aviso impugnacao\n"
     ]
    },
    {
     "data": {
      "text/plain": [
       "city\n",
       "sao-bento-abade    2\n",
       "dtype: int64"
      ]
     },
     "metadata": {},
     "output_type": "display_data"
    },
    {
     "name": "stdout",
     "output_type": "stream",
     "text": [
      "['sao-bento-abade']\n",
      "1\n",
      "====================================================================================================\n",
      "processo seletivo\n"
     ]
    },
    {
     "data": {
      "text/plain": [
       "city\n",
       "coqueiral          10\n",
       "cristais            3\n",
       "sao-bento-abade     1\n",
       "dtype: int64"
      ]
     },
     "metadata": {},
     "output_type": "display_data"
    },
    {
     "name": "stdout",
     "output_type": "stream",
     "text": [
      "['sao-bento-abade' 'coqueiral' 'cristais']\n",
      "3\n",
      "====================================================================================================\n",
      "revogacao edital\n"
     ]
    },
    {
     "data": {
      "text/plain": [
       "city\n",
       "olaria             1\n",
       "sao-bento-abade    1\n",
       "dtype: int64"
      ]
     },
     "metadata": {},
     "output_type": "display_data"
    },
    {
     "name": "stdout",
     "output_type": "stream",
     "text": [
      "['sao-bento-abade' 'olaria']\n",
      "2\n",
      "====================================================================================================\n",
      "mail\n"
     ]
    },
    {
     "data": {
      "text/plain": [
       "city\n",
       "cristais           2\n",
       "sao-bento-abade    1\n",
       "dtype: int64"
      ]
     },
     "metadata": {},
     "output_type": "display_data"
    },
    {
     "name": "stdout",
     "output_type": "stream",
     "text": [
      "['sao-bento-abade' 'cristais']\n",
      "2\n",
      "====================================================================================================\n",
      "ata recebimento\n"
     ]
    },
    {
     "data": {
      "text/plain": [
       "city\n",
       "sao-bento-abade    2\n",
       "dtype: int64"
      ]
     },
     "metadata": {},
     "output_type": "display_data"
    },
    {
     "name": "stdout",
     "output_type": "stream",
     "text": [
      "['sao-bento-abade']\n",
      "1\n",
      "====================================================================================================\n",
      "adjudicacao   homologacao\n"
     ]
    },
    {
     "data": {
      "text/plain": [
       "city\n",
       "itamarati          1\n",
       "passa-vinte        7\n",
       "sao-bento-abade    1\n",
       "dtype: int64"
      ]
     },
     "metadata": {},
     "output_type": "display_data"
    },
    {
     "name": "stdout",
     "output_type": "stream",
     "text": [
      "['sao-bento-abade' 'passa-vinte' 'itamarati']\n",
      "3\n",
      "====================================================================================================\n",
      "ata\n"
     ]
    },
    {
     "data": {
      "text/plain": [
       "city\n",
       "coqueiral          35\n",
       "cristais            5\n",
       "sao-bento-abade     1\n",
       "dtype: int64"
      ]
     },
     "metadata": {},
     "output_type": "display_data"
    },
    {
     "name": "stdout",
     "output_type": "stream",
     "text": [
      "['sao-bento-abade' 'coqueiral' 'cristais']\n",
      "3\n",
      "====================================================================================================\n",
      "retificacao edital\n"
     ]
    },
    {
     "data": {
      "text/plain": [
       "city\n",
       "coqueiral    11\n",
       "cristais      6\n",
       "itamarati     2\n",
       "olaria       16\n",
       "dtype: int64"
      ]
     },
     "metadata": {},
     "output_type": "display_data"
    },
    {
     "name": "stdout",
     "output_type": "stream",
     "text": [
      "['olaria' 'coqueiral' 'cristais' 'itamarati']\n",
      "4\n",
      "====================================================================================================\n",
      "projeto\n"
     ]
    },
    {
     "data": {
      "text/plain": [
       "city\n",
       "olaria    2\n",
       "dtype: int64"
      ]
     },
     "metadata": {},
     "output_type": "display_data"
    },
    {
     "name": "stdout",
     "output_type": "stream",
     "text": [
      "['olaria']\n",
      "1\n",
      "====================================================================================================\n",
      "resposta esclarecimento\n"
     ]
    },
    {
     "data": {
      "text/plain": [
       "city\n",
       "arantina       2\n",
       "olaria         7\n",
       "passa-vinte    2\n",
       "dtype: int64"
      ]
     },
     "metadata": {},
     "output_type": "display_data"
    },
    {
     "name": "stdout",
     "output_type": "stream",
     "text": [
      "['olaria' 'passa-vinte' 'arantina']\n",
      "3\n",
      "====================================================================================================\n",
      "cronograma financeiro\n"
     ]
    },
    {
     "data": {
      "text/plain": [
       "city\n",
       "olaria    1\n",
       "dtype: int64"
      ]
     },
     "metadata": {},
     "output_type": "display_data"
    },
    {
     "name": "stdout",
     "output_type": "stream",
     "text": [
      "['olaria']\n",
      "1\n",
      "====================================================================================================\n",
      "plano municipal gestao\n"
     ]
    },
    {
     "data": {
      "text/plain": [
       "city\n",
       "olaria    1\n",
       "dtype: int64"
      ]
     },
     "metadata": {},
     "output_type": "display_data"
    },
    {
     "name": "stdout",
     "output_type": "stream",
     "text": [
      "['olaria']\n",
      "1\n",
      "====================================================================================================\n",
      "identificavel\n"
     ]
    },
    {
     "data": {
      "text/plain": [
       "city\n",
       "cristais    2\n",
       "olaria      1\n",
       "dtype: int64"
      ]
     },
     "metadata": {},
     "output_type": "display_data"
    },
    {
     "name": "stdout",
     "output_type": "stream",
     "text": [
      "['olaria' 'cristais']\n",
      "2\n",
      "====================================================================================================\n",
      "planilha levantamento quantidades\n"
     ]
    },
    {
     "data": {
      "text/plain": [
       "city\n",
       "olaria    1\n",
       "dtype: int64"
      ]
     },
     "metadata": {},
     "output_type": "display_data"
    },
    {
     "name": "stdout",
     "output_type": "stream",
     "text": [
      "['olaria']\n",
      "1\n",
      "====================================================================================================\n",
      "cronograma\n"
     ]
    },
    {
     "data": {
      "text/plain": [
       "city\n",
       "olaria    1\n",
       "dtype: int64"
      ]
     },
     "metadata": {},
     "output_type": "display_data"
    },
    {
     "name": "stdout",
     "output_type": "stream",
     "text": [
      "['olaria']\n",
      "1\n",
      "====================================================================================================\n",
      "levantamento planimetrico\n"
     ]
    },
    {
     "data": {
      "text/plain": [
       "city\n",
       "olaria    2\n",
       "dtype: int64"
      ]
     },
     "metadata": {},
     "output_type": "display_data"
    },
    {
     "name": "stdout",
     "output_type": "stream",
     "text": [
      "['olaria']\n",
      "1\n",
      "====================================================================================================\n",
      "planilha orcamentaria\n"
     ]
    },
    {
     "data": {
      "text/plain": [
       "city\n",
       "olaria         1\n",
       "pirapetinga    4\n",
       "dtype: int64"
      ]
     },
     "metadata": {},
     "output_type": "display_data"
    },
    {
     "name": "stdout",
     "output_type": "stream",
     "text": [
      "['olaria' 'pirapetinga']\n",
      "2\n",
      "====================================================================================================\n",
      "ata pregao srp\n"
     ]
    },
    {
     "data": {
      "text/plain": [
       "city\n",
       "coqueiral    4\n",
       "cristais     3\n",
       "dtype: int64"
      ]
     },
     "metadata": {},
     "output_type": "display_data"
    },
    {
     "name": "stdout",
     "output_type": "stream",
     "text": [
      "['coqueiral' 'cristais']\n",
      "2\n",
      "====================================================================================================\n",
      "alteracao valor ata\n"
     ]
    },
    {
     "data": {
      "text/plain": [
       "city\n",
       "coqueiral    1\n",
       "dtype: int64"
      ]
     },
     "metadata": {},
     "output_type": "display_data"
    },
    {
     "name": "stdout",
     "output_type": "stream",
     "text": [
      "['coqueiral']\n",
      "1\n",
      "====================================================================================================\n",
      "edital\n"
     ]
    },
    {
     "data": {
      "text/plain": [
       "city\n",
       "arantina              19\n",
       "coqueiral            189\n",
       "itamarati             15\n",
       "passa-vinte            1\n",
       "pirapetinga            1\n",
       "ribeirao-vermelho     50\n",
       "dtype: int64"
      ]
     },
     "metadata": {},
     "output_type": "display_data"
    },
    {
     "name": "stdout",
     "output_type": "stream",
     "text": [
      "['coqueiral' 'pirapetinga' 'passa-vinte' 'arantina' 'itamarati'\n",
      " 'ribeirao-vermelho']\n",
      "6\n",
      "====================================================================================================\n",
      "contrato administrativo\n"
     ]
    },
    {
     "data": {
      "text/plain": [
       "city\n",
       "coqueiral      451\n",
       "pirapetinga      8\n",
       "dtype: int64"
      ]
     },
     "metadata": {},
     "output_type": "display_data"
    },
    {
     "name": "stdout",
     "output_type": "stream",
     "text": [
      "['coqueiral' 'pirapetinga']\n",
      "2\n",
      "====================================================================================================\n",
      "aditamento contrato administrativo\n"
     ]
    },
    {
     "data": {
      "text/plain": [
       "city\n",
       "coqueiral    157\n",
       "dtype: int64"
      ]
     },
     "metadata": {},
     "output_type": "display_data"
    },
    {
     "name": "stdout",
     "output_type": "stream",
     "text": [
      "['coqueiral']\n",
      "1\n",
      "====================================================================================================\n",
      "aditamento contrato administrativo   ata\n"
     ]
    },
    {
     "data": {
      "text/plain": [
       "city\n",
       "coqueiral    51\n",
       "dtype: int64"
      ]
     },
     "metadata": {},
     "output_type": "display_data"
    },
    {
     "name": "stdout",
     "output_type": "stream",
     "text": [
      "['coqueiral']\n",
      "1\n",
      "====================================================================================================\n",
      "extrato contrato\n"
     ]
    },
    {
     "data": {
      "text/plain": [
       "city\n",
       "coqueiral       2\n",
       "cristais       25\n",
       "passa-vinte     3\n",
       "pirapetinga     4\n",
       "dtype: int64"
      ]
     },
     "metadata": {},
     "output_type": "display_data"
    },
    {
     "name": "stdout",
     "output_type": "stream",
     "text": [
      "['coqueiral' 'cristais' 'pirapetinga' 'passa-vinte']\n",
      "4\n",
      "====================================================================================================\n",
      "termo apoio emergencial\n"
     ]
    },
    {
     "data": {
      "text/plain": [
       "city\n",
       "coqueiral    12\n",
       "dtype: int64"
      ]
     },
     "metadata": {},
     "output_type": "display_data"
    },
    {
     "name": "stdout",
     "output_type": "stream",
     "text": [
      "['coqueiral']\n",
      "1\n",
      "====================================================================================================\n",
      "distrato contrato administrativo\n"
     ]
    },
    {
     "data": {
      "text/plain": [
       "city\n",
       "coqueiral    3\n",
       "dtype: int64"
      ]
     },
     "metadata": {},
     "output_type": "display_data"
    },
    {
     "name": "stdout",
     "output_type": "stream",
     "text": [
      "['coqueiral']\n",
      "1\n",
      "====================================================================================================\n",
      "revogacao\n"
     ]
    },
    {
     "data": {
      "text/plain": [
       "city\n",
       "coqueiral    1\n",
       "dtype: int64"
      ]
     },
     "metadata": {},
     "output_type": "display_data"
    },
    {
     "name": "stdout",
     "output_type": "stream",
     "text": [
      "['coqueiral']\n",
      "1\n",
      "====================================================================================================\n",
      "resposta impugnacao apresentada\n"
     ]
    },
    {
     "data": {
      "text/plain": [
       "city\n",
       "coqueiral    6\n",
       "dtype: int64"
      ]
     },
     "metadata": {},
     "output_type": "display_data"
    },
    {
     "name": "stdout",
     "output_type": "stream",
     "text": [
      "['coqueiral']\n",
      "1\n",
      "====================================================================================================\n",
      "pedido impugnacao\n"
     ]
    },
    {
     "data": {
      "text/plain": [
       "city\n",
       "coqueiral            2\n",
       "ribeirao-vermelho    1\n",
       "dtype: int64"
      ]
     },
     "metadata": {},
     "output_type": "display_data"
    },
    {
     "name": "stdout",
     "output_type": "stream",
     "text": [
      "['coqueiral' 'ribeirao-vermelho']\n",
      "2\n",
      "====================================================================================================\n",
      "ata avaliacao propostas\n"
     ]
    },
    {
     "data": {
      "text/plain": [
       "city\n",
       "coqueiral    1\n",
       "dtype: int64"
      ]
     },
     "metadata": {},
     "output_type": "display_data"
    },
    {
     "name": "stdout",
     "output_type": "stream",
     "text": [
      "['coqueiral']\n",
      "1\n",
      "====================================================================================================\n",
      "minuta ata registro precos\n"
     ]
    },
    {
     "data": {
      "text/plain": [
       "city\n",
       "coqueiral    1\n",
       "dtype: int64"
      ]
     },
     "metadata": {},
     "output_type": "display_data"
    },
    {
     "name": "stdout",
     "output_type": "stream",
     "text": [
      "['coqueiral']\n",
      "1\n",
      "====================================================================================================\n",
      "ordem servico\n"
     ]
    },
    {
     "data": {
      "text/plain": [
       "city\n",
       "coqueiral    1\n",
       "dtype: int64"
      ]
     },
     "metadata": {},
     "output_type": "display_data"
    },
    {
     "name": "stdout",
     "output_type": "stream",
     "text": [
      "['coqueiral']\n",
      "1\n",
      "====================================================================================================\n",
      "resposta recurso inabilitacao\n"
     ]
    },
    {
     "data": {
      "text/plain": [
       "city\n",
       "coqueiral    1\n",
       "dtype: int64"
      ]
     },
     "metadata": {},
     "output_type": "display_data"
    },
    {
     "name": "stdout",
     "output_type": "stream",
     "text": [
      "['coqueiral']\n",
      "1\n",
      "====================================================================================================\n",
      "resposta impugnacao edital\n"
     ]
    },
    {
     "data": {
      "text/plain": [
       "city\n",
       "coqueiral    10\n",
       "dtype: int64"
      ]
     },
     "metadata": {},
     "output_type": "display_data"
    },
    {
     "name": "stdout",
     "output_type": "stream",
     "text": [
      "['coqueiral']\n",
      "1\n",
      "====================================================================================================\n",
      "edital chamamento publico\n"
     ]
    },
    {
     "data": {
      "text/plain": [
       "city\n",
       "coqueiral            8\n",
       "ribeirao-vermelho    1\n",
       "dtype: int64"
      ]
     },
     "metadata": {},
     "output_type": "display_data"
    },
    {
     "name": "stdout",
     "output_type": "stream",
     "text": [
      "['coqueiral' 'ribeirao-vermelho']\n",
      "2\n",
      "====================================================================================================\n",
      "minuta contrato administrativo\n"
     ]
    },
    {
     "data": {
      "text/plain": [
       "city\n",
       "coqueiral    2\n",
       "dtype: int64"
      ]
     },
     "metadata": {},
     "output_type": "display_data"
    },
    {
     "name": "stdout",
     "output_type": "stream",
     "text": [
      "['coqueiral']\n",
      "1\n",
      "====================================================================================================\n",
      "outros\n"
     ]
    },
    {
     "data": {
      "text/plain": [
       "city\n",
       "arantina     1\n",
       "coqueiral    2\n",
       "dtype: int64"
      ]
     },
     "metadata": {},
     "output_type": "display_data"
    },
    {
     "name": "stdout",
     "output_type": "stream",
     "text": [
      "['coqueiral' 'arantina']\n",
      "2\n",
      "====================================================================================================\n",
      "termo colaboracao\n"
     ]
    },
    {
     "data": {
      "text/plain": [
       "city\n",
       "coqueiral    1\n",
       "dtype: int64"
      ]
     },
     "metadata": {},
     "output_type": "display_data"
    },
    {
     "name": "stdout",
     "output_type": "stream",
     "text": [
      "['coqueiral']\n",
      "1\n",
      "====================================================================================================\n",
      "re retificacao edital\n"
     ]
    },
    {
     "data": {
      "text/plain": [
       "city\n",
       "coqueiral    1\n",
       "dtype: int64"
      ]
     },
     "metadata": {},
     "output_type": "display_data"
    },
    {
     "name": "stdout",
     "output_type": "stream",
     "text": [
      "['coqueiral']\n",
      "1\n",
      "====================================================================================================\n",
      "resposta recursos administrativos\n"
     ]
    },
    {
     "data": {
      "text/plain": [
       "city\n",
       "coqueiral    1\n",
       "dtype: int64"
      ]
     },
     "metadata": {},
     "output_type": "display_data"
    },
    {
     "name": "stdout",
     "output_type": "stream",
     "text": [
      "['coqueiral']\n",
      "1\n",
      "====================================================================================================\n",
      "minuta aditamento contrato administrativo   ata\n"
     ]
    },
    {
     "data": {
      "text/plain": [
       "city\n",
       "coqueiral    1\n",
       "dtype: int64"
      ]
     },
     "metadata": {},
     "output_type": "display_data"
    },
    {
     "name": "stdout",
     "output_type": "stream",
     "text": [
      "['coqueiral']\n",
      "1\n",
      "====================================================================================================\n",
      "resposta questionamento\n"
     ]
    },
    {
     "data": {
      "text/plain": [
       "city\n",
       "coqueiral    3\n",
       "dtype: int64"
      ]
     },
     "metadata": {},
     "output_type": "display_data"
    },
    {
     "name": "stdout",
     "output_type": "stream",
     "text": [
      "['coqueiral']\n",
      "1\n",
      "====================================================================================================\n",
      "errata edital\n"
     ]
    },
    {
     "data": {
      "text/plain": [
       "city\n",
       "coqueiral    9\n",
       "dtype: int64"
      ]
     },
     "metadata": {},
     "output_type": "display_data"
    },
    {
     "name": "stdout",
     "output_type": "stream",
     "text": [
      "['coqueiral']\n",
      "1\n",
      "====================================================================================================\n",
      "memorial descritivo\n"
     ]
    },
    {
     "data": {
      "text/plain": [
       "city\n",
       "coqueiral       7\n",
       "pirapetinga    13\n",
       "dtype: int64"
      ]
     },
     "metadata": {},
     "output_type": "display_data"
    },
    {
     "name": "stdout",
     "output_type": "stream",
     "text": [
      "['coqueiral' 'pirapetinga']\n",
      "2\n",
      "====================================================================================================\n",
      "declaracao acessibilidade\n"
     ]
    },
    {
     "data": {
      "text/plain": [
       "city\n",
       "coqueiral    2\n",
       "dtype: int64"
      ]
     },
     "metadata": {},
     "output_type": "display_data"
    },
    {
     "name": "stdout",
     "output_type": "stream",
     "text": [
      "['coqueiral']\n",
      "1\n",
      "====================================================================================================\n",
      "decisao impugnacao\n"
     ]
    },
    {
     "data": {
      "text/plain": [
       "city\n",
       "coqueiral    1\n",
       "dtype: int64"
      ]
     },
     "metadata": {},
     "output_type": "display_data"
    },
    {
     "name": "stdout",
     "output_type": "stream",
     "text": [
      "['coqueiral']\n",
      "1\n",
      "====================================================================================================\n",
      "projeto arquitetonico\n"
     ]
    },
    {
     "data": {
      "text/plain": [
       "city\n",
       "coqueiral      13\n",
       "pirapetinga    21\n",
       "dtype: int64"
      ]
     },
     "metadata": {},
     "output_type": "display_data"
    },
    {
     "name": "stdout",
     "output_type": "stream",
     "text": [
      "['coqueiral' 'pirapetinga']\n",
      "2\n",
      "====================================================================================================\n",
      "declaracao dmt\n"
     ]
    },
    {
     "data": {
      "text/plain": [
       "city\n",
       "coqueiral    1\n",
       "dtype: int64"
      ]
     },
     "metadata": {},
     "output_type": "display_data"
    },
    {
     "name": "stdout",
     "output_type": "stream",
     "text": [
      "['coqueiral']\n",
      "1\n",
      "====================================================================================================\n",
      "composicao bdi\n"
     ]
    },
    {
     "data": {
      "text/plain": [
       "city\n",
       "coqueiral      4\n",
       "pirapetinga    6\n",
       "dtype: int64"
      ]
     },
     "metadata": {},
     "output_type": "display_data"
    },
    {
     "name": "stdout",
     "output_type": "stream",
     "text": [
      "['coqueiral' 'pirapetinga']\n",
      "2\n",
      "====================================================================================================\n",
      "cronograma fisico financeiro\n"
     ]
    },
    {
     "data": {
      "text/plain": [
       "city\n",
       "coqueiral      6\n",
       "pirapetinga    9\n",
       "dtype: int64"
      ]
     },
     "metadata": {},
     "output_type": "display_data"
    },
    {
     "name": "stdout",
     "output_type": "stream",
     "text": [
      "['coqueiral' 'pirapetinga']\n",
      "2\n",
      "====================================================================================================\n",
      "ordem servico obra\n"
     ]
    },
    {
     "data": {
      "text/plain": [
       "city\n",
       "coqueiral    13\n",
       "dtype: int64"
      ]
     },
     "metadata": {},
     "output_type": "display_data"
    },
    {
     "name": "stdout",
     "output_type": "stream",
     "text": [
      "['coqueiral']\n",
      "1\n",
      "====================================================================================================\n",
      "planilha orcamentaria custos\n"
     ]
    },
    {
     "data": {
      "text/plain": [
       "city\n",
       "coqueiral    4\n",
       "dtype: int64"
      ]
     },
     "metadata": {},
     "output_type": "display_data"
    },
    {
     "name": "stdout",
     "output_type": "stream",
     "text": [
      "['coqueiral']\n",
      "1\n",
      "====================================================================================================\n",
      "questionamento\n"
     ]
    },
    {
     "data": {
      "text/plain": [
       "city\n",
       "coqueiral    1\n",
       "dtype: int64"
      ]
     },
     "metadata": {},
     "output_type": "display_data"
    },
    {
     "name": "stdout",
     "output_type": "stream",
     "text": [
      "['coqueiral']\n",
      "1\n",
      "====================================================================================================\n",
      "termo fomento\n"
     ]
    },
    {
     "data": {
      "text/plain": [
       "city\n",
       "coqueiral    1\n",
       "dtype: int64"
      ]
     },
     "metadata": {},
     "output_type": "display_data"
    },
    {
     "name": "stdout",
     "output_type": "stream",
     "text": [
      "['coqueiral']\n",
      "1\n",
      "====================================================================================================\n",
      "cotacao preco medio\n"
     ]
    },
    {
     "data": {
      "text/plain": [
       "city\n",
       "coqueiral    3\n",
       "dtype: int64"
      ]
     },
     "metadata": {},
     "output_type": "display_data"
    },
    {
     "name": "stdout",
     "output_type": "stream",
     "text": [
      "['coqueiral']\n",
      "1\n",
      "====================================================================================================\n",
      "memoria calculo\n"
     ]
    },
    {
     "data": {
      "text/plain": [
       "city\n",
       "coqueiral      3\n",
       "pirapetinga    9\n",
       "dtype: int64"
      ]
     },
     "metadata": {},
     "output_type": "display_data"
    },
    {
     "name": "stdout",
     "output_type": "stream",
     "text": [
      "['coqueiral' 'pirapetinga']\n",
      "2\n",
      "====================================================================================================\n",
      "grafico distribuicao valores   item\n"
     ]
    },
    {
     "data": {
      "text/plain": [
       "city\n",
       "coqueiral    2\n",
       "dtype: int64"
      ]
     },
     "metadata": {},
     "output_type": "display_data"
    },
    {
     "name": "stdout",
     "output_type": "stream",
     "text": [
      "['coqueiral']\n",
      "1\n",
      "====================================================================================================\n",
      "custos totais   item\n"
     ]
    },
    {
     "data": {
      "text/plain": [
       "city\n",
       "coqueiral    1\n",
       "dtype: int64"
      ]
     },
     "metadata": {},
     "output_type": "display_data"
    },
    {
     "name": "stdout",
     "output_type": "stream",
     "text": [
      "['coqueiral']\n",
      "1\n",
      "====================================================================================================\n",
      "grafico demonstrativo servicos\n"
     ]
    },
    {
     "data": {
      "text/plain": [
       "city\n",
       "coqueiral    1\n",
       "dtype: int64"
      ]
     },
     "metadata": {},
     "output_type": "display_data"
    },
    {
     "name": "stdout",
     "output_type": "stream",
     "text": [
      "['coqueiral']\n",
      "1\n",
      "====================================================================================================\n",
      "resposta pedido reconsideracao recurso\n"
     ]
    },
    {
     "data": {
      "text/plain": [
       "city\n",
       "coqueiral    1\n",
       "dtype: int64"
      ]
     },
     "metadata": {},
     "output_type": "display_data"
    },
    {
     "name": "stdout",
     "output_type": "stream",
     "text": [
      "['coqueiral']\n",
      "1\n",
      "====================================================================================================\n",
      "aviso retificacao item\n"
     ]
    },
    {
     "data": {
      "text/plain": [
       "city\n",
       "coqueiral    1\n",
       "dtype: int64"
      ]
     },
     "metadata": {},
     "output_type": "display_data"
    },
    {
     "name": "stdout",
     "output_type": "stream",
     "text": [
      "['coqueiral']\n",
      "1\n",
      "====================================================================================================\n",
      "aviso retificacao edital\n"
     ]
    },
    {
     "data": {
      "text/plain": [
       "city\n",
       "coqueiral    5\n",
       "dtype: int64"
      ]
     },
     "metadata": {},
     "output_type": "display_data"
    },
    {
     "name": "stdout",
     "output_type": "stream",
     "text": [
      "['coqueiral']\n",
      "1\n",
      "====================================================================================================\n",
      "contrato adesao diario oficial\n"
     ]
    },
    {
     "data": {
      "text/plain": [
       "city\n",
       "coqueiral    1\n",
       "dtype: int64"
      ]
     },
     "metadata": {},
     "output_type": "display_data"
    },
    {
     "name": "stdout",
     "output_type": "stream",
     "text": [
      "['coqueiral']\n",
      "1\n",
      "====================================================================================================\n",
      "justificativa julgamento item\n"
     ]
    },
    {
     "data": {
      "text/plain": [
       "city\n",
       "coqueiral    1\n",
       "dtype: int64"
      ]
     },
     "metadata": {},
     "output_type": "display_data"
    },
    {
     "name": "stdout",
     "output_type": "stream",
     "text": [
      "['coqueiral']\n",
      "1\n",
      "====================================================================================================\n",
      "contrato fornecimento bens\n"
     ]
    },
    {
     "data": {
      "text/plain": [
       "city\n",
       "coqueiral    9\n",
       "dtype: int64"
      ]
     },
     "metadata": {},
     "output_type": "display_data"
    },
    {
     "name": "stdout",
     "output_type": "stream",
     "text": [
      "['coqueiral']\n",
      "1\n",
      "====================================================================================================\n",
      "aditamento contrato prestacao servicos\n"
     ]
    },
    {
     "data": {
      "text/plain": [
       "city\n",
       "coqueiral    2\n",
       "dtype: int64"
      ]
     },
     "metadata": {},
     "output_type": "display_data"
    },
    {
     "name": "stdout",
     "output_type": "stream",
     "text": [
      "['coqueiral']\n",
      "1\n",
      "====================================================================================================\n",
      "termo revogacao certame\n"
     ]
    },
    {
     "data": {
      "text/plain": [
       "city\n",
       "coqueiral    3\n",
       "dtype: int64"
      ]
     },
     "metadata": {},
     "output_type": "display_data"
    },
    {
     "name": "stdout",
     "output_type": "stream",
     "text": [
      "['coqueiral']\n",
      "1\n",
      "====================================================================================================\n",
      "distrato ata registro precos\n"
     ]
    },
    {
     "data": {
      "text/plain": [
       "city\n",
       "coqueiral    1\n",
       "dtype: int64"
      ]
     },
     "metadata": {},
     "output_type": "display_data"
    },
    {
     "name": "stdout",
     "output_type": "stream",
     "text": [
      "['coqueiral']\n",
      "1\n",
      "====================================================================================================\n",
      "contrato servicos\n"
     ]
    },
    {
     "data": {
      "text/plain": [
       "city\n",
       "coqueiral    5\n",
       "dtype: int64"
      ]
     },
     "metadata": {},
     "output_type": "display_data"
    },
    {
     "name": "stdout",
     "output_type": "stream",
     "text": [
      "['coqueiral']\n",
      "1\n",
      "====================================================================================================\n",
      "impugnacao edital\n"
     ]
    },
    {
     "data": {
      "text/plain": [
       "city\n",
       "coqueiral    1\n",
       "dtype: int64"
      ]
     },
     "metadata": {},
     "output_type": "display_data"
    },
    {
     "name": "stdout",
     "output_type": "stream",
     "text": [
      "['coqueiral']\n",
      "1\n",
      "====================================================================================================\n",
      "resposta recurso\n"
     ]
    },
    {
     "data": {
      "text/plain": [
       "city\n",
       "coqueiral    2\n",
       "dtype: int64"
      ]
     },
     "metadata": {},
     "output_type": "display_data"
    },
    {
     "name": "stdout",
     "output_type": "stream",
     "text": [
      "['coqueiral']\n",
      "1\n",
      "====================================================================================================\n",
      "cotacao\n"
     ]
    },
    {
     "data": {
      "text/plain": [
       "city\n",
       "coqueiral    1\n",
       "dtype: int64"
      ]
     },
     "metadata": {},
     "output_type": "display_data"
    },
    {
     "name": "stdout",
     "output_type": "stream",
     "text": [
      "['coqueiral']\n",
      "1\n",
      "====================================================================================================\n",
      "instrucoes uso   sistema web\n"
     ]
    },
    {
     "data": {
      "text/plain": [
       "city\n",
       "coqueiral    1\n",
       "dtype: int64"
      ]
     },
     "metadata": {},
     "output_type": "display_data"
    },
    {
     "name": "stdout",
     "output_type": "stream",
     "text": [
      "['coqueiral']\n",
      "1\n",
      "====================================================================================================\n",
      "errada edital\n"
     ]
    },
    {
     "data": {
      "text/plain": [
       "city\n",
       "coqueiral    1\n",
       "dtype: int64"
      ]
     },
     "metadata": {},
     "output_type": "display_data"
    },
    {
     "name": "stdout",
     "output_type": "stream",
     "text": [
      "['coqueiral']\n",
      "1\n",
      "====================================================================================================\n",
      "aviso retificacao\n"
     ]
    },
    {
     "data": {
      "text/plain": [
       "city\n",
       "coqueiral    5\n",
       "dtype: int64"
      ]
     },
     "metadata": {},
     "output_type": "display_data"
    },
    {
     "name": "stdout",
     "output_type": "stream",
     "text": [
      "['coqueiral']\n",
      "1\n",
      "====================================================================================================\n",
      "termo aditamento contrato\n"
     ]
    },
    {
     "data": {
      "text/plain": [
       "city\n",
       "coqueiral    4\n",
       "dtype: int64"
      ]
     },
     "metadata": {},
     "output_type": "display_data"
    },
    {
     "name": "stdout",
     "output_type": "stream",
     "text": [
      "['coqueiral']\n",
      "1\n",
      "====================================================================================================\n",
      "planilha precos\n"
     ]
    },
    {
     "data": {
      "text/plain": [
       "city\n",
       "coqueiral    1\n",
       "dtype: int64"
      ]
     },
     "metadata": {},
     "output_type": "display_data"
    },
    {
     "name": "stdout",
     "output_type": "stream",
     "text": [
      "['coqueiral']\n",
      "1\n",
      "====================================================================================================\n",
      "aditamento termo colaboracao\n"
     ]
    },
    {
     "data": {
      "text/plain": [
       "city\n",
       "coqueiral    1\n",
       "dtype: int64"
      ]
     },
     "metadata": {},
     "output_type": "display_data"
    },
    {
     "name": "stdout",
     "output_type": "stream",
     "text": [
      "['coqueiral']\n",
      "1\n",
      "====================================================================================================\n",
      "edital tomada precos\n"
     ]
    },
    {
     "data": {
      "text/plain": [
       "city\n",
       "coqueiral             3\n",
       "pirapetinga          12\n",
       "ribeirao-vermelho    14\n",
       "dtype: int64"
      ]
     },
     "metadata": {},
     "output_type": "display_data"
    },
    {
     "name": "stdout",
     "output_type": "stream",
     "text": [
      "['coqueiral' 'pirapetinga' 'ribeirao-vermelho']\n",
      "3\n",
      "====================================================================================================\n",
      "extrato publicacao\n"
     ]
    },
    {
     "data": {
      "text/plain": [
       "city\n",
       "coqueiral    2\n",
       "itamarati    1\n",
       "dtype: int64"
      ]
     },
     "metadata": {},
     "output_type": "display_data"
    },
    {
     "name": "stdout",
     "output_type": "stream",
     "text": [
      "['coqueiral' 'itamarati']\n",
      "2\n",
      "====================================================================================================\n",
      "extrato contratos\n"
     ]
    },
    {
     "data": {
      "text/plain": [
       "city\n",
       "coqueiral    14\n",
       "dtype: int64"
      ]
     },
     "metadata": {},
     "output_type": "display_data"
    },
    {
     "name": "stdout",
     "output_type": "stream",
     "text": [
      "['coqueiral']\n",
      "1\n",
      "====================================================================================================\n",
      "extrato edital\n"
     ]
    },
    {
     "data": {
      "text/plain": [
       "city\n",
       "coqueiral    3\n",
       "dtype: int64"
      ]
     },
     "metadata": {},
     "output_type": "display_data"
    },
    {
     "name": "stdout",
     "output_type": "stream",
     "text": [
      "['coqueiral']\n",
      "1\n",
      "====================================================================================================\n",
      "cancelamento licitacao\n"
     ]
    },
    {
     "data": {
      "text/plain": [
       "city\n",
       "coqueiral    1\n",
       "dtype: int64"
      ]
     },
     "metadata": {},
     "output_type": "display_data"
    },
    {
     "name": "stdout",
     "output_type": "stream",
     "text": [
      "['coqueiral']\n",
      "1\n",
      "====================================================================================================\n",
      "aviso chamamento publico\n"
     ]
    },
    {
     "data": {
      "text/plain": [
       "city\n",
       "coqueiral    21\n",
       "cristais      2\n",
       "dtype: int64"
      ]
     },
     "metadata": {},
     "output_type": "display_data"
    },
    {
     "name": "stdout",
     "output_type": "stream",
     "text": [
      "['coqueiral' 'cristais']\n",
      "2\n",
      "====================================================================================================\n",
      "extrato edital leilao\n"
     ]
    },
    {
     "data": {
      "text/plain": [
       "city\n",
       "coqueiral    2\n",
       "dtype: int64"
      ]
     },
     "metadata": {},
     "output_type": "display_data"
    },
    {
     "name": "stdout",
     "output_type": "stream",
     "text": [
      "['coqueiral']\n",
      "1\n",
      "====================================================================================================\n",
      "comunicado   realizaco audiencia publica\n"
     ]
    },
    {
     "data": {
      "text/plain": [
       "city\n",
       "coqueiral    1\n",
       "dtype: int64"
      ]
     },
     "metadata": {},
     "output_type": "display_data"
    },
    {
     "name": "stdout",
     "output_type": "stream",
     "text": [
      "['coqueiral']\n",
      "1\n",
      "====================================================================================================\n",
      "extrato edital pregao presencial\n"
     ]
    },
    {
     "data": {
      "text/plain": [
       "city\n",
       "coqueiral    1\n",
       "dtype: int64"
      ]
     },
     "metadata": {},
     "output_type": "display_data"
    },
    {
     "name": "stdout",
     "output_type": "stream",
     "text": [
      "['coqueiral']\n",
      "1\n",
      "====================================================================================================\n",
      "edital leilao publico\n"
     ]
    },
    {
     "data": {
      "text/plain": [
       "city\n",
       "coqueiral    2\n",
       "dtype: int64"
      ]
     },
     "metadata": {},
     "output_type": "display_data"
    },
    {
     "name": "stdout",
     "output_type": "stream",
     "text": [
      "['coqueiral']\n",
      "1\n",
      "====================================================================================================\n",
      "resultado processo seletivo\n"
     ]
    },
    {
     "data": {
      "text/plain": [
       "city\n",
       "coqueiral    1\n",
       "cristais     2\n",
       "dtype: int64"
      ]
     },
     "metadata": {},
     "output_type": "display_data"
    },
    {
     "name": "stdout",
     "output_type": "stream",
     "text": [
      "['coqueiral' 'cristais']\n",
      "2\n",
      "====================================================================================================\n",
      "termo ratificacao anulacao\n"
     ]
    },
    {
     "data": {
      "text/plain": [
       "city\n",
       "coqueiral    1\n",
       "dtype: int64"
      ]
     },
     "metadata": {},
     "output_type": "display_data"
    },
    {
     "name": "stdout",
     "output_type": "stream",
     "text": [
      "['coqueiral']\n",
      "1\n",
      "====================================================================================================\n",
      "edital concurso publico\n"
     ]
    },
    {
     "data": {
      "text/plain": [
       "city\n",
       "coqueiral    1\n",
       "cristais     7\n",
       "dtype: int64"
      ]
     },
     "metadata": {},
     "output_type": "display_data"
    },
    {
     "name": "stdout",
     "output_type": "stream",
     "text": [
      "['coqueiral' 'cristais']\n",
      "2\n",
      "====================================================================================================\n",
      "gabarito processo seletivo\n"
     ]
    },
    {
     "data": {
      "text/plain": [
       "city\n",
       "coqueiral    1\n",
       "dtype: int64"
      ]
     },
     "metadata": {},
     "output_type": "display_data"
    },
    {
     "name": "stdout",
     "output_type": "stream",
     "text": [
      "['coqueiral']\n",
      "1\n",
      "====================================================================================================\n",
      "ratificacao\n"
     ]
    },
    {
     "data": {
      "text/plain": [
       "city\n",
       "coqueiral       1\n",
       "passa-vinte     9\n",
       "pirapetinga    46\n",
       "dtype: int64"
      ]
     },
     "metadata": {},
     "output_type": "display_data"
    },
    {
     "name": "stdout",
     "output_type": "stream",
     "text": [
      "['coqueiral' 'pirapetinga' 'passa-vinte']\n",
      "3\n",
      "====================================================================================================\n",
      "convite\n"
     ]
    },
    {
     "data": {
      "text/plain": [
       "city\n",
       "coqueiral    1\n",
       "dtype: int64"
      ]
     },
     "metadata": {},
     "output_type": "display_data"
    },
    {
     "name": "stdout",
     "output_type": "stream",
     "text": [
      "['coqueiral']\n",
      "1\n",
      "====================================================================================================\n",
      "extrato ata sessao\n"
     ]
    },
    {
     "data": {
      "text/plain": [
       "city\n",
       "coqueiral    1\n",
       "dtype: int64"
      ]
     },
     "metadata": {},
     "output_type": "display_data"
    },
    {
     "name": "stdout",
     "output_type": "stream",
     "text": [
      "['coqueiral']\n",
      "1\n",
      "====================================================================================================\n",
      "relacao candidato   vaga retificado\n"
     ]
    },
    {
     "data": {
      "text/plain": [
       "city\n",
       "coqueiral    1\n",
       "dtype: int64"
      ]
     },
     "metadata": {},
     "output_type": "display_data"
    },
    {
     "name": "stdout",
     "output_type": "stream",
     "text": [
      "['coqueiral']\n",
      "1\n",
      "====================================================================================================\n",
      "aviso retificacao processo licitatorio\n"
     ]
    },
    {
     "data": {
      "text/plain": [
       "city\n",
       "coqueiral    1\n",
       "dtype: int64"
      ]
     },
     "metadata": {},
     "output_type": "display_data"
    },
    {
     "name": "stdout",
     "output_type": "stream",
     "text": [
      "['coqueiral']\n",
      "1\n",
      "====================================================================================================\n",
      "ata dispensa\n"
     ]
    },
    {
     "data": {
      "text/plain": [
       "city\n",
       "cristais    177\n",
       "dtype: int64"
      ]
     },
     "metadata": {},
     "output_type": "display_data"
    },
    {
     "name": "stdout",
     "output_type": "stream",
     "text": [
      "['cristais']\n",
      "1\n",
      "====================================================================================================\n",
      "ata sessao abetura licitacao\n"
     ]
    },
    {
     "data": {
      "text/plain": [
       "city\n",
       "cristais       9\n",
       "pirapetinga    1\n",
       "dtype: int64"
      ]
     },
     "metadata": {},
     "output_type": "display_data"
    },
    {
     "name": "stdout",
     "output_type": "stream",
     "text": [
      "['cristais' 'pirapetinga']\n",
      "2\n",
      "====================================================================================================\n",
      "ata julgamento recursos\n"
     ]
    },
    {
     "data": {
      "text/plain": [
       "city\n",
       "cristais    2\n",
       "dtype: int64"
      ]
     },
     "metadata": {},
     "output_type": "display_data"
    },
    {
     "name": "stdout",
     "output_type": "stream",
     "text": [
      "['cristais']\n",
      "1\n",
      "====================================================================================================\n",
      "homologacao\n"
     ]
    },
    {
     "data": {
      "text/plain": [
       "city\n",
       "cristais        2\n",
       "pirapetinga    56\n",
       "dtype: int64"
      ]
     },
     "metadata": {},
     "output_type": "display_data"
    },
    {
     "name": "stdout",
     "output_type": "stream",
     "text": [
      "['cristais' 'pirapetinga']\n",
      "2\n",
      "====================================================================================================\n",
      "gasto homologado\n"
     ]
    },
    {
     "data": {
      "text/plain": [
       "city\n",
       "cristais    126\n",
       "dtype: int64"
      ]
     },
     "metadata": {},
     "output_type": "display_data"
    },
    {
     "name": "stdout",
     "output_type": "stream",
     "text": [
      "['cristais']\n",
      "1\n",
      "====================================================================================================\n",
      "extrato ata\n"
     ]
    },
    {
     "data": {
      "text/plain": [
       "city\n",
       "cristais       52\n",
       "passa-vinte     4\n",
       "dtype: int64"
      ]
     },
     "metadata": {},
     "output_type": "display_data"
    },
    {
     "name": "stdout",
     "output_type": "stream",
     "text": [
      "['cristais' 'passa-vinte']\n",
      "2\n",
      "====================================================================================================\n",
      "publicacao diario oficial\n"
     ]
    },
    {
     "data": {
      "text/plain": [
       "city\n",
       "cristais        4\n",
       "passa-vinte    70\n",
       "dtype: int64"
      ]
     },
     "metadata": {},
     "output_type": "display_data"
    },
    {
     "name": "stdout",
     "output_type": "stream",
     "text": [
      "['cristais' 'passa-vinte']\n",
      "2\n",
      "====================================================================================================\n",
      "termo referencia\n"
     ]
    },
    {
     "data": {
      "text/plain": [
       "city\n",
       "cristais    18\n",
       "dtype: int64"
      ]
     },
     "metadata": {},
     "output_type": "display_data"
    },
    {
     "name": "stdout",
     "output_type": "stream",
     "text": [
      "['cristais']\n",
      "1\n",
      "====================================================================================================\n",
      "retificacao edital pregao presencial\n"
     ]
    },
    {
     "data": {
      "text/plain": [
       "city\n",
       "cristais     1\n",
       "itamarati    1\n",
       "dtype: int64"
      ]
     },
     "metadata": {},
     "output_type": "display_data"
    },
    {
     "name": "stdout",
     "output_type": "stream",
     "text": [
      "['cristais' 'itamarati']\n",
      "2\n",
      "====================================================================================================\n",
      "parecer juridico\n"
     ]
    },
    {
     "data": {
      "text/plain": [
       "city\n",
       "cristais             2\n",
       "ribeirao-vermelho    1\n",
       "dtype: int64"
      ]
     },
     "metadata": {},
     "output_type": "display_data"
    },
    {
     "name": "stdout",
     "output_type": "stream",
     "text": [
      "['cristais' 'ribeirao-vermelho']\n",
      "2\n",
      "====================================================================================================\n",
      "extrato   titulo\n"
     ]
    },
    {
     "data": {
      "text/plain": [
       "city\n",
       "cristais    4\n",
       "dtype: int64"
      ]
     },
     "metadata": {},
     "output_type": "display_data"
    },
    {
     "name": "stdout",
     "output_type": "stream",
     "text": [
      "['cristais']\n",
      "1\n",
      "====================================================================================================\n",
      "despacho\n"
     ]
    },
    {
     "data": {
      "text/plain": [
       "city\n",
       "cristais    4\n",
       "dtype: int64"
      ]
     },
     "metadata": {},
     "output_type": "display_data"
    },
    {
     "name": "stdout",
     "output_type": "stream",
     "text": [
      "['cristais']\n",
      "1\n",
      "====================================================================================================\n",
      "ata chamada publica\n"
     ]
    },
    {
     "data": {
      "text/plain": [
       "city\n",
       "cristais    1\n",
       "dtype: int64"
      ]
     },
     "metadata": {},
     "output_type": "display_data"
    },
    {
     "name": "stdout",
     "output_type": "stream",
     "text": [
      "['cristais']\n",
      "1\n",
      "====================================================================================================\n",
      "ata pregao\n"
     ]
    },
    {
     "data": {
      "text/plain": [
       "city\n",
       "cristais    1\n",
       "dtype: int64"
      ]
     },
     "metadata": {},
     "output_type": "display_data"
    },
    {
     "name": "stdout",
     "output_type": "stream",
     "text": [
      "['cristais']\n",
      "1\n",
      "====================================================================================================\n",
      "ata reuniao pregao presencial\n"
     ]
    },
    {
     "data": {
      "text/plain": [
       "city\n",
       "cristais     3\n",
       "itamarati    1\n",
       "dtype: int64"
      ]
     },
     "metadata": {},
     "output_type": "display_data"
    },
    {
     "name": "stdout",
     "output_type": "stream",
     "text": [
      "['cristais' 'itamarati']\n",
      "2\n",
      "====================================================================================================\n",
      "ata julgamento\n"
     ]
    },
    {
     "data": {
      "text/plain": [
       "city\n",
       "cristais       2\n",
       "pirapetinga    3\n",
       "dtype: int64"
      ]
     },
     "metadata": {},
     "output_type": "display_data"
    },
    {
     "name": "stdout",
     "output_type": "stream",
     "text": [
      "['cristais' 'pirapetinga']\n",
      "2\n",
      "====================================================================================================\n",
      "ata inexigibilidade licitacao\n"
     ]
    },
    {
     "data": {
      "text/plain": [
       "city\n",
       "cristais    8\n",
       "dtype: int64"
      ]
     },
     "metadata": {},
     "output_type": "display_data"
    },
    {
     "name": "stdout",
     "output_type": "stream",
     "text": [
      "['cristais']\n",
      "1\n",
      "====================================================================================================\n",
      "extrato diario oficial\n"
     ]
    },
    {
     "data": {
      "text/plain": [
       "city\n",
       "cristais       76\n",
       "passa-vinte     5\n",
       "dtype: int64"
      ]
     },
     "metadata": {},
     "output_type": "display_data"
    },
    {
     "name": "stdout",
     "output_type": "stream",
     "text": [
      "['cristais' 'passa-vinte']\n",
      "2\n",
      "====================================================================================================\n",
      "ata habilitacao   julgamento\n"
     ]
    },
    {
     "data": {
      "text/plain": [
       "city\n",
       "cristais    1\n",
       "dtype: int64"
      ]
     },
     "metadata": {},
     "output_type": "display_data"
    },
    {
     "name": "stdout",
     "output_type": "stream",
     "text": [
      "['cristais']\n",
      "1\n",
      "====================================================================================================\n",
      "ata cancelamento\n"
     ]
    },
    {
     "data": {
      "text/plain": [
       "city\n",
       "cristais    1\n",
       "dtype: int64"
      ]
     },
     "metadata": {},
     "output_type": "display_data"
    },
    {
     "name": "stdout",
     "output_type": "stream",
     "text": [
      "['cristais']\n",
      "1\n",
      "====================================================================================================\n",
      "resultado licitacao\n"
     ]
    },
    {
     "data": {
      "text/plain": [
       "city\n",
       "cristais    1\n",
       "dtype: int64"
      ]
     },
     "metadata": {},
     "output_type": "display_data"
    },
    {
     "name": "stdout",
     "output_type": "stream",
     "text": [
      "['cristais']\n",
      "1\n",
      "====================================================================================================\n",
      "solicitacao judicial\n"
     ]
    },
    {
     "data": {
      "text/plain": [
       "city\n",
       "cristais    1\n",
       "dtype: int64"
      ]
     },
     "metadata": {},
     "output_type": "display_data"
    },
    {
     "name": "stdout",
     "output_type": "stream",
     "text": [
      "['cristais']\n",
      "1\n",
      "====================================================================================================\n",
      "adendo edital   errata\n"
     ]
    },
    {
     "data": {
      "text/plain": [
       "city\n",
       "cristais    1\n",
       "dtype: int64"
      ]
     },
     "metadata": {},
     "output_type": "display_data"
    },
    {
     "name": "stdout",
     "output_type": "stream",
     "text": [
      "['cristais']\n",
      "1\n",
      "====================================================================================================\n",
      "relacao inscritos\n"
     ]
    },
    {
     "data": {
      "text/plain": [
       "city\n",
       "cristais    1\n",
       "dtype: int64"
      ]
     },
     "metadata": {},
     "output_type": "display_data"
    },
    {
     "name": "stdout",
     "output_type": "stream",
     "text": [
      "['cristais']\n",
      "1\n",
      "====================================================================================================\n",
      "extrato termo aditivo\n"
     ]
    },
    {
     "data": {
      "text/plain": [
       "city\n",
       "cristais    4\n",
       "dtype: int64"
      ]
     },
     "metadata": {},
     "output_type": "display_data"
    },
    {
     "name": "stdout",
     "output_type": "stream",
     "text": [
      "['cristais']\n",
      "1\n",
      "====================================================================================================\n",
      "rol licitantes\n"
     ]
    },
    {
     "data": {
      "text/plain": [
       "city\n",
       "cristais    2\n",
       "dtype: int64"
      ]
     },
     "metadata": {},
     "output_type": "display_data"
    },
    {
     "name": "stdout",
     "output_type": "stream",
     "text": [
      "['cristais']\n",
      "1\n",
      "====================================================================================================\n",
      "ata deserto\n"
     ]
    },
    {
     "data": {
      "text/plain": [
       "city\n",
       "pirapetinga    4\n",
       "dtype: int64"
      ]
     },
     "metadata": {},
     "output_type": "display_data"
    },
    {
     "name": "stdout",
     "output_type": "stream",
     "text": [
      "['pirapetinga']\n",
      "1\n",
      "====================================================================================================\n",
      "adjudicacao\n"
     ]
    },
    {
     "data": {
      "text/plain": [
       "city\n",
       "passa-vinte     5\n",
       "pirapetinga    56\n",
       "dtype: int64"
      ]
     },
     "metadata": {},
     "output_type": "display_data"
    },
    {
     "name": "stdout",
     "output_type": "stream",
     "text": [
      "['pirapetinga' 'passa-vinte']\n",
      "2\n",
      "====================================================================================================\n",
      "homologacao   adjudicacao\n"
     ]
    },
    {
     "data": {
      "text/plain": [
       "city\n",
       "pirapetinga    2\n",
       "dtype: int64"
      ]
     },
     "metadata": {},
     "output_type": "display_data"
    },
    {
     "name": "stdout",
     "output_type": "stream",
     "text": [
      "['pirapetinga']\n",
      "1\n",
      "====================================================================================================\n",
      "relato fotografico\n"
     ]
    },
    {
     "data": {
      "text/plain": [
       "city\n",
       "pirapetinga    7\n",
       "dtype: int64"
      ]
     },
     "metadata": {},
     "output_type": "display_data"
    },
    {
     "name": "stdout",
     "output_type": "stream",
     "text": [
      "['pirapetinga']\n",
      "1\n",
      "====================================================================================================\n",
      "contrato compra\n"
     ]
    },
    {
     "data": {
      "text/plain": [
       "city\n",
       "pirapetinga    11\n",
       "dtype: int64"
      ]
     },
     "metadata": {},
     "output_type": "display_data"
    },
    {
     "name": "stdout",
     "output_type": "stream",
     "text": [
      "['pirapetinga']\n",
      "1\n",
      "====================================================================================================\n",
      "termo aditivo contrato\n"
     ]
    },
    {
     "data": {
      "text/plain": [
       "city\n",
       "pirapetinga    103\n",
       "dtype: int64"
      ]
     },
     "metadata": {},
     "output_type": "display_data"
    },
    {
     "name": "stdout",
     "output_type": "stream",
     "text": [
      "['pirapetinga']\n",
      "1\n",
      "====================================================================================================\n",
      "aviso republicacao\n"
     ]
    },
    {
     "data": {
      "text/plain": [
       "city\n",
       "pirapetinga    6\n",
       "dtype: int64"
      ]
     },
     "metadata": {},
     "output_type": "display_data"
    },
    {
     "name": "stdout",
     "output_type": "stream",
     "text": [
      "['pirapetinga']\n",
      "1\n",
      "====================================================================================================\n",
      "ato ratificacao dispensa licitacao\n"
     ]
    },
    {
     "data": {
      "text/plain": [
       "city\n",
       "pirapetinga    13\n",
       "dtype: int64"
      ]
     },
     "metadata": {},
     "output_type": "display_data"
    },
    {
     "name": "stdout",
     "output_type": "stream",
     "text": [
      "['pirapetinga']\n",
      "1\n",
      "====================================================================================================\n",
      "nota empenho\n"
     ]
    },
    {
     "data": {
      "text/plain": [
       "city\n",
       "pirapetinga    12\n",
       "dtype: int64"
      ]
     },
     "metadata": {},
     "output_type": "display_data"
    },
    {
     "name": "stdout",
     "output_type": "stream",
     "text": [
      "['pirapetinga']\n",
      "1\n",
      "====================================================================================================\n",
      "termo distrato\n"
     ]
    },
    {
     "data": {
      "text/plain": [
       "city\n",
       "pirapetinga    1\n",
       "dtype: int64"
      ]
     },
     "metadata": {},
     "output_type": "display_data"
    },
    {
     "name": "stdout",
     "output_type": "stream",
     "text": [
      "['pirapetinga']\n",
      "1\n",
      "====================================================================================================\n",
      "aviso licitacao   minuta edital\n"
     ]
    },
    {
     "data": {
      "text/plain": [
       "city\n",
       "pirapetinga    2\n",
       "dtype: int64"
      ]
     },
     "metadata": {},
     "output_type": "display_data"
    },
    {
     "name": "stdout",
     "output_type": "stream",
     "text": [
      "['pirapetinga']\n",
      "1\n",
      "====================================================================================================\n",
      "itens vencidos   fornecedor\n"
     ]
    },
    {
     "data": {
      "text/plain": [
       "city\n",
       "pirapetinga    3\n",
       "dtype: int64"
      ]
     },
     "metadata": {},
     "output_type": "display_data"
    },
    {
     "name": "stdout",
     "output_type": "stream",
     "text": [
      "['pirapetinga']\n",
      "1\n",
      "====================================================================================================\n",
      "convocacao   abertura habilitacao\n"
     ]
    },
    {
     "data": {
      "text/plain": [
       "city\n",
       "pirapetinga    1\n",
       "dtype: int64"
      ]
     },
     "metadata": {},
     "output_type": "display_data"
    },
    {
     "name": "stdout",
     "output_type": "stream",
     "text": [
      "['pirapetinga']\n",
      "1\n",
      "====================================================================================================\n",
      "chamada publica\n"
     ]
    },
    {
     "data": {
      "text/plain": [
       "city\n",
       "pirapetinga    6\n",
       "dtype: int64"
      ]
     },
     "metadata": {},
     "output_type": "display_data"
    },
    {
     "name": "stdout",
     "output_type": "stream",
     "text": [
      "['pirapetinga']\n",
      "1\n",
      "====================================================================================================\n",
      "ato ratificacao inexigibilidade licitacao\n"
     ]
    },
    {
     "data": {
      "text/plain": [
       "city\n",
       "pirapetinga    4\n",
       "dtype: int64"
      ]
     },
     "metadata": {},
     "output_type": "display_data"
    },
    {
     "name": "stdout",
     "output_type": "stream",
     "text": [
      "['pirapetinga']\n",
      "1\n",
      "====================================================================================================\n",
      "contrato prestacao servicos\n"
     ]
    },
    {
     "data": {
      "text/plain": [
       "city\n",
       "pirapetinga    12\n",
       "dtype: int64"
      ]
     },
     "metadata": {},
     "output_type": "display_data"
    },
    {
     "name": "stdout",
     "output_type": "stream",
     "text": [
      "['pirapetinga']\n",
      "1\n",
      "====================================================================================================\n",
      "planilha custos mao obra\n"
     ]
    },
    {
     "data": {
      "text/plain": [
       "city\n",
       "pirapetinga    1\n",
       "dtype: int64"
      ]
     },
     "metadata": {},
     "output_type": "display_data"
    },
    {
     "name": "stdout",
     "output_type": "stream",
     "text": [
      "['pirapetinga']\n",
      "1\n",
      "====================================================================================================\n",
      "planilha custos\n"
     ]
    },
    {
     "data": {
      "text/plain": [
       "city\n",
       "pirapetinga    1\n",
       "dtype: int64"
      ]
     },
     "metadata": {},
     "output_type": "display_data"
    },
    {
     "name": "stdout",
     "output_type": "stream",
     "text": [
      "['pirapetinga']\n",
      "1\n",
      "====================================================================================================\n",
      "termo contrato prestacao servicos\n"
     ]
    },
    {
     "data": {
      "text/plain": [
       "city\n",
       "pirapetinga    7\n",
       "dtype: int64"
      ]
     },
     "metadata": {},
     "output_type": "display_data"
    },
    {
     "name": "stdout",
     "output_type": "stream",
     "text": [
      "['pirapetinga']\n",
      "1\n",
      "====================================================================================================\n",
      "parecer tecnico\n"
     ]
    },
    {
     "data": {
      "text/plain": [
       "city\n",
       "pirapetinga    1\n",
       "dtype: int64"
      ]
     },
     "metadata": {},
     "output_type": "display_data"
    },
    {
     "name": "stdout",
     "output_type": "stream",
     "text": [
      "['pirapetinga']\n",
      "1\n",
      "====================================================================================================\n",
      "aviso reabertura   continuacao licitacao\n"
     ]
    },
    {
     "data": {
      "text/plain": [
       "city\n",
       "pirapetinga    3\n",
       "dtype: int64"
      ]
     },
     "metadata": {},
     "output_type": "display_data"
    },
    {
     "name": "stdout",
     "output_type": "stream",
     "text": [
      "['pirapetinga']\n",
      "1\n",
      "====================================================================================================\n",
      "aviso decisao habilitacao\n"
     ]
    },
    {
     "data": {
      "text/plain": [
       "city\n",
       "pirapetinga    2\n",
       "dtype: int64"
      ]
     },
     "metadata": {},
     "output_type": "display_data"
    },
    {
     "name": "stdout",
     "output_type": "stream",
     "text": [
      "['pirapetinga']\n",
      "1\n",
      "====================================================================================================\n",
      "termo contrato compra\n"
     ]
    },
    {
     "data": {
      "text/plain": [
       "city\n",
       "pirapetinga    36\n",
       "dtype: int64"
      ]
     },
     "metadata": {},
     "output_type": "display_data"
    },
    {
     "name": "stdout",
     "output_type": "stream",
     "text": [
      "['pirapetinga']\n",
      "1\n",
      "====================================================================================================\n",
      "aviso suspensao pregao\n"
     ]
    },
    {
     "data": {
      "text/plain": [
       "city\n",
       "pirapetinga    5\n",
       "dtype: int64"
      ]
     },
     "metadata": {},
     "output_type": "display_data"
    },
    {
     "name": "stdout",
     "output_type": "stream",
     "text": [
      "['pirapetinga']\n",
      "1\n",
      "====================================================================================================\n",
      "pedido esclarecimento\n"
     ]
    },
    {
     "data": {
      "text/plain": [
       "city\n",
       "pirapetinga    1\n",
       "dtype: int64"
      ]
     },
     "metadata": {},
     "output_type": "display_data"
    },
    {
     "name": "stdout",
     "output_type": "stream",
     "text": [
      "['pirapetinga']\n",
      "1\n",
      "====================================================================================================\n",
      "edital compra\n"
     ]
    },
    {
     "data": {
      "text/plain": [
       "city\n",
       "pirapetinga    1\n",
       "dtype: int64"
      ]
     },
     "metadata": {},
     "output_type": "display_data"
    },
    {
     "name": "stdout",
     "output_type": "stream",
     "text": [
      "['pirapetinga']\n",
      "1\n",
      "====================================================================================================\n",
      "ato revogacao licitacao\n"
     ]
    },
    {
     "data": {
      "text/plain": [
       "city\n",
       "pirapetinga    1\n",
       "dtype: int64"
      ]
     },
     "metadata": {},
     "output_type": "display_data"
    },
    {
     "name": "stdout",
     "output_type": "stream",
     "text": [
      "['pirapetinga']\n",
      "1\n",
      "====================================================================================================\n",
      "aviso data   divulgacao classificacao proposta\n"
     ]
    },
    {
     "data": {
      "text/plain": [
       "city\n",
       "pirapetinga    1\n",
       "dtype: int64"
      ]
     },
     "metadata": {},
     "output_type": "display_data"
    },
    {
     "name": "stdout",
     "output_type": "stream",
     "text": [
      "['pirapetinga']\n",
      "1\n",
      "====================================================================================================\n",
      "planilha mao obra\n"
     ]
    },
    {
     "data": {
      "text/plain": [
       "city\n",
       "pirapetinga    1\n",
       "dtype: int64"
      ]
     },
     "metadata": {},
     "output_type": "display_data"
    },
    {
     "name": "stdout",
     "output_type": "stream",
     "text": [
      "['pirapetinga']\n",
      "1\n",
      "====================================================================================================\n",
      "aviso decisao proposta\n"
     ]
    },
    {
     "data": {
      "text/plain": [
       "city\n",
       "pirapetinga    1\n",
       "dtype: int64"
      ]
     },
     "metadata": {},
     "output_type": "display_data"
    },
    {
     "name": "stdout",
     "output_type": "stream",
     "text": [
      "['pirapetinga']\n",
      "1\n",
      "====================================================================================================\n",
      "aviso convocacao colocado\n"
     ]
    },
    {
     "data": {
      "text/plain": [
       "city\n",
       "pirapetinga    1\n",
       "dtype: int64"
      ]
     },
     "metadata": {},
     "output_type": "display_data"
    },
    {
     "name": "stdout",
     "output_type": "stream",
     "text": [
      "['pirapetinga']\n",
      "1\n",
      "====================================================================================================\n",
      "aviso sorteio\n"
     ]
    },
    {
     "data": {
      "text/plain": [
       "city\n",
       "pirapetinga    1\n",
       "dtype: int64"
      ]
     },
     "metadata": {},
     "output_type": "display_data"
    },
    {
     "name": "stdout",
     "output_type": "stream",
     "text": [
      "['pirapetinga']\n",
      "1\n",
      "====================================================================================================\n",
      "aviso resultado sorteio desempate\n"
     ]
    },
    {
     "data": {
      "text/plain": [
       "city\n",
       "pirapetinga    1\n",
       "dtype: int64"
      ]
     },
     "metadata": {},
     "output_type": "display_data"
    },
    {
     "name": "stdout",
     "output_type": "stream",
     "text": [
      "['pirapetinga']\n",
      "1\n",
      "====================================================================================================\n",
      "aviso decisao classificacao proposta\n"
     ]
    },
    {
     "data": {
      "text/plain": [
       "city\n",
       "pirapetinga    1\n",
       "dtype: int64"
      ]
     },
     "metadata": {},
     "output_type": "display_data"
    },
    {
     "name": "stdout",
     "output_type": "stream",
     "text": [
      "['pirapetinga']\n",
      "1\n",
      "====================================================================================================\n",
      "aviso abertura proposta\n"
     ]
    },
    {
     "data": {
      "text/plain": [
       "city\n",
       "pirapetinga    1\n",
       "dtype: int64"
      ]
     },
     "metadata": {},
     "output_type": "display_data"
    },
    {
     "name": "stdout",
     "output_type": "stream",
     "text": [
      "['pirapetinga']\n",
      "1\n",
      "====================================================================================================\n",
      "aviso interposicao recurso\n"
     ]
    },
    {
     "data": {
      "text/plain": [
       "city\n",
       "pirapetinga    1\n",
       "dtype: int64"
      ]
     },
     "metadata": {},
     "output_type": "display_data"
    },
    {
     "name": "stdout",
     "output_type": "stream",
     "text": [
      "['pirapetinga']\n",
      "1\n",
      "====================================================================================================\n",
      "aviso data   divulgacao habilitacao\n"
     ]
    },
    {
     "data": {
      "text/plain": [
       "city\n",
       "pirapetinga    3\n",
       "dtype: int64"
      ]
     },
     "metadata": {},
     "output_type": "display_data"
    },
    {
     "name": "stdout",
     "output_type": "stream",
     "text": [
      "['pirapetinga']\n",
      "1\n",
      "====================================================================================================\n",
      "termo contrato\n"
     ]
    },
    {
     "data": {
      "text/plain": [
       "city\n",
       "pirapetinga    5\n",
       "dtype: int64"
      ]
     },
     "metadata": {},
     "output_type": "display_data"
    },
    {
     "name": "stdout",
     "output_type": "stream",
     "text": [
      "['pirapetinga']\n",
      "1\n",
      "====================================================================================================\n",
      "parecer departamento juridico\n"
     ]
    },
    {
     "data": {
      "text/plain": [
       "city\n",
       "pirapetinga    1\n",
       "dtype: int64"
      ]
     },
     "metadata": {},
     "output_type": "display_data"
    },
    {
     "name": "stdout",
     "output_type": "stream",
     "text": [
      "['pirapetinga']\n",
      "1\n",
      "====================================================================================================\n",
      "aviso licitacao   edital\n"
     ]
    },
    {
     "data": {
      "text/plain": [
       "city\n",
       "pirapetinga    1\n",
       "dtype: int64"
      ]
     },
     "metadata": {},
     "output_type": "display_data"
    },
    {
     "name": "stdout",
     "output_type": "stream",
     "text": [
      "['pirapetinga']\n",
      "1\n",
      "====================================================================================================\n",
      "contrato concessao uso\n"
     ]
    },
    {
     "data": {
      "text/plain": [
       "city\n",
       "pirapetinga    3\n",
       "dtype: int64"
      ]
     },
     "metadata": {},
     "output_type": "display_data"
    },
    {
     "name": "stdout",
     "output_type": "stream",
     "text": [
      "['pirapetinga']\n",
      "1\n",
      "====================================================================================================\n",
      "nao identificavel\n"
     ]
    },
    {
     "data": {
      "text/plain": [
       "city\n",
       "pirapetinga    1\n",
       "dtype: int64"
      ]
     },
     "metadata": {},
     "output_type": "display_data"
    },
    {
     "name": "stdout",
     "output_type": "stream",
     "text": [
      "['pirapetinga']\n",
      "1\n",
      "====================================================================================================\n",
      "chamamento   abertura habilitacao\n"
     ]
    },
    {
     "data": {
      "text/plain": [
       "city\n",
       "pirapetinga    2\n",
       "dtype: int64"
      ]
     },
     "metadata": {},
     "output_type": "display_data"
    },
    {
     "name": "stdout",
     "output_type": "stream",
     "text": [
      "['pirapetinga']\n",
      "1\n",
      "====================================================================================================\n",
      "planilha custos insumos\n"
     ]
    },
    {
     "data": {
      "text/plain": [
       "city\n",
       "pirapetinga    1\n",
       "dtype: int64"
      ]
     },
     "metadata": {},
     "output_type": "display_data"
    },
    {
     "name": "stdout",
     "output_type": "stream",
     "text": [
      "['pirapetinga']\n",
      "1\n",
      "====================================================================================================\n",
      "contrato aquisicao generos alimenticios agricultura familiar   alimentacao escolar\n"
     ]
    },
    {
     "data": {
      "text/plain": [
       "city\n",
       "pirapetinga    11\n",
       "dtype: int64"
      ]
     },
     "metadata": {},
     "output_type": "display_data"
    },
    {
     "name": "stdout",
     "output_type": "stream",
     "text": [
      "['pirapetinga']\n",
      "1\n",
      "====================================================================================================\n",
      "aviso concessao prazo   nova habilitacao\n"
     ]
    },
    {
     "data": {
      "text/plain": [
       "city\n",
       "pirapetinga    2\n",
       "dtype: int64"
      ]
     },
     "metadata": {},
     "output_type": "display_data"
    },
    {
     "name": "stdout",
     "output_type": "stream",
     "text": [
      "['pirapetinga']\n",
      "1\n",
      "====================================================================================================\n",
      "aviso convocacao\n"
     ]
    },
    {
     "data": {
      "text/plain": [
       "city\n",
       "passa-vinte    1\n",
       "pirapetinga    4\n",
       "dtype: int64"
      ]
     },
     "metadata": {},
     "output_type": "display_data"
    },
    {
     "name": "stdout",
     "output_type": "stream",
     "text": [
      "['pirapetinga' 'passa-vinte']\n",
      "2\n",
      "====================================================================================================\n",
      "planilha preco\n"
     ]
    },
    {
     "data": {
      "text/plain": [
       "city\n",
       "pirapetinga    1\n",
       "dtype: int64"
      ]
     },
     "metadata": {},
     "output_type": "display_data"
    },
    {
     "name": "stdout",
     "output_type": "stream",
     "text": [
      "['pirapetinga']\n",
      "1\n",
      "====================================================================================================\n",
      "aviso abertura prazo   oferecimento contrarazoes\n"
     ]
    },
    {
     "data": {
      "text/plain": [
       "city\n",
       "pirapetinga    1\n",
       "dtype: int64"
      ]
     },
     "metadata": {},
     "output_type": "display_data"
    },
    {
     "name": "stdout",
     "output_type": "stream",
     "text": [
      "['pirapetinga']\n",
      "1\n",
      "====================================================================================================\n",
      "chamamento   continuacao trabalhos relativos processo licitatorio\n"
     ]
    },
    {
     "data": {
      "text/plain": [
       "city\n",
       "pirapetinga    1\n",
       "dtype: int64"
      ]
     },
     "metadata": {},
     "output_type": "display_data"
    },
    {
     "name": "stdout",
     "output_type": "stream",
     "text": [
      "['pirapetinga']\n",
      "1\n",
      "====================================================================================================\n",
      "aviso julgamento habilitacao\n"
     ]
    },
    {
     "data": {
      "text/plain": [
       "city\n",
       "pirapetinga    1\n",
       "dtype: int64"
      ]
     },
     "metadata": {},
     "output_type": "display_data"
    },
    {
     "name": "stdout",
     "output_type": "stream",
     "text": [
      "['pirapetinga']\n",
      "1\n",
      "====================================================================================================\n",
      "aviso julgamento propostas\n"
     ]
    },
    {
     "data": {
      "text/plain": [
       "city\n",
       "pirapetinga    1\n",
       "dtype: int64"
      ]
     },
     "metadata": {},
     "output_type": "display_data"
    },
    {
     "name": "stdout",
     "output_type": "stream",
     "text": [
      "['pirapetinga']\n",
      "1\n",
      "====================================================================================================\n",
      "relacao ruas   prestacao servicos publicos limpeza\n"
     ]
    },
    {
     "data": {
      "text/plain": [
       "city\n",
       "pirapetinga    1\n",
       "dtype: int64"
      ]
     },
     "metadata": {},
     "output_type": "display_data"
    },
    {
     "name": "stdout",
     "output_type": "stream",
     "text": [
      "['pirapetinga']\n",
      "1\n",
      "====================================================================================================\n",
      "publicacao convocacao   assinatura contrato\n"
     ]
    },
    {
     "data": {
      "text/plain": [
       "city\n",
       "pirapetinga    1\n",
       "dtype: int64"
      ]
     },
     "metadata": {},
     "output_type": "display_data"
    },
    {
     "name": "stdout",
     "output_type": "stream",
     "text": [
      "['pirapetinga']\n",
      "1\n",
      "====================================================================================================\n",
      "ato anulacao licitacao\n"
     ]
    },
    {
     "data": {
      "text/plain": [
       "city\n",
       "pirapetinga    2\n",
       "dtype: int64"
      ]
     },
     "metadata": {},
     "output_type": "display_data"
    },
    {
     "name": "stdout",
     "output_type": "stream",
     "text": [
      "['pirapetinga']\n",
      "1\n",
      "====================================================================================================\n",
      "ata proposta preco\n"
     ]
    },
    {
     "data": {
      "text/plain": [
       "city\n",
       "pirapetinga    1\n",
       "dtype: int64"
      ]
     },
     "metadata": {},
     "output_type": "display_data"
    },
    {
     "name": "stdout",
     "output_type": "stream",
     "text": [
      "['pirapetinga']\n",
      "1\n",
      "====================================================================================================\n",
      "aviso reabertura   prosseguimento licitacao\n"
     ]
    },
    {
     "data": {
      "text/plain": [
       "city\n",
       "pirapetinga    1\n",
       "dtype: int64"
      ]
     },
     "metadata": {},
     "output_type": "display_data"
    },
    {
     "name": "stdout",
     "output_type": "stream",
     "text": [
      "['pirapetinga']\n",
      "1\n",
      "====================================================================================================\n",
      "edital pregao eletronico\n"
     ]
    },
    {
     "data": {
      "text/plain": [
       "city\n",
       "pirapetinga    1\n",
       "dtype: int64"
      ]
     },
     "metadata": {},
     "output_type": "display_data"
    },
    {
     "name": "stdout",
     "output_type": "stream",
     "text": [
      "['pirapetinga']\n",
      "1\n",
      "====================================================================================================\n",
      "contrado compra\n"
     ]
    },
    {
     "data": {
      "text/plain": [
       "city\n",
       "pirapetinga    1\n",
       "dtype: int64"
      ]
     },
     "metadata": {},
     "output_type": "display_data"
    },
    {
     "name": "stdout",
     "output_type": "stream",
     "text": [
      "['pirapetinga']\n",
      "1\n",
      "====================================================================================================\n",
      "produtos graficos\n"
     ]
    },
    {
     "data": {
      "text/plain": [
       "city\n",
       "pirapetinga    4\n",
       "dtype: int64"
      ]
     },
     "metadata": {},
     "output_type": "display_data"
    },
    {
     "name": "stdout",
     "output_type": "stream",
     "text": [
      "['pirapetinga']\n",
      "1\n",
      "====================================================================================================\n",
      "termo recisao contrato\n"
     ]
    },
    {
     "data": {
      "text/plain": [
       "city\n",
       "pirapetinga    1\n",
       "dtype: int64"
      ]
     },
     "metadata": {},
     "output_type": "display_data"
    },
    {
     "name": "stdout",
     "output_type": "stream",
     "text": [
      "['pirapetinga']\n",
      "1\n",
      "====================================================================================================\n",
      "projeto construcao\n"
     ]
    },
    {
     "data": {
      "text/plain": [
       "city\n",
       "pirapetinga    1\n",
       "dtype: int64"
      ]
     },
     "metadata": {},
     "output_type": "display_data"
    },
    {
     "name": "stdout",
     "output_type": "stream",
     "text": [
      "['pirapetinga']\n",
      "1\n",
      "====================================================================================================\n",
      "protocolo recebimento edital carta convite\n"
     ]
    },
    {
     "data": {
      "text/plain": [
       "city\n",
       "passa-vinte    3\n",
       "dtype: int64"
      ]
     },
     "metadata": {},
     "output_type": "display_data"
    },
    {
     "name": "stdout",
     "output_type": "stream",
     "text": [
      "['passa-vinte']\n",
      "1\n",
      "====================================================================================================\n",
      "recibo retirada edital\n"
     ]
    },
    {
     "data": {
      "text/plain": [
       "city\n",
       "passa-vinte    8\n",
       "dtype: int64"
      ]
     },
     "metadata": {},
     "output_type": "display_data"
    },
    {
     "name": "stdout",
     "output_type": "stream",
     "text": [
      "['passa-vinte']\n",
      "1\n",
      "====================================================================================================\n",
      "proposta digital   impressa\n"
     ]
    },
    {
     "data": {
      "text/plain": [
       "city\n",
       "passa-vinte    26\n",
       "dtype: int64"
      ]
     },
     "metadata": {},
     "output_type": "display_data"
    },
    {
     "name": "stdout",
     "output_type": "stream",
     "text": [
      "['passa-vinte']\n",
      "1\n",
      "====================================================================================================\n",
      "diario municipal\n"
     ]
    },
    {
     "data": {
      "text/plain": [
       "city\n",
       "passa-vinte    9\n",
       "dtype: int64"
      ]
     },
     "metadata": {},
     "output_type": "display_data"
    },
    {
     "name": "stdout",
     "output_type": "stream",
     "text": [
      "['passa-vinte']\n",
      "1\n",
      "====================================================================================================\n",
      "nota fiscal\n"
     ]
    },
    {
     "data": {
      "text/plain": [
       "city\n",
       "passa-vinte    1\n",
       "dtype: int64"
      ]
     },
     "metadata": {},
     "output_type": "display_data"
    },
    {
     "name": "stdout",
     "output_type": "stream",
     "text": [
      "['passa-vinte']\n",
      "1\n",
      "====================================================================================================\n",
      "mapa rota transporte escolar\n"
     ]
    },
    {
     "data": {
      "text/plain": [
       "city\n",
       "passa-vinte    4\n",
       "dtype: int64"
      ]
     },
     "metadata": {},
     "output_type": "display_data"
    },
    {
     "name": "stdout",
     "output_type": "stream",
     "text": [
      "['passa-vinte']\n",
      "1\n",
      "====================================================================================================\n",
      "termo aditivo   aviso impugnacao\n"
     ]
    },
    {
     "data": {
      "text/plain": [
       "city\n",
       "passa-vinte    1\n",
       "dtype: int64"
      ]
     },
     "metadata": {},
     "output_type": "display_data"
    },
    {
     "name": "stdout",
     "output_type": "stream",
     "text": [
      "['passa-vinte']\n",
      "1\n",
      "====================================================================================================\n",
      "ratificacao   extrato contrato\n"
     ]
    },
    {
     "data": {
      "text/plain": [
       "city\n",
       "passa-vinte    4\n",
       "dtype: int64"
      ]
     },
     "metadata": {},
     "output_type": "display_data"
    },
    {
     "name": "stdout",
     "output_type": "stream",
     "text": [
      "['passa-vinte']\n",
      "1\n",
      "====================================================================================================\n",
      "ratificacao termo aditivo   extrato contrato\n"
     ]
    },
    {
     "data": {
      "text/plain": [
       "city\n",
       "passa-vinte    1\n",
       "dtype: int64"
      ]
     },
     "metadata": {},
     "output_type": "display_data"
    },
    {
     "name": "stdout",
     "output_type": "stream",
     "text": [
      "['passa-vinte']\n",
      "1\n",
      "====================================================================================================\n",
      "revogacao edital   extrato ata\n"
     ]
    },
    {
     "data": {
      "text/plain": [
       "city\n",
       "passa-vinte    1\n",
       "dtype: int64"
      ]
     },
     "metadata": {},
     "output_type": "display_data"
    },
    {
     "name": "stdout",
     "output_type": "stream",
     "text": [
      "['passa-vinte']\n",
      "1\n",
      "====================================================================================================\n",
      "termo aditivo\n"
     ]
    },
    {
     "data": {
      "text/plain": [
       "city\n",
       "passa-vinte    8\n",
       "dtype: int64"
      ]
     },
     "metadata": {},
     "output_type": "display_data"
    },
    {
     "name": "stdout",
     "output_type": "stream",
     "text": [
      "['passa-vinte']\n",
      "1\n",
      "====================================================================================================\n",
      "ratificacao   aviso convocacao\n"
     ]
    },
    {
     "data": {
      "text/plain": [
       "city\n",
       "passa-vinte    1\n",
       "dtype: int64"
      ]
     },
     "metadata": {},
     "output_type": "display_data"
    },
    {
     "name": "stdout",
     "output_type": "stream",
     "text": [
      "['passa-vinte']\n",
      "1\n",
      "====================================================================================================\n",
      "termo aditivo aviso licitacao   extrato ata\n"
     ]
    },
    {
     "data": {
      "text/plain": [
       "city\n",
       "passa-vinte    1\n",
       "dtype: int64"
      ]
     },
     "metadata": {},
     "output_type": "display_data"
    },
    {
     "name": "stdout",
     "output_type": "stream",
     "text": [
      "['passa-vinte']\n",
      "1\n",
      "====================================================================================================\n",
      "extrato contrato   errata\n"
     ]
    },
    {
     "data": {
      "text/plain": [
       "city\n",
       "passa-vinte    1\n",
       "dtype: int64"
      ]
     },
     "metadata": {},
     "output_type": "display_data"
    },
    {
     "name": "stdout",
     "output_type": "stream",
     "text": [
      "['passa-vinte']\n",
      "1\n",
      "====================================================================================================\n",
      "ratificacao aviso convocacao   extrato ata\n"
     ]
    },
    {
     "data": {
      "text/plain": [
       "city\n",
       "passa-vinte    1\n",
       "dtype: int64"
      ]
     },
     "metadata": {},
     "output_type": "display_data"
    },
    {
     "name": "stdout",
     "output_type": "stream",
     "text": [
      "['passa-vinte']\n",
      "1\n",
      "====================================================================================================\n",
      "errata aviso suspensao   extrato ata\n"
     ]
    },
    {
     "data": {
      "text/plain": [
       "city\n",
       "passa-vinte    1\n",
       "dtype: int64"
      ]
     },
     "metadata": {},
     "output_type": "display_data"
    },
    {
     "name": "stdout",
     "output_type": "stream",
     "text": [
      "['passa-vinte']\n",
      "1\n",
      "====================================================================================================\n",
      "termo aditivo extrato contrato   adjudicacao\n"
     ]
    },
    {
     "data": {
      "text/plain": [
       "city\n",
       "passa-vinte    1\n",
       "dtype: int64"
      ]
     },
     "metadata": {},
     "output_type": "display_data"
    },
    {
     "name": "stdout",
     "output_type": "stream",
     "text": [
      "['passa-vinte']\n",
      "1\n",
      "====================================================================================================\n",
      "termo aditivo ratificacao   adjudicacao\n"
     ]
    },
    {
     "data": {
      "text/plain": [
       "city\n",
       "passa-vinte    1\n",
       "dtype: int64"
      ]
     },
     "metadata": {},
     "output_type": "display_data"
    },
    {
     "name": "stdout",
     "output_type": "stream",
     "text": [
      "['passa-vinte']\n",
      "1\n",
      "====================================================================================================\n",
      "extrato contrato   extrato ata\n"
     ]
    },
    {
     "data": {
      "text/plain": [
       "city\n",
       "passa-vinte    1\n",
       "dtype: int64"
      ]
     },
     "metadata": {},
     "output_type": "display_data"
    },
    {
     "name": "stdout",
     "output_type": "stream",
     "text": [
      "['passa-vinte']\n",
      "1\n",
      "====================================================================================================\n",
      "ratificacao extrato contrato   termo reequilibrio\n"
     ]
    },
    {
     "data": {
      "text/plain": [
       "city\n",
       "passa-vinte    1\n",
       "dtype: int64"
      ]
     },
     "metadata": {},
     "output_type": "display_data"
    },
    {
     "name": "stdout",
     "output_type": "stream",
     "text": [
      "['passa-vinte']\n",
      "1\n",
      "====================================================================================================\n",
      "aviso cancelamento\n"
     ]
    },
    {
     "data": {
      "text/plain": [
       "city\n",
       "itamarati      6\n",
       "passa-vinte    1\n",
       "dtype: int64"
      ]
     },
     "metadata": {},
     "output_type": "display_data"
    },
    {
     "name": "stdout",
     "output_type": "stream",
     "text": [
      "['passa-vinte' 'itamarati']\n",
      "2\n",
      "====================================================================================================\n",
      "dispensa licitacao\n"
     ]
    },
    {
     "data": {
      "text/plain": [
       "city\n",
       "passa-vinte    1\n",
       "dtype: int64"
      ]
     },
     "metadata": {},
     "output_type": "display_data"
    },
    {
     "name": "stdout",
     "output_type": "stream",
     "text": [
      "['passa-vinte']\n",
      "1\n",
      "====================================================================================================\n",
      "extrato contrato   ordem servico\n"
     ]
    },
    {
     "data": {
      "text/plain": [
       "city\n",
       "passa-vinte    1\n",
       "dtype: int64"
      ]
     },
     "metadata": {},
     "output_type": "display_data"
    },
    {
     "name": "stdout",
     "output_type": "stream",
     "text": [
      "['passa-vinte']\n",
      "1\n",
      "====================================================================================================\n",
      "adjudicacao homologacao   extrato\n"
     ]
    },
    {
     "data": {
      "text/plain": [
       "city\n",
       "itamarati      1\n",
       "passa-vinte    1\n",
       "dtype: int64"
      ]
     },
     "metadata": {},
     "output_type": "display_data"
    },
    {
     "name": "stdout",
     "output_type": "stream",
     "text": [
      "['passa-vinte' 'itamarati']\n",
      "2\n",
      "====================================================================================================\n",
      "auxilio transporte\n"
     ]
    },
    {
     "data": {
      "text/plain": [
       "city\n",
       "arantina    1\n",
       "dtype: int64"
      ]
     },
     "metadata": {},
     "output_type": "display_data"
    },
    {
     "name": "stdout",
     "output_type": "stream",
     "text": [
      "['arantina']\n",
      "1\n",
      "====================================================================================================\n",
      "folha pagamento\n"
     ]
    },
    {
     "data": {
      "text/plain": [
       "city\n",
       "arantina    32\n",
       "dtype: int64"
      ]
     },
     "metadata": {},
     "output_type": "display_data"
    },
    {
     "name": "stdout",
     "output_type": "stream",
     "text": [
      "['arantina']\n",
      "1\n",
      "====================================================================================================\n",
      "evolucao folha\n"
     ]
    },
    {
     "data": {
      "text/plain": [
       "city\n",
       "arantina    1\n",
       "dtype: int64"
      ]
     },
     "metadata": {},
     "output_type": "display_data"
    },
    {
     "name": "stdout",
     "output_type": "stream",
     "text": [
      "['arantina']\n",
      "1\n",
      "====================================================================================================\n",
      "cargos vagos ocupados\n"
     ]
    },
    {
     "data": {
      "text/plain": [
       "city\n",
       "arantina    1\n",
       "dtype: int64"
      ]
     },
     "metadata": {},
     "output_type": "display_data"
    },
    {
     "name": "stdout",
     "output_type": "stream",
     "text": [
      "['arantina']\n",
      "1\n",
      "====================================================================================================\n",
      "lista bens moveis\n"
     ]
    },
    {
     "data": {
      "text/plain": [
       "city\n",
       "arantina    1\n",
       "dtype: int64"
      ]
     },
     "metadata": {},
     "output_type": "display_data"
    },
    {
     "name": "stdout",
     "output_type": "stream",
     "text": [
      "['arantina']\n",
      "1\n",
      "====================================================================================================\n",
      "folha admitidos\n"
     ]
    },
    {
     "data": {
      "text/plain": [
       "city\n",
       "arantina    1\n",
       "dtype: int64"
      ]
     },
     "metadata": {},
     "output_type": "display_data"
    },
    {
     "name": "stdout",
     "output_type": "stream",
     "text": [
      "['arantina']\n",
      "1\n",
      "====================================================================================================\n",
      "custo   secretaria\n"
     ]
    },
    {
     "data": {
      "text/plain": [
       "city\n",
       "arantina    1\n",
       "dtype: int64"
      ]
     },
     "metadata": {},
     "output_type": "display_data"
    },
    {
     "name": "stdout",
     "output_type": "stream",
     "text": [
      "['arantina']\n",
      "1\n",
      "====================================================================================================\n",
      "relatorio vacancia\n"
     ]
    },
    {
     "data": {
      "text/plain": [
       "city\n",
       "arantina    1\n",
       "dtype: int64"
      ]
     },
     "metadata": {},
     "output_type": "display_data"
    },
    {
     "name": "stdout",
     "output_type": "stream",
     "text": [
      "['arantina']\n",
      "1\n",
      "====================================================================================================\n",
      "edital retificado\n"
     ]
    },
    {
     "data": {
      "text/plain": [
       "city\n",
       "itamarati    5\n",
       "dtype: int64"
      ]
     },
     "metadata": {},
     "output_type": "display_data"
    },
    {
     "name": "stdout",
     "output_type": "stream",
     "text": [
      "['itamarati']\n",
      "1\n",
      "====================================================================================================\n",
      "carta convite\n"
     ]
    },
    {
     "data": {
      "text/plain": [
       "city\n",
       "itamarati    10\n",
       "dtype: int64"
      ]
     },
     "metadata": {},
     "output_type": "display_data"
    },
    {
     "name": "stdout",
     "output_type": "stream",
     "text": [
      "['itamarati']\n",
      "1\n",
      "====================================================================================================\n",
      "edital credenciamento publico\n"
     ]
    },
    {
     "data": {
      "text/plain": [
       "city\n",
       "itamarati    1\n",
       "dtype: int64"
      ]
     },
     "metadata": {},
     "output_type": "display_data"
    },
    {
     "name": "stdout",
     "output_type": "stream",
     "text": [
      "['itamarati']\n",
      "1\n",
      "====================================================================================================\n",
      "homologacao adjudicacao extrato\n"
     ]
    },
    {
     "data": {
      "text/plain": [
       "city\n",
       "itamarati    119\n",
       "dtype: int64"
      ]
     },
     "metadata": {},
     "output_type": "display_data"
    },
    {
     "name": "stdout",
     "output_type": "stream",
     "text": [
      "['itamarati']\n",
      "1\n",
      "====================================================================================================\n",
      "aviso licitacao edital tomada precos\n"
     ]
    },
    {
     "data": {
      "text/plain": [
       "city\n",
       "itamarati    2\n",
       "dtype: int64"
      ]
     },
     "metadata": {},
     "output_type": "display_data"
    },
    {
     "name": "stdout",
     "output_type": "stream",
     "text": [
      "['itamarati']\n",
      "1\n",
      "====================================================================================================\n",
      "homologacao termo adjudicacao extrato\n"
     ]
    },
    {
     "data": {
      "text/plain": [
       "city\n",
       "itamarati    63\n",
       "dtype: int64"
      ]
     },
     "metadata": {},
     "output_type": "display_data"
    },
    {
     "name": "stdout",
     "output_type": "stream",
     "text": [
      "['itamarati']\n",
      "1\n",
      "====================================================================================================\n",
      "ratificacao dispensa licitacao\n"
     ]
    },
    {
     "data": {
      "text/plain": [
       "city\n",
       "itamarati    66\n",
       "dtype: int64"
      ]
     },
     "metadata": {},
     "output_type": "display_data"
    },
    {
     "name": "stdout",
     "output_type": "stream",
     "text": [
      "['itamarati']\n",
      "1\n",
      "====================================================================================================\n",
      "ratificacao inexigibilidade\n"
     ]
    },
    {
     "data": {
      "text/plain": [
       "city\n",
       "itamarati    4\n",
       "dtype: int64"
      ]
     },
     "metadata": {},
     "output_type": "display_data"
    },
    {
     "name": "stdout",
     "output_type": "stream",
     "text": [
      "['itamarati']\n",
      "1\n",
      "====================================================================================================\n",
      "aviso adiamento\n"
     ]
    },
    {
     "data": {
      "text/plain": [
       "city\n",
       "itamarati    1\n",
       "dtype: int64"
      ]
     },
     "metadata": {},
     "output_type": "display_data"
    },
    {
     "name": "stdout",
     "output_type": "stream",
     "text": [
      "['itamarati']\n",
      "1\n",
      "====================================================================================================\n",
      "edital ratificado\n"
     ]
    },
    {
     "data": {
      "text/plain": [
       "city\n",
       "itamarati    1\n",
       "dtype: int64"
      ]
     },
     "metadata": {},
     "output_type": "display_data"
    },
    {
     "name": "stdout",
     "output_type": "stream",
     "text": [
      "['itamarati']\n",
      "1\n",
      "====================================================================================================\n",
      "edital leilao\n"
     ]
    },
    {
     "data": {
      "text/plain": [
       "city\n",
       "itamarati    1\n",
       "dtype: int64"
      ]
     },
     "metadata": {},
     "output_type": "display_data"
    },
    {
     "name": "stdout",
     "output_type": "stream",
     "text": [
      "['itamarati']\n",
      "1\n",
      "====================================================================================================\n",
      "aviso deserto\n"
     ]
    },
    {
     "data": {
      "text/plain": [
       "city\n",
       "itamarati    1\n",
       "dtype: int64"
      ]
     },
     "metadata": {},
     "output_type": "display_data"
    },
    {
     "name": "stdout",
     "output_type": "stream",
     "text": [
      "['itamarati']\n",
      "1\n",
      "====================================================================================================\n",
      "edital pregao\n"
     ]
    },
    {
     "data": {
      "text/plain": [
       "city\n",
       "itamarati    3\n",
       "dtype: int64"
      ]
     },
     "metadata": {},
     "output_type": "display_data"
    },
    {
     "name": "stdout",
     "output_type": "stream",
     "text": [
      "['itamarati']\n",
      "1\n",
      "====================================================================================================\n",
      "edital concorrencia publica\n"
     ]
    },
    {
     "data": {
      "text/plain": [
       "city\n",
       "itamarati             1\n",
       "ribeirao-vermelho    10\n",
       "dtype: int64"
      ]
     },
     "metadata": {},
     "output_type": "display_data"
    },
    {
     "name": "stdout",
     "output_type": "stream",
     "text": [
      "['itamarati' 'ribeirao-vermelho']\n",
      "2\n",
      "====================================================================================================\n",
      "recibo edital pregao presencial\n"
     ]
    },
    {
     "data": {
      "text/plain": [
       "city\n",
       "itamarati    20\n",
       "dtype: int64"
      ]
     },
     "metadata": {},
     "output_type": "display_data"
    },
    {
     "name": "stdout",
     "output_type": "stream",
     "text": [
      "['itamarati']\n",
      "1\n",
      "====================================================================================================\n",
      "recibo edital chamada publica\n"
     ]
    },
    {
     "data": {
      "text/plain": [
       "city\n",
       "itamarati    1\n",
       "dtype: int64"
      ]
     },
     "metadata": {},
     "output_type": "display_data"
    },
    {
     "name": "stdout",
     "output_type": "stream",
     "text": [
      "['itamarati']\n",
      "1\n",
      "====================================================================================================\n",
      "certidao processo licitatorio deserto\n"
     ]
    },
    {
     "data": {
      "text/plain": [
       "city\n",
       "itamarati    2\n",
       "dtype: int64"
      ]
     },
     "metadata": {},
     "output_type": "display_data"
    },
    {
     "name": "stdout",
     "output_type": "stream",
     "text": [
      "['itamarati']\n",
      "1\n",
      "====================================================================================================\n",
      "adjudicacao homologacao contrato\n"
     ]
    },
    {
     "data": {
      "text/plain": [
       "city\n",
       "itamarati    4\n",
       "dtype: int64"
      ]
     },
     "metadata": {},
     "output_type": "display_data"
    },
    {
     "name": "stdout",
     "output_type": "stream",
     "text": [
      "['itamarati']\n",
      "1\n",
      "====================================================================================================\n",
      "redesignacao sessao processo licitatorio\n"
     ]
    },
    {
     "data": {
      "text/plain": [
       "city\n",
       "ribeirao-vermelho    1\n",
       "dtype: int64"
      ]
     },
     "metadata": {},
     "output_type": "display_data"
    },
    {
     "name": "stdout",
     "output_type": "stream",
     "text": [
      "['ribeirao-vermelho']\n",
      "1\n",
      "====================================================================================================\n",
      "registro fornecedores   precos cotados\n"
     ]
    },
    {
     "data": {
      "text/plain": [
       "city\n",
       "ribeirao-vermelho    2\n",
       "dtype: int64"
      ]
     },
     "metadata": {},
     "output_type": "display_data"
    },
    {
     "name": "stdout",
     "output_type": "stream",
     "text": [
      "['ribeirao-vermelho']\n",
      "1\n",
      "====================================================================================================\n",
      "edital pregao presencial registro precos\n"
     ]
    },
    {
     "data": {
      "text/plain": [
       "city\n",
       "ribeirao-vermelho    1\n",
       "dtype: int64"
      ]
     },
     "metadata": {},
     "output_type": "display_data"
    },
    {
     "name": "stdout",
     "output_type": "stream",
     "text": [
      "['ribeirao-vermelho']\n",
      "1\n",
      "====================================================================================================\n",
      "decisao administrativa\n"
     ]
    },
    {
     "data": {
      "text/plain": [
       "city\n",
       "ribeirao-vermelho    1\n",
       "dtype: int64"
      ]
     },
     "metadata": {},
     "output_type": "display_data"
    },
    {
     "name": "stdout",
     "output_type": "stream",
     "text": [
      "['ribeirao-vermelho']\n",
      "1\n",
      "====================================================================================================\n",
      "adiamento\n"
     ]
    },
    {
     "data": {
      "text/plain": [
       "city\n",
       "ribeirao-vermelho    1\n",
       "dtype: int64"
      ]
     },
     "metadata": {},
     "output_type": "display_data"
    },
    {
     "name": "stdout",
     "output_type": "stream",
     "text": [
      "['ribeirao-vermelho']\n",
      "1\n",
      "====================================================================================================\n",
      "planilha   declaracao orcamento\n"
     ]
    },
    {
     "data": {
      "text/plain": [
       "city\n",
       "ribeirao-vermelho    3\n",
       "dtype: int64"
      ]
     },
     "metadata": {},
     "output_type": "display_data"
    },
    {
     "name": "stdout",
     "output_type": "stream",
     "text": [
      "['ribeirao-vermelho']\n",
      "1\n",
      "====================================================================================================\n",
      "comunicado\n"
     ]
    },
    {
     "data": {
      "text/plain": [
       "city\n",
       "ribeirao-vermelho    2\n",
       "dtype: int64"
      ]
     },
     "metadata": {},
     "output_type": "display_data"
    },
    {
     "name": "stdout",
     "output_type": "stream",
     "text": [
      "['ribeirao-vermelho']\n",
      "1\n",
      "====================================================================================================\n"
     ]
    },
    {
     "data": {
      "text/plain": [
       "[None,\n",
       " None,\n",
       " None,\n",
       " None,\n",
       " None,\n",
       " None,\n",
       " None,\n",
       " None,\n",
       " None,\n",
       " None,\n",
       " None,\n",
       " None,\n",
       " None,\n",
       " None,\n",
       " None,\n",
       " None,\n",
       " None,\n",
       " None,\n",
       " None,\n",
       " None,\n",
       " None,\n",
       " None,\n",
       " None,\n",
       " None,\n",
       " None,\n",
       " None,\n",
       " None,\n",
       " None,\n",
       " None,\n",
       " None,\n",
       " None,\n",
       " None,\n",
       " None,\n",
       " None,\n",
       " None,\n",
       " None,\n",
       " None,\n",
       " None,\n",
       " None,\n",
       " None,\n",
       " None,\n",
       " None,\n",
       " None,\n",
       " None,\n",
       " None,\n",
       " None,\n",
       " None,\n",
       " None,\n",
       " None,\n",
       " None,\n",
       " None,\n",
       " None,\n",
       " None,\n",
       " None,\n",
       " None,\n",
       " None,\n",
       " None,\n",
       " None,\n",
       " None,\n",
       " None,\n",
       " None,\n",
       " None,\n",
       " None,\n",
       " None,\n",
       " None,\n",
       " None,\n",
       " None,\n",
       " None,\n",
       " None,\n",
       " None,\n",
       " None,\n",
       " None,\n",
       " None,\n",
       " None,\n",
       " None,\n",
       " None,\n",
       " None,\n",
       " None,\n",
       " None,\n",
       " None,\n",
       " None,\n",
       " None,\n",
       " None,\n",
       " None,\n",
       " None,\n",
       " None,\n",
       " None,\n",
       " None,\n",
       " None,\n",
       " None,\n",
       " None,\n",
       " None,\n",
       " None,\n",
       " None,\n",
       " None,\n",
       " None,\n",
       " None,\n",
       " None,\n",
       " None,\n",
       " None,\n",
       " None,\n",
       " None,\n",
       " None,\n",
       " None,\n",
       " None,\n",
       " None,\n",
       " None,\n",
       " None,\n",
       " None,\n",
       " None,\n",
       " None,\n",
       " None,\n",
       " None,\n",
       " None,\n",
       " None,\n",
       " None,\n",
       " None,\n",
       " None,\n",
       " None,\n",
       " None,\n",
       " None,\n",
       " None,\n",
       " None,\n",
       " None,\n",
       " None,\n",
       " None,\n",
       " None,\n",
       " None,\n",
       " None,\n",
       " None,\n",
       " None,\n",
       " None,\n",
       " None,\n",
       " None,\n",
       " None,\n",
       " None,\n",
       " None,\n",
       " None,\n",
       " None,\n",
       " None,\n",
       " None,\n",
       " None,\n",
       " None,\n",
       " None,\n",
       " None,\n",
       " None,\n",
       " None,\n",
       " None,\n",
       " None,\n",
       " None,\n",
       " None,\n",
       " None,\n",
       " None,\n",
       " None,\n",
       " None,\n",
       " None,\n",
       " None,\n",
       " None,\n",
       " None,\n",
       " None,\n",
       " None,\n",
       " None,\n",
       " None,\n",
       " None,\n",
       " None,\n",
       " None,\n",
       " None,\n",
       " None,\n",
       " None,\n",
       " None,\n",
       " None,\n",
       " None,\n",
       " None,\n",
       " None,\n",
       " None,\n",
       " None,\n",
       " None,\n",
       " None,\n",
       " None,\n",
       " None,\n",
       " None,\n",
       " None,\n",
       " None,\n",
       " None,\n",
       " None,\n",
       " None,\n",
       " None,\n",
       " None,\n",
       " None,\n",
       " None,\n",
       " None,\n",
       " None,\n",
       " None,\n",
       " None,\n",
       " None,\n",
       " None,\n",
       " None,\n",
       " None,\n",
       " None,\n",
       " None,\n",
       " None,\n",
       " None,\n",
       " None,\n",
       " None,\n",
       " None,\n",
       " None,\n",
       " None,\n",
       " None,\n",
       " None,\n",
       " None,\n",
       " None,\n",
       " None,\n",
       " None,\n",
       " None,\n",
       " None,\n",
       " None,\n",
       " None,\n",
       " None,\n",
       " None,\n",
       " None,\n",
       " None,\n",
       " None,\n",
       " None,\n",
       " None,\n",
       " None,\n",
       " None,\n",
       " None,\n",
       " None,\n",
       " None,\n",
       " None,\n",
       " None,\n",
       " None,\n",
       " None,\n",
       " None,\n",
       " None,\n",
       " None,\n",
       " None,\n",
       " None,\n",
       " None,\n",
       " None,\n",
       " None,\n",
       " None,\n",
       " None,\n",
       " None,\n",
       " None,\n",
       " None,\n",
       " None,\n",
       " None,\n",
       " None,\n",
       " None,\n",
       " None,\n",
       " None,\n",
       " None,\n",
       " None,\n",
       " None,\n",
       " None,\n",
       " None,\n",
       " None,\n",
       " None,\n",
       " None,\n",
       " None,\n",
       " None,\n",
       " None]"
      ]
     },
     "execution_count": 15,
     "metadata": {},
     "output_type": "execute_result"
    }
   ],
   "source": [
    "[explore_class(class_name, df_rotulos) for class_name in df_rotulos['processed_classes'].unique()]"
   ]
  },
  {
   "cell_type": "code",
   "execution_count": 293,
   "metadata": {},
   "outputs": [
    {
     "name": "stdout",
     "output_type": "stream",
     "text": [
      "aviso licitacao\n"
     ]
    },
    {
     "data": {
      "text/plain": [
       "city\n",
       "cristais            2\n",
       "itamarati           2\n",
       "pirapetinga        90\n",
       "sao-bento-abade     1\n",
       "dtype: int64"
      ]
     },
     "metadata": {},
     "output_type": "display_data"
    },
    {
     "name": "stdout",
     "output_type": "stream",
     "text": [
      "['sao-bento-abade' 'cristais' 'pirapetinga' 'itamarati']\n",
      "4\n",
      "====================================================================================================\n"
     ]
    }
   ],
   "source": [
    "class_name = 'aviso licitacao'\n",
    "explore_class(class_name, df_rotulos)"
   ]
  },
  {
   "cell_type": "code",
   "execution_count": 294,
   "metadata": {
    "scrolled": false
   },
   "outputs": [
    {
     "data": {
      "text/html": [
       "<div>\n",
       "<style scoped>\n",
       "    .dataframe tbody tr th:only-of-type {\n",
       "        vertical-align: middle;\n",
       "    }\n",
       "\n",
       "    .dataframe tbody tr th {\n",
       "        vertical-align: top;\n",
       "    }\n",
       "\n",
       "    .dataframe thead th {\n",
       "        text-align: right;\n",
       "    }\n",
       "</style>\n",
       "<table border=\"1\" class=\"dataframe\">\n",
       "  <thead>\n",
       "    <tr style=\"text-align: right;\">\n",
       "      <th></th>\n",
       "      <th>number</th>\n",
       "      <th>doc_id</th>\n",
       "      <th>title</th>\n",
       "      <th>city</th>\n",
       "      <th>all_matches</th>\n",
       "      <th>meta-class</th>\n",
       "      <th>real_meta-class</th>\n",
       "      <th>real_class</th>\n",
       "      <th>key_words</th>\n",
       "      <th>obs</th>\n",
       "      <th>escaneado</th>\n",
       "      <th>processed_classes</th>\n",
       "    </tr>\n",
       "  </thead>\n",
       "  <tbody>\n",
       "    <tr>\n",
       "      <th>33</th>\n",
       "      <td>33</td>\n",
       "      <td>41bb83c74f0429de1086ebcf63901d14</td>\n",
       "      <td>cnpj 17 877 176 0001 29   fone 0 35 3236 121...</td>\n",
       "      <td>sao-bento-abade</td>\n",
       "      <td>[]</td>\n",
       "      <td>OUTROS</td>\n",
       "      <td>OUTROS</td>\n",
       "      <td>AVISO DE LICITAÇÃO</td>\n",
       "      <td>AVISO</td>\n",
       "      <td>NaN</td>\n",
       "      <td>NaN</td>\n",
       "      <td>aviso licitacao</td>\n",
       "    </tr>\n",
       "    <tr>\n",
       "      <th>1864</th>\n",
       "      <td>105</td>\n",
       "      <td>e2b96ec39104508596819b3452daebe4</td>\n",
       "      <td>diário oficial do município  aviso de licitaçã...</td>\n",
       "      <td>cristais</td>\n",
       "      <td>['diário oficial', 'aviso de']</td>\n",
       "      <td>OUTROS</td>\n",
       "      <td>OUTROS</td>\n",
       "      <td>AVISO DE LICITAÇÃO</td>\n",
       "      <td>NaN</td>\n",
       "      <td>No título aparece diário oficial do municipio</td>\n",
       "      <td>NaN</td>\n",
       "      <td>aviso licitacao</td>\n",
       "    </tr>\n",
       "    <tr>\n",
       "      <th>1871</th>\n",
       "      <td>112</td>\n",
       "      <td>60723b287fd2094a9a65d6460309eeb4</td>\n",
       "      <td>diário oficial do município  aviso de licitaçã...</td>\n",
       "      <td>cristais</td>\n",
       "      <td>['diário oficial', 'aviso de']</td>\n",
       "      <td>OUTROS</td>\n",
       "      <td>OUTROS</td>\n",
       "      <td>AVISO DE LICITAÇÃO</td>\n",
       "      <td>NaN</td>\n",
       "      <td>No título aparece diário oficial do municipio</td>\n",
       "      <td>NaN</td>\n",
       "      <td>aviso licitacao</td>\n",
       "    </tr>\n",
       "    <tr>\n",
       "      <th>3091</th>\n",
       "      <td>45</td>\n",
       "      <td>ea278081883087bf32fd33184e921171</td>\n",
       "      <td>prefeitura municipal de pirapetinga  cep 36 73...</td>\n",
       "      <td>pirapetinga</td>\n",
       "      <td>['edital', 'edital', 'aviso de']</td>\n",
       "      <td>OUTROS</td>\n",
       "      <td>OUTROS</td>\n",
       "      <td>AVISO DE LICITAÇÃO</td>\n",
       "      <td>AVISO, LICITACAO</td>\n",
       "      <td>NaN</td>\n",
       "      <td>NaN</td>\n",
       "      <td>aviso licitacao</td>\n",
       "    </tr>\n",
       "    <tr>\n",
       "      <th>3096</th>\n",
       "      <td>50</td>\n",
       "      <td>4fb9cac8a18f49a2f1b857bc95e14353</td>\n",
       "      <td>prefeitura municipal de pirapetinga  cep 36 73...</td>\n",
       "      <td>pirapetinga</td>\n",
       "      <td>['edital', 'edital', 'aviso de']</td>\n",
       "      <td>OUTROS</td>\n",
       "      <td>OUTROS</td>\n",
       "      <td>AVISO DE LICITAÇÃO</td>\n",
       "      <td>AVISO, LICITACAO</td>\n",
       "      <td>NaN</td>\n",
       "      <td>NaN</td>\n",
       "      <td>aviso licitacao</td>\n",
       "    </tr>\n",
       "    <tr>\n",
       "      <th>...</th>\n",
       "      <td>...</td>\n",
       "      <td>...</td>\n",
       "      <td>...</td>\n",
       "      <td>...</td>\n",
       "      <td>...</td>\n",
       "      <td>...</td>\n",
       "      <td>...</td>\n",
       "      <td>...</td>\n",
       "      <td>...</td>\n",
       "      <td>...</td>\n",
       "      <td>...</td>\n",
       "      <td>...</td>\n",
       "    </tr>\n",
       "    <tr>\n",
       "      <th>3774</th>\n",
       "      <td>728</td>\n",
       "      <td>a1ca2ada69ef0dbe413472136a5e835d</td>\n",
       "      <td>prefeitura municipal de pirapetinga  cep 36 73...</td>\n",
       "      <td>pirapetinga</td>\n",
       "      <td>['edital', 'edital', 'aviso de']</td>\n",
       "      <td>OUTROS</td>\n",
       "      <td>OUTROS</td>\n",
       "      <td>AVISO DE LICITACAO</td>\n",
       "      <td>NaN</td>\n",
       "      <td>NaN</td>\n",
       "      <td>NaN</td>\n",
       "      <td>aviso licitacao</td>\n",
       "    </tr>\n",
       "    <tr>\n",
       "      <th>3778</th>\n",
       "      <td>732</td>\n",
       "      <td>d83e6e4d1524aa3190c6f42a8541fd78</td>\n",
       "      <td>prefeitura municipal de pirapetinga  cep 36 73...</td>\n",
       "      <td>pirapetinga</td>\n",
       "      <td>['edital', 'edital', 'aviso de']</td>\n",
       "      <td>OUTROS</td>\n",
       "      <td>OUTROS</td>\n",
       "      <td>AVISO DE LICITACAO</td>\n",
       "      <td>NaN</td>\n",
       "      <td>NaN</td>\n",
       "      <td>NaN</td>\n",
       "      <td>aviso licitacao</td>\n",
       "    </tr>\n",
       "    <tr>\n",
       "      <th>3828</th>\n",
       "      <td>782</td>\n",
       "      <td>205b1a16685c51eaf85358f2ae1a489a</td>\n",
       "      <td>prefeitura municipal de pirapetinga  cep 36 73...</td>\n",
       "      <td>pirapetinga</td>\n",
       "      <td>['edital', 'edital', 'aviso de']</td>\n",
       "      <td>OUTROS</td>\n",
       "      <td>OUTROS</td>\n",
       "      <td>AVISO DE LICITACAO</td>\n",
       "      <td>NaN</td>\n",
       "      <td>NaN</td>\n",
       "      <td>NaN</td>\n",
       "      <td>aviso licitacao</td>\n",
       "    </tr>\n",
       "    <tr>\n",
       "      <th>4676</th>\n",
       "      <td>145</td>\n",
       "      <td>064896ebd0519676fef30c0912b2c7e6</td>\n",
       "      <td>prefeitura municipal de itamarati de minas   e...</td>\n",
       "      <td>itamarati</td>\n",
       "      <td>['sessão pública', 'edital', 'edital', 'edital']</td>\n",
       "      <td>EDITAL</td>\n",
       "      <td>OUTROS</td>\n",
       "      <td>AVISO DE LICITAÇÃO</td>\n",
       "      <td>NaN</td>\n",
       "      <td>NaN</td>\n",
       "      <td>NaN</td>\n",
       "      <td>aviso licitacao</td>\n",
       "    </tr>\n",
       "    <tr>\n",
       "      <th>4992</th>\n",
       "      <td>461</td>\n",
       "      <td>a9bfdcf19b298c78c4e2051435516b82</td>\n",
       "      <td>prefeitura municipal de itamarati de minas   e...</td>\n",
       "      <td>itamarati</td>\n",
       "      <td>['sessão pública', 'edital', 'edital', 'edital']</td>\n",
       "      <td>EDITAL</td>\n",
       "      <td>EDITAL</td>\n",
       "      <td>AVISO DE LICITAÇÃO</td>\n",
       "      <td>NaN</td>\n",
       "      <td>NaN</td>\n",
       "      <td>NaN</td>\n",
       "      <td>aviso licitacao</td>\n",
       "    </tr>\n",
       "  </tbody>\n",
       "</table>\n",
       "<p>95 rows × 12 columns</p>\n",
       "</div>"
      ],
      "text/plain": [
       "      number                            doc_id  \\\n",
       "33        33  41bb83c74f0429de1086ebcf63901d14   \n",
       "1864     105  e2b96ec39104508596819b3452daebe4   \n",
       "1871     112  60723b287fd2094a9a65d6460309eeb4   \n",
       "3091      45  ea278081883087bf32fd33184e921171   \n",
       "3096      50  4fb9cac8a18f49a2f1b857bc95e14353   \n",
       "...      ...                               ...   \n",
       "3774     728  a1ca2ada69ef0dbe413472136a5e835d   \n",
       "3778     732  d83e6e4d1524aa3190c6f42a8541fd78   \n",
       "3828     782  205b1a16685c51eaf85358f2ae1a489a   \n",
       "4676     145  064896ebd0519676fef30c0912b2c7e6   \n",
       "4992     461  a9bfdcf19b298c78c4e2051435516b82   \n",
       "\n",
       "                                                  title             city  \\\n",
       "33      cnpj 17 877 176 0001 29   fone 0 35 3236 121...  sao-bento-abade   \n",
       "1864  diário oficial do município  aviso de licitaçã...         cristais   \n",
       "1871  diário oficial do município  aviso de licitaçã...         cristais   \n",
       "3091  prefeitura municipal de pirapetinga  cep 36 73...      pirapetinga   \n",
       "3096  prefeitura municipal de pirapetinga  cep 36 73...      pirapetinga   \n",
       "...                                                 ...              ...   \n",
       "3774  prefeitura municipal de pirapetinga  cep 36 73...      pirapetinga   \n",
       "3778  prefeitura municipal de pirapetinga  cep 36 73...      pirapetinga   \n",
       "3828  prefeitura municipal de pirapetinga  cep 36 73...      pirapetinga   \n",
       "4676  prefeitura municipal de itamarati de minas   e...        itamarati   \n",
       "4992  prefeitura municipal de itamarati de minas   e...        itamarati   \n",
       "\n",
       "                                           all_matches meta-class  \\\n",
       "33                                                  []     OUTROS   \n",
       "1864                    ['diário oficial', 'aviso de']     OUTROS   \n",
       "1871                    ['diário oficial', 'aviso de']     OUTROS   \n",
       "3091                  ['edital', 'edital', 'aviso de']     OUTROS   \n",
       "3096                  ['edital', 'edital', 'aviso de']     OUTROS   \n",
       "...                                                ...        ...   \n",
       "3774                  ['edital', 'edital', 'aviso de']     OUTROS   \n",
       "3778                  ['edital', 'edital', 'aviso de']     OUTROS   \n",
       "3828                  ['edital', 'edital', 'aviso de']     OUTROS   \n",
       "4676  ['sessão pública', 'edital', 'edital', 'edital']     EDITAL   \n",
       "4992  ['sessão pública', 'edital', 'edital', 'edital']     EDITAL   \n",
       "\n",
       "     real_meta-class          real_class         key_words  \\\n",
       "33            OUTROS  AVISO DE LICITAÇÃO             AVISO   \n",
       "1864          OUTROS  AVISO DE LICITAÇÃO               NaN   \n",
       "1871          OUTROS  AVISO DE LICITAÇÃO               NaN   \n",
       "3091          OUTROS  AVISO DE LICITAÇÃO  AVISO, LICITACAO   \n",
       "3096          OUTROS  AVISO DE LICITAÇÃO  AVISO, LICITACAO   \n",
       "...              ...                 ...               ...   \n",
       "3774          OUTROS  AVISO DE LICITACAO               NaN   \n",
       "3778          OUTROS  AVISO DE LICITACAO               NaN   \n",
       "3828          OUTROS  AVISO DE LICITACAO               NaN   \n",
       "4676          OUTROS  AVISO DE LICITAÇÃO               NaN   \n",
       "4992          EDITAL  AVISO DE LICITAÇÃO               NaN   \n",
       "\n",
       "                                                obs  escaneado  \\\n",
       "33                                              NaN        NaN   \n",
       "1864  No título aparece diário oficial do municipio        NaN   \n",
       "1871  No título aparece diário oficial do municipio        NaN   \n",
       "3091                                            NaN        NaN   \n",
       "3096                                            NaN        NaN   \n",
       "...                                             ...        ...   \n",
       "3774                                            NaN        NaN   \n",
       "3778                                            NaN        NaN   \n",
       "3828                                            NaN        NaN   \n",
       "4676                                            NaN        NaN   \n",
       "4992                                            NaN        NaN   \n",
       "\n",
       "     processed_classes  \n",
       "33     aviso licitacao  \n",
       "1864   aviso licitacao  \n",
       "1871   aviso licitacao  \n",
       "3091   aviso licitacao  \n",
       "3096   aviso licitacao  \n",
       "...                ...  \n",
       "3774   aviso licitacao  \n",
       "3778   aviso licitacao  \n",
       "3828   aviso licitacao  \n",
       "4676   aviso licitacao  \n",
       "4992   aviso licitacao  \n",
       "\n",
       "[95 rows x 12 columns]"
      ]
     },
     "execution_count": 294,
     "metadata": {},
     "output_type": "execute_result"
    }
   ],
   "source": [
    "df_rotulos.loc[df_rotulos['processed_classes'] == class_name]"
   ]
  },
  {
   "cell_type": "code",
   "execution_count": 21,
   "metadata": {
    "scrolled": false
   },
   "outputs": [
    {
     "data": {
      "text/html": [
       "<div>\n",
       "<style scoped>\n",
       "    .dataframe tbody tr th:only-of-type {\n",
       "        vertical-align: middle;\n",
       "    }\n",
       "\n",
       "    .dataframe tbody tr th {\n",
       "        vertical-align: top;\n",
       "    }\n",
       "\n",
       "    .dataframe thead th {\n",
       "        text-align: right;\n",
       "    }\n",
       "</style>\n",
       "<table border=\"1\" class=\"dataframe\">\n",
       "  <thead>\n",
       "    <tr style=\"text-align: right;\">\n",
       "      <th></th>\n",
       "      <th>number</th>\n",
       "      <th>doc_id</th>\n",
       "      <th>title</th>\n",
       "      <th>city</th>\n",
       "      <th>all_matches</th>\n",
       "      <th>meta-class</th>\n",
       "      <th>real_meta-class</th>\n",
       "      <th>real_class</th>\n",
       "      <th>key_words</th>\n",
       "      <th>obs</th>\n",
       "      <th>escaneado</th>\n",
       "      <th>processed_classes</th>\n",
       "    </tr>\n",
       "  </thead>\n",
       "  <tbody>\n",
       "    <tr>\n",
       "      <th>1923</th>\n",
       "      <td>164</td>\n",
       "      <td>c8cc587ca217d520a9065b4109a06a5e</td>\n",
       "      <td>prefeitura municipal de cristais  praça cel jo...</td>\n",
       "      <td>cristais</td>\n",
       "      <td>['ata', 'sessão pública', 'edital', 'edital']</td>\n",
       "      <td>ATA</td>\n",
       "      <td>ATA</td>\n",
       "      <td>ATA DE CHAMADA PÚBLICA</td>\n",
       "      <td>NaN</td>\n",
       "      <td>NaN</td>\n",
       "      <td>NaN</td>\n",
       "      <td>ata chamada publica</td>\n",
       "    </tr>\n",
       "  </tbody>\n",
       "</table>\n",
       "</div>"
      ],
      "text/plain": [
       "      number                            doc_id  \\\n",
       "1923     164  c8cc587ca217d520a9065b4109a06a5e   \n",
       "\n",
       "                                                  title      city  \\\n",
       "1923  prefeitura municipal de cristais  praça cel jo...  cristais   \n",
       "\n",
       "                                        all_matches meta-class  \\\n",
       "1923  ['ata', 'sessão pública', 'edital', 'edital']        ATA   \n",
       "\n",
       "     real_meta-class              real_class key_words  obs  escaneado  \\\n",
       "1923             ATA  ATA DE CHAMADA PÚBLICA       NaN  NaN        NaN   \n",
       "\n",
       "        processed_classes  \n",
       "1923  ata chamada publica  "
      ]
     },
     "execution_count": 21,
     "metadata": {},
     "output_type": "execute_result"
    }
   ],
   "source": [
    "df_rotulos.loc[(df_rotulos['processed_classes'] == class_name) & (df_rotulos['real_meta-class'] != 'HOMOLOG')]"
   ]
  },
  {
   "cell_type": "code",
   "execution_count": 50,
   "metadata": {},
   "outputs": [
    {
     "name": "stdout",
     "output_type": "stream",
     "text": [
      "ata sessao abetura licitacao\n"
     ]
    },
    {
     "data": {
      "text/plain": [
       "city\n",
       "cristais       9\n",
       "pirapetinga    1\n",
       "dtype: int64"
      ]
     },
     "metadata": {},
     "output_type": "display_data"
    },
    {
     "name": "stdout",
     "output_type": "stream",
     "text": [
      "['cristais' 'pirapetinga']\n",
      "2\n",
      "====================================================================================================\n"
     ]
    }
   ],
   "source": [
    "class_name = 'ata sessao abetura licitacao'\n",
    "explore_class(class_name, df_rotulos)"
   ]
  },
  {
   "cell_type": "code",
   "execution_count": 51,
   "metadata": {},
   "outputs": [
    {
     "data": {
      "text/html": [
       "<div>\n",
       "<style scoped>\n",
       "    .dataframe tbody tr th:only-of-type {\n",
       "        vertical-align: middle;\n",
       "    }\n",
       "\n",
       "    .dataframe tbody tr th {\n",
       "        vertical-align: top;\n",
       "    }\n",
       "\n",
       "    .dataframe thead th {\n",
       "        text-align: right;\n",
       "    }\n",
       "</style>\n",
       "<table border=\"1\" class=\"dataframe\">\n",
       "  <thead>\n",
       "    <tr style=\"text-align: right;\">\n",
       "      <th></th>\n",
       "      <th>number</th>\n",
       "      <th>doc_id</th>\n",
       "      <th>title</th>\n",
       "      <th>city</th>\n",
       "      <th>all_matches</th>\n",
       "      <th>meta-class</th>\n",
       "      <th>real_meta-class</th>\n",
       "      <th>real_class</th>\n",
       "      <th>key_words</th>\n",
       "      <th>obs</th>\n",
       "      <th>escaneado</th>\n",
       "      <th>processed_classes</th>\n",
       "    </tr>\n",
       "  </thead>\n",
       "  <tbody>\n",
       "    <tr>\n",
       "      <th>1760</th>\n",
       "      <td>1</td>\n",
       "      <td>2cb3f9bdfa78bee9de9937c2a8c42174</td>\n",
       "      <td>prefeitura municipal de cristais  praça cel jo...</td>\n",
       "      <td>cristais</td>\n",
       "      <td>['ata', 'sessão pública']</td>\n",
       "      <td>ATA</td>\n",
       "      <td>ATA</td>\n",
       "      <td>ATA DE SESSÃO DE ABETURA DE LICITAÇÃO</td>\n",
       "      <td>NaN</td>\n",
       "      <td>NaN</td>\n",
       "      <td>NaN</td>\n",
       "      <td>ata sessao abetura licitacao</td>\n",
       "    </tr>\n",
       "    <tr>\n",
       "      <th>1761</th>\n",
       "      <td>2</td>\n",
       "      <td>f1287cc8fcccf899d0b5d7446381eb34</td>\n",
       "      <td>ata do pregão presencial n 017 2017  aos 09 03...</td>\n",
       "      <td>cristais</td>\n",
       "      <td>['ata', 'sessão pública']</td>\n",
       "      <td>ATA</td>\n",
       "      <td>ATA</td>\n",
       "      <td>ATA DE SESSÃO DE ABETURA DE LICITAÇÃO</td>\n",
       "      <td>NaN</td>\n",
       "      <td>NaN</td>\n",
       "      <td>NaN</td>\n",
       "      <td>ata sessao abetura licitacao</td>\n",
       "    </tr>\n",
       "    <tr>\n",
       "      <th>1765</th>\n",
       "      <td>6</td>\n",
       "      <td>b811b453d6ce70cb0bfc588161b96dd2</td>\n",
       "      <td>ata do pregão presencial n 24 2017  aos 04 04 ...</td>\n",
       "      <td>cristais</td>\n",
       "      <td>['ata', 'sessão pública', 'edital']</td>\n",
       "      <td>ATA</td>\n",
       "      <td>ATA</td>\n",
       "      <td>ATA DE SESSÃO DE ABETURA DE LICITAÇÃO</td>\n",
       "      <td>NaN</td>\n",
       "      <td>NaN</td>\n",
       "      <td>NaN</td>\n",
       "      <td>ata sessao abetura licitacao</td>\n",
       "    </tr>\n",
       "    <tr>\n",
       "      <th>1766</th>\n",
       "      <td>7</td>\n",
       "      <td>6dd12515afd2ccf77deb66e2d96d4da9</td>\n",
       "      <td>prefeitura municipal de cristais  praça cel jo...</td>\n",
       "      <td>cristais</td>\n",
       "      <td>['ata', 'sessão pública']</td>\n",
       "      <td>ATA</td>\n",
       "      <td>ATA</td>\n",
       "      <td>ATA DE SESSÃO DE ABETURA DE LICITAÇÃO</td>\n",
       "      <td>NaN</td>\n",
       "      <td>NaN</td>\n",
       "      <td>NaN</td>\n",
       "      <td>ata sessao abetura licitacao</td>\n",
       "    </tr>\n",
       "    <tr>\n",
       "      <th>1767</th>\n",
       "      <td>8</td>\n",
       "      <td>67dfdf460e020cbafa3d5dcb42153132</td>\n",
       "      <td>ata do pregão presencial n 00040 2015  aos 18 ...</td>\n",
       "      <td>cristais</td>\n",
       "      <td>['ata', 'sessão pública', 'edital']</td>\n",
       "      <td>ATA</td>\n",
       "      <td>ATA</td>\n",
       "      <td>ATA DE SESSÃO DE ABETURA DE LICITAÇÃO</td>\n",
       "      <td>NaN</td>\n",
       "      <td>NaN</td>\n",
       "      <td>NaN</td>\n",
       "      <td>ata sessao abetura licitacao</td>\n",
       "    </tr>\n",
       "    <tr>\n",
       "      <th>1769</th>\n",
       "      <td>10</td>\n",
       "      <td>5a1d3235d4893a0e166fc87b4f30de5b</td>\n",
       "      <td>prefeitura municipal de cristais  praça cel jo...</td>\n",
       "      <td>cristais</td>\n",
       "      <td>['ata', 'sessão pública', 'edital']</td>\n",
       "      <td>ATA</td>\n",
       "      <td>ATA</td>\n",
       "      <td>ATA DE SESSÃO DE ABETURA DE LICITAÇÃO</td>\n",
       "      <td>NaN</td>\n",
       "      <td>NaN</td>\n",
       "      <td>NaN</td>\n",
       "      <td>ata sessao abetura licitacao</td>\n",
       "    </tr>\n",
       "    <tr>\n",
       "      <th>1770</th>\n",
       "      <td>11</td>\n",
       "      <td>1a0df92c6a295bd4ea4776a4e61c9bc8</td>\n",
       "      <td>ata do pregão presencial n 033 2015  aos 23 06...</td>\n",
       "      <td>cristais</td>\n",
       "      <td>['ata', 'ata', 'sessão pública', 'homologação'...</td>\n",
       "      <td>ATA</td>\n",
       "      <td>ATA</td>\n",
       "      <td>ATA DE SESSÃO DE ABETURA DE LICITAÇÃO</td>\n",
       "      <td>envelopes</td>\n",
       "      <td>NaN</td>\n",
       "      <td>NaN</td>\n",
       "      <td>ata sessao abetura licitacao</td>\n",
       "    </tr>\n",
       "    <tr>\n",
       "      <th>1771</th>\n",
       "      <td>12</td>\n",
       "      <td>dbd06aba9f943c1dfda6dd3e05f283ee</td>\n",
       "      <td>ata do pregão presencial n 00036 2015  aos 30 ...</td>\n",
       "      <td>cristais</td>\n",
       "      <td>['ata', 'ata', 'sessão pública']</td>\n",
       "      <td>ATA</td>\n",
       "      <td>ATA</td>\n",
       "      <td>ATA DE SESSÃO DE ABETURA DE LICITAÇÃO</td>\n",
       "      <td>NaN</td>\n",
       "      <td>NaN</td>\n",
       "      <td>NaN</td>\n",
       "      <td>ata sessao abetura licitacao</td>\n",
       "    </tr>\n",
       "    <tr>\n",
       "      <th>1772</th>\n",
       "      <td>13</td>\n",
       "      <td>94cbb7c0710eda204d32940b26503796</td>\n",
       "      <td>ata do pregão presencial n 00058 2017  aos 27 ...</td>\n",
       "      <td>cristais</td>\n",
       "      <td>['ata', 'sessão pública']</td>\n",
       "      <td>ATA</td>\n",
       "      <td>ATA</td>\n",
       "      <td>ATA DE SESSÃO DE ABETURA DE LICITAÇÃO</td>\n",
       "      <td>NaN</td>\n",
       "      <td>NaN</td>\n",
       "      <td>NaN</td>\n",
       "      <td>ata sessao abetura licitacao</td>\n",
       "    </tr>\n",
       "    <tr>\n",
       "      <th>3052</th>\n",
       "      <td>6</td>\n",
       "      <td>88819c18e27860449b0162bef68d4a68</td>\n",
       "      <td>prefeitura municipal de pirapetinga  cep 36 73...</td>\n",
       "      <td>pirapetinga</td>\n",
       "      <td>['ata', 'ata', 'homologação', 'adjudicação', '...</td>\n",
       "      <td>ATA</td>\n",
       "      <td>ATA</td>\n",
       "      <td>ATA DE SESSÃO DE ABETURA DE LICITAÇÃO</td>\n",
       "      <td>NaN</td>\n",
       "      <td>NaN</td>\n",
       "      <td>NaN</td>\n",
       "      <td>ata sessao abetura licitacao</td>\n",
       "    </tr>\n",
       "  </tbody>\n",
       "</table>\n",
       "</div>"
      ],
      "text/plain": [
       "      number                            doc_id  \\\n",
       "1760       1  2cb3f9bdfa78bee9de9937c2a8c42174   \n",
       "1761       2  f1287cc8fcccf899d0b5d7446381eb34   \n",
       "1765       6  b811b453d6ce70cb0bfc588161b96dd2   \n",
       "1766       7  6dd12515afd2ccf77deb66e2d96d4da9   \n",
       "1767       8  67dfdf460e020cbafa3d5dcb42153132   \n",
       "1769      10  5a1d3235d4893a0e166fc87b4f30de5b   \n",
       "1770      11  1a0df92c6a295bd4ea4776a4e61c9bc8   \n",
       "1771      12  dbd06aba9f943c1dfda6dd3e05f283ee   \n",
       "1772      13  94cbb7c0710eda204d32940b26503796   \n",
       "3052       6  88819c18e27860449b0162bef68d4a68   \n",
       "\n",
       "                                                  title         city  \\\n",
       "1760  prefeitura municipal de cristais  praça cel jo...     cristais   \n",
       "1761  ata do pregão presencial n 017 2017  aos 09 03...     cristais   \n",
       "1765  ata do pregão presencial n 24 2017  aos 04 04 ...     cristais   \n",
       "1766  prefeitura municipal de cristais  praça cel jo...     cristais   \n",
       "1767  ata do pregão presencial n 00040 2015  aos 18 ...     cristais   \n",
       "1769  prefeitura municipal de cristais  praça cel jo...     cristais   \n",
       "1770  ata do pregão presencial n 033 2015  aos 23 06...     cristais   \n",
       "1771  ata do pregão presencial n 00036 2015  aos 30 ...     cristais   \n",
       "1772  ata do pregão presencial n 00058 2017  aos 27 ...     cristais   \n",
       "3052  prefeitura municipal de pirapetinga  cep 36 73...  pirapetinga   \n",
       "\n",
       "                                            all_matches meta-class  \\\n",
       "1760                          ['ata', 'sessão pública']        ATA   \n",
       "1761                          ['ata', 'sessão pública']        ATA   \n",
       "1765                ['ata', 'sessão pública', 'edital']        ATA   \n",
       "1766                          ['ata', 'sessão pública']        ATA   \n",
       "1767                ['ata', 'sessão pública', 'edital']        ATA   \n",
       "1769                ['ata', 'sessão pública', 'edital']        ATA   \n",
       "1770  ['ata', 'ata', 'sessão pública', 'homologação'...        ATA   \n",
       "1771                   ['ata', 'ata', 'sessão pública']        ATA   \n",
       "1772                          ['ata', 'sessão pública']        ATA   \n",
       "3052  ['ata', 'ata', 'homologação', 'adjudicação', '...        ATA   \n",
       "\n",
       "     real_meta-class                             real_class  key_words  obs  \\\n",
       "1760             ATA  ATA DE SESSÃO DE ABETURA DE LICITAÇÃO        NaN  NaN   \n",
       "1761             ATA  ATA DE SESSÃO DE ABETURA DE LICITAÇÃO        NaN  NaN   \n",
       "1765             ATA  ATA DE SESSÃO DE ABETURA DE LICITAÇÃO        NaN  NaN   \n",
       "1766             ATA  ATA DE SESSÃO DE ABETURA DE LICITAÇÃO        NaN  NaN   \n",
       "1767             ATA  ATA DE SESSÃO DE ABETURA DE LICITAÇÃO        NaN  NaN   \n",
       "1769             ATA  ATA DE SESSÃO DE ABETURA DE LICITAÇÃO        NaN  NaN   \n",
       "1770             ATA  ATA DE SESSÃO DE ABETURA DE LICITAÇÃO  envelopes  NaN   \n",
       "1771             ATA  ATA DE SESSÃO DE ABETURA DE LICITAÇÃO        NaN  NaN   \n",
       "1772             ATA  ATA DE SESSÃO DE ABETURA DE LICITAÇÃO        NaN  NaN   \n",
       "3052             ATA  ATA DE SESSÃO DE ABETURA DE LICITAÇÃO        NaN  NaN   \n",
       "\n",
       "      escaneado             processed_classes  \n",
       "1760        NaN  ata sessao abetura licitacao  \n",
       "1761        NaN  ata sessao abetura licitacao  \n",
       "1765        NaN  ata sessao abetura licitacao  \n",
       "1766        NaN  ata sessao abetura licitacao  \n",
       "1767        NaN  ata sessao abetura licitacao  \n",
       "1769        NaN  ata sessao abetura licitacao  \n",
       "1770        NaN  ata sessao abetura licitacao  \n",
       "1771        NaN  ata sessao abetura licitacao  \n",
       "1772        NaN  ata sessao abetura licitacao  \n",
       "3052        NaN  ata sessao abetura licitacao  "
      ]
     },
     "execution_count": 51,
     "metadata": {},
     "output_type": "execute_result"
    }
   ],
   "source": [
    "df_rotulos.loc[df_rotulos['processed_classes'] == class_name]"
   ]
  },
  {
   "cell_type": "markdown",
   "metadata": {},
   "source": []
  },
  {
   "cell_type": "code",
   "execution_count": null,
   "metadata": {},
   "outputs": [],
   "source": [
    "import argparse\n",
    "import re\n",
    "import subprocess\n",
    "\n",
    "import pandas as pd\n",
    "import psutil\n",
    "import requests\n",
    "import tabulate\n",
    "\n",
    "kernel_regex = re.compile(r\".+kernel-(.+)\\.json\")\n",
    "notebook_regex = re.compile(r\"(https?://([^:/]+):?(\\d+)?)/?(\\?token=([a-z0-9]+))?\")\n",
    "\n",
    "\n",
    "def get_proc_info():\n",
    "    pids = psutil.pids()\n",
    "\n",
    "    # memory info from psutil.Process\n",
    "    df_mem = []\n",
    "\n",
    "    for pid in pids:\n",
    "        try:\n",
    "            proc = psutil.Process(pid)\n",
    "            cmd = \" \".join(proc.cmdline())\n",
    "        except psutil.NoSuchProcess:\n",
    "            continue\n",
    "\n",
    "        if len(cmd) > 0 and (\"jupyter\" in cmd or \"ipython\" in cmd) and \"kernel\" in cmd:\n",
    "            # kernel\n",
    "            kernel_ID = re.sub(kernel_regex, r\"\\1\", cmd)\n",
    "\n",
    "            # memory\n",
    "            mem = proc.memory_info()[0] / float(1e9)\n",
    "\n",
    "            uname = proc.username()\n",
    "\n",
    "            # user, pid, memory, kernel_ID\n",
    "            df_mem.append([uname, pid, mem, kernel_ID])\n",
    "\n",
    "    df_mem = pd.DataFrame(df_mem)\n",
    "    df_mem.columns = [\"user\", \"pid\", \"memory_GB\", \"kernel_ID\"]\n",
    "    return df_mem\n",
    "\n",
    "\n",
    "def get_running_notebooks():\n",
    "    notebooks = []\n",
    "\n",
    "    for n in subprocess.Popen(\n",
    "        [\"jupyter\", \"notebook\", \"list\"], stdout=subprocess.PIPE\n",
    "    ).stdout.readlines()[1:]:\n",
    "        match = re.match(notebook_regex, n.decode())\n",
    "        if match:\n",
    "            base_url, host, port, _, token = match.groups()\n",
    "            notebooks.append({\"base_url\": base_url, \"token\": token})\n",
    "        else:\n",
    "            print(\"Unknown format: {}\".format(n.decode()))\n",
    "\n",
    "    return notebooks\n",
    "\n",
    "\n",
    "def get_session_info(password=None):\n",
    "    df_nb = []\n",
    "    kernels = []\n",
    "\n",
    "    for notebook in get_running_notebooks():\n",
    "        s = requests.Session()\n",
    "        if notebook[\"token\"] is not None:\n",
    "            s.get(notebook[\"base_url\"] + \"/?token=\" + notebook[\"token\"])\n",
    "        else:\n",
    "            # do a get to the base url to get the session cookies\n",
    "            s.get(notebook[\"base_url\"])\n",
    "        if password is not None:\n",
    "            # Seems jupyter auth process has changed, need to first get a cookie,\n",
    "            # then add that cookie to the data being sent over with the password\n",
    "            data = {\"password\": password}\n",
    "            data.update(s.cookies)\n",
    "            s.post(notebook[\"base_url\"] + \"/login\", data=data)\n",
    "\n",
    "        res = s.get(notebook[\"base_url\"] + \"/api/sessions\")\n",
    "\n",
    "        if res.status_code != 200:\n",
    "            raise Exception(res.json())\n",
    "\n",
    "        for sess in res.json():\n",
    "            kernel_ID = sess[\"kernel\"][\"id\"]\n",
    "            if kernel_ID not in kernels:\n",
    "                kernel = {\n",
    "                    \"kernel_ID\": kernel_ID,\n",
    "                    \"kernel_name\": sess[\"kernel\"][\"name\"],\n",
    "                    \"kernel_state\": sess[\"kernel\"][\"execution_state\"],\n",
    "                    \"kernel_connections\": sess[\"kernel\"][\"connections\"],\n",
    "                    # \"notebook_url\": notebook[\"base_url\"] + \"/notebook/\" + sess[\"id\"],\n",
    "                    \"notebook_path\": sess[\"path\"],\n",
    "                }\n",
    "                kernel.update(notebook)\n",
    "                df_nb.append(kernel)\n",
    "                kernels.append(kernel_ID)\n",
    "\n",
    "    df_nb = pd.DataFrame(df_nb)\n",
    "    del df_nb[\"token\"]\n",
    "    return df_nb\n",
    "\n",
    "\n",
    "def parse_args():\n",
    "    parser = argparse.ArgumentParser(description=\"Find memory usage.\")\n",
    "    parser.add_argument(\"--password\", help=\"password (only needed if pass-protected)\")\n",
    "\n",
    "    return parser.parse_args()\n",
    "\n",
    "\n",
    "def main(password=None, print_ascii=False):\n",
    "    df_mem = get_proc_info()\n",
    "    df_nb = get_session_info(password)\n",
    "\n",
    "    # joining tables\n",
    "    df = pd.merge(df_nb, df_mem, on=[\"kernel_ID\"], how=\"inner\")\n",
    "    df = df.sort_values(\"memory_GB\", ascending=False).reset_index(drop=True)\n",
    "    if print_ascii:\n",
    "        print(tabulate.tabulate(df, headers=(df.columns.tolist())))\n",
    "    return df\n",
    "\n",
    "\n",
    "if __name__ == \"__main__\":\n",
    "    #args = vars(parse_args())\n",
    "    main(None, print_ascii=True)"
   ]
  },
  {
   "cell_type": "markdown",
   "metadata": {},
   "source": [
    "# Julgamento"
   ]
  },
  {
   "cell_type": "code",
   "execution_count": 4,
   "metadata": {},
   "outputs": [],
   "source": [
    "import pandas as pd\n",
    "import glob"
   ]
  },
  {
   "cell_type": "code",
   "execution_count": 26,
   "metadata": {},
   "outputs": [
    {
     "name": "stdout",
     "output_type": "stream",
     "text": [
      "../data/dados_abertos/licitacao_2021/3100104/2021.3100104.licitacao.parecLicitacao.csv\n",
      "num_doc_resp_parecer\n",
      "../data/dados_abertos/licitacao_2021/3100104/2021.3100104.licitacao.respDispensa.csv\n",
      "num_doc_responsavel\n",
      "../data/dados_abertos/licitacao_2021/3100104/2021.3100104.licitacao.respLicitacao.csv\n",
      "num_documento\n",
      "../data/dados_abertos/licitacao_2021/3100104/2021.3100104.licitacao.comissaoLicitacao.csv\n",
      "num_documento\n",
      "../data/dados_abertos/licitacao_2021/3100104/2021.3100104.licitacao.fornDispensa.csv\n",
      "num_doc_fornecedor\n",
      "../data/dados_abertos/licitacao_2021/3100104/2021.3100104.licitacao.habLicitacao.csv\n",
      "num_documento\n",
      "../data/dados_abertos/licitacao_2021/3100104/2021.3100104.licitacao.quadroSocLicitacao.csv\n",
      "num_documento\n",
      "../data/dados_abertos/licitacao_2021/3100104/2021.3100104.licitacao.homologLicitacao.csv\n",
      "num_doc_vencedor\n",
      "../data/dados_abertos/licitacao_2021/3100104/2021.3100104.licitacao.credDispensa.csv\n",
      "num_doc_credenciado\n",
      "../data/dados_abertos/licitacao_2021/3100104/2021.3100104.licitacao.credLicitacao.csv\n",
      "num_documento\n",
      "../data/dados_abertos/licitacao_2021/3100104/2021.3100104.licitacao.regadesao.csv\n",
      "num_doc_resp\n",
      "../data/dados_abertos/licitacao_2021/3100104/2021.3100104.licitacao.vencRegadesao.csv\n",
      "num_doc_vencedor\n"
     ]
    }
   ],
   "source": [
    "for file in glob.glob('../data/dados_abertos/licitacao_2021/3100104/*.csv'):\n",
    "    df = pd.read_csv(file, sep=\";\")\n",
    "    for col in df.columns:\n",
    "        if \"num_doc\" in col:\n",
    "            print(file)\n",
    "            print(col)"
   ]
  },
  {
   "cell_type": "code",
   "execution_count": 23,
   "metadata": {},
   "outputs": [
    {
     "data": {
      "text/html": [
       "<div>\n",
       "<style scoped>\n",
       "    .dataframe tbody tr th:only-of-type {\n",
       "        vertical-align: middle;\n",
       "    }\n",
       "\n",
       "    .dataframe tbody tr th {\n",
       "        vertical-align: top;\n",
       "    }\n",
       "\n",
       "    .dataframe thead th {\n",
       "        text-align: right;\n",
       "    }\n",
       "</style>\n",
       "<table border=\"1\" class=\"dataframe\">\n",
       "  <thead>\n",
       "    <tr style=\"text-align: right;\">\n",
       "      <th></th>\n",
       "      <th>seq_hom_licitacao</th>\n",
       "      <th>seq_licitacao</th>\n",
       "      <th>seq_item_licitacao</th>\n",
       "      <th>seq_orgao</th>\n",
       "      <th>num_ano_referencia</th>\n",
       "      <th>num_mes_referencia</th>\n",
       "      <th>num_quant_item</th>\n",
       "      <th>vlr_unitario</th>\n",
       "      <th>vlr_pct_desconto</th>\n",
       "      <th>vlr_pct_tax_adm</th>\n",
       "      <th>vlr_global</th>\n",
       "      <th>num_doc_vencedor</th>\n",
       "      <th>nom_vencedor</th>\n",
       "      <th>num_versao_arq</th>\n",
       "    </tr>\n",
       "  </thead>\n",
       "  <tbody>\n",
       "  </tbody>\n",
       "</table>\n",
       "</div>"
      ],
      "text/plain": [
       "Empty DataFrame\n",
       "Columns: [seq_hom_licitacao, seq_licitacao, seq_item_licitacao, seq_orgao, num_ano_referencia, num_mes_referencia, num_quant_item, vlr_unitario, vlr_pct_desconto, vlr_pct_tax_adm, vlr_global, num_doc_vencedor, nom_vencedor, num_versao_arq]\n",
       "Index: []"
      ]
     },
     "execution_count": 23,
     "metadata": {},
     "output_type": "execute_result"
    }
   ],
   "source": [
    "df = pd.read_csv(\"../data/dados_abertos/licitacao_2021/3100104/2021.3100104.licitacao.homologLicitacao.csv\", sep=\";\")\n",
    "df"
   ]
  },
  {
   "cell_type": "code",
   "execution_count": 22,
   "metadata": {
    "collapsed": true
   },
   "outputs": [
    {
     "data": {
      "text/plain": [
       "['../data/dados_abertos/licitacao_2021/3100104/2021.3100104.licitacao.parecLicitacao.csv',\n",
       " '../data/dados_abertos/licitacao_2021/3100104/2021.3100104.licitacao.recDispensa.csv',\n",
       " '../data/dados_abertos/licitacao_2021/3100104/2021.3100104.licitacao.respDispensa.csv',\n",
       " '../data/dados_abertos/licitacao_2021/3100104/2021.3100104.licitacao.respLicitacao.csv',\n",
       " '../data/dados_abertos/licitacao_2021/3100104/2021.3100104.licitacao.cotRegadesao.csv',\n",
       " '../data/dados_abertos/licitacao_2021/3100104/2021.3100104.licitacao.comissaoLicitacao.csv',\n",
       " '../data/dados_abertos/licitacao_2021/3100104/2021.3100104.licitacao.itemDispensa.csv',\n",
       " '../data/dados_abertos/licitacao_2021/3100104/2021.3100104.licitacao.fornDispensa.csv',\n",
       " '../data/dados_abertos/licitacao_2021/3100104/2021.3100104.licitacao.recLicitacao.csv',\n",
       " '../data/dados_abertos/licitacao_2021/3100104/2021.3100104.licitacao.habLicitacao.csv',\n",
       " '../data/dados_abertos/licitacao_2021/3100104/2021.3100104.licitacao.quadroSocLicitacao.csv',\n",
       " '../data/dados_abertos/licitacao_2021/3100104/2021.3100104.licitacao.itemLicitacao.csv',\n",
       " '../data/dados_abertos/licitacao_2021/3100104/2021.3100104.licitacao.cotacaoLicitacao.csv',\n",
       " '../data/dados_abertos/licitacao_2021/3100104/2021.3100104.licitacao.refLicitacao.csv',\n",
       " '../data/dados_abertos/licitacao_2021/3100104/2021.3100104.licitacao.licitacao.csv',\n",
       " '../data/dados_abertos/licitacao_2021/3100104/2021.3100104.licitacao.dispensa.csv',\n",
       " '../data/dados_abertos/licitacao_2021/3100104/2021.3100104.licitacao.homologLicitacao.csv',\n",
       " '../data/dados_abertos/licitacao_2021/3100104/2021.3100104.licitacao.credDispensa.csv',\n",
       " '../data/dados_abertos/licitacao_2021/3100104/2021.3100104.licitacao.credLicitacao.csv',\n",
       " '../data/dados_abertos/licitacao_2021/3100104/2021.3100104.licitacao.julgLicitacao.csv',\n",
       " '../data/dados_abertos/licitacao_2021/3100104/2021.3100104.licitacao.regadesao.csv',\n",
       " '../data/dados_abertos/licitacao_2021/3100104/2021.3100104.licitacao.vencRegadesao.csv',\n",
       " '../data/dados_abertos/licitacao_2021/3100104/2021.3100104.licitacao.cotDispensa.csv',\n",
       " '../data/dados_abertos/licitacao_2021/3100104/2021.3100104.licitacao.itemRegadesao.csv']"
      ]
     },
     "execution_count": 22,
     "metadata": {},
     "output_type": "execute_result"
    }
   ],
   "source": [
    "glob.glob('../data/dados_abertos/licitacao_2021/3100104/*.csv')"
   ]
  },
  {
   "cell_type": "markdown",
   "metadata": {},
   "source": [
    "# LSTM data prep"
   ]
  },
  {
   "cell_type": "code",
   "execution_count": 2,
   "metadata": {},
   "outputs": [],
   "source": [
    "from collections import Counter\n",
    "from functools import partial\n",
    "import copy\n",
    "\n",
    "import numpy as np\n",
    "import os\n",
    "import pandas as pd\n",
    "import random\n",
    "from sklearn.metrics import f1_score, accuracy_score\n",
    "import spacy\n",
    "\n",
    "import torch\n",
    "import torch.nn as nn\n",
    "import torch.nn.functional as F\n",
    "import torch.optim as optim\n",
    "from torch.utils.data import random_split\n",
    "\n",
    "SEED = 42"
   ]
  },
  {
   "cell_type": "code",
   "execution_count": 30,
   "metadata": {
    "scrolled": true
   },
   "outputs": [
    {
     "data": {
      "text/html": [
       "<div>\n",
       "<style scoped>\n",
       "    .dataframe tbody tr th:only-of-type {\n",
       "        vertical-align: middle;\n",
       "    }\n",
       "\n",
       "    .dataframe tbody tr th {\n",
       "        vertical-align: top;\n",
       "    }\n",
       "\n",
       "    .dataframe thead th {\n",
       "        text-align: right;\n",
       "    }\n",
       "</style>\n",
       "<table border=\"1\" class=\"dataframe\">\n",
       "  <thead>\n",
       "    <tr style=\"text-align: right;\">\n",
       "      <th></th>\n",
       "      <th>doc_id</th>\n",
       "      <th>final_meta-class</th>\n",
       "      <th>label</th>\n",
       "      <th>label_int</th>\n",
       "      <th>city</th>\n",
       "      <th>file_dir</th>\n",
       "      <th>one_page</th>\n",
       "      <th>two_pages</th>\n",
       "      <th>three_pages</th>\n",
       "      <th>four_pages</th>\n",
       "      <th>fold</th>\n",
       "      <th>four_pages_processed</th>\n",
       "    </tr>\n",
       "  </thead>\n",
       "  <tbody>\n",
       "    <tr>\n",
       "      <th>0</th>\n",
       "      <td>499fa518c7724a6e449c509b7d7bc819</td>\n",
       "      <td>ATA</td>\n",
       "      <td>ata dispensa licitacao</td>\n",
       "      <td>0</td>\n",
       "      <td>cristais</td>\n",
       "      <td>../data/290-licitacoes-cristais/data/files_jso...</td>\n",
       "      <td>comissao permanente licitacoes ata dispensa ju...</td>\n",
       "      <td>comissao permanente licitacoes ata dispensa ju...</td>\n",
       "      <td>comissao permanente licitacoes ata dispensa ju...</td>\n",
       "      <td>comissao permanente licitacoes ata dispensa ju...</td>\n",
       "      <td>val</td>\n",
       "      <td>comissao permanente licitacoes ata dispensa ju...</td>\n",
       "    </tr>\n",
       "    <tr>\n",
       "      <th>1</th>\n",
       "      <td>56a09c5d1d04cc95ada4d68ad22dcbd9</td>\n",
       "      <td>ATA</td>\n",
       "      <td>ata dispensa licitacao</td>\n",
       "      <td>0</td>\n",
       "      <td>cristais</td>\n",
       "      <td>../data/290-licitacoes-cristais/data/files_jso...</td>\n",
       "      <td>comissao permanente licitacoes dia fevereiro r...</td>\n",
       "      <td>comissao permanente licitacoes dia fevereiro r...</td>\n",
       "      <td>comissao permanente licitacoes dia fevereiro r...</td>\n",
       "      <td>comissao permanente licitacoes dia fevereiro r...</td>\n",
       "      <td>test</td>\n",
       "      <td>comissao permanente licitacoes dia fevereiro r...</td>\n",
       "    </tr>\n",
       "    <tr>\n",
       "      <th>2</th>\n",
       "      <td>6e9f35208290c1130fcccad47b50aa53</td>\n",
       "      <td>ATA</td>\n",
       "      <td>ata dispensa licitacao</td>\n",
       "      <td>0</td>\n",
       "      <td>cristais</td>\n",
       "      <td>../data/290-licitacoes-cristais/data/files_jso...</td>\n",
       "      <td>praca cel centro estado cep pabx cnpj comissa...</td>\n",
       "      <td>praca cel centro estado cep pabx cnpj comissa...</td>\n",
       "      <td>praca cel centro estado cep pabx cnpj comissa...</td>\n",
       "      <td>praca cel centro estado cep pabx cnpj comissa...</td>\n",
       "      <td>val</td>\n",
       "      <td>praca cel centro estado cep pabx cnpj comissao...</td>\n",
       "    </tr>\n",
       "    <tr>\n",
       "      <th>3</th>\n",
       "      <td>669c029c5812ec9a31b9c211044157b4</td>\n",
       "      <td>ATA</td>\n",
       "      <td>ata dispensa licitacao</td>\n",
       "      <td>0</td>\n",
       "      <td>cristais</td>\n",
       "      <td>../data/290-licitacoes-cristais/data/files_jso...</td>\n",
       "      <td>comissao permanente licitacoes dia fevereiro r...</td>\n",
       "      <td>comissao permanente licitacoes dia fevereiro r...</td>\n",
       "      <td>comissao permanente licitacoes dia fevereiro r...</td>\n",
       "      <td>comissao permanente licitacoes dia fevereiro r...</td>\n",
       "      <td>val</td>\n",
       "      <td>comissao permanente licitacoes dia fevereiro r...</td>\n",
       "    </tr>\n",
       "    <tr>\n",
       "      <th>4</th>\n",
       "      <td>a22421dc45d623c9200c7e8fb1e6ca34</td>\n",
       "      <td>ATA</td>\n",
       "      <td>ata dispensa licitacao</td>\n",
       "      <td>0</td>\n",
       "      <td>cristais</td>\n",
       "      <td>../data/290-licitacoes-cristais/data/files_jso...</td>\n",
       "      <td>comissao permanente licitacoes maio reuniu com...</td>\n",
       "      <td>comissao permanente licitacoes maio reuniu com...</td>\n",
       "      <td>comissao permanente licitacoes maio reuniu com...</td>\n",
       "      <td>comissao permanente licitacoes maio reuniu com...</td>\n",
       "      <td>train</td>\n",
       "      <td>comissao permanente licitacoes maio reuniu com...</td>\n",
       "    </tr>\n",
       "  </tbody>\n",
       "</table>\n",
       "</div>"
      ],
      "text/plain": [
       "                             doc_id final_meta-class                   label  \\\n",
       "0  499fa518c7724a6e449c509b7d7bc819              ATA  ata dispensa licitacao   \n",
       "1  56a09c5d1d04cc95ada4d68ad22dcbd9              ATA  ata dispensa licitacao   \n",
       "2  6e9f35208290c1130fcccad47b50aa53              ATA  ata dispensa licitacao   \n",
       "3  669c029c5812ec9a31b9c211044157b4              ATA  ata dispensa licitacao   \n",
       "4  a22421dc45d623c9200c7e8fb1e6ca34              ATA  ata dispensa licitacao   \n",
       "\n",
       "   label_int      city                                           file_dir  \\\n",
       "0          0  cristais  ../data/290-licitacoes-cristais/data/files_jso...   \n",
       "1          0  cristais  ../data/290-licitacoes-cristais/data/files_jso...   \n",
       "2          0  cristais  ../data/290-licitacoes-cristais/data/files_jso...   \n",
       "3          0  cristais  ../data/290-licitacoes-cristais/data/files_jso...   \n",
       "4          0  cristais  ../data/290-licitacoes-cristais/data/files_jso...   \n",
       "\n",
       "                                            one_page  \\\n",
       "0  comissao permanente licitacoes ata dispensa ju...   \n",
       "1  comissao permanente licitacoes dia fevereiro r...   \n",
       "2   praca cel centro estado cep pabx cnpj comissa...   \n",
       "3  comissao permanente licitacoes dia fevereiro r...   \n",
       "4  comissao permanente licitacoes maio reuniu com...   \n",
       "\n",
       "                                           two_pages  \\\n",
       "0  comissao permanente licitacoes ata dispensa ju...   \n",
       "1  comissao permanente licitacoes dia fevereiro r...   \n",
       "2   praca cel centro estado cep pabx cnpj comissa...   \n",
       "3  comissao permanente licitacoes dia fevereiro r...   \n",
       "4  comissao permanente licitacoes maio reuniu com...   \n",
       "\n",
       "                                         three_pages  \\\n",
       "0  comissao permanente licitacoes ata dispensa ju...   \n",
       "1  comissao permanente licitacoes dia fevereiro r...   \n",
       "2   praca cel centro estado cep pabx cnpj comissa...   \n",
       "3  comissao permanente licitacoes dia fevereiro r...   \n",
       "4  comissao permanente licitacoes maio reuniu com...   \n",
       "\n",
       "                                          four_pages   fold  \\\n",
       "0  comissao permanente licitacoes ata dispensa ju...    val   \n",
       "1  comissao permanente licitacoes dia fevereiro r...   test   \n",
       "2   praca cel centro estado cep pabx cnpj comissa...    val   \n",
       "3  comissao permanente licitacoes dia fevereiro r...    val   \n",
       "4  comissao permanente licitacoes maio reuniu com...  train   \n",
       "\n",
       "                                four_pages_processed  \n",
       "0  comissao permanente licitacoes ata dispensa ju...  \n",
       "1  comissao permanente licitacoes dia fevereiro r...  \n",
       "2  praca cel centro estado cep pabx cnpj comissao...  \n",
       "3  comissao permanente licitacoes dia fevereiro r...  \n",
       "4  comissao permanente licitacoes maio reuniu com...  "
      ]
     },
     "execution_count": 30,
     "metadata": {},
     "output_type": "execute_result"
    }
   ],
   "source": [
    "df_data = pd.read_csv(\"./lstm_data/preprocessed_data_v2.csv\")\n",
    "df_data.head()"
   ]
  },
  {
   "cell_type": "code",
   "execution_count": 31,
   "metadata": {},
   "outputs": [
    {
     "data": {
      "text/html": [
       "<div>\n",
       "<style scoped>\n",
       "    .dataframe tbody tr th:only-of-type {\n",
       "        vertical-align: middle;\n",
       "    }\n",
       "\n",
       "    .dataframe tbody tr th {\n",
       "        vertical-align: top;\n",
       "    }\n",
       "\n",
       "    .dataframe thead th {\n",
       "        text-align: right;\n",
       "    }\n",
       "</style>\n",
       "<table border=\"1\" class=\"dataframe\">\n",
       "  <thead>\n",
       "    <tr style=\"text-align: right;\">\n",
       "      <th></th>\n",
       "      <th>fold</th>\n",
       "      <th>size</th>\n",
       "    </tr>\n",
       "  </thead>\n",
       "  <tbody>\n",
       "    <tr>\n",
       "      <th>0</th>\n",
       "      <td>test</td>\n",
       "      <td>0.099947</td>\n",
       "    </tr>\n",
       "    <tr>\n",
       "      <th>1</th>\n",
       "      <td>train</td>\n",
       "      <td>0.699982</td>\n",
       "    </tr>\n",
       "    <tr>\n",
       "      <th>2</th>\n",
       "      <td>val</td>\n",
       "      <td>0.200071</td>\n",
       "    </tr>\n",
       "  </tbody>\n",
       "</table>\n",
       "</div>"
      ],
      "text/plain": [
       "    fold      size\n",
       "0   test  0.099947\n",
       "1  train  0.699982\n",
       "2    val  0.200071"
      ]
     },
     "execution_count": 31,
     "metadata": {},
     "output_type": "execute_result"
    }
   ],
   "source": [
    "(df_data.groupby(\"fold\").size()/df_data.shape[0]).reset_index(name=\"size\")"
   ]
  },
  {
   "cell_type": "code",
   "execution_count": 32,
   "metadata": {},
   "outputs": [
    {
     "data": {
      "text/html": [
       "<div>\n",
       "<style scoped>\n",
       "    .dataframe tbody tr th:only-of-type {\n",
       "        vertical-align: middle;\n",
       "    }\n",
       "\n",
       "    .dataframe tbody tr th {\n",
       "        vertical-align: top;\n",
       "    }\n",
       "\n",
       "    .dataframe thead tr th {\n",
       "        text-align: left;\n",
       "    }\n",
       "\n",
       "    .dataframe thead tr:last-of-type th {\n",
       "        text-align: right;\n",
       "    }\n",
       "</style>\n",
       "<table border=\"1\" class=\"dataframe\">\n",
       "  <thead>\n",
       "    <tr>\n",
       "      <th></th>\n",
       "      <th colspan=\"3\" halign=\"left\">size</th>\n",
       "    </tr>\n",
       "    <tr>\n",
       "      <th>fold</th>\n",
       "      <th>test</th>\n",
       "      <th>train</th>\n",
       "      <th>val</th>\n",
       "    </tr>\n",
       "    <tr>\n",
       "      <th>label</th>\n",
       "      <th></th>\n",
       "      <th></th>\n",
       "      <th></th>\n",
       "    </tr>\n",
       "  </thead>\n",
       "  <tbody>\n",
       "    <tr>\n",
       "      <th>aditamento</th>\n",
       "      <td>5.663717</td>\n",
       "      <td>5.736669</td>\n",
       "      <td>5.747126</td>\n",
       "    </tr>\n",
       "    <tr>\n",
       "      <th>ata dispensa licitacao</th>\n",
       "      <td>3.185841</td>\n",
       "      <td>3.209502</td>\n",
       "      <td>3.183024</td>\n",
       "    </tr>\n",
       "    <tr>\n",
       "      <th>ata pregao presencial</th>\n",
       "      <td>2.654867</td>\n",
       "      <td>2.704069</td>\n",
       "      <td>2.740937</td>\n",
       "    </tr>\n",
       "    <tr>\n",
       "      <th>ata registro precos</th>\n",
       "      <td>6.194690</td>\n",
       "      <td>6.242103</td>\n",
       "      <td>6.189213</td>\n",
       "    </tr>\n",
       "    <tr>\n",
       "      <th>aviso</th>\n",
       "      <td>5.663717</td>\n",
       "      <td>5.534496</td>\n",
       "      <td>5.570292</td>\n",
       "    </tr>\n",
       "    <tr>\n",
       "      <th>contrato</th>\n",
       "      <td>10.265487</td>\n",
       "      <td>10.260298</td>\n",
       "      <td>10.256410</td>\n",
       "    </tr>\n",
       "    <tr>\n",
       "      <th>edital</th>\n",
       "      <td>39.292035</td>\n",
       "      <td>39.221633</td>\n",
       "      <td>39.168877</td>\n",
       "    </tr>\n",
       "    <tr>\n",
       "      <th>errata</th>\n",
       "      <td>1.946903</td>\n",
       "      <td>1.895375</td>\n",
       "      <td>1.856764</td>\n",
       "    </tr>\n",
       "    <tr>\n",
       "      <th>homologacao adjudicacao</th>\n",
       "      <td>6.725664</td>\n",
       "      <td>6.696993</td>\n",
       "      <td>6.719717</td>\n",
       "    </tr>\n",
       "    <tr>\n",
       "      <th>outras atas</th>\n",
       "      <td>1.592920</td>\n",
       "      <td>1.516300</td>\n",
       "      <td>1.503095</td>\n",
       "    </tr>\n",
       "    <tr>\n",
       "      <th>outros</th>\n",
       "      <td>10.973451</td>\n",
       "      <td>11.043720</td>\n",
       "      <td>11.052166</td>\n",
       "    </tr>\n",
       "    <tr>\n",
       "      <th>publicacao diario oficial</th>\n",
       "      <td>3.185841</td>\n",
       "      <td>3.234774</td>\n",
       "      <td>3.271441</td>\n",
       "    </tr>\n",
       "    <tr>\n",
       "      <th>ratificacao</th>\n",
       "      <td>2.654867</td>\n",
       "      <td>2.704069</td>\n",
       "      <td>2.740937</td>\n",
       "    </tr>\n",
       "  </tbody>\n",
       "</table>\n",
       "</div>"
      ],
      "text/plain": [
       "                                size                      \n",
       "fold                            test      train        val\n",
       "label                                                     \n",
       "aditamento                  5.663717   5.736669   5.747126\n",
       "ata dispensa licitacao      3.185841   3.209502   3.183024\n",
       "ata pregao presencial       2.654867   2.704069   2.740937\n",
       "ata registro precos         6.194690   6.242103   6.189213\n",
       "aviso                       5.663717   5.534496   5.570292\n",
       "contrato                   10.265487  10.260298  10.256410\n",
       "edital                     39.292035  39.221633  39.168877\n",
       "errata                      1.946903   1.895375   1.856764\n",
       "homologacao adjudicacao     6.725664   6.696993   6.719717\n",
       "outras atas                 1.592920   1.516300   1.503095\n",
       "outros                     10.973451  11.043720  11.052166\n",
       "publicacao diario oficial   3.185841   3.234774   3.271441\n",
       "ratificacao                 2.654867   2.704069   2.740937"
      ]
     },
     "execution_count": 32,
     "metadata": {},
     "output_type": "execute_result"
    }
   ],
   "source": [
    "pd.pivot_table((df_data.groupby([\"fold\", \"label\"]).size()/df_data.groupby(\"fold\").size()).reset_index(name=\"size\"), values=[\"size\"],  columns=[\"fold\"], index=[\"label\"])*100"
   ]
  },
  {
   "cell_type": "code",
   "execution_count": 33,
   "metadata": {},
   "outputs": [
    {
     "data": {
      "text/html": [
       "<div>\n",
       "<style scoped>\n",
       "    .dataframe tbody tr th:only-of-type {\n",
       "        vertical-align: middle;\n",
       "    }\n",
       "\n",
       "    .dataframe tbody tr th {\n",
       "        vertical-align: top;\n",
       "    }\n",
       "\n",
       "    .dataframe thead th {\n",
       "        text-align: right;\n",
       "    }\n",
       "</style>\n",
       "<table border=\"1\" class=\"dataframe\">\n",
       "  <thead>\n",
       "    <tr style=\"text-align: right;\">\n",
       "      <th></th>\n",
       "      <th>label_int</th>\n",
       "      <th>label</th>\n",
       "      <th>0</th>\n",
       "    </tr>\n",
       "  </thead>\n",
       "  <tbody>\n",
       "    <tr>\n",
       "      <th>0</th>\n",
       "      <td>0</td>\n",
       "      <td>ata dispensa licitacao</td>\n",
       "      <td>181</td>\n",
       "    </tr>\n",
       "    <tr>\n",
       "      <th>1</th>\n",
       "      <td>1</td>\n",
       "      <td>outras atas</td>\n",
       "      <td>86</td>\n",
       "    </tr>\n",
       "    <tr>\n",
       "      <th>2</th>\n",
       "      <td>2</td>\n",
       "      <td>ata pregao presencial</td>\n",
       "      <td>153</td>\n",
       "    </tr>\n",
       "    <tr>\n",
       "      <th>3</th>\n",
       "      <td>3</td>\n",
       "      <td>ata registro precos</td>\n",
       "      <td>352</td>\n",
       "    </tr>\n",
       "    <tr>\n",
       "      <th>4</th>\n",
       "      <td>4</td>\n",
       "      <td>edital</td>\n",
       "      <td>2217</td>\n",
       "    </tr>\n",
       "    <tr>\n",
       "      <th>5</th>\n",
       "      <td>5</td>\n",
       "      <td>homologacao adjudicacao</td>\n",
       "      <td>379</td>\n",
       "    </tr>\n",
       "    <tr>\n",
       "      <th>6</th>\n",
       "      <td>6</td>\n",
       "      <td>errata</td>\n",
       "      <td>107</td>\n",
       "    </tr>\n",
       "    <tr>\n",
       "      <th>7</th>\n",
       "      <td>7</td>\n",
       "      <td>aditamento</td>\n",
       "      <td>324</td>\n",
       "    </tr>\n",
       "    <tr>\n",
       "      <th>8</th>\n",
       "      <td>8</td>\n",
       "      <td>outros</td>\n",
       "      <td>624</td>\n",
       "    </tr>\n",
       "    <tr>\n",
       "      <th>9</th>\n",
       "      <td>9</td>\n",
       "      <td>aviso</td>\n",
       "      <td>314</td>\n",
       "    </tr>\n",
       "    <tr>\n",
       "      <th>10</th>\n",
       "      <td>10</td>\n",
       "      <td>contrato</td>\n",
       "      <td>580</td>\n",
       "    </tr>\n",
       "    <tr>\n",
       "      <th>11</th>\n",
       "      <td>11</td>\n",
       "      <td>publicacao diario oficial</td>\n",
       "      <td>183</td>\n",
       "    </tr>\n",
       "    <tr>\n",
       "      <th>12</th>\n",
       "      <td>12</td>\n",
       "      <td>ratificacao</td>\n",
       "      <td>153</td>\n",
       "    </tr>\n",
       "  </tbody>\n",
       "</table>\n",
       "</div>"
      ],
      "text/plain": [
       "    label_int                      label     0\n",
       "0           0     ata dispensa licitacao   181\n",
       "1           1                outras atas    86\n",
       "2           2      ata pregao presencial   153\n",
       "3           3        ata registro precos   352\n",
       "4           4                     edital  2217\n",
       "5           5    homologacao adjudicacao   379\n",
       "6           6                     errata   107\n",
       "7           7                 aditamento   324\n",
       "8           8                     outros   624\n",
       "9           9                      aviso   314\n",
       "10         10                   contrato   580\n",
       "11         11  publicacao diario oficial   183\n",
       "12         12                ratificacao   153"
      ]
     },
     "execution_count": 33,
     "metadata": {},
     "output_type": "execute_result"
    }
   ],
   "source": [
    "df_data.groupby([\"label_int\", \"label\"]).size().reset_index()"
   ]
  },
  {
   "cell_type": "code",
   "execution_count": 34,
   "metadata": {
    "scrolled": true
   },
   "outputs": [
    {
     "data": {
      "text/html": [
       "<div>\n",
       "<style scoped>\n",
       "    .dataframe tbody tr th:only-of-type {\n",
       "        vertical-align: middle;\n",
       "    }\n",
       "\n",
       "    .dataframe tbody tr th {\n",
       "        vertical-align: top;\n",
       "    }\n",
       "\n",
       "    .dataframe thead th {\n",
       "        text-align: right;\n",
       "    }\n",
       "</style>\n",
       "<table border=\"1\" class=\"dataframe\">\n",
       "  <thead>\n",
       "    <tr style=\"text-align: right;\">\n",
       "      <th></th>\n",
       "      <th>city</th>\n",
       "      <th>0</th>\n",
       "    </tr>\n",
       "  </thead>\n",
       "  <tbody>\n",
       "    <tr>\n",
       "      <th>0</th>\n",
       "      <td>arantina</td>\n",
       "      <td>3</td>\n",
       "    </tr>\n",
       "    <tr>\n",
       "      <th>1</th>\n",
       "      <td>coqueiral</td>\n",
       "      <td>9</td>\n",
       "    </tr>\n",
       "    <tr>\n",
       "      <th>2</th>\n",
       "      <td>cristais</td>\n",
       "      <td>10</td>\n",
       "    </tr>\n",
       "    <tr>\n",
       "      <th>3</th>\n",
       "      <td>ijaci</td>\n",
       "      <td>6</td>\n",
       "    </tr>\n",
       "    <tr>\n",
       "      <th>4</th>\n",
       "      <td>itamarati</td>\n",
       "      <td>8</td>\n",
       "    </tr>\n",
       "    <tr>\n",
       "      <th>5</th>\n",
       "      <td>olaria</td>\n",
       "      <td>4</td>\n",
       "    </tr>\n",
       "    <tr>\n",
       "      <th>6</th>\n",
       "      <td>passa_vinte</td>\n",
       "      <td>7</td>\n",
       "    </tr>\n",
       "    <tr>\n",
       "      <th>7</th>\n",
       "      <td>pirapetinga</td>\n",
       "      <td>9</td>\n",
       "    </tr>\n",
       "    <tr>\n",
       "      <th>8</th>\n",
       "      <td>ribeirao_vermelho</td>\n",
       "      <td>4</td>\n",
       "    </tr>\n",
       "    <tr>\n",
       "      <th>9</th>\n",
       "      <td>sao_bento_abade</td>\n",
       "      <td>10</td>\n",
       "    </tr>\n",
       "  </tbody>\n",
       "</table>\n",
       "</div>"
      ],
      "text/plain": [
       "                city   0\n",
       "0           arantina   3\n",
       "1          coqueiral   9\n",
       "2           cristais  10\n",
       "3              ijaci   6\n",
       "4          itamarati   8\n",
       "5             olaria   4\n",
       "6        passa_vinte   7\n",
       "7        pirapetinga   9\n",
       "8  ribeirao_vermelho   4\n",
       "9    sao_bento_abade  10"
      ]
     },
     "execution_count": 34,
     "metadata": {},
     "output_type": "execute_result"
    }
   ],
   "source": [
    "df_data.drop_duplicates(subset=[\"city\", \"label\"]).groupby([\"city\"]).size().reset_index()"
   ]
  },
  {
   "cell_type": "code",
   "execution_count": 35,
   "metadata": {},
   "outputs": [
    {
     "data": {
      "text/plain": [
       "city\n",
       "arantina              328\n",
       "coqueiral            1481\n",
       "cristais             1287\n",
       "ijaci                 398\n",
       "itamarati             595\n",
       "olaria                 28\n",
       "passa_vinte           369\n",
       "pirapetinga           766\n",
       "ribeirao_vermelho     172\n",
       "sao_bento_abade       229\n",
       "dtype: int64"
      ]
     },
     "execution_count": 35,
     "metadata": {},
     "output_type": "execute_result"
    }
   ],
   "source": [
    "df_data.groupby(\"city\").size()"
   ]
  },
  {
   "cell_type": "code",
   "execution_count": 21,
   "metadata": {},
   "outputs": [
    {
     "data": {
      "text/plain": [
       "label_int  label                    \n",
       "0          ata dispensa licitacao        181\n",
       "1          ata julgamento                  3\n",
       "2          ata pregao presencial         132\n",
       "3          ata registro precos           287\n",
       "4          ata sessao publica              6\n",
       "5          outras atas                    49\n",
       "6          edital                       1983\n",
       "7          adjudicacao                     5\n",
       "8          homologacao                    18\n",
       "9          homologacao adjudicacao       239\n",
       "10         errata                         90\n",
       "11         aditamento                    221\n",
       "12         outros                        164\n",
       "13         aviso                         168\n",
       "14         contrato                      476\n",
       "15         decisao/impugnacao             43\n",
       "16         publicacao diario oficial     183\n",
       "17         extrato                       122\n",
       "18         planilhas                     157\n",
       "19         memorial                       10\n",
       "20         outros termos                  36\n",
       "21         ratificacao                    85\n",
       "dtype: int64"
      ]
     },
     "execution_count": 21,
     "metadata": {},
     "output_type": "execute_result"
    }
   ],
   "source": [
    "df_data.loc[~df_data[\"city\"].isin([\"pirapetinga\", \"sao_bento_abade\"])].groupby([\"label_int\",\"label\"]).size()"
   ]
  },
  {
   "cell_type": "code",
   "execution_count": 1,
   "metadata": {},
   "outputs": [],
   "source": [
    "import pandas as pd"
   ]
  },
  {
   "cell_type": "code",
   "execution_count": 2,
   "metadata": {},
   "outputs": [
    {
     "data": {
      "text/html": [
       "<div>\n",
       "<style scoped>\n",
       "    .dataframe tbody tr th:only-of-type {\n",
       "        vertical-align: middle;\n",
       "    }\n",
       "\n",
       "    .dataframe tbody tr th {\n",
       "        vertical-align: top;\n",
       "    }\n",
       "\n",
       "    .dataframe thead th {\n",
       "        text-align: right;\n",
       "    }\n",
       "</style>\n",
       "<table border=\"1\" class=\"dataframe\">\n",
       "  <thead>\n",
       "    <tr style=\"text-align: right;\">\n",
       "      <th></th>\n",
       "      <th>doc_id</th>\n",
       "      <th>final_meta-class</th>\n",
       "      <th>label</th>\n",
       "      <th>label_int</th>\n",
       "      <th>city</th>\n",
       "      <th>file_dir</th>\n",
       "      <th>one_page</th>\n",
       "      <th>two_pages</th>\n",
       "      <th>three_pages</th>\n",
       "      <th>four_pages</th>\n",
       "      <th>fold</th>\n",
       "      <th>four_pages_processed</th>\n",
       "    </tr>\n",
       "  </thead>\n",
       "  <tbody>\n",
       "    <tr>\n",
       "      <th>0</th>\n",
       "      <td>499fa518c7724a6e449c509b7d7bc819</td>\n",
       "      <td>ATA</td>\n",
       "      <td>ata dispensa licitacao</td>\n",
       "      <td>0</td>\n",
       "      <td>cristais</td>\n",
       "      <td>../data/290-licitacoes-cristais/data/files_jso...</td>\n",
       "      <td>comissao permanente licitacoes ata dispensa ju...</td>\n",
       "      <td>comissao permanente licitacoes ata dispensa ju...</td>\n",
       "      <td>comissao permanente licitacoes ata dispensa ju...</td>\n",
       "      <td>comissao permanente licitacoes ata dispensa ju...</td>\n",
       "      <td>train</td>\n",
       "      <td>comissao permanente licitacoes ata dispensa ju...</td>\n",
       "    </tr>\n",
       "    <tr>\n",
       "      <th>1</th>\n",
       "      <td>56a09c5d1d04cc95ada4d68ad22dcbd9</td>\n",
       "      <td>ATA</td>\n",
       "      <td>ata dispensa licitacao</td>\n",
       "      <td>0</td>\n",
       "      <td>cristais</td>\n",
       "      <td>../data/290-licitacoes-cristais/data/files_jso...</td>\n",
       "      <td>comissao permanente licitacoes dia fevereiro r...</td>\n",
       "      <td>comissao permanente licitacoes dia fevereiro r...</td>\n",
       "      <td>comissao permanente licitacoes dia fevereiro r...</td>\n",
       "      <td>comissao permanente licitacoes dia fevereiro r...</td>\n",
       "      <td>train</td>\n",
       "      <td>comissao permanente licitacoes dia fevereiro r...</td>\n",
       "    </tr>\n",
       "    <tr>\n",
       "      <th>2</th>\n",
       "      <td>6e9f35208290c1130fcccad47b50aa53</td>\n",
       "      <td>ATA</td>\n",
       "      <td>ata dispensa licitacao</td>\n",
       "      <td>0</td>\n",
       "      <td>cristais</td>\n",
       "      <td>../data/290-licitacoes-cristais/data/files_jso...</td>\n",
       "      <td>praca cel centro estado cep pabx cnpj comissa...</td>\n",
       "      <td>praca cel centro estado cep pabx cnpj comissa...</td>\n",
       "      <td>praca cel centro estado cep pabx cnpj comissa...</td>\n",
       "      <td>praca cel centro estado cep pabx cnpj comissa...</td>\n",
       "      <td>train</td>\n",
       "      <td>praca cel centro estado cep pabx cnpj comissao...</td>\n",
       "    </tr>\n",
       "    <tr>\n",
       "      <th>3</th>\n",
       "      <td>669c029c5812ec9a31b9c211044157b4</td>\n",
       "      <td>ATA</td>\n",
       "      <td>ata dispensa licitacao</td>\n",
       "      <td>0</td>\n",
       "      <td>cristais</td>\n",
       "      <td>../data/290-licitacoes-cristais/data/files_jso...</td>\n",
       "      <td>comissao permanente licitacoes dia fevereiro r...</td>\n",
       "      <td>comissao permanente licitacoes dia fevereiro r...</td>\n",
       "      <td>comissao permanente licitacoes dia fevereiro r...</td>\n",
       "      <td>comissao permanente licitacoes dia fevereiro r...</td>\n",
       "      <td>train</td>\n",
       "      <td>comissao permanente licitacoes dia fevereiro r...</td>\n",
       "    </tr>\n",
       "    <tr>\n",
       "      <th>4</th>\n",
       "      <td>a22421dc45d623c9200c7e8fb1e6ca34</td>\n",
       "      <td>ATA</td>\n",
       "      <td>ata dispensa licitacao</td>\n",
       "      <td>0</td>\n",
       "      <td>cristais</td>\n",
       "      <td>../data/290-licitacoes-cristais/data/files_jso...</td>\n",
       "      <td>comissao permanente licitacoes maio reuniu com...</td>\n",
       "      <td>comissao permanente licitacoes maio reuniu com...</td>\n",
       "      <td>comissao permanente licitacoes maio reuniu com...</td>\n",
       "      <td>comissao permanente licitacoes maio reuniu com...</td>\n",
       "      <td>train</td>\n",
       "      <td>comissao permanente licitacoes maio reuniu com...</td>\n",
       "    </tr>\n",
       "  </tbody>\n",
       "</table>\n",
       "</div>"
      ],
      "text/plain": [
       "                             doc_id final_meta-class                   label  \\\n",
       "0  499fa518c7724a6e449c509b7d7bc819              ATA  ata dispensa licitacao   \n",
       "1  56a09c5d1d04cc95ada4d68ad22dcbd9              ATA  ata dispensa licitacao   \n",
       "2  6e9f35208290c1130fcccad47b50aa53              ATA  ata dispensa licitacao   \n",
       "3  669c029c5812ec9a31b9c211044157b4              ATA  ata dispensa licitacao   \n",
       "4  a22421dc45d623c9200c7e8fb1e6ca34              ATA  ata dispensa licitacao   \n",
       "\n",
       "   label_int      city                                           file_dir  \\\n",
       "0          0  cristais  ../data/290-licitacoes-cristais/data/files_jso...   \n",
       "1          0  cristais  ../data/290-licitacoes-cristais/data/files_jso...   \n",
       "2          0  cristais  ../data/290-licitacoes-cristais/data/files_jso...   \n",
       "3          0  cristais  ../data/290-licitacoes-cristais/data/files_jso...   \n",
       "4          0  cristais  ../data/290-licitacoes-cristais/data/files_jso...   \n",
       "\n",
       "                                            one_page  \\\n",
       "0  comissao permanente licitacoes ata dispensa ju...   \n",
       "1  comissao permanente licitacoes dia fevereiro r...   \n",
       "2   praca cel centro estado cep pabx cnpj comissa...   \n",
       "3  comissao permanente licitacoes dia fevereiro r...   \n",
       "4  comissao permanente licitacoes maio reuniu com...   \n",
       "\n",
       "                                           two_pages  \\\n",
       "0  comissao permanente licitacoes ata dispensa ju...   \n",
       "1  comissao permanente licitacoes dia fevereiro r...   \n",
       "2   praca cel centro estado cep pabx cnpj comissa...   \n",
       "3  comissao permanente licitacoes dia fevereiro r...   \n",
       "4  comissao permanente licitacoes maio reuniu com...   \n",
       "\n",
       "                                         three_pages  \\\n",
       "0  comissao permanente licitacoes ata dispensa ju...   \n",
       "1  comissao permanente licitacoes dia fevereiro r...   \n",
       "2   praca cel centro estado cep pabx cnpj comissa...   \n",
       "3  comissao permanente licitacoes dia fevereiro r...   \n",
       "4  comissao permanente licitacoes maio reuniu com...   \n",
       "\n",
       "                                          four_pages   fold  \\\n",
       "0  comissao permanente licitacoes ata dispensa ju...  train   \n",
       "1  comissao permanente licitacoes dia fevereiro r...  train   \n",
       "2   praca cel centro estado cep pabx cnpj comissa...  train   \n",
       "3  comissao permanente licitacoes dia fevereiro r...  train   \n",
       "4  comissao permanente licitacoes maio reuniu com...  train   \n",
       "\n",
       "                                four_pages_processed  \n",
       "0  comissao permanente licitacoes ata dispensa ju...  \n",
       "1  comissao permanente licitacoes dia fevereiro r...  \n",
       "2  praca cel centro estado cep pabx cnpj comissao...  \n",
       "3  comissao permanente licitacoes dia fevereiro r...  \n",
       "4  comissao permanente licitacoes maio reuniu com...  "
      ]
     },
     "execution_count": 2,
     "metadata": {},
     "output_type": "execute_result"
    }
   ],
   "source": [
    "df_data = pd.read_csv(\"./lstm_data/preprocessed_data_v2_2.csv\")\n",
    "df_data.head()"
   ]
  },
  {
   "cell_type": "code",
   "execution_count": 3,
   "metadata": {},
   "outputs": [],
   "source": [
    "df[[\"label_int\", \"label\"]].drop_duplicates().to_csv(\"./lstm_data/results/labels_dict.csv\",index=False)"
   ]
  },
  {
   "cell_type": "code",
   "execution_count": 4,
   "metadata": {},
   "outputs": [
    {
     "data": {
      "text/plain": [
       "label_int  label                    \n",
       "0          ata dispensa licitacao        181\n",
       "1          outras atas                    58\n",
       "2          ata pregao presencial         132\n",
       "3          ata registro precos           287\n",
       "4          edital                       1983\n",
       "5          homologacao adjudicacao       262\n",
       "6          errata                         90\n",
       "7          aditamento                    221\n",
       "8          outros                        532\n",
       "9          aviso                         168\n",
       "10         contrato                      476\n",
       "11         publicacao diario oficial     183\n",
       "12         ratificacao                    85\n",
       "dtype: int64"
      ]
     },
     "execution_count": 4,
     "metadata": {},
     "output_type": "execute_result"
    }
   ],
   "source": [
    "df.loc[~df[\"city\"].isin([\"pirapetinga\", \"sao_bento_abade\"])].groupby([\"label_int\",\"label\"]).size()"
   ]
  },
  {
   "cell_type": "code",
   "execution_count": 5,
   "metadata": {},
   "outputs": [
    {
     "data": {
      "text/plain": [
       "label_int  label                  \n",
       "1          outras atas                  9\n",
       "3          ata registro precos         58\n",
       "4          edital                     101\n",
       "5          homologacao adjudicacao    114\n",
       "7          aditamento                 103\n",
       "8          outros                      85\n",
       "9          aviso                      135\n",
       "10         contrato                    98\n",
       "12         ratificacao                 63\n",
       "dtype: int64"
      ]
     },
     "execution_count": 5,
     "metadata": {},
     "output_type": "execute_result"
    }
   ],
   "source": [
    "df.loc[df['fold'] == \"val\"].groupby([\"label_int\",\"label\"]).size()"
   ]
  },
  {
   "cell_type": "code",
   "execution_count": 6,
   "metadata": {},
   "outputs": [
    {
     "data": {
      "text/plain": [
       "13"
      ]
     },
     "execution_count": 6,
     "metadata": {},
     "output_type": "execute_result"
    }
   ],
   "source": [
    "df.loc[df['fold'] == \"train\", \"label\"].nunique()"
   ]
  },
  {
   "cell_type": "code",
   "execution_count": 7,
   "metadata": {},
   "outputs": [
    {
     "data": {
      "text/html": [
       "<div>\n",
       "<style scoped>\n",
       "    .dataframe tbody tr th:only-of-type {\n",
       "        vertical-align: middle;\n",
       "    }\n",
       "\n",
       "    .dataframe tbody tr th {\n",
       "        vertical-align: top;\n",
       "    }\n",
       "\n",
       "    .dataframe thead th {\n",
       "        text-align: right;\n",
       "    }\n",
       "</style>\n",
       "<table border=\"1\" class=\"dataframe\">\n",
       "  <thead>\n",
       "    <tr style=\"text-align: right;\">\n",
       "      <th></th>\n",
       "      <th>doc_id</th>\n",
       "      <th>final_meta-class</th>\n",
       "      <th>label</th>\n",
       "      <th>label_int</th>\n",
       "      <th>city</th>\n",
       "      <th>file_dir</th>\n",
       "      <th>one_page</th>\n",
       "      <th>two_pages</th>\n",
       "      <th>three_pages</th>\n",
       "      <th>four_pages</th>\n",
       "      <th>fold</th>\n",
       "      <th>four_pages_processed</th>\n",
       "    </tr>\n",
       "  </thead>\n",
       "  <tbody>\n",
       "    <tr>\n",
       "      <th>1467</th>\n",
       "      <td>48de864931f8104786dd9fc1efc6ad92</td>\n",
       "      <td>EDITAL</td>\n",
       "      <td>edital</td>\n",
       "      <td>4</td>\n",
       "      <td>pirapetinga</td>\n",
       "      <td>../data/288-licitacoes-pirapetinga/data/files_...</td>\n",
       "      <td>cep estado departamento licitacoes compras ed...</td>\n",
       "      <td>cep estado departamento licitacoes compras ed...</td>\n",
       "      <td>cep estado departamento licitacoes compras ed...</td>\n",
       "      <td>cep estado departamento licitacoes compras ed...</td>\n",
       "      <td>val</td>\n",
       "      <td>cep estado departamento licitacoes compras edi...</td>\n",
       "    </tr>\n",
       "    <tr>\n",
       "      <th>1468</th>\n",
       "      <td>2d8350ef604fccc106b8a164a9da0f11</td>\n",
       "      <td>EDITAL</td>\n",
       "      <td>edital</td>\n",
       "      <td>4</td>\n",
       "      <td>pirapetinga</td>\n",
       "      <td>../data/288-licitacoes-pirapetinga/data/files_...</td>\n",
       "      <td>cep estado departamento licitacoes compras ed...</td>\n",
       "      <td>cep estado departamento licitacoes compras ed...</td>\n",
       "      <td>cep estado departamento licitacoes compras ed...</td>\n",
       "      <td>cep estado departamento licitacoes compras ed...</td>\n",
       "      <td>val</td>\n",
       "      <td>cep estado departamento licitacoes compras edi...</td>\n",
       "    </tr>\n",
       "    <tr>\n",
       "      <th>1469</th>\n",
       "      <td>8ee5ce451568d6f8f6d3d510147d940c</td>\n",
       "      <td>EDITAL</td>\n",
       "      <td>edital</td>\n",
       "      <td>4</td>\n",
       "      <td>pirapetinga</td>\n",
       "      <td>../data/288-licitacoes-pirapetinga/data/files_...</td>\n",
       "      <td>cep estado departamento licitacoes compras ed...</td>\n",
       "      <td>cep estado departamento licitacoes compras ed...</td>\n",
       "      <td>cep estado departamento licitacoes compras ed...</td>\n",
       "      <td>cep estado departamento licitacoes compras ed...</td>\n",
       "      <td>val</td>\n",
       "      <td>cep estado departamento licitacoes compras edi...</td>\n",
       "    </tr>\n",
       "    <tr>\n",
       "      <th>1470</th>\n",
       "      <td>f9b498137795c6fb3f3e13cb88cec26d</td>\n",
       "      <td>EDITAL</td>\n",
       "      <td>edital</td>\n",
       "      <td>4</td>\n",
       "      <td>pirapetinga</td>\n",
       "      <td>../data/288-licitacoes-pirapetinga/data/files_...</td>\n",
       "      <td>cep estado departamento licitacoes compras ed...</td>\n",
       "      <td>cep estado departamento licitacoes compras ed...</td>\n",
       "      <td>cep estado departamento licitacoes compras ed...</td>\n",
       "      <td>cep estado departamento licitacoes compras ed...</td>\n",
       "      <td>val</td>\n",
       "      <td>cep estado departamento licitacoes compras edi...</td>\n",
       "    </tr>\n",
       "    <tr>\n",
       "      <th>1471</th>\n",
       "      <td>a7057777c44e9e7b85f4bbadb1c2edf0</td>\n",
       "      <td>EDITAL</td>\n",
       "      <td>edital</td>\n",
       "      <td>4</td>\n",
       "      <td>pirapetinga</td>\n",
       "      <td>../data/288-licitacoes-pirapetinga/data/files_...</td>\n",
       "      <td>cep estado departamento licitacoes compras ed...</td>\n",
       "      <td>cep estado departamento licitacoes compras ed...</td>\n",
       "      <td>cep estado departamento licitacoes compras ed...</td>\n",
       "      <td>cep estado departamento licitacoes compras ed...</td>\n",
       "      <td>val</td>\n",
       "      <td>cep estado departamento licitacoes compras edi...</td>\n",
       "    </tr>\n",
       "    <tr>\n",
       "      <th>...</th>\n",
       "      <td>...</td>\n",
       "      <td>...</td>\n",
       "      <td>...</td>\n",
       "      <td>...</td>\n",
       "      <td>...</td>\n",
       "      <td>...</td>\n",
       "      <td>...</td>\n",
       "      <td>...</td>\n",
       "      <td>...</td>\n",
       "      <td>...</td>\n",
       "      <td>...</td>\n",
       "      <td>...</td>\n",
       "    </tr>\n",
       "    <tr>\n",
       "      <th>5535</th>\n",
       "      <td>18b422521388074f96bc0e93cbe24790</td>\n",
       "      <td>OUTROS</td>\n",
       "      <td>aditamento</td>\n",
       "      <td>7</td>\n",
       "      <td>pirapetinga</td>\n",
       "      <td>../data/288-licitacoes-pirapetinga/data/files_...</td>\n",
       "      <td>cep estado termo aditivo contrato processo li...</td>\n",
       "      <td>cep estado termo aditivo contrato processo li...</td>\n",
       "      <td>cep estado termo aditivo contrato processo li...</td>\n",
       "      <td>cep estado termo aditivo contrato processo li...</td>\n",
       "      <td>val</td>\n",
       "      <td>cep estado termo aditivo contrato processo lic...</td>\n",
       "    </tr>\n",
       "    <tr>\n",
       "      <th>5536</th>\n",
       "      <td>2b4f47a3c036b61fcbfa5ab2f63a9add</td>\n",
       "      <td>OUTROS</td>\n",
       "      <td>aditamento</td>\n",
       "      <td>7</td>\n",
       "      <td>pirapetinga</td>\n",
       "      <td>../data/288-licitacoes-pirapetinga/data/files_...</td>\n",
       "      <td>cep estado termo aditivo contrato processo in...</td>\n",
       "      <td>cep estado termo aditivo contrato processo in...</td>\n",
       "      <td>cep estado termo aditivo contrato processo in...</td>\n",
       "      <td>cep estado termo aditivo contrato processo in...</td>\n",
       "      <td>val</td>\n",
       "      <td>cep estado termo aditivo contrato processo ine...</td>\n",
       "    </tr>\n",
       "    <tr>\n",
       "      <th>5537</th>\n",
       "      <td>57513c11e64a8faf9ab10db7ef599cf2</td>\n",
       "      <td>OUTROS</td>\n",
       "      <td>aditamento</td>\n",
       "      <td>7</td>\n",
       "      <td>pirapetinga</td>\n",
       "      <td>../data/288-licitacoes-pirapetinga/data/files_...</td>\n",
       "      <td>cep estado termo aditivo contrato processo ce...</td>\n",
       "      <td>cep estado termo aditivo contrato processo ce...</td>\n",
       "      <td>cep estado termo aditivo contrato processo ce...</td>\n",
       "      <td>cep estado termo aditivo contrato processo ce...</td>\n",
       "      <td>val</td>\n",
       "      <td>cep estado termo aditivo contrato processo cel...</td>\n",
       "    </tr>\n",
       "    <tr>\n",
       "      <th>5538</th>\n",
       "      <td>0b1204ae17ab0437e3c0756461456d89</td>\n",
       "      <td>OUTROS</td>\n",
       "      <td>aditamento</td>\n",
       "      <td>7</td>\n",
       "      <td>pirapetinga</td>\n",
       "      <td>../data/288-licitacoes-pirapetinga/data/files_...</td>\n",
       "      <td>cep estado termo aditivo contrato processo ce...</td>\n",
       "      <td>cep estado termo aditivo contrato processo ce...</td>\n",
       "      <td>cep estado termo aditivo contrato processo ce...</td>\n",
       "      <td>cep estado termo aditivo contrato processo ce...</td>\n",
       "      <td>val</td>\n",
       "      <td>cep estado termo aditivo contrato processo cel...</td>\n",
       "    </tr>\n",
       "    <tr>\n",
       "      <th>5539</th>\n",
       "      <td>a0aba89985fea85a2495569ba2cf9c9f</td>\n",
       "      <td>OUTROS</td>\n",
       "      <td>aditamento</td>\n",
       "      <td>7</td>\n",
       "      <td>pirapetinga</td>\n",
       "      <td>../data/288-licitacoes-pirapetinga/data/files_...</td>\n",
       "      <td>cep estado termo aditivo contrato processo li...</td>\n",
       "      <td>cep estado termo aditivo contrato processo li...</td>\n",
       "      <td>cep estado termo aditivo contrato processo li...</td>\n",
       "      <td>cep estado termo aditivo contrato processo li...</td>\n",
       "      <td>val</td>\n",
       "      <td>cep estado termo aditivo contrato processo lic...</td>\n",
       "    </tr>\n",
       "  </tbody>\n",
       "</table>\n",
       "<p>204 rows × 12 columns</p>\n",
       "</div>"
      ],
      "text/plain": [
       "                                doc_id final_meta-class       label  \\\n",
       "1467  48de864931f8104786dd9fc1efc6ad92           EDITAL      edital   \n",
       "1468  2d8350ef604fccc106b8a164a9da0f11           EDITAL      edital   \n",
       "1469  8ee5ce451568d6f8f6d3d510147d940c           EDITAL      edital   \n",
       "1470  f9b498137795c6fb3f3e13cb88cec26d           EDITAL      edital   \n",
       "1471  a7057777c44e9e7b85f4bbadb1c2edf0           EDITAL      edital   \n",
       "...                                ...              ...         ...   \n",
       "5535  18b422521388074f96bc0e93cbe24790           OUTROS  aditamento   \n",
       "5536  2b4f47a3c036b61fcbfa5ab2f63a9add           OUTROS  aditamento   \n",
       "5537  57513c11e64a8faf9ab10db7ef599cf2           OUTROS  aditamento   \n",
       "5538  0b1204ae17ab0437e3c0756461456d89           OUTROS  aditamento   \n",
       "5539  a0aba89985fea85a2495569ba2cf9c9f           OUTROS  aditamento   \n",
       "\n",
       "      label_int         city  \\\n",
       "1467          4  pirapetinga   \n",
       "1468          4  pirapetinga   \n",
       "1469          4  pirapetinga   \n",
       "1470          4  pirapetinga   \n",
       "1471          4  pirapetinga   \n",
       "...         ...          ...   \n",
       "5535          7  pirapetinga   \n",
       "5536          7  pirapetinga   \n",
       "5537          7  pirapetinga   \n",
       "5538          7  pirapetinga   \n",
       "5539          7  pirapetinga   \n",
       "\n",
       "                                               file_dir  \\\n",
       "1467  ../data/288-licitacoes-pirapetinga/data/files_...   \n",
       "1468  ../data/288-licitacoes-pirapetinga/data/files_...   \n",
       "1469  ../data/288-licitacoes-pirapetinga/data/files_...   \n",
       "1470  ../data/288-licitacoes-pirapetinga/data/files_...   \n",
       "1471  ../data/288-licitacoes-pirapetinga/data/files_...   \n",
       "...                                                 ...   \n",
       "5535  ../data/288-licitacoes-pirapetinga/data/files_...   \n",
       "5536  ../data/288-licitacoes-pirapetinga/data/files_...   \n",
       "5537  ../data/288-licitacoes-pirapetinga/data/files_...   \n",
       "5538  ../data/288-licitacoes-pirapetinga/data/files_...   \n",
       "5539  ../data/288-licitacoes-pirapetinga/data/files_...   \n",
       "\n",
       "                                               one_page  \\\n",
       "1467   cep estado departamento licitacoes compras ed...   \n",
       "1468   cep estado departamento licitacoes compras ed...   \n",
       "1469   cep estado departamento licitacoes compras ed...   \n",
       "1470   cep estado departamento licitacoes compras ed...   \n",
       "1471   cep estado departamento licitacoes compras ed...   \n",
       "...                                                 ...   \n",
       "5535   cep estado termo aditivo contrato processo li...   \n",
       "5536   cep estado termo aditivo contrato processo in...   \n",
       "5537   cep estado termo aditivo contrato processo ce...   \n",
       "5538   cep estado termo aditivo contrato processo ce...   \n",
       "5539   cep estado termo aditivo contrato processo li...   \n",
       "\n",
       "                                              two_pages  \\\n",
       "1467   cep estado departamento licitacoes compras ed...   \n",
       "1468   cep estado departamento licitacoes compras ed...   \n",
       "1469   cep estado departamento licitacoes compras ed...   \n",
       "1470   cep estado departamento licitacoes compras ed...   \n",
       "1471   cep estado departamento licitacoes compras ed...   \n",
       "...                                                 ...   \n",
       "5535   cep estado termo aditivo contrato processo li...   \n",
       "5536   cep estado termo aditivo contrato processo in...   \n",
       "5537   cep estado termo aditivo contrato processo ce...   \n",
       "5538   cep estado termo aditivo contrato processo ce...   \n",
       "5539   cep estado termo aditivo contrato processo li...   \n",
       "\n",
       "                                            three_pages  \\\n",
       "1467   cep estado departamento licitacoes compras ed...   \n",
       "1468   cep estado departamento licitacoes compras ed...   \n",
       "1469   cep estado departamento licitacoes compras ed...   \n",
       "1470   cep estado departamento licitacoes compras ed...   \n",
       "1471   cep estado departamento licitacoes compras ed...   \n",
       "...                                                 ...   \n",
       "5535   cep estado termo aditivo contrato processo li...   \n",
       "5536   cep estado termo aditivo contrato processo in...   \n",
       "5537   cep estado termo aditivo contrato processo ce...   \n",
       "5538   cep estado termo aditivo contrato processo ce...   \n",
       "5539   cep estado termo aditivo contrato processo li...   \n",
       "\n",
       "                                             four_pages fold  \\\n",
       "1467   cep estado departamento licitacoes compras ed...  val   \n",
       "1468   cep estado departamento licitacoes compras ed...  val   \n",
       "1469   cep estado departamento licitacoes compras ed...  val   \n",
       "1470   cep estado departamento licitacoes compras ed...  val   \n",
       "1471   cep estado departamento licitacoes compras ed...  val   \n",
       "...                                                 ...  ...   \n",
       "5535   cep estado termo aditivo contrato processo li...  val   \n",
       "5536   cep estado termo aditivo contrato processo in...  val   \n",
       "5537   cep estado termo aditivo contrato processo ce...  val   \n",
       "5538   cep estado termo aditivo contrato processo ce...  val   \n",
       "5539   cep estado termo aditivo contrato processo li...  val   \n",
       "\n",
       "                                   four_pages_processed  \n",
       "1467  cep estado departamento licitacoes compras edi...  \n",
       "1468  cep estado departamento licitacoes compras edi...  \n",
       "1469  cep estado departamento licitacoes compras edi...  \n",
       "1470  cep estado departamento licitacoes compras edi...  \n",
       "1471  cep estado departamento licitacoes compras edi...  \n",
       "...                                                 ...  \n",
       "5535  cep estado termo aditivo contrato processo lic...  \n",
       "5536  cep estado termo aditivo contrato processo ine...  \n",
       "5537  cep estado termo aditivo contrato processo cel...  \n",
       "5538  cep estado termo aditivo contrato processo cel...  \n",
       "5539  cep estado termo aditivo contrato processo lic...  \n",
       "\n",
       "[204 rows x 12 columns]"
      ]
     },
     "execution_count": 7,
     "metadata": {},
     "output_type": "execute_result"
    }
   ],
   "source": [
    "df.loc[(df['city']==\"pirapetinga\") & (df['label'].isin([\"aditamento\",\"edital\"]))]"
   ]
  },
  {
   "cell_type": "code",
   "execution_count": 8,
   "metadata": {},
   "outputs": [
    {
     "data": {
      "text/html": [
       "<div>\n",
       "<style scoped>\n",
       "    .dataframe tbody tr th:only-of-type {\n",
       "        vertical-align: middle;\n",
       "    }\n",
       "\n",
       "    .dataframe tbody tr th {\n",
       "        vertical-align: top;\n",
       "    }\n",
       "\n",
       "    .dataframe thead th {\n",
       "        text-align: right;\n",
       "    }\n",
       "</style>\n",
       "<table border=\"1\" class=\"dataframe\">\n",
       "  <thead>\n",
       "    <tr style=\"text-align: right;\">\n",
       "      <th></th>\n",
       "      <th>doc_id</th>\n",
       "      <th>final_meta-class</th>\n",
       "      <th>label</th>\n",
       "      <th>label_int</th>\n",
       "      <th>city</th>\n",
       "      <th>file_dir</th>\n",
       "      <th>one_page</th>\n",
       "      <th>two_pages</th>\n",
       "      <th>three_pages</th>\n",
       "      <th>four_pages</th>\n",
       "      <th>fold</th>\n",
       "      <th>four_pages_processed</th>\n",
       "    </tr>\n",
       "  </thead>\n",
       "  <tbody>\n",
       "    <tr>\n",
       "      <th>5437</th>\n",
       "      <td>2cd4d24a8087d350570f331482b501bc</td>\n",
       "      <td>OUTROS</td>\n",
       "      <td>aditamento</td>\n",
       "      <td>7</td>\n",
       "      <td>pirapetinga</td>\n",
       "      <td>../data/288-licitacoes-pirapetinga/data/files_...</td>\n",
       "      <td>cep estado termo aditivo contrato processo li...</td>\n",
       "      <td>cep estado termo aditivo contrato processo li...</td>\n",
       "      <td>cep estado termo aditivo contrato processo li...</td>\n",
       "      <td>cep estado termo aditivo contrato processo li...</td>\n",
       "      <td>val</td>\n",
       "      <td>cep estado termo aditivo contrato processo lic...</td>\n",
       "    </tr>\n",
       "    <tr>\n",
       "      <th>5438</th>\n",
       "      <td>43f52ea38b09449fe97bd57527ef1fb5</td>\n",
       "      <td>OUTROS</td>\n",
       "      <td>aditamento</td>\n",
       "      <td>7</td>\n",
       "      <td>pirapetinga</td>\n",
       "      <td>../data/288-licitacoes-pirapetinga/data/files_...</td>\n",
       "      <td>cep estado termo aditivo contrato processo li...</td>\n",
       "      <td>cep estado termo aditivo contrato processo li...</td>\n",
       "      <td>cep estado termo aditivo contrato processo li...</td>\n",
       "      <td>cep estado termo aditivo contrato processo li...</td>\n",
       "      <td>val</td>\n",
       "      <td>cep estado termo aditivo contrato processo lic...</td>\n",
       "    </tr>\n",
       "    <tr>\n",
       "      <th>5439</th>\n",
       "      <td>5694a3e26f516e4ec2b49b11ce80f4a2</td>\n",
       "      <td>OUTROS</td>\n",
       "      <td>aditamento</td>\n",
       "      <td>7</td>\n",
       "      <td>pirapetinga</td>\n",
       "      <td>../data/288-licitacoes-pirapetinga/data/files_...</td>\n",
       "      <td>cep estado termo aditivo contrato processo li...</td>\n",
       "      <td>cep estado termo aditivo contrato processo li...</td>\n",
       "      <td>cep estado termo aditivo contrato processo li...</td>\n",
       "      <td>cep estado termo aditivo contrato processo li...</td>\n",
       "      <td>val</td>\n",
       "      <td>cep estado termo aditivo contrato processo lic...</td>\n",
       "    </tr>\n",
       "    <tr>\n",
       "      <th>5440</th>\n",
       "      <td>464e659c980960e777deefce1c685dcd</td>\n",
       "      <td>OUTROS</td>\n",
       "      <td>aditamento</td>\n",
       "      <td>7</td>\n",
       "      <td>pirapetinga</td>\n",
       "      <td>../data/288-licitacoes-pirapetinga/data/files_...</td>\n",
       "      <td>cep estado termo aditivo contrato processo in...</td>\n",
       "      <td>cep estado termo aditivo contrato processo in...</td>\n",
       "      <td>cep estado termo aditivo contrato processo in...</td>\n",
       "      <td>cep estado termo aditivo contrato processo in...</td>\n",
       "      <td>val</td>\n",
       "      <td>cep estado termo aditivo contrato processo ine...</td>\n",
       "    </tr>\n",
       "    <tr>\n",
       "      <th>5441</th>\n",
       "      <td>bdedd89d7ac92a57f26df69f2b108e26</td>\n",
       "      <td>OUTROS</td>\n",
       "      <td>aditamento</td>\n",
       "      <td>7</td>\n",
       "      <td>pirapetinga</td>\n",
       "      <td>../data/288-licitacoes-pirapetinga/data/files_...</td>\n",
       "      <td>cep estado termo aditivo contrato processo li...</td>\n",
       "      <td>cep estado termo aditivo contrato processo li...</td>\n",
       "      <td>cep estado termo aditivo contrato processo li...</td>\n",
       "      <td>cep estado termo aditivo contrato processo li...</td>\n",
       "      <td>val</td>\n",
       "      <td>cep estado termo aditivo contrato processo lic...</td>\n",
       "    </tr>\n",
       "    <tr>\n",
       "      <th>...</th>\n",
       "      <td>...</td>\n",
       "      <td>...</td>\n",
       "      <td>...</td>\n",
       "      <td>...</td>\n",
       "      <td>...</td>\n",
       "      <td>...</td>\n",
       "      <td>...</td>\n",
       "      <td>...</td>\n",
       "      <td>...</td>\n",
       "      <td>...</td>\n",
       "      <td>...</td>\n",
       "      <td>...</td>\n",
       "    </tr>\n",
       "    <tr>\n",
       "      <th>5535</th>\n",
       "      <td>18b422521388074f96bc0e93cbe24790</td>\n",
       "      <td>OUTROS</td>\n",
       "      <td>aditamento</td>\n",
       "      <td>7</td>\n",
       "      <td>pirapetinga</td>\n",
       "      <td>../data/288-licitacoes-pirapetinga/data/files_...</td>\n",
       "      <td>cep estado termo aditivo contrato processo li...</td>\n",
       "      <td>cep estado termo aditivo contrato processo li...</td>\n",
       "      <td>cep estado termo aditivo contrato processo li...</td>\n",
       "      <td>cep estado termo aditivo contrato processo li...</td>\n",
       "      <td>val</td>\n",
       "      <td>cep estado termo aditivo contrato processo lic...</td>\n",
       "    </tr>\n",
       "    <tr>\n",
       "      <th>5536</th>\n",
       "      <td>2b4f47a3c036b61fcbfa5ab2f63a9add</td>\n",
       "      <td>OUTROS</td>\n",
       "      <td>aditamento</td>\n",
       "      <td>7</td>\n",
       "      <td>pirapetinga</td>\n",
       "      <td>../data/288-licitacoes-pirapetinga/data/files_...</td>\n",
       "      <td>cep estado termo aditivo contrato processo in...</td>\n",
       "      <td>cep estado termo aditivo contrato processo in...</td>\n",
       "      <td>cep estado termo aditivo contrato processo in...</td>\n",
       "      <td>cep estado termo aditivo contrato processo in...</td>\n",
       "      <td>val</td>\n",
       "      <td>cep estado termo aditivo contrato processo ine...</td>\n",
       "    </tr>\n",
       "    <tr>\n",
       "      <th>5537</th>\n",
       "      <td>57513c11e64a8faf9ab10db7ef599cf2</td>\n",
       "      <td>OUTROS</td>\n",
       "      <td>aditamento</td>\n",
       "      <td>7</td>\n",
       "      <td>pirapetinga</td>\n",
       "      <td>../data/288-licitacoes-pirapetinga/data/files_...</td>\n",
       "      <td>cep estado termo aditivo contrato processo ce...</td>\n",
       "      <td>cep estado termo aditivo contrato processo ce...</td>\n",
       "      <td>cep estado termo aditivo contrato processo ce...</td>\n",
       "      <td>cep estado termo aditivo contrato processo ce...</td>\n",
       "      <td>val</td>\n",
       "      <td>cep estado termo aditivo contrato processo cel...</td>\n",
       "    </tr>\n",
       "    <tr>\n",
       "      <th>5538</th>\n",
       "      <td>0b1204ae17ab0437e3c0756461456d89</td>\n",
       "      <td>OUTROS</td>\n",
       "      <td>aditamento</td>\n",
       "      <td>7</td>\n",
       "      <td>pirapetinga</td>\n",
       "      <td>../data/288-licitacoes-pirapetinga/data/files_...</td>\n",
       "      <td>cep estado termo aditivo contrato processo ce...</td>\n",
       "      <td>cep estado termo aditivo contrato processo ce...</td>\n",
       "      <td>cep estado termo aditivo contrato processo ce...</td>\n",
       "      <td>cep estado termo aditivo contrato processo ce...</td>\n",
       "      <td>val</td>\n",
       "      <td>cep estado termo aditivo contrato processo cel...</td>\n",
       "    </tr>\n",
       "    <tr>\n",
       "      <th>5539</th>\n",
       "      <td>a0aba89985fea85a2495569ba2cf9c9f</td>\n",
       "      <td>OUTROS</td>\n",
       "      <td>aditamento</td>\n",
       "      <td>7</td>\n",
       "      <td>pirapetinga</td>\n",
       "      <td>../data/288-licitacoes-pirapetinga/data/files_...</td>\n",
       "      <td>cep estado termo aditivo contrato processo li...</td>\n",
       "      <td>cep estado termo aditivo contrato processo li...</td>\n",
       "      <td>cep estado termo aditivo contrato processo li...</td>\n",
       "      <td>cep estado termo aditivo contrato processo li...</td>\n",
       "      <td>val</td>\n",
       "      <td>cep estado termo aditivo contrato processo lic...</td>\n",
       "    </tr>\n",
       "  </tbody>\n",
       "</table>\n",
       "<p>103 rows × 12 columns</p>\n",
       "</div>"
      ],
      "text/plain": [
       "                                doc_id final_meta-class       label  \\\n",
       "5437  2cd4d24a8087d350570f331482b501bc           OUTROS  aditamento   \n",
       "5438  43f52ea38b09449fe97bd57527ef1fb5           OUTROS  aditamento   \n",
       "5439  5694a3e26f516e4ec2b49b11ce80f4a2           OUTROS  aditamento   \n",
       "5440  464e659c980960e777deefce1c685dcd           OUTROS  aditamento   \n",
       "5441  bdedd89d7ac92a57f26df69f2b108e26           OUTROS  aditamento   \n",
       "...                                ...              ...         ...   \n",
       "5535  18b422521388074f96bc0e93cbe24790           OUTROS  aditamento   \n",
       "5536  2b4f47a3c036b61fcbfa5ab2f63a9add           OUTROS  aditamento   \n",
       "5537  57513c11e64a8faf9ab10db7ef599cf2           OUTROS  aditamento   \n",
       "5538  0b1204ae17ab0437e3c0756461456d89           OUTROS  aditamento   \n",
       "5539  a0aba89985fea85a2495569ba2cf9c9f           OUTROS  aditamento   \n",
       "\n",
       "      label_int         city  \\\n",
       "5437          7  pirapetinga   \n",
       "5438          7  pirapetinga   \n",
       "5439          7  pirapetinga   \n",
       "5440          7  pirapetinga   \n",
       "5441          7  pirapetinga   \n",
       "...         ...          ...   \n",
       "5535          7  pirapetinga   \n",
       "5536          7  pirapetinga   \n",
       "5537          7  pirapetinga   \n",
       "5538          7  pirapetinga   \n",
       "5539          7  pirapetinga   \n",
       "\n",
       "                                               file_dir  \\\n",
       "5437  ../data/288-licitacoes-pirapetinga/data/files_...   \n",
       "5438  ../data/288-licitacoes-pirapetinga/data/files_...   \n",
       "5439  ../data/288-licitacoes-pirapetinga/data/files_...   \n",
       "5440  ../data/288-licitacoes-pirapetinga/data/files_...   \n",
       "5441  ../data/288-licitacoes-pirapetinga/data/files_...   \n",
       "...                                                 ...   \n",
       "5535  ../data/288-licitacoes-pirapetinga/data/files_...   \n",
       "5536  ../data/288-licitacoes-pirapetinga/data/files_...   \n",
       "5537  ../data/288-licitacoes-pirapetinga/data/files_...   \n",
       "5538  ../data/288-licitacoes-pirapetinga/data/files_...   \n",
       "5539  ../data/288-licitacoes-pirapetinga/data/files_...   \n",
       "\n",
       "                                               one_page  \\\n",
       "5437   cep estado termo aditivo contrato processo li...   \n",
       "5438   cep estado termo aditivo contrato processo li...   \n",
       "5439   cep estado termo aditivo contrato processo li...   \n",
       "5440   cep estado termo aditivo contrato processo in...   \n",
       "5441   cep estado termo aditivo contrato processo li...   \n",
       "...                                                 ...   \n",
       "5535   cep estado termo aditivo contrato processo li...   \n",
       "5536   cep estado termo aditivo contrato processo in...   \n",
       "5537   cep estado termo aditivo contrato processo ce...   \n",
       "5538   cep estado termo aditivo contrato processo ce...   \n",
       "5539   cep estado termo aditivo contrato processo li...   \n",
       "\n",
       "                                              two_pages  \\\n",
       "5437   cep estado termo aditivo contrato processo li...   \n",
       "5438   cep estado termo aditivo contrato processo li...   \n",
       "5439   cep estado termo aditivo contrato processo li...   \n",
       "5440   cep estado termo aditivo contrato processo in...   \n",
       "5441   cep estado termo aditivo contrato processo li...   \n",
       "...                                                 ...   \n",
       "5535   cep estado termo aditivo contrato processo li...   \n",
       "5536   cep estado termo aditivo contrato processo in...   \n",
       "5537   cep estado termo aditivo contrato processo ce...   \n",
       "5538   cep estado termo aditivo contrato processo ce...   \n",
       "5539   cep estado termo aditivo contrato processo li...   \n",
       "\n",
       "                                            three_pages  \\\n",
       "5437   cep estado termo aditivo contrato processo li...   \n",
       "5438   cep estado termo aditivo contrato processo li...   \n",
       "5439   cep estado termo aditivo contrato processo li...   \n",
       "5440   cep estado termo aditivo contrato processo in...   \n",
       "5441   cep estado termo aditivo contrato processo li...   \n",
       "...                                                 ...   \n",
       "5535   cep estado termo aditivo contrato processo li...   \n",
       "5536   cep estado termo aditivo contrato processo in...   \n",
       "5537   cep estado termo aditivo contrato processo ce...   \n",
       "5538   cep estado termo aditivo contrato processo ce...   \n",
       "5539   cep estado termo aditivo contrato processo li...   \n",
       "\n",
       "                                             four_pages fold  \\\n",
       "5437   cep estado termo aditivo contrato processo li...  val   \n",
       "5438   cep estado termo aditivo contrato processo li...  val   \n",
       "5439   cep estado termo aditivo contrato processo li...  val   \n",
       "5440   cep estado termo aditivo contrato processo in...  val   \n",
       "5441   cep estado termo aditivo contrato processo li...  val   \n",
       "...                                                 ...  ...   \n",
       "5535   cep estado termo aditivo contrato processo li...  val   \n",
       "5536   cep estado termo aditivo contrato processo in...  val   \n",
       "5537   cep estado termo aditivo contrato processo ce...  val   \n",
       "5538   cep estado termo aditivo contrato processo ce...  val   \n",
       "5539   cep estado termo aditivo contrato processo li...  val   \n",
       "\n",
       "                                   four_pages_processed  \n",
       "5437  cep estado termo aditivo contrato processo lic...  \n",
       "5438  cep estado termo aditivo contrato processo lic...  \n",
       "5439  cep estado termo aditivo contrato processo lic...  \n",
       "5440  cep estado termo aditivo contrato processo ine...  \n",
       "5441  cep estado termo aditivo contrato processo lic...  \n",
       "...                                                 ...  \n",
       "5535  cep estado termo aditivo contrato processo lic...  \n",
       "5536  cep estado termo aditivo contrato processo ine...  \n",
       "5537  cep estado termo aditivo contrato processo cel...  \n",
       "5538  cep estado termo aditivo contrato processo cel...  \n",
       "5539  cep estado termo aditivo contrato processo lic...  \n",
       "\n",
       "[103 rows x 12 columns]"
      ]
     },
     "execution_count": 8,
     "metadata": {},
     "output_type": "execute_result"
    }
   ],
   "source": [
    "df.loc[(df['city']==\"pirapetinga\") & (df['label'].isin([\"aditamento\",]))]"
   ]
  },
  {
   "cell_type": "code",
   "execution_count": 9,
   "metadata": {},
   "outputs": [
    {
     "data": {
      "text/plain": [
       "array(['minas estado cnpj inscricao estadual isento ata realizacao prc trinta dias mes janeiro nove horas reuniu comissao licitacao julgamento chamada publica objetivo aquisicao generos alimenticios agricultura familiar empreendedor familiar rural atendimento secretaria municipal educacao inicialmente conformidade disposicoes contidas edital presidente cpl abriu sessao publica credenciamento interessados listados quadro seguir recebidos documentos credenciados propostas participantes presentes desclassificados nao apresentarem amostra produtos exigido item edital participantes credenciados licitante cnpj cpf nome empresarial braz representante ausente representante cpf final cessao concedido prazo recursal participante manifestou intencao interpor recurso havendo declarar encerrada sessao cuja ata lavrada assinada presidente cpl equipe apoio representantes presentes minas janeiro avenida coronel porto centro cep minas mg fone fax mail'],\n",
       "      dtype=object)"
      ]
     },
     "execution_count": 9,
     "metadata": {},
     "output_type": "execute_result"
    }
   ],
   "source": [
    "df.loc[(df['city']==\"itamarati\") & (df['final_meta-class']==\"ATA\"), 'four_pages_processed'].values"
   ]
  },
  {
   "cell_type": "code",
   "execution_count": 10,
   "metadata": {},
   "outputs": [
    {
     "name": "stderr",
     "output_type": "stream",
     "text": [
      "/dados01/workspace/ufmg.f01dcc/py37/lib/python3.7/site-packages/sklearn/model_selection/_split.py:297: FutureWarning: Setting a random_state has no effect since shuffle is False. This will raise an error in 0.24. You should leave random_state to its default (None), or set shuffle=True.\n",
      "  FutureWarning\n"
     ]
    }
   ],
   "source": [
    "# lib pra fazer extratificação multilabel [city, label]\n",
    "from skmultilearn.model_selection import iterative_train_test_split\n",
    "import numpy as np\n",
    "\n",
    "SEED=42\n",
    "np.random.seed(SEED)\n",
    "validation = []\n",
    "for i in range(10):\n",
    "    # Todo mundo como train\n",
    "    df[\"fold\"] = \"train\"\n",
    "    # Municícip vira test\n",
    "    df.loc[df[\"city\"] == \"cristais\", \"fold\"] = \"test\"\n",
    "    # Seleciona apenas train\n",
    "    df_labels = df.loc[df[\"fold\"]==\"train\"]\n",
    "    # Isso é necessário pra extratificar por município e classe de documento\n",
    "    df_labels = pd.concat([pd.get_dummies(df_labels[\"city\"]), pd.get_dummies(df_labels[\"label\"])], axis=1)\n",
    "    # Faz o split extratificado por cidade e classe\n",
    "    np.random.seed(SEED)\n",
    "    train, _ , val, _ = iterative_train_test_split(\n",
    "            df.loc[df[\"fold\"] == \"train\"].values,\n",
    "            df_labels.values,test_size = 0.2, random_state=0)\n",
    "    # Converte pra DataFrame e define fold\n",
    "    df_train = pd.DataFrame(train, columns=df.columns)\n",
    "    df_train[\"fold\"] = \"train\"\n",
    "    df_val = pd.DataFrame(val, columns=df.columns)\n",
    "    df_val[\"fold\"] = \"val\"\n",
    "    validation.append(df_val['doc_id'].tolist())\n",
    "    # Agrupa tudo em um dataframe só\n",
    "    df = pd.concat([df_train, df_val, df.loc[df[\"fold\"] == \"test\"]]).reset_index(drop=True)\n",
    "    df"
   ]
  },
  {
   "cell_type": "code",
   "execution_count": 38,
   "metadata": {},
   "outputs": [],
   "source": [
    "# lib pra fazer extratificação multilabel [city, label]\n",
    "from skmultilearn.model_selection import iterative_train_test_split\n",
    "from sklearn.model_selection import train_test_split\n",
    "import numpy as np\n",
    "\n",
    "SEED=42\n",
    "np.random.seed(SEED)\n",
    "validation = []\n",
    "for i in range(10):\n",
    "    # Todo mundo como train\n",
    "    df[\"fold\"] = \"train\"\n",
    "    # Municícip vira test\n",
    "    df.loc[df[\"city\"] == \"cristais\", \"fold\"] = \"test\"\n",
    "\n",
    "    df[\"multi_label\"] = df[\"label\"]+\"_\"+df[\"city\"]\n",
    "\n",
    "    tmp = df.groupby(\"multi_label\").size().reset_index(name=\"size\")\n",
    "    unique_classes = tmp.loc[tmp[\"size\"]==1, 'multi_label'].values\n",
    "\n",
    "    df[\"fold\"] = \"train\"\n",
    "    # Municícip vira test\n",
    "    df.loc[df[\"city\"] == \"cristais\", \"fold\"] = \"test\"\n",
    "\n",
    "    df.loc[(df[\"multi_label\"].isin(unique_classes))& (df[\"fold\"]==\"train\"), \"fold\"] = \"hold\"\n",
    "\n",
    "    train, val, _, _ = train_test_split(\n",
    "            df.loc[df[\"fold\"] == \"train\"],\n",
    "            df.loc[df[\"fold\"] == \"train\",\"multi_label\"], \n",
    "        stratify = df.loc[df[\"fold\"] == \"train\",\"multi_label\"],\n",
    "        test_size = 0.2, \n",
    "        random_state=0\n",
    "    )\n",
    "    validation.append(val['doc_id'].tolist())\n",
    "    # Agrupa tudo em um dataframe só\n",
    "    #df = pd.concat([df_train, df_val, df.loc[df[\"fold\"] == \"test\"]]).reset_index(drop=True)\n",
    "    #df"
   ]
  },
  {
   "cell_type": "code",
   "execution_count": 39,
   "metadata": {
    "collapsed": true
   },
   "outputs": [
    {
     "name": "stdout",
     "output_type": "stream",
     "text": [
      "0 1 0\n",
      "0 2 0\n",
      "0 3 0\n",
      "0 4 0\n",
      "0 5 0\n",
      "0 6 0\n",
      "0 7 0\n",
      "0 8 0\n",
      "0 9 0\n",
      "1 2 0\n",
      "1 3 0\n",
      "1 4 0\n",
      "1 5 0\n",
      "1 6 0\n",
      "1 7 0\n",
      "1 8 0\n",
      "1 9 0\n",
      "2 3 0\n",
      "2 4 0\n",
      "2 5 0\n",
      "2 6 0\n",
      "2 7 0\n",
      "2 8 0\n",
      "2 9 0\n",
      "3 4 0\n",
      "3 5 0\n",
      "3 6 0\n",
      "3 7 0\n",
      "3 8 0\n",
      "3 9 0\n",
      "4 5 0\n",
      "4 6 0\n",
      "4 7 0\n",
      "4 8 0\n",
      "4 9 0\n",
      "5 6 0\n",
      "5 7 0\n",
      "5 8 0\n",
      "5 9 0\n",
      "6 7 0\n",
      "6 8 0\n",
      "6 9 0\n",
      "7 8 0\n",
      "7 9 0\n",
      "8 9 0\n"
     ]
    }
   ],
   "source": [
    "for i in range(10):\n",
    "    for j in range(i+1,10):\n",
    "        diff = set(validation[i]).symmetric_difference(set(validation[j]))\n",
    "        print(i,j, len(diff))    "
   ]
  },
  {
   "cell_type": "code",
   "execution_count": 49,
   "metadata": {},
   "outputs": [],
   "source": [
    "from sklearn.model_selection import train_test_split\n",
    "municipio = \"cristais\"\n",
    "# criamos uma nova classe cidade+label\n",
    "df[\"multi_label\"] = df[\"label\"]+\"_\"+df[\"city\"]\n",
    "# verificamos se existem classes que aparecem apenas 1 vez em algum município\n",
    "df_multilabel_size = df.groupby(\"multi_label\").size().reset_index(name=\"size\")\n",
    "# selecionamos esses casos\n",
    "unique_classes = df_multilabel_size.loc[tmp[\"size\"]==1, 'multi_label'].values\n",
    "# definimos todos como treino\n",
    "df[\"fold\"] = \"train\"\n",
    "# Municipio vira teste\n",
    "df.loc[df[\"city\"] == municipio, \"fold\"] = \"test\"\n",
    "# \"classes unicas\" vão pro conjunto de validação\n",
    "df.loc[(df[\"multi_label\"].isin(unique_classes))& (df[\"fold\"]==\"train\"), \"fold\"] = \"val\"\n",
    "# fazemos o split considerando a multi_label\n",
    "train, val, _, _ = train_test_split(\n",
    "        df.loc[df[\"fold\"] == \"train\"],\n",
    "        df.loc[df[\"fold\"] == \"train\",\"multi_label\"], \n",
    "    stratify = df.loc[df[\"fold\"] == \"train\",\"multi_label\"],\n",
    "    test_size = 0.2, \n",
    "    random_state=SEED)\n",
    "# define os docs que vão pra validação\n",
    "df.loc[val.index, \"fold\"] = \"val\""
   ]
  },
  {
   "cell_type": "code",
   "execution_count": 4,
   "metadata": {},
   "outputs": [],
   "source": [
    "SEED = 42"
   ]
  },
  {
   "cell_type": "code",
   "execution_count": 3,
   "metadata": {},
   "outputs": [],
   "source": [
    "from sklearn.model_selection import train_test_split\n",
    "def split_data_by_city_and_class(df):\n",
    "    # criamos uma nova classe cidade+label\n",
    "    df[\"multi_label\"] = df[\"label\"]+\"_\"+df[\"city\"]\n",
    "    # verificamos se existem classes que aparecem apenas 1 vez em algum município\n",
    "    df_multilabel_size = df.groupby(\"multi_label\").size().reset_index(name=\"size\")\n",
    "    # selecionamos esses casos\n",
    "    unique_classes = df_multilabel_size.loc[df_multilabel_size[\"size\"]==1, 'multi_label'].values\n",
    "    # definimos todos como treino\n",
    "    df[\"fold\"] = \"train\"\n",
    "    # \"classes unicas\" vão pro conjunto de validação\n",
    "    df.loc[(df[\"multi_label\"].isin(unique_classes))& (df[\"fold\"]==\"train\"), \"fold\"] = \"val\"\n",
    "\n",
    "    num_docs = df.shape[0]\n",
    "    test_size = round(0.1*num_docs)\n",
    "    val_size = round(0.2*num_docs)\n",
    "\n",
    "    # fazemos o split considerando a multi_label\n",
    "    train, test, _, _ = train_test_split(\n",
    "            df.loc[df[\"fold\"] == \"train\"],\n",
    "            df.loc[df[\"fold\"] == \"train\",\"multi_label\"], \n",
    "        stratify = df.loc[df[\"fold\"] == \"train\",\"multi_label\"],\n",
    "        test_size = test_size, \n",
    "        random_state=SEED)\n",
    "    # define os docs que vão pra validação\n",
    "    df.loc[test.index, \"fold\"] = \"test\"\n",
    "\n",
    "    # fazemos o split considerando a multi_label\n",
    "    train, val, _, _ = train_test_split(\n",
    "            df.loc[df[\"fold\"] == \"train\"],\n",
    "            df.loc[df[\"fold\"] == \"train\",\"multi_label\"], \n",
    "        stratify = df.loc[df[\"fold\"] == \"train\",\"multi_label\"],\n",
    "        test_size = val_size, \n",
    "        random_state=SEED)\n",
    "    # define os docs que vão pra validação\n",
    "    df.loc[val.index, \"fold\"] = \"val\"\n",
    "    \n",
    "    return df"
   ]
  },
  {
   "cell_type": "code",
   "execution_count": 6,
   "metadata": {},
   "outputs": [
    {
     "data": {
      "text/plain": [
       "fold\n",
       "test     0.099947\n",
       "train    0.699275\n",
       "val      0.200778\n",
       "dtype: float64"
      ]
     },
     "execution_count": 6,
     "metadata": {},
     "output_type": "execute_result"
    }
   ],
   "source": [
    "df_data = split_data_by_city_and_class(df_data)\n",
    "df_data.groupby(\"fold\").size() / df_data.shape[0]"
   ]
  },
  {
   "cell_type": "code",
   "execution_count": 11,
   "metadata": {},
   "outputs": [
    {
     "data": {
      "text/html": [
       "<div>\n",
       "<style scoped>\n",
       "    .dataframe tbody tr th:only-of-type {\n",
       "        vertical-align: middle;\n",
       "    }\n",
       "\n",
       "    .dataframe tbody tr th {\n",
       "        vertical-align: top;\n",
       "    }\n",
       "\n",
       "    .dataframe thead th {\n",
       "        text-align: right;\n",
       "    }\n",
       "</style>\n",
       "<table border=\"1\" class=\"dataframe\">\n",
       "  <thead>\n",
       "    <tr style=\"text-align: right;\">\n",
       "      <th></th>\n",
       "      <th>fold</th>\n",
       "      <th>label</th>\n",
       "      <th>size</th>\n",
       "    </tr>\n",
       "  </thead>\n",
       "  <tbody>\n",
       "    <tr>\n",
       "      <th>0</th>\n",
       "      <td>test</td>\n",
       "      <td>aditamento</td>\n",
       "      <td>5.663717</td>\n",
       "    </tr>\n",
       "    <tr>\n",
       "      <th>13</th>\n",
       "      <td>train</td>\n",
       "      <td>aditamento</td>\n",
       "      <td>5.742474</td>\n",
       "    </tr>\n",
       "    <tr>\n",
       "      <th>26</th>\n",
       "      <td>val</td>\n",
       "      <td>aditamento</td>\n",
       "      <td>5.726872</td>\n",
       "    </tr>\n",
       "    <tr>\n",
       "      <th>1</th>\n",
       "      <td>test</td>\n",
       "      <td>ata dispensa licitacao</td>\n",
       "      <td>3.185841</td>\n",
       "    </tr>\n",
       "    <tr>\n",
       "      <th>14</th>\n",
       "      <td>train</td>\n",
       "      <td>ata dispensa licitacao</td>\n",
       "      <td>3.212750</td>\n",
       "    </tr>\n",
       "    <tr>\n",
       "      <th>27</th>\n",
       "      <td>val</td>\n",
       "      <td>ata dispensa licitacao</td>\n",
       "      <td>3.171806</td>\n",
       "    </tr>\n",
       "    <tr>\n",
       "      <th>2</th>\n",
       "      <td>test</td>\n",
       "      <td>ata pregao presencial</td>\n",
       "      <td>2.654867</td>\n",
       "    </tr>\n",
       "    <tr>\n",
       "      <th>15</th>\n",
       "      <td>train</td>\n",
       "      <td>ata pregao presencial</td>\n",
       "      <td>2.732102</td>\n",
       "    </tr>\n",
       "    <tr>\n",
       "      <th>28</th>\n",
       "      <td>val</td>\n",
       "      <td>ata pregao presencial</td>\n",
       "      <td>2.643172</td>\n",
       "    </tr>\n",
       "    <tr>\n",
       "      <th>16</th>\n",
       "      <td>train</td>\n",
       "      <td>ata registro precos</td>\n",
       "      <td>6.197824</td>\n",
       "    </tr>\n",
       "    <tr>\n",
       "      <th>29</th>\n",
       "      <td>val</td>\n",
       "      <td>ata registro precos</td>\n",
       "      <td>6.255507</td>\n",
       "    </tr>\n",
       "    <tr>\n",
       "      <th>3</th>\n",
       "      <td>test</td>\n",
       "      <td>ata registro precos</td>\n",
       "      <td>6.371681</td>\n",
       "    </tr>\n",
       "    <tr>\n",
       "      <th>30</th>\n",
       "      <td>val</td>\n",
       "      <td>aviso</td>\n",
       "      <td>5.550661</td>\n",
       "    </tr>\n",
       "    <tr>\n",
       "      <th>4</th>\n",
       "      <td>test</td>\n",
       "      <td>aviso</td>\n",
       "      <td>5.663717</td>\n",
       "    </tr>\n",
       "    <tr>\n",
       "      <th>17</th>\n",
       "      <td>train</td>\n",
       "      <td>aviso</td>\n",
       "      <td>5.540096</td>\n",
       "    </tr>\n",
       "    <tr>\n",
       "      <th>31</th>\n",
       "      <td>val</td>\n",
       "      <td>contrato</td>\n",
       "      <td>10.220264</td>\n",
       "    </tr>\n",
       "    <tr>\n",
       "      <th>5</th>\n",
       "      <td>test</td>\n",
       "      <td>contrato</td>\n",
       "      <td>10.442478</td>\n",
       "    </tr>\n",
       "    <tr>\n",
       "      <th>18</th>\n",
       "      <td>train</td>\n",
       "      <td>contrato</td>\n",
       "      <td>10.245383</td>\n",
       "    </tr>\n",
       "    <tr>\n",
       "      <th>32</th>\n",
       "      <td>val</td>\n",
       "      <td>edital</td>\n",
       "      <td>39.207048</td>\n",
       "    </tr>\n",
       "    <tr>\n",
       "      <th>19</th>\n",
       "      <td>train</td>\n",
       "      <td>edital</td>\n",
       "      <td>39.236023</td>\n",
       "    </tr>\n",
       "    <tr>\n",
       "      <th>6</th>\n",
       "      <td>test</td>\n",
       "      <td>edital</td>\n",
       "      <td>39.115044</td>\n",
       "    </tr>\n",
       "    <tr>\n",
       "      <th>20</th>\n",
       "      <td>train</td>\n",
       "      <td>errata</td>\n",
       "      <td>1.922590</td>\n",
       "    </tr>\n",
       "    <tr>\n",
       "      <th>33</th>\n",
       "      <td>val</td>\n",
       "      <td>errata</td>\n",
       "      <td>1.850220</td>\n",
       "    </tr>\n",
       "    <tr>\n",
       "      <th>7</th>\n",
       "      <td>test</td>\n",
       "      <td>errata</td>\n",
       "      <td>1.769912</td>\n",
       "    </tr>\n",
       "    <tr>\n",
       "      <th>21</th>\n",
       "      <td>train</td>\n",
       "      <td>homologacao adjudicacao</td>\n",
       "      <td>6.729067</td>\n",
       "    </tr>\n",
       "    <tr>\n",
       "      <th>34</th>\n",
       "      <td>val</td>\n",
       "      <td>homologacao adjudicacao</td>\n",
       "      <td>6.696035</td>\n",
       "    </tr>\n",
       "    <tr>\n",
       "      <th>8</th>\n",
       "      <td>test</td>\n",
       "      <td>homologacao adjudicacao</td>\n",
       "      <td>6.548673</td>\n",
       "    </tr>\n",
       "    <tr>\n",
       "      <th>35</th>\n",
       "      <td>val</td>\n",
       "      <td>outras atas</td>\n",
       "      <td>1.585903</td>\n",
       "    </tr>\n",
       "    <tr>\n",
       "      <th>9</th>\n",
       "      <td>test</td>\n",
       "      <td>outras atas</td>\n",
       "      <td>1.592920</td>\n",
       "    </tr>\n",
       "    <tr>\n",
       "      <th>22</th>\n",
       "      <td>train</td>\n",
       "      <td>outras atas</td>\n",
       "      <td>1.492537</td>\n",
       "    </tr>\n",
       "    <tr>\n",
       "      <th>23</th>\n",
       "      <td>train</td>\n",
       "      <td>outros</td>\n",
       "      <td>11.029598</td>\n",
       "    </tr>\n",
       "    <tr>\n",
       "      <th>36</th>\n",
       "      <td>val</td>\n",
       "      <td>outros</td>\n",
       "      <td>11.013216</td>\n",
       "    </tr>\n",
       "    <tr>\n",
       "      <th>10</th>\n",
       "      <td>test</td>\n",
       "      <td>outros</td>\n",
       "      <td>11.150442</td>\n",
       "    </tr>\n",
       "    <tr>\n",
       "      <th>37</th>\n",
       "      <td>val</td>\n",
       "      <td>publicacao diario oficial</td>\n",
       "      <td>3.259912</td>\n",
       "    </tr>\n",
       "    <tr>\n",
       "      <th>11</th>\n",
       "      <td>test</td>\n",
       "      <td>publicacao diario oficial</td>\n",
       "      <td>3.185841</td>\n",
       "    </tr>\n",
       "    <tr>\n",
       "      <th>24</th>\n",
       "      <td>train</td>\n",
       "      <td>publicacao diario oficial</td>\n",
       "      <td>3.238047</td>\n",
       "    </tr>\n",
       "    <tr>\n",
       "      <th>12</th>\n",
       "      <td>test</td>\n",
       "      <td>ratificacao</td>\n",
       "      <td>2.654867</td>\n",
       "    </tr>\n",
       "    <tr>\n",
       "      <th>25</th>\n",
       "      <td>train</td>\n",
       "      <td>ratificacao</td>\n",
       "      <td>2.681508</td>\n",
       "    </tr>\n",
       "    <tr>\n",
       "      <th>38</th>\n",
       "      <td>val</td>\n",
       "      <td>ratificacao</td>\n",
       "      <td>2.819383</td>\n",
       "    </tr>\n",
       "  </tbody>\n",
       "</table>\n",
       "</div>"
      ],
      "text/plain": [
       "     fold                      label       size\n",
       "0    test                 aditamento   5.663717\n",
       "13  train                 aditamento   5.742474\n",
       "26    val                 aditamento   5.726872\n",
       "1    test     ata dispensa licitacao   3.185841\n",
       "14  train     ata dispensa licitacao   3.212750\n",
       "27    val     ata dispensa licitacao   3.171806\n",
       "2    test      ata pregao presencial   2.654867\n",
       "15  train      ata pregao presencial   2.732102\n",
       "28    val      ata pregao presencial   2.643172\n",
       "16  train        ata registro precos   6.197824\n",
       "29    val        ata registro precos   6.255507\n",
       "3    test        ata registro precos   6.371681\n",
       "30    val                      aviso   5.550661\n",
       "4    test                      aviso   5.663717\n",
       "17  train                      aviso   5.540096\n",
       "31    val                   contrato  10.220264\n",
       "5    test                   contrato  10.442478\n",
       "18  train                   contrato  10.245383\n",
       "32    val                     edital  39.207048\n",
       "19  train                     edital  39.236023\n",
       "6    test                     edital  39.115044\n",
       "20  train                     errata   1.922590\n",
       "33    val                     errata   1.850220\n",
       "7    test                     errata   1.769912\n",
       "21  train    homologacao adjudicacao   6.729067\n",
       "34    val    homologacao adjudicacao   6.696035\n",
       "8    test    homologacao adjudicacao   6.548673\n",
       "35    val                outras atas   1.585903\n",
       "9    test                outras atas   1.592920\n",
       "22  train                outras atas   1.492537\n",
       "23  train                     outros  11.029598\n",
       "36    val                     outros  11.013216\n",
       "10   test                     outros  11.150442\n",
       "37    val  publicacao diario oficial   3.259912\n",
       "11   test  publicacao diario oficial   3.185841\n",
       "24  train  publicacao diario oficial   3.238047\n",
       "12   test                ratificacao   2.654867\n",
       "25  train                ratificacao   2.681508\n",
       "38    val                ratificacao   2.819383"
      ]
     },
     "execution_count": 11,
     "metadata": {},
     "output_type": "execute_result"
    }
   ],
   "source": [
    "(df_data.groupby([\"fold\",\"label\"]).size() / df_data.groupby([\"fold\"]).size() * 100).reset_index(name='size').sort_values(by=\"label\")"
   ]
  },
  {
   "cell_type": "code",
   "execution_count": 15,
   "metadata": {},
   "outputs": [],
   "source": [
    "tmp = (df_data.groupby([\"fold\",\"city\", \"label\"]).size() / df_data.groupby([\"fold\"]).size() * 100).reset_index(name='size').sort_values(by=[\"label\", \"city\", \"fold\"])"
   ]
  },
  {
   "cell_type": "code",
   "execution_count": 17,
   "metadata": {
    "scrolled": true
   },
   "outputs": [
    {
     "data": {
      "text/html": [
       "<div>\n",
       "<style scoped>\n",
       "    .dataframe tbody tr th:only-of-type {\n",
       "        vertical-align: middle;\n",
       "    }\n",
       "\n",
       "    .dataframe tbody tr th {\n",
       "        vertical-align: top;\n",
       "    }\n",
       "\n",
       "    .dataframe thead th {\n",
       "        text-align: right;\n",
       "    }\n",
       "</style>\n",
       "<table border=\"1\" class=\"dataframe\">\n",
       "  <thead>\n",
       "    <tr style=\"text-align: right;\">\n",
       "      <th></th>\n",
       "      <th>fold</th>\n",
       "      <th>city</th>\n",
       "      <th>label</th>\n",
       "      <th>size</th>\n",
       "    </tr>\n",
       "  </thead>\n",
       "  <tbody>\n",
       "    <tr>\n",
       "      <th>2</th>\n",
       "      <td>test</td>\n",
       "      <td>coqueiral</td>\n",
       "      <td>aditamento</td>\n",
       "      <td>3.716814</td>\n",
       "    </tr>\n",
       "    <tr>\n",
       "      <th>59</th>\n",
       "      <td>train</td>\n",
       "      <td>coqueiral</td>\n",
       "      <td>aditamento</td>\n",
       "      <td>3.769289</td>\n",
       "    </tr>\n",
       "    <tr>\n",
       "      <th>124</th>\n",
       "      <td>val</td>\n",
       "      <td>coqueiral</td>\n",
       "      <td>aditamento</td>\n",
       "      <td>3.700441</td>\n",
       "    </tr>\n",
       "    <tr>\n",
       "      <th>29</th>\n",
       "      <td>test</td>\n",
       "      <td>passa_vinte</td>\n",
       "      <td>aditamento</td>\n",
       "      <td>0.176991</td>\n",
       "    </tr>\n",
       "    <tr>\n",
       "      <th>92</th>\n",
       "      <td>train</td>\n",
       "      <td>passa_vinte</td>\n",
       "      <td>aditamento</td>\n",
       "      <td>0.151783</td>\n",
       "    </tr>\n",
       "    <tr>\n",
       "      <th>158</th>\n",
       "      <td>val</td>\n",
       "      <td>passa_vinte</td>\n",
       "      <td>aditamento</td>\n",
       "      <td>0.176211</td>\n",
       "    </tr>\n",
       "    <tr>\n",
       "      <th>36</th>\n",
       "      <td>test</td>\n",
       "      <td>pirapetinga</td>\n",
       "      <td>aditamento</td>\n",
       "      <td>1.769912</td>\n",
       "    </tr>\n",
       "    <tr>\n",
       "      <th>99</th>\n",
       "      <td>train</td>\n",
       "      <td>pirapetinga</td>\n",
       "      <td>aditamento</td>\n",
       "      <td>1.821401</td>\n",
       "    </tr>\n",
       "    <tr>\n",
       "      <th>165</th>\n",
       "      <td>val</td>\n",
       "      <td>pirapetinga</td>\n",
       "      <td>aditamento</td>\n",
       "      <td>1.850220</td>\n",
       "    </tr>\n",
       "    <tr>\n",
       "      <th>10</th>\n",
       "      <td>test</td>\n",
       "      <td>cristais</td>\n",
       "      <td>ata dispensa licitacao</td>\n",
       "      <td>3.185841</td>\n",
       "    </tr>\n",
       "    <tr>\n",
       "      <th>68</th>\n",
       "      <td>train</td>\n",
       "      <td>cristais</td>\n",
       "      <td>ata dispensa licitacao</td>\n",
       "      <td>3.212750</td>\n",
       "    </tr>\n",
       "    <tr>\n",
       "      <th>133</th>\n",
       "      <td>val</td>\n",
       "      <td>cristais</td>\n",
       "      <td>ata dispensa licitacao</td>\n",
       "      <td>3.171806</td>\n",
       "    </tr>\n",
       "    <tr>\n",
       "      <th>11</th>\n",
       "      <td>test</td>\n",
       "      <td>cristais</td>\n",
       "      <td>ata pregao presencial</td>\n",
       "      <td>2.300885</td>\n",
       "    </tr>\n",
       "    <tr>\n",
       "      <th>69</th>\n",
       "      <td>train</td>\n",
       "      <td>cristais</td>\n",
       "      <td>ata pregao presencial</td>\n",
       "      <td>2.352644</td>\n",
       "    </tr>\n",
       "    <tr>\n",
       "      <th>134</th>\n",
       "      <td>val</td>\n",
       "      <td>cristais</td>\n",
       "      <td>ata pregao presencial</td>\n",
       "      <td>2.290749</td>\n",
       "    </tr>\n",
       "    <tr>\n",
       "      <th>47</th>\n",
       "      <td>test</td>\n",
       "      <td>sao_bento_abade</td>\n",
       "      <td>ata pregao presencial</td>\n",
       "      <td>0.353982</td>\n",
       "    </tr>\n",
       "    <tr>\n",
       "      <th>112</th>\n",
       "      <td>train</td>\n",
       "      <td>sao_bento_abade</td>\n",
       "      <td>ata pregao presencial</td>\n",
       "      <td>0.379459</td>\n",
       "    </tr>\n",
       "    <tr>\n",
       "      <th>177</th>\n",
       "      <td>val</td>\n",
       "      <td>sao_bento_abade</td>\n",
       "      <td>ata pregao presencial</td>\n",
       "      <td>0.352423</td>\n",
       "    </tr>\n",
       "    <tr>\n",
       "      <th>3</th>\n",
       "      <td>test</td>\n",
       "      <td>coqueiral</td>\n",
       "      <td>ata registro precos</td>\n",
       "      <td>4.601770</td>\n",
       "    </tr>\n",
       "    <tr>\n",
       "      <th>60</th>\n",
       "      <td>train</td>\n",
       "      <td>coqueiral</td>\n",
       "      <td>ata registro precos</td>\n",
       "      <td>4.553504</td>\n",
       "    </tr>\n",
       "    <tr>\n",
       "      <th>125</th>\n",
       "      <td>val</td>\n",
       "      <td>coqueiral</td>\n",
       "      <td>ata registro precos</td>\n",
       "      <td>4.581498</td>\n",
       "    </tr>\n",
       "    <tr>\n",
       "      <th>12</th>\n",
       "      <td>test</td>\n",
       "      <td>cristais</td>\n",
       "      <td>ata registro precos</td>\n",
       "      <td>0.530973</td>\n",
       "    </tr>\n",
       "    <tr>\n",
       "      <th>70</th>\n",
       "      <td>train</td>\n",
       "      <td>cristais</td>\n",
       "      <td>ata registro precos</td>\n",
       "      <td>0.505945</td>\n",
       "    </tr>\n",
       "    <tr>\n",
       "      <th>135</th>\n",
       "      <td>val</td>\n",
       "      <td>cristais</td>\n",
       "      <td>ata registro precos</td>\n",
       "      <td>0.528634</td>\n",
       "    </tr>\n",
       "    <tr>\n",
       "      <th>37</th>\n",
       "      <td>test</td>\n",
       "      <td>pirapetinga</td>\n",
       "      <td>ata registro precos</td>\n",
       "      <td>1.061947</td>\n",
       "    </tr>\n",
       "    <tr>\n",
       "      <th>100</th>\n",
       "      <td>train</td>\n",
       "      <td>pirapetinga</td>\n",
       "      <td>ata registro precos</td>\n",
       "      <td>1.011890</td>\n",
       "    </tr>\n",
       "    <tr>\n",
       "      <th>166</th>\n",
       "      <td>val</td>\n",
       "      <td>pirapetinga</td>\n",
       "      <td>ata registro precos</td>\n",
       "      <td>1.057269</td>\n",
       "    </tr>\n",
       "    <tr>\n",
       "      <th>48</th>\n",
       "      <td>test</td>\n",
       "      <td>sao_bento_abade</td>\n",
       "      <td>ata registro precos</td>\n",
       "      <td>0.176991</td>\n",
       "    </tr>\n",
       "    <tr>\n",
       "      <th>113</th>\n",
       "      <td>train</td>\n",
       "      <td>sao_bento_abade</td>\n",
       "      <td>ata registro precos</td>\n",
       "      <td>0.126486</td>\n",
       "    </tr>\n",
       "    <tr>\n",
       "      <th>178</th>\n",
       "      <td>val</td>\n",
       "      <td>sao_bento_abade</td>\n",
       "      <td>ata registro precos</td>\n",
       "      <td>0.088106</td>\n",
       "    </tr>\n",
       "    <tr>\n",
       "      <th>4</th>\n",
       "      <td>test</td>\n",
       "      <td>coqueiral</td>\n",
       "      <td>aviso</td>\n",
       "      <td>0.530973</td>\n",
       "    </tr>\n",
       "    <tr>\n",
       "      <th>61</th>\n",
       "      <td>train</td>\n",
       "      <td>coqueiral</td>\n",
       "      <td>aviso</td>\n",
       "      <td>0.430053</td>\n",
       "    </tr>\n",
       "    <tr>\n",
       "      <th>126</th>\n",
       "      <td>val</td>\n",
       "      <td>coqueiral</td>\n",
       "      <td>aviso</td>\n",
       "      <td>0.440529</td>\n",
       "    </tr>\n",
       "    <tr>\n",
       "      <th>71</th>\n",
       "      <td>train</td>\n",
       "      <td>cristais</td>\n",
       "      <td>aviso</td>\n",
       "      <td>0.050594</td>\n",
       "    </tr>\n",
       "    <tr>\n",
       "      <th>136</th>\n",
       "      <td>val</td>\n",
       "      <td>cristais</td>\n",
       "      <td>aviso</td>\n",
       "      <td>0.088106</td>\n",
       "    </tr>\n",
       "    <tr>\n",
       "      <th>18</th>\n",
       "      <td>test</td>\n",
       "      <td>ijaci</td>\n",
       "      <td>aviso</td>\n",
       "      <td>2.300885</td>\n",
       "    </tr>\n",
       "    <tr>\n",
       "      <th>78</th>\n",
       "      <td>train</td>\n",
       "      <td>ijaci</td>\n",
       "      <td>aviso</td>\n",
       "      <td>2.200860</td>\n",
       "    </tr>\n",
       "    <tr>\n",
       "      <th>142</th>\n",
       "      <td>val</td>\n",
       "      <td>ijaci</td>\n",
       "      <td>aviso</td>\n",
       "      <td>2.202643</td>\n",
       "    </tr>\n",
       "    <tr>\n",
       "      <th>22</th>\n",
       "      <td>test</td>\n",
       "      <td>itamarati</td>\n",
       "      <td>aviso</td>\n",
       "      <td>0.176991</td>\n",
       "    </tr>\n",
       "    <tr>\n",
       "      <th>83</th>\n",
       "      <td>train</td>\n",
       "      <td>itamarati</td>\n",
       "      <td>aviso</td>\n",
       "      <td>0.177081</td>\n",
       "    </tr>\n",
       "    <tr>\n",
       "      <th>147</th>\n",
       "      <td>val</td>\n",
       "      <td>itamarati</td>\n",
       "      <td>aviso</td>\n",
       "      <td>0.176211</td>\n",
       "    </tr>\n",
       "    <tr>\n",
       "      <th>89</th>\n",
       "      <td>train</td>\n",
       "      <td>olaria</td>\n",
       "      <td>aviso</td>\n",
       "      <td>0.050594</td>\n",
       "    </tr>\n",
       "    <tr>\n",
       "      <th>38</th>\n",
       "      <td>test</td>\n",
       "      <td>pirapetinga</td>\n",
       "      <td>aviso</td>\n",
       "      <td>2.477876</td>\n",
       "    </tr>\n",
       "    <tr>\n",
       "      <th>101</th>\n",
       "      <td>train</td>\n",
       "      <td>pirapetinga</td>\n",
       "      <td>aviso</td>\n",
       "      <td>2.377941</td>\n",
       "    </tr>\n",
       "    <tr>\n",
       "      <th>167</th>\n",
       "      <td>val</td>\n",
       "      <td>pirapetinga</td>\n",
       "      <td>aviso</td>\n",
       "      <td>2.378855</td>\n",
       "    </tr>\n",
       "    <tr>\n",
       "      <th>108</th>\n",
       "      <td>train</td>\n",
       "      <td>ribeirao_vermelho</td>\n",
       "      <td>aviso</td>\n",
       "      <td>0.050594</td>\n",
       "    </tr>\n",
       "    <tr>\n",
       "      <th>174</th>\n",
       "      <td>val</td>\n",
       "      <td>ribeirao_vermelho</td>\n",
       "      <td>aviso</td>\n",
       "      <td>0.088106</td>\n",
       "    </tr>\n",
       "    <tr>\n",
       "      <th>49</th>\n",
       "      <td>test</td>\n",
       "      <td>sao_bento_abade</td>\n",
       "      <td>aviso</td>\n",
       "      <td>0.176991</td>\n",
       "    </tr>\n",
       "    <tr>\n",
       "      <th>114</th>\n",
       "      <td>train</td>\n",
       "      <td>sao_bento_abade</td>\n",
       "      <td>aviso</td>\n",
       "      <td>0.202378</td>\n",
       "    </tr>\n",
       "    <tr>\n",
       "      <th>179</th>\n",
       "      <td>val</td>\n",
       "      <td>sao_bento_abade</td>\n",
       "      <td>aviso</td>\n",
       "      <td>0.176211</td>\n",
       "    </tr>\n",
       "  </tbody>\n",
       "</table>\n",
       "</div>"
      ],
      "text/plain": [
       "      fold               city                   label      size\n",
       "2     test          coqueiral              aditamento  3.716814\n",
       "59   train          coqueiral              aditamento  3.769289\n",
       "124    val          coqueiral              aditamento  3.700441\n",
       "29    test        passa_vinte              aditamento  0.176991\n",
       "92   train        passa_vinte              aditamento  0.151783\n",
       "158    val        passa_vinte              aditamento  0.176211\n",
       "36    test        pirapetinga              aditamento  1.769912\n",
       "99   train        pirapetinga              aditamento  1.821401\n",
       "165    val        pirapetinga              aditamento  1.850220\n",
       "10    test           cristais  ata dispensa licitacao  3.185841\n",
       "68   train           cristais  ata dispensa licitacao  3.212750\n",
       "133    val           cristais  ata dispensa licitacao  3.171806\n",
       "11    test           cristais   ata pregao presencial  2.300885\n",
       "69   train           cristais   ata pregao presencial  2.352644\n",
       "134    val           cristais   ata pregao presencial  2.290749\n",
       "47    test    sao_bento_abade   ata pregao presencial  0.353982\n",
       "112  train    sao_bento_abade   ata pregao presencial  0.379459\n",
       "177    val    sao_bento_abade   ata pregao presencial  0.352423\n",
       "3     test          coqueiral     ata registro precos  4.601770\n",
       "60   train          coqueiral     ata registro precos  4.553504\n",
       "125    val          coqueiral     ata registro precos  4.581498\n",
       "12    test           cristais     ata registro precos  0.530973\n",
       "70   train           cristais     ata registro precos  0.505945\n",
       "135    val           cristais     ata registro precos  0.528634\n",
       "37    test        pirapetinga     ata registro precos  1.061947\n",
       "100  train        pirapetinga     ata registro precos  1.011890\n",
       "166    val        pirapetinga     ata registro precos  1.057269\n",
       "48    test    sao_bento_abade     ata registro precos  0.176991\n",
       "113  train    sao_bento_abade     ata registro precos  0.126486\n",
       "178    val    sao_bento_abade     ata registro precos  0.088106\n",
       "4     test          coqueiral                   aviso  0.530973\n",
       "61   train          coqueiral                   aviso  0.430053\n",
       "126    val          coqueiral                   aviso  0.440529\n",
       "71   train           cristais                   aviso  0.050594\n",
       "136    val           cristais                   aviso  0.088106\n",
       "18    test              ijaci                   aviso  2.300885\n",
       "78   train              ijaci                   aviso  2.200860\n",
       "142    val              ijaci                   aviso  2.202643\n",
       "22    test          itamarati                   aviso  0.176991\n",
       "83   train          itamarati                   aviso  0.177081\n",
       "147    val          itamarati                   aviso  0.176211\n",
       "89   train             olaria                   aviso  0.050594\n",
       "38    test        pirapetinga                   aviso  2.477876\n",
       "101  train        pirapetinga                   aviso  2.377941\n",
       "167    val        pirapetinga                   aviso  2.378855\n",
       "108  train  ribeirao_vermelho                   aviso  0.050594\n",
       "174    val  ribeirao_vermelho                   aviso  0.088106\n",
       "49    test    sao_bento_abade                   aviso  0.176991\n",
       "114  train    sao_bento_abade                   aviso  0.202378\n",
       "179    val    sao_bento_abade                   aviso  0.176211"
      ]
     },
     "execution_count": 17,
     "metadata": {},
     "output_type": "execute_result"
    }
   ],
   "source": [
    "tmp.iloc[:50]"
   ]
  },
  {
   "cell_type": "markdown",
   "metadata": {},
   "source": [
    "# Métricas"
   ]
  },
  {
   "cell_type": "code",
   "execution_count": 21,
   "metadata": {},
   "outputs": [],
   "source": [
    "import pandas as pd\n",
    "import os\n",
    "import matplotlib.pyplot as plt\n",
    "import seaborn as sns"
   ]
  },
  {
   "cell_type": "code",
   "execution_count": 57,
   "metadata": {},
   "outputs": [
    {
     "data": {
      "text/html": [
       "<div>\n",
       "<style scoped>\n",
       "    .dataframe tbody tr th:only-of-type {\n",
       "        vertical-align: middle;\n",
       "    }\n",
       "\n",
       "    .dataframe tbody tr th {\n",
       "        vertical-align: top;\n",
       "    }\n",
       "\n",
       "    .dataframe thead th {\n",
       "        text-align: right;\n",
       "    }\n",
       "</style>\n",
       "<table border=\"1\" class=\"dataframe\">\n",
       "  <thead>\n",
       "    <tr style=\"text-align: right;\">\n",
       "      <th></th>\n",
       "      <th>Metric</th>\n",
       "      <th>Score</th>\n",
       "      <th>Fold</th>\n",
       "      <th>Avaliação</th>\n",
       "    </tr>\n",
       "  </thead>\n",
       "  <tbody>\n",
       "    <tr>\n",
       "      <th>0</th>\n",
       "      <td>F1_score macro</td>\n",
       "      <td>0.976606</td>\n",
       "      <td>Treino</td>\n",
       "      <td>Geral</td>\n",
       "    </tr>\n",
       "    <tr>\n",
       "      <th>1</th>\n",
       "      <td>F1_score weighted</td>\n",
       "      <td>0.987228</td>\n",
       "      <td>Treino</td>\n",
       "      <td>Geral</td>\n",
       "    </tr>\n",
       "    <tr>\n",
       "      <th>2</th>\n",
       "      <td>Accuracy</td>\n",
       "      <td>0.987154</td>\n",
       "      <td>Treino</td>\n",
       "      <td>Geral</td>\n",
       "    </tr>\n",
       "    <tr>\n",
       "      <th>3</th>\n",
       "      <td>F1_score macro</td>\n",
       "      <td>0.896927</td>\n",
       "      <td>Validação</td>\n",
       "      <td>Geral</td>\n",
       "    </tr>\n",
       "    <tr>\n",
       "      <th>4</th>\n",
       "      <td>F1_score weighted</td>\n",
       "      <td>0.944760</td>\n",
       "      <td>Validação</td>\n",
       "      <td>Geral</td>\n",
       "    </tr>\n",
       "  </tbody>\n",
       "</table>\n",
       "</div>"
      ],
      "text/plain": [
       "              Metric     Score       Fold Avaliação\n",
       "0     F1_score macro  0.976606     Treino     Geral\n",
       "1  F1_score weighted  0.987228     Treino     Geral\n",
       "2           Accuracy  0.987154     Treino     Geral\n",
       "3     F1_score macro  0.896927  Validação     Geral\n",
       "4  F1_score weighted  0.944760  Validação     Geral"
      ]
     },
     "execution_count": 57,
     "metadata": {},
     "output_type": "execute_result"
    }
   ],
   "source": [
    "dfs[0].head()"
   ]
  },
  {
   "cell_type": "code",
   "execution_count": 22,
   "metadata": {
    "scrolled": true
   },
   "outputs": [
    {
     "data": {
      "text/html": [
       "<div>\n",
       "<style scoped>\n",
       "    .dataframe tbody tr th:only-of-type {\n",
       "        vertical-align: middle;\n",
       "    }\n",
       "\n",
       "    .dataframe tbody tr th {\n",
       "        vertical-align: top;\n",
       "    }\n",
       "\n",
       "    .dataframe thead th {\n",
       "        text-align: right;\n",
       "    }\n",
       "</style>\n",
       "<table border=\"1\" class=\"dataframe\">\n",
       "  <thead>\n",
       "    <tr style=\"text-align: right;\">\n",
       "      <th>Metric</th>\n",
       "      <th>Avaliação</th>\n",
       "      <th>Fold</th>\n",
       "      <th>F1_score macro</th>\n",
       "      <th>F1_score weighted</th>\n",
       "    </tr>\n",
       "  </thead>\n",
       "  <tbody>\n",
       "    <tr>\n",
       "      <th>0</th>\n",
       "      <td>evaluation_metrics_arantina.csv</td>\n",
       "      <td>Teste</td>\n",
       "      <td>0.500000</td>\n",
       "      <td>0.968750</td>\n",
       "    </tr>\n",
       "    <tr>\n",
       "      <th>1</th>\n",
       "      <td>evaluation_metrics_arantina.csv</td>\n",
       "      <td>Treino</td>\n",
       "      <td>1.000000</td>\n",
       "      <td>1.000000</td>\n",
       "    </tr>\n",
       "    <tr>\n",
       "      <th>2</th>\n",
       "      <td>evaluation_metrics_arantina.csv</td>\n",
       "      <td>Validação</td>\n",
       "      <td>1.000000</td>\n",
       "      <td>1.000000</td>\n",
       "    </tr>\n",
       "    <tr>\n",
       "      <th>3</th>\n",
       "      <td>evaluation_metrics_coqueiral.csv</td>\n",
       "      <td>Teste</td>\n",
       "      <td>0.828476</td>\n",
       "      <td>0.963560</td>\n",
       "    </tr>\n",
       "    <tr>\n",
       "      <th>4</th>\n",
       "      <td>evaluation_metrics_coqueiral.csv</td>\n",
       "      <td>Treino</td>\n",
       "      <td>0.836343</td>\n",
       "      <td>0.984442</td>\n",
       "    </tr>\n",
       "    <tr>\n",
       "      <th>5</th>\n",
       "      <td>evaluation_metrics_coqueiral.csv</td>\n",
       "      <td>Validação</td>\n",
       "      <td>0.846060</td>\n",
       "      <td>0.979664</td>\n",
       "    </tr>\n",
       "    <tr>\n",
       "      <th>6</th>\n",
       "      <td>evaluation_metrics_cristais.csv</td>\n",
       "      <td>Teste</td>\n",
       "      <td>0.891143</td>\n",
       "      <td>0.980025</td>\n",
       "    </tr>\n",
       "    <tr>\n",
       "      <th>7</th>\n",
       "      <td>evaluation_metrics_cristais.csv</td>\n",
       "      <td>Treino</td>\n",
       "      <td>0.743357</td>\n",
       "      <td>0.981145</td>\n",
       "    </tr>\n",
       "    <tr>\n",
       "      <th>8</th>\n",
       "      <td>evaluation_metrics_cristais.csv</td>\n",
       "      <td>Validação</td>\n",
       "      <td>0.869176</td>\n",
       "      <td>0.969208</td>\n",
       "    </tr>\n",
       "    <tr>\n",
       "      <th>9</th>\n",
       "      <td>evaluation_metrics_general.csv</td>\n",
       "      <td>Teste</td>\n",
       "      <td>0.928025</td>\n",
       "      <td>0.958259</td>\n",
       "    </tr>\n",
       "    <tr>\n",
       "      <th>10</th>\n",
       "      <td>evaluation_metrics_general.csv</td>\n",
       "      <td>Treino</td>\n",
       "      <td>0.953820</td>\n",
       "      <td>0.975344</td>\n",
       "    </tr>\n",
       "    <tr>\n",
       "      <th>11</th>\n",
       "      <td>evaluation_metrics_general.csv</td>\n",
       "      <td>Validação</td>\n",
       "      <td>0.949154</td>\n",
       "      <td>0.971958</td>\n",
       "    </tr>\n",
       "    <tr>\n",
       "      <th>12</th>\n",
       "      <td>evaluation_metrics_ijaci.csv</td>\n",
       "      <td>Teste</td>\n",
       "      <td>0.728571</td>\n",
       "      <td>0.908929</td>\n",
       "    </tr>\n",
       "    <tr>\n",
       "      <th>13</th>\n",
       "      <td>evaluation_metrics_ijaci.csv</td>\n",
       "      <td>Treino</td>\n",
       "      <td>0.627873</td>\n",
       "      <td>0.930371</td>\n",
       "    </tr>\n",
       "    <tr>\n",
       "      <th>14</th>\n",
       "      <td>evaluation_metrics_ijaci.csv</td>\n",
       "      <td>Validação</td>\n",
       "      <td>0.739583</td>\n",
       "      <td>0.961580</td>\n",
       "    </tr>\n",
       "    <tr>\n",
       "      <th>15</th>\n",
       "      <td>evaluation_metrics_itamarati.csv</td>\n",
       "      <td>Teste</td>\n",
       "      <td>1.000000</td>\n",
       "      <td>1.000000</td>\n",
       "    </tr>\n",
       "    <tr>\n",
       "      <th>16</th>\n",
       "      <td>evaluation_metrics_itamarati.csv</td>\n",
       "      <td>Treino</td>\n",
       "      <td>0.826737</td>\n",
       "      <td>0.993765</td>\n",
       "    </tr>\n",
       "    <tr>\n",
       "      <th>17</th>\n",
       "      <td>evaluation_metrics_itamarati.csv</td>\n",
       "      <td>Validação</td>\n",
       "      <td>0.797895</td>\n",
       "      <td>0.987439</td>\n",
       "    </tr>\n",
       "    <tr>\n",
       "      <th>18</th>\n",
       "      <td>evaluation_metrics_olaria.csv</td>\n",
       "      <td>Teste</td>\n",
       "      <td>0.616667</td>\n",
       "      <td>0.752381</td>\n",
       "    </tr>\n",
       "    <tr>\n",
       "      <th>19</th>\n",
       "      <td>evaluation_metrics_olaria.csv</td>\n",
       "      <td>Treino</td>\n",
       "      <td>1.000000</td>\n",
       "      <td>1.000000</td>\n",
       "    </tr>\n",
       "    <tr>\n",
       "      <th>20</th>\n",
       "      <td>evaluation_metrics_olaria.csv</td>\n",
       "      <td>Validação</td>\n",
       "      <td>1.000000</td>\n",
       "      <td>1.000000</td>\n",
       "    </tr>\n",
       "    <tr>\n",
       "      <th>21</th>\n",
       "      <td>evaluation_metrics_passa_vinte.csv</td>\n",
       "      <td>Teste</td>\n",
       "      <td>0.462963</td>\n",
       "      <td>0.794239</td>\n",
       "    </tr>\n",
       "    <tr>\n",
       "      <th>22</th>\n",
       "      <td>evaluation_metrics_passa_vinte.csv</td>\n",
       "      <td>Treino</td>\n",
       "      <td>0.496812</td>\n",
       "      <td>0.855280</td>\n",
       "    </tr>\n",
       "    <tr>\n",
       "      <th>23</th>\n",
       "      <td>evaluation_metrics_passa_vinte.csv</td>\n",
       "      <td>Validação</td>\n",
       "      <td>0.609524</td>\n",
       "      <td>0.864789</td>\n",
       "    </tr>\n",
       "    <tr>\n",
       "      <th>24</th>\n",
       "      <td>evaluation_metrics_pirapetinga.csv</td>\n",
       "      <td>Teste</td>\n",
       "      <td>0.983806</td>\n",
       "      <td>0.986829</td>\n",
       "    </tr>\n",
       "    <tr>\n",
       "      <th>25</th>\n",
       "      <td>evaluation_metrics_pirapetinga.csv</td>\n",
       "      <td>Treino</td>\n",
       "      <td>0.980511</td>\n",
       "      <td>0.981593</td>\n",
       "    </tr>\n",
       "    <tr>\n",
       "      <th>26</th>\n",
       "      <td>evaluation_metrics_pirapetinga.csv</td>\n",
       "      <td>Validação</td>\n",
       "      <td>0.966340</td>\n",
       "      <td>0.965758</td>\n",
       "    </tr>\n",
       "    <tr>\n",
       "      <th>27</th>\n",
       "      <td>evaluation_metrics_ribeirao_vermelho.csv</td>\n",
       "      <td>Teste</td>\n",
       "      <td>0.250000</td>\n",
       "      <td>0.846154</td>\n",
       "    </tr>\n",
       "    <tr>\n",
       "      <th>28</th>\n",
       "      <td>evaluation_metrics_ribeirao_vermelho.csv</td>\n",
       "      <td>Treino</td>\n",
       "      <td>1.000000</td>\n",
       "      <td>1.000000</td>\n",
       "    </tr>\n",
       "    <tr>\n",
       "      <th>29</th>\n",
       "      <td>evaluation_metrics_ribeirao_vermelho.csv</td>\n",
       "      <td>Validação</td>\n",
       "      <td>1.000000</td>\n",
       "      <td>1.000000</td>\n",
       "    </tr>\n",
       "    <tr>\n",
       "      <th>30</th>\n",
       "      <td>evaluation_metrics_sao_bento_abade.csv</td>\n",
       "      <td>Teste</td>\n",
       "      <td>0.593056</td>\n",
       "      <td>0.869231</td>\n",
       "    </tr>\n",
       "    <tr>\n",
       "      <th>31</th>\n",
       "      <td>evaluation_metrics_sao_bento_abade.csv</td>\n",
       "      <td>Treino</td>\n",
       "      <td>0.819485</td>\n",
       "      <td>0.939139</td>\n",
       "    </tr>\n",
       "    <tr>\n",
       "      <th>32</th>\n",
       "      <td>evaluation_metrics_sao_bento_abade.csv</td>\n",
       "      <td>Validação</td>\n",
       "      <td>0.828526</td>\n",
       "      <td>0.958333</td>\n",
       "    </tr>\n",
       "  </tbody>\n",
       "</table>\n",
       "</div>"
      ],
      "text/plain": [
       "Metric                                 Avaliação       Fold  F1_score macro  \\\n",
       "0                evaluation_metrics_arantina.csv      Teste        0.500000   \n",
       "1                evaluation_metrics_arantina.csv     Treino        1.000000   \n",
       "2                evaluation_metrics_arantina.csv  Validação        1.000000   \n",
       "3               evaluation_metrics_coqueiral.csv      Teste        0.828476   \n",
       "4               evaluation_metrics_coqueiral.csv     Treino        0.836343   \n",
       "5               evaluation_metrics_coqueiral.csv  Validação        0.846060   \n",
       "6                evaluation_metrics_cristais.csv      Teste        0.891143   \n",
       "7                evaluation_metrics_cristais.csv     Treino        0.743357   \n",
       "8                evaluation_metrics_cristais.csv  Validação        0.869176   \n",
       "9                 evaluation_metrics_general.csv      Teste        0.928025   \n",
       "10                evaluation_metrics_general.csv     Treino        0.953820   \n",
       "11                evaluation_metrics_general.csv  Validação        0.949154   \n",
       "12                  evaluation_metrics_ijaci.csv      Teste        0.728571   \n",
       "13                  evaluation_metrics_ijaci.csv     Treino        0.627873   \n",
       "14                  evaluation_metrics_ijaci.csv  Validação        0.739583   \n",
       "15              evaluation_metrics_itamarati.csv      Teste        1.000000   \n",
       "16              evaluation_metrics_itamarati.csv     Treino        0.826737   \n",
       "17              evaluation_metrics_itamarati.csv  Validação        0.797895   \n",
       "18                 evaluation_metrics_olaria.csv      Teste        0.616667   \n",
       "19                 evaluation_metrics_olaria.csv     Treino        1.000000   \n",
       "20                 evaluation_metrics_olaria.csv  Validação        1.000000   \n",
       "21            evaluation_metrics_passa_vinte.csv      Teste        0.462963   \n",
       "22            evaluation_metrics_passa_vinte.csv     Treino        0.496812   \n",
       "23            evaluation_metrics_passa_vinte.csv  Validação        0.609524   \n",
       "24            evaluation_metrics_pirapetinga.csv      Teste        0.983806   \n",
       "25            evaluation_metrics_pirapetinga.csv     Treino        0.980511   \n",
       "26            evaluation_metrics_pirapetinga.csv  Validação        0.966340   \n",
       "27      evaluation_metrics_ribeirao_vermelho.csv      Teste        0.250000   \n",
       "28      evaluation_metrics_ribeirao_vermelho.csv     Treino        1.000000   \n",
       "29      evaluation_metrics_ribeirao_vermelho.csv  Validação        1.000000   \n",
       "30        evaluation_metrics_sao_bento_abade.csv      Teste        0.593056   \n",
       "31        evaluation_metrics_sao_bento_abade.csv     Treino        0.819485   \n",
       "32        evaluation_metrics_sao_bento_abade.csv  Validação        0.828526   \n",
       "\n",
       "Metric  F1_score weighted  \n",
       "0                0.968750  \n",
       "1                1.000000  \n",
       "2                1.000000  \n",
       "3                0.963560  \n",
       "4                0.984442  \n",
       "5                0.979664  \n",
       "6                0.980025  \n",
       "7                0.981145  \n",
       "8                0.969208  \n",
       "9                0.958259  \n",
       "10               0.975344  \n",
       "11               0.971958  \n",
       "12               0.908929  \n",
       "13               0.930371  \n",
       "14               0.961580  \n",
       "15               1.000000  \n",
       "16               0.993765  \n",
       "17               0.987439  \n",
       "18               0.752381  \n",
       "19               1.000000  \n",
       "20               1.000000  \n",
       "21               0.794239  \n",
       "22               0.855280  \n",
       "23               0.864789  \n",
       "24               0.986829  \n",
       "25               0.981593  \n",
       "26               0.965758  \n",
       "27               0.846154  \n",
       "28               1.000000  \n",
       "29               1.000000  \n",
       "30               0.869231  \n",
       "31               0.939139  \n",
       "32               0.958333  "
      ]
     },
     "execution_count": 22,
     "metadata": {},
     "output_type": "execute_result"
    }
   ],
   "source": [
    "results_dir = \"lstm_data/results/setup_1-1/model_results/\"\n",
    "files = os.listdir(results_dir)\n",
    "files = [file for file in files if \"evaluation\" in file]\n",
    "\n",
    "dfs = []\n",
    "for file in files:\n",
    "    dfs.append(pd.read_csv(results_dir+file))\n",
    "    dfs[-1][\"Avaliação\"] = file.split(\"_evalu\")[0]\n",
    "df = pd.concat(dfs, axis=0)\n",
    "df.loc[df[\"Metric\"]!=\"Accuracy\"].pivot_table(values=\"Score\", index=[\"Avaliação\", \"Fold\"], columns=\"Metric\").reset_index().sort_values(by=[\"Avaliação\", \"Fold\"])"
   ]
  },
  {
   "cell_type": "code",
   "execution_count": 23,
   "metadata": {
    "scrolled": true
   },
   "outputs": [
    {
     "data": {
      "text/html": [
       "<div>\n",
       "<style scoped>\n",
       "    .dataframe tbody tr th:only-of-type {\n",
       "        vertical-align: middle;\n",
       "    }\n",
       "\n",
       "    .dataframe tbody tr th {\n",
       "        vertical-align: top;\n",
       "    }\n",
       "\n",
       "    .dataframe thead th {\n",
       "        text-align: right;\n",
       "    }\n",
       "</style>\n",
       "<table border=\"1\" class=\"dataframe\">\n",
       "  <thead>\n",
       "    <tr style=\"text-align: right;\">\n",
       "      <th></th>\n",
       "      <th>classe</th>\n",
       "      <th>precision</th>\n",
       "      <th>recall</th>\n",
       "      <th>f1-score</th>\n",
       "      <th>support</th>\n",
       "      <th>fold</th>\n",
       "      <th>city</th>\n",
       "      <th>Avaliação</th>\n",
       "    </tr>\n",
       "  </thead>\n",
       "  <tbody>\n",
       "    <tr>\n",
       "      <th>20</th>\n",
       "      <td>aditamento</td>\n",
       "      <td>0.000000</td>\n",
       "      <td>0.000000</td>\n",
       "      <td>0.000000</td>\n",
       "      <td>1.0</td>\n",
       "      <td>Teste</td>\n",
       "      <td>passa_vinte</td>\n",
       "      <td>passa_vinte</td>\n",
       "    </tr>\n",
       "    <tr>\n",
       "      <th>21</th>\n",
       "      <td>edital</td>\n",
       "      <td>1.000000</td>\n",
       "      <td>1.000000</td>\n",
       "      <td>1.000000</td>\n",
       "      <td>11.0</td>\n",
       "      <td>Teste</td>\n",
       "      <td>passa_vinte</td>\n",
       "      <td>passa_vinte</td>\n",
       "    </tr>\n",
       "    <tr>\n",
       "      <th>22</th>\n",
       "      <td>homologacao adjudicacao</td>\n",
       "      <td>0.000000</td>\n",
       "      <td>0.000000</td>\n",
       "      <td>0.000000</td>\n",
       "      <td>2.0</td>\n",
       "      <td>Teste</td>\n",
       "      <td>passa_vinte</td>\n",
       "      <td>passa_vinte</td>\n",
       "    </tr>\n",
       "    <tr>\n",
       "      <th>23</th>\n",
       "      <td>outros</td>\n",
       "      <td>1.000000</td>\n",
       "      <td>1.000000</td>\n",
       "      <td>1.000000</td>\n",
       "      <td>5.0</td>\n",
       "      <td>Teste</td>\n",
       "      <td>passa_vinte</td>\n",
       "      <td>passa_vinte</td>\n",
       "    </tr>\n",
       "    <tr>\n",
       "      <th>24</th>\n",
       "      <td>publicacao diario oficial</td>\n",
       "      <td>0.636364</td>\n",
       "      <td>1.000000</td>\n",
       "      <td>0.777778</td>\n",
       "      <td>7.0</td>\n",
       "      <td>Teste</td>\n",
       "      <td>passa_vinte</td>\n",
       "      <td>passa_vinte</td>\n",
       "    </tr>\n",
       "    <tr>\n",
       "      <th>25</th>\n",
       "      <td>ratificacao</td>\n",
       "      <td>0.000000</td>\n",
       "      <td>0.000000</td>\n",
       "      <td>0.000000</td>\n",
       "      <td>1.0</td>\n",
       "      <td>Teste</td>\n",
       "      <td>passa_vinte</td>\n",
       "      <td>passa_vinte</td>\n",
       "    </tr>\n",
       "    <tr>\n",
       "      <th>25</th>\n",
       "      <td>aditamento</td>\n",
       "      <td>0.900000</td>\n",
       "      <td>1.000000</td>\n",
       "      <td>0.947368</td>\n",
       "      <td>18.0</td>\n",
       "      <td>Teste</td>\n",
       "      <td>coqueiral</td>\n",
       "      <td>coqueiral</td>\n",
       "    </tr>\n",
       "    <tr>\n",
       "      <th>26</th>\n",
       "      <td>ata registro precos</td>\n",
       "      <td>1.000000</td>\n",
       "      <td>1.000000</td>\n",
       "      <td>1.000000</td>\n",
       "      <td>28.0</td>\n",
       "      <td>Teste</td>\n",
       "      <td>coqueiral</td>\n",
       "      <td>coqueiral</td>\n",
       "    </tr>\n",
       "    <tr>\n",
       "      <th>27</th>\n",
       "      <td>aviso</td>\n",
       "      <td>0.500000</td>\n",
       "      <td>1.000000</td>\n",
       "      <td>0.666667</td>\n",
       "      <td>1.0</td>\n",
       "      <td>Teste</td>\n",
       "      <td>coqueiral</td>\n",
       "      <td>coqueiral</td>\n",
       "    </tr>\n",
       "    <tr>\n",
       "      <th>28</th>\n",
       "      <td>contrato</td>\n",
       "      <td>1.000000</td>\n",
       "      <td>0.954545</td>\n",
       "      <td>0.976744</td>\n",
       "      <td>44.0</td>\n",
       "      <td>Teste</td>\n",
       "      <td>coqueiral</td>\n",
       "      <td>coqueiral</td>\n",
       "    </tr>\n",
       "    <tr>\n",
       "      <th>29</th>\n",
       "      <td>edital</td>\n",
       "      <td>0.971429</td>\n",
       "      <td>1.000000</td>\n",
       "      <td>0.985507</td>\n",
       "      <td>34.0</td>\n",
       "      <td>Teste</td>\n",
       "      <td>coqueiral</td>\n",
       "      <td>coqueiral</td>\n",
       "    </tr>\n",
       "    <tr>\n",
       "      <th>30</th>\n",
       "      <td>errata</td>\n",
       "      <td>1.000000</td>\n",
       "      <td>1.000000</td>\n",
       "      <td>1.000000</td>\n",
       "      <td>2.0</td>\n",
       "      <td>Teste</td>\n",
       "      <td>coqueiral</td>\n",
       "      <td>coqueiral</td>\n",
       "    </tr>\n",
       "    <tr>\n",
       "      <th>31</th>\n",
       "      <td>outras atas</td>\n",
       "      <td>1.000000</td>\n",
       "      <td>1.000000</td>\n",
       "      <td>1.000000</td>\n",
       "      <td>6.0</td>\n",
       "      <td>Teste</td>\n",
       "      <td>coqueiral</td>\n",
       "      <td>coqueiral</td>\n",
       "    </tr>\n",
       "    <tr>\n",
       "      <th>32</th>\n",
       "      <td>outros</td>\n",
       "      <td>0.916667</td>\n",
       "      <td>0.846154</td>\n",
       "      <td>0.880000</td>\n",
       "      <td>13.0</td>\n",
       "      <td>Teste</td>\n",
       "      <td>coqueiral</td>\n",
       "      <td>coqueiral</td>\n",
       "    </tr>\n",
       "    <tr>\n",
       "      <th>33</th>\n",
       "      <td>ratificacao</td>\n",
       "      <td>0.000000</td>\n",
       "      <td>0.000000</td>\n",
       "      <td>0.000000</td>\n",
       "      <td>1.0</td>\n",
       "      <td>Teste</td>\n",
       "      <td>coqueiral</td>\n",
       "      <td>coqueiral</td>\n",
       "    </tr>\n",
       "    <tr>\n",
       "      <th>25</th>\n",
       "      <td>ata dispensa licitacao</td>\n",
       "      <td>1.000000</td>\n",
       "      <td>1.000000</td>\n",
       "      <td>1.000000</td>\n",
       "      <td>18.0</td>\n",
       "      <td>Teste</td>\n",
       "      <td>cristais</td>\n",
       "      <td>cristais</td>\n",
       "    </tr>\n",
       "    <tr>\n",
       "      <th>26</th>\n",
       "      <td>ata pregao presencial</td>\n",
       "      <td>1.000000</td>\n",
       "      <td>1.000000</td>\n",
       "      <td>1.000000</td>\n",
       "      <td>15.0</td>\n",
       "      <td>Teste</td>\n",
       "      <td>cristais</td>\n",
       "      <td>cristais</td>\n",
       "    </tr>\n",
       "    <tr>\n",
       "      <th>27</th>\n",
       "      <td>ata registro precos</td>\n",
       "      <td>1.000000</td>\n",
       "      <td>0.666667</td>\n",
       "      <td>0.800000</td>\n",
       "      <td>3.0</td>\n",
       "      <td>Teste</td>\n",
       "      <td>cristais</td>\n",
       "      <td>cristais</td>\n",
       "    </tr>\n",
       "    <tr>\n",
       "      <th>28</th>\n",
       "      <td>edital</td>\n",
       "      <td>1.000000</td>\n",
       "      <td>0.963636</td>\n",
       "      <td>0.981481</td>\n",
       "      <td>55.0</td>\n",
       "      <td>Teste</td>\n",
       "      <td>cristais</td>\n",
       "      <td>cristais</td>\n",
       "    </tr>\n",
       "    <tr>\n",
       "      <th>29</th>\n",
       "      <td>errata</td>\n",
       "      <td>0.333333</td>\n",
       "      <td>1.000000</td>\n",
       "      <td>0.500000</td>\n",
       "      <td>1.0</td>\n",
       "      <td>Teste</td>\n",
       "      <td>cristais</td>\n",
       "      <td>cristais</td>\n",
       "    </tr>\n",
       "    <tr>\n",
       "      <th>30</th>\n",
       "      <td>outros</td>\n",
       "      <td>1.000000</td>\n",
       "      <td>1.000000</td>\n",
       "      <td>1.000000</td>\n",
       "      <td>27.0</td>\n",
       "      <td>Teste</td>\n",
       "      <td>cristais</td>\n",
       "      <td>cristais</td>\n",
       "    </tr>\n",
       "    <tr>\n",
       "      <th>31</th>\n",
       "      <td>publicacao diario oficial</td>\n",
       "      <td>0.916667</td>\n",
       "      <td>1.000000</td>\n",
       "      <td>0.956522</td>\n",
       "      <td>11.0</td>\n",
       "      <td>Teste</td>\n",
       "      <td>cristais</td>\n",
       "      <td>cristais</td>\n",
       "    </tr>\n",
       "    <tr>\n",
       "      <th>24</th>\n",
       "      <td>aditamento</td>\n",
       "      <td>1.000000</td>\n",
       "      <td>1.000000</td>\n",
       "      <td>1.000000</td>\n",
       "      <td>13.0</td>\n",
       "      <td>Teste</td>\n",
       "      <td>pirapetinga</td>\n",
       "      <td>pirapetinga</td>\n",
       "    </tr>\n",
       "    <tr>\n",
       "      <th>25</th>\n",
       "      <td>ata registro precos</td>\n",
       "      <td>1.000000</td>\n",
       "      <td>1.000000</td>\n",
       "      <td>1.000000</td>\n",
       "      <td>3.0</td>\n",
       "      <td>Teste</td>\n",
       "      <td>pirapetinga</td>\n",
       "      <td>pirapetinga</td>\n",
       "    </tr>\n",
       "    <tr>\n",
       "      <th>26</th>\n",
       "      <td>aviso</td>\n",
       "      <td>1.000000</td>\n",
       "      <td>1.000000</td>\n",
       "      <td>1.000000</td>\n",
       "      <td>12.0</td>\n",
       "      <td>Teste</td>\n",
       "      <td>pirapetinga</td>\n",
       "      <td>pirapetinga</td>\n",
       "    </tr>\n",
       "    <tr>\n",
       "      <th>27</th>\n",
       "      <td>contrato</td>\n",
       "      <td>1.000000</td>\n",
       "      <td>1.000000</td>\n",
       "      <td>1.000000</td>\n",
       "      <td>12.0</td>\n",
       "      <td>Teste</td>\n",
       "      <td>pirapetinga</td>\n",
       "      <td>pirapetinga</td>\n",
       "    </tr>\n",
       "    <tr>\n",
       "      <th>28</th>\n",
       "      <td>edital</td>\n",
       "      <td>1.000000</td>\n",
       "      <td>1.000000</td>\n",
       "      <td>1.000000</td>\n",
       "      <td>13.0</td>\n",
       "      <td>Teste</td>\n",
       "      <td>pirapetinga</td>\n",
       "      <td>pirapetinga</td>\n",
       "    </tr>\n",
       "    <tr>\n",
       "      <th>29</th>\n",
       "      <td>homologacao adjudicacao</td>\n",
       "      <td>1.000000</td>\n",
       "      <td>1.000000</td>\n",
       "      <td>1.000000</td>\n",
       "      <td>6.0</td>\n",
       "      <td>Teste</td>\n",
       "      <td>pirapetinga</td>\n",
       "      <td>pirapetinga</td>\n",
       "    </tr>\n",
       "    <tr>\n",
       "      <th>30</th>\n",
       "      <td>outros</td>\n",
       "      <td>1.000000</td>\n",
       "      <td>0.900000</td>\n",
       "      <td>0.947368</td>\n",
       "      <td>10.0</td>\n",
       "      <td>Teste</td>\n",
       "      <td>pirapetinga</td>\n",
       "      <td>pirapetinga</td>\n",
       "    </tr>\n",
       "    <tr>\n",
       "      <th>31</th>\n",
       "      <td>ratificacao</td>\n",
       "      <td>0.857143</td>\n",
       "      <td>1.000000</td>\n",
       "      <td>0.923077</td>\n",
       "      <td>6.0</td>\n",
       "      <td>Teste</td>\n",
       "      <td>pirapetinga</td>\n",
       "      <td>pirapetinga</td>\n",
       "    </tr>\n",
       "    <tr>\n",
       "      <th>18</th>\n",
       "      <td>contrato</td>\n",
       "      <td>1.000000</td>\n",
       "      <td>1.000000</td>\n",
       "      <td>1.000000</td>\n",
       "      <td>1.0</td>\n",
       "      <td>Teste</td>\n",
       "      <td>itamarati</td>\n",
       "      <td>itamarati</td>\n",
       "    </tr>\n",
       "    <tr>\n",
       "      <th>19</th>\n",
       "      <td>edital</td>\n",
       "      <td>1.000000</td>\n",
       "      <td>1.000000</td>\n",
       "      <td>1.000000</td>\n",
       "      <td>24.0</td>\n",
       "      <td>Teste</td>\n",
       "      <td>itamarati</td>\n",
       "      <td>itamarati</td>\n",
       "    </tr>\n",
       "    <tr>\n",
       "      <th>20</th>\n",
       "      <td>homologacao adjudicacao</td>\n",
       "      <td>1.000000</td>\n",
       "      <td>1.000000</td>\n",
       "      <td>1.000000</td>\n",
       "      <td>27.0</td>\n",
       "      <td>Teste</td>\n",
       "      <td>itamarati</td>\n",
       "      <td>itamarati</td>\n",
       "    </tr>\n",
       "    <tr>\n",
       "      <th>21</th>\n",
       "      <td>outras atas</td>\n",
       "      <td>1.000000</td>\n",
       "      <td>1.000000</td>\n",
       "      <td>1.000000</td>\n",
       "      <td>1.0</td>\n",
       "      <td>Teste</td>\n",
       "      <td>itamarati</td>\n",
       "      <td>itamarati</td>\n",
       "    </tr>\n",
       "    <tr>\n",
       "      <th>22</th>\n",
       "      <td>ratificacao</td>\n",
       "      <td>1.000000</td>\n",
       "      <td>1.000000</td>\n",
       "      <td>1.000000</td>\n",
       "      <td>7.0</td>\n",
       "      <td>Teste</td>\n",
       "      <td>itamarati</td>\n",
       "      <td>itamarati</td>\n",
       "    </tr>\n",
       "    <tr>\n",
       "      <th>24</th>\n",
       "      <td>ata registro precos</td>\n",
       "      <td>0.000000</td>\n",
       "      <td>0.000000</td>\n",
       "      <td>0.000000</td>\n",
       "      <td>1.0</td>\n",
       "      <td>Teste</td>\n",
       "      <td>sao_bento_abade</td>\n",
       "      <td>sao_bento_abade</td>\n",
       "    </tr>\n",
       "    <tr>\n",
       "      <th>25</th>\n",
       "      <td>aviso</td>\n",
       "      <td>1.000000</td>\n",
       "      <td>1.000000</td>\n",
       "      <td>1.000000</td>\n",
       "      <td>1.0</td>\n",
       "      <td>Teste</td>\n",
       "      <td>sao_bento_abade</td>\n",
       "      <td>sao_bento_abade</td>\n",
       "    </tr>\n",
       "    <tr>\n",
       "      <th>26</th>\n",
       "      <td>contrato</td>\n",
       "      <td>1.000000</td>\n",
       "      <td>1.000000</td>\n",
       "      <td>1.000000</td>\n",
       "      <td>1.0</td>\n",
       "      <td>Teste</td>\n",
       "      <td>sao_bento_abade</td>\n",
       "      <td>sao_bento_abade</td>\n",
       "    </tr>\n",
       "    <tr>\n",
       "      <th>27</th>\n",
       "      <td>edital</td>\n",
       "      <td>0.944444</td>\n",
       "      <td>0.944444</td>\n",
       "      <td>0.944444</td>\n",
       "      <td>18.0</td>\n",
       "      <td>Teste</td>\n",
       "      <td>sao_bento_abade</td>\n",
       "      <td>sao_bento_abade</td>\n",
       "    </tr>\n",
       "    <tr>\n",
       "      <th>28</th>\n",
       "      <td>errata</td>\n",
       "      <td>1.000000</td>\n",
       "      <td>1.000000</td>\n",
       "      <td>1.000000</td>\n",
       "      <td>2.0</td>\n",
       "      <td>Teste</td>\n",
       "      <td>sao_bento_abade</td>\n",
       "      <td>sao_bento_abade</td>\n",
       "    </tr>\n",
       "    <tr>\n",
       "      <th>29</th>\n",
       "      <td>outras atas</td>\n",
       "      <td>0.666667</td>\n",
       "      <td>1.000000</td>\n",
       "      <td>0.800000</td>\n",
       "      <td>2.0</td>\n",
       "      <td>Teste</td>\n",
       "      <td>sao_bento_abade</td>\n",
       "      <td>sao_bento_abade</td>\n",
       "    </tr>\n",
       "    <tr>\n",
       "      <th>30</th>\n",
       "      <td>outros</td>\n",
       "      <td>0.000000</td>\n",
       "      <td>0.000000</td>\n",
       "      <td>0.000000</td>\n",
       "      <td>1.0</td>\n",
       "      <td>Teste</td>\n",
       "      <td>sao_bento_abade</td>\n",
       "      <td>sao_bento_abade</td>\n",
       "    </tr>\n",
       "    <tr>\n",
       "      <th>12</th>\n",
       "      <td>edital</td>\n",
       "      <td>1.000000</td>\n",
       "      <td>1.000000</td>\n",
       "      <td>1.000000</td>\n",
       "      <td>28.0</td>\n",
       "      <td>Teste</td>\n",
       "      <td>arantina</td>\n",
       "      <td>arantina</td>\n",
       "    </tr>\n",
       "    <tr>\n",
       "      <th>13</th>\n",
       "      <td>errata</td>\n",
       "      <td>0.000000</td>\n",
       "      <td>0.000000</td>\n",
       "      <td>0.000000</td>\n",
       "      <td>1.0</td>\n",
       "      <td>Teste</td>\n",
       "      <td>arantina</td>\n",
       "      <td>arantina</td>\n",
       "    </tr>\n",
       "    <tr>\n",
       "      <th>14</th>\n",
       "      <td>outros</td>\n",
       "      <td>1.000000</td>\n",
       "      <td>1.000000</td>\n",
       "      <td>1.000000</td>\n",
       "      <td>3.0</td>\n",
       "      <td>Teste</td>\n",
       "      <td>arantina</td>\n",
       "      <td>arantina</td>\n",
       "    </tr>\n",
       "    <tr>\n",
       "      <th>16</th>\n",
       "      <td>aviso</td>\n",
       "      <td>0.842105</td>\n",
       "      <td>1.000000</td>\n",
       "      <td>0.914286</td>\n",
       "      <td>16.0</td>\n",
       "      <td>Teste</td>\n",
       "      <td>ijaci</td>\n",
       "      <td>ijaci</td>\n",
       "    </tr>\n",
       "    <tr>\n",
       "      <th>17</th>\n",
       "      <td>edital</td>\n",
       "      <td>1.000000</td>\n",
       "      <td>1.000000</td>\n",
       "      <td>1.000000</td>\n",
       "      <td>28.0</td>\n",
       "      <td>Teste</td>\n",
       "      <td>ijaci</td>\n",
       "      <td>ijaci</td>\n",
       "    </tr>\n",
       "    <tr>\n",
       "      <th>18</th>\n",
       "      <td>errata</td>\n",
       "      <td>1.000000</td>\n",
       "      <td>1.000000</td>\n",
       "      <td>1.000000</td>\n",
       "      <td>1.0</td>\n",
       "      <td>Teste</td>\n",
       "      <td>ijaci</td>\n",
       "      <td>ijaci</td>\n",
       "    </tr>\n",
       "    <tr>\n",
       "      <th>19</th>\n",
       "      <td>homologacao adjudicacao</td>\n",
       "      <td>0.000000</td>\n",
       "      <td>0.000000</td>\n",
       "      <td>0.000000</td>\n",
       "      <td>3.0</td>\n",
       "      <td>Teste</td>\n",
       "      <td>ijaci</td>\n",
       "      <td>ijaci</td>\n",
       "    </tr>\n",
       "    <tr>\n",
       "      <th>13</th>\n",
       "      <td>aviso</td>\n",
       "      <td>0.000000</td>\n",
       "      <td>0.000000</td>\n",
       "      <td>0.000000</td>\n",
       "      <td>1.0</td>\n",
       "      <td>Teste</td>\n",
       "      <td>ribeirao_vermelho</td>\n",
       "      <td>ribeirao_vermelho</td>\n",
       "    </tr>\n",
       "    <tr>\n",
       "      <th>14</th>\n",
       "      <td>edital</td>\n",
       "      <td>1.000000</td>\n",
       "      <td>1.000000</td>\n",
       "      <td>1.000000</td>\n",
       "      <td>11.0</td>\n",
       "      <td>Teste</td>\n",
       "      <td>ribeirao_vermelho</td>\n",
       "      <td>ribeirao_vermelho</td>\n",
       "    </tr>\n",
       "    <tr>\n",
       "      <th>16</th>\n",
       "      <td>outros</td>\n",
       "      <td>0.000000</td>\n",
       "      <td>0.000000</td>\n",
       "      <td>0.000000</td>\n",
       "      <td>1.0</td>\n",
       "      <td>Teste</td>\n",
       "      <td>ribeirao_vermelho</td>\n",
       "      <td>ribeirao_vermelho</td>\n",
       "    </tr>\n",
       "    <tr>\n",
       "      <th>12</th>\n",
       "      <td>aviso</td>\n",
       "      <td>1.000000</td>\n",
       "      <td>1.000000</td>\n",
       "      <td>1.000000</td>\n",
       "      <td>1.0</td>\n",
       "      <td>Teste</td>\n",
       "      <td>olaria</td>\n",
       "      <td>olaria</td>\n",
       "    </tr>\n",
       "    <tr>\n",
       "      <th>13</th>\n",
       "      <td>errata</td>\n",
       "      <td>1.000000</td>\n",
       "      <td>0.500000</td>\n",
       "      <td>0.666667</td>\n",
       "      <td>4.0</td>\n",
       "      <td>Teste</td>\n",
       "      <td>olaria</td>\n",
       "      <td>olaria</td>\n",
       "    </tr>\n",
       "    <tr>\n",
       "      <th>14</th>\n",
       "      <td>outros</td>\n",
       "      <td>0.666667</td>\n",
       "      <td>1.000000</td>\n",
       "      <td>0.800000</td>\n",
       "      <td>2.0</td>\n",
       "      <td>Teste</td>\n",
       "      <td>olaria</td>\n",
       "      <td>olaria</td>\n",
       "    </tr>\n",
       "  </tbody>\n",
       "</table>\n",
       "</div>"
      ],
      "text/plain": [
       "                       classe  precision    recall  f1-score  support   fold  \\\n",
       "20                 aditamento   0.000000  0.000000  0.000000      1.0  Teste   \n",
       "21                     edital   1.000000  1.000000  1.000000     11.0  Teste   \n",
       "22    homologacao adjudicacao   0.000000  0.000000  0.000000      2.0  Teste   \n",
       "23                     outros   1.000000  1.000000  1.000000      5.0  Teste   \n",
       "24  publicacao diario oficial   0.636364  1.000000  0.777778      7.0  Teste   \n",
       "25                ratificacao   0.000000  0.000000  0.000000      1.0  Teste   \n",
       "25                 aditamento   0.900000  1.000000  0.947368     18.0  Teste   \n",
       "26        ata registro precos   1.000000  1.000000  1.000000     28.0  Teste   \n",
       "27                      aviso   0.500000  1.000000  0.666667      1.0  Teste   \n",
       "28                   contrato   1.000000  0.954545  0.976744     44.0  Teste   \n",
       "29                     edital   0.971429  1.000000  0.985507     34.0  Teste   \n",
       "30                     errata   1.000000  1.000000  1.000000      2.0  Teste   \n",
       "31                outras atas   1.000000  1.000000  1.000000      6.0  Teste   \n",
       "32                     outros   0.916667  0.846154  0.880000     13.0  Teste   \n",
       "33                ratificacao   0.000000  0.000000  0.000000      1.0  Teste   \n",
       "25     ata dispensa licitacao   1.000000  1.000000  1.000000     18.0  Teste   \n",
       "26      ata pregao presencial   1.000000  1.000000  1.000000     15.0  Teste   \n",
       "27        ata registro precos   1.000000  0.666667  0.800000      3.0  Teste   \n",
       "28                     edital   1.000000  0.963636  0.981481     55.0  Teste   \n",
       "29                     errata   0.333333  1.000000  0.500000      1.0  Teste   \n",
       "30                     outros   1.000000  1.000000  1.000000     27.0  Teste   \n",
       "31  publicacao diario oficial   0.916667  1.000000  0.956522     11.0  Teste   \n",
       "24                 aditamento   1.000000  1.000000  1.000000     13.0  Teste   \n",
       "25        ata registro precos   1.000000  1.000000  1.000000      3.0  Teste   \n",
       "26                      aviso   1.000000  1.000000  1.000000     12.0  Teste   \n",
       "27                   contrato   1.000000  1.000000  1.000000     12.0  Teste   \n",
       "28                     edital   1.000000  1.000000  1.000000     13.0  Teste   \n",
       "29    homologacao adjudicacao   1.000000  1.000000  1.000000      6.0  Teste   \n",
       "30                     outros   1.000000  0.900000  0.947368     10.0  Teste   \n",
       "31                ratificacao   0.857143  1.000000  0.923077      6.0  Teste   \n",
       "18                   contrato   1.000000  1.000000  1.000000      1.0  Teste   \n",
       "19                     edital   1.000000  1.000000  1.000000     24.0  Teste   \n",
       "20    homologacao adjudicacao   1.000000  1.000000  1.000000     27.0  Teste   \n",
       "21                outras atas   1.000000  1.000000  1.000000      1.0  Teste   \n",
       "22                ratificacao   1.000000  1.000000  1.000000      7.0  Teste   \n",
       "24        ata registro precos   0.000000  0.000000  0.000000      1.0  Teste   \n",
       "25                      aviso   1.000000  1.000000  1.000000      1.0  Teste   \n",
       "26                   contrato   1.000000  1.000000  1.000000      1.0  Teste   \n",
       "27                     edital   0.944444  0.944444  0.944444     18.0  Teste   \n",
       "28                     errata   1.000000  1.000000  1.000000      2.0  Teste   \n",
       "29                outras atas   0.666667  1.000000  0.800000      2.0  Teste   \n",
       "30                     outros   0.000000  0.000000  0.000000      1.0  Teste   \n",
       "12                     edital   1.000000  1.000000  1.000000     28.0  Teste   \n",
       "13                     errata   0.000000  0.000000  0.000000      1.0  Teste   \n",
       "14                     outros   1.000000  1.000000  1.000000      3.0  Teste   \n",
       "16                      aviso   0.842105  1.000000  0.914286     16.0  Teste   \n",
       "17                     edital   1.000000  1.000000  1.000000     28.0  Teste   \n",
       "18                     errata   1.000000  1.000000  1.000000      1.0  Teste   \n",
       "19    homologacao adjudicacao   0.000000  0.000000  0.000000      3.0  Teste   \n",
       "13                      aviso   0.000000  0.000000  0.000000      1.0  Teste   \n",
       "14                     edital   1.000000  1.000000  1.000000     11.0  Teste   \n",
       "16                     outros   0.000000  0.000000  0.000000      1.0  Teste   \n",
       "12                      aviso   1.000000  1.000000  1.000000      1.0  Teste   \n",
       "13                     errata   1.000000  0.500000  0.666667      4.0  Teste   \n",
       "14                     outros   0.666667  1.000000  0.800000      2.0  Teste   \n",
       "\n",
       "                 city          Avaliação  \n",
       "20        passa_vinte        passa_vinte  \n",
       "21        passa_vinte        passa_vinte  \n",
       "22        passa_vinte        passa_vinte  \n",
       "23        passa_vinte        passa_vinte  \n",
       "24        passa_vinte        passa_vinte  \n",
       "25        passa_vinte        passa_vinte  \n",
       "25          coqueiral          coqueiral  \n",
       "26          coqueiral          coqueiral  \n",
       "27          coqueiral          coqueiral  \n",
       "28          coqueiral          coqueiral  \n",
       "29          coqueiral          coqueiral  \n",
       "30          coqueiral          coqueiral  \n",
       "31          coqueiral          coqueiral  \n",
       "32          coqueiral          coqueiral  \n",
       "33          coqueiral          coqueiral  \n",
       "25           cristais           cristais  \n",
       "26           cristais           cristais  \n",
       "27           cristais           cristais  \n",
       "28           cristais           cristais  \n",
       "29           cristais           cristais  \n",
       "30           cristais           cristais  \n",
       "31           cristais           cristais  \n",
       "24        pirapetinga        pirapetinga  \n",
       "25        pirapetinga        pirapetinga  \n",
       "26        pirapetinga        pirapetinga  \n",
       "27        pirapetinga        pirapetinga  \n",
       "28        pirapetinga        pirapetinga  \n",
       "29        pirapetinga        pirapetinga  \n",
       "30        pirapetinga        pirapetinga  \n",
       "31        pirapetinga        pirapetinga  \n",
       "18          itamarati          itamarati  \n",
       "19          itamarati          itamarati  \n",
       "20          itamarati          itamarati  \n",
       "21          itamarati          itamarati  \n",
       "22          itamarati          itamarati  \n",
       "24    sao_bento_abade    sao_bento_abade  \n",
       "25    sao_bento_abade    sao_bento_abade  \n",
       "26    sao_bento_abade    sao_bento_abade  \n",
       "27    sao_bento_abade    sao_bento_abade  \n",
       "28    sao_bento_abade    sao_bento_abade  \n",
       "29    sao_bento_abade    sao_bento_abade  \n",
       "30    sao_bento_abade    sao_bento_abade  \n",
       "12           arantina           arantina  \n",
       "13           arantina           arantina  \n",
       "14           arantina           arantina  \n",
       "16              ijaci              ijaci  \n",
       "17              ijaci              ijaci  \n",
       "18              ijaci              ijaci  \n",
       "19              ijaci              ijaci  \n",
       "13  ribeirao_vermelho  ribeirao_vermelho  \n",
       "14  ribeirao_vermelho  ribeirao_vermelho  \n",
       "16  ribeirao_vermelho  ribeirao_vermelho  \n",
       "12             olaria             olaria  \n",
       "13             olaria             olaria  \n",
       "14             olaria             olaria  "
      ]
     },
     "execution_count": 23,
     "metadata": {},
     "output_type": "execute_result"
    }
   ],
   "source": [
    "results_dir = \"lstm_data/results/setup_1-1/model_results/\"\n",
    "files = os.listdir(results_dir)\n",
    "files = [file for file in files if \"classification_report\" in file]\n",
    "\n",
    "dfs = []\n",
    "for file in files:\n",
    "    dfs.append(pd.read_csv(results_dir+file))\n",
    "    dfs[-1][\"Avaliação\"] = file.split(\"report_\")[-1].replace(\".csv\",\"\")\n",
    "df_2 = pd.concat(dfs, axis=0)\n",
    "df_2 = df_2.rename(columns={\"Unnamed: 0\": \"classe\"})\n",
    "df_2.loc[(df_2['fold']==\"Teste\") & (df_2['support']!=0) & ~(df_2[\"classe\"]).isin(['accuracy', 'macro avg', 'weighted avg'])]"
   ]
  },
  {
   "cell_type": "code",
   "execution_count": 24,
   "metadata": {},
   "outputs": [
    {
     "data": {
      "text/html": [
       "<div>\n",
       "<style scoped>\n",
       "    .dataframe tbody tr th:only-of-type {\n",
       "        vertical-align: middle;\n",
       "    }\n",
       "\n",
       "    .dataframe tbody tr th {\n",
       "        vertical-align: top;\n",
       "    }\n",
       "\n",
       "    .dataframe thead th {\n",
       "        text-align: right;\n",
       "    }\n",
       "</style>\n",
       "<table border=\"1\" class=\"dataframe\">\n",
       "  <thead>\n",
       "    <tr style=\"text-align: right;\">\n",
       "      <th></th>\n",
       "      <th>classe</th>\n",
       "      <th>precision</th>\n",
       "      <th>recall</th>\n",
       "      <th>f1-score</th>\n",
       "      <th>support</th>\n",
       "      <th>fold</th>\n",
       "      <th>city</th>\n",
       "      <th>Avaliação</th>\n",
       "    </tr>\n",
       "  </thead>\n",
       "  <tbody>\n",
       "    <tr>\n",
       "      <th>20</th>\n",
       "      <td>aditamento</td>\n",
       "      <td>0.000000</td>\n",
       "      <td>0.0</td>\n",
       "      <td>0.000000</td>\n",
       "      <td>1.0</td>\n",
       "      <td>Teste</td>\n",
       "      <td>passa_vinte</td>\n",
       "      <td>passa_vinte</td>\n",
       "    </tr>\n",
       "    <tr>\n",
       "      <th>21</th>\n",
       "      <td>edital</td>\n",
       "      <td>1.000000</td>\n",
       "      <td>1.0</td>\n",
       "      <td>1.000000</td>\n",
       "      <td>11.0</td>\n",
       "      <td>Teste</td>\n",
       "      <td>passa_vinte</td>\n",
       "      <td>passa_vinte</td>\n",
       "    </tr>\n",
       "    <tr>\n",
       "      <th>22</th>\n",
       "      <td>homologacao adjudicacao</td>\n",
       "      <td>0.000000</td>\n",
       "      <td>0.0</td>\n",
       "      <td>0.000000</td>\n",
       "      <td>2.0</td>\n",
       "      <td>Teste</td>\n",
       "      <td>passa_vinte</td>\n",
       "      <td>passa_vinte</td>\n",
       "    </tr>\n",
       "    <tr>\n",
       "      <th>23</th>\n",
       "      <td>outros</td>\n",
       "      <td>1.000000</td>\n",
       "      <td>1.0</td>\n",
       "      <td>1.000000</td>\n",
       "      <td>5.0</td>\n",
       "      <td>Teste</td>\n",
       "      <td>passa_vinte</td>\n",
       "      <td>passa_vinte</td>\n",
       "    </tr>\n",
       "    <tr>\n",
       "      <th>24</th>\n",
       "      <td>publicacao diario oficial</td>\n",
       "      <td>0.636364</td>\n",
       "      <td>1.0</td>\n",
       "      <td>0.777778</td>\n",
       "      <td>7.0</td>\n",
       "      <td>Teste</td>\n",
       "      <td>passa_vinte</td>\n",
       "      <td>passa_vinte</td>\n",
       "    </tr>\n",
       "  </tbody>\n",
       "</table>\n",
       "</div>"
      ],
      "text/plain": [
       "                       classe  precision  recall  f1-score  support   fold  \\\n",
       "20                 aditamento   0.000000     0.0  0.000000      1.0  Teste   \n",
       "21                     edital   1.000000     1.0  1.000000     11.0  Teste   \n",
       "22    homologacao adjudicacao   0.000000     0.0  0.000000      2.0  Teste   \n",
       "23                     outros   1.000000     1.0  1.000000      5.0  Teste   \n",
       "24  publicacao diario oficial   0.636364     1.0  0.777778      7.0  Teste   \n",
       "\n",
       "           city    Avaliação  \n",
       "20  passa_vinte  passa_vinte  \n",
       "21  passa_vinte  passa_vinte  \n",
       "22  passa_vinte  passa_vinte  \n",
       "23  passa_vinte  passa_vinte  \n",
       "24  passa_vinte  passa_vinte  "
      ]
     },
     "execution_count": 24,
     "metadata": {},
     "output_type": "execute_result"
    }
   ],
   "source": [
    "df_3 = df_2.loc[(df_2['fold']==\"Teste\") & (df_2['support']!=0) & ~(df_2[\"classe\"]).isin(['accuracy', 'macro avg', 'weighted avg'])]\n",
    "df_3 = df_3.loc[df_3['city'].isin(['arantina', 'olaria', 'passa_vinte', 'ribeirao_vermelho', 'sao_bento_abade'])]\n",
    "df_3.head()"
   ]
  },
  {
   "cell_type": "code",
   "execution_count": 25,
   "metadata": {},
   "outputs": [
    {
     "data": {
      "image/png": "[encoded data removed]",
      "text/plain": [
       "<Figure size 720x504 with 1 Axes>"
      ]
     },
     "metadata": {},
     "output_type": "display_data"
    }
   ],
   "source": [
    "sns.set(rc={'figure.figsize':(10,7)})\n",
    "metric = \"precision\"\n",
    "sns.boxplot(x=metric, y=\"classe\", color=\"#D3D3D3\",\n",
    "            #hue=\"city\",# palette=[\"m\", \"g\"],\n",
    "            data=df_3)\n",
    "sns.stripplot(x=metric, y=\"classe\",data=df_3, palette=\"bright\",\n",
    "            hue=\"Avaliação\", linewidth=1,edgecolor='black', jitter=0.3# dodge=True,\n",
    "            )\n",
    "#plt.legend(bbox_to_anchor=(1, 1), loc=2)\n",
    "plt.legend(ncol=3,bbox_to_anchor=(0, -0.35), loc='lower left', borderaxespad=0.)\n",
    "#plt.title(\"Precision das classes de documentos por município\")\n",
    "plt.tight_layout()"
   ]
  },
  {
   "cell_type": "code",
   "execution_count": 26,
   "metadata": {},
   "outputs": [
    {
     "data": {
      "image/png": "[encoded data removed]",
      "text/plain": [
       "<Figure size 720x504 with 1 Axes>"
      ]
     },
     "metadata": {},
     "output_type": "display_data"
    }
   ],
   "source": [
    "sns.set(rc={'figure.figsize':(10,7)})\n",
    "metric = \"recall\"\n",
    "sns.boxplot(x=metric, y=\"classe\", color=\"#D3D3D3\",\n",
    "            #hue=\"city\",# palette=[\"m\", \"g\"],\n",
    "            data=df_3)\n",
    "sns.stripplot(x=metric, y=\"classe\",data=df_3, palette=\"bright\",\n",
    "            hue=\"Avaliação\", linewidth=1,edgecolor='black', jitter=0.3# dodge=True,\n",
    "            )\n",
    "#plt.legend(bbox_to_anchor=(1, 1), loc=2)\n",
    "plt.legend(ncol=3,bbox_to_anchor=(0, -0.35), loc='lower left', borderaxespad=0.)\n",
    "#plt.title(\"Recall das classes de documentos por município\")\n",
    "plt.tight_layout()"
   ]
  },
  {
   "cell_type": "code",
   "execution_count": 27,
   "metadata": {},
   "outputs": [
    {
     "data": {
      "image/png": "[encoded data removed]",
      "text/plain": [
       "<Figure size 720x504 with 1 Axes>"
      ]
     },
     "metadata": {},
     "output_type": "display_data"
    }
   ],
   "source": [
    "sns.set(rc={'figure.figsize':(10,7)})\n",
    "metric = \"f1-score\"\n",
    "sns.boxplot(x=metric, y=\"classe\", color=\"#D3D3D3\",\n",
    "            #hue=\"city\",# palette=[\"m\", \"g\"],\n",
    "            data=df_3)\n",
    "sns.stripplot(x=metric, y=\"classe\",data=df_3, palette=\"bright\",\n",
    "            hue=\"Avaliação\", linewidth=1,edgecolor='black', jitter=0.3# dodge=True,\n",
    "            )\n",
    "#plt.legend(bbox_to_anchor=(1, 1), loc=2)\n",
    "plt.legend(ncol=3,bbox_to_anchor=(0, -0.35), loc='lower left', borderaxespad=0.)\n",
    "#plt.title(\"F1-score das classes de documentos por município\")\n",
    "plt.tight_layout()"
   ]
  },
  {
   "cell_type": "code",
   "execution_count": 28,
   "metadata": {},
   "outputs": [
    {
     "data": {
      "image/png": "[encoded data removed]",
      "text/plain": [
       "<Figure size 720x504 with 1 Axes>"
      ]
     },
     "metadata": {},
     "output_type": "display_data"
    }
   ],
   "source": [
    "sns.set(rc={'figure.figsize':(10,7)})\n",
    "metric = \"precision\"\n",
    "sns.boxplot(x=metric, y=\"Avaliação\", color=\"#D3D3D3\",\n",
    "            #hue=\"city\",# palette=[\"m\", \"g\"],\n",
    "            data=df_3)\n",
    "sns.stripplot(x=metric, y=\"Avaliação\",data=df_3, palette=\"bright\",\n",
    "            hue=\"classe\", linewidth=1,edgecolor='black', jitter=0.3# dodge=True,\n",
    "            )\n",
    "#plt.legend(bbox_to_anchor=(1, 1), loc=2)\n",
    "plt.legend(ncol=3,bbox_to_anchor=(0, -0.35), loc='lower left', borderaxespad=0.)\n",
    "plt.tight_layout()"
   ]
  },
  {
   "cell_type": "code",
   "execution_count": 29,
   "metadata": {},
   "outputs": [
    {
     "data": {
      "image/png": "[encoded data removed]",
      "text/plain": [
       "<Figure size 720x504 with 1 Axes>"
      ]
     },
     "metadata": {},
     "output_type": "display_data"
    }
   ],
   "source": [
    "sns.set(rc={'figure.figsize':(10,7)})\n",
    "metric = \"recall\"\n",
    "sns.boxplot(x=metric, y=\"Avaliação\", color=\"#D3D3D3\",\n",
    "            #hue=\"city\",# palette=[\"m\", \"g\"],\n",
    "            data=df_3)\n",
    "sns.stripplot(x=metric, y=\"Avaliação\",data=df_3, palette=\"bright\",\n",
    "            hue=\"classe\", linewidth=1,edgecolor='black', dodge=True,#jitter=0.3# dodge=True,\n",
    "            )\n",
    "#plt.legend(bbox_to_anchor=(1, 1), loc=2)\n",
    "plt.legend(ncol=3,bbox_to_anchor=(0, -0.35), loc='lower left', borderaxespad=0.)\n",
    "plt.tight_layout()"
   ]
  },
  {
   "cell_type": "code",
   "execution_count": 32,
   "metadata": {},
   "outputs": [
    {
     "data": {
      "image/png": "[encoded data removed]",
      "text/plain": [
       "<Figure size 720x432 with 1 Axes>"
      ]
     },
     "metadata": {},
     "output_type": "display_data"
    }
   ],
   "source": [
    "sns.set(rc={'figure.figsize':(10,6)})\n",
    "metric = \"f1-score\"\n",
    "sns.boxplot(x=metric, y=\"Avaliação\", color=\"#D3D3D3\",\n",
    "            #hue=\"city\",# palette=[\"m\", \"g\"],\n",
    "            data=df_3)\n",
    "sns.stripplot(x=metric, y=\"Avaliação\",data=df_3, palette=\"bright\",\n",
    "            hue=\"classe\", linewidth=1,edgecolor='black', dodge=True#jitter=0.3# dodge=True,\n",
    "            )\n",
    "#plt.legend(bbox_to_anchor=(1, 1), loc=2)\n",
    "plt.legend(ncol=3,bbox_to_anchor=(0, -0.35), loc='lower left', borderaxespad=0.)\n",
    "#plt.title(\"F1-score para cada classe de documento por município\")\n",
    "plt.tight_layout()"
   ]
  },
  {
   "cell_type": "code",
   "execution_count": 31,
   "metadata": {},
   "outputs": [
    {
     "data": {
      "text/plain": [
       "array(['aditamento', 'aviso', 'edital', 'homologacao adjudicacao',\n",
       "       'outras atas', 'outros', 'publicacao diario oficial',\n",
       "       'ratificacao', 'accuracy', 'macro avg', 'weighted avg',\n",
       "       'ata registro precos', 'contrato', 'errata',\n",
       "       'ata dispensa licitacao', 'ata pregao presencial'], dtype=object)"
      ]
     },
     "execution_count": 31,
     "metadata": {},
     "output_type": "execute_result"
    }
   ],
   "source": [
    "df_2[\"classe\"].unique()"
   ]
  },
  {
   "cell_type": "markdown",
   "metadata": {},
   "source": [
    "# Distribuição Meta-classes por cidade"
   ]
  },
  {
   "cell_type": "code",
   "execution_count": 1,
   "metadata": {},
   "outputs": [
    {
     "data": {
      "text/html": [
       "<div>\n",
       "<style scoped>\n",
       "    .dataframe tbody tr th:only-of-type {\n",
       "        vertical-align: middle;\n",
       "    }\n",
       "\n",
       "    .dataframe tbody tr th {\n",
       "        vertical-align: top;\n",
       "    }\n",
       "\n",
       "    .dataframe thead th {\n",
       "        text-align: right;\n",
       "    }\n",
       "</style>\n",
       "<table border=\"1\" class=\"dataframe\">\n",
       "  <thead>\n",
       "    <tr style=\"text-align: right;\">\n",
       "      <th></th>\n",
       "      <th>doc_id</th>\n",
       "      <th>final_meta-class</th>\n",
       "      <th>label</th>\n",
       "      <th>label_int</th>\n",
       "      <th>city</th>\n",
       "      <th>file_dir</th>\n",
       "      <th>one_page</th>\n",
       "      <th>two_pages</th>\n",
       "      <th>three_pages</th>\n",
       "      <th>four_pages</th>\n",
       "      <th>fold</th>\n",
       "      <th>four_pages_processed</th>\n",
       "    </tr>\n",
       "  </thead>\n",
       "  <tbody>\n",
       "    <tr>\n",
       "      <th>0</th>\n",
       "      <td>499fa518c7724a6e449c509b7d7bc819</td>\n",
       "      <td>ATA</td>\n",
       "      <td>ata dispensa licitacao</td>\n",
       "      <td>0</td>\n",
       "      <td>cristais</td>\n",
       "      <td>../data/290-licitacoes-cristais/data/files_jso...</td>\n",
       "      <td>comissao permanente licitacoes ata dispensa ju...</td>\n",
       "      <td>comissao permanente licitacoes ata dispensa ju...</td>\n",
       "      <td>comissao permanente licitacoes ata dispensa ju...</td>\n",
       "      <td>comissao permanente licitacoes ata dispensa ju...</td>\n",
       "      <td>val</td>\n",
       "      <td>comissao permanente licitacoes ata dispensa ju...</td>\n",
       "    </tr>\n",
       "    <tr>\n",
       "      <th>1</th>\n",
       "      <td>56a09c5d1d04cc95ada4d68ad22dcbd9</td>\n",
       "      <td>ATA</td>\n",
       "      <td>ata dispensa licitacao</td>\n",
       "      <td>0</td>\n",
       "      <td>cristais</td>\n",
       "      <td>../data/290-licitacoes-cristais/data/files_jso...</td>\n",
       "      <td>comissao permanente licitacoes dia fevereiro r...</td>\n",
       "      <td>comissao permanente licitacoes dia fevereiro r...</td>\n",
       "      <td>comissao permanente licitacoes dia fevereiro r...</td>\n",
       "      <td>comissao permanente licitacoes dia fevereiro r...</td>\n",
       "      <td>test</td>\n",
       "      <td>comissao permanente licitacoes dia fevereiro r...</td>\n",
       "    </tr>\n",
       "    <tr>\n",
       "      <th>2</th>\n",
       "      <td>6e9f35208290c1130fcccad47b50aa53</td>\n",
       "      <td>ATA</td>\n",
       "      <td>ata dispensa licitacao</td>\n",
       "      <td>0</td>\n",
       "      <td>cristais</td>\n",
       "      <td>../data/290-licitacoes-cristais/data/files_jso...</td>\n",
       "      <td>praca cel centro estado cep pabx cnpj comissa...</td>\n",
       "      <td>praca cel centro estado cep pabx cnpj comissa...</td>\n",
       "      <td>praca cel centro estado cep pabx cnpj comissa...</td>\n",
       "      <td>praca cel centro estado cep pabx cnpj comissa...</td>\n",
       "      <td>val</td>\n",
       "      <td>praca cel centro estado cep pabx cnpj comissao...</td>\n",
       "    </tr>\n",
       "    <tr>\n",
       "      <th>3</th>\n",
       "      <td>669c029c5812ec9a31b9c211044157b4</td>\n",
       "      <td>ATA</td>\n",
       "      <td>ata dispensa licitacao</td>\n",
       "      <td>0</td>\n",
       "      <td>cristais</td>\n",
       "      <td>../data/290-licitacoes-cristais/data/files_jso...</td>\n",
       "      <td>comissao permanente licitacoes dia fevereiro r...</td>\n",
       "      <td>comissao permanente licitacoes dia fevereiro r...</td>\n",
       "      <td>comissao permanente licitacoes dia fevereiro r...</td>\n",
       "      <td>comissao permanente licitacoes dia fevereiro r...</td>\n",
       "      <td>val</td>\n",
       "      <td>comissao permanente licitacoes dia fevereiro r...</td>\n",
       "    </tr>\n",
       "    <tr>\n",
       "      <th>4</th>\n",
       "      <td>a22421dc45d623c9200c7e8fb1e6ca34</td>\n",
       "      <td>ATA</td>\n",
       "      <td>ata dispensa licitacao</td>\n",
       "      <td>0</td>\n",
       "      <td>cristais</td>\n",
       "      <td>../data/290-licitacoes-cristais/data/files_jso...</td>\n",
       "      <td>comissao permanente licitacoes maio reuniu com...</td>\n",
       "      <td>comissao permanente licitacoes maio reuniu com...</td>\n",
       "      <td>comissao permanente licitacoes maio reuniu com...</td>\n",
       "      <td>comissao permanente licitacoes maio reuniu com...</td>\n",
       "      <td>train</td>\n",
       "      <td>comissao permanente licitacoes maio reuniu com...</td>\n",
       "    </tr>\n",
       "  </tbody>\n",
       "</table>\n",
       "</div>"
      ],
      "text/plain": [
       "                             doc_id final_meta-class                   label  ...                                         four_pages   fold                               four_pages_processed\n",
       "0  499fa518c7724a6e449c509b7d7bc819              ATA  ata dispensa licitacao  ...  comissao permanente licitacoes ata dispensa ju...    val  comissao permanente licitacoes ata dispensa ju...\n",
       "1  56a09c5d1d04cc95ada4d68ad22dcbd9              ATA  ata dispensa licitacao  ...  comissao permanente licitacoes dia fevereiro r...   test  comissao permanente licitacoes dia fevereiro r...\n",
       "2  6e9f35208290c1130fcccad47b50aa53              ATA  ata dispensa licitacao  ...   praca cel centro estado cep pabx cnpj comissa...    val  praca cel centro estado cep pabx cnpj comissao...\n",
       "3  669c029c5812ec9a31b9c211044157b4              ATA  ata dispensa licitacao  ...  comissao permanente licitacoes dia fevereiro r...    val  comissao permanente licitacoes dia fevereiro r...\n",
       "4  a22421dc45d623c9200c7e8fb1e6ca34              ATA  ata dispensa licitacao  ...  comissao permanente licitacoes maio reuniu com...  train  comissao permanente licitacoes maio reuniu com...\n",
       "\n",
       "[5 rows x 12 columns]"
      ]
     },
     "execution_count": 1,
     "metadata": {},
     "output_type": "execute_result"
    }
   ],
   "source": [
    "import pandas as pd\n",
    "\n",
    "df = pd.read_csv(\"./lstm_data/preprocessed_data_v2.csv\")\n",
    "df.head()"
   ]
  },
  {
   "cell_type": "code",
   "execution_count": 7,
   "metadata": {},
   "outputs": [
    {
     "data": {
      "text/html": [
       "<div>\n",
       "<style scoped>\n",
       "    .dataframe tbody tr th:only-of-type {\n",
       "        vertical-align: middle;\n",
       "    }\n",
       "\n",
       "    .dataframe tbody tr th {\n",
       "        vertical-align: top;\n",
       "    }\n",
       "\n",
       "    .dataframe thead th {\n",
       "        text-align: right;\n",
       "    }\n",
       "</style>\n",
       "<table border=\"1\" class=\"dataframe\">\n",
       "  <thead>\n",
       "    <tr style=\"text-align: right;\">\n",
       "      <th>final_meta-class</th>\n",
       "      <th>ATA</th>\n",
       "      <th>EDITAL</th>\n",
       "      <th>HOMOLOG</th>\n",
       "      <th>OUTROS</th>\n",
       "    </tr>\n",
       "    <tr>\n",
       "      <th>city</th>\n",
       "      <th></th>\n",
       "      <th></th>\n",
       "      <th></th>\n",
       "      <th></th>\n",
       "    </tr>\n",
       "  </thead>\n",
       "  <tbody>\n",
       "    <tr>\n",
       "      <th>arantina</th>\n",
       "      <td>0</td>\n",
       "      <td>283</td>\n",
       "      <td>0</td>\n",
       "      <td>45</td>\n",
       "    </tr>\n",
       "    <tr>\n",
       "      <th>coqueiral</th>\n",
       "      <td>295</td>\n",
       "      <td>299</td>\n",
       "      <td>0</td>\n",
       "      <td>887</td>\n",
       "    </tr>\n",
       "    <tr>\n",
       "      <th>cristais</th>\n",
       "      <td>356</td>\n",
       "      <td>575</td>\n",
       "      <td>2</td>\n",
       "      <td>354</td>\n",
       "    </tr>\n",
       "    <tr>\n",
       "      <th>ijaci</th>\n",
       "      <td>0</td>\n",
       "      <td>244</td>\n",
       "      <td>16</td>\n",
       "      <td>138</td>\n",
       "    </tr>\n",
       "    <tr>\n",
       "      <th>itamarati</th>\n",
       "      <td>1</td>\n",
       "      <td>261</td>\n",
       "      <td>232</td>\n",
       "      <td>101</td>\n",
       "    </tr>\n",
       "    <tr>\n",
       "      <th>olaria</th>\n",
       "      <td>0</td>\n",
       "      <td>1</td>\n",
       "      <td>0</td>\n",
       "      <td>27</td>\n",
       "    </tr>\n",
       "    <tr>\n",
       "      <th>passa_vinte</th>\n",
       "      <td>6</td>\n",
       "      <td>162</td>\n",
       "      <td>12</td>\n",
       "      <td>189</td>\n",
       "    </tr>\n",
       "    <tr>\n",
       "      <th>pirapetinga</th>\n",
       "      <td>67</td>\n",
       "      <td>101</td>\n",
       "      <td>114</td>\n",
       "      <td>484</td>\n",
       "    </tr>\n",
       "    <tr>\n",
       "      <th>ribeirao_vermelho</th>\n",
       "      <td>0</td>\n",
       "      <td>158</td>\n",
       "      <td>0</td>\n",
       "      <td>14</td>\n",
       "    </tr>\n",
       "    <tr>\n",
       "      <th>sao_bento_abade</th>\n",
       "      <td>47</td>\n",
       "      <td>133</td>\n",
       "      <td>3</td>\n",
       "      <td>46</td>\n",
       "    </tr>\n",
       "  </tbody>\n",
       "</table>\n",
       "</div>"
      ],
      "text/plain": [
       "final_meta-class   ATA  EDITAL  HOMOLOG  OUTROS\n",
       "city                                           \n",
       "arantina             0     283        0      45\n",
       "coqueiral          295     299        0     887\n",
       "cristais           356     575        2     354\n",
       "ijaci                0     244       16     138\n",
       "itamarati            1     261      232     101\n",
       "olaria               0       1        0      27\n",
       "passa_vinte          6     162       12     189\n",
       "pirapetinga         67     101      114     484\n",
       "ribeirao_vermelho    0     158        0      14\n",
       "sao_bento_abade     47     133        3      46"
      ]
     },
     "execution_count": 7,
     "metadata": {},
     "output_type": "execute_result"
    }
   ],
   "source": [
    "df.groupby([\"city\", \"final_meta-class\"]).size().reset_index(name=\"size\").pivot_table(values=\"size\", index=\"city\", columns=\"final_meta-class\").fillna(0).astype(int)"
   ]
  },
  {
   "cell_type": "markdown",
   "metadata": {},
   "source": [
    "# Distribuição Cidade por fold"
   ]
  },
  {
   "cell_type": "code",
   "execution_count": 34,
   "metadata": {},
   "outputs": [
    {
     "data": {
      "text/html": [
       "<div>\n",
       "<style scoped>\n",
       "    .dataframe tbody tr th:only-of-type {\n",
       "        vertical-align: middle;\n",
       "    }\n",
       "\n",
       "    .dataframe tbody tr th {\n",
       "        vertical-align: top;\n",
       "    }\n",
       "\n",
       "    .dataframe thead th {\n",
       "        text-align: right;\n",
       "    }\n",
       "</style>\n",
       "<table border=\"1\" class=\"dataframe\">\n",
       "  <thead>\n",
       "    <tr style=\"text-align: right;\">\n",
       "      <th></th>\n",
       "      <th>doc_id</th>\n",
       "      <th>final_meta-class</th>\n",
       "      <th>label</th>\n",
       "      <th>label_int</th>\n",
       "      <th>city</th>\n",
       "      <th>file_dir</th>\n",
       "      <th>one_page</th>\n",
       "      <th>two_pages</th>\n",
       "      <th>three_pages</th>\n",
       "      <th>four_pages</th>\n",
       "      <th>fold</th>\n",
       "      <th>four_pages_processed</th>\n",
       "    </tr>\n",
       "  </thead>\n",
       "  <tbody>\n",
       "    <tr>\n",
       "      <th>0</th>\n",
       "      <td>499fa518c7724a6e449c509b7d7bc819</td>\n",
       "      <td>ATA</td>\n",
       "      <td>ata dispensa licitacao</td>\n",
       "      <td>0</td>\n",
       "      <td>cristais</td>\n",
       "      <td>../data/290-licitacoes-cristais/data/files_jso...</td>\n",
       "      <td>comissao permanente licitacoes ata dispensa ju...</td>\n",
       "      <td>comissao permanente licitacoes ata dispensa ju...</td>\n",
       "      <td>comissao permanente licitacoes ata dispensa ju...</td>\n",
       "      <td>comissao permanente licitacoes ata dispensa ju...</td>\n",
       "      <td>val</td>\n",
       "      <td>comissao permanente licitacoes ata dispensa ju...</td>\n",
       "    </tr>\n",
       "    <tr>\n",
       "      <th>1</th>\n",
       "      <td>56a09c5d1d04cc95ada4d68ad22dcbd9</td>\n",
       "      <td>ATA</td>\n",
       "      <td>ata dispensa licitacao</td>\n",
       "      <td>0</td>\n",
       "      <td>cristais</td>\n",
       "      <td>../data/290-licitacoes-cristais/data/files_jso...</td>\n",
       "      <td>comissao permanente licitacoes dia fevereiro r...</td>\n",
       "      <td>comissao permanente licitacoes dia fevereiro r...</td>\n",
       "      <td>comissao permanente licitacoes dia fevereiro r...</td>\n",
       "      <td>comissao permanente licitacoes dia fevereiro r...</td>\n",
       "      <td>test</td>\n",
       "      <td>comissao permanente licitacoes dia fevereiro r...</td>\n",
       "    </tr>\n",
       "    <tr>\n",
       "      <th>2</th>\n",
       "      <td>6e9f35208290c1130fcccad47b50aa53</td>\n",
       "      <td>ATA</td>\n",
       "      <td>ata dispensa licitacao</td>\n",
       "      <td>0</td>\n",
       "      <td>cristais</td>\n",
       "      <td>../data/290-licitacoes-cristais/data/files_jso...</td>\n",
       "      <td>praca cel centro estado cep pabx cnpj comissa...</td>\n",
       "      <td>praca cel centro estado cep pabx cnpj comissa...</td>\n",
       "      <td>praca cel centro estado cep pabx cnpj comissa...</td>\n",
       "      <td>praca cel centro estado cep pabx cnpj comissa...</td>\n",
       "      <td>val</td>\n",
       "      <td>praca cel centro estado cep pabx cnpj comissao...</td>\n",
       "    </tr>\n",
       "    <tr>\n",
       "      <th>3</th>\n",
       "      <td>669c029c5812ec9a31b9c211044157b4</td>\n",
       "      <td>ATA</td>\n",
       "      <td>ata dispensa licitacao</td>\n",
       "      <td>0</td>\n",
       "      <td>cristais</td>\n",
       "      <td>../data/290-licitacoes-cristais/data/files_jso...</td>\n",
       "      <td>comissao permanente licitacoes dia fevereiro r...</td>\n",
       "      <td>comissao permanente licitacoes dia fevereiro r...</td>\n",
       "      <td>comissao permanente licitacoes dia fevereiro r...</td>\n",
       "      <td>comissao permanente licitacoes dia fevereiro r...</td>\n",
       "      <td>val</td>\n",
       "      <td>comissao permanente licitacoes dia fevereiro r...</td>\n",
       "    </tr>\n",
       "    <tr>\n",
       "      <th>4</th>\n",
       "      <td>a22421dc45d623c9200c7e8fb1e6ca34</td>\n",
       "      <td>ATA</td>\n",
       "      <td>ata dispensa licitacao</td>\n",
       "      <td>0</td>\n",
       "      <td>cristais</td>\n",
       "      <td>../data/290-licitacoes-cristais/data/files_jso...</td>\n",
       "      <td>comissao permanente licitacoes maio reuniu com...</td>\n",
       "      <td>comissao permanente licitacoes maio reuniu com...</td>\n",
       "      <td>comissao permanente licitacoes maio reuniu com...</td>\n",
       "      <td>comissao permanente licitacoes maio reuniu com...</td>\n",
       "      <td>train</td>\n",
       "      <td>comissao permanente licitacoes maio reuniu com...</td>\n",
       "    </tr>\n",
       "  </tbody>\n",
       "</table>\n",
       "</div>"
      ],
      "text/plain": [
       "                             doc_id final_meta-class                   label  \\\n",
       "0  499fa518c7724a6e449c509b7d7bc819              ATA  ata dispensa licitacao   \n",
       "1  56a09c5d1d04cc95ada4d68ad22dcbd9              ATA  ata dispensa licitacao   \n",
       "2  6e9f35208290c1130fcccad47b50aa53              ATA  ata dispensa licitacao   \n",
       "3  669c029c5812ec9a31b9c211044157b4              ATA  ata dispensa licitacao   \n",
       "4  a22421dc45d623c9200c7e8fb1e6ca34              ATA  ata dispensa licitacao   \n",
       "\n",
       "   label_int      city                                           file_dir  \\\n",
       "0          0  cristais  ../data/290-licitacoes-cristais/data/files_jso...   \n",
       "1          0  cristais  ../data/290-licitacoes-cristais/data/files_jso...   \n",
       "2          0  cristais  ../data/290-licitacoes-cristais/data/files_jso...   \n",
       "3          0  cristais  ../data/290-licitacoes-cristais/data/files_jso...   \n",
       "4          0  cristais  ../data/290-licitacoes-cristais/data/files_jso...   \n",
       "\n",
       "                                            one_page  \\\n",
       "0  comissao permanente licitacoes ata dispensa ju...   \n",
       "1  comissao permanente licitacoes dia fevereiro r...   \n",
       "2   praca cel centro estado cep pabx cnpj comissa...   \n",
       "3  comissao permanente licitacoes dia fevereiro r...   \n",
       "4  comissao permanente licitacoes maio reuniu com...   \n",
       "\n",
       "                                           two_pages  \\\n",
       "0  comissao permanente licitacoes ata dispensa ju...   \n",
       "1  comissao permanente licitacoes dia fevereiro r...   \n",
       "2   praca cel centro estado cep pabx cnpj comissa...   \n",
       "3  comissao permanente licitacoes dia fevereiro r...   \n",
       "4  comissao permanente licitacoes maio reuniu com...   \n",
       "\n",
       "                                         three_pages  \\\n",
       "0  comissao permanente licitacoes ata dispensa ju...   \n",
       "1  comissao permanente licitacoes dia fevereiro r...   \n",
       "2   praca cel centro estado cep pabx cnpj comissa...   \n",
       "3  comissao permanente licitacoes dia fevereiro r...   \n",
       "4  comissao permanente licitacoes maio reuniu com...   \n",
       "\n",
       "                                          four_pages   fold  \\\n",
       "0  comissao permanente licitacoes ata dispensa ju...    val   \n",
       "1  comissao permanente licitacoes dia fevereiro r...   test   \n",
       "2   praca cel centro estado cep pabx cnpj comissa...    val   \n",
       "3  comissao permanente licitacoes dia fevereiro r...    val   \n",
       "4  comissao permanente licitacoes maio reuniu com...  train   \n",
       "\n",
       "                                four_pages_processed  \n",
       "0  comissao permanente licitacoes ata dispensa ju...  \n",
       "1  comissao permanente licitacoes dia fevereiro r...  \n",
       "2  praca cel centro estado cep pabx cnpj comissao...  \n",
       "3  comissao permanente licitacoes dia fevereiro r...  \n",
       "4  comissao permanente licitacoes maio reuniu com...  "
      ]
     },
     "execution_count": 34,
     "metadata": {},
     "output_type": "execute_result"
    }
   ],
   "source": [
    "import pandas as pd\n",
    "import numpy as np\n",
    "\n",
    "df = pd.read_csv(\"./lstm_data/preprocessed_data_v2.csv\")\n",
    "df.head()"
   ]
  },
  {
   "cell_type": "code",
   "execution_count": 35,
   "metadata": {},
   "outputs": [
    {
     "data": {
      "text/html": [
       "<div>\n",
       "<style scoped>\n",
       "    .dataframe tbody tr th:only-of-type {\n",
       "        vertical-align: middle;\n",
       "    }\n",
       "\n",
       "    .dataframe tbody tr th {\n",
       "        vertical-align: top;\n",
       "    }\n",
       "\n",
       "    .dataframe thead th {\n",
       "        text-align: right;\n",
       "    }\n",
       "</style>\n",
       "<table border=\"1\" class=\"dataframe\">\n",
       "  <thead>\n",
       "    <tr style=\"text-align: right;\">\n",
       "      <th>fold</th>\n",
       "      <th>train</th>\n",
       "      <th>val</th>\n",
       "      <th>test</th>\n",
       "    </tr>\n",
       "    <tr>\n",
       "      <th>city</th>\n",
       "      <th></th>\n",
       "      <th></th>\n",
       "      <th></th>\n",
       "    </tr>\n",
       "  </thead>\n",
       "  <tbody>\n",
       "    <tr>\n",
       "      <th>arantina</th>\n",
       "      <td>67.99</td>\n",
       "      <td>22.26</td>\n",
       "      <td>9.76</td>\n",
       "    </tr>\n",
       "    <tr>\n",
       "      <th>coqueiral</th>\n",
       "      <td>68.74</td>\n",
       "      <td>21.34</td>\n",
       "      <td>9.93</td>\n",
       "    </tr>\n",
       "    <tr>\n",
       "      <th>cristais</th>\n",
       "      <td>70.78</td>\n",
       "      <td>19.11</td>\n",
       "      <td>10.10</td>\n",
       "    </tr>\n",
       "    <tr>\n",
       "      <th>ijaci</th>\n",
       "      <td>68.59</td>\n",
       "      <td>19.35</td>\n",
       "      <td>12.06</td>\n",
       "    </tr>\n",
       "    <tr>\n",
       "      <th>itamarati</th>\n",
       "      <td>69.92</td>\n",
       "      <td>20.00</td>\n",
       "      <td>10.08</td>\n",
       "    </tr>\n",
       "    <tr>\n",
       "      <th>olaria</th>\n",
       "      <td>53.57</td>\n",
       "      <td>21.43</td>\n",
       "      <td>25.00</td>\n",
       "    </tr>\n",
       "    <tr>\n",
       "      <th>passa_vinte</th>\n",
       "      <td>73.44</td>\n",
       "      <td>19.24</td>\n",
       "      <td>7.32</td>\n",
       "    </tr>\n",
       "    <tr>\n",
       "      <th>pirapetinga</th>\n",
       "      <td>71.15</td>\n",
       "      <td>19.06</td>\n",
       "      <td>9.79</td>\n",
       "    </tr>\n",
       "    <tr>\n",
       "      <th>ribeirao_vermelho</th>\n",
       "      <td>70.93</td>\n",
       "      <td>21.51</td>\n",
       "      <td>7.56</td>\n",
       "    </tr>\n",
       "    <tr>\n",
       "      <th>sao_bento_abade</th>\n",
       "      <td>71.18</td>\n",
       "      <td>17.47</td>\n",
       "      <td>11.35</td>\n",
       "    </tr>\n",
       "  </tbody>\n",
       "</table>\n",
       "</div>"
      ],
      "text/plain": [
       "fold               train    val   test\n",
       "city                                  \n",
       "arantina           67.99  22.26   9.76\n",
       "coqueiral          68.74  21.34   9.93\n",
       "cristais           70.78  19.11  10.10\n",
       "ijaci              68.59  19.35  12.06\n",
       "itamarati          69.92  20.00  10.08\n",
       "olaria             53.57  21.43  25.00\n",
       "passa_vinte        73.44  19.24   7.32\n",
       "pirapetinga        71.15  19.06   9.79\n",
       "ribeirao_vermelho  70.93  21.51   7.56\n",
       "sao_bento_abade    71.18  17.47  11.35"
      ]
     },
     "execution_count": 35,
     "metadata": {},
     "output_type": "execute_result"
    }
   ],
   "source": [
    "np.round((df.groupby([\"city\", \"fold\"]).size()/df.groupby([\"city\"]).size()*100).reset_index(name=\"size\").pivot_table(values=\"size\", index=\"city\", columns=\"fold\").fillna(0),2)[[\"train\", \"val\",\"test\"]]"
   ]
  },
  {
   "cell_type": "code",
   "execution_count": 36,
   "metadata": {},
   "outputs": [
    {
     "data": {
      "text/html": [
       "<div>\n",
       "<style scoped>\n",
       "    .dataframe tbody tr th:only-of-type {\n",
       "        vertical-align: middle;\n",
       "    }\n",
       "\n",
       "    .dataframe tbody tr th {\n",
       "        vertical-align: top;\n",
       "    }\n",
       "\n",
       "    .dataframe thead th {\n",
       "        text-align: right;\n",
       "    }\n",
       "</style>\n",
       "<table border=\"1\" class=\"dataframe\">\n",
       "  <thead>\n",
       "    <tr style=\"text-align: right;\">\n",
       "      <th>label</th>\n",
       "      <th>city</th>\n",
       "      <th>fold</th>\n",
       "      <th>aditamento</th>\n",
       "      <th>ata pregao presencial</th>\n",
       "      <th>ata registro precos</th>\n",
       "      <th>aviso</th>\n",
       "      <th>contrato</th>\n",
       "      <th>edital</th>\n",
       "      <th>errata</th>\n",
       "      <th>homologacao adjudicacao</th>\n",
       "      <th>outras atas</th>\n",
       "      <th>outros</th>\n",
       "      <th>publicacao diario oficial</th>\n",
       "      <th>ratificacao</th>\n",
       "    </tr>\n",
       "  </thead>\n",
       "  <tbody>\n",
       "    <tr>\n",
       "      <th>0</th>\n",
       "      <td>arantina</td>\n",
       "      <td>test</td>\n",
       "      <td>0.00</td>\n",
       "      <td>0.00</td>\n",
       "      <td>0.00</td>\n",
       "      <td>0.00</td>\n",
       "      <td>0.00</td>\n",
       "      <td>9.89</td>\n",
       "      <td>50.00</td>\n",
       "      <td>0.00</td>\n",
       "      <td>0.00</td>\n",
       "      <td>6.98</td>\n",
       "      <td>0.00</td>\n",
       "      <td>0.00</td>\n",
       "    </tr>\n",
       "    <tr>\n",
       "      <th>1</th>\n",
       "      <td>arantina</td>\n",
       "      <td>train</td>\n",
       "      <td>0.00</td>\n",
       "      <td>0.00</td>\n",
       "      <td>0.00</td>\n",
       "      <td>0.00</td>\n",
       "      <td>0.00</td>\n",
       "      <td>66.43</td>\n",
       "      <td>50.00</td>\n",
       "      <td>0.00</td>\n",
       "      <td>0.00</td>\n",
       "      <td>79.07</td>\n",
       "      <td>0.00</td>\n",
       "      <td>0.00</td>\n",
       "    </tr>\n",
       "    <tr>\n",
       "      <th>2</th>\n",
       "      <td>arantina</td>\n",
       "      <td>val</td>\n",
       "      <td>0.00</td>\n",
       "      <td>0.00</td>\n",
       "      <td>0.00</td>\n",
       "      <td>0.00</td>\n",
       "      <td>0.00</td>\n",
       "      <td>23.67</td>\n",
       "      <td>0.00</td>\n",
       "      <td>0.00</td>\n",
       "      <td>0.00</td>\n",
       "      <td>13.95</td>\n",
       "      <td>0.00</td>\n",
       "      <td>0.00</td>\n",
       "    </tr>\n",
       "    <tr>\n",
       "      <th>3</th>\n",
       "      <td>ijaci</td>\n",
       "      <td>test</td>\n",
       "      <td>0.00</td>\n",
       "      <td>0.00</td>\n",
       "      <td>0.00</td>\n",
       "      <td>12.80</td>\n",
       "      <td>0.00</td>\n",
       "      <td>11.48</td>\n",
       "      <td>10.00</td>\n",
       "      <td>18.75</td>\n",
       "      <td>0.00</td>\n",
       "      <td>0.00</td>\n",
       "      <td>0.00</td>\n",
       "      <td>0.00</td>\n",
       "    </tr>\n",
       "    <tr>\n",
       "      <th>4</th>\n",
       "      <td>ijaci</td>\n",
       "      <td>train</td>\n",
       "      <td>0.00</td>\n",
       "      <td>0.00</td>\n",
       "      <td>0.00</td>\n",
       "      <td>68.80</td>\n",
       "      <td>0.00</td>\n",
       "      <td>68.85</td>\n",
       "      <td>50.00</td>\n",
       "      <td>68.75</td>\n",
       "      <td>0.00</td>\n",
       "      <td>100.00</td>\n",
       "      <td>0.00</td>\n",
       "      <td>100.00</td>\n",
       "    </tr>\n",
       "    <tr>\n",
       "      <th>5</th>\n",
       "      <td>ijaci</td>\n",
       "      <td>val</td>\n",
       "      <td>0.00</td>\n",
       "      <td>0.00</td>\n",
       "      <td>0.00</td>\n",
       "      <td>18.40</td>\n",
       "      <td>0.00</td>\n",
       "      <td>19.67</td>\n",
       "      <td>40.00</td>\n",
       "      <td>12.50</td>\n",
       "      <td>0.00</td>\n",
       "      <td>0.00</td>\n",
       "      <td>0.00</td>\n",
       "      <td>0.00</td>\n",
       "    </tr>\n",
       "    <tr>\n",
       "      <th>6</th>\n",
       "      <td>olaria</td>\n",
       "      <td>test</td>\n",
       "      <td>0.00</td>\n",
       "      <td>0.00</td>\n",
       "      <td>0.00</td>\n",
       "      <td>50.00</td>\n",
       "      <td>0.00</td>\n",
       "      <td>0.00</td>\n",
       "      <td>26.67</td>\n",
       "      <td>0.00</td>\n",
       "      <td>0.00</td>\n",
       "      <td>20.00</td>\n",
       "      <td>0.00</td>\n",
       "      <td>0.00</td>\n",
       "    </tr>\n",
       "    <tr>\n",
       "      <th>7</th>\n",
       "      <td>olaria</td>\n",
       "      <td>train</td>\n",
       "      <td>0.00</td>\n",
       "      <td>0.00</td>\n",
       "      <td>0.00</td>\n",
       "      <td>50.00</td>\n",
       "      <td>0.00</td>\n",
       "      <td>100.00</td>\n",
       "      <td>53.33</td>\n",
       "      <td>0.00</td>\n",
       "      <td>0.00</td>\n",
       "      <td>50.00</td>\n",
       "      <td>0.00</td>\n",
       "      <td>0.00</td>\n",
       "    </tr>\n",
       "    <tr>\n",
       "      <th>8</th>\n",
       "      <td>olaria</td>\n",
       "      <td>val</td>\n",
       "      <td>0.00</td>\n",
       "      <td>0.00</td>\n",
       "      <td>0.00</td>\n",
       "      <td>0.00</td>\n",
       "      <td>0.00</td>\n",
       "      <td>0.00</td>\n",
       "      <td>20.00</td>\n",
       "      <td>0.00</td>\n",
       "      <td>0.00</td>\n",
       "      <td>30.00</td>\n",
       "      <td>0.00</td>\n",
       "      <td>0.00</td>\n",
       "    </tr>\n",
       "    <tr>\n",
       "      <th>9</th>\n",
       "      <td>passa_vinte</td>\n",
       "      <td>test</td>\n",
       "      <td>11.11</td>\n",
       "      <td>0.00</td>\n",
       "      <td>0.00</td>\n",
       "      <td>0.00</td>\n",
       "      <td>0.00</td>\n",
       "      <td>6.79</td>\n",
       "      <td>0.00</td>\n",
       "      <td>16.67</td>\n",
       "      <td>0.00</td>\n",
       "      <td>7.58</td>\n",
       "      <td>6.80</td>\n",
       "      <td>9.09</td>\n",
       "    </tr>\n",
       "    <tr>\n",
       "      <th>10</th>\n",
       "      <td>passa_vinte</td>\n",
       "      <td>train</td>\n",
       "      <td>88.89</td>\n",
       "      <td>0.00</td>\n",
       "      <td>0.00</td>\n",
       "      <td>0.00</td>\n",
       "      <td>0.00</td>\n",
       "      <td>72.84</td>\n",
       "      <td>0.00</td>\n",
       "      <td>66.67</td>\n",
       "      <td>66.67</td>\n",
       "      <td>71.21</td>\n",
       "      <td>75.73</td>\n",
       "      <td>72.73</td>\n",
       "    </tr>\n",
       "    <tr>\n",
       "      <th>11</th>\n",
       "      <td>passa_vinte</td>\n",
       "      <td>val</td>\n",
       "      <td>0.00</td>\n",
       "      <td>0.00</td>\n",
       "      <td>0.00</td>\n",
       "      <td>0.00</td>\n",
       "      <td>0.00</td>\n",
       "      <td>20.37</td>\n",
       "      <td>0.00</td>\n",
       "      <td>16.67</td>\n",
       "      <td>33.33</td>\n",
       "      <td>21.21</td>\n",
       "      <td>17.48</td>\n",
       "      <td>18.18</td>\n",
       "    </tr>\n",
       "    <tr>\n",
       "      <th>12</th>\n",
       "      <td>ribeirao_vermelho</td>\n",
       "      <td>test</td>\n",
       "      <td>0.00</td>\n",
       "      <td>0.00</td>\n",
       "      <td>0.00</td>\n",
       "      <td>33.33</td>\n",
       "      <td>0.00</td>\n",
       "      <td>6.96</td>\n",
       "      <td>0.00</td>\n",
       "      <td>0.00</td>\n",
       "      <td>0.00</td>\n",
       "      <td>11.11</td>\n",
       "      <td>0.00</td>\n",
       "      <td>0.00</td>\n",
       "    </tr>\n",
       "    <tr>\n",
       "      <th>13</th>\n",
       "      <td>ribeirao_vermelho</td>\n",
       "      <td>train</td>\n",
       "      <td>0.00</td>\n",
       "      <td>0.00</td>\n",
       "      <td>0.00</td>\n",
       "      <td>66.67</td>\n",
       "      <td>0.00</td>\n",
       "      <td>71.52</td>\n",
       "      <td>50.00</td>\n",
       "      <td>0.00</td>\n",
       "      <td>0.00</td>\n",
       "      <td>66.67</td>\n",
       "      <td>0.00</td>\n",
       "      <td>0.00</td>\n",
       "    </tr>\n",
       "    <tr>\n",
       "      <th>14</th>\n",
       "      <td>ribeirao_vermelho</td>\n",
       "      <td>val</td>\n",
       "      <td>0.00</td>\n",
       "      <td>0.00</td>\n",
       "      <td>0.00</td>\n",
       "      <td>0.00</td>\n",
       "      <td>0.00</td>\n",
       "      <td>21.52</td>\n",
       "      <td>50.00</td>\n",
       "      <td>0.00</td>\n",
       "      <td>0.00</td>\n",
       "      <td>22.22</td>\n",
       "      <td>0.00</td>\n",
       "      <td>0.00</td>\n",
       "    </tr>\n",
       "    <tr>\n",
       "      <th>15</th>\n",
       "      <td>sao_bento_abade</td>\n",
       "      <td>test</td>\n",
       "      <td>0.00</td>\n",
       "      <td>0.00</td>\n",
       "      <td>14.29</td>\n",
       "      <td>9.09</td>\n",
       "      <td>16.67</td>\n",
       "      <td>13.53</td>\n",
       "      <td>11.76</td>\n",
       "      <td>0.00</td>\n",
       "      <td>10.53</td>\n",
       "      <td>14.29</td>\n",
       "      <td>0.00</td>\n",
       "      <td>0.00</td>\n",
       "    </tr>\n",
       "    <tr>\n",
       "      <th>16</th>\n",
       "      <td>sao_bento_abade</td>\n",
       "      <td>train</td>\n",
       "      <td>0.00</td>\n",
       "      <td>85.71</td>\n",
       "      <td>71.43</td>\n",
       "      <td>63.64</td>\n",
       "      <td>66.67</td>\n",
       "      <td>66.92</td>\n",
       "      <td>76.47</td>\n",
       "      <td>100.00</td>\n",
       "      <td>68.42</td>\n",
       "      <td>85.71</td>\n",
       "      <td>0.00</td>\n",
       "      <td>100.00</td>\n",
       "    </tr>\n",
       "    <tr>\n",
       "      <th>17</th>\n",
       "      <td>sao_bento_abade</td>\n",
       "      <td>val</td>\n",
       "      <td>0.00</td>\n",
       "      <td>14.29</td>\n",
       "      <td>14.29</td>\n",
       "      <td>27.27</td>\n",
       "      <td>16.67</td>\n",
       "      <td>19.55</td>\n",
       "      <td>11.76</td>\n",
       "      <td>0.00</td>\n",
       "      <td>21.05</td>\n",
       "      <td>0.00</td>\n",
       "      <td>0.00</td>\n",
       "      <td>0.00</td>\n",
       "    </tr>\n",
       "  </tbody>\n",
       "</table>\n",
       "</div>"
      ],
      "text/plain": [
       "label               city   fold  aditamento  ata pregao presencial  \\\n",
       "0               arantina   test        0.00                   0.00   \n",
       "1               arantina  train        0.00                   0.00   \n",
       "2               arantina    val        0.00                   0.00   \n",
       "3                  ijaci   test        0.00                   0.00   \n",
       "4                  ijaci  train        0.00                   0.00   \n",
       "5                  ijaci    val        0.00                   0.00   \n",
       "6                 olaria   test        0.00                   0.00   \n",
       "7                 olaria  train        0.00                   0.00   \n",
       "8                 olaria    val        0.00                   0.00   \n",
       "9            passa_vinte   test       11.11                   0.00   \n",
       "10           passa_vinte  train       88.89                   0.00   \n",
       "11           passa_vinte    val        0.00                   0.00   \n",
       "12     ribeirao_vermelho   test        0.00                   0.00   \n",
       "13     ribeirao_vermelho  train        0.00                   0.00   \n",
       "14     ribeirao_vermelho    val        0.00                   0.00   \n",
       "15       sao_bento_abade   test        0.00                   0.00   \n",
       "16       sao_bento_abade  train        0.00                  85.71   \n",
       "17       sao_bento_abade    val        0.00                  14.29   \n",
       "\n",
       "label  ata registro precos  aviso  contrato  edital  errata  \\\n",
       "0                     0.00   0.00      0.00    9.89   50.00   \n",
       "1                     0.00   0.00      0.00   66.43   50.00   \n",
       "2                     0.00   0.00      0.00   23.67    0.00   \n",
       "3                     0.00  12.80      0.00   11.48   10.00   \n",
       "4                     0.00  68.80      0.00   68.85   50.00   \n",
       "5                     0.00  18.40      0.00   19.67   40.00   \n",
       "6                     0.00  50.00      0.00    0.00   26.67   \n",
       "7                     0.00  50.00      0.00  100.00   53.33   \n",
       "8                     0.00   0.00      0.00    0.00   20.00   \n",
       "9                     0.00   0.00      0.00    6.79    0.00   \n",
       "10                    0.00   0.00      0.00   72.84    0.00   \n",
       "11                    0.00   0.00      0.00   20.37    0.00   \n",
       "12                    0.00  33.33      0.00    6.96    0.00   \n",
       "13                    0.00  66.67      0.00   71.52   50.00   \n",
       "14                    0.00   0.00      0.00   21.52   50.00   \n",
       "15                   14.29   9.09     16.67   13.53   11.76   \n",
       "16                   71.43  63.64     66.67   66.92   76.47   \n",
       "17                   14.29  27.27     16.67   19.55   11.76   \n",
       "\n",
       "label  homologacao adjudicacao  outras atas  outros  \\\n",
       "0                         0.00         0.00    6.98   \n",
       "1                         0.00         0.00   79.07   \n",
       "2                         0.00         0.00   13.95   \n",
       "3                        18.75         0.00    0.00   \n",
       "4                        68.75         0.00  100.00   \n",
       "5                        12.50         0.00    0.00   \n",
       "6                         0.00         0.00   20.00   \n",
       "7                         0.00         0.00   50.00   \n",
       "8                         0.00         0.00   30.00   \n",
       "9                        16.67         0.00    7.58   \n",
       "10                       66.67        66.67   71.21   \n",
       "11                       16.67        33.33   21.21   \n",
       "12                        0.00         0.00   11.11   \n",
       "13                        0.00         0.00   66.67   \n",
       "14                        0.00         0.00   22.22   \n",
       "15                        0.00        10.53   14.29   \n",
       "16                      100.00        68.42   85.71   \n",
       "17                        0.00        21.05    0.00   \n",
       "\n",
       "label  publicacao diario oficial  ratificacao  \n",
       "0                           0.00         0.00  \n",
       "1                           0.00         0.00  \n",
       "2                           0.00         0.00  \n",
       "3                           0.00         0.00  \n",
       "4                           0.00       100.00  \n",
       "5                           0.00         0.00  \n",
       "6                           0.00         0.00  \n",
       "7                           0.00         0.00  \n",
       "8                           0.00         0.00  \n",
       "9                           6.80         9.09  \n",
       "10                         75.73        72.73  \n",
       "11                         17.48        18.18  \n",
       "12                          0.00         0.00  \n",
       "13                          0.00         0.00  \n",
       "14                          0.00         0.00  \n",
       "15                          0.00         0.00  \n",
       "16                          0.00       100.00  \n",
       "17                          0.00         0.00  "
      ]
     },
     "execution_count": 36,
     "metadata": {},
     "output_type": "execute_result"
    }
   ],
   "source": [
    "np.round((df.loc[df['city'].isin(['passa_vinte', 'sao_bento_abade', 'arantina', 'ijaci', 'ribeirao_vermelho', 'olaria'])].groupby([\"city\", \"fold\", \"label\"]).size()/df.loc[df['city'].isin(['passa_vinte', 'sao_bento_abade', 'arantina', 'ijaci', 'ribeirao_vermelho', 'olaria'])].groupby([\"city\", \"label\"]).size()*100).reset_index(name=\"size\").pivot_table(values=\"size\", index=[\"city\", \"fold\"], columns=\"label\").fillna(0),2).reset_index()"
   ]
  },
  {
   "cell_type": "code",
   "execution_count": 37,
   "metadata": {},
   "outputs": [
    {
     "data": {
      "text/html": [
       "<div>\n",
       "<style scoped>\n",
       "    .dataframe tbody tr th:only-of-type {\n",
       "        vertical-align: middle;\n",
       "    }\n",
       "\n",
       "    .dataframe tbody tr th {\n",
       "        vertical-align: top;\n",
       "    }\n",
       "\n",
       "    .dataframe thead th {\n",
       "        text-align: right;\n",
       "    }\n",
       "</style>\n",
       "<table border=\"1\" class=\"dataframe\">\n",
       "  <thead>\n",
       "    <tr style=\"text-align: right;\">\n",
       "      <th>label</th>\n",
       "      <th>city</th>\n",
       "      <th>fold</th>\n",
       "      <th>aditamento</th>\n",
       "      <th>ata dispensa licitacao</th>\n",
       "      <th>ata pregao presencial</th>\n",
       "      <th>ata registro precos</th>\n",
       "      <th>aviso</th>\n",
       "      <th>contrato</th>\n",
       "      <th>edital</th>\n",
       "      <th>errata</th>\n",
       "      <th>homologacao adjudicacao</th>\n",
       "      <th>outras atas</th>\n",
       "      <th>outros</th>\n",
       "      <th>publicacao diario oficial</th>\n",
       "      <th>ratificacao</th>\n",
       "    </tr>\n",
       "  </thead>\n",
       "  <tbody>\n",
       "    <tr>\n",
       "      <th>0</th>\n",
       "      <td>arantina</td>\n",
       "      <td>test</td>\n",
       "      <td>0.00</td>\n",
       "      <td>0.00</td>\n",
       "      <td>0.00</td>\n",
       "      <td>0.00</td>\n",
       "      <td>0.00</td>\n",
       "      <td>0.00</td>\n",
       "      <td>9.89</td>\n",
       "      <td>50.00</td>\n",
       "      <td>0.00</td>\n",
       "      <td>0.00</td>\n",
       "      <td>6.98</td>\n",
       "      <td>0.00</td>\n",
       "      <td>0.00</td>\n",
       "    </tr>\n",
       "    <tr>\n",
       "      <th>1</th>\n",
       "      <td>arantina</td>\n",
       "      <td>train</td>\n",
       "      <td>0.00</td>\n",
       "      <td>0.00</td>\n",
       "      <td>0.00</td>\n",
       "      <td>0.00</td>\n",
       "      <td>0.00</td>\n",
       "      <td>0.00</td>\n",
       "      <td>66.43</td>\n",
       "      <td>50.00</td>\n",
       "      <td>0.00</td>\n",
       "      <td>0.00</td>\n",
       "      <td>79.07</td>\n",
       "      <td>0.00</td>\n",
       "      <td>0.00</td>\n",
       "    </tr>\n",
       "    <tr>\n",
       "      <th>2</th>\n",
       "      <td>arantina</td>\n",
       "      <td>val</td>\n",
       "      <td>0.00</td>\n",
       "      <td>0.00</td>\n",
       "      <td>0.00</td>\n",
       "      <td>0.00</td>\n",
       "      <td>0.00</td>\n",
       "      <td>0.00</td>\n",
       "      <td>23.67</td>\n",
       "      <td>0.00</td>\n",
       "      <td>0.00</td>\n",
       "      <td>0.00</td>\n",
       "      <td>13.95</td>\n",
       "      <td>0.00</td>\n",
       "      <td>0.00</td>\n",
       "    </tr>\n",
       "    <tr>\n",
       "      <th>3</th>\n",
       "      <td>coqueiral</td>\n",
       "      <td>test</td>\n",
       "      <td>8.49</td>\n",
       "      <td>0.00</td>\n",
       "      <td>0.00</td>\n",
       "      <td>10.85</td>\n",
       "      <td>4.00</td>\n",
       "      <td>9.59</td>\n",
       "      <td>11.37</td>\n",
       "      <td>5.88</td>\n",
       "      <td>0.00</td>\n",
       "      <td>16.22</td>\n",
       "      <td>8.44</td>\n",
       "      <td>0.00</td>\n",
       "      <td>33.33</td>\n",
       "    </tr>\n",
       "    <tr>\n",
       "      <th>4</th>\n",
       "      <td>coqueiral</td>\n",
       "      <td>train</td>\n",
       "      <td>68.87</td>\n",
       "      <td>0.00</td>\n",
       "      <td>0.00</td>\n",
       "      <td>66.67</td>\n",
       "      <td>68.00</td>\n",
       "      <td>70.15</td>\n",
       "      <td>67.56</td>\n",
       "      <td>73.53</td>\n",
       "      <td>0.00</td>\n",
       "      <td>70.27</td>\n",
       "      <td>68.83</td>\n",
       "      <td>0.00</td>\n",
       "      <td>66.67</td>\n",
       "    </tr>\n",
       "    <tr>\n",
       "      <th>5</th>\n",
       "      <td>coqueiral</td>\n",
       "      <td>val</td>\n",
       "      <td>22.64</td>\n",
       "      <td>0.00</td>\n",
       "      <td>0.00</td>\n",
       "      <td>22.48</td>\n",
       "      <td>28.00</td>\n",
       "      <td>20.26</td>\n",
       "      <td>21.07</td>\n",
       "      <td>20.59</td>\n",
       "      <td>0.00</td>\n",
       "      <td>13.51</td>\n",
       "      <td>22.73</td>\n",
       "      <td>0.00</td>\n",
       "      <td>0.00</td>\n",
       "    </tr>\n",
       "    <tr>\n",
       "      <th>6</th>\n",
       "      <td>cristais</td>\n",
       "      <td>test</td>\n",
       "      <td>0.00</td>\n",
       "      <td>9.94</td>\n",
       "      <td>11.36</td>\n",
       "      <td>10.34</td>\n",
       "      <td>0.00</td>\n",
       "      <td>0.00</td>\n",
       "      <td>9.57</td>\n",
       "      <td>4.17</td>\n",
       "      <td>0.00</td>\n",
       "      <td>0.00</td>\n",
       "      <td>10.93</td>\n",
       "      <td>13.75</td>\n",
       "      <td>0.00</td>\n",
       "    </tr>\n",
       "    <tr>\n",
       "      <th>7</th>\n",
       "      <td>cristais</td>\n",
       "      <td>train</td>\n",
       "      <td>0.00</td>\n",
       "      <td>70.17</td>\n",
       "      <td>67.42</td>\n",
       "      <td>79.31</td>\n",
       "      <td>100.00</td>\n",
       "      <td>0.00</td>\n",
       "      <td>72.17</td>\n",
       "      <td>79.17</td>\n",
       "      <td>100.00</td>\n",
       "      <td>71.43</td>\n",
       "      <td>70.04</td>\n",
       "      <td>62.50</td>\n",
       "      <td>0.00</td>\n",
       "    </tr>\n",
       "    <tr>\n",
       "      <th>8</th>\n",
       "      <td>cristais</td>\n",
       "      <td>val</td>\n",
       "      <td>0.00</td>\n",
       "      <td>19.89</td>\n",
       "      <td>21.21</td>\n",
       "      <td>10.34</td>\n",
       "      <td>0.00</td>\n",
       "      <td>0.00</td>\n",
       "      <td>18.26</td>\n",
       "      <td>16.67</td>\n",
       "      <td>0.00</td>\n",
       "      <td>28.57</td>\n",
       "      <td>19.03</td>\n",
       "      <td>23.75</td>\n",
       "      <td>0.00</td>\n",
       "    </tr>\n",
       "    <tr>\n",
       "      <th>9</th>\n",
       "      <td>ijaci</td>\n",
       "      <td>test</td>\n",
       "      <td>0.00</td>\n",
       "      <td>0.00</td>\n",
       "      <td>0.00</td>\n",
       "      <td>0.00</td>\n",
       "      <td>12.80</td>\n",
       "      <td>0.00</td>\n",
       "      <td>11.48</td>\n",
       "      <td>10.00</td>\n",
       "      <td>18.75</td>\n",
       "      <td>0.00</td>\n",
       "      <td>0.00</td>\n",
       "      <td>0.00</td>\n",
       "      <td>0.00</td>\n",
       "    </tr>\n",
       "    <tr>\n",
       "      <th>10</th>\n",
       "      <td>ijaci</td>\n",
       "      <td>train</td>\n",
       "      <td>0.00</td>\n",
       "      <td>0.00</td>\n",
       "      <td>0.00</td>\n",
       "      <td>0.00</td>\n",
       "      <td>68.80</td>\n",
       "      <td>0.00</td>\n",
       "      <td>68.85</td>\n",
       "      <td>50.00</td>\n",
       "      <td>68.75</td>\n",
       "      <td>0.00</td>\n",
       "      <td>100.00</td>\n",
       "      <td>0.00</td>\n",
       "      <td>100.00</td>\n",
       "    </tr>\n",
       "    <tr>\n",
       "      <th>11</th>\n",
       "      <td>ijaci</td>\n",
       "      <td>val</td>\n",
       "      <td>0.00</td>\n",
       "      <td>0.00</td>\n",
       "      <td>0.00</td>\n",
       "      <td>0.00</td>\n",
       "      <td>18.40</td>\n",
       "      <td>0.00</td>\n",
       "      <td>19.67</td>\n",
       "      <td>40.00</td>\n",
       "      <td>12.50</td>\n",
       "      <td>0.00</td>\n",
       "      <td>0.00</td>\n",
       "      <td>0.00</td>\n",
       "      <td>0.00</td>\n",
       "    </tr>\n",
       "    <tr>\n",
       "      <th>12</th>\n",
       "      <td>itamarati</td>\n",
       "      <td>test</td>\n",
       "      <td>0.00</td>\n",
       "      <td>0.00</td>\n",
       "      <td>0.00</td>\n",
       "      <td>0.00</td>\n",
       "      <td>0.00</td>\n",
       "      <td>5.88</td>\n",
       "      <td>9.20</td>\n",
       "      <td>0.00</td>\n",
       "      <td>11.64</td>\n",
       "      <td>100.00</td>\n",
       "      <td>0.00</td>\n",
       "      <td>0.00</td>\n",
       "      <td>10.00</td>\n",
       "    </tr>\n",
       "    <tr>\n",
       "      <th>13</th>\n",
       "      <td>itamarati</td>\n",
       "      <td>train</td>\n",
       "      <td>0.00</td>\n",
       "      <td>0.00</td>\n",
       "      <td>0.00</td>\n",
       "      <td>0.00</td>\n",
       "      <td>80.00</td>\n",
       "      <td>88.24</td>\n",
       "      <td>69.73</td>\n",
       "      <td>100.00</td>\n",
       "      <td>68.10</td>\n",
       "      <td>0.00</td>\n",
       "      <td>100.00</td>\n",
       "      <td>0.00</td>\n",
       "      <td>70.00</td>\n",
       "    </tr>\n",
       "    <tr>\n",
       "      <th>14</th>\n",
       "      <td>itamarati</td>\n",
       "      <td>val</td>\n",
       "      <td>0.00</td>\n",
       "      <td>0.00</td>\n",
       "      <td>0.00</td>\n",
       "      <td>0.00</td>\n",
       "      <td>20.00</td>\n",
       "      <td>5.88</td>\n",
       "      <td>21.07</td>\n",
       "      <td>0.00</td>\n",
       "      <td>20.26</td>\n",
       "      <td>0.00</td>\n",
       "      <td>0.00</td>\n",
       "      <td>0.00</td>\n",
       "      <td>20.00</td>\n",
       "    </tr>\n",
       "    <tr>\n",
       "      <th>15</th>\n",
       "      <td>olaria</td>\n",
       "      <td>test</td>\n",
       "      <td>0.00</td>\n",
       "      <td>0.00</td>\n",
       "      <td>0.00</td>\n",
       "      <td>0.00</td>\n",
       "      <td>50.00</td>\n",
       "      <td>0.00</td>\n",
       "      <td>0.00</td>\n",
       "      <td>26.67</td>\n",
       "      <td>0.00</td>\n",
       "      <td>0.00</td>\n",
       "      <td>20.00</td>\n",
       "      <td>0.00</td>\n",
       "      <td>0.00</td>\n",
       "    </tr>\n",
       "    <tr>\n",
       "      <th>16</th>\n",
       "      <td>olaria</td>\n",
       "      <td>train</td>\n",
       "      <td>0.00</td>\n",
       "      <td>0.00</td>\n",
       "      <td>0.00</td>\n",
       "      <td>0.00</td>\n",
       "      <td>50.00</td>\n",
       "      <td>0.00</td>\n",
       "      <td>100.00</td>\n",
       "      <td>53.33</td>\n",
       "      <td>0.00</td>\n",
       "      <td>0.00</td>\n",
       "      <td>50.00</td>\n",
       "      <td>0.00</td>\n",
       "      <td>0.00</td>\n",
       "    </tr>\n",
       "    <tr>\n",
       "      <th>17</th>\n",
       "      <td>olaria</td>\n",
       "      <td>val</td>\n",
       "      <td>0.00</td>\n",
       "      <td>0.00</td>\n",
       "      <td>0.00</td>\n",
       "      <td>0.00</td>\n",
       "      <td>0.00</td>\n",
       "      <td>0.00</td>\n",
       "      <td>0.00</td>\n",
       "      <td>20.00</td>\n",
       "      <td>0.00</td>\n",
       "      <td>0.00</td>\n",
       "      <td>30.00</td>\n",
       "      <td>0.00</td>\n",
       "      <td>0.00</td>\n",
       "    </tr>\n",
       "    <tr>\n",
       "      <th>18</th>\n",
       "      <td>passa_vinte</td>\n",
       "      <td>test</td>\n",
       "      <td>11.11</td>\n",
       "      <td>0.00</td>\n",
       "      <td>0.00</td>\n",
       "      <td>0.00</td>\n",
       "      <td>0.00</td>\n",
       "      <td>0.00</td>\n",
       "      <td>6.79</td>\n",
       "      <td>0.00</td>\n",
       "      <td>16.67</td>\n",
       "      <td>0.00</td>\n",
       "      <td>7.58</td>\n",
       "      <td>6.80</td>\n",
       "      <td>9.09</td>\n",
       "    </tr>\n",
       "    <tr>\n",
       "      <th>19</th>\n",
       "      <td>passa_vinte</td>\n",
       "      <td>train</td>\n",
       "      <td>88.89</td>\n",
       "      <td>0.00</td>\n",
       "      <td>0.00</td>\n",
       "      <td>0.00</td>\n",
       "      <td>0.00</td>\n",
       "      <td>0.00</td>\n",
       "      <td>72.84</td>\n",
       "      <td>0.00</td>\n",
       "      <td>66.67</td>\n",
       "      <td>66.67</td>\n",
       "      <td>71.21</td>\n",
       "      <td>75.73</td>\n",
       "      <td>72.73</td>\n",
       "    </tr>\n",
       "    <tr>\n",
       "      <th>20</th>\n",
       "      <td>passa_vinte</td>\n",
       "      <td>val</td>\n",
       "      <td>0.00</td>\n",
       "      <td>0.00</td>\n",
       "      <td>0.00</td>\n",
       "      <td>0.00</td>\n",
       "      <td>0.00</td>\n",
       "      <td>0.00</td>\n",
       "      <td>20.37</td>\n",
       "      <td>0.00</td>\n",
       "      <td>16.67</td>\n",
       "      <td>33.33</td>\n",
       "      <td>21.21</td>\n",
       "      <td>17.48</td>\n",
       "      <td>18.18</td>\n",
       "    </tr>\n",
       "    <tr>\n",
       "      <th>21</th>\n",
       "      <td>pirapetinga</td>\n",
       "      <td>test</td>\n",
       "      <td>12.62</td>\n",
       "      <td>0.00</td>\n",
       "      <td>0.00</td>\n",
       "      <td>5.17</td>\n",
       "      <td>8.89</td>\n",
       "      <td>12.24</td>\n",
       "      <td>12.87</td>\n",
       "      <td>0.00</td>\n",
       "      <td>5.26</td>\n",
       "      <td>0.00</td>\n",
       "      <td>11.76</td>\n",
       "      <td>0.00</td>\n",
       "      <td>9.52</td>\n",
       "    </tr>\n",
       "    <tr>\n",
       "      <th>22</th>\n",
       "      <td>pirapetinga</td>\n",
       "      <td>train</td>\n",
       "      <td>70.87</td>\n",
       "      <td>0.00</td>\n",
       "      <td>0.00</td>\n",
       "      <td>81.03</td>\n",
       "      <td>70.37</td>\n",
       "      <td>66.33</td>\n",
       "      <td>75.25</td>\n",
       "      <td>0.00</td>\n",
       "      <td>72.81</td>\n",
       "      <td>77.78</td>\n",
       "      <td>67.06</td>\n",
       "      <td>0.00</td>\n",
       "      <td>66.67</td>\n",
       "    </tr>\n",
       "    <tr>\n",
       "      <th>23</th>\n",
       "      <td>pirapetinga</td>\n",
       "      <td>val</td>\n",
       "      <td>16.50</td>\n",
       "      <td>0.00</td>\n",
       "      <td>0.00</td>\n",
       "      <td>13.79</td>\n",
       "      <td>20.74</td>\n",
       "      <td>21.43</td>\n",
       "      <td>11.88</td>\n",
       "      <td>0.00</td>\n",
       "      <td>21.93</td>\n",
       "      <td>22.22</td>\n",
       "      <td>21.18</td>\n",
       "      <td>0.00</td>\n",
       "      <td>23.81</td>\n",
       "    </tr>\n",
       "    <tr>\n",
       "      <th>24</th>\n",
       "      <td>ribeirao_vermelho</td>\n",
       "      <td>test</td>\n",
       "      <td>0.00</td>\n",
       "      <td>0.00</td>\n",
       "      <td>0.00</td>\n",
       "      <td>0.00</td>\n",
       "      <td>33.33</td>\n",
       "      <td>0.00</td>\n",
       "      <td>6.96</td>\n",
       "      <td>0.00</td>\n",
       "      <td>0.00</td>\n",
       "      <td>0.00</td>\n",
       "      <td>11.11</td>\n",
       "      <td>0.00</td>\n",
       "      <td>0.00</td>\n",
       "    </tr>\n",
       "    <tr>\n",
       "      <th>25</th>\n",
       "      <td>ribeirao_vermelho</td>\n",
       "      <td>train</td>\n",
       "      <td>0.00</td>\n",
       "      <td>0.00</td>\n",
       "      <td>0.00</td>\n",
       "      <td>0.00</td>\n",
       "      <td>66.67</td>\n",
       "      <td>0.00</td>\n",
       "      <td>71.52</td>\n",
       "      <td>50.00</td>\n",
       "      <td>0.00</td>\n",
       "      <td>0.00</td>\n",
       "      <td>66.67</td>\n",
       "      <td>0.00</td>\n",
       "      <td>0.00</td>\n",
       "    </tr>\n",
       "    <tr>\n",
       "      <th>26</th>\n",
       "      <td>ribeirao_vermelho</td>\n",
       "      <td>val</td>\n",
       "      <td>0.00</td>\n",
       "      <td>0.00</td>\n",
       "      <td>0.00</td>\n",
       "      <td>0.00</td>\n",
       "      <td>0.00</td>\n",
       "      <td>0.00</td>\n",
       "      <td>21.52</td>\n",
       "      <td>50.00</td>\n",
       "      <td>0.00</td>\n",
       "      <td>0.00</td>\n",
       "      <td>22.22</td>\n",
       "      <td>0.00</td>\n",
       "      <td>0.00</td>\n",
       "    </tr>\n",
       "    <tr>\n",
       "      <th>27</th>\n",
       "      <td>sao_bento_abade</td>\n",
       "      <td>test</td>\n",
       "      <td>0.00</td>\n",
       "      <td>0.00</td>\n",
       "      <td>0.00</td>\n",
       "      <td>14.29</td>\n",
       "      <td>9.09</td>\n",
       "      <td>16.67</td>\n",
       "      <td>13.53</td>\n",
       "      <td>11.76</td>\n",
       "      <td>0.00</td>\n",
       "      <td>10.53</td>\n",
       "      <td>14.29</td>\n",
       "      <td>0.00</td>\n",
       "      <td>0.00</td>\n",
       "    </tr>\n",
       "    <tr>\n",
       "      <th>28</th>\n",
       "      <td>sao_bento_abade</td>\n",
       "      <td>train</td>\n",
       "      <td>0.00</td>\n",
       "      <td>0.00</td>\n",
       "      <td>85.71</td>\n",
       "      <td>71.43</td>\n",
       "      <td>63.64</td>\n",
       "      <td>66.67</td>\n",
       "      <td>66.92</td>\n",
       "      <td>76.47</td>\n",
       "      <td>100.00</td>\n",
       "      <td>68.42</td>\n",
       "      <td>85.71</td>\n",
       "      <td>0.00</td>\n",
       "      <td>100.00</td>\n",
       "    </tr>\n",
       "    <tr>\n",
       "      <th>29</th>\n",
       "      <td>sao_bento_abade</td>\n",
       "      <td>val</td>\n",
       "      <td>0.00</td>\n",
       "      <td>0.00</td>\n",
       "      <td>14.29</td>\n",
       "      <td>14.29</td>\n",
       "      <td>27.27</td>\n",
       "      <td>16.67</td>\n",
       "      <td>19.55</td>\n",
       "      <td>11.76</td>\n",
       "      <td>0.00</td>\n",
       "      <td>21.05</td>\n",
       "      <td>0.00</td>\n",
       "      <td>0.00</td>\n",
       "      <td>0.00</td>\n",
       "    </tr>\n",
       "  </tbody>\n",
       "</table>\n",
       "</div>"
      ],
      "text/plain": [
       "label               city   fold  aditamento  ata dispensa licitacao  \\\n",
       "0               arantina   test        0.00                    0.00   \n",
       "1               arantina  train        0.00                    0.00   \n",
       "2               arantina    val        0.00                    0.00   \n",
       "3              coqueiral   test        8.49                    0.00   \n",
       "4              coqueiral  train       68.87                    0.00   \n",
       "5              coqueiral    val       22.64                    0.00   \n",
       "6               cristais   test        0.00                    9.94   \n",
       "7               cristais  train        0.00                   70.17   \n",
       "8               cristais    val        0.00                   19.89   \n",
       "9                  ijaci   test        0.00                    0.00   \n",
       "10                 ijaci  train        0.00                    0.00   \n",
       "11                 ijaci    val        0.00                    0.00   \n",
       "12             itamarati   test        0.00                    0.00   \n",
       "13             itamarati  train        0.00                    0.00   \n",
       "14             itamarati    val        0.00                    0.00   \n",
       "15                olaria   test        0.00                    0.00   \n",
       "16                olaria  train        0.00                    0.00   \n",
       "17                olaria    val        0.00                    0.00   \n",
       "18           passa_vinte   test       11.11                    0.00   \n",
       "19           passa_vinte  train       88.89                    0.00   \n",
       "20           passa_vinte    val        0.00                    0.00   \n",
       "21           pirapetinga   test       12.62                    0.00   \n",
       "22           pirapetinga  train       70.87                    0.00   \n",
       "23           pirapetinga    val       16.50                    0.00   \n",
       "24     ribeirao_vermelho   test        0.00                    0.00   \n",
       "25     ribeirao_vermelho  train        0.00                    0.00   \n",
       "26     ribeirao_vermelho    val        0.00                    0.00   \n",
       "27       sao_bento_abade   test        0.00                    0.00   \n",
       "28       sao_bento_abade  train        0.00                    0.00   \n",
       "29       sao_bento_abade    val        0.00                    0.00   \n",
       "\n",
       "label  ata pregao presencial  ata registro precos   aviso  contrato  edital  \\\n",
       "0                       0.00                 0.00    0.00      0.00    9.89   \n",
       "1                       0.00                 0.00    0.00      0.00   66.43   \n",
       "2                       0.00                 0.00    0.00      0.00   23.67   \n",
       "3                       0.00                10.85    4.00      9.59   11.37   \n",
       "4                       0.00                66.67   68.00     70.15   67.56   \n",
       "5                       0.00                22.48   28.00     20.26   21.07   \n",
       "6                      11.36                10.34    0.00      0.00    9.57   \n",
       "7                      67.42                79.31  100.00      0.00   72.17   \n",
       "8                      21.21                10.34    0.00      0.00   18.26   \n",
       "9                       0.00                 0.00   12.80      0.00   11.48   \n",
       "10                      0.00                 0.00   68.80      0.00   68.85   \n",
       "11                      0.00                 0.00   18.40      0.00   19.67   \n",
       "12                      0.00                 0.00    0.00      5.88    9.20   \n",
       "13                      0.00                 0.00   80.00     88.24   69.73   \n",
       "14                      0.00                 0.00   20.00      5.88   21.07   \n",
       "15                      0.00                 0.00   50.00      0.00    0.00   \n",
       "16                      0.00                 0.00   50.00      0.00  100.00   \n",
       "17                      0.00                 0.00    0.00      0.00    0.00   \n",
       "18                      0.00                 0.00    0.00      0.00    6.79   \n",
       "19                      0.00                 0.00    0.00      0.00   72.84   \n",
       "20                      0.00                 0.00    0.00      0.00   20.37   \n",
       "21                      0.00                 5.17    8.89     12.24   12.87   \n",
       "22                      0.00                81.03   70.37     66.33   75.25   \n",
       "23                      0.00                13.79   20.74     21.43   11.88   \n",
       "24                      0.00                 0.00   33.33      0.00    6.96   \n",
       "25                      0.00                 0.00   66.67      0.00   71.52   \n",
       "26                      0.00                 0.00    0.00      0.00   21.52   \n",
       "27                      0.00                14.29    9.09     16.67   13.53   \n",
       "28                     85.71                71.43   63.64     66.67   66.92   \n",
       "29                     14.29                14.29   27.27     16.67   19.55   \n",
       "\n",
       "label  errata  homologacao adjudicacao  outras atas  outros  \\\n",
       "0       50.00                     0.00         0.00    6.98   \n",
       "1       50.00                     0.00         0.00   79.07   \n",
       "2        0.00                     0.00         0.00   13.95   \n",
       "3        5.88                     0.00        16.22    8.44   \n",
       "4       73.53                     0.00        70.27   68.83   \n",
       "5       20.59                     0.00        13.51   22.73   \n",
       "6        4.17                     0.00         0.00   10.93   \n",
       "7       79.17                   100.00        71.43   70.04   \n",
       "8       16.67                     0.00        28.57   19.03   \n",
       "9       10.00                    18.75         0.00    0.00   \n",
       "10      50.00                    68.75         0.00  100.00   \n",
       "11      40.00                    12.50         0.00    0.00   \n",
       "12       0.00                    11.64       100.00    0.00   \n",
       "13     100.00                    68.10         0.00  100.00   \n",
       "14       0.00                    20.26         0.00    0.00   \n",
       "15      26.67                     0.00         0.00   20.00   \n",
       "16      53.33                     0.00         0.00   50.00   \n",
       "17      20.00                     0.00         0.00   30.00   \n",
       "18       0.00                    16.67         0.00    7.58   \n",
       "19       0.00                    66.67        66.67   71.21   \n",
       "20       0.00                    16.67        33.33   21.21   \n",
       "21       0.00                     5.26         0.00   11.76   \n",
       "22       0.00                    72.81        77.78   67.06   \n",
       "23       0.00                    21.93        22.22   21.18   \n",
       "24       0.00                     0.00         0.00   11.11   \n",
       "25      50.00                     0.00         0.00   66.67   \n",
       "26      50.00                     0.00         0.00   22.22   \n",
       "27      11.76                     0.00        10.53   14.29   \n",
       "28      76.47                   100.00        68.42   85.71   \n",
       "29      11.76                     0.00        21.05    0.00   \n",
       "\n",
       "label  publicacao diario oficial  ratificacao  \n",
       "0                           0.00         0.00  \n",
       "1                           0.00         0.00  \n",
       "2                           0.00         0.00  \n",
       "3                           0.00        33.33  \n",
       "4                           0.00        66.67  \n",
       "5                           0.00         0.00  \n",
       "6                          13.75         0.00  \n",
       "7                          62.50         0.00  \n",
       "8                          23.75         0.00  \n",
       "9                           0.00         0.00  \n",
       "10                          0.00       100.00  \n",
       "11                          0.00         0.00  \n",
       "12                          0.00        10.00  \n",
       "13                          0.00        70.00  \n",
       "14                          0.00        20.00  \n",
       "15                          0.00         0.00  \n",
       "16                          0.00         0.00  \n",
       "17                          0.00         0.00  \n",
       "18                          6.80         9.09  \n",
       "19                         75.73        72.73  \n",
       "20                         17.48        18.18  \n",
       "21                          0.00         9.52  \n",
       "22                          0.00        66.67  \n",
       "23                          0.00        23.81  \n",
       "24                          0.00         0.00  \n",
       "25                          0.00         0.00  \n",
       "26                          0.00         0.00  \n",
       "27                          0.00         0.00  \n",
       "28                          0.00       100.00  \n",
       "29                          0.00         0.00  "
      ]
     },
     "execution_count": 37,
     "metadata": {},
     "output_type": "execute_result"
    }
   ],
   "source": [
    "np.round((df.groupby([\"city\", \"fold\", \"label\"]).size()/df.groupby([\"city\", \"label\"]).size()*100).reset_index(name=\"size\").pivot_table(values=\"size\", index=[\"city\", \"fold\"], columns=\"label\").fillna(0),2).reset_index()"
   ]
  },
  {
   "cell_type": "code",
   "execution_count": 38,
   "metadata": {},
   "outputs": [
    {
     "data": {
      "text/html": [
       "<div>\n",
       "<style scoped>\n",
       "    .dataframe tbody tr th:only-of-type {\n",
       "        vertical-align: middle;\n",
       "    }\n",
       "\n",
       "    .dataframe tbody tr th {\n",
       "        vertical-align: top;\n",
       "    }\n",
       "\n",
       "    .dataframe thead th {\n",
       "        text-align: right;\n",
       "    }\n",
       "</style>\n",
       "<table border=\"1\" class=\"dataframe\">\n",
       "  <thead>\n",
       "    <tr style=\"text-align: right;\">\n",
       "      <th>label</th>\n",
       "      <th>city</th>\n",
       "      <th>fold</th>\n",
       "      <th>aditamento</th>\n",
       "      <th>ata dispensa licitacao</th>\n",
       "      <th>ata pregao presencial</th>\n",
       "      <th>ata registro precos</th>\n",
       "      <th>aviso</th>\n",
       "      <th>contrato</th>\n",
       "      <th>edital</th>\n",
       "      <th>errata</th>\n",
       "      <th>homologacao adjudicacao</th>\n",
       "      <th>outras atas</th>\n",
       "      <th>outros</th>\n",
       "      <th>publicacao diario oficial</th>\n",
       "      <th>ratificacao</th>\n",
       "    </tr>\n",
       "  </thead>\n",
       "  <tbody>\n",
       "    <tr>\n",
       "      <th>0</th>\n",
       "      <td>arantina</td>\n",
       "      <td>test</td>\n",
       "      <td>0.0</td>\n",
       "      <td>0.0</td>\n",
       "      <td>0.0</td>\n",
       "      <td>0.0</td>\n",
       "      <td>0.0</td>\n",
       "      <td>0.0</td>\n",
       "      <td>28.0</td>\n",
       "      <td>1.0</td>\n",
       "      <td>0.0</td>\n",
       "      <td>0.0</td>\n",
       "      <td>3.0</td>\n",
       "      <td>0.0</td>\n",
       "      <td>0.0</td>\n",
       "    </tr>\n",
       "    <tr>\n",
       "      <th>1</th>\n",
       "      <td>arantina</td>\n",
       "      <td>train</td>\n",
       "      <td>0.0</td>\n",
       "      <td>0.0</td>\n",
       "      <td>0.0</td>\n",
       "      <td>0.0</td>\n",
       "      <td>0.0</td>\n",
       "      <td>0.0</td>\n",
       "      <td>188.0</td>\n",
       "      <td>1.0</td>\n",
       "      <td>0.0</td>\n",
       "      <td>0.0</td>\n",
       "      <td>34.0</td>\n",
       "      <td>0.0</td>\n",
       "      <td>0.0</td>\n",
       "    </tr>\n",
       "    <tr>\n",
       "      <th>2</th>\n",
       "      <td>arantina</td>\n",
       "      <td>val</td>\n",
       "      <td>0.0</td>\n",
       "      <td>0.0</td>\n",
       "      <td>0.0</td>\n",
       "      <td>0.0</td>\n",
       "      <td>0.0</td>\n",
       "      <td>0.0</td>\n",
       "      <td>67.0</td>\n",
       "      <td>0.0</td>\n",
       "      <td>0.0</td>\n",
       "      <td>0.0</td>\n",
       "      <td>6.0</td>\n",
       "      <td>0.0</td>\n",
       "      <td>0.0</td>\n",
       "    </tr>\n",
       "    <tr>\n",
       "      <th>3</th>\n",
       "      <td>coqueiral</td>\n",
       "      <td>test</td>\n",
       "      <td>18.0</td>\n",
       "      <td>0.0</td>\n",
       "      <td>0.0</td>\n",
       "      <td>28.0</td>\n",
       "      <td>1.0</td>\n",
       "      <td>44.0</td>\n",
       "      <td>34.0</td>\n",
       "      <td>2.0</td>\n",
       "      <td>0.0</td>\n",
       "      <td>6.0</td>\n",
       "      <td>13.0</td>\n",
       "      <td>0.0</td>\n",
       "      <td>1.0</td>\n",
       "    </tr>\n",
       "    <tr>\n",
       "      <th>4</th>\n",
       "      <td>coqueiral</td>\n",
       "      <td>train</td>\n",
       "      <td>146.0</td>\n",
       "      <td>0.0</td>\n",
       "      <td>0.0</td>\n",
       "      <td>172.0</td>\n",
       "      <td>17.0</td>\n",
       "      <td>322.0</td>\n",
       "      <td>202.0</td>\n",
       "      <td>25.0</td>\n",
       "      <td>0.0</td>\n",
       "      <td>26.0</td>\n",
       "      <td>106.0</td>\n",
       "      <td>0.0</td>\n",
       "      <td>2.0</td>\n",
       "    </tr>\n",
       "    <tr>\n",
       "      <th>5</th>\n",
       "      <td>coqueiral</td>\n",
       "      <td>val</td>\n",
       "      <td>48.0</td>\n",
       "      <td>0.0</td>\n",
       "      <td>0.0</td>\n",
       "      <td>58.0</td>\n",
       "      <td>7.0</td>\n",
       "      <td>93.0</td>\n",
       "      <td>63.0</td>\n",
       "      <td>7.0</td>\n",
       "      <td>0.0</td>\n",
       "      <td>5.0</td>\n",
       "      <td>35.0</td>\n",
       "      <td>0.0</td>\n",
       "      <td>0.0</td>\n",
       "    </tr>\n",
       "    <tr>\n",
       "      <th>6</th>\n",
       "      <td>cristais</td>\n",
       "      <td>test</td>\n",
       "      <td>0.0</td>\n",
       "      <td>18.0</td>\n",
       "      <td>15.0</td>\n",
       "      <td>3.0</td>\n",
       "      <td>0.0</td>\n",
       "      <td>0.0</td>\n",
       "      <td>55.0</td>\n",
       "      <td>1.0</td>\n",
       "      <td>0.0</td>\n",
       "      <td>0.0</td>\n",
       "      <td>27.0</td>\n",
       "      <td>11.0</td>\n",
       "      <td>0.0</td>\n",
       "    </tr>\n",
       "    <tr>\n",
       "      <th>7</th>\n",
       "      <td>cristais</td>\n",
       "      <td>train</td>\n",
       "      <td>0.0</td>\n",
       "      <td>127.0</td>\n",
       "      <td>89.0</td>\n",
       "      <td>23.0</td>\n",
       "      <td>3.0</td>\n",
       "      <td>0.0</td>\n",
       "      <td>415.0</td>\n",
       "      <td>19.0</td>\n",
       "      <td>2.0</td>\n",
       "      <td>10.0</td>\n",
       "      <td>173.0</td>\n",
       "      <td>50.0</td>\n",
       "      <td>0.0</td>\n",
       "    </tr>\n",
       "    <tr>\n",
       "      <th>8</th>\n",
       "      <td>cristais</td>\n",
       "      <td>val</td>\n",
       "      <td>0.0</td>\n",
       "      <td>36.0</td>\n",
       "      <td>28.0</td>\n",
       "      <td>3.0</td>\n",
       "      <td>0.0</td>\n",
       "      <td>0.0</td>\n",
       "      <td>105.0</td>\n",
       "      <td>4.0</td>\n",
       "      <td>0.0</td>\n",
       "      <td>4.0</td>\n",
       "      <td>47.0</td>\n",
       "      <td>19.0</td>\n",
       "      <td>0.0</td>\n",
       "    </tr>\n",
       "    <tr>\n",
       "      <th>9</th>\n",
       "      <td>ijaci</td>\n",
       "      <td>test</td>\n",
       "      <td>0.0</td>\n",
       "      <td>0.0</td>\n",
       "      <td>0.0</td>\n",
       "      <td>0.0</td>\n",
       "      <td>16.0</td>\n",
       "      <td>0.0</td>\n",
       "      <td>28.0</td>\n",
       "      <td>1.0</td>\n",
       "      <td>3.0</td>\n",
       "      <td>0.0</td>\n",
       "      <td>0.0</td>\n",
       "      <td>0.0</td>\n",
       "      <td>0.0</td>\n",
       "    </tr>\n",
       "    <tr>\n",
       "      <th>10</th>\n",
       "      <td>ijaci</td>\n",
       "      <td>train</td>\n",
       "      <td>0.0</td>\n",
       "      <td>0.0</td>\n",
       "      <td>0.0</td>\n",
       "      <td>0.0</td>\n",
       "      <td>86.0</td>\n",
       "      <td>0.0</td>\n",
       "      <td>168.0</td>\n",
       "      <td>5.0</td>\n",
       "      <td>11.0</td>\n",
       "      <td>0.0</td>\n",
       "      <td>2.0</td>\n",
       "      <td>0.0</td>\n",
       "      <td>1.0</td>\n",
       "    </tr>\n",
       "    <tr>\n",
       "      <th>11</th>\n",
       "      <td>ijaci</td>\n",
       "      <td>val</td>\n",
       "      <td>0.0</td>\n",
       "      <td>0.0</td>\n",
       "      <td>0.0</td>\n",
       "      <td>0.0</td>\n",
       "      <td>23.0</td>\n",
       "      <td>0.0</td>\n",
       "      <td>48.0</td>\n",
       "      <td>4.0</td>\n",
       "      <td>2.0</td>\n",
       "      <td>0.0</td>\n",
       "      <td>0.0</td>\n",
       "      <td>0.0</td>\n",
       "      <td>0.0</td>\n",
       "    </tr>\n",
       "    <tr>\n",
       "      <th>12</th>\n",
       "      <td>itamarati</td>\n",
       "      <td>test</td>\n",
       "      <td>0.0</td>\n",
       "      <td>0.0</td>\n",
       "      <td>0.0</td>\n",
       "      <td>0.0</td>\n",
       "      <td>0.0</td>\n",
       "      <td>1.0</td>\n",
       "      <td>24.0</td>\n",
       "      <td>0.0</td>\n",
       "      <td>27.0</td>\n",
       "      <td>1.0</td>\n",
       "      <td>0.0</td>\n",
       "      <td>0.0</td>\n",
       "      <td>7.0</td>\n",
       "    </tr>\n",
       "    <tr>\n",
       "      <th>13</th>\n",
       "      <td>itamarati</td>\n",
       "      <td>train</td>\n",
       "      <td>0.0</td>\n",
       "      <td>0.0</td>\n",
       "      <td>0.0</td>\n",
       "      <td>0.0</td>\n",
       "      <td>8.0</td>\n",
       "      <td>15.0</td>\n",
       "      <td>182.0</td>\n",
       "      <td>3.0</td>\n",
       "      <td>158.0</td>\n",
       "      <td>0.0</td>\n",
       "      <td>1.0</td>\n",
       "      <td>0.0</td>\n",
       "      <td>49.0</td>\n",
       "    </tr>\n",
       "    <tr>\n",
       "      <th>14</th>\n",
       "      <td>itamarati</td>\n",
       "      <td>val</td>\n",
       "      <td>0.0</td>\n",
       "      <td>0.0</td>\n",
       "      <td>0.0</td>\n",
       "      <td>0.0</td>\n",
       "      <td>2.0</td>\n",
       "      <td>1.0</td>\n",
       "      <td>55.0</td>\n",
       "      <td>0.0</td>\n",
       "      <td>47.0</td>\n",
       "      <td>0.0</td>\n",
       "      <td>0.0</td>\n",
       "      <td>0.0</td>\n",
       "      <td>14.0</td>\n",
       "    </tr>\n",
       "    <tr>\n",
       "      <th>15</th>\n",
       "      <td>olaria</td>\n",
       "      <td>test</td>\n",
       "      <td>0.0</td>\n",
       "      <td>0.0</td>\n",
       "      <td>0.0</td>\n",
       "      <td>0.0</td>\n",
       "      <td>1.0</td>\n",
       "      <td>0.0</td>\n",
       "      <td>0.0</td>\n",
       "      <td>4.0</td>\n",
       "      <td>0.0</td>\n",
       "      <td>0.0</td>\n",
       "      <td>2.0</td>\n",
       "      <td>0.0</td>\n",
       "      <td>0.0</td>\n",
       "    </tr>\n",
       "    <tr>\n",
       "      <th>16</th>\n",
       "      <td>olaria</td>\n",
       "      <td>train</td>\n",
       "      <td>0.0</td>\n",
       "      <td>0.0</td>\n",
       "      <td>0.0</td>\n",
       "      <td>0.0</td>\n",
       "      <td>1.0</td>\n",
       "      <td>0.0</td>\n",
       "      <td>1.0</td>\n",
       "      <td>8.0</td>\n",
       "      <td>0.0</td>\n",
       "      <td>0.0</td>\n",
       "      <td>5.0</td>\n",
       "      <td>0.0</td>\n",
       "      <td>0.0</td>\n",
       "    </tr>\n",
       "    <tr>\n",
       "      <th>17</th>\n",
       "      <td>olaria</td>\n",
       "      <td>val</td>\n",
       "      <td>0.0</td>\n",
       "      <td>0.0</td>\n",
       "      <td>0.0</td>\n",
       "      <td>0.0</td>\n",
       "      <td>0.0</td>\n",
       "      <td>0.0</td>\n",
       "      <td>0.0</td>\n",
       "      <td>3.0</td>\n",
       "      <td>0.0</td>\n",
       "      <td>0.0</td>\n",
       "      <td>3.0</td>\n",
       "      <td>0.0</td>\n",
       "      <td>0.0</td>\n",
       "    </tr>\n",
       "    <tr>\n",
       "      <th>18</th>\n",
       "      <td>passa_vinte</td>\n",
       "      <td>test</td>\n",
       "      <td>1.0</td>\n",
       "      <td>0.0</td>\n",
       "      <td>0.0</td>\n",
       "      <td>0.0</td>\n",
       "      <td>0.0</td>\n",
       "      <td>0.0</td>\n",
       "      <td>11.0</td>\n",
       "      <td>0.0</td>\n",
       "      <td>2.0</td>\n",
       "      <td>0.0</td>\n",
       "      <td>5.0</td>\n",
       "      <td>7.0</td>\n",
       "      <td>1.0</td>\n",
       "    </tr>\n",
       "    <tr>\n",
       "      <th>19</th>\n",
       "      <td>passa_vinte</td>\n",
       "      <td>train</td>\n",
       "      <td>8.0</td>\n",
       "      <td>0.0</td>\n",
       "      <td>0.0</td>\n",
       "      <td>0.0</td>\n",
       "      <td>0.0</td>\n",
       "      <td>0.0</td>\n",
       "      <td>118.0</td>\n",
       "      <td>0.0</td>\n",
       "      <td>8.0</td>\n",
       "      <td>4.0</td>\n",
       "      <td>47.0</td>\n",
       "      <td>78.0</td>\n",
       "      <td>8.0</td>\n",
       "    </tr>\n",
       "    <tr>\n",
       "      <th>20</th>\n",
       "      <td>passa_vinte</td>\n",
       "      <td>val</td>\n",
       "      <td>0.0</td>\n",
       "      <td>0.0</td>\n",
       "      <td>0.0</td>\n",
       "      <td>0.0</td>\n",
       "      <td>0.0</td>\n",
       "      <td>0.0</td>\n",
       "      <td>33.0</td>\n",
       "      <td>0.0</td>\n",
       "      <td>2.0</td>\n",
       "      <td>2.0</td>\n",
       "      <td>14.0</td>\n",
       "      <td>18.0</td>\n",
       "      <td>2.0</td>\n",
       "    </tr>\n",
       "    <tr>\n",
       "      <th>21</th>\n",
       "      <td>pirapetinga</td>\n",
       "      <td>test</td>\n",
       "      <td>13.0</td>\n",
       "      <td>0.0</td>\n",
       "      <td>0.0</td>\n",
       "      <td>3.0</td>\n",
       "      <td>12.0</td>\n",
       "      <td>12.0</td>\n",
       "      <td>13.0</td>\n",
       "      <td>0.0</td>\n",
       "      <td>6.0</td>\n",
       "      <td>0.0</td>\n",
       "      <td>10.0</td>\n",
       "      <td>0.0</td>\n",
       "      <td>6.0</td>\n",
       "    </tr>\n",
       "    <tr>\n",
       "      <th>22</th>\n",
       "      <td>pirapetinga</td>\n",
       "      <td>train</td>\n",
       "      <td>73.0</td>\n",
       "      <td>0.0</td>\n",
       "      <td>0.0</td>\n",
       "      <td>47.0</td>\n",
       "      <td>95.0</td>\n",
       "      <td>65.0</td>\n",
       "      <td>76.0</td>\n",
       "      <td>0.0</td>\n",
       "      <td>83.0</td>\n",
       "      <td>7.0</td>\n",
       "      <td>57.0</td>\n",
       "      <td>0.0</td>\n",
       "      <td>42.0</td>\n",
       "    </tr>\n",
       "    <tr>\n",
       "      <th>23</th>\n",
       "      <td>pirapetinga</td>\n",
       "      <td>val</td>\n",
       "      <td>17.0</td>\n",
       "      <td>0.0</td>\n",
       "      <td>0.0</td>\n",
       "      <td>8.0</td>\n",
       "      <td>28.0</td>\n",
       "      <td>21.0</td>\n",
       "      <td>12.0</td>\n",
       "      <td>0.0</td>\n",
       "      <td>25.0</td>\n",
       "      <td>2.0</td>\n",
       "      <td>18.0</td>\n",
       "      <td>0.0</td>\n",
       "      <td>15.0</td>\n",
       "    </tr>\n",
       "    <tr>\n",
       "      <th>24</th>\n",
       "      <td>ribeirao_vermelho</td>\n",
       "      <td>test</td>\n",
       "      <td>0.0</td>\n",
       "      <td>0.0</td>\n",
       "      <td>0.0</td>\n",
       "      <td>0.0</td>\n",
       "      <td>1.0</td>\n",
       "      <td>0.0</td>\n",
       "      <td>11.0</td>\n",
       "      <td>0.0</td>\n",
       "      <td>0.0</td>\n",
       "      <td>0.0</td>\n",
       "      <td>1.0</td>\n",
       "      <td>0.0</td>\n",
       "      <td>0.0</td>\n",
       "    </tr>\n",
       "    <tr>\n",
       "      <th>25</th>\n",
       "      <td>ribeirao_vermelho</td>\n",
       "      <td>train</td>\n",
       "      <td>0.0</td>\n",
       "      <td>0.0</td>\n",
       "      <td>0.0</td>\n",
       "      <td>0.0</td>\n",
       "      <td>2.0</td>\n",
       "      <td>0.0</td>\n",
       "      <td>113.0</td>\n",
       "      <td>1.0</td>\n",
       "      <td>0.0</td>\n",
       "      <td>0.0</td>\n",
       "      <td>6.0</td>\n",
       "      <td>0.0</td>\n",
       "      <td>0.0</td>\n",
       "    </tr>\n",
       "    <tr>\n",
       "      <th>26</th>\n",
       "      <td>ribeirao_vermelho</td>\n",
       "      <td>val</td>\n",
       "      <td>0.0</td>\n",
       "      <td>0.0</td>\n",
       "      <td>0.0</td>\n",
       "      <td>0.0</td>\n",
       "      <td>0.0</td>\n",
       "      <td>0.0</td>\n",
       "      <td>34.0</td>\n",
       "      <td>1.0</td>\n",
       "      <td>0.0</td>\n",
       "      <td>0.0</td>\n",
       "      <td>2.0</td>\n",
       "      <td>0.0</td>\n",
       "      <td>0.0</td>\n",
       "    </tr>\n",
       "    <tr>\n",
       "      <th>27</th>\n",
       "      <td>sao_bento_abade</td>\n",
       "      <td>test</td>\n",
       "      <td>0.0</td>\n",
       "      <td>0.0</td>\n",
       "      <td>0.0</td>\n",
       "      <td>1.0</td>\n",
       "      <td>1.0</td>\n",
       "      <td>1.0</td>\n",
       "      <td>18.0</td>\n",
       "      <td>2.0</td>\n",
       "      <td>0.0</td>\n",
       "      <td>2.0</td>\n",
       "      <td>1.0</td>\n",
       "      <td>0.0</td>\n",
       "      <td>0.0</td>\n",
       "    </tr>\n",
       "    <tr>\n",
       "      <th>28</th>\n",
       "      <td>sao_bento_abade</td>\n",
       "      <td>train</td>\n",
       "      <td>0.0</td>\n",
       "      <td>0.0</td>\n",
       "      <td>18.0</td>\n",
       "      <td>5.0</td>\n",
       "      <td>7.0</td>\n",
       "      <td>4.0</td>\n",
       "      <td>89.0</td>\n",
       "      <td>13.0</td>\n",
       "      <td>3.0</td>\n",
       "      <td>13.0</td>\n",
       "      <td>6.0</td>\n",
       "      <td>0.0</td>\n",
       "      <td>5.0</td>\n",
       "    </tr>\n",
       "    <tr>\n",
       "      <th>29</th>\n",
       "      <td>sao_bento_abade</td>\n",
       "      <td>val</td>\n",
       "      <td>0.0</td>\n",
       "      <td>0.0</td>\n",
       "      <td>3.0</td>\n",
       "      <td>1.0</td>\n",
       "      <td>3.0</td>\n",
       "      <td>1.0</td>\n",
       "      <td>26.0</td>\n",
       "      <td>2.0</td>\n",
       "      <td>0.0</td>\n",
       "      <td>4.0</td>\n",
       "      <td>0.0</td>\n",
       "      <td>0.0</td>\n",
       "      <td>0.0</td>\n",
       "    </tr>\n",
       "  </tbody>\n",
       "</table>\n",
       "</div>"
      ],
      "text/plain": [
       "label               city   fold  aditamento  ata dispensa licitacao  \\\n",
       "0               arantina   test         0.0                     0.0   \n",
       "1               arantina  train         0.0                     0.0   \n",
       "2               arantina    val         0.0                     0.0   \n",
       "3              coqueiral   test        18.0                     0.0   \n",
       "4              coqueiral  train       146.0                     0.0   \n",
       "5              coqueiral    val        48.0                     0.0   \n",
       "6               cristais   test         0.0                    18.0   \n",
       "7               cristais  train         0.0                   127.0   \n",
       "8               cristais    val         0.0                    36.0   \n",
       "9                  ijaci   test         0.0                     0.0   \n",
       "10                 ijaci  train         0.0                     0.0   \n",
       "11                 ijaci    val         0.0                     0.0   \n",
       "12             itamarati   test         0.0                     0.0   \n",
       "13             itamarati  train         0.0                     0.0   \n",
       "14             itamarati    val         0.0                     0.0   \n",
       "15                olaria   test         0.0                     0.0   \n",
       "16                olaria  train         0.0                     0.0   \n",
       "17                olaria    val         0.0                     0.0   \n",
       "18           passa_vinte   test         1.0                     0.0   \n",
       "19           passa_vinte  train         8.0                     0.0   \n",
       "20           passa_vinte    val         0.0                     0.0   \n",
       "21           pirapetinga   test        13.0                     0.0   \n",
       "22           pirapetinga  train        73.0                     0.0   \n",
       "23           pirapetinga    val        17.0                     0.0   \n",
       "24     ribeirao_vermelho   test         0.0                     0.0   \n",
       "25     ribeirao_vermelho  train         0.0                     0.0   \n",
       "26     ribeirao_vermelho    val         0.0                     0.0   \n",
       "27       sao_bento_abade   test         0.0                     0.0   \n",
       "28       sao_bento_abade  train         0.0                     0.0   \n",
       "29       sao_bento_abade    val         0.0                     0.0   \n",
       "\n",
       "label  ata pregao presencial  ata registro precos  aviso  contrato  edital  \\\n",
       "0                        0.0                  0.0    0.0       0.0    28.0   \n",
       "1                        0.0                  0.0    0.0       0.0   188.0   \n",
       "2                        0.0                  0.0    0.0       0.0    67.0   \n",
       "3                        0.0                 28.0    1.0      44.0    34.0   \n",
       "4                        0.0                172.0   17.0     322.0   202.0   \n",
       "5                        0.0                 58.0    7.0      93.0    63.0   \n",
       "6                       15.0                  3.0    0.0       0.0    55.0   \n",
       "7                       89.0                 23.0    3.0       0.0   415.0   \n",
       "8                       28.0                  3.0    0.0       0.0   105.0   \n",
       "9                        0.0                  0.0   16.0       0.0    28.0   \n",
       "10                       0.0                  0.0   86.0       0.0   168.0   \n",
       "11                       0.0                  0.0   23.0       0.0    48.0   \n",
       "12                       0.0                  0.0    0.0       1.0    24.0   \n",
       "13                       0.0                  0.0    8.0      15.0   182.0   \n",
       "14                       0.0                  0.0    2.0       1.0    55.0   \n",
       "15                       0.0                  0.0    1.0       0.0     0.0   \n",
       "16                       0.0                  0.0    1.0       0.0     1.0   \n",
       "17                       0.0                  0.0    0.0       0.0     0.0   \n",
       "18                       0.0                  0.0    0.0       0.0    11.0   \n",
       "19                       0.0                  0.0    0.0       0.0   118.0   \n",
       "20                       0.0                  0.0    0.0       0.0    33.0   \n",
       "21                       0.0                  3.0   12.0      12.0    13.0   \n",
       "22                       0.0                 47.0   95.0      65.0    76.0   \n",
       "23                       0.0                  8.0   28.0      21.0    12.0   \n",
       "24                       0.0                  0.0    1.0       0.0    11.0   \n",
       "25                       0.0                  0.0    2.0       0.0   113.0   \n",
       "26                       0.0                  0.0    0.0       0.0    34.0   \n",
       "27                       0.0                  1.0    1.0       1.0    18.0   \n",
       "28                      18.0                  5.0    7.0       4.0    89.0   \n",
       "29                       3.0                  1.0    3.0       1.0    26.0   \n",
       "\n",
       "label  errata  homologacao adjudicacao  outras atas  outros  \\\n",
       "0         1.0                      0.0          0.0     3.0   \n",
       "1         1.0                      0.0          0.0    34.0   \n",
       "2         0.0                      0.0          0.0     6.0   \n",
       "3         2.0                      0.0          6.0    13.0   \n",
       "4        25.0                      0.0         26.0   106.0   \n",
       "5         7.0                      0.0          5.0    35.0   \n",
       "6         1.0                      0.0          0.0    27.0   \n",
       "7        19.0                      2.0         10.0   173.0   \n",
       "8         4.0                      0.0          4.0    47.0   \n",
       "9         1.0                      3.0          0.0     0.0   \n",
       "10        5.0                     11.0          0.0     2.0   \n",
       "11        4.0                      2.0          0.0     0.0   \n",
       "12        0.0                     27.0          1.0     0.0   \n",
       "13        3.0                    158.0          0.0     1.0   \n",
       "14        0.0                     47.0          0.0     0.0   \n",
       "15        4.0                      0.0          0.0     2.0   \n",
       "16        8.0                      0.0          0.0     5.0   \n",
       "17        3.0                      0.0          0.0     3.0   \n",
       "18        0.0                      2.0          0.0     5.0   \n",
       "19        0.0                      8.0          4.0    47.0   \n",
       "20        0.0                      2.0          2.0    14.0   \n",
       "21        0.0                      6.0          0.0    10.0   \n",
       "22        0.0                     83.0          7.0    57.0   \n",
       "23        0.0                     25.0          2.0    18.0   \n",
       "24        0.0                      0.0          0.0     1.0   \n",
       "25        1.0                      0.0          0.0     6.0   \n",
       "26        1.0                      0.0          0.0     2.0   \n",
       "27        2.0                      0.0          2.0     1.0   \n",
       "28       13.0                      3.0         13.0     6.0   \n",
       "29        2.0                      0.0          4.0     0.0   \n",
       "\n",
       "label  publicacao diario oficial  ratificacao  \n",
       "0                            0.0          0.0  \n",
       "1                            0.0          0.0  \n",
       "2                            0.0          0.0  \n",
       "3                            0.0          1.0  \n",
       "4                            0.0          2.0  \n",
       "5                            0.0          0.0  \n",
       "6                           11.0          0.0  \n",
       "7                           50.0          0.0  \n",
       "8                           19.0          0.0  \n",
       "9                            0.0          0.0  \n",
       "10                           0.0          1.0  \n",
       "11                           0.0          0.0  \n",
       "12                           0.0          7.0  \n",
       "13                           0.0         49.0  \n",
       "14                           0.0         14.0  \n",
       "15                           0.0          0.0  \n",
       "16                           0.0          0.0  \n",
       "17                           0.0          0.0  \n",
       "18                           7.0          1.0  \n",
       "19                          78.0          8.0  \n",
       "20                          18.0          2.0  \n",
       "21                           0.0          6.0  \n",
       "22                           0.0         42.0  \n",
       "23                           0.0         15.0  \n",
       "24                           0.0          0.0  \n",
       "25                           0.0          0.0  \n",
       "26                           0.0          0.0  \n",
       "27                           0.0          0.0  \n",
       "28                           0.0          5.0  \n",
       "29                           0.0          0.0  "
      ]
     },
     "execution_count": 38,
     "metadata": {},
     "output_type": "execute_result"
    }
   ],
   "source": [
    "(df.groupby([\"city\", \"fold\", \"label\"]).size()).reset_index(name=\"size\").pivot_table(values=\"size\", index=[\"city\", \"fold\"], columns=\"label\").fillna(0).reset_index()"
   ]
  },
  {
   "cell_type": "code",
   "execution_count": 39,
   "metadata": {},
   "outputs": [
    {
     "data": {
      "text/html": [
       "<div>\n",
       "<style scoped>\n",
       "    .dataframe tbody tr th:only-of-type {\n",
       "        vertical-align: middle;\n",
       "    }\n",
       "\n",
       "    .dataframe tbody tr th {\n",
       "        vertical-align: top;\n",
       "    }\n",
       "\n",
       "    .dataframe thead th {\n",
       "        text-align: right;\n",
       "    }\n",
       "</style>\n",
       "<table border=\"1\" class=\"dataframe\">\n",
       "  <thead>\n",
       "    <tr style=\"text-align: right;\">\n",
       "      <th></th>\n",
       "      <th>city</th>\n",
       "      <th>fold</th>\n",
       "      <th>label</th>\n",
       "      <th>size</th>\n",
       "    </tr>\n",
       "  </thead>\n",
       "  <tbody>\n",
       "    <tr>\n",
       "      <th>0</th>\n",
       "      <td>arantina</td>\n",
       "      <td>test</td>\n",
       "      <td>edital</td>\n",
       "      <td>28</td>\n",
       "    </tr>\n",
       "    <tr>\n",
       "      <th>1</th>\n",
       "      <td>arantina</td>\n",
       "      <td>test</td>\n",
       "      <td>errata</td>\n",
       "      <td>1</td>\n",
       "    </tr>\n",
       "    <tr>\n",
       "      <th>2</th>\n",
       "      <td>arantina</td>\n",
       "      <td>test</td>\n",
       "      <td>outros</td>\n",
       "      <td>3</td>\n",
       "    </tr>\n",
       "    <tr>\n",
       "      <th>3</th>\n",
       "      <td>coqueiral</td>\n",
       "      <td>test</td>\n",
       "      <td>aditamento</td>\n",
       "      <td>18</td>\n",
       "    </tr>\n",
       "    <tr>\n",
       "      <th>4</th>\n",
       "      <td>coqueiral</td>\n",
       "      <td>test</td>\n",
       "      <td>ata registro precos</td>\n",
       "      <td>28</td>\n",
       "    </tr>\n",
       "    <tr>\n",
       "      <th>5</th>\n",
       "      <td>coqueiral</td>\n",
       "      <td>test</td>\n",
       "      <td>aviso</td>\n",
       "      <td>1</td>\n",
       "    </tr>\n",
       "    <tr>\n",
       "      <th>6</th>\n",
       "      <td>coqueiral</td>\n",
       "      <td>test</td>\n",
       "      <td>contrato</td>\n",
       "      <td>44</td>\n",
       "    </tr>\n",
       "    <tr>\n",
       "      <th>7</th>\n",
       "      <td>coqueiral</td>\n",
       "      <td>test</td>\n",
       "      <td>edital</td>\n",
       "      <td>34</td>\n",
       "    </tr>\n",
       "    <tr>\n",
       "      <th>8</th>\n",
       "      <td>coqueiral</td>\n",
       "      <td>test</td>\n",
       "      <td>errata</td>\n",
       "      <td>2</td>\n",
       "    </tr>\n",
       "    <tr>\n",
       "      <th>9</th>\n",
       "      <td>coqueiral</td>\n",
       "      <td>test</td>\n",
       "      <td>outras atas</td>\n",
       "      <td>6</td>\n",
       "    </tr>\n",
       "    <tr>\n",
       "      <th>10</th>\n",
       "      <td>coqueiral</td>\n",
       "      <td>test</td>\n",
       "      <td>outros</td>\n",
       "      <td>13</td>\n",
       "    </tr>\n",
       "    <tr>\n",
       "      <th>11</th>\n",
       "      <td>coqueiral</td>\n",
       "      <td>test</td>\n",
       "      <td>ratificacao</td>\n",
       "      <td>1</td>\n",
       "    </tr>\n",
       "    <tr>\n",
       "      <th>12</th>\n",
       "      <td>cristais</td>\n",
       "      <td>test</td>\n",
       "      <td>ata dispensa licitacao</td>\n",
       "      <td>18</td>\n",
       "    </tr>\n",
       "    <tr>\n",
       "      <th>13</th>\n",
       "      <td>cristais</td>\n",
       "      <td>test</td>\n",
       "      <td>ata pregao presencial</td>\n",
       "      <td>15</td>\n",
       "    </tr>\n",
       "    <tr>\n",
       "      <th>14</th>\n",
       "      <td>cristais</td>\n",
       "      <td>test</td>\n",
       "      <td>ata registro precos</td>\n",
       "      <td>3</td>\n",
       "    </tr>\n",
       "    <tr>\n",
       "      <th>15</th>\n",
       "      <td>cristais</td>\n",
       "      <td>test</td>\n",
       "      <td>edital</td>\n",
       "      <td>55</td>\n",
       "    </tr>\n",
       "    <tr>\n",
       "      <th>16</th>\n",
       "      <td>cristais</td>\n",
       "      <td>test</td>\n",
       "      <td>errata</td>\n",
       "      <td>1</td>\n",
       "    </tr>\n",
       "    <tr>\n",
       "      <th>17</th>\n",
       "      <td>cristais</td>\n",
       "      <td>test</td>\n",
       "      <td>outros</td>\n",
       "      <td>27</td>\n",
       "    </tr>\n",
       "    <tr>\n",
       "      <th>18</th>\n",
       "      <td>cristais</td>\n",
       "      <td>test</td>\n",
       "      <td>publicacao diario oficial</td>\n",
       "      <td>11</td>\n",
       "    </tr>\n",
       "    <tr>\n",
       "      <th>19</th>\n",
       "      <td>ijaci</td>\n",
       "      <td>test</td>\n",
       "      <td>aviso</td>\n",
       "      <td>16</td>\n",
       "    </tr>\n",
       "    <tr>\n",
       "      <th>20</th>\n",
       "      <td>ijaci</td>\n",
       "      <td>test</td>\n",
       "      <td>edital</td>\n",
       "      <td>28</td>\n",
       "    </tr>\n",
       "    <tr>\n",
       "      <th>21</th>\n",
       "      <td>ijaci</td>\n",
       "      <td>test</td>\n",
       "      <td>errata</td>\n",
       "      <td>1</td>\n",
       "    </tr>\n",
       "    <tr>\n",
       "      <th>22</th>\n",
       "      <td>ijaci</td>\n",
       "      <td>test</td>\n",
       "      <td>homologacao adjudicacao</td>\n",
       "      <td>3</td>\n",
       "    </tr>\n",
       "    <tr>\n",
       "      <th>23</th>\n",
       "      <td>itamarati</td>\n",
       "      <td>test</td>\n",
       "      <td>contrato</td>\n",
       "      <td>1</td>\n",
       "    </tr>\n",
       "    <tr>\n",
       "      <th>24</th>\n",
       "      <td>itamarati</td>\n",
       "      <td>test</td>\n",
       "      <td>edital</td>\n",
       "      <td>24</td>\n",
       "    </tr>\n",
       "    <tr>\n",
       "      <th>25</th>\n",
       "      <td>itamarati</td>\n",
       "      <td>test</td>\n",
       "      <td>homologacao adjudicacao</td>\n",
       "      <td>27</td>\n",
       "    </tr>\n",
       "    <tr>\n",
       "      <th>26</th>\n",
       "      <td>itamarati</td>\n",
       "      <td>test</td>\n",
       "      <td>outras atas</td>\n",
       "      <td>1</td>\n",
       "    </tr>\n",
       "    <tr>\n",
       "      <th>27</th>\n",
       "      <td>itamarati</td>\n",
       "      <td>test</td>\n",
       "      <td>ratificacao</td>\n",
       "      <td>7</td>\n",
       "    </tr>\n",
       "    <tr>\n",
       "      <th>28</th>\n",
       "      <td>olaria</td>\n",
       "      <td>test</td>\n",
       "      <td>aviso</td>\n",
       "      <td>1</td>\n",
       "    </tr>\n",
       "    <tr>\n",
       "      <th>29</th>\n",
       "      <td>olaria</td>\n",
       "      <td>test</td>\n",
       "      <td>errata</td>\n",
       "      <td>4</td>\n",
       "    </tr>\n",
       "    <tr>\n",
       "      <th>30</th>\n",
       "      <td>olaria</td>\n",
       "      <td>test</td>\n",
       "      <td>outros</td>\n",
       "      <td>2</td>\n",
       "    </tr>\n",
       "    <tr>\n",
       "      <th>31</th>\n",
       "      <td>passa_vinte</td>\n",
       "      <td>test</td>\n",
       "      <td>aditamento</td>\n",
       "      <td>1</td>\n",
       "    </tr>\n",
       "    <tr>\n",
       "      <th>32</th>\n",
       "      <td>passa_vinte</td>\n",
       "      <td>test</td>\n",
       "      <td>edital</td>\n",
       "      <td>11</td>\n",
       "    </tr>\n",
       "    <tr>\n",
       "      <th>33</th>\n",
       "      <td>passa_vinte</td>\n",
       "      <td>test</td>\n",
       "      <td>homologacao adjudicacao</td>\n",
       "      <td>2</td>\n",
       "    </tr>\n",
       "    <tr>\n",
       "      <th>34</th>\n",
       "      <td>passa_vinte</td>\n",
       "      <td>test</td>\n",
       "      <td>outros</td>\n",
       "      <td>5</td>\n",
       "    </tr>\n",
       "    <tr>\n",
       "      <th>35</th>\n",
       "      <td>passa_vinte</td>\n",
       "      <td>test</td>\n",
       "      <td>publicacao diario oficial</td>\n",
       "      <td>7</td>\n",
       "    </tr>\n",
       "    <tr>\n",
       "      <th>36</th>\n",
       "      <td>passa_vinte</td>\n",
       "      <td>test</td>\n",
       "      <td>ratificacao</td>\n",
       "      <td>1</td>\n",
       "    </tr>\n",
       "    <tr>\n",
       "      <th>37</th>\n",
       "      <td>pirapetinga</td>\n",
       "      <td>test</td>\n",
       "      <td>aditamento</td>\n",
       "      <td>13</td>\n",
       "    </tr>\n",
       "    <tr>\n",
       "      <th>38</th>\n",
       "      <td>pirapetinga</td>\n",
       "      <td>test</td>\n",
       "      <td>ata registro precos</td>\n",
       "      <td>3</td>\n",
       "    </tr>\n",
       "    <tr>\n",
       "      <th>39</th>\n",
       "      <td>pirapetinga</td>\n",
       "      <td>test</td>\n",
       "      <td>aviso</td>\n",
       "      <td>12</td>\n",
       "    </tr>\n",
       "    <tr>\n",
       "      <th>40</th>\n",
       "      <td>pirapetinga</td>\n",
       "      <td>test</td>\n",
       "      <td>contrato</td>\n",
       "      <td>12</td>\n",
       "    </tr>\n",
       "    <tr>\n",
       "      <th>41</th>\n",
       "      <td>pirapetinga</td>\n",
       "      <td>test</td>\n",
       "      <td>edital</td>\n",
       "      <td>13</td>\n",
       "    </tr>\n",
       "    <tr>\n",
       "      <th>42</th>\n",
       "      <td>pirapetinga</td>\n",
       "      <td>test</td>\n",
       "      <td>homologacao adjudicacao</td>\n",
       "      <td>6</td>\n",
       "    </tr>\n",
       "    <tr>\n",
       "      <th>43</th>\n",
       "      <td>pirapetinga</td>\n",
       "      <td>test</td>\n",
       "      <td>outros</td>\n",
       "      <td>10</td>\n",
       "    </tr>\n",
       "    <tr>\n",
       "      <th>44</th>\n",
       "      <td>pirapetinga</td>\n",
       "      <td>test</td>\n",
       "      <td>ratificacao</td>\n",
       "      <td>6</td>\n",
       "    </tr>\n",
       "    <tr>\n",
       "      <th>45</th>\n",
       "      <td>ribeirao_vermelho</td>\n",
       "      <td>test</td>\n",
       "      <td>aviso</td>\n",
       "      <td>1</td>\n",
       "    </tr>\n",
       "    <tr>\n",
       "      <th>46</th>\n",
       "      <td>ribeirao_vermelho</td>\n",
       "      <td>test</td>\n",
       "      <td>edital</td>\n",
       "      <td>11</td>\n",
       "    </tr>\n",
       "    <tr>\n",
       "      <th>47</th>\n",
       "      <td>ribeirao_vermelho</td>\n",
       "      <td>test</td>\n",
       "      <td>outros</td>\n",
       "      <td>1</td>\n",
       "    </tr>\n",
       "    <tr>\n",
       "      <th>48</th>\n",
       "      <td>sao_bento_abade</td>\n",
       "      <td>test</td>\n",
       "      <td>ata registro precos</td>\n",
       "      <td>1</td>\n",
       "    </tr>\n",
       "    <tr>\n",
       "      <th>49</th>\n",
       "      <td>sao_bento_abade</td>\n",
       "      <td>test</td>\n",
       "      <td>aviso</td>\n",
       "      <td>1</td>\n",
       "    </tr>\n",
       "    <tr>\n",
       "      <th>50</th>\n",
       "      <td>sao_bento_abade</td>\n",
       "      <td>test</td>\n",
       "      <td>contrato</td>\n",
       "      <td>1</td>\n",
       "    </tr>\n",
       "    <tr>\n",
       "      <th>51</th>\n",
       "      <td>sao_bento_abade</td>\n",
       "      <td>test</td>\n",
       "      <td>edital</td>\n",
       "      <td>18</td>\n",
       "    </tr>\n",
       "    <tr>\n",
       "      <th>52</th>\n",
       "      <td>sao_bento_abade</td>\n",
       "      <td>test</td>\n",
       "      <td>errata</td>\n",
       "      <td>2</td>\n",
       "    </tr>\n",
       "    <tr>\n",
       "      <th>53</th>\n",
       "      <td>sao_bento_abade</td>\n",
       "      <td>test</td>\n",
       "      <td>outras atas</td>\n",
       "      <td>2</td>\n",
       "    </tr>\n",
       "    <tr>\n",
       "      <th>54</th>\n",
       "      <td>sao_bento_abade</td>\n",
       "      <td>test</td>\n",
       "      <td>outros</td>\n",
       "      <td>1</td>\n",
       "    </tr>\n",
       "  </tbody>\n",
       "</table>\n",
       "</div>"
      ],
      "text/plain": [
       "                 city  fold                      label  size\n",
       "0            arantina  test                     edital    28\n",
       "1            arantina  test                     errata     1\n",
       "2            arantina  test                     outros     3\n",
       "3           coqueiral  test                 aditamento    18\n",
       "4           coqueiral  test        ata registro precos    28\n",
       "5           coqueiral  test                      aviso     1\n",
       "6           coqueiral  test                   contrato    44\n",
       "7           coqueiral  test                     edital    34\n",
       "8           coqueiral  test                     errata     2\n",
       "9           coqueiral  test                outras atas     6\n",
       "10          coqueiral  test                     outros    13\n",
       "11          coqueiral  test                ratificacao     1\n",
       "12           cristais  test     ata dispensa licitacao    18\n",
       "13           cristais  test      ata pregao presencial    15\n",
       "14           cristais  test        ata registro precos     3\n",
       "15           cristais  test                     edital    55\n",
       "16           cristais  test                     errata     1\n",
       "17           cristais  test                     outros    27\n",
       "18           cristais  test  publicacao diario oficial    11\n",
       "19              ijaci  test                      aviso    16\n",
       "20              ijaci  test                     edital    28\n",
       "21              ijaci  test                     errata     1\n",
       "22              ijaci  test    homologacao adjudicacao     3\n",
       "23          itamarati  test                   contrato     1\n",
       "24          itamarati  test                     edital    24\n",
       "25          itamarati  test    homologacao adjudicacao    27\n",
       "26          itamarati  test                outras atas     1\n",
       "27          itamarati  test                ratificacao     7\n",
       "28             olaria  test                      aviso     1\n",
       "29             olaria  test                     errata     4\n",
       "30             olaria  test                     outros     2\n",
       "31        passa_vinte  test                 aditamento     1\n",
       "32        passa_vinte  test                     edital    11\n",
       "33        passa_vinte  test    homologacao adjudicacao     2\n",
       "34        passa_vinte  test                     outros     5\n",
       "35        passa_vinte  test  publicacao diario oficial     7\n",
       "36        passa_vinte  test                ratificacao     1\n",
       "37        pirapetinga  test                 aditamento    13\n",
       "38        pirapetinga  test        ata registro precos     3\n",
       "39        pirapetinga  test                      aviso    12\n",
       "40        pirapetinga  test                   contrato    12\n",
       "41        pirapetinga  test                     edital    13\n",
       "42        pirapetinga  test    homologacao adjudicacao     6\n",
       "43        pirapetinga  test                     outros    10\n",
       "44        pirapetinga  test                ratificacao     6\n",
       "45  ribeirao_vermelho  test                      aviso     1\n",
       "46  ribeirao_vermelho  test                     edital    11\n",
       "47  ribeirao_vermelho  test                     outros     1\n",
       "48    sao_bento_abade  test        ata registro precos     1\n",
       "49    sao_bento_abade  test                      aviso     1\n",
       "50    sao_bento_abade  test                   contrato     1\n",
       "51    sao_bento_abade  test                     edital    18\n",
       "52    sao_bento_abade  test                     errata     2\n",
       "53    sao_bento_abade  test                outras atas     2\n",
       "54    sao_bento_abade  test                     outros     1"
      ]
     },
     "execution_count": 39,
     "metadata": {},
     "output_type": "execute_result"
    }
   ],
   "source": [
    "df.loc[df[\"fold\"]=='test'].groupby([\"city\", \"fold\", \"label\"]).size().reset_index(name='size')"
   ]
  },
  {
   "cell_type": "code",
   "execution_count": 40,
   "metadata": {},
   "outputs": [
    {
     "data": {
      "text/html": [
       "<div>\n",
       "<style scoped>\n",
       "    .dataframe tbody tr th:only-of-type {\n",
       "        vertical-align: middle;\n",
       "    }\n",
       "\n",
       "    .dataframe tbody tr th {\n",
       "        vertical-align: top;\n",
       "    }\n",
       "\n",
       "    .dataframe thead th {\n",
       "        text-align: right;\n",
       "    }\n",
       "</style>\n",
       "<table border=\"1\" class=\"dataframe\">\n",
       "  <thead>\n",
       "    <tr style=\"text-align: right;\">\n",
       "      <th>label</th>\n",
       "      <th>city</th>\n",
       "      <th>fold</th>\n",
       "      <th>aditamento</th>\n",
       "      <th>ata pregao presencial</th>\n",
       "      <th>ata registro precos</th>\n",
       "      <th>aviso</th>\n",
       "      <th>contrato</th>\n",
       "      <th>edital</th>\n",
       "      <th>errata</th>\n",
       "      <th>homologacao adjudicacao</th>\n",
       "      <th>outras atas</th>\n",
       "      <th>outros</th>\n",
       "      <th>publicacao diario oficial</th>\n",
       "      <th>ratificacao</th>\n",
       "    </tr>\n",
       "  </thead>\n",
       "  <tbody>\n",
       "    <tr>\n",
       "      <th>0</th>\n",
       "      <td>arantina</td>\n",
       "      <td>test</td>\n",
       "      <td>0.0</td>\n",
       "      <td>0.0</td>\n",
       "      <td>0.0</td>\n",
       "      <td>0.0</td>\n",
       "      <td>0.0</td>\n",
       "      <td>28.0</td>\n",
       "      <td>1.0</td>\n",
       "      <td>0.0</td>\n",
       "      <td>0.0</td>\n",
       "      <td>3.0</td>\n",
       "      <td>0.0</td>\n",
       "      <td>0.0</td>\n",
       "    </tr>\n",
       "    <tr>\n",
       "      <th>1</th>\n",
       "      <td>arantina</td>\n",
       "      <td>train</td>\n",
       "      <td>0.0</td>\n",
       "      <td>0.0</td>\n",
       "      <td>0.0</td>\n",
       "      <td>0.0</td>\n",
       "      <td>0.0</td>\n",
       "      <td>188.0</td>\n",
       "      <td>1.0</td>\n",
       "      <td>0.0</td>\n",
       "      <td>0.0</td>\n",
       "      <td>34.0</td>\n",
       "      <td>0.0</td>\n",
       "      <td>0.0</td>\n",
       "    </tr>\n",
       "    <tr>\n",
       "      <th>2</th>\n",
       "      <td>arantina</td>\n",
       "      <td>val</td>\n",
       "      <td>0.0</td>\n",
       "      <td>0.0</td>\n",
       "      <td>0.0</td>\n",
       "      <td>0.0</td>\n",
       "      <td>0.0</td>\n",
       "      <td>67.0</td>\n",
       "      <td>0.0</td>\n",
       "      <td>0.0</td>\n",
       "      <td>0.0</td>\n",
       "      <td>6.0</td>\n",
       "      <td>0.0</td>\n",
       "      <td>0.0</td>\n",
       "    </tr>\n",
       "    <tr>\n",
       "      <th>3</th>\n",
       "      <td>ijaci</td>\n",
       "      <td>test</td>\n",
       "      <td>0.0</td>\n",
       "      <td>0.0</td>\n",
       "      <td>0.0</td>\n",
       "      <td>16.0</td>\n",
       "      <td>0.0</td>\n",
       "      <td>28.0</td>\n",
       "      <td>1.0</td>\n",
       "      <td>3.0</td>\n",
       "      <td>0.0</td>\n",
       "      <td>0.0</td>\n",
       "      <td>0.0</td>\n",
       "      <td>0.0</td>\n",
       "    </tr>\n",
       "    <tr>\n",
       "      <th>4</th>\n",
       "      <td>ijaci</td>\n",
       "      <td>train</td>\n",
       "      <td>0.0</td>\n",
       "      <td>0.0</td>\n",
       "      <td>0.0</td>\n",
       "      <td>86.0</td>\n",
       "      <td>0.0</td>\n",
       "      <td>168.0</td>\n",
       "      <td>5.0</td>\n",
       "      <td>11.0</td>\n",
       "      <td>0.0</td>\n",
       "      <td>2.0</td>\n",
       "      <td>0.0</td>\n",
       "      <td>1.0</td>\n",
       "    </tr>\n",
       "    <tr>\n",
       "      <th>5</th>\n",
       "      <td>ijaci</td>\n",
       "      <td>val</td>\n",
       "      <td>0.0</td>\n",
       "      <td>0.0</td>\n",
       "      <td>0.0</td>\n",
       "      <td>23.0</td>\n",
       "      <td>0.0</td>\n",
       "      <td>48.0</td>\n",
       "      <td>4.0</td>\n",
       "      <td>2.0</td>\n",
       "      <td>0.0</td>\n",
       "      <td>0.0</td>\n",
       "      <td>0.0</td>\n",
       "      <td>0.0</td>\n",
       "    </tr>\n",
       "    <tr>\n",
       "      <th>6</th>\n",
       "      <td>olaria</td>\n",
       "      <td>test</td>\n",
       "      <td>0.0</td>\n",
       "      <td>0.0</td>\n",
       "      <td>0.0</td>\n",
       "      <td>1.0</td>\n",
       "      <td>0.0</td>\n",
       "      <td>0.0</td>\n",
       "      <td>4.0</td>\n",
       "      <td>0.0</td>\n",
       "      <td>0.0</td>\n",
       "      <td>2.0</td>\n",
       "      <td>0.0</td>\n",
       "      <td>0.0</td>\n",
       "    </tr>\n",
       "    <tr>\n",
       "      <th>7</th>\n",
       "      <td>olaria</td>\n",
       "      <td>train</td>\n",
       "      <td>0.0</td>\n",
       "      <td>0.0</td>\n",
       "      <td>0.0</td>\n",
       "      <td>1.0</td>\n",
       "      <td>0.0</td>\n",
       "      <td>1.0</td>\n",
       "      <td>8.0</td>\n",
       "      <td>0.0</td>\n",
       "      <td>0.0</td>\n",
       "      <td>5.0</td>\n",
       "      <td>0.0</td>\n",
       "      <td>0.0</td>\n",
       "    </tr>\n",
       "    <tr>\n",
       "      <th>8</th>\n",
       "      <td>olaria</td>\n",
       "      <td>val</td>\n",
       "      <td>0.0</td>\n",
       "      <td>0.0</td>\n",
       "      <td>0.0</td>\n",
       "      <td>0.0</td>\n",
       "      <td>0.0</td>\n",
       "      <td>0.0</td>\n",
       "      <td>3.0</td>\n",
       "      <td>0.0</td>\n",
       "      <td>0.0</td>\n",
       "      <td>3.0</td>\n",
       "      <td>0.0</td>\n",
       "      <td>0.0</td>\n",
       "    </tr>\n",
       "    <tr>\n",
       "      <th>9</th>\n",
       "      <td>passa_vinte</td>\n",
       "      <td>test</td>\n",
       "      <td>1.0</td>\n",
       "      <td>0.0</td>\n",
       "      <td>0.0</td>\n",
       "      <td>0.0</td>\n",
       "      <td>0.0</td>\n",
       "      <td>11.0</td>\n",
       "      <td>0.0</td>\n",
       "      <td>2.0</td>\n",
       "      <td>0.0</td>\n",
       "      <td>5.0</td>\n",
       "      <td>7.0</td>\n",
       "      <td>1.0</td>\n",
       "    </tr>\n",
       "    <tr>\n",
       "      <th>10</th>\n",
       "      <td>passa_vinte</td>\n",
       "      <td>train</td>\n",
       "      <td>8.0</td>\n",
       "      <td>0.0</td>\n",
       "      <td>0.0</td>\n",
       "      <td>0.0</td>\n",
       "      <td>0.0</td>\n",
       "      <td>118.0</td>\n",
       "      <td>0.0</td>\n",
       "      <td>8.0</td>\n",
       "      <td>4.0</td>\n",
       "      <td>47.0</td>\n",
       "      <td>78.0</td>\n",
       "      <td>8.0</td>\n",
       "    </tr>\n",
       "    <tr>\n",
       "      <th>11</th>\n",
       "      <td>passa_vinte</td>\n",
       "      <td>val</td>\n",
       "      <td>0.0</td>\n",
       "      <td>0.0</td>\n",
       "      <td>0.0</td>\n",
       "      <td>0.0</td>\n",
       "      <td>0.0</td>\n",
       "      <td>33.0</td>\n",
       "      <td>0.0</td>\n",
       "      <td>2.0</td>\n",
       "      <td>2.0</td>\n",
       "      <td>14.0</td>\n",
       "      <td>18.0</td>\n",
       "      <td>2.0</td>\n",
       "    </tr>\n",
       "    <tr>\n",
       "      <th>12</th>\n",
       "      <td>ribeirao_vermelho</td>\n",
       "      <td>test</td>\n",
       "      <td>0.0</td>\n",
       "      <td>0.0</td>\n",
       "      <td>0.0</td>\n",
       "      <td>1.0</td>\n",
       "      <td>0.0</td>\n",
       "      <td>11.0</td>\n",
       "      <td>0.0</td>\n",
       "      <td>0.0</td>\n",
       "      <td>0.0</td>\n",
       "      <td>1.0</td>\n",
       "      <td>0.0</td>\n",
       "      <td>0.0</td>\n",
       "    </tr>\n",
       "    <tr>\n",
       "      <th>13</th>\n",
       "      <td>ribeirao_vermelho</td>\n",
       "      <td>train</td>\n",
       "      <td>0.0</td>\n",
       "      <td>0.0</td>\n",
       "      <td>0.0</td>\n",
       "      <td>2.0</td>\n",
       "      <td>0.0</td>\n",
       "      <td>113.0</td>\n",
       "      <td>1.0</td>\n",
       "      <td>0.0</td>\n",
       "      <td>0.0</td>\n",
       "      <td>6.0</td>\n",
       "      <td>0.0</td>\n",
       "      <td>0.0</td>\n",
       "    </tr>\n",
       "    <tr>\n",
       "      <th>14</th>\n",
       "      <td>ribeirao_vermelho</td>\n",
       "      <td>val</td>\n",
       "      <td>0.0</td>\n",
       "      <td>0.0</td>\n",
       "      <td>0.0</td>\n",
       "      <td>0.0</td>\n",
       "      <td>0.0</td>\n",
       "      <td>34.0</td>\n",
       "      <td>1.0</td>\n",
       "      <td>0.0</td>\n",
       "      <td>0.0</td>\n",
       "      <td>2.0</td>\n",
       "      <td>0.0</td>\n",
       "      <td>0.0</td>\n",
       "    </tr>\n",
       "    <tr>\n",
       "      <th>15</th>\n",
       "      <td>sao_bento_abade</td>\n",
       "      <td>test</td>\n",
       "      <td>0.0</td>\n",
       "      <td>0.0</td>\n",
       "      <td>1.0</td>\n",
       "      <td>1.0</td>\n",
       "      <td>1.0</td>\n",
       "      <td>18.0</td>\n",
       "      <td>2.0</td>\n",
       "      <td>0.0</td>\n",
       "      <td>2.0</td>\n",
       "      <td>1.0</td>\n",
       "      <td>0.0</td>\n",
       "      <td>0.0</td>\n",
       "    </tr>\n",
       "    <tr>\n",
       "      <th>16</th>\n",
       "      <td>sao_bento_abade</td>\n",
       "      <td>train</td>\n",
       "      <td>0.0</td>\n",
       "      <td>18.0</td>\n",
       "      <td>5.0</td>\n",
       "      <td>7.0</td>\n",
       "      <td>4.0</td>\n",
       "      <td>89.0</td>\n",
       "      <td>13.0</td>\n",
       "      <td>3.0</td>\n",
       "      <td>13.0</td>\n",
       "      <td>6.0</td>\n",
       "      <td>0.0</td>\n",
       "      <td>5.0</td>\n",
       "    </tr>\n",
       "    <tr>\n",
       "      <th>17</th>\n",
       "      <td>sao_bento_abade</td>\n",
       "      <td>val</td>\n",
       "      <td>0.0</td>\n",
       "      <td>3.0</td>\n",
       "      <td>1.0</td>\n",
       "      <td>3.0</td>\n",
       "      <td>1.0</td>\n",
       "      <td>26.0</td>\n",
       "      <td>2.0</td>\n",
       "      <td>0.0</td>\n",
       "      <td>4.0</td>\n",
       "      <td>0.0</td>\n",
       "      <td>0.0</td>\n",
       "      <td>0.0</td>\n",
       "    </tr>\n",
       "  </tbody>\n",
       "</table>\n",
       "</div>"
      ],
      "text/plain": [
       "label               city   fold  aditamento  ata pregao presencial  \\\n",
       "0               arantina   test         0.0                    0.0   \n",
       "1               arantina  train         0.0                    0.0   \n",
       "2               arantina    val         0.0                    0.0   \n",
       "3                  ijaci   test         0.0                    0.0   \n",
       "4                  ijaci  train         0.0                    0.0   \n",
       "5                  ijaci    val         0.0                    0.0   \n",
       "6                 olaria   test         0.0                    0.0   \n",
       "7                 olaria  train         0.0                    0.0   \n",
       "8                 olaria    val         0.0                    0.0   \n",
       "9            passa_vinte   test         1.0                    0.0   \n",
       "10           passa_vinte  train         8.0                    0.0   \n",
       "11           passa_vinte    val         0.0                    0.0   \n",
       "12     ribeirao_vermelho   test         0.0                    0.0   \n",
       "13     ribeirao_vermelho  train         0.0                    0.0   \n",
       "14     ribeirao_vermelho    val         0.0                    0.0   \n",
       "15       sao_bento_abade   test         0.0                    0.0   \n",
       "16       sao_bento_abade  train         0.0                   18.0   \n",
       "17       sao_bento_abade    val         0.0                    3.0   \n",
       "\n",
       "label  ata registro precos  aviso  contrato  edital  errata  \\\n",
       "0                      0.0    0.0       0.0    28.0     1.0   \n",
       "1                      0.0    0.0       0.0   188.0     1.0   \n",
       "2                      0.0    0.0       0.0    67.0     0.0   \n",
       "3                      0.0   16.0       0.0    28.0     1.0   \n",
       "4                      0.0   86.0       0.0   168.0     5.0   \n",
       "5                      0.0   23.0       0.0    48.0     4.0   \n",
       "6                      0.0    1.0       0.0     0.0     4.0   \n",
       "7                      0.0    1.0       0.0     1.0     8.0   \n",
       "8                      0.0    0.0       0.0     0.0     3.0   \n",
       "9                      0.0    0.0       0.0    11.0     0.0   \n",
       "10                     0.0    0.0       0.0   118.0     0.0   \n",
       "11                     0.0    0.0       0.0    33.0     0.0   \n",
       "12                     0.0    1.0       0.0    11.0     0.0   \n",
       "13                     0.0    2.0       0.0   113.0     1.0   \n",
       "14                     0.0    0.0       0.0    34.0     1.0   \n",
       "15                     1.0    1.0       1.0    18.0     2.0   \n",
       "16                     5.0    7.0       4.0    89.0    13.0   \n",
       "17                     1.0    3.0       1.0    26.0     2.0   \n",
       "\n",
       "label  homologacao adjudicacao  outras atas  outros  \\\n",
       "0                          0.0          0.0     3.0   \n",
       "1                          0.0          0.0    34.0   \n",
       "2                          0.0          0.0     6.0   \n",
       "3                          3.0          0.0     0.0   \n",
       "4                         11.0          0.0     2.0   \n",
       "5                          2.0          0.0     0.0   \n",
       "6                          0.0          0.0     2.0   \n",
       "7                          0.0          0.0     5.0   \n",
       "8                          0.0          0.0     3.0   \n",
       "9                          2.0          0.0     5.0   \n",
       "10                         8.0          4.0    47.0   \n",
       "11                         2.0          2.0    14.0   \n",
       "12                         0.0          0.0     1.0   \n",
       "13                         0.0          0.0     6.0   \n",
       "14                         0.0          0.0     2.0   \n",
       "15                         0.0          2.0     1.0   \n",
       "16                         3.0         13.0     6.0   \n",
       "17                         0.0          4.0     0.0   \n",
       "\n",
       "label  publicacao diario oficial  ratificacao  \n",
       "0                            0.0          0.0  \n",
       "1                            0.0          0.0  \n",
       "2                            0.0          0.0  \n",
       "3                            0.0          0.0  \n",
       "4                            0.0          1.0  \n",
       "5                            0.0          0.0  \n",
       "6                            0.0          0.0  \n",
       "7                            0.0          0.0  \n",
       "8                            0.0          0.0  \n",
       "9                            7.0          1.0  \n",
       "10                          78.0          8.0  \n",
       "11                          18.0          2.0  \n",
       "12                           0.0          0.0  \n",
       "13                           0.0          0.0  \n",
       "14                           0.0          0.0  \n",
       "15                           0.0          0.0  \n",
       "16                           0.0          5.0  \n",
       "17                           0.0          0.0  "
      ]
     },
     "execution_count": 40,
     "metadata": {},
     "output_type": "execute_result"
    }
   ],
   "source": [
    "np.round((df.loc[df['city'].isin(['passa_vinte', 'sao_bento_abade', 'arantina', 'ijaci', 'ribeirao_vermelho', 'olaria'])].groupby([\"city\", \"fold\", \"label\"]).size()).reset_index(name=\"size\").pivot_table(values=\"size\", index=[\"city\", \"fold\"], columns=\"label\").fillna(0),2).reset_index()"
   ]
  },
  {
   "cell_type": "code",
   "execution_count": 41,
   "metadata": {},
   "outputs": [],
   "source": [
    "from sklearn.model_selection import train_test_split\n",
    "def split_data_by_city_and_class(df):\n",
    "    # criamos uma nova classe cidade+label\n",
    "    df[\"multi_label\"] = df[\"label\"]+\"_\"+df[\"city\"]\n",
    "    # verificamos se existem classes que aparecem apenas 1 vez em algum município\n",
    "    df_multilabel_size = df.groupby(\"multi_label\").size().reset_index(name=\"size\")\n",
    "    # selecionamos esses casos\n",
    "    unique_classes = df_multilabel_size.loc[df_multilabel_size[\"size\"]==1, 'multi_label'].values\n",
    "    # definimos todos como treino\n",
    "    df[\"fold\"] = \"train\"\n",
    "    # \"classes unicas\" vão pro conjunto de validação\n",
    "    df.loc[(df[\"multi_label\"].isin(unique_classes))& (df[\"fold\"]==\"train\"), \"fold\"] = \"val\"\n",
    "\n",
    "    num_docs = df.shape[0]\n",
    "    test_size = round(0.1*num_docs)\n",
    "    val_size = round(0.2*num_docs)\n",
    "\n",
    "    # fazemos o split considerando a multi_label\n",
    "    train, test, _, _ = train_test_split(\n",
    "            df.loc[df[\"fold\"] == \"train\"],\n",
    "            df.loc[df[\"fold\"] == \"train\",\"multi_label\"], \n",
    "        stratify = df.loc[df[\"fold\"] == \"train\",\"multi_label\"],\n",
    "        test_size = test_size, \n",
    "        random_state=SEED)\n",
    "    # define os docs que vão pra validação\n",
    "    df.loc[test.index, \"fold\"] = \"test\"\n",
    "\n",
    "    # fazemos o split considerando a multi_label\n",
    "    train, val, _, _ = train_test_split(\n",
    "            df.loc[df[\"fold\"] == \"train\"],\n",
    "            df.loc[df[\"fold\"] == \"train\",\"multi_label\"], \n",
    "        stratify = df.loc[df[\"fold\"] == \"train\",\"multi_label\"],\n",
    "        test_size = val_size, \n",
    "        random_state=SEED)\n",
    "    # define os docs que vão pra validação\n",
    "    df.loc[val.index, \"fold\"] = \"val\"\n",
    "    \n",
    "    return df"
   ]
  },
  {
   "cell_type": "code",
   "execution_count": 42,
   "metadata": {},
   "outputs": [],
   "source": [
    "SEED = 42"
   ]
  },
  {
   "cell_type": "code",
   "execution_count": 43,
   "metadata": {},
   "outputs": [],
   "source": [
    "df_data = split_data_by_city_and_class(df)"
   ]
  },
  {
   "cell_type": "code",
   "execution_count": 44,
   "metadata": {},
   "outputs": [
    {
     "data": {
      "text/html": [
       "<div>\n",
       "<style scoped>\n",
       "    .dataframe tbody tr th:only-of-type {\n",
       "        vertical-align: middle;\n",
       "    }\n",
       "\n",
       "    .dataframe tbody tr th {\n",
       "        vertical-align: top;\n",
       "    }\n",
       "\n",
       "    .dataframe thead th {\n",
       "        text-align: right;\n",
       "    }\n",
       "</style>\n",
       "<table border=\"1\" class=\"dataframe\">\n",
       "  <thead>\n",
       "    <tr style=\"text-align: right;\">\n",
       "      <th>label</th>\n",
       "      <th>city</th>\n",
       "      <th>fold</th>\n",
       "      <th>aditamento</th>\n",
       "      <th>ata dispensa licitacao</th>\n",
       "      <th>ata pregao presencial</th>\n",
       "      <th>ata registro precos</th>\n",
       "      <th>aviso</th>\n",
       "      <th>contrato</th>\n",
       "      <th>edital</th>\n",
       "      <th>errata</th>\n",
       "      <th>homologacao adjudicacao</th>\n",
       "      <th>outras atas</th>\n",
       "      <th>outros</th>\n",
       "      <th>publicacao diario oficial</th>\n",
       "      <th>ratificacao</th>\n",
       "    </tr>\n",
       "  </thead>\n",
       "  <tbody>\n",
       "    <tr>\n",
       "      <th>0</th>\n",
       "      <td>arantina</td>\n",
       "      <td>test</td>\n",
       "      <td>0.0</td>\n",
       "      <td>0.0</td>\n",
       "      <td>0.0</td>\n",
       "      <td>0.0</td>\n",
       "      <td>0.0</td>\n",
       "      <td>0.0</td>\n",
       "      <td>28.0</td>\n",
       "      <td>0.0</td>\n",
       "      <td>0.0</td>\n",
       "      <td>0.0</td>\n",
       "      <td>4.0</td>\n",
       "      <td>0.0</td>\n",
       "      <td>0.0</td>\n",
       "    </tr>\n",
       "    <tr>\n",
       "      <th>1</th>\n",
       "      <td>arantina</td>\n",
       "      <td>train</td>\n",
       "      <td>0.0</td>\n",
       "      <td>0.0</td>\n",
       "      <td>0.0</td>\n",
       "      <td>0.0</td>\n",
       "      <td>0.0</td>\n",
       "      <td>0.0</td>\n",
       "      <td>198.0</td>\n",
       "      <td>2.0</td>\n",
       "      <td>0.0</td>\n",
       "      <td>0.0</td>\n",
       "      <td>30.0</td>\n",
       "      <td>0.0</td>\n",
       "      <td>0.0</td>\n",
       "    </tr>\n",
       "    <tr>\n",
       "      <th>2</th>\n",
       "      <td>arantina</td>\n",
       "      <td>val</td>\n",
       "      <td>0.0</td>\n",
       "      <td>0.0</td>\n",
       "      <td>0.0</td>\n",
       "      <td>0.0</td>\n",
       "      <td>0.0</td>\n",
       "      <td>0.0</td>\n",
       "      <td>57.0</td>\n",
       "      <td>0.0</td>\n",
       "      <td>0.0</td>\n",
       "      <td>0.0</td>\n",
       "      <td>9.0</td>\n",
       "      <td>0.0</td>\n",
       "      <td>0.0</td>\n",
       "    </tr>\n",
       "    <tr>\n",
       "      <th>3</th>\n",
       "      <td>coqueiral</td>\n",
       "      <td>test</td>\n",
       "      <td>21.0</td>\n",
       "      <td>0.0</td>\n",
       "      <td>0.0</td>\n",
       "      <td>26.0</td>\n",
       "      <td>3.0</td>\n",
       "      <td>46.0</td>\n",
       "      <td>30.0</td>\n",
       "      <td>3.0</td>\n",
       "      <td>0.0</td>\n",
       "      <td>4.0</td>\n",
       "      <td>15.0</td>\n",
       "      <td>0.0</td>\n",
       "      <td>0.0</td>\n",
       "    </tr>\n",
       "    <tr>\n",
       "      <th>4</th>\n",
       "      <td>coqueiral</td>\n",
       "      <td>train</td>\n",
       "      <td>149.0</td>\n",
       "      <td>0.0</td>\n",
       "      <td>0.0</td>\n",
       "      <td>180.0</td>\n",
       "      <td>17.0</td>\n",
       "      <td>321.0</td>\n",
       "      <td>209.0</td>\n",
       "      <td>24.0</td>\n",
       "      <td>0.0</td>\n",
       "      <td>26.0</td>\n",
       "      <td>108.0</td>\n",
       "      <td>0.0</td>\n",
       "      <td>2.0</td>\n",
       "    </tr>\n",
       "    <tr>\n",
       "      <th>5</th>\n",
       "      <td>coqueiral</td>\n",
       "      <td>val</td>\n",
       "      <td>42.0</td>\n",
       "      <td>0.0</td>\n",
       "      <td>0.0</td>\n",
       "      <td>52.0</td>\n",
       "      <td>5.0</td>\n",
       "      <td>92.0</td>\n",
       "      <td>60.0</td>\n",
       "      <td>7.0</td>\n",
       "      <td>0.0</td>\n",
       "      <td>7.0</td>\n",
       "      <td>31.0</td>\n",
       "      <td>0.0</td>\n",
       "      <td>1.0</td>\n",
       "    </tr>\n",
       "    <tr>\n",
       "      <th>6</th>\n",
       "      <td>cristais</td>\n",
       "      <td>test</td>\n",
       "      <td>0.0</td>\n",
       "      <td>18.0</td>\n",
       "      <td>13.0</td>\n",
       "      <td>3.0</td>\n",
       "      <td>0.0</td>\n",
       "      <td>0.0</td>\n",
       "      <td>58.0</td>\n",
       "      <td>2.0</td>\n",
       "      <td>0.0</td>\n",
       "      <td>1.0</td>\n",
       "      <td>25.0</td>\n",
       "      <td>8.0</td>\n",
       "      <td>0.0</td>\n",
       "    </tr>\n",
       "    <tr>\n",
       "      <th>7</th>\n",
       "      <td>cristais</td>\n",
       "      <td>train</td>\n",
       "      <td>0.0</td>\n",
       "      <td>127.0</td>\n",
       "      <td>93.0</td>\n",
       "      <td>20.0</td>\n",
       "      <td>2.0</td>\n",
       "      <td>0.0</td>\n",
       "      <td>402.0</td>\n",
       "      <td>17.0</td>\n",
       "      <td>2.0</td>\n",
       "      <td>10.0</td>\n",
       "      <td>173.0</td>\n",
       "      <td>56.0</td>\n",
       "      <td>0.0</td>\n",
       "    </tr>\n",
       "    <tr>\n",
       "      <th>8</th>\n",
       "      <td>cristais</td>\n",
       "      <td>val</td>\n",
       "      <td>0.0</td>\n",
       "      <td>36.0</td>\n",
       "      <td>26.0</td>\n",
       "      <td>6.0</td>\n",
       "      <td>1.0</td>\n",
       "      <td>0.0</td>\n",
       "      <td>115.0</td>\n",
       "      <td>5.0</td>\n",
       "      <td>0.0</td>\n",
       "      <td>3.0</td>\n",
       "      <td>49.0</td>\n",
       "      <td>16.0</td>\n",
       "      <td>0.0</td>\n",
       "    </tr>\n",
       "    <tr>\n",
       "      <th>9</th>\n",
       "      <td>ijaci</td>\n",
       "      <td>test</td>\n",
       "      <td>0.0</td>\n",
       "      <td>0.0</td>\n",
       "      <td>0.0</td>\n",
       "      <td>0.0</td>\n",
       "      <td>13.0</td>\n",
       "      <td>0.0</td>\n",
       "      <td>24.0</td>\n",
       "      <td>1.0</td>\n",
       "      <td>2.0</td>\n",
       "      <td>0.0</td>\n",
       "      <td>0.0</td>\n",
       "      <td>0.0</td>\n",
       "      <td>0.0</td>\n",
       "    </tr>\n",
       "    <tr>\n",
       "      <th>10</th>\n",
       "      <td>ijaci</td>\n",
       "      <td>train</td>\n",
       "      <td>0.0</td>\n",
       "      <td>0.0</td>\n",
       "      <td>0.0</td>\n",
       "      <td>0.0</td>\n",
       "      <td>87.0</td>\n",
       "      <td>0.0</td>\n",
       "      <td>171.0</td>\n",
       "      <td>7.0</td>\n",
       "      <td>11.0</td>\n",
       "      <td>0.0</td>\n",
       "      <td>2.0</td>\n",
       "      <td>0.0</td>\n",
       "      <td>0.0</td>\n",
       "    </tr>\n",
       "    <tr>\n",
       "      <th>11</th>\n",
       "      <td>ijaci</td>\n",
       "      <td>val</td>\n",
       "      <td>0.0</td>\n",
       "      <td>0.0</td>\n",
       "      <td>0.0</td>\n",
       "      <td>0.0</td>\n",
       "      <td>25.0</td>\n",
       "      <td>0.0</td>\n",
       "      <td>49.0</td>\n",
       "      <td>2.0</td>\n",
       "      <td>3.0</td>\n",
       "      <td>0.0</td>\n",
       "      <td>0.0</td>\n",
       "      <td>0.0</td>\n",
       "      <td>1.0</td>\n",
       "    </tr>\n",
       "    <tr>\n",
       "      <th>12</th>\n",
       "      <td>itamarati</td>\n",
       "      <td>test</td>\n",
       "      <td>0.0</td>\n",
       "      <td>0.0</td>\n",
       "      <td>0.0</td>\n",
       "      <td>0.0</td>\n",
       "      <td>1.0</td>\n",
       "      <td>2.0</td>\n",
       "      <td>26.0</td>\n",
       "      <td>0.0</td>\n",
       "      <td>23.0</td>\n",
       "      <td>0.0</td>\n",
       "      <td>0.0</td>\n",
       "      <td>0.0</td>\n",
       "      <td>7.0</td>\n",
       "    </tr>\n",
       "    <tr>\n",
       "      <th>13</th>\n",
       "      <td>itamarati</td>\n",
       "      <td>train</td>\n",
       "      <td>0.0</td>\n",
       "      <td>0.0</td>\n",
       "      <td>0.0</td>\n",
       "      <td>0.0</td>\n",
       "      <td>7.0</td>\n",
       "      <td>12.0</td>\n",
       "      <td>183.0</td>\n",
       "      <td>2.0</td>\n",
       "      <td>162.0</td>\n",
       "      <td>0.0</td>\n",
       "      <td>0.0</td>\n",
       "      <td>0.0</td>\n",
       "      <td>49.0</td>\n",
       "    </tr>\n",
       "    <tr>\n",
       "      <th>14</th>\n",
       "      <td>itamarati</td>\n",
       "      <td>val</td>\n",
       "      <td>0.0</td>\n",
       "      <td>0.0</td>\n",
       "      <td>0.0</td>\n",
       "      <td>0.0</td>\n",
       "      <td>2.0</td>\n",
       "      <td>3.0</td>\n",
       "      <td>52.0</td>\n",
       "      <td>1.0</td>\n",
       "      <td>47.0</td>\n",
       "      <td>1.0</td>\n",
       "      <td>1.0</td>\n",
       "      <td>0.0</td>\n",
       "      <td>14.0</td>\n",
       "    </tr>\n",
       "    <tr>\n",
       "      <th>15</th>\n",
       "      <td>olaria</td>\n",
       "      <td>test</td>\n",
       "      <td>0.0</td>\n",
       "      <td>0.0</td>\n",
       "      <td>0.0</td>\n",
       "      <td>0.0</td>\n",
       "      <td>0.0</td>\n",
       "      <td>0.0</td>\n",
       "      <td>0.0</td>\n",
       "      <td>2.0</td>\n",
       "      <td>0.0</td>\n",
       "      <td>0.0</td>\n",
       "      <td>1.0</td>\n",
       "      <td>0.0</td>\n",
       "      <td>0.0</td>\n",
       "    </tr>\n",
       "    <tr>\n",
       "      <th>16</th>\n",
       "      <td>olaria</td>\n",
       "      <td>train</td>\n",
       "      <td>0.0</td>\n",
       "      <td>0.0</td>\n",
       "      <td>0.0</td>\n",
       "      <td>0.0</td>\n",
       "      <td>2.0</td>\n",
       "      <td>0.0</td>\n",
       "      <td>0.0</td>\n",
       "      <td>10.0</td>\n",
       "      <td>0.0</td>\n",
       "      <td>0.0</td>\n",
       "      <td>7.0</td>\n",
       "      <td>0.0</td>\n",
       "      <td>0.0</td>\n",
       "    </tr>\n",
       "    <tr>\n",
       "      <th>17</th>\n",
       "      <td>olaria</td>\n",
       "      <td>val</td>\n",
       "      <td>0.0</td>\n",
       "      <td>0.0</td>\n",
       "      <td>0.0</td>\n",
       "      <td>0.0</td>\n",
       "      <td>0.0</td>\n",
       "      <td>0.0</td>\n",
       "      <td>1.0</td>\n",
       "      <td>3.0</td>\n",
       "      <td>0.0</td>\n",
       "      <td>0.0</td>\n",
       "      <td>2.0</td>\n",
       "      <td>0.0</td>\n",
       "      <td>0.0</td>\n",
       "    </tr>\n",
       "    <tr>\n",
       "      <th>18</th>\n",
       "      <td>passa_vinte</td>\n",
       "      <td>test</td>\n",
       "      <td>1.0</td>\n",
       "      <td>0.0</td>\n",
       "      <td>0.0</td>\n",
       "      <td>0.0</td>\n",
       "      <td>0.0</td>\n",
       "      <td>0.0</td>\n",
       "      <td>16.0</td>\n",
       "      <td>0.0</td>\n",
       "      <td>1.0</td>\n",
       "      <td>1.0</td>\n",
       "      <td>7.0</td>\n",
       "      <td>10.0</td>\n",
       "      <td>1.0</td>\n",
       "    </tr>\n",
       "    <tr>\n",
       "      <th>19</th>\n",
       "      <td>passa_vinte</td>\n",
       "      <td>train</td>\n",
       "      <td>6.0</td>\n",
       "      <td>0.0</td>\n",
       "      <td>0.0</td>\n",
       "      <td>0.0</td>\n",
       "      <td>0.0</td>\n",
       "      <td>0.0</td>\n",
       "      <td>114.0</td>\n",
       "      <td>0.0</td>\n",
       "      <td>9.0</td>\n",
       "      <td>4.0</td>\n",
       "      <td>46.0</td>\n",
       "      <td>72.0</td>\n",
       "      <td>8.0</td>\n",
       "    </tr>\n",
       "    <tr>\n",
       "      <th>20</th>\n",
       "      <td>passa_vinte</td>\n",
       "      <td>val</td>\n",
       "      <td>2.0</td>\n",
       "      <td>0.0</td>\n",
       "      <td>0.0</td>\n",
       "      <td>0.0</td>\n",
       "      <td>0.0</td>\n",
       "      <td>0.0</td>\n",
       "      <td>32.0</td>\n",
       "      <td>0.0</td>\n",
       "      <td>2.0</td>\n",
       "      <td>1.0</td>\n",
       "      <td>13.0</td>\n",
       "      <td>21.0</td>\n",
       "      <td>2.0</td>\n",
       "    </tr>\n",
       "    <tr>\n",
       "      <th>21</th>\n",
       "      <td>pirapetinga</td>\n",
       "      <td>test</td>\n",
       "      <td>10.0</td>\n",
       "      <td>0.0</td>\n",
       "      <td>0.0</td>\n",
       "      <td>6.0</td>\n",
       "      <td>14.0</td>\n",
       "      <td>10.0</td>\n",
       "      <td>10.0</td>\n",
       "      <td>0.0</td>\n",
       "      <td>11.0</td>\n",
       "      <td>1.0</td>\n",
       "      <td>9.0</td>\n",
       "      <td>0.0</td>\n",
       "      <td>6.0</td>\n",
       "    </tr>\n",
       "    <tr>\n",
       "      <th>22</th>\n",
       "      <td>pirapetinga</td>\n",
       "      <td>train</td>\n",
       "      <td>72.0</td>\n",
       "      <td>0.0</td>\n",
       "      <td>0.0</td>\n",
       "      <td>40.0</td>\n",
       "      <td>94.0</td>\n",
       "      <td>68.0</td>\n",
       "      <td>71.0</td>\n",
       "      <td>0.0</td>\n",
       "      <td>80.0</td>\n",
       "      <td>6.0</td>\n",
       "      <td>59.0</td>\n",
       "      <td>0.0</td>\n",
       "      <td>44.0</td>\n",
       "    </tr>\n",
       "    <tr>\n",
       "      <th>23</th>\n",
       "      <td>pirapetinga</td>\n",
       "      <td>val</td>\n",
       "      <td>21.0</td>\n",
       "      <td>0.0</td>\n",
       "      <td>0.0</td>\n",
       "      <td>12.0</td>\n",
       "      <td>27.0</td>\n",
       "      <td>20.0</td>\n",
       "      <td>20.0</td>\n",
       "      <td>0.0</td>\n",
       "      <td>23.0</td>\n",
       "      <td>2.0</td>\n",
       "      <td>17.0</td>\n",
       "      <td>0.0</td>\n",
       "      <td>13.0</td>\n",
       "    </tr>\n",
       "    <tr>\n",
       "      <th>24</th>\n",
       "      <td>ribeirao_vermelho</td>\n",
       "      <td>test</td>\n",
       "      <td>0.0</td>\n",
       "      <td>0.0</td>\n",
       "      <td>0.0</td>\n",
       "      <td>0.0</td>\n",
       "      <td>0.0</td>\n",
       "      <td>0.0</td>\n",
       "      <td>16.0</td>\n",
       "      <td>0.0</td>\n",
       "      <td>0.0</td>\n",
       "      <td>0.0</td>\n",
       "      <td>1.0</td>\n",
       "      <td>0.0</td>\n",
       "      <td>0.0</td>\n",
       "    </tr>\n",
       "    <tr>\n",
       "      <th>25</th>\n",
       "      <td>ribeirao_vermelho</td>\n",
       "      <td>train</td>\n",
       "      <td>0.0</td>\n",
       "      <td>0.0</td>\n",
       "      <td>0.0</td>\n",
       "      <td>0.0</td>\n",
       "      <td>2.0</td>\n",
       "      <td>0.0</td>\n",
       "      <td>110.0</td>\n",
       "      <td>2.0</td>\n",
       "      <td>0.0</td>\n",
       "      <td>0.0</td>\n",
       "      <td>6.0</td>\n",
       "      <td>0.0</td>\n",
       "      <td>0.0</td>\n",
       "    </tr>\n",
       "    <tr>\n",
       "      <th>26</th>\n",
       "      <td>ribeirao_vermelho</td>\n",
       "      <td>val</td>\n",
       "      <td>0.0</td>\n",
       "      <td>0.0</td>\n",
       "      <td>0.0</td>\n",
       "      <td>0.0</td>\n",
       "      <td>1.0</td>\n",
       "      <td>0.0</td>\n",
       "      <td>32.0</td>\n",
       "      <td>0.0</td>\n",
       "      <td>0.0</td>\n",
       "      <td>0.0</td>\n",
       "      <td>2.0</td>\n",
       "      <td>0.0</td>\n",
       "      <td>0.0</td>\n",
       "    </tr>\n",
       "    <tr>\n",
       "      <th>27</th>\n",
       "      <td>sao_bento_abade</td>\n",
       "      <td>test</td>\n",
       "      <td>0.0</td>\n",
       "      <td>0.0</td>\n",
       "      <td>2.0</td>\n",
       "      <td>1.0</td>\n",
       "      <td>1.0</td>\n",
       "      <td>1.0</td>\n",
       "      <td>13.0</td>\n",
       "      <td>2.0</td>\n",
       "      <td>0.0</td>\n",
       "      <td>2.0</td>\n",
       "      <td>1.0</td>\n",
       "      <td>0.0</td>\n",
       "      <td>1.0</td>\n",
       "    </tr>\n",
       "    <tr>\n",
       "      <th>28</th>\n",
       "      <td>sao_bento_abade</td>\n",
       "      <td>train</td>\n",
       "      <td>0.0</td>\n",
       "      <td>0.0</td>\n",
       "      <td>15.0</td>\n",
       "      <td>5.0</td>\n",
       "      <td>8.0</td>\n",
       "      <td>4.0</td>\n",
       "      <td>93.0</td>\n",
       "      <td>12.0</td>\n",
       "      <td>2.0</td>\n",
       "      <td>13.0</td>\n",
       "      <td>5.0</td>\n",
       "      <td>0.0</td>\n",
       "      <td>3.0</td>\n",
       "    </tr>\n",
       "    <tr>\n",
       "      <th>29</th>\n",
       "      <td>sao_bento_abade</td>\n",
       "      <td>val</td>\n",
       "      <td>0.0</td>\n",
       "      <td>0.0</td>\n",
       "      <td>4.0</td>\n",
       "      <td>1.0</td>\n",
       "      <td>2.0</td>\n",
       "      <td>1.0</td>\n",
       "      <td>27.0</td>\n",
       "      <td>3.0</td>\n",
       "      <td>1.0</td>\n",
       "      <td>4.0</td>\n",
       "      <td>1.0</td>\n",
       "      <td>0.0</td>\n",
       "      <td>1.0</td>\n",
       "    </tr>\n",
       "  </tbody>\n",
       "</table>\n",
       "</div>"
      ],
      "text/plain": [
       "label               city   fold  aditamento  ata dispensa licitacao  \\\n",
       "0               arantina   test         0.0                     0.0   \n",
       "1               arantina  train         0.0                     0.0   \n",
       "2               arantina    val         0.0                     0.0   \n",
       "3              coqueiral   test        21.0                     0.0   \n",
       "4              coqueiral  train       149.0                     0.0   \n",
       "5              coqueiral    val        42.0                     0.0   \n",
       "6               cristais   test         0.0                    18.0   \n",
       "7               cristais  train         0.0                   127.0   \n",
       "8               cristais    val         0.0                    36.0   \n",
       "9                  ijaci   test         0.0                     0.0   \n",
       "10                 ijaci  train         0.0                     0.0   \n",
       "11                 ijaci    val         0.0                     0.0   \n",
       "12             itamarati   test         0.0                     0.0   \n",
       "13             itamarati  train         0.0                     0.0   \n",
       "14             itamarati    val         0.0                     0.0   \n",
       "15                olaria   test         0.0                     0.0   \n",
       "16                olaria  train         0.0                     0.0   \n",
       "17                olaria    val         0.0                     0.0   \n",
       "18           passa_vinte   test         1.0                     0.0   \n",
       "19           passa_vinte  train         6.0                     0.0   \n",
       "20           passa_vinte    val         2.0                     0.0   \n",
       "21           pirapetinga   test        10.0                     0.0   \n",
       "22           pirapetinga  train        72.0                     0.0   \n",
       "23           pirapetinga    val        21.0                     0.0   \n",
       "24     ribeirao_vermelho   test         0.0                     0.0   \n",
       "25     ribeirao_vermelho  train         0.0                     0.0   \n",
       "26     ribeirao_vermelho    val         0.0                     0.0   \n",
       "27       sao_bento_abade   test         0.0                     0.0   \n",
       "28       sao_bento_abade  train         0.0                     0.0   \n",
       "29       sao_bento_abade    val         0.0                     0.0   \n",
       "\n",
       "label  ata pregao presencial  ata registro precos  aviso  contrato  edital  \\\n",
       "0                        0.0                  0.0    0.0       0.0    28.0   \n",
       "1                        0.0                  0.0    0.0       0.0   198.0   \n",
       "2                        0.0                  0.0    0.0       0.0    57.0   \n",
       "3                        0.0                 26.0    3.0      46.0    30.0   \n",
       "4                        0.0                180.0   17.0     321.0   209.0   \n",
       "5                        0.0                 52.0    5.0      92.0    60.0   \n",
       "6                       13.0                  3.0    0.0       0.0    58.0   \n",
       "7                       93.0                 20.0    2.0       0.0   402.0   \n",
       "8                       26.0                  6.0    1.0       0.0   115.0   \n",
       "9                        0.0                  0.0   13.0       0.0    24.0   \n",
       "10                       0.0                  0.0   87.0       0.0   171.0   \n",
       "11                       0.0                  0.0   25.0       0.0    49.0   \n",
       "12                       0.0                  0.0    1.0       2.0    26.0   \n",
       "13                       0.0                  0.0    7.0      12.0   183.0   \n",
       "14                       0.0                  0.0    2.0       3.0    52.0   \n",
       "15                       0.0                  0.0    0.0       0.0     0.0   \n",
       "16                       0.0                  0.0    2.0       0.0     0.0   \n",
       "17                       0.0                  0.0    0.0       0.0     1.0   \n",
       "18                       0.0                  0.0    0.0       0.0    16.0   \n",
       "19                       0.0                  0.0    0.0       0.0   114.0   \n",
       "20                       0.0                  0.0    0.0       0.0    32.0   \n",
       "21                       0.0                  6.0   14.0      10.0    10.0   \n",
       "22                       0.0                 40.0   94.0      68.0    71.0   \n",
       "23                       0.0                 12.0   27.0      20.0    20.0   \n",
       "24                       0.0                  0.0    0.0       0.0    16.0   \n",
       "25                       0.0                  0.0    2.0       0.0   110.0   \n",
       "26                       0.0                  0.0    1.0       0.0    32.0   \n",
       "27                       2.0                  1.0    1.0       1.0    13.0   \n",
       "28                      15.0                  5.0    8.0       4.0    93.0   \n",
       "29                       4.0                  1.0    2.0       1.0    27.0   \n",
       "\n",
       "label  errata  homologacao adjudicacao  outras atas  outros  \\\n",
       "0         0.0                      0.0          0.0     4.0   \n",
       "1         2.0                      0.0          0.0    30.0   \n",
       "2         0.0                      0.0          0.0     9.0   \n",
       "3         3.0                      0.0          4.0    15.0   \n",
       "4        24.0                      0.0         26.0   108.0   \n",
       "5         7.0                      0.0          7.0    31.0   \n",
       "6         2.0                      0.0          1.0    25.0   \n",
       "7        17.0                      2.0         10.0   173.0   \n",
       "8         5.0                      0.0          3.0    49.0   \n",
       "9         1.0                      2.0          0.0     0.0   \n",
       "10        7.0                     11.0          0.0     2.0   \n",
       "11        2.0                      3.0          0.0     0.0   \n",
       "12        0.0                     23.0          0.0     0.0   \n",
       "13        2.0                    162.0          0.0     0.0   \n",
       "14        1.0                     47.0          1.0     1.0   \n",
       "15        2.0                      0.0          0.0     1.0   \n",
       "16       10.0                      0.0          0.0     7.0   \n",
       "17        3.0                      0.0          0.0     2.0   \n",
       "18        0.0                      1.0          1.0     7.0   \n",
       "19        0.0                      9.0          4.0    46.0   \n",
       "20        0.0                      2.0          1.0    13.0   \n",
       "21        0.0                     11.0          1.0     9.0   \n",
       "22        0.0                     80.0          6.0    59.0   \n",
       "23        0.0                     23.0          2.0    17.0   \n",
       "24        0.0                      0.0          0.0     1.0   \n",
       "25        2.0                      0.0          0.0     6.0   \n",
       "26        0.0                      0.0          0.0     2.0   \n",
       "27        2.0                      0.0          2.0     1.0   \n",
       "28       12.0                      2.0         13.0     5.0   \n",
       "29        3.0                      1.0          4.0     1.0   \n",
       "\n",
       "label  publicacao diario oficial  ratificacao  \n",
       "0                            0.0          0.0  \n",
       "1                            0.0          0.0  \n",
       "2                            0.0          0.0  \n",
       "3                            0.0          0.0  \n",
       "4                            0.0          2.0  \n",
       "5                            0.0          1.0  \n",
       "6                            8.0          0.0  \n",
       "7                           56.0          0.0  \n",
       "8                           16.0          0.0  \n",
       "9                            0.0          0.0  \n",
       "10                           0.0          0.0  \n",
       "11                           0.0          1.0  \n",
       "12                           0.0          7.0  \n",
       "13                           0.0         49.0  \n",
       "14                           0.0         14.0  \n",
       "15                           0.0          0.0  \n",
       "16                           0.0          0.0  \n",
       "17                           0.0          0.0  \n",
       "18                          10.0          1.0  \n",
       "19                          72.0          8.0  \n",
       "20                          21.0          2.0  \n",
       "21                           0.0          6.0  \n",
       "22                           0.0         44.0  \n",
       "23                           0.0         13.0  \n",
       "24                           0.0          0.0  \n",
       "25                           0.0          0.0  \n",
       "26                           0.0          0.0  \n",
       "27                           0.0          1.0  \n",
       "28                           0.0          3.0  \n",
       "29                           0.0          1.0  "
      ]
     },
     "execution_count": 44,
     "metadata": {},
     "output_type": "execute_result"
    }
   ],
   "source": [
    "(df.groupby([\"city\", \"fold\", \"label\"]).size()).reset_index(name=\"size\").pivot_table(values=\"size\", index=[\"city\", \"fold\"], columns=\"label\").fillna(0).reset_index()"
   ]
  },
  {
   "cell_type": "code",
   "execution_count": 45,
   "metadata": {},
   "outputs": [
    {
     "data": {
      "text/plain": [
       "city\n",
       "arantina              328\n",
       "coqueiral            1481\n",
       "cristais             1287\n",
       "ijaci                 398\n",
       "itamarati             595\n",
       "olaria                 28\n",
       "passa_vinte           369\n",
       "pirapetinga           766\n",
       "ribeirao_vermelho     172\n",
       "sao_bento_abade       229\n",
       "dtype: int64"
      ]
     },
     "execution_count": 45,
     "metadata": {},
     "output_type": "execute_result"
    }
   ],
   "source": [
    "df.groupby('city').size()"
   ]
  },
  {
   "cell_type": "code",
   "execution_count": 47,
   "metadata": {},
   "outputs": [
    {
     "data": {
      "text/plain": [
       "city\n",
       "arantina              5.80\n",
       "coqueiral            26.20\n",
       "cristais             22.77\n",
       "ijaci                 7.04\n",
       "itamarati            10.53\n",
       "olaria                0.50\n",
       "passa_vinte           6.53\n",
       "pirapetinga          13.55\n",
       "ribeirao_vermelho     3.04\n",
       "sao_bento_abade       4.05\n",
       "dtype: float64"
      ]
     },
     "execution_count": 47,
     "metadata": {},
     "output_type": "execute_result"
    }
   ],
   "source": [
    "np.round(df.groupby('city').size() / df.shape[0]*100,2)"
   ]
  },
  {
   "cell_type": "code",
   "execution_count": 50,
   "metadata": {},
   "outputs": [],
   "source": [
    "from sklearn.metrics import classification_report"
   ]
  },
  {
   "cell_type": "code",
   "execution_count": 52,
   "metadata": {},
   "outputs": [
    {
     "name": "stdout",
     "output_type": "stream",
     "text": [
      "              precision    recall  f1-score   support\n",
      "\n",
      "           0       0.99      1.00      1.00     10275\n",
      "           1       0.88      0.38      0.53        91\n",
      "\n",
      "    accuracy                           0.99     10366\n",
      "   macro avg       0.93      0.69      0.77     10366\n",
      "weighted avg       0.99      0.99      0.99     10366\n",
      "\n"
     ]
    }
   ],
   "source": [
    "y_true = [0]*10275\n",
    "y_true.extend([1]*91)\n",
    "\n",
    "y_pred = [0]*10270\n",
    "y_pred.extend([1]*5)\n",
    "y_pred.extend([0]*56)\n",
    "y_pred.extend([1]*35)\n",
    "\n",
    "print(classification_report(y_true, y_pred))"
   ]
  }
 ],
 "metadata": {
  "kernelspec": {
   "display_name": "Python 3",
   "language": "python",
   "name": "python3"
  },
  "language_info": {
   "codemirror_mode": {
    "name": "ipython",
    "version": 3
   },
   "file_extension": ".py",
   "mimetype": "text/x-python",
   "name": "python",
   "nbconvert_exporter": "python",
   "pygments_lexer": "ipython3",
   "version": "3.7.6"
  }
 },
 "nbformat": 4,
 "nbformat_minor": 4
}
