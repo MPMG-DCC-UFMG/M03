{
 "cells": [
  {
   "cell_type": "code",
   "execution_count": 1,
   "metadata": {},
   "outputs": [],
   "source": [
    "# import packages\n",
    "import os, json\n",
    "import glob\n",
    "import pandas as pd\n",
    "import numpy as np\n",
    "import ast\n",
    "\n",
    "from tqdm.notebook import trange, tqdm"
   ]
  },
  {
   "cell_type": "code",
   "execution_count": 2,
   "metadata": {},
   "outputs": [
    {
     "data": {
      "application/vnd.jupyter.widget-view+json": {
       "model_id": "adb067add7f341fca3d319875b7b4f5c",
       "version_major": 2,
       "version_minor": 0
      },
      "text/plain": [
       "  0%|          | 0/10 [00:00<?, ?it/s]"
      ]
     },
     "metadata": {},
     "output_type": "display_data"
    }
   ],
   "source": [
    "folder = '/dados01/workspace/ufmg.f01dcc/m03/business_understanding/data/NER_results/licitacao/'\n",
    "folder_res = '/dados01/workspace/ufmg.f01dcc/m03/business_understanding/data/NER_results/Entities_all/'\n",
    "\n",
    "\n",
    "for filename in tqdm(glob.glob(folder+\"*.csv\")):\n",
    "    \n",
    "    df = pd.read_csv(filename, encoding='utf-8')\n",
    "    \n",
    "    #print(df.head())\n",
    "    \n",
    "    for ent_str in df[\"Entities\"]:\n",
    "        ent_dict = ast.literal_eval(ent_str)\n",
    "        #print(ent_dict)\n",
    "        \n",
    "        #print(ent_dict[\"label\"])\n",
    "        #print(ent_dict[\"entity\"])\n",
    "        \n",
    "        with open(folder_res+ent_dict[\"label\"]+\".dic\", \"a\") as file_dic:\n",
    "            file_dic.write(ent_dict[\"entity\"].lower()+\"\\n\")\n",
    "                "
   ]
  },
  {
   "cell_type": "markdown",
   "metadata": {},
   "source": [
    "# Remove conteúdos duplicados"
   ]
  },
  {
   "cell_type": "code",
   "execution_count": 3,
   "metadata": {},
   "outputs": [
    {
     "data": {
      "application/vnd.jupyter.widget-view+json": {
       "model_id": "59dff0f5725d47d8b1c0b772f0b2f259",
       "version_major": 2,
       "version_minor": 0
      },
      "text/plain": [
       "  0%|          | 0/23 [00:00<?, ?it/s]"
      ]
     },
     "metadata": {},
     "output_type": "display_data"
    }
   ],
   "source": [
    "for filename in tqdm(glob.glob(folder_res+\"*.dic\")):\n",
    "    with open(filename, \"r\") as result:\n",
    "        uniqlines = set(result.readlines())\n",
    "    with open(filename, 'w') as rmdup:\n",
    "        rmdup.writelines(set(uniqlines))"
   ]
  },
  {
   "cell_type": "code",
   "execution_count": null,
   "metadata": {},
   "outputs": [],
   "source": []
  }
 ],
 "metadata": {
  "kernelspec": {
   "display_name": "Python 3",
   "language": "python",
   "name": "python3"
  },
  "language_info": {
   "codemirror_mode": {
    "name": "ipython",
    "version": 3
   },
   "file_extension": ".py",
   "mimetype": "text/x-python",
   "name": "python",
   "nbconvert_exporter": "python",
   "pygments_lexer": "ipython3",
   "version": "3.7.6"
  }
 },
 "nbformat": 4,
 "nbformat_minor": 4
}
