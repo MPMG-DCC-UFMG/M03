{
 "cells": [
  {
   "cell_type": "code",
   "execution_count": 4,
   "metadata": {},
   "outputs": [],
   "source": [
    "# import packages\n",
    "import glob\n",
    "import pandas as pd\n",
    "import numpy as np\n",
    "import json\n",
    "\n",
    "from tqdm.notebook import trange, tqdm"
   ]
  },
  {
   "cell_type": "code",
   "execution_count": 5,
   "metadata": {},
   "outputs": [],
   "source": [
    "paths = [['arantina/', 'Arantina'], ['coqueiral/', 'Coqueiral'], ['cristais/', 'Cristais'], ['ijaci/', 'Ijaci'], ['itamarati/', 'Itamarati'], ['olaria/', 'Olaria'], ['passa-vinte/', 'Passa Vinte'], ['pirapetinga/', 'Pirapetinga'], ['ribeirao-vermelho/', 'Ribeirao-vermelho'], ['sao-bento-abade/', 'São Bento Abade']]"
   ]
  },
  {
   "cell_type": "code",
   "execution_count": 12,
   "metadata": {},
   "outputs": [
    {
     "name": "stdout",
     "output_type": "stream",
     "text": [
      "arantina/\n"
     ]
    },
    {
     "data": {
      "application/vnd.jupyter.widget-view+json": {
       "model_id": "5f7c6c695efe4e6f803b53c2abe66bb2",
       "version_major": 2,
       "version_minor": 0
      },
      "text/plain": [
       "Arantina:   0%|          | 0/937 [00:00<?, ?it/s]"
      ]
     },
     "metadata": {},
     "output_type": "display_data"
    },
    {
     "name": "stdout",
     "output_type": "stream",
     "text": [
      "                                             Arquivo  \\\n",
      "0  /dados01/workspace/ufmg.f01dcc/m03/business_un...   \n",
      "1  /dados01/workspace/ufmg.f01dcc/m03/business_un...   \n",
      "2  /dados01/workspace/ufmg.f01dcc/m03/business_un...   \n",
      "3  /dados01/workspace/ufmg.f01dcc/m03/business_un...   \n",
      "4  /dados01/workspace/ufmg.f01dcc/m03/business_un...   \n",
      "\n",
      "                                            Entities Município_  \n",
      "0  {'start': 226, 'end': 256, 'label': 'PESSOA', ...   Arantina  \n",
      "1  {'start': 387, 'end': 406, 'label': 'PESSOA', ...   Arantina  \n",
      "2  {'start': 564, 'end': 575, 'label': 'PESSOA', ...   Arantina  \n",
      "3  {'start': 663, 'end': 674, 'label': 'PESSOA', ...   Arantina  \n",
      "4  {'start': 804, 'end': 820, 'label': 'PESSOA', ...   Arantina  \n",
      "coqueiral/\n"
     ]
    },
    {
     "data": {
      "application/vnd.jupyter.widget-view+json": {
       "model_id": "6776061a62b7404d907bd68584addef6",
       "version_major": 2,
       "version_minor": 0
      },
      "text/plain": [
       "Coqueiral:   0%|          | 0/1528 [00:00<?, ?it/s]"
      ]
     },
     "metadata": {},
     "output_type": "display_data"
    },
    {
     "name": "stdout",
     "output_type": "stream",
     "text": [
      "                                             Arquivo  \\\n",
      "0  /dados01/workspace/ufmg.f01dcc/m03/business_un...   \n",
      "1  /dados01/workspace/ufmg.f01dcc/m03/business_un...   \n",
      "2  /dados01/workspace/ufmg.f01dcc/m03/business_un...   \n",
      "3  /dados01/workspace/ufmg.f01dcc/m03/business_un...   \n",
      "4  /dados01/workspace/ufmg.f01dcc/m03/business_un...   \n",
      "\n",
      "                                            Entities Município_  \n",
      "0  {'start': 43, 'end': 51, 'label': 'TEMPO', 'en...  Coqueiral  \n",
      "1  {'start': 85, 'end': 93, 'label': 'TEMPO', 'en...  Coqueiral  \n",
      "2  {'start': 97, 'end': 105, 'label': 'TEMPO', 'e...  Coqueiral  \n",
      "3  {'start': 215, 'end': 261, 'label': 'ORGANIZAC...  Coqueiral  \n",
      "4  {'start': 295, 'end': 323, 'label': 'PESSOA', ...  Coqueiral  \n",
      "cristais/\n"
     ]
    },
    {
     "data": {
      "application/vnd.jupyter.widget-view+json": {
       "model_id": "a6eb2d8048ae4ab799aeaf2d7d8c3eef",
       "version_major": 2,
       "version_minor": 0
      },
      "text/plain": [
       "Cristais:   0%|          | 0/1734 [00:00<?, ?it/s]"
      ]
     },
     "metadata": {},
     "output_type": "display_data"
    },
    {
     "name": "stdout",
     "output_type": "stream",
     "text": [
      "                                             Arquivo  \\\n",
      "0  /dados01/workspace/ufmg.f01dcc/m03/business_un...   \n",
      "1  /dados01/workspace/ufmg.f01dcc/m03/business_un...   \n",
      "2  /dados01/workspace/ufmg.f01dcc/m03/business_un...   \n",
      "3  /dados01/workspace/ufmg.f01dcc/m03/business_un...   \n",
      "4  /dados01/workspace/ufmg.f01dcc/m03/business_un...   \n",
      "\n",
      "                                            Entities Município_  \n",
      "0  {'start': 41, 'end': 64, 'label': 'TEMPO', 'en...   Cristais  \n",
      "1  {'start': 130, 'end': 149, 'label': 'PESSOA', ...   Cristais  \n",
      "2  {'start': 185, 'end': 209, 'label': 'PESSOA', ...   Cristais  \n",
      "3  {'start': 212, 'end': 235, 'label': 'PESSOA', ...   Cristais  \n",
      "4  {'start': 261, 'end': 293, 'label': 'TEMPO', '...   Cristais  \n",
      "ijaci/\n"
     ]
    },
    {
     "data": {
      "application/vnd.jupyter.widget-view+json": {
       "model_id": "7d9e263af9e04e438fac83f97dc707c1",
       "version_major": 2,
       "version_minor": 0
      },
      "text/plain": [
       "Ijaci:   0%|          | 0/451 [00:00<?, ?it/s]"
      ]
     },
     "metadata": {},
     "output_type": "display_data"
    },
    {
     "name": "stdout",
     "output_type": "stream",
     "text": [
      "                                             Arquivo  \\\n",
      "0  /dados01/workspace/ufmg.f01dcc/m03/business_un...   \n",
      "1  /dados01/workspace/ufmg.f01dcc/m03/business_un...   \n",
      "2  /dados01/workspace/ufmg.f01dcc/m03/business_un...   \n",
      "3  /dados01/workspace/ufmg.f01dcc/m03/business_un...   \n",
      "4  /dados01/workspace/ufmg.f01dcc/m03/business_un...   \n",
      "\n",
      "                                            Entities Município_  \n",
      "0  {'start': 25, 'end': 93, 'label': 'ORGANIZACAO...      Ijaci  \n",
      "1  {'start': 104, 'end': 135, 'label': 'JURISPRUD...      Ijaci  \n",
      "2  {'start': 248, 'end': 258, 'label': 'TEMPO', '...      Ijaci  \n",
      "3  {'start': 434, 'end': 463, 'label': 'PESSOA', ...      Ijaci  \n",
      "4  {'start': 464, 'end': 484, 'label': 'JURISPRUD...      Ijaci  \n",
      "itamarati/\n"
     ]
    },
    {
     "data": {
      "application/vnd.jupyter.widget-view+json": {
       "model_id": "a3dabd1cad4e41b18fa674508a2a5840",
       "version_major": 2,
       "version_minor": 0
      },
      "text/plain": [
       "Itamarati:   0%|          | 0/1110 [00:00<?, ?it/s]"
      ]
     },
     "metadata": {},
     "output_type": "display_data"
    },
    {
     "name": "stdout",
     "output_type": "stream",
     "text": [
      "                                             Arquivo  \\\n",
      "0  /dados01/workspace/ufmg.f01dcc/m03/business_un...   \n",
      "1  /dados01/workspace/ufmg.f01dcc/m03/business_un...   \n",
      "2  /dados01/workspace/ufmg.f01dcc/m03/business_un...   \n",
      "3  /dados01/workspace/ufmg.f01dcc/m03/business_un...   \n",
      "4  /dados01/workspace/ufmg.f01dcc/m03/business_un...   \n",
      "\n",
      "                                            Entities Município_  \n",
      "0  {'start': 37, 'end': 121, 'label': 'ORGANIZACA...  Itamarati  \n",
      "1  {'start': 123, 'end': 138, 'label': 'JURISPRUD...  Itamarati  \n",
      "2  {'start': 188, 'end': 216, 'label': 'PESSOA', ...  Itamarati  \n",
      "3  {'start': 218, 'end': 234, 'label': 'LEGISLACA...  Itamarati  \n",
      "4  {'start': 242, 'end': 268, 'label': 'JURISPRUD...  Itamarati  \n",
      "olaria/\n"
     ]
    },
    {
     "data": {
      "application/vnd.jupyter.widget-view+json": {
       "model_id": "805e67ce342a4da4a8a3b60c70003e5d",
       "version_major": 2,
       "version_minor": 0
      },
      "text/plain": [
       "Olaria:   0%|          | 0/42 [00:00<?, ?it/s]"
      ]
     },
     "metadata": {},
     "output_type": "display_data"
    },
    {
     "name": "stdout",
     "output_type": "stream",
     "text": [
      "                                             Arquivo  \\\n",
      "0  /dados01/workspace/ufmg.f01dcc/m03/business_un...   \n",
      "1  /dados01/workspace/ufmg.f01dcc/m03/business_un...   \n",
      "2  /dados01/workspace/ufmg.f01dcc/m03/business_un...   \n",
      "3  /dados01/workspace/ufmg.f01dcc/m03/business_un...   \n",
      "4  /dados01/workspace/ufmg.f01dcc/m03/business_un...   \n",
      "\n",
      "                                            Entities Município_  \n",
      "0  {'start': 207, 'end': 210, 'label': 'ORGANIZAC...     Olaria  \n",
      "1  {'start': 396, 'end': 419, 'label': 'LOCAL', '...     Olaria  \n",
      "2  {'start': 643, 'end': 665, 'label': 'TEMPO', '...     Olaria  \n",
      "3  {'start': 780, 'end': 802, 'label': 'TEMPO', '...     Olaria  \n",
      "4  {'start': 806, 'end': 848, 'label': 'PESSOA', ...     Olaria  \n",
      "passa-vinte/\n"
     ]
    },
    {
     "data": {
      "application/vnd.jupyter.widget-view+json": {
       "model_id": "67728bc750b344ddadbeb4cc14427652",
       "version_major": 2,
       "version_minor": 0
      },
      "text/plain": [
       "Passa Vinte:   0%|          | 0/395 [00:00<?, ?it/s]"
      ]
     },
     "metadata": {},
     "output_type": "display_data"
    },
    {
     "name": "stdout",
     "output_type": "stream",
     "text": [
      "                                             Arquivo  \\\n",
      "0  /dados01/workspace/ufmg.f01dcc/m03/business_un...   \n",
      "1  /dados01/workspace/ufmg.f01dcc/m03/business_un...   \n",
      "2  /dados01/workspace/ufmg.f01dcc/m03/business_un...   \n",
      "3  /dados01/workspace/ufmg.f01dcc/m03/business_un...   \n",
      "4  /dados01/workspace/ufmg.f01dcc/m03/business_un...   \n",
      "\n",
      "                                            Entities   Município_  \n",
      "0  {'start': 96, 'end': 117, 'label': 'TEMPO', 'e...  Passa Vinte  \n",
      "1  {'start': 339, 'end': 347, 'label': 'ORGANIZAC...  Passa Vinte  \n",
      "2  {'start': 480, 'end': 503, 'label': 'TEMPO', '...  Passa Vinte  \n",
      "3  {'start': 567, 'end': 602, 'label': 'LOCAL', '...  Passa Vinte  \n",
      "4  {'start': 1065, 'end': 1088, 'label': 'TEMPO',...  Passa Vinte  \n",
      "pirapetinga/\n"
     ]
    },
    {
     "data": {
      "application/vnd.jupyter.widget-view+json": {
       "model_id": "24af2e6233774126b33dea9e134a241e",
       "version_major": 2,
       "version_minor": 0
      },
      "text/plain": [
       "Pirapetinga:   0%|          | 0/1007 [00:00<?, ?it/s]"
      ]
     },
     "metadata": {},
     "output_type": "display_data"
    },
    {
     "name": "stdout",
     "output_type": "stream",
     "text": [
      "                                             Arquivo  \\\n",
      "0  /dados01/workspace/ufmg.f01dcc/m03/business_un...   \n",
      "1  /dados01/workspace/ufmg.f01dcc/m03/business_un...   \n",
      "2  /dados01/workspace/ufmg.f01dcc/m03/business_un...   \n",
      "3  /dados01/workspace/ufmg.f01dcc/m03/business_un...   \n",
      "4  /dados01/workspace/ufmg.f01dcc/m03/business_un...   \n",
      "\n",
      "                                            Entities   Município_  \n",
      "0  {'start': 0, 'end': 66, 'label': 'LEGISLACAO',...  Pirapetinga  \n",
      "1  {'start': 260, 'end': 343, 'label': 'PESSOA', ...  Pirapetinga  \n",
      "2  {'start': 0, 'end': 4, 'label': 'VALOR_MONETAR...  Pirapetinga  \n",
      "3  {'start': 4, 'end': 8, 'label': 'VALOR_MONETAR...  Pirapetinga  \n",
      "4  {'start': 8, 'end': 12, 'label': 'VALOR_MONETA...  Pirapetinga  \n",
      "ribeirao-vermelho/\n"
     ]
    },
    {
     "data": {
      "application/vnd.jupyter.widget-view+json": {
       "model_id": "cc5da681a6b6400baca94e01598b0ebd",
       "version_major": 2,
       "version_minor": 0
      },
      "text/plain": [
       "Ribeirao-vermelho:   0%|          | 0/684 [00:00<?, ?it/s]"
      ]
     },
     "metadata": {},
     "output_type": "display_data"
    },
    {
     "name": "stdout",
     "output_type": "stream",
     "text": [
      "                                             Arquivo  \\\n",
      "0  /dados01/workspace/ufmg.f01dcc/m03/business_un...   \n",
      "1  /dados01/workspace/ufmg.f01dcc/m03/business_un...   \n",
      "2  /dados01/workspace/ufmg.f01dcc/m03/business_un...   \n",
      "3  /dados01/workspace/ufmg.f01dcc/m03/business_un...   \n",
      "4  /dados01/workspace/ufmg.f01dcc/m03/business_un...   \n",
      "\n",
      "                                            Entities         Município_  \n",
      "0  {'start': 11, 'end': 252, 'label': 'LEGISLACAO...  Ribeirao-vermelho  \n",
      "1  {'start': 37, 'end': 45, 'label': 'TEMPO', 'en...  Ribeirao-vermelho  \n",
      "2  {'start': 62, 'end': 70, 'label': 'TEMPO', 'en...  Ribeirao-vermelho  \n",
      "3  {'start': 75, 'end': 114, 'label': 'ORGANIZACA...  Ribeirao-vermelho  \n",
      "4  {'start': 128, 'end': 148, 'label': 'PESSOA', ...  Ribeirao-vermelho  \n",
      "sao-bento-abade/\n"
     ]
    },
    {
     "data": {
      "application/vnd.jupyter.widget-view+json": {
       "model_id": "4f5806cf7afe49dbae437c78115076ab",
       "version_major": 2,
       "version_minor": 0
      },
      "text/plain": [
       "São Bento Abade:   0%|          | 0/232 [00:00<?, ?it/s]"
      ]
     },
     "metadata": {},
     "output_type": "display_data"
    },
    {
     "name": "stdout",
     "output_type": "stream",
     "text": [
      "                                             Arquivo  \\\n",
      "0  /dados01/workspace/ufmg.f01dcc/m03/business_un...   \n",
      "1  /dados01/workspace/ufmg.f01dcc/m03/business_un...   \n",
      "2  /dados01/workspace/ufmg.f01dcc/m03/business_un...   \n",
      "3  /dados01/workspace/ufmg.f01dcc/m03/business_un...   \n",
      "4  /dados01/workspace/ufmg.f01dcc/m03/business_un...   \n",
      "\n",
      "                                            Entities       Município_  \n",
      "0  {'start': 29, 'end': 40, 'label': 'PESSOA', 'e...  São Bento Abade  \n",
      "1  {'start': 58, 'end': 62, 'label': 'TEMPO', 'en...  São Bento Abade  \n",
      "2  {'start': 162, 'end': 170, 'label': 'TEMPO', '...  São Bento Abade  \n",
      "3  {'start': 341, 'end': 356, 'label': 'PESSOA', ...  São Bento Abade  \n",
      "4  {'start': 358, 'end': 382, 'label': 'PESSOA', ...  São Bento Abade  \n"
     ]
    }
   ],
   "source": [
    "folder = '/dados01/workspace/ufmg.f01dcc/m03/business_understanding/data/NER_results/'\n",
    "for file_path, file_city in paths:\n",
    "    print(file_path)\n",
    "    all_files = glob.glob(folder + file_path + \"*.json\")\n",
    "\n",
    "    li = []\n",
    "    for filename in tqdm(all_files, total=len(all_files), desc=file_city):\n",
    "        df = pd.DataFrame(columns=['Arquivo', 'Entities', 'Município_'])\n",
    "        #try:\n",
    "        # df = pd.read_csv(filename, header=None, encoding='utf-8')\n",
    "        # Reading from file\n",
    "        #print(filename)\n",
    "        #df = pd.read_json(filename)\n",
    "        # Opening JSON file\n",
    "        f = open(filename,\"r\")\n",
    "\n",
    "        # returns JSON object as\n",
    "        # a dictionary\n",
    "        dict_df = json.load(f)\n",
    "        \n",
    "        f.close()\n",
    "        #print(dict_df[\"entities\"])\n",
    "        part_1 = folder\n",
    "        part_2 = file_path.replace('/', '\\\\')\n",
    "        df['Entities'] = dict_df[\"entities\"]\n",
    "        df['Arquivo'] = filename.replace(f'{part_1}{part_2}', '').replace('.json.csv', '')\n",
    "        df['Município_'] = file_city\n",
    "        li.append(df)\n",
    "        '''except:\n",
    "            print(\">> Erro ao ler o arquivo!\")\n",
    "            continue'''\n",
    "    \n",
    "    frame = pd.concat(li, axis=0, ignore_index=True)\n",
    "    print(frame.head())\n",
    "    frame.columns =['Arquivo', 'Entities', 'Município_']\n",
    "    frame.to_csv(f'/dados01/workspace/ufmg.f01dcc/m03/business_understanding/data/NER_results/licitacao/{file_city}_licitacao.csv', sep=',', encoding='utf-8', index=False)"
   ]
  },
  {
   "cell_type": "code",
   "execution_count": null,
   "metadata": {},
   "outputs": [],
   "source": []
  }
 ],
 "metadata": {
  "kernelspec": {
   "display_name": "Python 3",
   "language": "python",
   "name": "python3"
  },
  "language_info": {
   "codemirror_mode": {
    "name": "ipython",
    "version": 3
   },
   "file_extension": ".py",
   "mimetype": "text/x-python",
   "name": "python",
   "nbconvert_exporter": "python",
   "pygments_lexer": "ipython3",
   "version": "3.7.6"
  }
 },
 "nbformat": 4,
 "nbformat_minor": 4
}
