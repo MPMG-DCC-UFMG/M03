{
 "cells": [
  {
   "cell_type": "code",
   "execution_count": 1,
   "metadata": {},
   "outputs": [],
   "source": [
    "import pandas as pd\n",
    "import json\n",
    "from collections import defaultdict"
   ]
  },
  {
   "cell_type": "code",
   "execution_count": 2,
   "metadata": {},
   "outputs": [],
   "source": [
    "cities_tables = defaultdict(list)\n",
    "with open('../../data/tabelas/tabelas_atas_v3.json') as file:\n",
    "    ata_files = json.load(file)\n",
    "    for city, files in ata_files.items():\n",
    "        for file in files:\n",
    "            cities_tables[city].append(file['id'].split('.')[0])\n",
    "\n",
    "sicom_result = pd.read_csv('../../data/tabelas/atas_sicom.csv')\n",
    "# sicom_result['index'] = sicom_result[['nome_cidade_show', 'ano_referencia', 'num_processo']].apply(lambda row: '/'.join(row.values.astype(str)), axis=1)\n",
    "# sicom_result.set_index('index', inplace=True)"
   ]
  },
  {
   "cell_type": "code",
   "execution_count": 3,
   "metadata": {},
   "outputs": [],
   "source": [
    "def get_process_num_year(info):\n",
    "    num, year = info.split('/')\n",
    "    return str(int(num)), year"
   ]
  },
  {
   "cell_type": "code",
   "execution_count": 4,
   "metadata": {},
   "outputs": [
    {
     "name": "stdout",
     "output_type": "stream",
     "text": [
      "## arantina ##\n",
      "Total de arquivos de lances: 220\n",
      "Total de atas com tabelas: 0\n",
      "Total de atas com lances: 0 (0%)\n",
      "## coqueiral ##\n",
      "Total de arquivos de lances: 390\n",
      "Total de atas com tabelas: 295\n",
      "Total de atas com lances: 4 (1.36%)\n",
      "## cristais ##\n",
      "Total de arquivos de lances: 286\n",
      "Total de atas com tabelas: 356\n",
      "Total de atas com lances: 3 (0.84%)\n",
      "## ijaci ##\n",
      "Total de arquivos de lances: 176\n",
      "Total de atas com tabelas: 0\n",
      "Total de atas com lances: 0 (0%)\n",
      "## olaria ##\n",
      "Total de arquivos de lances: 15\n",
      "Total de atas com tabelas: 0\n",
      "Total de atas com lances: 0 (0%)\n",
      "## passa-vinte ##\n",
      "Total de arquivos de lances: 50\n",
      "Total de atas com tabelas: 7\n",
      "Total de atas com lances: 1 (14.29%)\n",
      "## pirapetinga ##\n",
      "Total de arquivos de lances: 162\n",
      "Total de atas com tabelas: 67\n",
      "Total de atas com lances: 3 (4.48%)\n",
      "## sao-bento-abade ##\n",
      "Total de arquivos de lances: 139\n",
      "Total de atas com tabelas: 47\n",
      "Total de atas com lances: 2 (4.26%)\n"
     ]
    }
   ],
   "source": [
    "cities = ['arantina', 'coqueiral', 'cristais', 'ijaci', 'olaria', 'passa-vinte', 'pirapetinga', 'sao-bento-abade']\n",
    "# cities = ['coqueiral']\n",
    "file_paths = [f'../../data/resultado_processo_licitatorio/{city}.csv' for city in cities]\n",
    "cities_atas = defaultdict(lambda: defaultdict(list))\n",
    "for path in file_paths:\n",
    "    city = path.split('/')[-1].split('.')[0]\n",
    "    print(f'## {city} ##')\n",
    "    df = pd.read_csv(path)\n",
    "    df['arquivos'] = df['arquivos'].str.split(',')\n",
    "    print(f'Total de arquivos de lances:', df.shape[0])\n",
    "    print(f'Total de atas com tabelas:', len(cities_tables[city]))\n",
    "    count = 0\n",
    "    for num_process, row in df.iterrows():\n",
    "        files = []\n",
    "        for file in row['arquivos']:\n",
    "            if file in cities_tables[city]:\n",
    "                files.append(file)\n",
    "                \n",
    "        if len(files) > 0:\n",
    "            num, year = get_process_num_year(row['no. licitação'])\n",
    "            cities_atas[city][year].append((num, files))\n",
    "\n",
    "    if len(cities_tables[city]) > 0:\n",
    "        print(f'Total de atas com lances: {len(cities_atas[city])} ({round((len(cities_atas[city])/len(cities_tables[city]))*100, 2)}%)')\n",
    "    else:\n",
    "        print(f'Total de atas com lances: {len(cities_atas[city])} (0%)')"
   ]
  },
  {
   "cell_type": "code",
   "execution_count": 5,
   "metadata": {},
   "outputs": [
    {
     "data": {
      "text/plain": [
       "Index(['ano_referencia', 'num_processo', 'metadata_arquivo_linha',\n",
       "       'id_julgamento', 'id_item_licitacao', 'id_licitacao', 'id_orgao',\n",
       "       'cod_orgao', 'nome_orgao_show', 'cod_nome_tipo_orgao_show',\n",
       "       'nome_tipo_orgao_show', 'nome_regiaoplanejamento_show', 'ano_exercicio',\n",
       "       'mes_licitacao', 'num_lote_raw', 'num_lote_show', 'nome_lote_raw',\n",
       "       'nome_lote_show', 'num_item_raw', 'num_item_show', 'nome_item_raw',\n",
       "       'nome_item_show', 'vlr_unitario_raw', 'vlr_unitario_show',\n",
       "       'num_quant_item_raw', 'num_quant_item_show', 'vlr_perc_desconto_raw',\n",
       "       'vlr_perc_desconto_show', 'vlr_perc_taxa_adm_raw',\n",
       "       'vlr_perc_taxa_adm_show', 'vlr_global_raw', 'vlr_global_show',\n",
       "       'dsc_ind_desonera_folha_raw', 'dsc_ind_desonera_folha_show',\n",
       "       'cod_ibge_municipio', 'num_cpf_cnpj_municipio', 'cod_siafi',\n",
       "       'nome_cidade_show', 'ibge_microrregiao_id_microrregiao',\n",
       "       'nome_microrregiao_show', 'ibge_mesorregiao_id_mesorregiao',\n",
       "       'nome_mesorregiao_show', 'ibge_regiao_imediata_id_regiao_imediata',\n",
       "       'nome_regiao_imediata_show',\n",
       "       'ibge_regiao_intermediaria_id_regiao_intermediaria',\n",
       "       'nome_regiao_intermediaria_show', 'id_uf', 'sigla_uf', 'longitude',\n",
       "       'latitude', 'num_versao_arq', 'ano_arquivo', 'metadata_data_referencia',\n",
       "       'metadata_arquivo_original_zip',\n",
       "       'metadata_arquivo_original_zip_md5hash', 'metadata_arquivo_original',\n",
       "       'metadata_arquivo_original_linha', 'metadata_arquivo',\n",
       "       'metadata_data_ingestao'],\n",
       "      dtype='object')"
      ]
     },
     "execution_count": 5,
     "metadata": {},
     "output_type": "execute_result"
    }
   ],
   "source": [
    "sicom_result.columns"
   ]
  },
  {
   "cell_type": "code",
   "execution_count": 12,
   "metadata": {},
   "outputs": [
    {
     "name": "stdout",
     "output_type": "stream",
     "text": [
      "## ARANTINA ##\n",
      "## COQUEIRAL ##\n",
      "## CRISTAIS ##\n",
      "## IJACI ##\n",
      "## OLARIA ##\n",
      "## PASSA VINTE ##\n",
      "## PIRAPETINGA ##\n",
      "## SAO BENTO ABADE ##\n"
     ]
    },
    {
     "data": {
      "text/plain": [
       "\"select DISTINCT A.num_processo from dataset_v2.sicom_20210109_licitacao as A join dataset_v2.sicom_20210109_licitacao_julgamento as B on A.id_licitacao = B.id_licitacao where (A.ano_referencia = '2017' and A.nome_cidade_show = 'COQUEIRAL' and A.num_processo IN ('132',)) or (A.ano_referencia = '2018' and A.nome_cidade_show = 'COQUEIRAL' and A.num_processo IN ('15', '55', '86', '87', '106', '119', '122', '126', '135', '139', '143', '144', '150', '156', '161', '172', '180', '187', '201')) or (A.ano_referencia = '2019' and A.nome_cidade_show = 'COQUEIRAL' and A.num_processo IN ('6', '8', '11', '35', '48', '60', '63', '80', '96', '108', '112')) or (A.ano_referencia = '2020' and A.nome_cidade_show = 'COQUEIRAL' and A.num_processo IN ('2', '19', '27', '31', '43', '82', '85', '86', '87', '88', '102', '107')) or (A.ano_referencia = '2015' and A.nome_cidade_show = 'CRISTAIS' and A.num_processo IN ('32',)) or (A.ano_referencia = '2016' and A.nome_cidade_show = 'CRISTAIS' and A.num_processo IN ('15', '19')) or (A.ano_referencia = '2017' and A.nome_cidade_show = 'CRISTAIS' and A.num_processo IN ('3', '5', '6')) or (A.ano_referencia = '2020' and A.nome_cidade_show = 'PASSA VINTE' and A.num_processo IN ('67',)) or (A.ano_referencia = '2018' and A.nome_cidade_show = 'PIRAPETINGA' and A.num_processo IN ('77', '88')) or (A.ano_referencia = '2019' and A.nome_cidade_show = 'PIRAPETINGA' and A.num_processo IN ('15', '22')) or (A.ano_referencia = '2020' and A.nome_cidade_show = 'PIRAPETINGA' and A.num_processo IN ('7', '17', '58')) or (A.ano_referencia = '2019' and A.nome_cidade_show = 'SAO BENTO ABADE' and A.num_processo IN ('60', '62')) or (A.ano_referencia = '2020' and A.nome_cidade_show = 'SAO BENTO ABADE' and A.num_processo IN ('2', '3', '4', '44', '60', '61', '62', '64', '74')) or \""
      ]
     },
     "execution_count": 12,
     "metadata": {},
     "output_type": "execute_result"
    }
   ],
   "source": [
    "query_base = str(\"select DISTINCT A.num_processo from dataset_v2.sicom_20210109_licitacao as A \" \n",
    "            + \"join dataset_v2.sicom_20210109_licitacao_julgamento as B \"\n",
    "            + \"on A.id_licitacao = B.id_licitacao where \")\n",
    "where_clause = str(\"(A.ano_referencia = '_YEAR_' and A.nome_cidade_show = '_CITY_' and A.num_processo IN _PROCESS_LIST_)\")\n",
    "\n",
    "for city, files in cities_atas.items():\n",
    "    city = city.replace('-', ' ').upper()\n",
    "    print(f'## {city} ##')\n",
    "    for year, tuple_list in files.items():\n",
    "        nums = ()\n",
    "        for t in tuple_list:\n",
    "#             print('city: ', city)\n",
    "#             print('year: ', year)\n",
    "#             print('t[0]: ', t[0])\n",
    "#             print('t[1]: ', t[1])\n",
    "#             print(f'{city}/{year}/{t[0]}')\n",
    "            nums += (t[0],)\n",
    "            index = sicom_result[(sicom_result.ano_referencia == int(year)) & \n",
    "                            (sicom_result.nome_cidade_show == city) & \n",
    "                            (sicom_result.num_processo == int(t[0]))].index\n",
    "#             print('index: ', index.values)\n",
    "            sicom_result.at[index, 'files'] = pd.Series(t[1])\n",
    "        query_base += where_clause.replace('_YEAR_', year).replace('_CITY_', city).replace('_PROCESS_LIST_', str(nums)) + ' or '\n",
    "#         print(where_clause.replace('_YEAR_', year).replace('_CITY_', city).replace('_PROCESS_LIST_', str(nums)))\n",
    "#         print('-'*50)\n",
    "query_base"
   ]
  },
  {
   "cell_type": "code",
   "execution_count": 10,
   "metadata": {},
   "outputs": [],
   "source": [
    "sicom_result = sicom_result[['ano_referencia', 'num_processo', 'metadata_arquivo_linha', 'nome_cidade_show', 'files',\n",
    "       'id_julgamento', 'id_item_licitacao', 'id_licitacao', 'id_orgao',\n",
    "       'cod_orgao', 'nome_orgao_show', 'cod_nome_tipo_orgao_show',\n",
    "       'nome_tipo_orgao_show', 'nome_regiaoplanejamento_show', 'ano_exercicio',\n",
    "       'mes_licitacao', 'num_lote_raw', 'num_lote_show', 'nome_lote_raw',\n",
    "       'nome_lote_show', 'num_item_raw', 'num_item_show', 'nome_item_raw',\n",
    "       'nome_item_show', 'vlr_unitario_raw', 'vlr_unitario_show',\n",
    "       'num_quant_item_raw', 'num_quant_item_show', 'vlr_perc_desconto_raw',\n",
    "       'vlr_perc_desconto_show', 'vlr_perc_taxa_adm_raw',\n",
    "       'vlr_perc_taxa_adm_show', 'vlr_global_raw', 'vlr_global_show',\n",
    "       'dsc_ind_desonera_folha_raw', 'dsc_ind_desonera_folha_show',\n",
    "       'cod_ibge_municipio', 'num_cpf_cnpj_municipio', 'cod_siafi',\n",
    "        'ibge_microrregiao_id_microrregiao',\n",
    "       'nome_microrregiao_show', 'ibge_mesorregiao_id_mesorregiao',\n",
    "       'nome_mesorregiao_show', 'ibge_regiao_imediata_id_regiao_imediata',\n",
    "       'nome_regiao_imediata_show',\n",
    "       'ibge_regiao_intermediaria_id_regiao_intermediaria',\n",
    "       'nome_regiao_intermediaria_show', 'id_uf', 'sigla_uf', 'longitude',\n",
    "       'latitude', 'num_versao_arq', 'ano_arquivo', 'metadata_data_referencia',\n",
    "       'metadata_arquivo_original_zip',\n",
    "       'metadata_arquivo_original_zip_md5hash', 'metadata_arquivo_original',\n",
    "       'metadata_arquivo_original_linha', 'metadata_arquivo',\n",
    "       'metadata_data_ingestao']]\n",
    "\n",
    "sicom_result.to_csv('../../data/tabelas/atas_sicom_v2.csv')"
   ]
  },
  {
   "cell_type": "code",
   "execution_count": null,
   "metadata": {},
   "outputs": [],
   "source": []
  },
  {
   "cell_type": "code",
   "execution_count": 13,
   "metadata": {},
   "outputs": [
    {
     "ename": "SyntaxError",
     "evalue": "invalid syntax (<ipython-input-13-e5a7db031225>, line 1)",
     "output_type": "error",
     "traceback": [
      "\u001b[0;36m  File \u001b[0;32m\"<ipython-input-13-e5a7db031225>\"\u001b[0;36m, line \u001b[0;32m1\u001b[0m\n\u001b[0;31m    {'ano_referencia': 'first', 'num_processo': 'first', 'metadata_arquivo_linha',\u001b[0m\n\u001b[0m                                                                                 ^\u001b[0m\n\u001b[0;31mSyntaxError\u001b[0m\u001b[0;31m:\u001b[0m invalid syntax\n"
     ]
    }
   ],
   "source": [
    "{'ano_referencia': 'first', 'num_processo': 'first', 'metadata_arquivo_linha',\n",
    "       'nome_cidade_show', 'files', 'id_julgamento', 'id_item_licitacao',\n",
    "       'id_licitacao', 'id_orgao', 'cod_orgao', 'nome_orgao_show',\n",
    "       'cod_nome_tipo_orgao_show', 'nome_tipo_orgao_show',\n",
    "       'nome_regiaoplanejamento_show', 'ano_exercicio', 'mes_licitacao',\n",
    "       'num_lote_raw', 'num_lote_show', 'nome_lote_raw', 'nome_lote_show',\n",
    "       'num_item_raw', 'num_item_show', 'nome_item_raw', 'nome_item_show',\n",
    "       'vlr_unitario_raw', 'vlr_unitario_show', 'num_quant_item_raw',\n",
    "       'num_quant_item_show', 'vlr_perc_desconto_raw',}\n",
    "sicom_result.columns"
   ]
  },
  {
   "cell_type": "code",
   "execution_count": null,
   "metadata": {},
   "outputs": [],
   "source": []
  }
 ],
 "metadata": {
  "kernelspec": {
   "display_name": "Python 3",
   "language": "python",
   "name": "python3"
  },
  "language_info": {
   "codemirror_mode": {
    "name": "ipython",
    "version": 3
   },
   "file_extension": ".py",
   "mimetype": "text/x-python",
   "name": "python",
   "nbconvert_exporter": "python",
   "pygments_lexer": "ipython3",
   "version": "3.7.6"
  }
 },
 "nbformat": 4,
 "nbformat_minor": 4
}
