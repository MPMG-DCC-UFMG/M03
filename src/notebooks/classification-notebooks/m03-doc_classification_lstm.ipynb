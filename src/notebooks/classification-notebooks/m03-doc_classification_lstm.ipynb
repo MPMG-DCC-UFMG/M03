{
 "cells": [
  {
   "cell_type": "code",
   "execution_count": 44,
   "metadata": {},
   "outputs": [],
   "source": [
    "import json\n",
    "import os\n",
    "import re\n",
    "import os.path as osp\n",
    "import pandas as pd\n",
    "import glob\n",
    "import tqdm\n",
    "##Classe com vários métodos de pre-processamento de texto em português criado pelo grupo F03\n",
    "import utils.preprocessing_portuguese as preprossPT\n",
    "from sklearn.model_selection import train_test_split\n",
    "\n",
    "SEED = 42"
   ]
  },
  {
   "cell_type": "markdown",
   "metadata": {},
   "source": [
    "# Leitura de arquivo contendo labels"
   ]
  },
  {
   "cell_type": "code",
   "execution_count": 2,
   "metadata": {},
   "outputs": [
    {
     "data": {
      "text/html": [
       "<div>\n",
       "<style scoped>\n",
       "    .dataframe tbody tr th:only-of-type {\n",
       "        vertical-align: middle;\n",
       "    }\n",
       "\n",
       "    .dataframe tbody tr th {\n",
       "        vertical-align: top;\n",
       "    }\n",
       "\n",
       "    .dataframe thead th {\n",
       "        text-align: right;\n",
       "    }\n",
       "</style>\n",
       "<table border=\"1\" class=\"dataframe\">\n",
       "  <thead>\n",
       "    <tr style=\"text-align: right;\">\n",
       "      <th></th>\n",
       "      <th>doc_id</th>\n",
       "      <th>final_meta-class</th>\n",
       "      <th>label</th>\n",
       "      <th>label_int</th>\n",
       "    </tr>\n",
       "  </thead>\n",
       "  <tbody>\n",
       "    <tr>\n",
       "      <th>0</th>\n",
       "      <td>499fa518c7724a6e449c509b7d7bc819</td>\n",
       "      <td>ATA</td>\n",
       "      <td>ata dispensa licitacao</td>\n",
       "      <td>0</td>\n",
       "    </tr>\n",
       "    <tr>\n",
       "      <th>1</th>\n",
       "      <td>56a09c5d1d04cc95ada4d68ad22dcbd9</td>\n",
       "      <td>ATA</td>\n",
       "      <td>ata dispensa licitacao</td>\n",
       "      <td>0</td>\n",
       "    </tr>\n",
       "    <tr>\n",
       "      <th>2</th>\n",
       "      <td>6e9f35208290c1130fcccad47b50aa53</td>\n",
       "      <td>ATA</td>\n",
       "      <td>ata dispensa licitacao</td>\n",
       "      <td>0</td>\n",
       "    </tr>\n",
       "    <tr>\n",
       "      <th>3</th>\n",
       "      <td>669c029c5812ec9a31b9c211044157b4</td>\n",
       "      <td>ATA</td>\n",
       "      <td>ata dispensa licitacao</td>\n",
       "      <td>0</td>\n",
       "    </tr>\n",
       "    <tr>\n",
       "      <th>4</th>\n",
       "      <td>a22421dc45d623c9200c7e8fb1e6ca34</td>\n",
       "      <td>ATA</td>\n",
       "      <td>ata dispensa licitacao</td>\n",
       "      <td>0</td>\n",
       "    </tr>\n",
       "  </tbody>\n",
       "</table>\n",
       "</div>"
      ],
      "text/plain": [
       "                             doc_id final_meta-class                   label  \\\n",
       "0  499fa518c7724a6e449c509b7d7bc819              ATA  ata dispensa licitacao   \n",
       "1  56a09c5d1d04cc95ada4d68ad22dcbd9              ATA  ata dispensa licitacao   \n",
       "2  6e9f35208290c1130fcccad47b50aa53              ATA  ata dispensa licitacao   \n",
       "3  669c029c5812ec9a31b9c211044157b4              ATA  ata dispensa licitacao   \n",
       "4  a22421dc45d623c9200c7e8fb1e6ca34              ATA  ata dispensa licitacao   \n",
       "\n",
       "   label_int  \n",
       "0          0  \n",
       "1          0  \n",
       "2          0  \n",
       "3          0  \n",
       "4          0  "
      ]
     },
     "execution_count": 2,
     "metadata": {},
     "output_type": "execute_result"
    }
   ],
   "source": [
    "df_labels = pd.read_csv('./resultado_m03_meta_classes_extraction/relacao_documentos_label_v2.csv')\n",
    "# Mapeia labels em inteiros\n",
    "df_labels['label_int'] = pd.factorize(df_labels['label'])[0]\n",
    "df_labels.head()"
   ]
  },
  {
   "cell_type": "markdown",
   "metadata": {},
   "source": [
    "# Leitura e pré-processamento dos arquivos contendo o texto\n",
    "- Remover endereços de email"
   ]
  },
  {
   "cell_type": "code",
   "execution_count": 3,
   "metadata": {},
   "outputs": [],
   "source": [
    "def limpeza_texto(page_text, city_name):\n",
    "    txt_process = preprossPT.TextPreProcessing()\n",
    "    city_name = city_name.replace(\"_\", \" \")\n",
    "    \n",
    "    page_text = txt_process.remove_person_names(page_text)\n",
    "    \n",
    "    page_text = page_text.lower()\n",
    "    \n",
    "    page_text = txt_process.remove_emails(page_text)\n",
    "\n",
    "    page_text = txt_process.remove_urls(page_text)\n",
    "    \n",
    "    page_text = txt_process.remove_pronouns(page_text)\n",
    "\n",
    "    page_text = txt_process.remove_adverbs(page_text)\n",
    "\n",
    "    page_text = txt_process.remove_special_characters(page_text)\n",
    "\n",
    "    page_text = txt_process.remove_accents(page_text)\n",
    "\n",
    "    page_text = txt_process.remove_stopwords(page_text)\n",
    "\n",
    "    page_text = txt_process.remove_hour(page_text)\n",
    "    # split numbers from letters\n",
    "    page_text = ' '.join(re.split('(\\d+)',page_text))\n",
    "\n",
    "    page_text = txt_process.remove_symbols_from_numbers(page_text)\n",
    "\n",
    "    page_text = txt_process.remove_numbers(page_text)\n",
    "\n",
    "    page_text = txt_process.remove_reduced_or_contracted_words(page_text)\n",
    "    \n",
    "    #Removendo letras sozinhas no texto\n",
    "    #page_text = re.sub(r'(?:^| )\\w(?:$| )', ' ', page_text).strip()\n",
    "    page_text = re.sub(r\"\\b[a-zA-Z]\\b\", \"\", page_text)\n",
    "\n",
    "    page_text = page_text.replace(\"_\",\"\")\n",
    "    \n",
    "    # remove nome do municipio e estado\n",
    "    page_text = page_text.replace(city_name,\"\")\n",
    "    \n",
    "    page_text = page_text.replace('minas gerais',\"\")    \n",
    "    page_text = page_text.replace('prefeitura municipal',\"\")\n",
    "    page_text = page_text.replace('prefeitura',\"\")\n",
    "    \n",
    "    page_text = txt_process.remove_excessive_spaces(page_text)\n",
    "    \n",
    "    return page_text"
   ]
  },
  {
   "cell_type": "code",
   "execution_count": 4,
   "metadata": {},
   "outputs": [],
   "source": [
    "def get_name(directory):\n",
    "    return re.search(\"licitacoes-(.*)/\", directory)[1].replace(\"-\", \"_\")\n",
    "\n",
    "def list_json_files_dir(city_dir, city_name):\n",
    "    if city_name != 'itamarati':\n",
    "        return glob.glob(os.path.join(city_dir, 'data', 'files_json', '*'))\n",
    "    else:\n",
    "        return glob.glob(os.path.join(city_dir, '*', 'data', 'files_json', '*'))\n",
    "\n",
    "def read_files(file_dir):\n",
    "    with open(file_dir) as f:\n",
    "        lines = f.read() # lê o conteúdo (pode ser lido em um stream, se achar necessário)\n",
    "        return json.loads(lines)\n",
    "    \n",
    "def preprocess_text(document, num_pages, city_name):\n",
    "    return [limpeza_texto(page_content, city_name) for page_content in document['text_content'][:4]]\n",
    "\n",
    "def merge_pages(document, num_pages):\n",
    "    # retorna lista onde a cada posicao uma nova pagina e concatenada ao texto\n",
    "    num_pages+=1\n",
    "    return [\" \".join(document['text_preprocessed'][0:num_pages]) for num_pages in range(1,num_pages)]"
   ]
  },
  {
   "cell_type": "code",
   "execution_count": 5,
   "metadata": {
    "scrolled": true
   },
   "outputs": [
    {
     "name": "stdout",
     "output_type": "stream",
     "text": [
      "----------------------------------------------------------------------------------------------------\n",
      "sao_bento_abade\n"
     ]
    },
    {
     "name": "stderr",
     "output_type": "stream",
     "text": [
      "/dados01/workspace/ufmg.f01dcc/py37/lib/python3.7/site-packages/ipykernel_launcher.py:17: TqdmDeprecationWarning: This function will be removed in tqdm==5.0.0\n",
      "Please use `tqdm.notebook.tqdm` instead of `tqdm.tqdm_notebook`\n"
     ]
    },
    {
     "data": {
      "application/vnd.jupyter.widget-view+json": {
       "model_id": "98c0adc22d45460ca8f9aa2385f94d48",
       "version_major": 2,
       "version_minor": 0
      },
      "text/plain": [
       "HBox(children=(FloatProgress(value=0.0, max=232.0), HTML(value='')))"
      ]
     },
     "metadata": {},
     "output_type": "display_data"
    },
    {
     "name": "stdout",
     "output_type": "stream",
     "text": [
      "\n",
      "----------------------------------------------------------------------------------------------------\n",
      "olaria\n"
     ]
    },
    {
     "data": {
      "application/vnd.jupyter.widget-view+json": {
       "model_id": "3a1c0ff270944ca199b9267af393d0c0",
       "version_major": 2,
       "version_minor": 0
      },
      "text/plain": [
       "HBox(children=(FloatProgress(value=0.0, max=42.0), HTML(value='')))"
      ]
     },
     "metadata": {},
     "output_type": "display_data"
    },
    {
     "name": "stdout",
     "output_type": "stream",
     "text": [
      "\n",
      "----------------------------------------------------------------------------------------------------\n",
      "coqueiral\n"
     ]
    },
    {
     "data": {
      "application/vnd.jupyter.widget-view+json": {
       "model_id": "89a39359407243a2b74e6af4e22e8701",
       "version_major": 2,
       "version_minor": 0
      },
      "text/plain": [
       "HBox(children=(FloatProgress(value=0.0, max=1528.0), HTML(value='')))"
      ]
     },
     "metadata": {},
     "output_type": "display_data"
    },
    {
     "name": "stdout",
     "output_type": "stream",
     "text": [
      "\n",
      "----------------------------------------------------------------------------------------------------\n",
      "cristais\n"
     ]
    },
    {
     "data": {
      "application/vnd.jupyter.widget-view+json": {
       "model_id": "b91caeff0f4e48e99116c7db3d0f9dc7",
       "version_major": 2,
       "version_minor": 0
      },
      "text/plain": [
       "HBox(children=(FloatProgress(value=0.0, max=1736.0), HTML(value='')))"
      ]
     },
     "metadata": {},
     "output_type": "display_data"
    },
    {
     "name": "stdout",
     "output_type": "stream",
     "text": [
      "\n",
      "----------------------------------------------------------------------------------------------------\n",
      "passa_vinte\n"
     ]
    },
    {
     "data": {
      "application/vnd.jupyter.widget-view+json": {
       "model_id": "2aee5b9d7dce47a696588d003da9a6ed",
       "version_major": 2,
       "version_minor": 0
      },
      "text/plain": [
       "HBox(children=(FloatProgress(value=0.0, max=395.0), HTML(value='')))"
      ]
     },
     "metadata": {},
     "output_type": "display_data"
    },
    {
     "name": "stdout",
     "output_type": "stream",
     "text": [
      "\n",
      "----------------------------------------------------------------------------------------------------\n",
      "arantina\n"
     ]
    },
    {
     "data": {
      "application/vnd.jupyter.widget-view+json": {
       "model_id": "1e7a56d440a54e189bd384f72a7dc5cf",
       "version_major": 2,
       "version_minor": 0
      },
      "text/plain": [
       "HBox(children=(FloatProgress(value=0.0, max=937.0), HTML(value='')))"
      ]
     },
     "metadata": {},
     "output_type": "display_data"
    },
    {
     "name": "stdout",
     "output_type": "stream",
     "text": [
      "\n",
      "----------------------------------------------------------------------------------------------------\n",
      "ijaci\n"
     ]
    },
    {
     "data": {
      "application/vnd.jupyter.widget-view+json": {
       "model_id": "6116d81ec7d849d9810aff6014e4c43b",
       "version_major": 2,
       "version_minor": 0
      },
      "text/plain": [
       "HBox(children=(FloatProgress(value=0.0, max=451.0), HTML(value='')))"
      ]
     },
     "metadata": {},
     "output_type": "display_data"
    },
    {
     "name": "stdout",
     "output_type": "stream",
     "text": [
      "\n",
      "----------------------------------------------------------------------------------------------------\n",
      "itamarati\n"
     ]
    },
    {
     "data": {
      "application/vnd.jupyter.widget-view+json": {
       "model_id": "4f1b4176d26e4b048ab4e7e2447274d6",
       "version_major": 2,
       "version_minor": 0
      },
      "text/plain": [
       "HBox(children=(FloatProgress(value=0.0, max=1110.0), HTML(value='')))"
      ]
     },
     "metadata": {},
     "output_type": "display_data"
    },
    {
     "name": "stdout",
     "output_type": "stream",
     "text": [
      "\n",
      "----------------------------------------------------------------------------------------------------\n",
      "ribeirao_vermelho\n"
     ]
    },
    {
     "data": {
      "application/vnd.jupyter.widget-view+json": {
       "model_id": "59059c5803dc470e9e9355d05b3e0491",
       "version_major": 2,
       "version_minor": 0
      },
      "text/plain": [
       "HBox(children=(FloatProgress(value=0.0, max=684.0), HTML(value='')))"
      ]
     },
     "metadata": {},
     "output_type": "display_data"
    },
    {
     "name": "stdout",
     "output_type": "stream",
     "text": [
      "\n",
      "----------------------------------------------------------------------------------------------------\n",
      "pirapetinga\n"
     ]
    },
    {
     "data": {
      "application/vnd.jupyter.widget-view+json": {
       "model_id": "753693e49fa047b09ff71efc077b6a12",
       "version_major": 2,
       "version_minor": 0
      },
      "text/plain": [
       "HBox(children=(FloatProgress(value=0.0, max=1007.0), HTML(value='')))"
      ]
     },
     "metadata": {},
     "output_type": "display_data"
    },
    {
     "name": "stdout",
     "output_type": "stream",
     "text": [
      "\n"
     ]
    }
   ],
   "source": [
    "base_path = \"../data/*licitacoes*/\"\n",
    "cities_dir = glob.glob(base_path)\n",
    "num_pages = 4\n",
    "\n",
    "cities_docs = {}\n",
    "df_document_content = pd.DataFrame(columns=['doc_id', 'city', 'file_dir', 'one_page', 'two_pages', 'three_pages', 'four_pages'])\n",
    "\n",
    "for city_dir in cities_dir:\n",
    "    city_name = get_name(city_dir)\n",
    "    if city_name == \"bh\":\n",
    "        continue\n",
    "    print(\"-\"*100)\n",
    "    print(city_name)\n",
    "    # Lista os arquivos a serem lidos\n",
    "    files_dir = list_json_files_dir(city_dir, city_name)\n",
    "    # Faz a leitura dos arquivos\n",
    "    for file_dir in tqdm.tqdm_notebook(files_dir):\n",
    "        document = read_files(file_dir)\n",
    "        # Verifica se foi possível extrair texto do documento\n",
    "        if document['status'] == 'SUCCESS':\n",
    "            # preprocessamento\n",
    "            document['text_preprocessed'] = preprocess_text(document, num_pages, city_name)\n",
    "            # gera variacoes do texto concatenando 1 a num_pages páginas\n",
    "            page_content = merge_pages(document, num_pages)\n",
    "            # gera linha a ser inserida no dataframe\n",
    "            new_row = [document['file_id'], city_name, file_dir]\n",
    "            new_row.extend(page_content)\n",
    "            # insere nova linha no dataframe\n",
    "            df_document_content.loc[len(df_document_content)] = new_row"
   ]
  },
  {
   "cell_type": "markdown",
   "metadata": {},
   "source": [
    "# Merge entre texto e labels"
   ]
  },
  {
   "cell_type": "code",
   "execution_count": 6,
   "metadata": {
    "scrolled": true
   },
   "outputs": [
    {
     "data": {
      "text/html": [
       "<div>\n",
       "<style scoped>\n",
       "    .dataframe tbody tr th:only-of-type {\n",
       "        vertical-align: middle;\n",
       "    }\n",
       "\n",
       "    .dataframe tbody tr th {\n",
       "        vertical-align: top;\n",
       "    }\n",
       "\n",
       "    .dataframe thead th {\n",
       "        text-align: right;\n",
       "    }\n",
       "</style>\n",
       "<table border=\"1\" class=\"dataframe\">\n",
       "  <thead>\n",
       "    <tr style=\"text-align: right;\">\n",
       "      <th></th>\n",
       "      <th>doc_id</th>\n",
       "      <th>final_meta-class</th>\n",
       "      <th>label</th>\n",
       "      <th>label_int</th>\n",
       "      <th>city</th>\n",
       "      <th>file_dir</th>\n",
       "      <th>one_page</th>\n",
       "      <th>two_pages</th>\n",
       "      <th>three_pages</th>\n",
       "      <th>four_pages</th>\n",
       "    </tr>\n",
       "  </thead>\n",
       "  <tbody>\n",
       "    <tr>\n",
       "      <th>0</th>\n",
       "      <td>499fa518c7724a6e449c509b7d7bc819</td>\n",
       "      <td>ATA</td>\n",
       "      <td>ata dispensa licitacao</td>\n",
       "      <td>0</td>\n",
       "      <td>cristais</td>\n",
       "      <td>../data/290-licitacoes-cristais/data/files_jso...</td>\n",
       "      <td>comissao permanente licitacoes ata dispensa ju...</td>\n",
       "      <td>comissao permanente licitacoes ata dispensa ju...</td>\n",
       "      <td>comissao permanente licitacoes ata dispensa ju...</td>\n",
       "      <td>comissao permanente licitacoes ata dispensa ju...</td>\n",
       "    </tr>\n",
       "    <tr>\n",
       "      <th>1</th>\n",
       "      <td>56a09c5d1d04cc95ada4d68ad22dcbd9</td>\n",
       "      <td>ATA</td>\n",
       "      <td>ata dispensa licitacao</td>\n",
       "      <td>0</td>\n",
       "      <td>cristais</td>\n",
       "      <td>../data/290-licitacoes-cristais/data/files_jso...</td>\n",
       "      <td>comissao permanente licitacoes dia fevereiro r...</td>\n",
       "      <td>comissao permanente licitacoes dia fevereiro r...</td>\n",
       "      <td>comissao permanente licitacoes dia fevereiro r...</td>\n",
       "      <td>comissao permanente licitacoes dia fevereiro r...</td>\n",
       "    </tr>\n",
       "    <tr>\n",
       "      <th>2</th>\n",
       "      <td>6e9f35208290c1130fcccad47b50aa53</td>\n",
       "      <td>ATA</td>\n",
       "      <td>ata dispensa licitacao</td>\n",
       "      <td>0</td>\n",
       "      <td>cristais</td>\n",
       "      <td>../data/290-licitacoes-cristais/data/files_jso...</td>\n",
       "      <td>praca cel centro estado cep pabx cnpj comissa...</td>\n",
       "      <td>praca cel centro estado cep pabx cnpj comissa...</td>\n",
       "      <td>praca cel centro estado cep pabx cnpj comissa...</td>\n",
       "      <td>praca cel centro estado cep pabx cnpj comissa...</td>\n",
       "    </tr>\n",
       "    <tr>\n",
       "      <th>3</th>\n",
       "      <td>669c029c5812ec9a31b9c211044157b4</td>\n",
       "      <td>ATA</td>\n",
       "      <td>ata dispensa licitacao</td>\n",
       "      <td>0</td>\n",
       "      <td>cristais</td>\n",
       "      <td>../data/290-licitacoes-cristais/data/files_jso...</td>\n",
       "      <td>comissao permanente licitacoes dia fevereiro r...</td>\n",
       "      <td>comissao permanente licitacoes dia fevereiro r...</td>\n",
       "      <td>comissao permanente licitacoes dia fevereiro r...</td>\n",
       "      <td>comissao permanente licitacoes dia fevereiro r...</td>\n",
       "    </tr>\n",
       "    <tr>\n",
       "      <th>4</th>\n",
       "      <td>a22421dc45d623c9200c7e8fb1e6ca34</td>\n",
       "      <td>ATA</td>\n",
       "      <td>ata dispensa licitacao</td>\n",
       "      <td>0</td>\n",
       "      <td>cristais</td>\n",
       "      <td>../data/290-licitacoes-cristais/data/files_jso...</td>\n",
       "      <td>comissao permanente licitacoes maio reuniu com...</td>\n",
       "      <td>comissao permanente licitacoes maio reuniu com...</td>\n",
       "      <td>comissao permanente licitacoes maio reuniu com...</td>\n",
       "      <td>comissao permanente licitacoes maio reuniu com...</td>\n",
       "    </tr>\n",
       "  </tbody>\n",
       "</table>\n",
       "</div>"
      ],
      "text/plain": [
       "                             doc_id final_meta-class                   label  \\\n",
       "0  499fa518c7724a6e449c509b7d7bc819              ATA  ata dispensa licitacao   \n",
       "1  56a09c5d1d04cc95ada4d68ad22dcbd9              ATA  ata dispensa licitacao   \n",
       "2  6e9f35208290c1130fcccad47b50aa53              ATA  ata dispensa licitacao   \n",
       "3  669c029c5812ec9a31b9c211044157b4              ATA  ata dispensa licitacao   \n",
       "4  a22421dc45d623c9200c7e8fb1e6ca34              ATA  ata dispensa licitacao   \n",
       "\n",
       "   label_int      city                                           file_dir  \\\n",
       "0          0  cristais  ../data/290-licitacoes-cristais/data/files_jso...   \n",
       "1          0  cristais  ../data/290-licitacoes-cristais/data/files_jso...   \n",
       "2          0  cristais  ../data/290-licitacoes-cristais/data/files_jso...   \n",
       "3          0  cristais  ../data/290-licitacoes-cristais/data/files_jso...   \n",
       "4          0  cristais  ../data/290-licitacoes-cristais/data/files_jso...   \n",
       "\n",
       "                                            one_page  \\\n",
       "0  comissao permanente licitacoes ata dispensa ju...   \n",
       "1  comissao permanente licitacoes dia fevereiro r...   \n",
       "2   praca cel centro estado cep pabx cnpj comissa...   \n",
       "3  comissao permanente licitacoes dia fevereiro r...   \n",
       "4  comissao permanente licitacoes maio reuniu com...   \n",
       "\n",
       "                                           two_pages  \\\n",
       "0  comissao permanente licitacoes ata dispensa ju...   \n",
       "1  comissao permanente licitacoes dia fevereiro r...   \n",
       "2   praca cel centro estado cep pabx cnpj comissa...   \n",
       "3  comissao permanente licitacoes dia fevereiro r...   \n",
       "4  comissao permanente licitacoes maio reuniu com...   \n",
       "\n",
       "                                         three_pages  \\\n",
       "0  comissao permanente licitacoes ata dispensa ju...   \n",
       "1  comissao permanente licitacoes dia fevereiro r...   \n",
       "2   praca cel centro estado cep pabx cnpj comissa...   \n",
       "3  comissao permanente licitacoes dia fevereiro r...   \n",
       "4  comissao permanente licitacoes maio reuniu com...   \n",
       "\n",
       "                                          four_pages  \n",
       "0  comissao permanente licitacoes ata dispensa ju...  \n",
       "1  comissao permanente licitacoes dia fevereiro r...  \n",
       "2   praca cel centro estado cep pabx cnpj comissa...  \n",
       "3  comissao permanente licitacoes dia fevereiro r...  \n",
       "4  comissao permanente licitacoes maio reuniu com...  "
      ]
     },
     "execution_count": 6,
     "metadata": {},
     "output_type": "execute_result"
    }
   ],
   "source": [
    "df_data = pd.merge(left=df_labels, right=df_document_content, on='doc_id')\n",
    "df_data.head()"
   ]
  },
  {
   "cell_type": "markdown",
   "metadata": {},
   "source": [
    "# Separa dados em Treino, Validação e Teste"
   ]
  },
  {
   "cell_type": "code",
   "execution_count": 7,
   "metadata": {},
   "outputs": [],
   "source": [
    "folds_size = {\n",
    "    'train' : [0.7],\n",
    "    'val' : [0.2],\n",
    "    'test' : [0.1],\n",
    "}\n",
    "\n",
    "def calc_real_fold_size(folds_size, labels_df):\n",
    "    \"\"\"\n",
    "    Calculates the real size of each fold.\n",
    "    \"\"\"\n",
    "    num_docs = labels_df.shape[0]\n",
    "    folds_size['train'].append(round(folds_size['train'][0] * num_docs))\n",
    "    folds_size['test'].append(round(folds_size['test'][0] * num_docs))\n",
    "    folds_size['val'].append(round(folds_size['val'][0] * num_docs))\n",
    "    \n",
    "    assert num_docs == (folds_size['train'][1] + folds_size['test'][1] + folds_size['val'][1]), \"Folds size sum ({}) are different from num_docs ({})\".format((folds_size['train'][1] + folds_size['test'][1] + folds_size['val'][1]),\n",
    "    num_docs)\n",
    "    \n",
    "    return folds_size\n",
    "\n",
    "def split_data(folds_size, labels_df):\n",
    "    \"\"\"\n",
    "    Split data roundo train/val/test folds in a stratified way.\n",
    "    Input:\n",
    "        - args: parsed arguments\n",
    "        - labels_df: dataframe containing images code and their labels\n",
    "    Output:\n",
    "        - labels_df: same as input with a new flag porounding images fold\n",
    "    \"\"\"\n",
    "    test_size = folds_size['test'][1]\n",
    "    val_size = folds_size['val'] [1]\n",
    "    # First we split test fold\n",
    "    train, test, _, _ = train_test_split(\n",
    "        labels_df,\n",
    "        labels_df['label_int'],\n",
    "        test_size=test_size,\n",
    "        random_state=SEED,\n",
    "        stratify=labels_df['label_int'],\n",
    "    )\n",
    "    # Now we split train and val folds\n",
    "    train, val, _, _ = train_test_split(\n",
    "        train,\n",
    "        train['label_int'],\n",
    "        test_size=val_size,\n",
    "        random_state=SEED,\n",
    "        stratify=train['label_int'],\n",
    "    )\n",
    "\n",
    "    # Set folds\n",
    "    labels_df[\"fold\"] = \"train\"\n",
    "    labels_df.loc[test.index, \"fold\"] = \"test\"\n",
    "    labels_df.loc[val.index, \"fold\"] = \"val\"\n",
    "\n",
    "    return labels_df"
   ]
  },
  {
   "cell_type": "code",
   "execution_count": 8,
   "metadata": {},
   "outputs": [
    {
     "data": {
      "text/html": [
       "<div>\n",
       "<style scoped>\n",
       "    .dataframe tbody tr th:only-of-type {\n",
       "        vertical-align: middle;\n",
       "    }\n",
       "\n",
       "    .dataframe tbody tr th {\n",
       "        vertical-align: top;\n",
       "    }\n",
       "\n",
       "    .dataframe thead th {\n",
       "        text-align: right;\n",
       "    }\n",
       "</style>\n",
       "<table border=\"1\" class=\"dataframe\">\n",
       "  <thead>\n",
       "    <tr style=\"text-align: right;\">\n",
       "      <th></th>\n",
       "      <th>doc_id</th>\n",
       "      <th>final_meta-class</th>\n",
       "      <th>label</th>\n",
       "      <th>label_int</th>\n",
       "      <th>city</th>\n",
       "      <th>file_dir</th>\n",
       "      <th>one_page</th>\n",
       "      <th>two_pages</th>\n",
       "      <th>three_pages</th>\n",
       "      <th>four_pages</th>\n",
       "      <th>fold</th>\n",
       "    </tr>\n",
       "  </thead>\n",
       "  <tbody>\n",
       "    <tr>\n",
       "      <th>0</th>\n",
       "      <td>499fa518c7724a6e449c509b7d7bc819</td>\n",
       "      <td>ATA</td>\n",
       "      <td>ata dispensa licitacao</td>\n",
       "      <td>0</td>\n",
       "      <td>cristais</td>\n",
       "      <td>../data/290-licitacoes-cristais/data/files_jso...</td>\n",
       "      <td>comissao permanente licitacoes ata dispensa ju...</td>\n",
       "      <td>comissao permanente licitacoes ata dispensa ju...</td>\n",
       "      <td>comissao permanente licitacoes ata dispensa ju...</td>\n",
       "      <td>comissao permanente licitacoes ata dispensa ju...</td>\n",
       "      <td>val</td>\n",
       "    </tr>\n",
       "    <tr>\n",
       "      <th>1</th>\n",
       "      <td>56a09c5d1d04cc95ada4d68ad22dcbd9</td>\n",
       "      <td>ATA</td>\n",
       "      <td>ata dispensa licitacao</td>\n",
       "      <td>0</td>\n",
       "      <td>cristais</td>\n",
       "      <td>../data/290-licitacoes-cristais/data/files_jso...</td>\n",
       "      <td>comissao permanente licitacoes dia fevereiro r...</td>\n",
       "      <td>comissao permanente licitacoes dia fevereiro r...</td>\n",
       "      <td>comissao permanente licitacoes dia fevereiro r...</td>\n",
       "      <td>comissao permanente licitacoes dia fevereiro r...</td>\n",
       "      <td>test</td>\n",
       "    </tr>\n",
       "    <tr>\n",
       "      <th>2</th>\n",
       "      <td>6e9f35208290c1130fcccad47b50aa53</td>\n",
       "      <td>ATA</td>\n",
       "      <td>ata dispensa licitacao</td>\n",
       "      <td>0</td>\n",
       "      <td>cristais</td>\n",
       "      <td>../data/290-licitacoes-cristais/data/files_jso...</td>\n",
       "      <td>praca cel centro estado cep pabx cnpj comissa...</td>\n",
       "      <td>praca cel centro estado cep pabx cnpj comissa...</td>\n",
       "      <td>praca cel centro estado cep pabx cnpj comissa...</td>\n",
       "      <td>praca cel centro estado cep pabx cnpj comissa...</td>\n",
       "      <td>val</td>\n",
       "    </tr>\n",
       "    <tr>\n",
       "      <th>3</th>\n",
       "      <td>669c029c5812ec9a31b9c211044157b4</td>\n",
       "      <td>ATA</td>\n",
       "      <td>ata dispensa licitacao</td>\n",
       "      <td>0</td>\n",
       "      <td>cristais</td>\n",
       "      <td>../data/290-licitacoes-cristais/data/files_jso...</td>\n",
       "      <td>comissao permanente licitacoes dia fevereiro r...</td>\n",
       "      <td>comissao permanente licitacoes dia fevereiro r...</td>\n",
       "      <td>comissao permanente licitacoes dia fevereiro r...</td>\n",
       "      <td>comissao permanente licitacoes dia fevereiro r...</td>\n",
       "      <td>val</td>\n",
       "    </tr>\n",
       "    <tr>\n",
       "      <th>4</th>\n",
       "      <td>a22421dc45d623c9200c7e8fb1e6ca34</td>\n",
       "      <td>ATA</td>\n",
       "      <td>ata dispensa licitacao</td>\n",
       "      <td>0</td>\n",
       "      <td>cristais</td>\n",
       "      <td>../data/290-licitacoes-cristais/data/files_jso...</td>\n",
       "      <td>comissao permanente licitacoes maio reuniu com...</td>\n",
       "      <td>comissao permanente licitacoes maio reuniu com...</td>\n",
       "      <td>comissao permanente licitacoes maio reuniu com...</td>\n",
       "      <td>comissao permanente licitacoes maio reuniu com...</td>\n",
       "      <td>train</td>\n",
       "    </tr>\n",
       "  </tbody>\n",
       "</table>\n",
       "</div>"
      ],
      "text/plain": [
       "                             doc_id final_meta-class                   label  \\\n",
       "0  499fa518c7724a6e449c509b7d7bc819              ATA  ata dispensa licitacao   \n",
       "1  56a09c5d1d04cc95ada4d68ad22dcbd9              ATA  ata dispensa licitacao   \n",
       "2  6e9f35208290c1130fcccad47b50aa53              ATA  ata dispensa licitacao   \n",
       "3  669c029c5812ec9a31b9c211044157b4              ATA  ata dispensa licitacao   \n",
       "4  a22421dc45d623c9200c7e8fb1e6ca34              ATA  ata dispensa licitacao   \n",
       "\n",
       "   label_int      city                                           file_dir  \\\n",
       "0          0  cristais  ../data/290-licitacoes-cristais/data/files_jso...   \n",
       "1          0  cristais  ../data/290-licitacoes-cristais/data/files_jso...   \n",
       "2          0  cristais  ../data/290-licitacoes-cristais/data/files_jso...   \n",
       "3          0  cristais  ../data/290-licitacoes-cristais/data/files_jso...   \n",
       "4          0  cristais  ../data/290-licitacoes-cristais/data/files_jso...   \n",
       "\n",
       "                                            one_page  \\\n",
       "0  comissao permanente licitacoes ata dispensa ju...   \n",
       "1  comissao permanente licitacoes dia fevereiro r...   \n",
       "2   praca cel centro estado cep pabx cnpj comissa...   \n",
       "3  comissao permanente licitacoes dia fevereiro r...   \n",
       "4  comissao permanente licitacoes maio reuniu com...   \n",
       "\n",
       "                                           two_pages  \\\n",
       "0  comissao permanente licitacoes ata dispensa ju...   \n",
       "1  comissao permanente licitacoes dia fevereiro r...   \n",
       "2   praca cel centro estado cep pabx cnpj comissa...   \n",
       "3  comissao permanente licitacoes dia fevereiro r...   \n",
       "4  comissao permanente licitacoes maio reuniu com...   \n",
       "\n",
       "                                         three_pages  \\\n",
       "0  comissao permanente licitacoes ata dispensa ju...   \n",
       "1  comissao permanente licitacoes dia fevereiro r...   \n",
       "2   praca cel centro estado cep pabx cnpj comissa...   \n",
       "3  comissao permanente licitacoes dia fevereiro r...   \n",
       "4  comissao permanente licitacoes maio reuniu com...   \n",
       "\n",
       "                                          four_pages   fold  \n",
       "0  comissao permanente licitacoes ata dispensa ju...    val  \n",
       "1  comissao permanente licitacoes dia fevereiro r...   test  \n",
       "2   praca cel centro estado cep pabx cnpj comissa...    val  \n",
       "3  comissao permanente licitacoes dia fevereiro r...    val  \n",
       "4  comissao permanente licitacoes maio reuniu com...  train  "
      ]
     },
     "execution_count": 8,
     "metadata": {},
     "output_type": "execute_result"
    }
   ],
   "source": [
    "# Faz a separação dos dados\n",
    "folds_size = calc_real_fold_size(folds_size, df_data)\n",
    "df_data = split_data(folds_size, df_data)\n",
    "df_data.head()"
   ]
  },
  {
   "cell_type": "markdown",
   "metadata": {},
   "source": [
    "# Filtra termos por IDF\n",
    "- Paralelizar"
   ]
  },
  {
   "cell_type": "code",
   "execution_count": 46,
   "metadata": {},
   "outputs": [],
   "source": [
    "from sklearn.feature_extraction.text import TfidfVectorizer\n",
    "import numpy as np\n",
    "import time\n",
    "import multiprocessing as mp"
   ]
  },
  {
   "cell_type": "code",
   "execution_count": 10,
   "metadata": {
    "scrolled": true
   },
   "outputs": [
    {
     "name": "stdout",
     "output_type": "stream",
     "text": [
      "time consuming after Parallel Processing to process the Dataset 44.72s\n"
     ]
    }
   ],
   "source": [
    "def filter_data(document_text):\n",
    "    document_text = document_text.split(\" \")\n",
    "    document_text = [term for term in document_text if term in idf_terms_to_keep]        \n",
    "    return \" \".join(document_text)\n",
    "\n",
    "\n",
    "vectorizer = TfidfVectorizer()\n",
    "# Calcula tfidf\n",
    "vectorizer.fit(df_data.loc[df_data['fold'] == 'train', 'four_pages'].values)\n",
    "# extrai idf\n",
    "idf_values = vectorizer.idf_\n",
    "idf_terms = vectorizer.get_feature_names()\n",
    "# define termos a serem filtrados\n",
    "index_idf_to_keep = np.nonzero(idf_values < 8)[0].tolist()\n",
    "idf_values_to_keep = [idf_values[i] for i in index_idf_to_keep]\n",
    "idf_terms_to_keep = [idf_terms[i] for i in index_idf_to_keep]\n",
    "\n",
    "# Filtra termos\n",
    "p = mp.Pool(mp.cpu_count()) # Data parallelism Object\n",
    "t3 = time.time()\n",
    "df_data['four_pages_processed'] = p.map(filter_data, df_data['four_pages'])\n",
    "t4 = time.time()\n",
    "print(\"time consuming after Parallel Processing to process the Dataset {0:.2f}s\".format(round(t4-t3, 2)))\n",
    "# Armazena base processada\n",
    "df_data.to_csv(\"lstm_data/preprocessed_data_v2.csv\", index=False)"
   ]
  },
  {
   "cell_type": "markdown",
   "metadata": {},
   "source": [
    "# LSTM Model"
   ]
  },
  {
   "cell_type": "code",
   "execution_count": 1,
   "metadata": {},
   "outputs": [],
   "source": [
    "#library imports\n",
    "import torch\n",
    "import torch.nn as nn\n",
    "import pandas as pd\n",
    "import numpy as np\n",
    "import re\n",
    "import spacy\n",
    "from collections import Counter\n",
    "from torch.utils.data import Dataset, DataLoader\n",
    "import torch.nn.functional as F\n",
    "import string\n",
    "from torch.nn.utils.rnn import pack_padded_sequence, pad_packed_sequence\n",
    "from sklearn.metrics import mean_squared_error\n",
    "import tqdm\n",
    "import random\n",
    "from sklearn.metrics import f1_score, accuracy_score\n",
    "import copy\n",
    "SEED = 42"
   ]
  },
  {
   "cell_type": "code",
   "execution_count": 2,
   "metadata": {},
   "outputs": [],
   "source": [
    "def set_seed(seed):\n",
    "    torch.manual_seed(seed)\n",
    "    torch.cuda.manual_seed(seed)\n",
    "    torch.backends.cudnn.deterministic = True\n",
    "    np.random.seed(seed)\n",
    "    random.seed(seed)\n",
    "    \n",
    "def tokenize (text):\n",
    "    return [token.text for token in tok.tokenizer(text)]\n",
    "\n",
    "def encode_sentence(text, vocab2index, N=1000):\n",
    "    tokenized = tokenize(text)\n",
    "    encoded = np.zeros(N, dtype=int)\n",
    "    enc1 = np.array([vocab2index.get(word, vocab2index[\"UNK\"]) for word in tokenized])\n",
    "    length = min(N, len(enc1))\n",
    "    encoded[:length] = enc1[:length]\n",
    "    return encoded, length\n",
    "\n",
    "set_seed(SEED)"
   ]
  },
  {
   "cell_type": "code",
   "execution_count": 3,
   "metadata": {},
   "outputs": [],
   "source": [
    "# Read processed data\n",
    "df_data = pd.read_csv(\"lstm_data/preprocessed_data_v2.csv\")\n",
    "#df_data = pd.read_csv(\"lstm_data/preprocessed_data.csv\")"
   ]
  },
  {
   "cell_type": "code",
   "execution_count": 4,
   "metadata": {
    "collapsed": true
   },
   "outputs": [
    {
     "name": "stderr",
     "output_type": "stream",
     "text": [
      "/dados01/workspace/ufmg.f01dcc/py37/lib/python3.7/site-packages/ipykernel_launcher.py:16: VisibleDeprecationWarning: Creating an ndarray from ragged nested sequences (which is a list-or-tuple of lists-or-tuples-or ndarrays with different lengths or shapes) is deprecated. If you meant to do this, you must specify 'dtype=object' when creating the ndarray.\n",
      "  app.launch_new_instance()\n",
      "/dados01/workspace/ufmg.f01dcc/py37/lib/python3.7/site-packages/ipykernel_launcher.py:17: VisibleDeprecationWarning: Creating an ndarray from ragged nested sequences (which is a list-or-tuple of lists-or-tuples-or ndarrays with different lengths or shapes) is deprecated. If you meant to do this, you must specify 'dtype=object' when creating the ndarray.\n",
      "/dados01/workspace/ufmg.f01dcc/py37/lib/python3.7/site-packages/ipykernel_launcher.py:18: VisibleDeprecationWarning: Creating an ndarray from ragged nested sequences (which is a list-or-tuple of lists-or-tuples-or ndarrays with different lengths or shapes) is deprecated. If you meant to do this, you must specify 'dtype=object' when creating the ndarray.\n"
     ]
    },
    {
     "data": {
      "text/html": [
       "<div>\n",
       "<style scoped>\n",
       "    .dataframe tbody tr th:only-of-type {\n",
       "        vertical-align: middle;\n",
       "    }\n",
       "\n",
       "    .dataframe tbody tr th {\n",
       "        vertical-align: top;\n",
       "    }\n",
       "\n",
       "    .dataframe thead th {\n",
       "        text-align: right;\n",
       "    }\n",
       "</style>\n",
       "<table border=\"1\" class=\"dataframe\">\n",
       "  <thead>\n",
       "    <tr style=\"text-align: right;\">\n",
       "      <th></th>\n",
       "      <th>doc_id</th>\n",
       "      <th>final_meta-class</th>\n",
       "      <th>label</th>\n",
       "      <th>label_int</th>\n",
       "      <th>city</th>\n",
       "      <th>file_dir</th>\n",
       "      <th>one_page</th>\n",
       "      <th>two_pages</th>\n",
       "      <th>three_pages</th>\n",
       "      <th>four_pages</th>\n",
       "      <th>fold</th>\n",
       "      <th>four_pages_processed</th>\n",
       "      <th>four_pages_encoded</th>\n",
       "    </tr>\n",
       "  </thead>\n",
       "  <tbody>\n",
       "    <tr>\n",
       "      <th>0</th>\n",
       "      <td>499fa518c7724a6e449c509b7d7bc819</td>\n",
       "      <td>ATA</td>\n",
       "      <td>ata dispensa licitacao</td>\n",
       "      <td>0</td>\n",
       "      <td>cristais</td>\n",
       "      <td>../data/290-licitacoes-cristais/data/files_jso...</td>\n",
       "      <td>comissao permanente licitacoes ata dispensa ju...</td>\n",
       "      <td>comissao permanente licitacoes ata dispensa ju...</td>\n",
       "      <td>comissao permanente licitacoes ata dispensa ju...</td>\n",
       "      <td>comissao permanente licitacoes ata dispensa ju...</td>\n",
       "      <td>val</td>\n",
       "      <td>comissao permanente licitacoes ata dispensa ju...</td>\n",
       "      <td>[[2, 3, 4, 5, 6, 7, 8, 2, 3, 9, 10, 11, 2, 9, ...</td>\n",
       "    </tr>\n",
       "    <tr>\n",
       "      <th>1</th>\n",
       "      <td>56a09c5d1d04cc95ada4d68ad22dcbd9</td>\n",
       "      <td>ATA</td>\n",
       "      <td>ata dispensa licitacao</td>\n",
       "      <td>0</td>\n",
       "      <td>cristais</td>\n",
       "      <td>../data/290-licitacoes-cristais/data/files_jso...</td>\n",
       "      <td>comissao permanente licitacoes dia fevereiro r...</td>\n",
       "      <td>comissao permanente licitacoes dia fevereiro r...</td>\n",
       "      <td>comissao permanente licitacoes dia fevereiro r...</td>\n",
       "      <td>comissao permanente licitacoes dia fevereiro r...</td>\n",
       "      <td>test</td>\n",
       "      <td>comissao permanente licitacoes dia fevereiro r...</td>\n",
       "      <td>[[2, 3, 4, 101, 109, 8, 2, 3, 9, 10, 11, 2, 9,...</td>\n",
       "    </tr>\n",
       "    <tr>\n",
       "      <th>2</th>\n",
       "      <td>6e9f35208290c1130fcccad47b50aa53</td>\n",
       "      <td>ATA</td>\n",
       "      <td>ata dispensa licitacao</td>\n",
       "      <td>0</td>\n",
       "      <td>cristais</td>\n",
       "      <td>../data/290-licitacoes-cristais/data/files_jso...</td>\n",
       "      <td>praca cel centro estado cep pabx cnpj comissa...</td>\n",
       "      <td>praca cel centro estado cep pabx cnpj comissa...</td>\n",
       "      <td>praca cel centro estado cep pabx cnpj comissa...</td>\n",
       "      <td>praca cel centro estado cep pabx cnpj comissa...</td>\n",
       "      <td>val</td>\n",
       "      <td>praca cel centro estado cep pabx cnpj comissao...</td>\n",
       "      <td>[[182, 183, 120, 184, 185, 186, 45, 2, 3, 4, 8...</td>\n",
       "    </tr>\n",
       "    <tr>\n",
       "      <th>3</th>\n",
       "      <td>669c029c5812ec9a31b9c211044157b4</td>\n",
       "      <td>ATA</td>\n",
       "      <td>ata dispensa licitacao</td>\n",
       "      <td>0</td>\n",
       "      <td>cristais</td>\n",
       "      <td>../data/290-licitacoes-cristais/data/files_jso...</td>\n",
       "      <td>comissao permanente licitacoes dia fevereiro r...</td>\n",
       "      <td>comissao permanente licitacoes dia fevereiro r...</td>\n",
       "      <td>comissao permanente licitacoes dia fevereiro r...</td>\n",
       "      <td>comissao permanente licitacoes dia fevereiro r...</td>\n",
       "      <td>val</td>\n",
       "      <td>comissao permanente licitacoes dia fevereiro r...</td>\n",
       "      <td>[[2, 3, 4, 101, 109, 8, 2, 3, 9, 10, 11, 2, 9,...</td>\n",
       "    </tr>\n",
       "    <tr>\n",
       "      <th>4</th>\n",
       "      <td>a22421dc45d623c9200c7e8fb1e6ca34</td>\n",
       "      <td>ATA</td>\n",
       "      <td>ata dispensa licitacao</td>\n",
       "      <td>0</td>\n",
       "      <td>cristais</td>\n",
       "      <td>../data/290-licitacoes-cristais/data/files_jso...</td>\n",
       "      <td>comissao permanente licitacoes maio reuniu com...</td>\n",
       "      <td>comissao permanente licitacoes maio reuniu com...</td>\n",
       "      <td>comissao permanente licitacoes maio reuniu com...</td>\n",
       "      <td>comissao permanente licitacoes maio reuniu com...</td>\n",
       "      <td>train</td>\n",
       "      <td>comissao permanente licitacoes maio reuniu com...</td>\n",
       "      <td>[[2, 3, 4, 235, 8, 2, 3, 9, 10, 236, 94, 12, 1...</td>\n",
       "    </tr>\n",
       "  </tbody>\n",
       "</table>\n",
       "</div>"
      ],
      "text/plain": [
       "                             doc_id final_meta-class                   label  \\\n",
       "0  499fa518c7724a6e449c509b7d7bc819              ATA  ata dispensa licitacao   \n",
       "1  56a09c5d1d04cc95ada4d68ad22dcbd9              ATA  ata dispensa licitacao   \n",
       "2  6e9f35208290c1130fcccad47b50aa53              ATA  ata dispensa licitacao   \n",
       "3  669c029c5812ec9a31b9c211044157b4              ATA  ata dispensa licitacao   \n",
       "4  a22421dc45d623c9200c7e8fb1e6ca34              ATA  ata dispensa licitacao   \n",
       "\n",
       "   label_int      city                                           file_dir  \\\n",
       "0          0  cristais  ../data/290-licitacoes-cristais/data/files_jso...   \n",
       "1          0  cristais  ../data/290-licitacoes-cristais/data/files_jso...   \n",
       "2          0  cristais  ../data/290-licitacoes-cristais/data/files_jso...   \n",
       "3          0  cristais  ../data/290-licitacoes-cristais/data/files_jso...   \n",
       "4          0  cristais  ../data/290-licitacoes-cristais/data/files_jso...   \n",
       "\n",
       "                                            one_page  \\\n",
       "0  comissao permanente licitacoes ata dispensa ju...   \n",
       "1  comissao permanente licitacoes dia fevereiro r...   \n",
       "2   praca cel centro estado cep pabx cnpj comissa...   \n",
       "3  comissao permanente licitacoes dia fevereiro r...   \n",
       "4  comissao permanente licitacoes maio reuniu com...   \n",
       "\n",
       "                                           two_pages  \\\n",
       "0  comissao permanente licitacoes ata dispensa ju...   \n",
       "1  comissao permanente licitacoes dia fevereiro r...   \n",
       "2   praca cel centro estado cep pabx cnpj comissa...   \n",
       "3  comissao permanente licitacoes dia fevereiro r...   \n",
       "4  comissao permanente licitacoes maio reuniu com...   \n",
       "\n",
       "                                         three_pages  \\\n",
       "0  comissao permanente licitacoes ata dispensa ju...   \n",
       "1  comissao permanente licitacoes dia fevereiro r...   \n",
       "2   praca cel centro estado cep pabx cnpj comissa...   \n",
       "3  comissao permanente licitacoes dia fevereiro r...   \n",
       "4  comissao permanente licitacoes maio reuniu com...   \n",
       "\n",
       "                                          four_pages   fold  \\\n",
       "0  comissao permanente licitacoes ata dispensa ju...    val   \n",
       "1  comissao permanente licitacoes dia fevereiro r...   test   \n",
       "2   praca cel centro estado cep pabx cnpj comissa...    val   \n",
       "3  comissao permanente licitacoes dia fevereiro r...    val   \n",
       "4  comissao permanente licitacoes maio reuniu com...  train   \n",
       "\n",
       "                                four_pages_processed  \\\n",
       "0  comissao permanente licitacoes ata dispensa ju...   \n",
       "1  comissao permanente licitacoes dia fevereiro r...   \n",
       "2  praca cel centro estado cep pabx cnpj comissao...   \n",
       "3  comissao permanente licitacoes dia fevereiro r...   \n",
       "4  comissao permanente licitacoes maio reuniu com...   \n",
       "\n",
       "                                  four_pages_encoded  \n",
       "0  [[2, 3, 4, 5, 6, 7, 8, 2, 3, 9, 10, 11, 2, 9, ...  \n",
       "1  [[2, 3, 4, 101, 109, 8, 2, 3, 9, 10, 11, 2, 9,...  \n",
       "2  [[182, 183, 120, 184, 185, 186, 45, 2, 3, 4, 8...  \n",
       "3  [[2, 3, 4, 101, 109, 8, 2, 3, 9, 10, 11, 2, 9,...  \n",
       "4  [[2, 3, 4, 235, 8, 2, 3, 9, 10, 236, 94, 12, 1...  "
      ]
     },
     "execution_count": 4,
     "metadata": {},
     "output_type": "execute_result"
    }
   ],
   "source": [
    "tok = spacy.load('pt_core_news_sm')\n",
    "\n",
    "#count number of occurences of each word\n",
    "counts = Counter()\n",
    "for index, row in df_data.iterrows():\n",
    "    counts.update(tokenize(row['four_pages_processed']))\n",
    "\n",
    "#creating vocabulary\n",
    "vocab2index = {\"\":0, \"UNK\":1}\n",
    "words = [\"\", \"UNK\"]\n",
    "for word in counts:\n",
    "    vocab2index[word] = len(words)\n",
    "    words.append(word)\n",
    "\n",
    "# encoding\n",
    "df_data.loc[df_data['fold'] == 'train','four_pages_encoded'] = df_data.loc[df_data['fold'] == 'train','four_pages_processed'].apply(lambda x: np.array(encode_sentence(x,vocab2index )))\n",
    "df_data.loc[df_data['fold'] == 'val','four_pages_encoded'] = df_data.loc[df_data['fold'] == 'val','four_pages_processed'].apply(lambda x: np.array(encode_sentence(x,vocab2index )))\n",
    "df_data.loc[df_data['fold'] == 'test','four_pages_encoded'] = df_data.loc[df_data['fold'] == 'test','four_pages_processed'].apply(lambda x: np.array(encode_sentence(x,vocab2index )))\n",
    "df_data.head()"
   ]
  },
  {
   "cell_type": "code",
   "execution_count": 6,
   "metadata": {},
   "outputs": [
    {
     "data": {
      "text/plain": [
       "{'': 0,\n",
       " 'UNK': 1,\n",
       " 'comissao': 2,\n",
       " 'permanente': 3,\n",
       " 'licitacoes': 4,\n",
       " 'ata': 5,\n",
       " 'dispensa': 6,\n",
       " 'julho': 7,\n",
       " 'reuniu': 8,\n",
       " 'licitacao': 9,\n",
       " 'presidente': 10,\n",
       " 'membros': 11,\n",
       " 'rogana': 12,\n",
       " 'edinamara': 13,\n",
       " 'nomeados': 14,\n",
       " 'portaria': 15,\n",
       " 'janeiro': 16,\n",
       " 'apos': 17,\n",
       " 'procedida': 18,\n",
       " 'avaliacao': 19,\n",
       " 'contratacao': 20,\n",
       " 'servicos': 21,\n",
       " 'laboratorio': 22,\n",
       " 'realizacao': 23,\n",
       " 'exame': 24,\n",
       " 'pet': 25,\n",
       " 'scan': 26,\n",
       " 'paciente': 27,\n",
       " 'tratamento': 28,\n",
       " 'oncologico': 29,\n",
       " 'pedido': 30,\n",
       " 'medico': 31,\n",
       " 'anexo': 32,\n",
       " 'empresa': 33,\n",
       " 'pouso': 34,\n",
       " 'alegre': 35,\n",
       " 'diagnostico': 36,\n",
       " 'ltda': 37,\n",
       " 'aberta': 38,\n",
       " 'etapa': 39,\n",
       " 'julgamento': 40,\n",
       " 'chegou': 41,\n",
       " 'entao': 42,\n",
       " 'seguinte': 43,\n",
       " 'resultado': 44,\n",
       " 'cnpj': 45,\n",
       " 'endereco': 46,\n",
       " 'amaral': 47,\n",
       " 'paula': 48,\n",
       " 'jose': 49,\n",
       " 'alfredo': 50,\n",
       " 'mg': 51,\n",
       " 'seq': 52,\n",
       " 'item': 53,\n",
       " 'descricao': 54,\n",
       " 'marca': 55,\n",
       " 'un': 56,\n",
       " 'qtd': 57,\n",
       " 'valor': 58,\n",
       " 'unitario': 59,\n",
       " 'total': 60,\n",
       " 'sub': 61,\n",
       " 'geral': 62,\n",
       " 'ato': 63,\n",
       " 'continuo': 64,\n",
       " 'procedeu': 65,\n",
       " 'verificacao': 66,\n",
       " 'documentacao': 67,\n",
       " 'habilitacao': 68,\n",
       " 'licitante': 69,\n",
       " 'ofertou': 70,\n",
       " 'menor': 71,\n",
       " 'preco': 72,\n",
       " 'apreciacao': 73,\n",
       " 'documentos': 74,\n",
       " 'mostrou': 75,\n",
       " 'conformidade': 76,\n",
       " 'solicitado': 77,\n",
       " 'termino': 78,\n",
       " 'analise': 79,\n",
       " 'resolveu': 80,\n",
       " 'declarar': 81,\n",
       " 'objeto': 82,\n",
       " 'certame': 83,\n",
       " 'vencedora': 84,\n",
       " 'segue': 85,\n",
       " 'situada': 86,\n",
       " 'rua': 87,\n",
       " 'tres': 88,\n",
       " 'mil': 89,\n",
       " 'trezentos': 90,\n",
       " 'reais': 91,\n",
       " 'global': 92,\n",
       " 'recomenda': 93,\n",
       " 'sr': 94,\n",
       " 'prefeito': 95,\n",
       " 'municipal': 96,\n",
       " 'ratificacao': 97,\n",
       " 'itens': 98,\n",
       " 'mencionados': 99,\n",
       " 'horas': 100,\n",
       " 'dia': 101,\n",
       " 'xxxxxxxxxxxxxxxxxxxxxxxxxxxxxxxxxxxxxxxxx': 102,\n",
       " 'pablo': 103,\n",
       " 'silva': 104,\n",
       " 'cpl': 105,\n",
       " 'mattheus': 106,\n",
       " 'henrique': 107,\n",
       " 'ribeiro': 108,\n",
       " 'fevereiro': 109,\n",
       " 'procedimento': 110,\n",
       " 'cirurgico': 111,\n",
       " 'flexivel': 112,\n",
       " 'laser': 113,\n",
       " 'santos': 114,\n",
       " 'medicina': 115,\n",
       " 'trabalho': 116,\n",
       " 'cpf': 117,\n",
       " 'conego': 118,\n",
       " 'sala': 119,\n",
       " 'centro': 120,\n",
       " 'campo': 121,\n",
       " 'belo': 122,\n",
       " 'sv': 123,\n",
       " 'abertura': 124,\n",
       " 'envelopes': 125,\n",
       " 'contendo': 126,\n",
       " 'licitantes': 127,\n",
       " 'ofertaram': 128,\n",
       " 'oitocentos': 129,\n",
       " 'nao': 130,\n",
       " 'cabera': 131,\n",
       " 'contrato': 132,\n",
       " 'compra': 133,\n",
       " 'art': 134,\n",
       " 'instrumento': 135,\n",
       " 'obrigatorio': 136,\n",
       " 'casos': 137,\n",
       " 'concorrencia': 138,\n",
       " 'tomada': 139,\n",
       " 'precos': 140,\n",
       " 'dispensas': 141,\n",
       " 'inexigibilidades': 142,\n",
       " 'compreendidos': 143,\n",
       " 'limites': 144,\n",
       " 'duas': 145,\n",
       " 'modalidades': 146,\n",
       " 'facultativo': 147,\n",
       " 'administracao': 148,\n",
       " 'puder': 149,\n",
       " 'substitui': 150,\n",
       " 'lo': 151,\n",
       " 'outros': 152,\n",
       " 'instrumentos': 153,\n",
       " 'habeis': 154,\n",
       " 'tais': 155,\n",
       " 'carta': 156,\n",
       " 'nota': 157,\n",
       " 'empenho': 158,\n",
       " 'despesa': 159,\n",
       " 'autorizacao': 160,\n",
       " 'ordem': 161,\n",
       " 'execucao': 162,\n",
       " 'servico': 163,\n",
       " 'dispensavel': 164,\n",
       " 'termo': 165,\n",
       " 'facultada': 166,\n",
       " 'substituicao': 167,\n",
       " 'prevista': 168,\n",
       " 'artigo': 169,\n",
       " 'criterio': 170,\n",
       " 'entrega': 171,\n",
       " 'imediata': 172,\n",
       " 'integral': 173,\n",
       " 'bens': 174,\n",
       " 'adquiridos': 175,\n",
       " 'resultem': 176,\n",
       " 'obrigacoes': 177,\n",
       " 'futuras': 178,\n",
       " 'assistencia': 179,\n",
       " 'tecnica': 180,\n",
       " 'xxxxxxxxxxxxxxxxxxxxxx': 181,\n",
       " 'praca': 182,\n",
       " 'cel': 183,\n",
       " 'estado': 184,\n",
       " 'cep': 185,\n",
       " 'pabx': 186,\n",
       " 'meio': 187,\n",
       " 'pessoa': 188,\n",
       " 'prestacao': 189,\n",
       " 'manutencao': 190,\n",
       " 'equipamentos': 191,\n",
       " 'odontologicos': 192,\n",
       " 'psf': 193,\n",
       " 'municipio': 194,\n",
       " 'concorrentes': 195,\n",
       " 'francisco': 196,\n",
       " 'almeida': 197,\n",
       " 'cia': 198,\n",
       " 'marcio': 199,\n",
       " 'ramon': 200,\n",
       " 'mendes': 201,\n",
       " 'castro': 202,\n",
       " 'dep': 203,\n",
       " 'branco': 204,\n",
       " 'jd': 205,\n",
       " 'fabiana': 206,\n",
       " 'lavras': 207,\n",
       " 'cinco': 208,\n",
       " 'cinquenta': 209,\n",
       " 'quantidade': 210,\n",
       " 'unit': 211,\n",
       " 'especificacao': 212,\n",
       " 'rca': 213,\n",
       " 'hr': 214,\n",
       " 'mencionado': 215,\n",
       " 'melyssa': 216,\n",
       " 'ferreira': 217,\n",
       " 'membro': 218,\n",
       " 'fornecimento': 219,\n",
       " 'lanches': 220,\n",
       " 'policia': 221,\n",
       " 'militar': 222,\n",
       " 'civil': 223,\n",
       " 'detrimento': 224,\n",
       " 'festividades': 225,\n",
       " 'carnaval': 226,\n",
       " 'evelyn': 227,\n",
       " 'pinheiro': 228,\n",
       " 'guimaraes': 229,\n",
       " 'joaquim': 230,\n",
       " 'reis': 231,\n",
       " 'lanche': 232,\n",
       " 'novecentos': 233,\n",
       " 'onze': 234,\n",
       " 'maio': 235,\n",
       " 'interino': 236,\n",
       " 'suplente': 237,\n",
       " 'aquisicao': 238,\n",
       " 'camisetas': 239,\n",
       " 'formandos': 240,\n",
       " 'programa': 241,\n",
       " 'educacao': 242,\n",
       " 'resistencia': 243,\n",
       " 'drogas': 244,\n",
       " 'acontecera': 245,\n",
       " 'mes': 246,\n",
       " 'junho': 247,\n",
       " 'confeccoes': 248,\n",
       " 'delucia': 249,\n",
       " 'miguel': 250,\n",
       " 'bel': 251,\n",
       " 'camiseta': 252,\n",
       " 'adjudicar': 253,\n",
       " 'empresas': 254,\n",
       " 'vencedoras': 255,\n",
       " 'adriana': 256,\n",
       " 'costa': 257,\n",
       " 'oliveira': 258,\n",
       " 'aquisicoes': 259,\n",
       " 'uniformes': 260,\n",
       " 'drop': 261,\n",
       " 'arantes': 262,\n",
       " 'assis': 263,\n",
       " 'mei': 264,\n",
       " 'inconfidentes': 265,\n",
       " 'camisa': 266,\n",
       " 'malha': 267,\n",
       " 'confeccionada': 268,\n",
       " 'cor': 269,\n",
       " 'branca': 270,\n",
       " 'tamanho': 271,\n",
       " 'pp': 272,\n",
       " 'manga': 273,\n",
       " 'bolsos': 274,\n",
       " 'estampa': 275,\n",
       " 'silk': 276,\n",
       " 'screen': 277,\n",
       " 'parte': 278,\n",
       " 'frente': 279,\n",
       " 'tras': 280,\n",
       " 'ambas': 281,\n",
       " 'devendo': 282,\n",
       " 'ter': 283,\n",
       " 'punhos': 284,\n",
       " 'azul': 285,\n",
       " 'royal': 286,\n",
       " 'brancas': 287,\n",
       " 'dois': 288,\n",
       " 'duzentos': 289,\n",
       " 'agosto': 290,\n",
       " 'ressonancia': 291,\n",
       " 'magnetica': 292,\n",
       " 'sedacao': 293,\n",
       " 'contraste': 294,\n",
       " 'davi': 295,\n",
       " 'lucas': 296,\n",
       " 'nepomuceno': 297,\n",
       " 'consultorios': 298,\n",
       " 'medicos': 299,\n",
       " 'epp': 300,\n",
       " 'instituto': 301,\n",
       " 'mineiro': 302,\n",
       " 'radio': 303,\n",
       " 'soc': 304,\n",
       " 'sul': 305,\n",
       " 'custodio': 306,\n",
       " 'anestesia': 307,\n",
       " 'adriano': 308,\n",
       " 'freitas': 309,\n",
       " 'cardoso': 310,\n",
       " 'fatima': 311,\n",
       " 'iii': 312,\n",
       " 'quinhentos': 313,\n",
       " 'vinte': 314,\n",
       " 'dias': 315,\n",
       " 'dezessete': 316,\n",
       " 'trinta': 317,\n",
       " 'minutos': 318,\n",
       " 'nomeada': 319,\n",
       " 'pneus': 320,\n",
       " 'baterias': 321,\n",
       " 'camaras': 322,\n",
       " 'protetores': 323,\n",
       " 'setores': 324,\n",
       " 'cuja': 325,\n",
       " 'tendo': 326,\n",
       " 'vista': 327,\n",
       " 'proposta': 328,\n",
       " 'apresentada': 329,\n",
       " 'alceu': 330,\n",
       " 'dez': 331,\n",
       " 'praticado': 332,\n",
       " 'mercado': 333,\n",
       " 'amparo': 334,\n",
       " 'inciso': 335,\n",
       " 'iv': 336,\n",
       " 'lei': 337,\n",
       " 'mencionada': 338,\n",
       " 'relatar': 339,\n",
       " 'marco': 340,\n",
       " 'pesquisa': 341,\n",
       " 'realizada': 342,\n",
       " 'junto': 343,\n",
       " 'outras': 344,\n",
       " 'ramo': 345,\n",
       " 'atividade': 346,\n",
       " 'ii': 347,\n",
       " 'treze': 348,\n",
       " 'quatorze': 349,\n",
       " 'locado': 350,\n",
       " 'imovel': 351,\n",
       " 'funcionamento': 352,\n",
       " 'casa': 353,\n",
       " 'crianca': 354,\n",
       " 'adolescente': 355,\n",
       " 'leandro': 356,\n",
       " 'antonio': 357,\n",
       " 'alane': 358,\n",
       " 'mensais': 359,\n",
       " 'oito': 360,\n",
       " 'quinze': 361,\n",
       " 'brinquedos': 362,\n",
       " 'pedagogicos': 363,\n",
       " 'atender': 364,\n",
       " 'necessidades': 365,\n",
       " 'setor': 366,\n",
       " 'social': 367,\n",
       " 'solicitacao': 368,\n",
       " 'judicial': 369,\n",
       " 'marcos': 370,\n",
       " 'soares': 371,\n",
       " 'oitenta': 372,\n",
       " 'doze': 373,\n",
       " 'aluguel': 374,\n",
       " 'familia': 375,\n",
       " 'retirada': 376,\n",
       " 'area': 377,\n",
       " 'risco': 378,\n",
       " 'senhora': 379,\n",
       " 'fernanda': 380,\n",
       " 'ser': 381,\n",
       " 'realizados': 382,\n",
       " 'madeira': 383,\n",
       " 'diversas': 384,\n",
       " 'diretorias': 385,\n",
       " 'justificativa': 386,\n",
       " 'ha': 387,\n",
       " 'tipo': 388,\n",
       " 'licitado': 389,\n",
       " 'momento': 390,\n",
       " 'entregue': 391,\n",
       " 'curto': 392,\n",
       " 'espaco': 393,\n",
       " 'tempo': 394,\n",
       " 'xxxxxxxxxxxxxxxxxxxxxxxxx': 395,\n",
       " 'sistema': 396,\n",
       " 'diario': 397,\n",
       " 'oficial': 398,\n",
       " 'eletronico': 399,\n",
       " 'portal': 400,\n",
       " 'publico': 401,\n",
       " 'informatica': 402,\n",
       " 'xxxxxxxxxxxxxxxxxxxxxxxxxxxx': 403,\n",
       " 'dezembro': 404,\n",
       " 'ponte': 405,\n",
       " 'aparelho': 406,\n",
       " 'raio': 407,\n",
       " 'hospital': 408,\n",
       " 'serv': 409,\n",
       " 'imagem': 410,\n",
       " 'minas': 411,\n",
       " 'industria': 412,\n",
       " 'comercio': 413,\n",
       " 'revisao': 414,\n",
       " 'van': 415,\n",
       " 'sprinter': 416,\n",
       " 'emprego': 417,\n",
       " 'pecas': 418,\n",
       " 'secretaria': 419,\n",
       " 'saude': 420,\n",
       " 'maquinas': 421,\n",
       " 'sa': 422,\n",
       " 'quatro': 423,\n",
       " 'confeccao': 424,\n",
       " 'roupas': 425,\n",
       " 'festas': 426,\n",
       " 'tradicionais': 427,\n",
       " 'diretoria': 428,\n",
       " 'cultura': 429,\n",
       " 'aparecida': 430,\n",
       " 'ponto': 431,\n",
       " 'apoio': 432,\n",
       " 'nilba': 433,\n",
       " 'alugueis': 434,\n",
       " 'porte': 435,\n",
       " 'assessoria': 436,\n",
       " 'elaboracao': 437,\n",
       " 'monitoramento': 438,\n",
       " 'programas': 439,\n",
       " 'projetos': 440,\n",
       " 'relacionados': 441,\n",
       " 'helyelson': 442,\n",
       " 'nove': 443,\n",
       " 'abril': 444,\n",
       " 'patrol': 445,\n",
       " 'caterpillar': 446,\n",
       " 'mod': 447,\n",
       " 'placa': 448,\n",
       " 'autorizada': 449,\n",
       " 'especializada': 450,\n",
       " 'estradas': 451,\n",
       " 'vicinais': 452,\n",
       " 'processo': 453,\n",
       " 'eleitoral': 454,\n",
       " 'conselho': 455,\n",
       " 'tutelar': 456,\n",
       " 'declara': 457,\n",
       " 'pessoal': 458,\n",
       " 'qualificado': 459,\n",
       " 'realizar': 460,\n",
       " 'vanessa': 461,\n",
       " 'lopes': 462,\n",
       " 'leo': 463,\n",
       " 'repetidor': 464,\n",
       " 'tv': 465,\n",
       " 'joao': 466,\n",
       " 'bosco': 467,\n",
       " 'pessoas': 468,\n",
       " 'licitatorio': 469,\n",
       " 'mensal': 470,\n",
       " 'medicamento': 471,\n",
       " 'enbrel': 472,\n",
       " 'ampola': 473,\n",
       " 'seringas': 474,\n",
       " 'via': 475,\n",
       " 'acr': 476,\n",
       " 'seis': 477,\n",
       " 'noventa': 478,\n",
       " 'xxxxxxxxxxx': 479,\n",
       " 'protetoras': 480,\n",
       " 'ar': 481,\n",
       " 'dezoito': 482,\n",
       " 'especificados': 483,\n",
       " 'cancelamento': 484,\n",
       " 'oleo': 485,\n",
       " 'filtros': 486,\n",
       " 'originais': 487,\n",
       " 'fabrica': 488,\n",
       " 'troca': 489,\n",
       " 'periodica': 490,\n",
       " 'veiculo': 491,\n",
       " 'oleos': 492,\n",
       " 'apresentaram': 493,\n",
       " 'necessarios': 494,\n",
       " 'israel': 495,\n",
       " 'pires': 496,\n",
       " 'seiscentos': 497,\n",
       " 'lencois': 498,\n",
       " 'fronhas': 499,\n",
       " 'infantil': 500,\n",
       " 'temporaria': 501,\n",
       " 'paes': 502,\n",
       " 'rosquinha': 503,\n",
       " 'regime': 504,\n",
       " 'urgencia': 505,\n",
       " 'devido': 506,\n",
       " 'suspensao': 507,\n",
       " 'pregao': 508,\n",
       " 'comprometer': 509,\n",
       " 'pao': 510,\n",
       " 'secretarias': 511,\n",
       " 'seguem': 512,\n",
       " 'cotados': 513,\n",
       " 'kg': 514,\n",
       " 'miro': 515,\n",
       " 'quarenta': 516,\n",
       " 'centavos': 517,\n",
       " 'pereira': 518,\n",
       " 'sessenta': 519,\n",
       " 'sal': 520,\n",
       " 'sete': 521,\n",
       " 'xxxxxxxxxxxxxxxxxxxxxxxxxx': 522,\n",
       " 'administrativo': 523,\n",
       " 'convenios': 524,\n",
       " 'alvarenga': 525,\n",
       " 'transporte': 526,\n",
       " 'escolar': 527,\n",
       " 'juliano': 528,\n",
       " 'roberto': 529,\n",
       " 'souza': 530,\n",
       " 'profissional': 531,\n",
       " 'capacitado': 532,\n",
       " 'ministrar': 533,\n",
       " 'aulas': 534,\n",
       " 'academia': 535,\n",
       " 'xxxxxxxxxxxxxxxxxxxxxxxxxxxxx': 536,\n",
       " 'internet': 537,\n",
       " 'satelite': 538,\n",
       " 'banda': 539,\n",
       " 'ka': 540,\n",
       " 'escolas': 541,\n",
       " 'rurais': 542,\n",
       " 'telecomunicacoes': 543,\n",
       " 'dezesseis': 544,\n",
       " 'locacao': 545,\n",
       " 'rolo': 546,\n",
       " 'compactador': 547,\n",
       " 'solo': 548,\n",
       " 'volvo': 549,\n",
       " 'similar': 550,\n",
       " 'xxxxxxxxxxxxxxxxxxxxxxxxxxxxxxxxxxx': 551,\n",
       " 'dedetizacao': 552,\n",
       " 'faria': 553,\n",
       " 'horario': 554,\n",
       " 'min': 555,\n",
       " 'xxxxxxxxxxxxxxxxxxxxxxxxxxxxxxxxxxxxxxxxxxxxxxxxxxxxxxxxxxxxxxxx': 556,\n",
       " 'foto': 557,\n",
       " 'acabamento': 558,\n",
       " 'revelacao': 559,\n",
       " 'editoracao': 560,\n",
       " 'filmagem': 561,\n",
       " 'candido': 562,\n",
       " 'xxxxxxxxxxxxxxxxxxxxxxx': 563,\n",
       " 'setecentos': 564,\n",
       " 'setenta': 565,\n",
       " 'ambiente': 566,\n",
       " 'areas': 567,\n",
       " 'levantamento': 568,\n",
       " 'topografico': 569,\n",
       " 'renovacao': 570,\n",
       " 'site': 571,\n",
       " 'interativo': 572,\n",
       " 'quatrocentos': 573,\n",
       " 'hospitalar': 574,\n",
       " 'cirurgiao': 575,\n",
       " 'cirurgia': 576,\n",
       " 'otoni': 577,\n",
       " 'santa': 578,\n",
       " 'efigenia': 579,\n",
       " 'horizonte': 580,\n",
       " 'fundacao': 581,\n",
       " 'benjamin': 582,\n",
       " 'rio': 583,\n",
       " 'grande': 584,\n",
       " 'santo': 585,\n",
       " 'agostinho': 586,\n",
       " 'observado': 587,\n",
       " 'municipais': 588,\n",
       " 'decreto': 589,\n",
       " 'campos': 590,\n",
       " 'tfd': 591,\n",
       " 'domicilio': 592,\n",
       " 'emergencial': 593,\n",
       " 'ailton': 594,\n",
       " 'pimenta': 595,\n",
       " 'cataguases': 596,\n",
       " 'sao': 597,\n",
       " 'luiz': 598,\n",
       " 'emergenciais': 599,\n",
       " 'materiais': 600,\n",
       " 'construcao': 601,\n",
       " 'diversos': 602,\n",
       " 'utilizacao': 603,\n",
       " 'gilmar': 604,\n",
       " 'vieira': 605,\n",
       " 'expedicionario': 606,\n",
       " 'gr': 607,\n",
       " 'eletricos': 608,\n",
       " 'carvalho': 609,\n",
       " 'wilson': 610,\n",
       " 'galdino': 611,\n",
       " 'eliazar': 612,\n",
       " 'xxxxxxxxxxxxxxxxxxxxxxxxxxxxxxxxx': 613,\n",
       " 'prestar': 614,\n",
       " 'mecanica': 615,\n",
       " 'preventiva': 616,\n",
       " 'corretiva': 617,\n",
       " 'veiculos': 618,\n",
       " 'leves': 619,\n",
       " 'medios': 620,\n",
       " 'pesados': 621,\n",
       " 'complementar': 622,\n",
       " 'iodo': 623,\n",
       " 'radioativo': 624,\n",
       " 'iodoterapia': 625,\n",
       " 'oncologica': 626,\n",
       " 'varginhense': 627,\n",
       " 'nuclear': 628,\n",
       " 'thomaz': 629,\n",
       " 'jardim': 630,\n",
       " 'varginha': 631,\n",
       " 'chacara': 632,\n",
       " 'pedras': 633,\n",
       " 'rs': 634,\n",
       " 'graficos': 635,\n",
       " 'grafica': 636,\n",
       " 'bernardes': 637,\n",
       " 'alexandre': 638,\n",
       " 'processos': 639,\n",
       " 'cotacoes': 640,\n",
       " 'np': 641,\n",
       " 'capacitacao': 642,\n",
       " 'solucoes': 643,\n",
       " 'tecnologicas': 644,\n",
       " 'projeto': 645,\n",
       " 'cameras': 646,\n",
       " 'apresentando': 647,\n",
       " 'circuito': 648,\n",
       " 'fechado': 649,\n",
       " 'sinais': 650,\n",
       " 'provenientes': 651,\n",
       " 'camera': 652,\n",
       " 'localizadas': 653,\n",
       " 'supervisao': 654,\n",
       " 'local': 655,\n",
       " 'remoto': 656,\n",
       " 'administrativos': 657,\n",
       " 'eireli': 658,\n",
       " 'meses': 659,\n",
       " 'flores': 660,\n",
       " 'cidade': 661,\n",
       " 'anjos': 662,\n",
       " 'alves': 663,\n",
       " 'maria': 664,\n",
       " 'rios': 665,\n",
       " 'utilizando': 666,\n",
       " 'rosas': 667,\n",
       " 'vasos': 668,\n",
       " 'planta': 669,\n",
       " 'artecamp': 670,\n",
       " 'artefatos': 671,\n",
       " 'concreto': 672,\n",
       " 'comercial': 673,\n",
       " 'jarbas': 674,\n",
       " 'gambogi': 675,\n",
       " 'manilha': 676,\n",
       " 'cimento': 677,\n",
       " 'mm': 678,\n",
       " 'mt': 679,\n",
       " 'mf': 680,\n",
       " 'pa': 681,\n",
       " 'armada': 682,\n",
       " 'cm': 683,\n",
       " 'jorge': 684,\n",
       " 'salume': 685,\n",
       " 'adesivo': 686,\n",
       " 'plastico': 687,\n",
       " 'nr': 688,\n",
       " 'arame': 689,\n",
       " 'farpado': 690,\n",
       " 'rl': 691,\n",
       " 'brita': 692,\n",
       " 'metro': 693,\n",
       " 'cabo': 694,\n",
       " 'cavadeira': 695,\n",
       " 'picareta': 696,\n",
       " 'cano': 697,\n",
       " 'pvc': 698,\n",
       " 'aco': 699,\n",
       " 'articulada': 700,\n",
       " 'reta': 701,\n",
       " 'cpii': 702,\n",
       " 'saca': 703,\n",
       " 'curva': 704,\n",
       " 'grampo': 705,\n",
       " 'joelho': 706,\n",
       " 'cola': 707,\n",
       " 'joelhos': 708,\n",
       " 'lage': 709,\n",
       " 'tavelas': 710,\n",
       " 'lampada': 711,\n",
       " 'lapis': 712,\n",
       " 'carpinteiro': 713,\n",
       " 'lima': 714,\n",
       " 'motoserra': 715,\n",
       " 'linha': 716,\n",
       " 'pedreiro': 717,\n",
       " 'lixa': 718,\n",
       " 'ferro': 719,\n",
       " 'fl': 720,\n",
       " 'luva': 721,\n",
       " 'nipel': 722,\n",
       " 'rosca': 723,\n",
       " 'pino': 724,\n",
       " 'femea': 725,\n",
       " 'macho': 726,\n",
       " 'prego': 727,\n",
       " 'mata': 728,\n",
       " 'burro': 729,\n",
       " 'reducao': 730,\n",
       " 'registro': 731,\n",
       " 'esfera': 732,\n",
       " 'soldavel': 733,\n",
       " 'roda': 734,\n",
       " 'carrinho': 735,\n",
       " 'mao': 736,\n",
       " 'completa': 737,\n",
       " 'serrinha': 738,\n",
       " 'silicone': 739,\n",
       " 'tampao': 740,\n",
       " 'torneira': 741,\n",
       " 'lavatorio': 742,\n",
       " 'volta': 743,\n",
       " 'trena': 744,\n",
       " 'tubo': 745,\n",
       " 'esgoto': 746,\n",
       " 'cozido': 747,\n",
       " 'fino': 748,\n",
       " 'aumenta': 749,\n",
       " 'ph': 750,\n",
       " 'pacote': 751,\n",
       " 'medicamentos': 752,\n",
       " 'genericos': 753,\n",
       " 'beline': 754,\n",
       " 'maia': 755,\n",
       " 'junior': 756,\n",
       " 'paulo': 757,\n",
       " 'aurelio': 758,\n",
       " 'cx': 759,\n",
       " 'alprazolam': 760,\n",
       " 'atenolol': 761,\n",
       " 'clortalidona': 762,\n",
       " 'atorvastatina': 763,\n",
       " 'comp': 764,\n",
       " 'bissulfato': 765,\n",
       " 'clopidogrel': 766,\n",
       " 'cpr': 767,\n",
       " 'comprimido': 768,\n",
       " 'brometo': 769,\n",
       " 'ipratropio': 770,\n",
       " 'caixa': 771,\n",
       " 'carbamazepina': 772,\n",
       " 'cilostazol': 773,\n",
       " 'ciprofibrato': 774,\n",
       " 'citalopram': 775,\n",
       " 'citrato': 776,\n",
       " 'clonazepam': 777,\n",
       " 'ml': 778,\n",
       " 'cloridrato': 779,\n",
       " 'ciclobenzaprina': 780,\n",
       " 'diltiazem': 781,\n",
       " 'duloxetina': 782,\n",
       " 'metformina': 783,\n",
       " 'paroxetina': 784,\n",
       " 'sertralina': 785,\n",
       " 'trazodona': 786,\n",
       " 'cp': 787,\n",
       " 'domperidona': 788,\n",
       " 'miligrama': 789,\n",
       " 'unidades': 790,\n",
       " 'espironolactona': 791,\n",
       " 'miligramas': 792,\n",
       " 'fenobarbital': 793,\n",
       " 'med': 794,\n",
       " 'fumarato': 795,\n",
       " 'quetiapina': 796,\n",
       " 'furosemida': 797,\n",
       " 'gabapentina': 798,\n",
       " 'lamotrigina': 799,\n",
       " 'levotiroxina': 800,\n",
       " 'sodica': 801,\n",
       " 'mcg': 802,\n",
       " 'hidroclorotiazida': 803,\n",
       " 'maleato': 804,\n",
       " 'timolol': 805,\n",
       " 'colirio': 806,\n",
       " 'mononitrato': 807,\n",
       " 'isossorbida': 808,\n",
       " 'montelucaste': 809,\n",
       " 'sodio': 810,\n",
       " 'omeprazol': 811,\n",
       " 'escitalopram': 812,\n",
       " 'oxcarbazepina': 813,\n",
       " 'pantoprazol': 814,\n",
       " 'prednisona': 815,\n",
       " 'sodico': 816,\n",
       " 'risperidona': 817,\n",
       " 'rosuvastatina': 818,\n",
       " 'sinvastatina': 819,\n",
       " 'sulfato': 820,\n",
       " 'glicosamina': 821,\n",
       " 'topiramato': 822,\n",
       " 'valsartana': 823,\n",
       " 'varfarina': 824,\n",
       " 'fenitoina': 825,\n",
       " 'midazolam': 826,\n",
       " 'pomada': 827,\n",
       " 'sonorizacao': 828,\n",
       " 'iluminacao': 829,\n",
       " 'palco': 830,\n",
       " 'carlos': 831,\n",
       " 'magno': 832,\n",
       " 'nascimento': 833,\n",
       " 'elielson': 834,\n",
       " 'xr': 835,\n",
       " 'show': 836,\n",
       " 'moreira': 837,\n",
       " 'medio': 838,\n",
       " 'montagem': 839,\n",
       " 'coberto': 840,\n",
       " 'medidas': 841,\n",
       " 'metros': 842,\n",
       " 'hmh': 843,\n",
       " 'atendendo': 844,\n",
       " 'pneu': 845,\n",
       " 'modelo': 846,\n",
       " 'cem': 847,\n",
       " 'altair': 848,\n",
       " 'msr': 849,\n",
       " 'express': 850,\n",
       " 'especiais': 851,\n",
       " 'produtos': 852,\n",
       " 'farmaceuticos': 853,\n",
       " 'guarapari': 854,\n",
       " 'amelia': 855,\n",
       " 'xolair': 856,\n",
       " 'po': 857,\n",
       " 'liofilizado': 858,\n",
       " 'diluicao': 859,\n",
       " 'xxxxxxxxxxxxxxxxxxxxxxxxxxxxxxx': 860,\n",
       " 'cortinas': 861,\n",
       " 'creches': 862,\n",
       " 'andrade': 863,\n",
       " 'antonia': 864,\n",
       " 'barao': 865,\n",
       " 'cortina': 866,\n",
       " 'argola': 867,\n",
       " 'mogno': 868,\n",
       " 'feita': 869,\n",
       " 'bk': 870,\n",
       " 'importado': 871,\n",
       " 'bege': 872,\n",
       " 'consumo': 873,\n",
       " 'abastecer': 874,\n",
       " 'borracharia': 875,\n",
       " 'obras': 876,\n",
       " 'lara': 877,\n",
       " 'floriano': 878,\n",
       " 'peixoto': 879,\n",
       " 'balde': 880,\n",
       " 'vaselina': 881,\n",
       " 'bd': 882,\n",
       " 'frio': 883,\n",
       " 'fria': 884,\n",
       " 'cv': 885,\n",
       " 'preta': 886,\n",
       " 'vd': 887,\n",
       " 'refil': 888,\n",
       " 'top': 889,\n",
       " 'jumbo': 890,\n",
       " 'omega': 891,\n",
       " 'valvula': 892,\n",
       " 'borracha': 893,\n",
       " 'sintetica': 894,\n",
       " 'quente': 895,\n",
       " 'cento': 896,\n",
       " 'medcenter': 897,\n",
       " 'juiz': 898,\n",
       " 'barro': 899,\n",
       " 'preto': 900,\n",
       " 'tecidos': 901,\n",
       " 'semana': 902,\n",
       " 'cultural': 903,\n",
       " 'renato': 904,\n",
       " 'pernambuco': 905,\n",
       " 'divinopolis': 906,\n",
       " 'tecido': 907,\n",
       " 'americano': 908,\n",
       " 'cru': 909,\n",
       " 'estampado': 910,\n",
       " 'verde': 911,\n",
       " 'vermelha': 912,\n",
       " 'prata': 913,\n",
       " 'elaborar': 914,\n",
       " 'engenharia': 915,\n",
       " 'pedro': 916,\n",
       " 'azevedo': 917,\n",
       " 'candeias': 918,\n",
       " 'osmar': 919,\n",
       " 'bicalho': 920,\n",
       " 'ana': 921,\n",
       " 'hospedagem': 922,\n",
       " 'diarias': 923,\n",
       " 'hotel': 924,\n",
       " 'gerador': 925,\n",
       " 'energia': 926,\n",
       " 'geraforte': 927,\n",
       " 'grupos': 928,\n",
       " 'geradores': 929,\n",
       " 'coronel': 930,\n",
       " 'figueiredo': 931,\n",
       " 'cachoeirinha': 932,\n",
       " 'eletrica': 933,\n",
       " 'obra': 934,\n",
       " 'furp': 935,\n",
       " 'farmacia': 936,\n",
       " 'basica': 937,\n",
       " 'remedio': 938,\n",
       " 'popular': 939,\n",
       " 'justifica': 940,\n",
       " 'apresentados': 941,\n",
       " 'tabela': 942,\n",
       " 'guia': 943,\n",
       " 'cmed': 944,\n",
       " 'endres': 945,\n",
       " 'itapejica': 946,\n",
       " 'guarulhos': 947,\n",
       " 'sp': 948,\n",
       " 'amitriptilina': 949,\n",
       " 'comprimidos': 950,\n",
       " 'digoxina': 951,\n",
       " 'ferroso': 952,\n",
       " 'gotas': 953,\n",
       " 'frasco': 954,\n",
       " 'prestacoes': 955,\n",
       " 'refeicoes': 956,\n",
       " 'self': 957,\n",
       " 'service': 958,\n",
       " 'acompanhada': 959,\n",
       " 'refrigerante': 960,\n",
       " 'lata': 961,\n",
       " 'acompanhamento': 962,\n",
       " 'silvio': 963,\n",
       " 'desabrigada': 964,\n",
       " 'parecer': 965,\n",
       " 'cleunice': 966,\n",
       " 'elias': 967,\n",
       " 'trio': 968,\n",
       " 'eletrico': 969,\n",
       " 'evento': 970,\n",
       " 'festivo': 971,\n",
       " 'sabado': 972,\n",
       " 'aleluia': 973,\n",
       " 'filho': 974,\n",
       " 'seguintes': 975,\n",
       " 'fernando': 976,\n",
       " 'av': 977,\n",
       " 'maringa': 978,\n",
       " 'bairro': 979,\n",
       " 'boa': 980,\n",
       " 'esperanca': 981,\n",
       " 'final': 982,\n",
       " 'djs': 983,\n",
       " 'locucao': 984,\n",
       " 'segurancas': 985,\n",
       " 'incluso': 986,\n",
       " 'alimentacao': 987,\n",
       " 'diesel': 988,\n",
       " 'impostos': 989,\n",
       " 'habilitou': 990,\n",
       " 'trasladacao': 991,\n",
       " 'municipios': 992,\n",
       " 'elizange': 993,\n",
       " 'evandro': 994,\n",
       " 'neto': 995,\n",
       " 'transportes': 996,\n",
       " 'furtado': 997,\n",
       " 'executivo': 998,\n",
       " 'turismo': 999,\n",
       " ...}"
      ]
     },
     "execution_count": 6,
     "metadata": {},
     "output_type": "execute_result"
    }
   ],
   "source": [
    "vocab2index"
   ]
  },
  {
   "cell_type": "code",
   "execution_count": 5,
   "metadata": {},
   "outputs": [],
   "source": [
    "X_train = df_data.loc[df_data['fold'] == 'train', 'four_pages_encoded'].values\n",
    "y_train = df_data.loc[df_data['fold'] == 'train', 'label_int'].values\n",
    "\n",
    "X_val = df_data.loc[df_data['fold'] == 'val', 'four_pages_encoded'].values\n",
    "y_val = df_data.loc[df_data['fold'] == 'val', 'label_int'].values\n",
    "\n",
    "X_test = df_data.loc[df_data['fold'] == 'test', 'four_pages_encoded'].values\n",
    "y_test = df_data.loc[df_data['fold'] == 'test', 'label_int'].values"
   ]
  },
  {
   "cell_type": "code",
   "execution_count": 6,
   "metadata": {},
   "outputs": [],
   "source": [
    "class ReviewsDataset(Dataset):\n",
    "    def __init__(self, X, Y):\n",
    "        self.X = X\n",
    "        self.y = Y\n",
    "        \n",
    "    def __len__(self):\n",
    "        return len(self.y)\n",
    "    \n",
    "    def __getitem__(self, idx):\n",
    "        return torch.from_numpy(self.X[idx][0].astype(np.int32)), self.y[idx], self.X[idx][1]"
   ]
  },
  {
   "cell_type": "code",
   "execution_count": 7,
   "metadata": {},
   "outputs": [],
   "source": [
    "train_ds = ReviewsDataset(X_train, y_train)\n",
    "val_ds = ReviewsDataset(X_val, y_val)\n",
    "test_ds = ReviewsDataset(X_test, y_test)"
   ]
  },
  {
   "cell_type": "code",
   "execution_count": 8,
   "metadata": {},
   "outputs": [],
   "source": [
    "def calculate_metrics(y_true, y_pred):\n",
    "    f1_macro = f1_score(y_true, y_pred, average='macro')\n",
    "    f1_weighted = f1_score(y_true, y_pred, average='weighted')\n",
    "    acc = accuracy_score(y_true, y_pred)\n",
    "    \n",
    "    return acc, f1_macro, f1_weighted\n",
    "\n",
    "def train_model(model, epochs=10, lr=0.001):\n",
    "    best_model = {\n",
    "        \"model\": copy.deepcopy(model),\n",
    "        \"epoch\": 0,\n",
    "        \"acc\": 0,\n",
    "        \"f1_macro\": 0,\n",
    "        \"f1_weighted\": 0,\n",
    "        \"loss\": 0,\n",
    "    }\n",
    "    parameters = filter(lambda p: p.requires_grad, model.parameters())\n",
    "    optimizer = torch.optim.Adam(parameters, lr=lr)\n",
    "    \n",
    "    # if running on GPU and we want to use cuda move model there\n",
    "    use_cuda = torch.cuda.is_available()\n",
    "    if use_cuda:\n",
    "        model = model.cuda()\n",
    "    for i in range(epochs):\n",
    "        model.train()\n",
    "        sum_loss = 0.0\n",
    "        total = 0\n",
    "        y_true = []\n",
    "        y_pred = []\n",
    "        for x, y, l in tqdm.tqdm_notebook(train_dl):\n",
    "            if use_cuda:\n",
    "                x = x.long().cuda()\n",
    "                y = y.long().cuda()\n",
    "            #x = x.long()\n",
    "            #y = y.long()\n",
    "            y_hat = model(x, l)\n",
    "            optimizer.zero_grad()\n",
    "            loss = F.cross_entropy(y_hat, y)\n",
    "            loss.backward()\n",
    "            optimizer.step()\n",
    "            sum_loss += loss.item()*y.shape[0]\n",
    "            total += y.shape[0]\n",
    "            y_pred.extend(torch.max(y_hat, 1)[1].cpu().tolist())\n",
    "            y_true.extend(y.cpu().tolist())\n",
    "            \n",
    "        if i % 5 == 4:\n",
    "            lr = lr*0.9\n",
    "            parameters = filter(lambda p: p.requires_grad, model.parameters())\n",
    "            optimizer = torch.optim.Adam(parameters, lr=lr)\n",
    "        metrics = calculate_metrics(y_true, y_pred)\n",
    "        print(\"Train:\\n loss %.3f, accuracy %.3f, F1-Macro %.3f, F1-Weighted %.3f, \" % (sum_loss/total, metrics[0], metrics[1], metrics[2]))\n",
    "        val_metrics = validation_metrics(model, val_dl, use_cuda)\n",
    "        if val_metrics[2] > best_model[\"f1_macro\"]:\n",
    "            best_model = {\n",
    "                \"model\": copy.deepcopy(model),\n",
    "                \"epoch\": i,\n",
    "                \"loss\": val_metrics[0],\n",
    "                \"acc\": val_metrics[1],\n",
    "                \"f1_macro\": val_metrics[2],\n",
    "                \"f1_weighted\": val_metrics[3],\n",
    "            }\n",
    "    return best_model           \n",
    "        \n",
    "\n",
    "def validation_metrics (model, valid_dl, use_cuda, is_val = True):\n",
    "    model.eval()\n",
    "    correct = 0\n",
    "    total = 0\n",
    "    sum_loss = 0.0\n",
    "    sum_rmse = 0.0\n",
    "    y_true = []\n",
    "    y_pred = []\n",
    "    with torch.no_grad():\n",
    "        for x, y, l in valid_dl:\n",
    "            if use_cuda:\n",
    "                x = x.long().cuda()\n",
    "                y = y.long().cuda()\n",
    "            #x = x.long()\n",
    "            #y = y.long()\n",
    "            y_hat = model(x, l)\n",
    "            loss = F.cross_entropy(y_hat, y)\n",
    "            pred = torch.max(y_hat, 1)[1]\n",
    "            correct += (pred == y).float().sum()\n",
    "            total += y.shape[0]\n",
    "            sum_loss += loss.item()*y.shape[0]\n",
    "            y_pred.extend(pred.cpu().tolist())\n",
    "            y_true.extend(y.cpu().tolist())\n",
    "        \n",
    "    metrics = calculate_metrics(y_true, y_pred)\n",
    "    if is_val:\n",
    "        print(\"Val:\\n loss %.3f, accuracy %.3f, F1-Macro %.3f, F1-Weighted %.3f, \" % (sum_loss/total, metrics[0], metrics[1], metrics[2]))\n",
    "    else:\n",
    "        print(\"Test:\\n loss %.3f, accuracy %.3f, F1-Macro %.3f, F1-Weighted %.3f, \" % (sum_loss/total, metrics[0], metrics[1], metrics[2]))\n",
    "        \n",
    "    return (sum_loss/total, metrics[0], metrics[1], metrics[2])"
   ]
  },
  {
   "cell_type": "code",
   "execution_count": 9,
   "metadata": {},
   "outputs": [],
   "source": [
    "batch_size = 24\n",
    "vocab_size = len(words)\n",
    "num_classes = df_data['label'].nunique()\n",
    "train_dl = DataLoader(train_ds, batch_size=batch_size, shuffle=True, )\n",
    "val_dl = DataLoader(val_ds, batch_size=batch_size)\n",
    "test_dl = DataLoader(test_ds, batch_size=batch_size)"
   ]
  },
  {
   "cell_type": "code",
   "execution_count": 11,
   "metadata": {},
   "outputs": [],
   "source": [
    "class LSTM_fixed_len(torch.nn.Module) :\n",
    "    def __init__(self, vocab_size, embedding_dim, hidden_dim, num_classes) :\n",
    "        super().__init__()\n",
    "        self.embeddings = nn.Embedding(vocab_size, embedding_dim, padding_idx=0)\n",
    "        self.lstm = nn.LSTM(embedding_dim, hidden_dim, batch_first=True)\n",
    "        self.linear = nn.Linear(hidden_dim, num_classes)\n",
    "        self.dropout = nn.Dropout(0.3)\n",
    "        \n",
    "    def forward(self, x, l):\n",
    "        x = self.embeddings(x)\n",
    "        x = self.dropout(x)\n",
    "        lstm_out, (ht, ct) = self.lstm(x)\n",
    "        return self.linear(ht[-1])"
   ]
  },
  {
   "cell_type": "code",
   "execution_count": 12,
   "metadata": {
    "scrolled": true
   },
   "outputs": [
    {
     "name": "stderr",
     "output_type": "stream",
     "text": [
      "/dados01/workspace/ufmg.f01dcc/py37/lib/python3.7/site-packages/ipykernel_launcher.py:30: TqdmDeprecationWarning: This function will be removed in tqdm==5.0.0\n",
      "Please use `tqdm.notebook.tqdm` instead of `tqdm.tqdm_notebook`\n"
     ]
    },
    {
     "data": {
      "application/vnd.jupyter.widget-view+json": {
       "model_id": "48ebfbab2996402d9557653eaf767e01",
       "version_major": 2,
       "version_minor": 0
      },
      "text/plain": [
       "HBox(children=(FloatProgress(value=0.0, max=165.0), HTML(value='')))"
      ]
     },
     "metadata": {},
     "output_type": "display_data"
    },
    {
     "name": "stdout",
     "output_type": "stream",
     "text": [
      "\n",
      "Train:\n",
      " loss 2.128, accuracy 0.390, F1-Macro 0.045, F1-Weighted 0.223, \n",
      "Val:\n",
      " loss 2.085, accuracy 0.393, F1-Macro 0.045, F1-Weighted 0.222, \n"
     ]
    },
    {
     "data": {
      "application/vnd.jupyter.widget-view+json": {
       "model_id": "7c302083c74c452dbcb16d968ab90d04",
       "version_major": 2,
       "version_minor": 0
      },
      "text/plain": [
       "HBox(children=(FloatProgress(value=0.0, max=165.0), HTML(value='')))"
      ]
     },
     "metadata": {},
     "output_type": "display_data"
    },
    {
     "name": "stdout",
     "output_type": "stream",
     "text": [
      "\n",
      "Train:\n",
      " loss 1.956, accuracy 0.408, F1-Macro 0.064, F1-Weighted 0.258, \n",
      "Val:\n",
      " loss 1.668, accuracy 0.469, F1-Macro 0.090, F1-Weighted 0.386, \n"
     ]
    },
    {
     "data": {
      "application/vnd.jupyter.widget-view+json": {
       "model_id": "8cdfc2acdef247c38d39141fa17313a9",
       "version_major": 2,
       "version_minor": 0
      },
      "text/plain": [
       "HBox(children=(FloatProgress(value=0.0, max=165.0), HTML(value='')))"
      ]
     },
     "metadata": {},
     "output_type": "display_data"
    },
    {
     "name": "stdout",
     "output_type": "stream",
     "text": [
      "\n",
      "Train:\n",
      " loss 1.639, accuracy 0.471, F1-Macro 0.117, F1-Weighted 0.403, \n",
      "Val:\n",
      " loss 1.529, accuracy 0.463, F1-Macro 0.112, F1-Weighted 0.419, \n"
     ]
    },
    {
     "data": {
      "application/vnd.jupyter.widget-view+json": {
       "model_id": "456f901657e64239aa517784c9bc07f7",
       "version_major": 2,
       "version_minor": 0
      },
      "text/plain": [
       "HBox(children=(FloatProgress(value=0.0, max=165.0), HTML(value='')))"
      ]
     },
     "metadata": {},
     "output_type": "display_data"
    },
    {
     "name": "stdout",
     "output_type": "stream",
     "text": [
      "\n",
      "Train:\n",
      " loss 1.415, accuracy 0.538, F1-Macro 0.149, F1-Weighted 0.474, \n",
      "Val:\n",
      " loss 1.268, accuracy 0.579, F1-Macro 0.149, F1-Weighted 0.485, \n"
     ]
    },
    {
     "data": {
      "application/vnd.jupyter.widget-view+json": {
       "model_id": "6ea63af3c30b40c6a20887272781e969",
       "version_major": 2,
       "version_minor": 0
      },
      "text/plain": [
       "HBox(children=(FloatProgress(value=0.0, max=165.0), HTML(value='')))"
      ]
     },
     "metadata": {},
     "output_type": "display_data"
    },
    {
     "name": "stdout",
     "output_type": "stream",
     "text": [
      "\n",
      "Train:\n",
      " loss 1.221, accuracy 0.580, F1-Macro 0.176, F1-Weighted 0.504, \n",
      "Val:\n",
      " loss 1.165, accuracy 0.584, F1-Macro 0.152, F1-Weighted 0.487, \n"
     ]
    },
    {
     "data": {
      "application/vnd.jupyter.widget-view+json": {
       "model_id": "c380504e54804af0b404b32ae7802bd8",
       "version_major": 2,
       "version_minor": 0
      },
      "text/plain": [
       "HBox(children=(FloatProgress(value=0.0, max=165.0), HTML(value='')))"
      ]
     },
     "metadata": {},
     "output_type": "display_data"
    },
    {
     "name": "stdout",
     "output_type": "stream",
     "text": [
      "\n",
      "Train:\n",
      " loss 1.132, accuracy 0.599, F1-Macro 0.205, F1-Weighted 0.531, \n",
      "Val:\n",
      " loss 1.063, accuracy 0.632, F1-Macro 0.220, F1-Weighted 0.544, \n"
     ]
    },
    {
     "data": {
      "application/vnd.jupyter.widget-view+json": {
       "model_id": "d5e8044947bc452b8611bd65cd6a9b01",
       "version_major": 2,
       "version_minor": 0
      },
      "text/plain": [
       "HBox(children=(FloatProgress(value=0.0, max=165.0), HTML(value='')))"
      ]
     },
     "metadata": {},
     "output_type": "display_data"
    },
    {
     "name": "stdout",
     "output_type": "stream",
     "text": [
      "\n",
      "Train:\n",
      " loss 1.095, accuracy 0.618, F1-Macro 0.227, F1-Weighted 0.549, \n",
      "Val:\n",
      " loss 1.078, accuracy 0.629, F1-Macro 0.208, F1-Weighted 0.534, \n"
     ]
    },
    {
     "data": {
      "application/vnd.jupyter.widget-view+json": {
       "model_id": "4ad640de5a1740929880c465cb547db7",
       "version_major": 2,
       "version_minor": 0
      },
      "text/plain": [
       "HBox(children=(FloatProgress(value=0.0, max=165.0), HTML(value='')))"
      ]
     },
     "metadata": {},
     "output_type": "display_data"
    },
    {
     "name": "stdout",
     "output_type": "stream",
     "text": [
      "\n",
      "Train:\n",
      " loss 1.001, accuracy 0.634, F1-Macro 0.224, F1-Weighted 0.550, \n",
      "Val:\n",
      " loss 1.055, accuracy 0.613, F1-Macro 0.206, F1-Weighted 0.527, \n"
     ]
    },
    {
     "data": {
      "application/vnd.jupyter.widget-view+json": {
       "model_id": "4fe3d89499684a1eb635148ce06949cd",
       "version_major": 2,
       "version_minor": 0
      },
      "text/plain": [
       "HBox(children=(FloatProgress(value=0.0, max=165.0), HTML(value='')))"
      ]
     },
     "metadata": {},
     "output_type": "display_data"
    },
    {
     "name": "stdout",
     "output_type": "stream",
     "text": [
      "\n",
      "Train:\n",
      " loss 1.014, accuracy 0.632, F1-Macro 0.238, F1-Weighted 0.562, \n",
      "Val:\n",
      " loss 0.987, accuracy 0.639, F1-Macro 0.258, F1-Weighted 0.573, \n"
     ]
    },
    {
     "data": {
      "application/vnd.jupyter.widget-view+json": {
       "model_id": "fda486f6c9b74ab08f46e251b781685c",
       "version_major": 2,
       "version_minor": 0
      },
      "text/plain": [
       "HBox(children=(FloatProgress(value=0.0, max=165.0), HTML(value='')))"
      ]
     },
     "metadata": {},
     "output_type": "display_data"
    },
    {
     "name": "stdout",
     "output_type": "stream",
     "text": [
      "\n",
      "Train:\n",
      " loss 1.012, accuracy 0.647, F1-Macro 0.256, F1-Weighted 0.582, \n",
      "Val:\n",
      " loss 0.987, accuracy 0.672, F1-Macro 0.266, F1-Weighted 0.594, \n"
     ]
    },
    {
     "data": {
      "application/vnd.jupyter.widget-view+json": {
       "model_id": "2ec5122d2e064b5bb24b5c893de78569",
       "version_major": 2,
       "version_minor": 0
      },
      "text/plain": [
       "HBox(children=(FloatProgress(value=0.0, max=165.0), HTML(value='')))"
      ]
     },
     "metadata": {},
     "output_type": "display_data"
    },
    {
     "name": "stdout",
     "output_type": "stream",
     "text": [
      "\n",
      "Train:\n",
      " loss 0.878, accuracy 0.692, F1-Macro 0.312, F1-Weighted 0.620, \n",
      "Val:\n",
      " loss 0.874, accuracy 0.706, F1-Macro 0.345, F1-Weighted 0.633, \n"
     ]
    },
    {
     "data": {
      "application/vnd.jupyter.widget-view+json": {
       "model_id": "a386f5190af04510afc26a69e23a5d80",
       "version_major": 2,
       "version_minor": 0
      },
      "text/plain": [
       "HBox(children=(FloatProgress(value=0.0, max=165.0), HTML(value='')))"
      ]
     },
     "metadata": {},
     "output_type": "display_data"
    },
    {
     "name": "stdout",
     "output_type": "stream",
     "text": [
      "\n",
      "Train:\n",
      " loss 0.806, accuracy 0.720, F1-Macro 0.367, F1-Weighted 0.655, \n",
      "Val:\n",
      " loss 1.200, accuracy 0.647, F1-Macro 0.297, F1-Weighted 0.585, \n"
     ]
    },
    {
     "data": {
      "application/vnd.jupyter.widget-view+json": {
       "model_id": "411e0358fe2a4d8f80196b1ce04a3443",
       "version_major": 2,
       "version_minor": 0
      },
      "text/plain": [
       "HBox(children=(FloatProgress(value=0.0, max=165.0), HTML(value='')))"
      ]
     },
     "metadata": {},
     "output_type": "display_data"
    },
    {
     "name": "stdout",
     "output_type": "stream",
     "text": [
      "\n",
      "Train:\n",
      " loss 0.807, accuracy 0.737, F1-Macro 0.428, F1-Weighted 0.699, \n",
      "Val:\n",
      " loss 0.689, accuracy 0.790, F1-Macro 0.488, F1-Weighted 0.744, \n"
     ]
    },
    {
     "data": {
      "application/vnd.jupyter.widget-view+json": {
       "model_id": "aee1aebe395a463eb2ab958446e8a625",
       "version_major": 2,
       "version_minor": 0
      },
      "text/plain": [
       "HBox(children=(FloatProgress(value=0.0, max=165.0), HTML(value='')))"
      ]
     },
     "metadata": {},
     "output_type": "display_data"
    },
    {
     "name": "stdout",
     "output_type": "stream",
     "text": [
      "\n",
      "Train:\n",
      " loss 0.557, accuracy 0.816, F1-Macro 0.561, F1-Weighted 0.786, \n",
      "Val:\n",
      " loss 0.559, accuracy 0.819, F1-Macro 0.548, F1-Weighted 0.793, \n"
     ]
    },
    {
     "data": {
      "application/vnd.jupyter.widget-view+json": {
       "model_id": "4245ccaca1bd41b7a22371f4c36b0e94",
       "version_major": 2,
       "version_minor": 0
      },
      "text/plain": [
       "HBox(children=(FloatProgress(value=0.0, max=165.0), HTML(value='')))"
      ]
     },
     "metadata": {},
     "output_type": "display_data"
    },
    {
     "name": "stdout",
     "output_type": "stream",
     "text": [
      "\n",
      "Train:\n",
      " loss 0.448, accuracy 0.849, F1-Macro 0.620, F1-Weighted 0.826, \n",
      "Val:\n",
      " loss 0.556, accuracy 0.830, F1-Macro 0.589, F1-Weighted 0.802, \n"
     ]
    },
    {
     "data": {
      "application/vnd.jupyter.widget-view+json": {
       "model_id": "8214e54b58a74359a1e94388149c9785",
       "version_major": 2,
       "version_minor": 0
      },
      "text/plain": [
       "HBox(children=(FloatProgress(value=0.0, max=165.0), HTML(value='')))"
      ]
     },
     "metadata": {},
     "output_type": "display_data"
    },
    {
     "name": "stdout",
     "output_type": "stream",
     "text": [
      "\n",
      "Train:\n",
      " loss 0.400, accuracy 0.869, F1-Macro 0.659, F1-Weighted 0.847, \n",
      "Val:\n",
      " loss 0.417, accuracy 0.889, F1-Macro 0.744, F1-Weighted 0.878, \n"
     ]
    },
    {
     "data": {
      "application/vnd.jupyter.widget-view+json": {
       "model_id": "53200ba6c9b0477687f26a0d1cdb1b0b",
       "version_major": 2,
       "version_minor": 0
      },
      "text/plain": [
       "HBox(children=(FloatProgress(value=0.0, max=165.0), HTML(value='')))"
      ]
     },
     "metadata": {},
     "output_type": "display_data"
    },
    {
     "name": "stdout",
     "output_type": "stream",
     "text": [
      "\n",
      "Train:\n",
      " loss 0.413, accuracy 0.873, F1-Macro 0.673, F1-Weighted 0.857, \n",
      "Val:\n",
      " loss 0.402, accuracy 0.898, F1-Macro 0.722, F1-Weighted 0.883, \n"
     ]
    },
    {
     "data": {
      "application/vnd.jupyter.widget-view+json": {
       "model_id": "009cbfb3d44a4325af87ac078af29db0",
       "version_major": 2,
       "version_minor": 0
      },
      "text/plain": [
       "HBox(children=(FloatProgress(value=0.0, max=165.0), HTML(value='')))"
      ]
     },
     "metadata": {},
     "output_type": "display_data"
    },
    {
     "name": "stdout",
     "output_type": "stream",
     "text": [
      "\n",
      "Train:\n",
      " loss 0.295, accuracy 0.914, F1-Macro 0.746, F1-Weighted 0.898, \n",
      "Val:\n",
      " loss 0.344, accuracy 0.892, F1-Macro 0.719, F1-Weighted 0.877, \n"
     ]
    },
    {
     "data": {
      "application/vnd.jupyter.widget-view+json": {
       "model_id": "65e5718cbdfd49f7a306208fa1f8f003",
       "version_major": 2,
       "version_minor": 0
      },
      "text/plain": [
       "HBox(children=(FloatProgress(value=0.0, max=165.0), HTML(value='')))"
      ]
     },
     "metadata": {},
     "output_type": "display_data"
    },
    {
     "name": "stdout",
     "output_type": "stream",
     "text": [
      "\n",
      "Train:\n",
      " loss 0.248, accuracy 0.923, F1-Macro 0.792, F1-Weighted 0.914, \n",
      "Val:\n",
      " loss 0.304, accuracy 0.912, F1-Macro 0.757, F1-Weighted 0.898, \n"
     ]
    },
    {
     "data": {
      "application/vnd.jupyter.widget-view+json": {
       "model_id": "e74c6a911f2d4c7f814942eb15d26570",
       "version_major": 2,
       "version_minor": 0
      },
      "text/plain": [
       "HBox(children=(FloatProgress(value=0.0, max=165.0), HTML(value='')))"
      ]
     },
     "metadata": {},
     "output_type": "display_data"
    },
    {
     "name": "stdout",
     "output_type": "stream",
     "text": [
      "\n",
      "Train:\n",
      " loss 0.240, accuracy 0.922, F1-Macro 0.787, F1-Weighted 0.914, \n",
      "Val:\n",
      " loss 0.318, accuracy 0.903, F1-Macro 0.748, F1-Weighted 0.895, \n"
     ]
    },
    {
     "data": {
      "application/vnd.jupyter.widget-view+json": {
       "model_id": "7320792496e24bb9bd2477f12fa98216",
       "version_major": 2,
       "version_minor": 0
      },
      "text/plain": [
       "HBox(children=(FloatProgress(value=0.0, max=165.0), HTML(value='')))"
      ]
     },
     "metadata": {},
     "output_type": "display_data"
    },
    {
     "name": "stdout",
     "output_type": "stream",
     "text": [
      "\n",
      "Train:\n",
      " loss 0.216, accuracy 0.931, F1-Macro 0.822, F1-Weighted 0.927, \n",
      "Val:\n",
      " loss 0.371, accuracy 0.886, F1-Macro 0.751, F1-Weighted 0.876, \n"
     ]
    },
    {
     "data": {
      "application/vnd.jupyter.widget-view+json": {
       "model_id": "49bf1a7b5cb249c485f5c1bb93a86362",
       "version_major": 2,
       "version_minor": 0
      },
      "text/plain": [
       "HBox(children=(FloatProgress(value=0.0, max=165.0), HTML(value='')))"
      ]
     },
     "metadata": {},
     "output_type": "display_data"
    },
    {
     "name": "stdout",
     "output_type": "stream",
     "text": [
      "\n",
      "Train:\n",
      " loss 0.227, accuracy 0.925, F1-Macro 0.813, F1-Weighted 0.922, \n",
      "Val:\n",
      " loss 0.294, accuracy 0.924, F1-Macro 0.834, F1-Weighted 0.921, \n"
     ]
    },
    {
     "data": {
      "application/vnd.jupyter.widget-view+json": {
       "model_id": "b0710e282c794c0d8e80448ab655a0f9",
       "version_major": 2,
       "version_minor": 0
      },
      "text/plain": [
       "HBox(children=(FloatProgress(value=0.0, max=165.0), HTML(value='')))"
      ]
     },
     "metadata": {},
     "output_type": "display_data"
    },
    {
     "name": "stdout",
     "output_type": "stream",
     "text": [
      "\n",
      "Train:\n",
      " loss 0.179, accuracy 0.945, F1-Macro 0.857, F1-Weighted 0.943, \n",
      "Val:\n",
      " loss 0.273, accuracy 0.935, F1-Macro 0.860, F1-Weighted 0.933, \n"
     ]
    },
    {
     "data": {
      "application/vnd.jupyter.widget-view+json": {
       "model_id": "bedadf35ad9e4441a02ac2e151089cd7",
       "version_major": 2,
       "version_minor": 0
      },
      "text/plain": [
       "HBox(children=(FloatProgress(value=0.0, max=165.0), HTML(value='')))"
      ]
     },
     "metadata": {},
     "output_type": "display_data"
    },
    {
     "name": "stdout",
     "output_type": "stream",
     "text": [
      "\n",
      "Train:\n",
      " loss 0.189, accuracy 0.938, F1-Macro 0.834, F1-Weighted 0.935, \n",
      "Val:\n",
      " loss 0.261, accuracy 0.933, F1-Macro 0.823, F1-Weighted 0.926, \n"
     ]
    },
    {
     "data": {
      "application/vnd.jupyter.widget-view+json": {
       "model_id": "0e82efe64a704830a73d44c4cdf149ae",
       "version_major": 2,
       "version_minor": 0
      },
      "text/plain": [
       "HBox(children=(FloatProgress(value=0.0, max=165.0), HTML(value='')))"
      ]
     },
     "metadata": {},
     "output_type": "display_data"
    },
    {
     "name": "stdout",
     "output_type": "stream",
     "text": [
      "\n",
      "Train:\n",
      " loss 0.160, accuracy 0.947, F1-Macro 0.861, F1-Weighted 0.944, \n",
      "Val:\n",
      " loss 0.288, accuracy 0.930, F1-Macro 0.838, F1-Weighted 0.928, \n"
     ]
    },
    {
     "data": {
      "application/vnd.jupyter.widget-view+json": {
       "model_id": "083e129a7b454b638dd5feaaf28eadde",
       "version_major": 2,
       "version_minor": 0
      },
      "text/plain": [
       "HBox(children=(FloatProgress(value=0.0, max=165.0), HTML(value='')))"
      ]
     },
     "metadata": {},
     "output_type": "display_data"
    },
    {
     "name": "stdout",
     "output_type": "stream",
     "text": [
      "\n",
      "Train:\n",
      " loss 0.149, accuracy 0.948, F1-Macro 0.872, F1-Weighted 0.946, \n",
      "Val:\n",
      " loss 0.255, accuracy 0.948, F1-Macro 0.898, F1-Weighted 0.948, \n"
     ]
    },
    {
     "data": {
      "application/vnd.jupyter.widget-view+json": {
       "model_id": "01b0ad2d3ead4b919b05d36e07b73c3d",
       "version_major": 2,
       "version_minor": 0
      },
      "text/plain": [
       "HBox(children=(FloatProgress(value=0.0, max=165.0), HTML(value='')))"
      ]
     },
     "metadata": {},
     "output_type": "display_data"
    },
    {
     "name": "stdout",
     "output_type": "stream",
     "text": [
      "\n",
      "Train:\n",
      " loss 0.122, accuracy 0.963, F1-Macro 0.909, F1-Weighted 0.962, \n",
      "Val:\n",
      " loss 0.270, accuracy 0.935, F1-Macro 0.860, F1-Weighted 0.936, \n"
     ]
    },
    {
     "data": {
      "application/vnd.jupyter.widget-view+json": {
       "model_id": "ba9c0001de314f90b37c01010d71452f",
       "version_major": 2,
       "version_minor": 0
      },
      "text/plain": [
       "HBox(children=(FloatProgress(value=0.0, max=165.0), HTML(value='')))"
      ]
     },
     "metadata": {},
     "output_type": "display_data"
    },
    {
     "name": "stdout",
     "output_type": "stream",
     "text": [
      "\n",
      "Train:\n",
      " loss 0.135, accuracy 0.962, F1-Macro 0.915, F1-Weighted 0.962, \n",
      "Val:\n",
      " loss 0.258, accuracy 0.943, F1-Macro 0.887, F1-Weighted 0.944, \n"
     ]
    },
    {
     "data": {
      "application/vnd.jupyter.widget-view+json": {
       "model_id": "9d5886ba8c39499a968515436107e74f",
       "version_major": 2,
       "version_minor": 0
      },
      "text/plain": [
       "HBox(children=(FloatProgress(value=0.0, max=165.0), HTML(value='')))"
      ]
     },
     "metadata": {},
     "output_type": "display_data"
    },
    {
     "name": "stdout",
     "output_type": "stream",
     "text": [
      "\n",
      "Train:\n",
      " loss 0.106, accuracy 0.968, F1-Macro 0.930, F1-Weighted 0.968, \n",
      "Val:\n",
      " loss 0.239, accuracy 0.945, F1-Macro 0.889, F1-Weighted 0.947, \n"
     ]
    },
    {
     "data": {
      "application/vnd.jupyter.widget-view+json": {
       "model_id": "3d652e3bd4ce43d9aadd27038f067cc4",
       "version_major": 2,
       "version_minor": 0
      },
      "text/plain": [
       "HBox(children=(FloatProgress(value=0.0, max=165.0), HTML(value='')))"
      ]
     },
     "metadata": {},
     "output_type": "display_data"
    },
    {
     "name": "stdout",
     "output_type": "stream",
     "text": [
      "\n",
      "Train:\n",
      " loss 0.094, accuracy 0.974, F1-Macro 0.945, F1-Weighted 0.974, \n",
      "Val:\n",
      " loss 0.230, accuracy 0.945, F1-Macro 0.892, F1-Weighted 0.946, \n"
     ]
    },
    {
     "data": {
      "application/vnd.jupyter.widget-view+json": {
       "model_id": "c4f2c1b2d3f54bc4ae31b82c135808ab",
       "version_major": 2,
       "version_minor": 0
      },
      "text/plain": [
       "HBox(children=(FloatProgress(value=0.0, max=165.0), HTML(value='')))"
      ]
     },
     "metadata": {},
     "output_type": "display_data"
    },
    {
     "name": "stdout",
     "output_type": "stream",
     "text": [
      "\n",
      "Train:\n",
      " loss 0.097, accuracy 0.975, F1-Macro 0.947, F1-Weighted 0.975, \n",
      "Val:\n",
      " loss 0.280, accuracy 0.940, F1-Macro 0.887, F1-Weighted 0.940, \n"
     ]
    },
    {
     "data": {
      "application/vnd.jupyter.widget-view+json": {
       "model_id": "64d36c094df244f4abb2bf451900d4eb",
       "version_major": 2,
       "version_minor": 0
      },
      "text/plain": [
       "HBox(children=(FloatProgress(value=0.0, max=165.0), HTML(value='')))"
      ]
     },
     "metadata": {},
     "output_type": "display_data"
    },
    {
     "name": "stdout",
     "output_type": "stream",
     "text": [
      "\n",
      "Train:\n",
      " loss 0.086, accuracy 0.977, F1-Macro 0.948, F1-Weighted 0.977, \n",
      "Val:\n",
      " loss 0.260, accuracy 0.944, F1-Macro 0.894, F1-Weighted 0.945, \n"
     ]
    },
    {
     "data": {
      "application/vnd.jupyter.widget-view+json": {
       "model_id": "d8dd3cdbc0be40ceb577ffc53a5a79ae",
       "version_major": 2,
       "version_minor": 0
      },
      "text/plain": [
       "HBox(children=(FloatProgress(value=0.0, max=165.0), HTML(value='')))"
      ]
     },
     "metadata": {},
     "output_type": "display_data"
    },
    {
     "name": "stdout",
     "output_type": "stream",
     "text": [
      "\n",
      "Train:\n",
      " loss 0.079, accuracy 0.978, F1-Macro 0.950, F1-Weighted 0.977, \n",
      "Val:\n",
      " loss 0.287, accuracy 0.934, F1-Macro 0.878, F1-Weighted 0.934, \n"
     ]
    },
    {
     "data": {
      "application/vnd.jupyter.widget-view+json": {
       "model_id": "b93a5d8882454c0e8124c8b3571ed6e3",
       "version_major": 2,
       "version_minor": 0
      },
      "text/plain": [
       "HBox(children=(FloatProgress(value=0.0, max=165.0), HTML(value='')))"
      ]
     },
     "metadata": {},
     "output_type": "display_data"
    },
    {
     "name": "stdout",
     "output_type": "stream",
     "text": [
      "\n",
      "Train:\n",
      " loss 0.068, accuracy 0.980, F1-Macro 0.960, F1-Weighted 0.980, \n",
      "Val:\n",
      " loss 0.261, accuracy 0.948, F1-Macro 0.901, F1-Weighted 0.949, \n"
     ]
    },
    {
     "data": {
      "application/vnd.jupyter.widget-view+json": {
       "model_id": "4dcfc99354784a6197c3e3f41193d95c",
       "version_major": 2,
       "version_minor": 0
      },
      "text/plain": [
       "HBox(children=(FloatProgress(value=0.0, max=165.0), HTML(value='')))"
      ]
     },
     "metadata": {},
     "output_type": "display_data"
    },
    {
     "name": "stdout",
     "output_type": "stream",
     "text": [
      "\n",
      "Train:\n",
      " loss 0.067, accuracy 0.980, F1-Macro 0.956, F1-Weighted 0.980, \n",
      "Val:\n",
      " loss 0.276, accuracy 0.950, F1-Macro 0.903, F1-Weighted 0.950, \n"
     ]
    },
    {
     "data": {
      "application/vnd.jupyter.widget-view+json": {
       "model_id": "fbb21025d7064ec98f7c687097954c2c",
       "version_major": 2,
       "version_minor": 0
      },
      "text/plain": [
       "HBox(children=(FloatProgress(value=0.0, max=165.0), HTML(value='')))"
      ]
     },
     "metadata": {},
     "output_type": "display_data"
    },
    {
     "name": "stdout",
     "output_type": "stream",
     "text": [
      "\n",
      "Train:\n",
      " loss 0.065, accuracy 0.980, F1-Macro 0.957, F1-Weighted 0.980, \n",
      "Val:\n",
      " loss 0.271, accuracy 0.941, F1-Macro 0.885, F1-Weighted 0.941, \n"
     ]
    },
    {
     "data": {
      "application/vnd.jupyter.widget-view+json": {
       "model_id": "43c57c2a788143b3b29fab541f437e71",
       "version_major": 2,
       "version_minor": 0
      },
      "text/plain": [
       "HBox(children=(FloatProgress(value=0.0, max=165.0), HTML(value='')))"
      ]
     },
     "metadata": {},
     "output_type": "display_data"
    },
    {
     "name": "stdout",
     "output_type": "stream",
     "text": [
      "\n",
      "Train:\n",
      " loss 0.073, accuracy 0.978, F1-Macro 0.952, F1-Weighted 0.978, \n",
      "Val:\n",
      " loss 0.258, accuracy 0.950, F1-Macro 0.905, F1-Weighted 0.951, \n"
     ]
    },
    {
     "data": {
      "application/vnd.jupyter.widget-view+json": {
       "model_id": "881dc8c9bd484845990920124bf256df",
       "version_major": 2,
       "version_minor": 0
      },
      "text/plain": [
       "HBox(children=(FloatProgress(value=0.0, max=165.0), HTML(value='')))"
      ]
     },
     "metadata": {},
     "output_type": "display_data"
    },
    {
     "name": "stdout",
     "output_type": "stream",
     "text": [
      "\n",
      "Train:\n",
      " loss 0.059, accuracy 0.984, F1-Macro 0.966, F1-Weighted 0.984, \n",
      "Val:\n",
      " loss 0.250, accuracy 0.953, F1-Macro 0.908, F1-Weighted 0.953, \n"
     ]
    },
    {
     "data": {
      "application/vnd.jupyter.widget-view+json": {
       "model_id": "39ed371077b941e98d74cf5fb56e97d1",
       "version_major": 2,
       "version_minor": 0
      },
      "text/plain": [
       "HBox(children=(FloatProgress(value=0.0, max=165.0), HTML(value='')))"
      ]
     },
     "metadata": {},
     "output_type": "display_data"
    },
    {
     "name": "stdout",
     "output_type": "stream",
     "text": [
      "\n",
      "Train:\n",
      " loss 0.071, accuracy 0.982, F1-Macro 0.957, F1-Weighted 0.982, \n",
      "Val:\n",
      " loss 0.267, accuracy 0.942, F1-Macro 0.892, F1-Weighted 0.943, \n"
     ]
    },
    {
     "data": {
      "application/vnd.jupyter.widget-view+json": {
       "model_id": "d408b2a5ff7344e080298379967fdb31",
       "version_major": 2,
       "version_minor": 0
      },
      "text/plain": [
       "HBox(children=(FloatProgress(value=0.0, max=165.0), HTML(value='')))"
      ]
     },
     "metadata": {},
     "output_type": "display_data"
    },
    {
     "name": "stdout",
     "output_type": "stream",
     "text": [
      "\n",
      "Train:\n",
      " loss 0.052, accuracy 0.985, F1-Macro 0.968, F1-Weighted 0.985, \n",
      "Val:\n",
      " loss 0.251, accuracy 0.948, F1-Macro 0.907, F1-Weighted 0.949, \n"
     ]
    },
    {
     "data": {
      "application/vnd.jupyter.widget-view+json": {
       "model_id": "5199116906e6497aa1c8592975421d60",
       "version_major": 2,
       "version_minor": 0
      },
      "text/plain": [
       "HBox(children=(FloatProgress(value=0.0, max=165.0), HTML(value='')))"
      ]
     },
     "metadata": {},
     "output_type": "display_data"
    },
    {
     "name": "stdout",
     "output_type": "stream",
     "text": [
      "\n",
      "Train:\n",
      " loss 0.054, accuracy 0.986, F1-Macro 0.971, F1-Weighted 0.986, \n",
      "Val:\n",
      " loss 0.261, accuracy 0.955, F1-Macro 0.920, F1-Weighted 0.955, \n"
     ]
    },
    {
     "data": {
      "application/vnd.jupyter.widget-view+json": {
       "model_id": "ff85932080dd4c7593d6ad0a094354b5",
       "version_major": 2,
       "version_minor": 0
      },
      "text/plain": [
       "HBox(children=(FloatProgress(value=0.0, max=165.0), HTML(value='')))"
      ]
     },
     "metadata": {},
     "output_type": "display_data"
    },
    {
     "name": "stdout",
     "output_type": "stream",
     "text": [
      "\n",
      "Train:\n",
      " loss 0.051, accuracy 0.986, F1-Macro 0.973, F1-Weighted 0.986, \n",
      "Val:\n",
      " loss 0.245, accuracy 0.950, F1-Macro 0.909, F1-Weighted 0.950, \n"
     ]
    },
    {
     "data": {
      "application/vnd.jupyter.widget-view+json": {
       "model_id": "bf23aa63682b4b31a50ccaedb80468eb",
       "version_major": 2,
       "version_minor": 0
      },
      "text/plain": [
       "HBox(children=(FloatProgress(value=0.0, max=165.0), HTML(value='')))"
      ]
     },
     "metadata": {},
     "output_type": "display_data"
    },
    {
     "name": "stdout",
     "output_type": "stream",
     "text": [
      "\n",
      "Train:\n",
      " loss 0.050, accuracy 0.986, F1-Macro 0.971, F1-Weighted 0.986, \n",
      "Val:\n",
      " loss 0.242, accuracy 0.953, F1-Macro 0.913, F1-Weighted 0.954, \n"
     ]
    },
    {
     "data": {
      "application/vnd.jupyter.widget-view+json": {
       "model_id": "550b9650230a4449a6332ace70fa7973",
       "version_major": 2,
       "version_minor": 0
      },
      "text/plain": [
       "HBox(children=(FloatProgress(value=0.0, max=165.0), HTML(value='')))"
      ]
     },
     "metadata": {},
     "output_type": "display_data"
    },
    {
     "name": "stdout",
     "output_type": "stream",
     "text": [
      "\n",
      "Train:\n",
      " loss 0.057, accuracy 0.982, F1-Macro 0.964, F1-Weighted 0.982, \n",
      "Val:\n",
      " loss 0.251, accuracy 0.947, F1-Macro 0.906, F1-Weighted 0.947, \n"
     ]
    },
    {
     "data": {
      "application/vnd.jupyter.widget-view+json": {
       "model_id": "779d3cc989b14c7c9801f8cdd26c5a62",
       "version_major": 2,
       "version_minor": 0
      },
      "text/plain": [
       "HBox(children=(FloatProgress(value=0.0, max=165.0), HTML(value='')))"
      ]
     },
     "metadata": {},
     "output_type": "display_data"
    },
    {
     "name": "stdout",
     "output_type": "stream",
     "text": [
      "\n",
      "Train:\n",
      " loss 0.043, accuracy 0.987, F1-Macro 0.976, F1-Weighted 0.987, \n",
      "Val:\n",
      " loss 0.247, accuracy 0.954, F1-Macro 0.919, F1-Weighted 0.954, \n"
     ]
    },
    {
     "data": {
      "application/vnd.jupyter.widget-view+json": {
       "model_id": "ce89db80ba9945dcb32e71d9801de485",
       "version_major": 2,
       "version_minor": 0
      },
      "text/plain": [
       "HBox(children=(FloatProgress(value=0.0, max=165.0), HTML(value='')))"
      ]
     },
     "metadata": {},
     "output_type": "display_data"
    },
    {
     "name": "stdout",
     "output_type": "stream",
     "text": [
      "\n",
      "Train:\n",
      " loss 0.043, accuracy 0.988, F1-Macro 0.976, F1-Weighted 0.988, \n",
      "Val:\n",
      " loss 0.252, accuracy 0.950, F1-Macro 0.906, F1-Weighted 0.950, \n"
     ]
    },
    {
     "data": {
      "application/vnd.jupyter.widget-view+json": {
       "model_id": "b630e941af234ac698d3be34f6d04e59",
       "version_major": 2,
       "version_minor": 0
      },
      "text/plain": [
       "HBox(children=(FloatProgress(value=0.0, max=165.0), HTML(value='')))"
      ]
     },
     "metadata": {},
     "output_type": "display_data"
    },
    {
     "name": "stdout",
     "output_type": "stream",
     "text": [
      "\n",
      "Train:\n",
      " loss 0.036, accuracy 0.991, F1-Macro 0.981, F1-Weighted 0.991, \n",
      "Val:\n",
      " loss 0.244, accuracy 0.955, F1-Macro 0.921, F1-Weighted 0.955, \n"
     ]
    },
    {
     "data": {
      "application/vnd.jupyter.widget-view+json": {
       "model_id": "fa002556351646fbb525efab0ebc50a4",
       "version_major": 2,
       "version_minor": 0
      },
      "text/plain": [
       "HBox(children=(FloatProgress(value=0.0, max=165.0), HTML(value='')))"
      ]
     },
     "metadata": {},
     "output_type": "display_data"
    },
    {
     "name": "stdout",
     "output_type": "stream",
     "text": [
      "\n",
      "Train:\n",
      " loss 0.034, accuracy 0.990, F1-Macro 0.980, F1-Weighted 0.990, \n",
      "Val:\n",
      " loss 0.240, accuracy 0.955, F1-Macro 0.922, F1-Weighted 0.955, \n"
     ]
    },
    {
     "data": {
      "application/vnd.jupyter.widget-view+json": {
       "model_id": "fdf1a012cdeb4927bb7d14644b6d4d7a",
       "version_major": 2,
       "version_minor": 0
      },
      "text/plain": [
       "HBox(children=(FloatProgress(value=0.0, max=165.0), HTML(value='')))"
      ]
     },
     "metadata": {},
     "output_type": "display_data"
    },
    {
     "name": "stdout",
     "output_type": "stream",
     "text": [
      "\n",
      "Train:\n",
      " loss 0.031, accuracy 0.991, F1-Macro 0.983, F1-Weighted 0.991, \n",
      "Val:\n",
      " loss 0.239, accuracy 0.955, F1-Macro 0.921, F1-Weighted 0.955, \n"
     ]
    },
    {
     "data": {
      "application/vnd.jupyter.widget-view+json": {
       "model_id": "3347fcbf54974f12b915ebd70a2bf1a4",
       "version_major": 2,
       "version_minor": 0
      },
      "text/plain": [
       "HBox(children=(FloatProgress(value=0.0, max=165.0), HTML(value='')))"
      ]
     },
     "metadata": {},
     "output_type": "display_data"
    },
    {
     "name": "stdout",
     "output_type": "stream",
     "text": [
      "\n",
      "Train:\n",
      " loss 0.045, accuracy 0.988, F1-Macro 0.977, F1-Weighted 0.988, \n",
      "Val:\n",
      " loss 0.249, accuracy 0.955, F1-Macro 0.922, F1-Weighted 0.955, \n"
     ]
    },
    {
     "data": {
      "application/vnd.jupyter.widget-view+json": {
       "model_id": "36a0079e677a415287e98f0cde1ff75b",
       "version_major": 2,
       "version_minor": 0
      },
      "text/plain": [
       "HBox(children=(FloatProgress(value=0.0, max=165.0), HTML(value='')))"
      ]
     },
     "metadata": {},
     "output_type": "display_data"
    },
    {
     "name": "stdout",
     "output_type": "stream",
     "text": [
      "\n",
      "Train:\n",
      " loss 0.045, accuracy 0.988, F1-Macro 0.978, F1-Weighted 0.988, \n",
      "Val:\n",
      " loss 0.282, accuracy 0.949, F1-Macro 0.904, F1-Weighted 0.949, \n"
     ]
    },
    {
     "data": {
      "application/vnd.jupyter.widget-view+json": {
       "model_id": "da8e7c6eda75414f8b7e08431ae91afb",
       "version_major": 2,
       "version_minor": 0
      },
      "text/plain": [
       "HBox(children=(FloatProgress(value=0.0, max=165.0), HTML(value='')))"
      ]
     },
     "metadata": {},
     "output_type": "display_data"
    },
    {
     "name": "stdout",
     "output_type": "stream",
     "text": [
      "\n",
      "Train:\n",
      " loss 0.043, accuracy 0.989, F1-Macro 0.979, F1-Weighted 0.989, \n",
      "Val:\n",
      " loss 0.293, accuracy 0.950, F1-Macro 0.909, F1-Weighted 0.951, \n"
     ]
    },
    {
     "data": {
      "application/vnd.jupyter.widget-view+json": {
       "model_id": "7b4414326f384d2f888919ab7cd37b8d",
       "version_major": 2,
       "version_minor": 0
      },
      "text/plain": [
       "HBox(children=(FloatProgress(value=0.0, max=165.0), HTML(value='')))"
      ]
     },
     "metadata": {},
     "output_type": "display_data"
    },
    {
     "name": "stdout",
     "output_type": "stream",
     "text": [
      "\n",
      "Train:\n",
      " loss 0.041, accuracy 0.990, F1-Macro 0.979, F1-Weighted 0.990, \n",
      "Val:\n",
      " loss 0.273, accuracy 0.955, F1-Macro 0.922, F1-Weighted 0.955, \n"
     ]
    },
    {
     "data": {
      "application/vnd.jupyter.widget-view+json": {
       "model_id": "6e29ffe54db94efb9feb4d2c4f683ee6",
       "version_major": 2,
       "version_minor": 0
      },
      "text/plain": [
       "HBox(children=(FloatProgress(value=0.0, max=165.0), HTML(value='')))"
      ]
     },
     "metadata": {},
     "output_type": "display_data"
    },
    {
     "name": "stdout",
     "output_type": "stream",
     "text": [
      "\n",
      "Train:\n",
      " loss 0.050, accuracy 0.986, F1-Macro 0.970, F1-Weighted 0.986, \n",
      "Val:\n",
      " loss 0.481, accuracy 0.915, F1-Macro 0.852, F1-Weighted 0.913, \n"
     ]
    },
    {
     "data": {
      "application/vnd.jupyter.widget-view+json": {
       "model_id": "070a8edb04d346c3ab608ab135ec710e",
       "version_major": 2,
       "version_minor": 0
      },
      "text/plain": [
       "HBox(children=(FloatProgress(value=0.0, max=165.0), HTML(value='')))"
      ]
     },
     "metadata": {},
     "output_type": "display_data"
    },
    {
     "name": "stdout",
     "output_type": "stream",
     "text": [
      "\n",
      "Train:\n",
      " loss 0.042, accuracy 0.988, F1-Macro 0.976, F1-Weighted 0.988, \n",
      "Val:\n",
      " loss 0.244, accuracy 0.953, F1-Macro 0.919, F1-Weighted 0.954, \n"
     ]
    },
    {
     "data": {
      "application/vnd.jupyter.widget-view+json": {
       "model_id": "dc96f2589b8c408b8f0611e5a6587c67",
       "version_major": 2,
       "version_minor": 0
      },
      "text/plain": [
       "HBox(children=(FloatProgress(value=0.0, max=165.0), HTML(value='')))"
      ]
     },
     "metadata": {},
     "output_type": "display_data"
    },
    {
     "name": "stdout",
     "output_type": "stream",
     "text": [
      "\n",
      "Train:\n",
      " loss 0.038, accuracy 0.991, F1-Macro 0.980, F1-Weighted 0.991, \n",
      "Val:\n",
      " loss 0.294, accuracy 0.942, F1-Macro 0.897, F1-Weighted 0.942, \n"
     ]
    },
    {
     "data": {
      "application/vnd.jupyter.widget-view+json": {
       "model_id": "d274e310ceb64a2eb9d84253c1a28532",
       "version_major": 2,
       "version_minor": 0
      },
      "text/plain": [
       "HBox(children=(FloatProgress(value=0.0, max=165.0), HTML(value='')))"
      ]
     },
     "metadata": {},
     "output_type": "display_data"
    },
    {
     "name": "stdout",
     "output_type": "stream",
     "text": [
      "\n",
      "Train:\n",
      " loss 0.029, accuracy 0.992, F1-Macro 0.984, F1-Weighted 0.992, \n",
      "Val:\n",
      " loss 0.278, accuracy 0.952, F1-Macro 0.917, F1-Weighted 0.952, \n"
     ]
    },
    {
     "data": {
      "application/vnd.jupyter.widget-view+json": {
       "model_id": "7dbee8f4b4a547f0bcf38fba20f9a306",
       "version_major": 2,
       "version_minor": 0
      },
      "text/plain": [
       "HBox(children=(FloatProgress(value=0.0, max=165.0), HTML(value='')))"
      ]
     },
     "metadata": {},
     "output_type": "display_data"
    },
    {
     "name": "stdout",
     "output_type": "stream",
     "text": [
      "\n",
      "Train:\n",
      " loss 0.027, accuracy 0.993, F1-Macro 0.987, F1-Weighted 0.993, \n",
      "Val:\n",
      " loss 0.276, accuracy 0.952, F1-Macro 0.915, F1-Weighted 0.953, \n"
     ]
    },
    {
     "data": {
      "application/vnd.jupyter.widget-view+json": {
       "model_id": "3404b7b84f054e54987f92cef52f0f79",
       "version_major": 2,
       "version_minor": 0
      },
      "text/plain": [
       "HBox(children=(FloatProgress(value=0.0, max=165.0), HTML(value='')))"
      ]
     },
     "metadata": {},
     "output_type": "display_data"
    },
    {
     "name": "stdout",
     "output_type": "stream",
     "text": [
      "\n",
      "Train:\n",
      " loss 0.028, accuracy 0.993, F1-Macro 0.986, F1-Weighted 0.993, \n",
      "Val:\n",
      " loss 0.268, accuracy 0.955, F1-Macro 0.914, F1-Weighted 0.955, \n"
     ]
    },
    {
     "data": {
      "application/vnd.jupyter.widget-view+json": {
       "model_id": "da47c106566943339a624075772d6b2b",
       "version_major": 2,
       "version_minor": 0
      },
      "text/plain": [
       "HBox(children=(FloatProgress(value=0.0, max=165.0), HTML(value='')))"
      ]
     },
     "metadata": {},
     "output_type": "display_data"
    },
    {
     "name": "stdout",
     "output_type": "stream",
     "text": [
      "\n",
      "Train:\n",
      " loss 0.038, accuracy 0.989, F1-Macro 0.975, F1-Weighted 0.989, \n",
      "Val:\n",
      " loss 0.264, accuracy 0.953, F1-Macro 0.912, F1-Weighted 0.953, \n"
     ]
    },
    {
     "data": {
      "application/vnd.jupyter.widget-view+json": {
       "model_id": "533a5f1fa0cf484cbdedc919bd071b3e",
       "version_major": 2,
       "version_minor": 0
      },
      "text/plain": [
       "HBox(children=(FloatProgress(value=0.0, max=165.0), HTML(value='')))"
      ]
     },
     "metadata": {},
     "output_type": "display_data"
    },
    {
     "name": "stdout",
     "output_type": "stream",
     "text": [
      "\n",
      "Train:\n",
      " loss 0.035, accuracy 0.989, F1-Macro 0.977, F1-Weighted 0.989, \n",
      "Val:\n",
      " loss 0.273, accuracy 0.953, F1-Macro 0.920, F1-Weighted 0.953, \n"
     ]
    },
    {
     "data": {
      "application/vnd.jupyter.widget-view+json": {
       "model_id": "05c2445e8a804ba8b0cc87e669e7e9cf",
       "version_major": 2,
       "version_minor": 0
      },
      "text/plain": [
       "HBox(children=(FloatProgress(value=0.0, max=165.0), HTML(value='')))"
      ]
     },
     "metadata": {},
     "output_type": "display_data"
    },
    {
     "name": "stdout",
     "output_type": "stream",
     "text": [
      "\n",
      "Train:\n",
      " loss 0.024, accuracy 0.994, F1-Macro 0.988, F1-Weighted 0.994, \n",
      "Val:\n",
      " loss 0.265, accuracy 0.963, F1-Macro 0.936, F1-Weighted 0.963, \n"
     ]
    },
    {
     "data": {
      "application/vnd.jupyter.widget-view+json": {
       "model_id": "7f333920afb443a09cfa51e81e8adaee",
       "version_major": 2,
       "version_minor": 0
      },
      "text/plain": [
       "HBox(children=(FloatProgress(value=0.0, max=165.0), HTML(value='')))"
      ]
     },
     "metadata": {},
     "output_type": "display_data"
    },
    {
     "name": "stdout",
     "output_type": "stream",
     "text": [
      "\n",
      "Train:\n",
      " loss 0.027, accuracy 0.993, F1-Macro 0.981, F1-Weighted 0.993, \n",
      "Val:\n",
      " loss 0.273, accuracy 0.955, F1-Macro 0.923, F1-Weighted 0.955, \n"
     ]
    },
    {
     "data": {
      "application/vnd.jupyter.widget-view+json": {
       "model_id": "3b9da611b0714f019c0e70e8fce6936c",
       "version_major": 2,
       "version_minor": 0
      },
      "text/plain": [
       "HBox(children=(FloatProgress(value=0.0, max=165.0), HTML(value='')))"
      ]
     },
     "metadata": {},
     "output_type": "display_data"
    },
    {
     "name": "stdout",
     "output_type": "stream",
     "text": [
      "\n",
      "Train:\n",
      " loss 0.019, accuracy 0.994, F1-Macro 0.990, F1-Weighted 0.994, \n",
      "Val:\n",
      " loss 0.271, accuracy 0.955, F1-Macro 0.926, F1-Weighted 0.955, \n"
     ]
    },
    {
     "data": {
      "application/vnd.jupyter.widget-view+json": {
       "model_id": "ade1b2a36b0142b4968f1a1506663397",
       "version_major": 2,
       "version_minor": 0
      },
      "text/plain": [
       "HBox(children=(FloatProgress(value=0.0, max=165.0), HTML(value='')))"
      ]
     },
     "metadata": {},
     "output_type": "display_data"
    },
    {
     "name": "stdout",
     "output_type": "stream",
     "text": [
      "\n",
      "Train:\n",
      " loss 0.027, accuracy 0.994, F1-Macro 0.987, F1-Weighted 0.994, \n",
      "Val:\n",
      " loss 0.297, accuracy 0.951, F1-Macro 0.915, F1-Weighted 0.951, \n"
     ]
    },
    {
     "data": {
      "application/vnd.jupyter.widget-view+json": {
       "model_id": "a4879b0ec48b4875930d34a870e3707f",
       "version_major": 2,
       "version_minor": 0
      },
      "text/plain": [
       "HBox(children=(FloatProgress(value=0.0, max=165.0), HTML(value='')))"
      ]
     },
     "metadata": {},
     "output_type": "display_data"
    },
    {
     "name": "stdout",
     "output_type": "stream",
     "text": [
      "\n",
      "Train:\n",
      " loss 0.018, accuracy 0.995, F1-Macro 0.990, F1-Weighted 0.995, \n",
      "Val:\n",
      " loss 0.322, accuracy 0.953, F1-Macro 0.913, F1-Weighted 0.953, \n"
     ]
    },
    {
     "data": {
      "application/vnd.jupyter.widget-view+json": {
       "model_id": "1bb0068df68d4f96b12f28839134c527",
       "version_major": 2,
       "version_minor": 0
      },
      "text/plain": [
       "HBox(children=(FloatProgress(value=0.0, max=165.0), HTML(value='')))"
      ]
     },
     "metadata": {},
     "output_type": "display_data"
    },
    {
     "name": "stdout",
     "output_type": "stream",
     "text": [
      "\n",
      "Train:\n",
      " loss 0.025, accuracy 0.993, F1-Macro 0.986, F1-Weighted 0.993, \n",
      "Val:\n",
      " loss 0.286, accuracy 0.952, F1-Macro 0.915, F1-Weighted 0.953, \n"
     ]
    },
    {
     "data": {
      "application/vnd.jupyter.widget-view+json": {
       "model_id": "03b00a1425284c5b9ca229014f58451f",
       "version_major": 2,
       "version_minor": 0
      },
      "text/plain": [
       "HBox(children=(FloatProgress(value=0.0, max=165.0), HTML(value='')))"
      ]
     },
     "metadata": {},
     "output_type": "display_data"
    },
    {
     "name": "stdout",
     "output_type": "stream",
     "text": [
      "\n",
      "Train:\n",
      " loss 0.021, accuracy 0.994, F1-Macro 0.989, F1-Weighted 0.994, \n",
      "Val:\n",
      " loss 0.285, accuracy 0.954, F1-Macro 0.921, F1-Weighted 0.954, \n"
     ]
    },
    {
     "data": {
      "application/vnd.jupyter.widget-view+json": {
       "model_id": "b6ad878aa7f04e28805efd3b54cb6dd0",
       "version_major": 2,
       "version_minor": 0
      },
      "text/plain": [
       "HBox(children=(FloatProgress(value=0.0, max=165.0), HTML(value='')))"
      ]
     },
     "metadata": {},
     "output_type": "display_data"
    },
    {
     "name": "stdout",
     "output_type": "stream",
     "text": [
      "\n",
      "Train:\n",
      " loss 0.027, accuracy 0.991, F1-Macro 0.982, F1-Weighted 0.991, \n",
      "Val:\n",
      " loss 0.267, accuracy 0.956, F1-Macro 0.927, F1-Weighted 0.956, \n"
     ]
    },
    {
     "data": {
      "application/vnd.jupyter.widget-view+json": {
       "model_id": "7ea42e0d407c4307b5da85f942977c2e",
       "version_major": 2,
       "version_minor": 0
      },
      "text/plain": [
       "HBox(children=(FloatProgress(value=0.0, max=165.0), HTML(value='')))"
      ]
     },
     "metadata": {},
     "output_type": "display_data"
    },
    {
     "name": "stdout",
     "output_type": "stream",
     "text": [
      "\n",
      "Train:\n",
      " loss 0.017, accuracy 0.996, F1-Macro 0.992, F1-Weighted 0.996, \n",
      "Val:\n",
      " loss 0.291, accuracy 0.950, F1-Macro 0.906, F1-Weighted 0.951, \n"
     ]
    },
    {
     "data": {
      "application/vnd.jupyter.widget-view+json": {
       "model_id": "39d6a51d66f34955a12f11ed754ec2da",
       "version_major": 2,
       "version_minor": 0
      },
      "text/plain": [
       "HBox(children=(FloatProgress(value=0.0, max=165.0), HTML(value='')))"
      ]
     },
     "metadata": {},
     "output_type": "display_data"
    },
    {
     "name": "stdout",
     "output_type": "stream",
     "text": [
      "\n",
      "Train:\n",
      " loss 0.022, accuracy 0.995, F1-Macro 0.990, F1-Weighted 0.995, \n",
      "Val:\n",
      " loss 0.285, accuracy 0.951, F1-Macro 0.907, F1-Weighted 0.952, \n"
     ]
    },
    {
     "data": {
      "application/vnd.jupyter.widget-view+json": {
       "model_id": "2a3756c6ab3743acb09874f08d5cd1e3",
       "version_major": 2,
       "version_minor": 0
      },
      "text/plain": [
       "HBox(children=(FloatProgress(value=0.0, max=165.0), HTML(value='')))"
      ]
     },
     "metadata": {},
     "output_type": "display_data"
    },
    {
     "name": "stdout",
     "output_type": "stream",
     "text": [
      "\n",
      "Train:\n",
      " loss 0.014, accuracy 0.995, F1-Macro 0.991, F1-Weighted 0.995, \n",
      "Val:\n",
      " loss 0.278, accuracy 0.956, F1-Macro 0.923, F1-Weighted 0.956, \n"
     ]
    },
    {
     "data": {
      "application/vnd.jupyter.widget-view+json": {
       "model_id": "35496096b97b4ebd88c0d9f55c3b1409",
       "version_major": 2,
       "version_minor": 0
      },
      "text/plain": [
       "HBox(children=(FloatProgress(value=0.0, max=165.0), HTML(value='')))"
      ]
     },
     "metadata": {},
     "output_type": "display_data"
    },
    {
     "name": "stdout",
     "output_type": "stream",
     "text": [
      "\n",
      "Train:\n",
      " loss 0.016, accuracy 0.995, F1-Macro 0.990, F1-Weighted 0.995, \n",
      "Val:\n",
      " loss 0.296, accuracy 0.949, F1-Macro 0.905, F1-Weighted 0.949, \n"
     ]
    },
    {
     "data": {
      "application/vnd.jupyter.widget-view+json": {
       "model_id": "6c41f88459094dfda1ce14ff5bb100d3",
       "version_major": 2,
       "version_minor": 0
      },
      "text/plain": [
       "HBox(children=(FloatProgress(value=0.0, max=165.0), HTML(value='')))"
      ]
     },
     "metadata": {},
     "output_type": "display_data"
    },
    {
     "name": "stdout",
     "output_type": "stream",
     "text": [
      "\n",
      "Train:\n",
      " loss 0.014, accuracy 0.996, F1-Macro 0.990, F1-Weighted 0.996, \n",
      "Val:\n",
      " loss 0.290, accuracy 0.950, F1-Macro 0.907, F1-Weighted 0.950, \n"
     ]
    },
    {
     "data": {
      "application/vnd.jupyter.widget-view+json": {
       "model_id": "cafbf989f5974bb29ed092d8d24e545f",
       "version_major": 2,
       "version_minor": 0
      },
      "text/plain": [
       "HBox(children=(FloatProgress(value=0.0, max=165.0), HTML(value='')))"
      ]
     },
     "metadata": {},
     "output_type": "display_data"
    },
    {
     "name": "stdout",
     "output_type": "stream",
     "text": [
      "\n",
      "Train:\n",
      " loss 0.022, accuracy 0.994, F1-Macro 0.989, F1-Weighted 0.994, \n",
      "Val:\n",
      " loss 0.300, accuracy 0.950, F1-Macro 0.908, F1-Weighted 0.950, \n"
     ]
    },
    {
     "data": {
      "application/vnd.jupyter.widget-view+json": {
       "model_id": "1f4cb983a38449a79ba9d08524a7ab45",
       "version_major": 2,
       "version_minor": 0
      },
      "text/plain": [
       "HBox(children=(FloatProgress(value=0.0, max=165.0), HTML(value='')))"
      ]
     },
     "metadata": {},
     "output_type": "display_data"
    },
    {
     "name": "stdout",
     "output_type": "stream",
     "text": [
      "\n",
      "Train:\n",
      " loss 0.013, accuracy 0.997, F1-Macro 0.995, F1-Weighted 0.997, \n",
      "Val:\n",
      " loss 0.317, accuracy 0.952, F1-Macro 0.911, F1-Weighted 0.952, \n"
     ]
    },
    {
     "data": {
      "application/vnd.jupyter.widget-view+json": {
       "model_id": "e7fbbab657da4d429434727f4dd34eb5",
       "version_major": 2,
       "version_minor": 0
      },
      "text/plain": [
       "HBox(children=(FloatProgress(value=0.0, max=165.0), HTML(value='')))"
      ]
     },
     "metadata": {},
     "output_type": "display_data"
    },
    {
     "name": "stdout",
     "output_type": "stream",
     "text": [
      "\n",
      "Train:\n",
      " loss 0.012, accuracy 0.997, F1-Macro 0.994, F1-Weighted 0.997, \n",
      "Val:\n",
      " loss 0.313, accuracy 0.950, F1-Macro 0.912, F1-Weighted 0.950, \n"
     ]
    },
    {
     "data": {
      "application/vnd.jupyter.widget-view+json": {
       "model_id": "17febb529e26406eabf7b3a85c0f1737",
       "version_major": 2,
       "version_minor": 0
      },
      "text/plain": [
       "HBox(children=(FloatProgress(value=0.0, max=165.0), HTML(value='')))"
      ]
     },
     "metadata": {},
     "output_type": "display_data"
    },
    {
     "name": "stdout",
     "output_type": "stream",
     "text": [
      "\n",
      "Train:\n",
      " loss 0.013, accuracy 0.996, F1-Macro 0.994, F1-Weighted 0.996, \n",
      "Val:\n",
      " loss 0.301, accuracy 0.954, F1-Macro 0.917, F1-Weighted 0.954, \n"
     ]
    },
    {
     "data": {
      "application/vnd.jupyter.widget-view+json": {
       "model_id": "631ac864a4f249449d471dd2867da8f2",
       "version_major": 2,
       "version_minor": 0
      },
      "text/plain": [
       "HBox(children=(FloatProgress(value=0.0, max=165.0), HTML(value='')))"
      ]
     },
     "metadata": {},
     "output_type": "display_data"
    },
    {
     "name": "stdout",
     "output_type": "stream",
     "text": [
      "\n",
      "Train:\n",
      " loss 0.016, accuracy 0.996, F1-Macro 0.994, F1-Weighted 0.996, \n",
      "Val:\n",
      " loss 0.317, accuracy 0.950, F1-Macro 0.912, F1-Weighted 0.950, \n"
     ]
    },
    {
     "data": {
      "application/vnd.jupyter.widget-view+json": {
       "model_id": "87b3c17b9b0e40048dcd2e5a3667bdee",
       "version_major": 2,
       "version_minor": 0
      },
      "text/plain": [
       "HBox(children=(FloatProgress(value=0.0, max=165.0), HTML(value='')))"
      ]
     },
     "metadata": {},
     "output_type": "display_data"
    },
    {
     "name": "stdout",
     "output_type": "stream",
     "text": [
      "\n",
      "Train:\n",
      " loss 0.013, accuracy 0.996, F1-Macro 0.992, F1-Weighted 0.996, \n",
      "Val:\n",
      " loss 0.319, accuracy 0.949, F1-Macro 0.904, F1-Weighted 0.949, \n"
     ]
    },
    {
     "data": {
      "application/vnd.jupyter.widget-view+json": {
       "model_id": "5992af43bc66454c8054dfc6a194aefa",
       "version_major": 2,
       "version_minor": 0
      },
      "text/plain": [
       "HBox(children=(FloatProgress(value=0.0, max=165.0), HTML(value='')))"
      ]
     },
     "metadata": {},
     "output_type": "display_data"
    },
    {
     "name": "stdout",
     "output_type": "stream",
     "text": [
      "\n",
      "Train:\n",
      " loss 0.011, accuracy 0.997, F1-Macro 0.995, F1-Weighted 0.997, \n",
      "Val:\n",
      " loss 0.327, accuracy 0.950, F1-Macro 0.914, F1-Weighted 0.950, \n"
     ]
    },
    {
     "data": {
      "application/vnd.jupyter.widget-view+json": {
       "model_id": "759f16bbe5ea4fd2b9087f3312589bf4",
       "version_major": 2,
       "version_minor": 0
      },
      "text/plain": [
       "HBox(children=(FloatProgress(value=0.0, max=165.0), HTML(value='')))"
      ]
     },
     "metadata": {},
     "output_type": "display_data"
    },
    {
     "name": "stdout",
     "output_type": "stream",
     "text": [
      "\n",
      "Train:\n",
      " loss 0.011, accuracy 0.997, F1-Macro 0.994, F1-Weighted 0.997, \n",
      "Val:\n",
      " loss 0.314, accuracy 0.951, F1-Macro 0.913, F1-Weighted 0.951, \n"
     ]
    },
    {
     "data": {
      "application/vnd.jupyter.widget-view+json": {
       "model_id": "3296d39161d7438aa2ada849b4bf76cc",
       "version_major": 2,
       "version_minor": 0
      },
      "text/plain": [
       "HBox(children=(FloatProgress(value=0.0, max=165.0), HTML(value='')))"
      ]
     },
     "metadata": {},
     "output_type": "display_data"
    },
    {
     "name": "stdout",
     "output_type": "stream",
     "text": [
      "\n",
      "Train:\n",
      " loss 0.014, accuracy 0.997, F1-Macro 0.994, F1-Weighted 0.997, \n",
      "Val:\n",
      " loss 0.314, accuracy 0.954, F1-Macro 0.918, F1-Weighted 0.954, \n"
     ]
    },
    {
     "data": {
      "application/vnd.jupyter.widget-view+json": {
       "model_id": "cdadd8b00a2d47b2bfe7996c26b3c0ff",
       "version_major": 2,
       "version_minor": 0
      },
      "text/plain": [
       "HBox(children=(FloatProgress(value=0.0, max=165.0), HTML(value='')))"
      ]
     },
     "metadata": {},
     "output_type": "display_data"
    },
    {
     "name": "stdout",
     "output_type": "stream",
     "text": [
      "\n",
      "Train:\n",
      " loss 0.015, accuracy 0.996, F1-Macro 0.992, F1-Weighted 0.996, \n",
      "Val:\n",
      " loss 0.294, accuracy 0.958, F1-Macro 0.922, F1-Weighted 0.957, \n"
     ]
    },
    {
     "data": {
      "application/vnd.jupyter.widget-view+json": {
       "model_id": "f4c73356c80643039f3e160eac23d27b",
       "version_major": 2,
       "version_minor": 0
      },
      "text/plain": [
       "HBox(children=(FloatProgress(value=0.0, max=165.0), HTML(value='')))"
      ]
     },
     "metadata": {},
     "output_type": "display_data"
    },
    {
     "name": "stdout",
     "output_type": "stream",
     "text": [
      "\n",
      "Train:\n",
      " loss 0.011, accuracy 0.996, F1-Macro 0.994, F1-Weighted 0.996, \n",
      "Val:\n",
      " loss 0.295, accuracy 0.954, F1-Macro 0.921, F1-Weighted 0.954, \n"
     ]
    },
    {
     "data": {
      "application/vnd.jupyter.widget-view+json": {
       "model_id": "3f820236601b4bf69e5265785a0f7eef",
       "version_major": 2,
       "version_minor": 0
      },
      "text/plain": [
       "HBox(children=(FloatProgress(value=0.0, max=165.0), HTML(value='')))"
      ]
     },
     "metadata": {},
     "output_type": "display_data"
    },
    {
     "name": "stdout",
     "output_type": "stream",
     "text": [
      "\n",
      "Train:\n",
      " loss 0.010, accuracy 0.997, F1-Macro 0.994, F1-Weighted 0.997, \n",
      "Val:\n",
      " loss 0.341, accuracy 0.954, F1-Macro 0.918, F1-Weighted 0.953, \n"
     ]
    },
    {
     "data": {
      "application/vnd.jupyter.widget-view+json": {
       "model_id": "3a4b14f8db9c4cba88af7d11fd3cc9c6",
       "version_major": 2,
       "version_minor": 0
      },
      "text/plain": [
       "HBox(children=(FloatProgress(value=0.0, max=165.0), HTML(value='')))"
      ]
     },
     "metadata": {},
     "output_type": "display_data"
    },
    {
     "name": "stdout",
     "output_type": "stream",
     "text": [
      "\n",
      "Train:\n",
      " loss 0.008, accuracy 0.998, F1-Macro 0.997, F1-Weighted 0.998, \n",
      "Val:\n",
      " loss 0.337, accuracy 0.957, F1-Macro 0.917, F1-Weighted 0.956, \n"
     ]
    },
    {
     "data": {
      "application/vnd.jupyter.widget-view+json": {
       "model_id": "d7734ac323fc4e8993cf79f5cb0b83d7",
       "version_major": 2,
       "version_minor": 0
      },
      "text/plain": [
       "HBox(children=(FloatProgress(value=0.0, max=165.0), HTML(value='')))"
      ]
     },
     "metadata": {},
     "output_type": "display_data"
    },
    {
     "name": "stdout",
     "output_type": "stream",
     "text": [
      "\n",
      "Train:\n",
      " loss 0.006, accuracy 0.998, F1-Macro 0.997, F1-Weighted 0.998, \n",
      "Val:\n",
      " loss 0.362, accuracy 0.951, F1-Macro 0.910, F1-Weighted 0.951, \n"
     ]
    },
    {
     "data": {
      "application/vnd.jupyter.widget-view+json": {
       "model_id": "2756223c4b1f42b088ff98fdfe9c6652",
       "version_major": 2,
       "version_minor": 0
      },
      "text/plain": [
       "HBox(children=(FloatProgress(value=0.0, max=165.0), HTML(value='')))"
      ]
     },
     "metadata": {},
     "output_type": "display_data"
    },
    {
     "name": "stdout",
     "output_type": "stream",
     "text": [
      "\n",
      "Train:\n",
      " loss 0.008, accuracy 0.998, F1-Macro 0.996, F1-Weighted 0.998, \n",
      "Val:\n",
      " loss 0.315, accuracy 0.954, F1-Macro 0.923, F1-Weighted 0.953, \n"
     ]
    },
    {
     "data": {
      "application/vnd.jupyter.widget-view+json": {
       "model_id": "b633dfb25f7e4194b208bfdf7b26b46c",
       "version_major": 2,
       "version_minor": 0
      },
      "text/plain": [
       "HBox(children=(FloatProgress(value=0.0, max=165.0), HTML(value='')))"
      ]
     },
     "metadata": {},
     "output_type": "display_data"
    },
    {
     "name": "stdout",
     "output_type": "stream",
     "text": [
      "\n",
      "Train:\n",
      " loss 0.010, accuracy 0.997, F1-Macro 0.996, F1-Weighted 0.997, \n",
      "Val:\n",
      " loss 0.344, accuracy 0.954, F1-Macro 0.913, F1-Weighted 0.953, \n"
     ]
    },
    {
     "data": {
      "application/vnd.jupyter.widget-view+json": {
       "model_id": "047dfc3ad5d74b88a48b20a485540f5e",
       "version_major": 2,
       "version_minor": 0
      },
      "text/plain": [
       "HBox(children=(FloatProgress(value=0.0, max=165.0), HTML(value='')))"
      ]
     },
     "metadata": {},
     "output_type": "display_data"
    },
    {
     "name": "stdout",
     "output_type": "stream",
     "text": [
      "\n",
      "Train:\n",
      " loss 0.007, accuracy 0.997, F1-Macro 0.997, F1-Weighted 0.997, \n",
      "Val:\n",
      " loss 0.347, accuracy 0.953, F1-Macro 0.913, F1-Weighted 0.953, \n"
     ]
    },
    {
     "data": {
      "application/vnd.jupyter.widget-view+json": {
       "model_id": "828c9a485c3444eeb6cf0675fd10cf06",
       "version_major": 2,
       "version_minor": 0
      },
      "text/plain": [
       "HBox(children=(FloatProgress(value=0.0, max=165.0), HTML(value='')))"
      ]
     },
     "metadata": {},
     "output_type": "display_data"
    },
    {
     "name": "stdout",
     "output_type": "stream",
     "text": [
      "\n",
      "Train:\n",
      " loss 0.006, accuracy 0.998, F1-Macro 0.997, F1-Weighted 0.998, \n",
      "Val:\n",
      " loss 0.360, accuracy 0.951, F1-Macro 0.909, F1-Weighted 0.950, \n"
     ]
    },
    {
     "data": {
      "application/vnd.jupyter.widget-view+json": {
       "model_id": "5aa14a3245d34efa8a46b0d715f619d7",
       "version_major": 2,
       "version_minor": 0
      },
      "text/plain": [
       "HBox(children=(FloatProgress(value=0.0, max=165.0), HTML(value='')))"
      ]
     },
     "metadata": {},
     "output_type": "display_data"
    },
    {
     "name": "stdout",
     "output_type": "stream",
     "text": [
      "\n",
      "Train:\n",
      " loss 0.005, accuracy 0.998, F1-Macro 0.998, F1-Weighted 0.998, \n",
      "Val:\n",
      " loss 0.319, accuracy 0.958, F1-Macro 0.923, F1-Weighted 0.958, \n"
     ]
    },
    {
     "data": {
      "application/vnd.jupyter.widget-view+json": {
       "model_id": "daa556358649479c864d5a77251b3924",
       "version_major": 2,
       "version_minor": 0
      },
      "text/plain": [
       "HBox(children=(FloatProgress(value=0.0, max=165.0), HTML(value='')))"
      ]
     },
     "metadata": {},
     "output_type": "display_data"
    },
    {
     "name": "stdout",
     "output_type": "stream",
     "text": [
      "\n",
      "Train:\n",
      " loss 0.007, accuracy 0.998, F1-Macro 0.995, F1-Weighted 0.998, \n",
      "Val:\n",
      " loss 0.317, accuracy 0.958, F1-Macro 0.921, F1-Weighted 0.958, \n"
     ]
    },
    {
     "data": {
      "application/vnd.jupyter.widget-view+json": {
       "model_id": "a15b2c53ec5f4a0a89cbd79a2912dd19",
       "version_major": 2,
       "version_minor": 0
      },
      "text/plain": [
       "HBox(children=(FloatProgress(value=0.0, max=165.0), HTML(value='')))"
      ]
     },
     "metadata": {},
     "output_type": "display_data"
    },
    {
     "name": "stdout",
     "output_type": "stream",
     "text": [
      "\n",
      "Train:\n",
      " loss 0.005, accuracy 0.998, F1-Macro 0.997, F1-Weighted 0.998, \n",
      "Val:\n",
      " loss 0.315, accuracy 0.955, F1-Macro 0.915, F1-Weighted 0.955, \n"
     ]
    },
    {
     "data": {
      "application/vnd.jupyter.widget-view+json": {
       "model_id": "c41274db173c48cfa49ede87077cb004",
       "version_major": 2,
       "version_minor": 0
      },
      "text/plain": [
       "HBox(children=(FloatProgress(value=0.0, max=165.0), HTML(value='')))"
      ]
     },
     "metadata": {},
     "output_type": "display_data"
    },
    {
     "name": "stdout",
     "output_type": "stream",
     "text": [
      "\n",
      "Train:\n",
      " loss 0.007, accuracy 0.998, F1-Macro 0.996, F1-Weighted 0.998, \n",
      "Val:\n",
      " loss 0.327, accuracy 0.955, F1-Macro 0.918, F1-Weighted 0.955, \n"
     ]
    },
    {
     "data": {
      "application/vnd.jupyter.widget-view+json": {
       "model_id": "76e74415d2b249d3ac944fdf6300195c",
       "version_major": 2,
       "version_minor": 0
      },
      "text/plain": [
       "HBox(children=(FloatProgress(value=0.0, max=165.0), HTML(value='')))"
      ]
     },
     "metadata": {},
     "output_type": "display_data"
    },
    {
     "name": "stdout",
     "output_type": "stream",
     "text": [
      "\n",
      "Train:\n",
      " loss 0.009, accuracy 0.998, F1-Macro 0.997, F1-Weighted 0.998, \n",
      "Val:\n",
      " loss 0.340, accuracy 0.955, F1-Macro 0.916, F1-Weighted 0.955, \n"
     ]
    },
    {
     "data": {
      "application/vnd.jupyter.widget-view+json": {
       "model_id": "f0875d97d7684325a954f729e20cb227",
       "version_major": 2,
       "version_minor": 0
      },
      "text/plain": [
       "HBox(children=(FloatProgress(value=0.0, max=165.0), HTML(value='')))"
      ]
     },
     "metadata": {},
     "output_type": "display_data"
    },
    {
     "name": "stdout",
     "output_type": "stream",
     "text": [
      "\n",
      "Train:\n",
      " loss 0.007, accuracy 0.998, F1-Macro 0.997, F1-Weighted 0.998, \n",
      "Val:\n",
      " loss 0.332, accuracy 0.956, F1-Macro 0.916, F1-Weighted 0.956, \n"
     ]
    },
    {
     "data": {
      "application/vnd.jupyter.widget-view+json": {
       "model_id": "c536ed52b3f3487e875e240f47c20e6f",
       "version_major": 2,
       "version_minor": 0
      },
      "text/plain": [
       "HBox(children=(FloatProgress(value=0.0, max=165.0), HTML(value='')))"
      ]
     },
     "metadata": {},
     "output_type": "display_data"
    },
    {
     "name": "stdout",
     "output_type": "stream",
     "text": [
      "\n",
      "Train:\n",
      " loss 0.009, accuracy 0.997, F1-Macro 0.994, F1-Weighted 0.997, \n",
      "Val:\n",
      " loss 0.343, accuracy 0.954, F1-Macro 0.918, F1-Weighted 0.954, \n"
     ]
    },
    {
     "data": {
      "application/vnd.jupyter.widget-view+json": {
       "model_id": "440918dbf0d14acea09db6ebb15c4bf1",
       "version_major": 2,
       "version_minor": 0
      },
      "text/plain": [
       "HBox(children=(FloatProgress(value=0.0, max=165.0), HTML(value='')))"
      ]
     },
     "metadata": {},
     "output_type": "display_data"
    },
    {
     "name": "stdout",
     "output_type": "stream",
     "text": [
      "\n",
      "Train:\n",
      " loss 0.013, accuracy 0.997, F1-Macro 0.994, F1-Weighted 0.997, \n",
      "Val:\n",
      " loss 0.304, accuracy 0.955, F1-Macro 0.920, F1-Weighted 0.955, \n"
     ]
    },
    {
     "data": {
      "text/plain": [
       "{'model': LSTM_fixed_len(\n",
       "   (embeddings): Embedding(12822, 200, padding_idx=0)\n",
       "   (lstm): LSTM(200, 200, batch_first=True)\n",
       "   (linear): Linear(in_features=200, out_features=13, bias=True)\n",
       "   (dropout): Dropout(p=0.3, inplace=False)\n",
       " ),\n",
       " 'epoch': 61,\n",
       " 'loss': 0.26538012502552877,\n",
       " 'acc': 0.9628647214854111,\n",
       " 'f1_macro': 0.9364803750981582,\n",
       " 'f1_weighted': 0.9630990616617998}"
      ]
     },
     "execution_count": 12,
     "metadata": {},
     "output_type": "execute_result"
    }
   ],
   "source": [
    "model_fixed =  LSTM_fixed_len(vocab_size, 200, 200, num_classes)\n",
    "best_model = train_model(model_fixed, epochs=100, lr=0.0025)\n",
    "#best_model = train_model(model_fixed, epochs=150, lr=0.01)\n",
    "best_model"
   ]
  },
  {
   "cell_type": "code",
   "execution_count": 13,
   "metadata": {},
   "outputs": [
    {
     "name": "stderr",
     "output_type": "stream",
     "text": [
      "/dados01/workspace/ufmg.f01dcc/py37/lib/python3.7/site-packages/torch/nn/modules/rnn.py:582: UserWarning: RNN module weights are not part of single contiguous chunk of memory. This means they need to be compacted at every call, possibly greatly increasing memory usage. To compact weights again call flatten_parameters(). (Triggered internally at  /pytorch/aten/src/ATen/native/cudnn/RNN.cpp:775.)\n",
      "  self.dropout, self.training, self.bidirectional, self.batch_first)\n"
     ]
    },
    {
     "name": "stdout",
     "output_type": "stream",
     "text": [
      "Val:\n",
      " loss 0.265, accuracy 0.963, F1-Macro 0.936, F1-Weighted 0.963, \n",
      "Test:\n",
      " loss 0.263, accuracy 0.952, F1-Macro 0.918, F1-Weighted 0.952, \n"
     ]
    },
    {
     "data": {
      "text/plain": [
       "(0.2631526180191699, 0.952212389380531, 0.9183689828509765, 0.952362619875942)"
      ]
     },
     "execution_count": 13,
     "metadata": {},
     "output_type": "execute_result"
    }
   ],
   "source": [
    "validation_metrics(best_model['model'], val_dl, use_cuda = True, is_val = True)\n",
    "validation_metrics(best_model['model'], test_dl, use_cuda = True, is_val = False)"
   ]
  },
  {
   "cell_type": "code",
   "execution_count": 12,
   "metadata": {},
   "outputs": [],
   "source": [
    "class LSTM_variable_input(torch.nn.Module) :\n",
    "    def __init__(self, vocab_size, embedding_dim, hidden_dim) :\n",
    "        super().__init__()\n",
    "        self.hidden_dim = hidden_dim\n",
    "        self.dropout = nn.Dropout(0.3)\n",
    "        self.embeddings = nn.Embedding(vocab_size, embedding_dim, padding_idx=0)\n",
    "        self.lstm = nn.LSTM(embedding_dim, hidden_dim, batch_first=True)\n",
    "        self.linear = nn.Linear(hidden_dim, 13)\n",
    "        \n",
    "    def forward(self, x, s):\n",
    "        x = self.embeddings(x)\n",
    "        x = self.dropout(x)\n",
    "        x_pack = pack_padded_sequence(x, s, batch_first=True, enforce_sorted=False)\n",
    "        out_pack, (ht, ct) = self.lstm(x_pack)\n",
    "        out = self.linear(ht[-1])\n",
    "        return out"
   ]
  },
  {
   "cell_type": "code",
   "execution_count": 13,
   "metadata": {
    "scrolled": true
   },
   "outputs": [
    {
     "name": "stderr",
     "output_type": "stream",
     "text": [
      "/dados01/workspace/ufmg.f01dcc/py37/lib/python3.7/site-packages/ipykernel_launcher.py:22: TqdmDeprecationWarning: This function will be removed in tqdm==5.0.0\n",
      "Please use `tqdm.notebook.tqdm` instead of `tqdm.tqdm_notebook`\n"
     ]
    },
    {
     "data": {
      "application/vnd.jupyter.widget-view+json": {
       "model_id": "5f5a3490d7924853bec9835bde518327",
       "version_major": 2,
       "version_minor": 0
      },
      "text/plain": [
       "HBox(children=(FloatProgress(value=0.0, max=165.0), HTML(value='')))"
      ]
     },
     "metadata": {},
     "output_type": "display_data"
    },
    {
     "name": "stdout",
     "output_type": "stream",
     "text": [
      "\n",
      "Train:\n",
      " loss 1.036, accuracy 0.680, F1-Macro 0.542, F1-Weighted 0.662, \n",
      "Val:\n",
      " loss 0.600, accuracy 0.815, F1-Macro 0.673, F1-Weighted 0.795, \n"
     ]
    },
    {
     "data": {
      "application/vnd.jupyter.widget-view+json": {
       "model_id": "c9ccca0826ac467683003bd04129a3ae",
       "version_major": 2,
       "version_minor": 0
      },
      "text/plain": [
       "HBox(children=(FloatProgress(value=0.0, max=165.0), HTML(value='')))"
      ]
     },
     "metadata": {},
     "output_type": "display_data"
    },
    {
     "name": "stdout",
     "output_type": "stream",
     "text": [
      "\n",
      "Train:\n",
      " loss 0.432, accuracy 0.870, F1-Macro 0.787, F1-Weighted 0.867, \n",
      "Val:\n",
      " loss 0.470, accuracy 0.875, F1-Macro 0.809, F1-Weighted 0.875, \n"
     ]
    },
    {
     "data": {
      "application/vnd.jupyter.widget-view+json": {
       "model_id": "f5b290056d9342df8150599977c4f40d",
       "version_major": 2,
       "version_minor": 0
      },
      "text/plain": [
       "HBox(children=(FloatProgress(value=0.0, max=165.0), HTML(value='')))"
      ]
     },
     "metadata": {},
     "output_type": "display_data"
    },
    {
     "name": "stdout",
     "output_type": "stream",
     "text": [
      "\n",
      "Train:\n",
      " loss 0.258, accuracy 0.924, F1-Macro 0.874, F1-Weighted 0.923, \n",
      "Val:\n",
      " loss 0.421, accuracy 0.894, F1-Macro 0.836, F1-Weighted 0.892, \n"
     ]
    },
    {
     "data": {
      "application/vnd.jupyter.widget-view+json": {
       "model_id": "be5e7b834a6141da8ccf523d02c7c6c1",
       "version_major": 2,
       "version_minor": 0
      },
      "text/plain": [
       "HBox(children=(FloatProgress(value=0.0, max=165.0), HTML(value='')))"
      ]
     },
     "metadata": {},
     "output_type": "display_data"
    },
    {
     "name": "stdout",
     "output_type": "stream",
     "text": [
      "\n",
      "Train:\n",
      " loss 0.200, accuracy 0.939, F1-Macro 0.896, F1-Weighted 0.939, \n",
      "Val:\n",
      " loss 0.418, accuracy 0.910, F1-Macro 0.855, F1-Weighted 0.909, \n"
     ]
    },
    {
     "data": {
      "application/vnd.jupyter.widget-view+json": {
       "model_id": "36e451bc6f2f446da667a81e823b8ef1",
       "version_major": 2,
       "version_minor": 0
      },
      "text/plain": [
       "HBox(children=(FloatProgress(value=0.0, max=165.0), HTML(value='')))"
      ]
     },
     "metadata": {},
     "output_type": "display_data"
    },
    {
     "name": "stdout",
     "output_type": "stream",
     "text": [
      "\n",
      "Train:\n",
      " loss 0.181, accuracy 0.950, F1-Macro 0.917, F1-Weighted 0.950, \n",
      "Val:\n",
      " loss 0.466, accuracy 0.894, F1-Macro 0.828, F1-Weighted 0.892, \n"
     ]
    },
    {
     "data": {
      "application/vnd.jupyter.widget-view+json": {
       "model_id": "9ca32f45caf84d478a22ec4ee856e92c",
       "version_major": 2,
       "version_minor": 0
      },
      "text/plain": [
       "HBox(children=(FloatProgress(value=0.0, max=165.0), HTML(value='')))"
      ]
     },
     "metadata": {},
     "output_type": "display_data"
    },
    {
     "name": "stdout",
     "output_type": "stream",
     "text": [
      "\n",
      "Train:\n",
      " loss 0.147, accuracy 0.958, F1-Macro 0.923, F1-Weighted 0.957, \n",
      "Val:\n",
      " loss 0.442, accuracy 0.905, F1-Macro 0.856, F1-Weighted 0.905, \n"
     ]
    },
    {
     "data": {
      "application/vnd.jupyter.widget-view+json": {
       "model_id": "dcf6b60907b44e47b86e55258f4d05d6",
       "version_major": 2,
       "version_minor": 0
      },
      "text/plain": [
       "HBox(children=(FloatProgress(value=0.0, max=165.0), HTML(value='')))"
      ]
     },
     "metadata": {},
     "output_type": "display_data"
    },
    {
     "name": "stdout",
     "output_type": "stream",
     "text": [
      "\n",
      "Train:\n",
      " loss 0.103, accuracy 0.968, F1-Macro 0.945, F1-Weighted 0.968, \n",
      "Val:\n",
      " loss 0.499, accuracy 0.899, F1-Macro 0.845, F1-Weighted 0.898, \n"
     ]
    },
    {
     "data": {
      "application/vnd.jupyter.widget-view+json": {
       "model_id": "eb93cae0d76d4cfd8fc5b1094747fdba",
       "version_major": 2,
       "version_minor": 0
      },
      "text/plain": [
       "HBox(children=(FloatProgress(value=0.0, max=165.0), HTML(value='')))"
      ]
     },
     "metadata": {},
     "output_type": "display_data"
    },
    {
     "name": "stdout",
     "output_type": "stream",
     "text": [
      "\n",
      "Train:\n",
      " loss 0.070, accuracy 0.979, F1-Macro 0.965, F1-Weighted 0.979, \n",
      "Val:\n",
      " loss 0.484, accuracy 0.906, F1-Macro 0.859, F1-Weighted 0.907, \n"
     ]
    },
    {
     "data": {
      "application/vnd.jupyter.widget-view+json": {
       "model_id": "0f055488cff14ad3bb042f44a0e588d1",
       "version_major": 2,
       "version_minor": 0
      },
      "text/plain": [
       "HBox(children=(FloatProgress(value=0.0, max=165.0), HTML(value='')))"
      ]
     },
     "metadata": {},
     "output_type": "display_data"
    },
    {
     "name": "stdout",
     "output_type": "stream",
     "text": [
      "\n",
      "Train:\n",
      " loss 0.058, accuracy 0.981, F1-Macro 0.966, F1-Weighted 0.981, \n",
      "Val:\n",
      " loss 0.493, accuracy 0.905, F1-Macro 0.858, F1-Weighted 0.904, \n"
     ]
    },
    {
     "data": {
      "application/vnd.jupyter.widget-view+json": {
       "model_id": "a815fbccd1e6482a9351ee0cb45bbea7",
       "version_major": 2,
       "version_minor": 0
      },
      "text/plain": [
       "HBox(children=(FloatProgress(value=0.0, max=165.0), HTML(value='')))"
      ]
     },
     "metadata": {},
     "output_type": "display_data"
    },
    {
     "name": "stdout",
     "output_type": "stream",
     "text": [
      "\n",
      "Train:\n",
      " loss 0.060, accuracy 0.982, F1-Macro 0.969, F1-Weighted 0.982, \n",
      "Val:\n",
      " loss 0.514, accuracy 0.892, F1-Macro 0.835, F1-Weighted 0.892, \n"
     ]
    },
    {
     "data": {
      "application/vnd.jupyter.widget-view+json": {
       "model_id": "7475dd43619a4114987f5a3a21b2a31e",
       "version_major": 2,
       "version_minor": 0
      },
      "text/plain": [
       "HBox(children=(FloatProgress(value=0.0, max=165.0), HTML(value='')))"
      ]
     },
     "metadata": {},
     "output_type": "display_data"
    },
    {
     "name": "stdout",
     "output_type": "stream",
     "text": [
      "\n",
      "Train:\n",
      " loss 0.061, accuracy 0.982, F1-Macro 0.969, F1-Weighted 0.981, \n",
      "Val:\n",
      " loss 0.524, accuracy 0.913, F1-Macro 0.877, F1-Weighted 0.913, \n"
     ]
    },
    {
     "data": {
      "application/vnd.jupyter.widget-view+json": {
       "model_id": "e8afcab39f9a4eaf9c7b653806f97914",
       "version_major": 2,
       "version_minor": 0
      },
      "text/plain": [
       "HBox(children=(FloatProgress(value=0.0, max=165.0), HTML(value='')))"
      ]
     },
     "metadata": {},
     "output_type": "display_data"
    },
    {
     "name": "stdout",
     "output_type": "stream",
     "text": [
      "\n",
      "Train:\n",
      " loss 0.051, accuracy 0.985, F1-Macro 0.973, F1-Weighted 0.985, \n",
      "Val:\n",
      " loss 0.492, accuracy 0.909, F1-Macro 0.856, F1-Weighted 0.909, \n"
     ]
    },
    {
     "data": {
      "application/vnd.jupyter.widget-view+json": {
       "model_id": "a9c44c06c4b340dda4085bf51d3e26a7",
       "version_major": 2,
       "version_minor": 0
      },
      "text/plain": [
       "HBox(children=(FloatProgress(value=0.0, max=165.0), HTML(value='')))"
      ]
     },
     "metadata": {},
     "output_type": "display_data"
    },
    {
     "name": "stdout",
     "output_type": "stream",
     "text": [
      "\n",
      "Train:\n",
      " loss 0.040, accuracy 0.988, F1-Macro 0.979, F1-Weighted 0.988, \n",
      "Val:\n",
      " loss 0.527, accuracy 0.908, F1-Macro 0.859, F1-Weighted 0.908, \n"
     ]
    },
    {
     "data": {
      "application/vnd.jupyter.widget-view+json": {
       "model_id": "a70aded62faf4c61846c5012a1e277a1",
       "version_major": 2,
       "version_minor": 0
      },
      "text/plain": [
       "HBox(children=(FloatProgress(value=0.0, max=165.0), HTML(value='')))"
      ]
     },
     "metadata": {},
     "output_type": "display_data"
    },
    {
     "name": "stdout",
     "output_type": "stream",
     "text": [
      "\n",
      "Train:\n",
      " loss 0.040, accuracy 0.988, F1-Macro 0.979, F1-Weighted 0.988, \n",
      "Val:\n",
      " loss 0.525, accuracy 0.904, F1-Macro 0.856, F1-Weighted 0.905, \n"
     ]
    },
    {
     "data": {
      "application/vnd.jupyter.widget-view+json": {
       "model_id": "c3453568da1f4bd186c5da778388a0a6",
       "version_major": 2,
       "version_minor": 0
      },
      "text/plain": [
       "HBox(children=(FloatProgress(value=0.0, max=165.0), HTML(value='')))"
      ]
     },
     "metadata": {},
     "output_type": "display_data"
    },
    {
     "name": "stdout",
     "output_type": "stream",
     "text": [
      "\n",
      "Train:\n",
      " loss 0.040, accuracy 0.989, F1-Macro 0.982, F1-Weighted 0.989, \n",
      "Val:\n",
      " loss 0.618, accuracy 0.902, F1-Macro 0.855, F1-Weighted 0.902, \n"
     ]
    },
    {
     "data": {
      "application/vnd.jupyter.widget-view+json": {
       "model_id": "183b9ed2b1664657ab9e97334be36dec",
       "version_major": 2,
       "version_minor": 0
      },
      "text/plain": [
       "HBox(children=(FloatProgress(value=0.0, max=165.0), HTML(value='')))"
      ]
     },
     "metadata": {},
     "output_type": "display_data"
    },
    {
     "name": "stdout",
     "output_type": "stream",
     "text": [
      "\n",
      "Train:\n",
      " loss 0.031, accuracy 0.989, F1-Macro 0.979, F1-Weighted 0.989, \n",
      "Val:\n",
      " loss 0.617, accuracy 0.907, F1-Macro 0.855, F1-Weighted 0.907, \n"
     ]
    },
    {
     "data": {
      "application/vnd.jupyter.widget-view+json": {
       "model_id": "e5e950a3e913413183bf901d38cab0af",
       "version_major": 2,
       "version_minor": 0
      },
      "text/plain": [
       "HBox(children=(FloatProgress(value=0.0, max=165.0), HTML(value='')))"
      ]
     },
     "metadata": {},
     "output_type": "display_data"
    },
    {
     "name": "stdout",
     "output_type": "stream",
     "text": [
      "\n",
      "Train:\n",
      " loss 0.034, accuracy 0.989, F1-Macro 0.983, F1-Weighted 0.989, \n",
      "Val:\n",
      " loss 0.621, accuracy 0.902, F1-Macro 0.848, F1-Weighted 0.901, \n"
     ]
    },
    {
     "data": {
      "application/vnd.jupyter.widget-view+json": {
       "model_id": "eaaafb4c5f554c8dbd46130cdd268596",
       "version_major": 2,
       "version_minor": 0
      },
      "text/plain": [
       "HBox(children=(FloatProgress(value=0.0, max=165.0), HTML(value='')))"
      ]
     },
     "metadata": {},
     "output_type": "display_data"
    },
    {
     "name": "stdout",
     "output_type": "stream",
     "text": [
      "\n",
      "Train:\n",
      " loss 0.034, accuracy 0.990, F1-Macro 0.983, F1-Weighted 0.990, \n",
      "Val:\n",
      " loss 0.625, accuracy 0.909, F1-Macro 0.867, F1-Weighted 0.909, \n"
     ]
    },
    {
     "data": {
      "application/vnd.jupyter.widget-view+json": {
       "model_id": "d566c0e28197460cb83bd960d6331490",
       "version_major": 2,
       "version_minor": 0
      },
      "text/plain": [
       "HBox(children=(FloatProgress(value=0.0, max=165.0), HTML(value='')))"
      ]
     },
     "metadata": {},
     "output_type": "display_data"
    },
    {
     "name": "stdout",
     "output_type": "stream",
     "text": [
      "\n",
      "Train:\n",
      " loss 0.037, accuracy 0.989, F1-Macro 0.981, F1-Weighted 0.989, \n",
      "Val:\n",
      " loss 0.601, accuracy 0.906, F1-Macro 0.863, F1-Weighted 0.906, \n"
     ]
    },
    {
     "data": {
      "application/vnd.jupyter.widget-view+json": {
       "model_id": "573588874f2d4b5a89ce62666b504984",
       "version_major": 2,
       "version_minor": 0
      },
      "text/plain": [
       "HBox(children=(FloatProgress(value=0.0, max=165.0), HTML(value='')))"
      ]
     },
     "metadata": {},
     "output_type": "display_data"
    },
    {
     "name": "stdout",
     "output_type": "stream",
     "text": [
      "\n",
      "Train:\n",
      " loss 0.031, accuracy 0.991, F1-Macro 0.985, F1-Weighted 0.991, \n",
      "Val:\n",
      " loss 0.594, accuracy 0.906, F1-Macro 0.859, F1-Weighted 0.906, \n"
     ]
    },
    {
     "data": {
      "application/vnd.jupyter.widget-view+json": {
       "model_id": "c6f4a1524b3145749dc300431ee1c5ae",
       "version_major": 2,
       "version_minor": 0
      },
      "text/plain": [
       "HBox(children=(FloatProgress(value=0.0, max=165.0), HTML(value='')))"
      ]
     },
     "metadata": {},
     "output_type": "display_data"
    },
    {
     "name": "stdout",
     "output_type": "stream",
     "text": [
      "\n",
      "Train:\n",
      " loss 0.028, accuracy 0.993, F1-Macro 0.987, F1-Weighted 0.993, \n",
      "Val:\n",
      " loss 0.607, accuracy 0.900, F1-Macro 0.842, F1-Weighted 0.901, \n"
     ]
    },
    {
     "data": {
      "application/vnd.jupyter.widget-view+json": {
       "model_id": "c94ff7df59fe4264befe363d6b60077c",
       "version_major": 2,
       "version_minor": 0
      },
      "text/plain": [
       "HBox(children=(FloatProgress(value=0.0, max=165.0), HTML(value='')))"
      ]
     },
     "metadata": {},
     "output_type": "display_data"
    },
    {
     "name": "stdout",
     "output_type": "stream",
     "text": [
      "\n",
      "Train:\n",
      " loss 0.020, accuracy 0.995, F1-Macro 0.991, F1-Weighted 0.995, \n",
      "Val:\n",
      " loss 0.573, accuracy 0.908, F1-Macro 0.855, F1-Weighted 0.907, \n"
     ]
    },
    {
     "data": {
      "application/vnd.jupyter.widget-view+json": {
       "model_id": "e24ba2886f0b44909ca6869bec719f5f",
       "version_major": 2,
       "version_minor": 0
      },
      "text/plain": [
       "HBox(children=(FloatProgress(value=0.0, max=165.0), HTML(value='')))"
      ]
     },
     "metadata": {},
     "output_type": "display_data"
    },
    {
     "name": "stdout",
     "output_type": "stream",
     "text": [
      "\n",
      "Train:\n",
      " loss 0.016, accuracy 0.995, F1-Macro 0.991, F1-Weighted 0.995, \n",
      "Val:\n",
      " loss 0.635, accuracy 0.905, F1-Macro 0.852, F1-Weighted 0.904, \n"
     ]
    },
    {
     "data": {
      "application/vnd.jupyter.widget-view+json": {
       "model_id": "305c19837e4d43b690080bde262bfc76",
       "version_major": 2,
       "version_minor": 0
      },
      "text/plain": [
       "HBox(children=(FloatProgress(value=0.0, max=165.0), HTML(value='')))"
      ]
     },
     "metadata": {},
     "output_type": "display_data"
    },
    {
     "name": "stdout",
     "output_type": "stream",
     "text": [
      "\n",
      "Train:\n",
      " loss 0.029, accuracy 0.992, F1-Macro 0.988, F1-Weighted 0.992, \n",
      "Val:\n",
      " loss 0.619, accuracy 0.905, F1-Macro 0.851, F1-Weighted 0.906, \n"
     ]
    },
    {
     "data": {
      "application/vnd.jupyter.widget-view+json": {
       "model_id": "420233556381473a9de9639ca9261d21",
       "version_major": 2,
       "version_minor": 0
      },
      "text/plain": [
       "HBox(children=(FloatProgress(value=0.0, max=165.0), HTML(value='')))"
      ]
     },
     "metadata": {},
     "output_type": "display_data"
    },
    {
     "name": "stdout",
     "output_type": "stream",
     "text": [
      "\n",
      "Train:\n",
      " loss 0.023, accuracy 0.992, F1-Macro 0.987, F1-Weighted 0.992, \n",
      "Val:\n",
      " loss 0.642, accuracy 0.908, F1-Macro 0.853, F1-Weighted 0.908, \n"
     ]
    },
    {
     "data": {
      "application/vnd.jupyter.widget-view+json": {
       "model_id": "d02620ca57c14605a8137cf0b16a3ccd",
       "version_major": 2,
       "version_minor": 0
      },
      "text/plain": [
       "HBox(children=(FloatProgress(value=0.0, max=165.0), HTML(value='')))"
      ]
     },
     "metadata": {},
     "output_type": "display_data"
    },
    {
     "name": "stdout",
     "output_type": "stream",
     "text": [
      "\n",
      "Train:\n",
      " loss 0.019, accuracy 0.994, F1-Macro 0.990, F1-Weighted 0.994, \n",
      "Val:\n",
      " loss 0.650, accuracy 0.906, F1-Macro 0.859, F1-Weighted 0.906, \n"
     ]
    },
    {
     "data": {
      "application/vnd.jupyter.widget-view+json": {
       "model_id": "503889b6e2414cd885f7a623304af63e",
       "version_major": 2,
       "version_minor": 0
      },
      "text/plain": [
       "HBox(children=(FloatProgress(value=0.0, max=165.0), HTML(value='')))"
      ]
     },
     "metadata": {},
     "output_type": "display_data"
    },
    {
     "name": "stdout",
     "output_type": "stream",
     "text": [
      "\n",
      "Train:\n",
      " loss 0.019, accuracy 0.993, F1-Macro 0.989, F1-Weighted 0.993, \n",
      "Val:\n",
      " loss 0.636, accuracy 0.908, F1-Macro 0.858, F1-Weighted 0.907, \n"
     ]
    },
    {
     "data": {
      "application/vnd.jupyter.widget-view+json": {
       "model_id": "db2fcc4a77db4eeda519c174cdc5e05a",
       "version_major": 2,
       "version_minor": 0
      },
      "text/plain": [
       "HBox(children=(FloatProgress(value=0.0, max=165.0), HTML(value='')))"
      ]
     },
     "metadata": {},
     "output_type": "display_data"
    },
    {
     "name": "stdout",
     "output_type": "stream",
     "text": [
      "\n",
      "Train:\n",
      " loss 0.020, accuracy 0.994, F1-Macro 0.989, F1-Weighted 0.994, \n",
      "Val:\n",
      " loss 0.632, accuracy 0.900, F1-Macro 0.843, F1-Weighted 0.899, \n"
     ]
    },
    {
     "data": {
      "application/vnd.jupyter.widget-view+json": {
       "model_id": "3e529f531d254177a951d6c0ef0c60ff",
       "version_major": 2,
       "version_minor": 0
      },
      "text/plain": [
       "HBox(children=(FloatProgress(value=0.0, max=165.0), HTML(value='')))"
      ]
     },
     "metadata": {},
     "output_type": "display_data"
    },
    {
     "name": "stdout",
     "output_type": "stream",
     "text": [
      "\n",
      "Train:\n",
      " loss 0.013, accuracy 0.997, F1-Macro 0.995, F1-Weighted 0.997, \n",
      "Val:\n",
      " loss 0.641, accuracy 0.905, F1-Macro 0.851, F1-Weighted 0.905, \n"
     ]
    },
    {
     "data": {
      "application/vnd.jupyter.widget-view+json": {
       "model_id": "91f69d0487a348488e843034d616e794",
       "version_major": 2,
       "version_minor": 0
      },
      "text/plain": [
       "HBox(children=(FloatProgress(value=0.0, max=165.0), HTML(value='')))"
      ]
     },
     "metadata": {},
     "output_type": "display_data"
    },
    {
     "name": "stdout",
     "output_type": "stream",
     "text": [
      "\n",
      "Train:\n",
      " loss 0.013, accuracy 0.996, F1-Macro 0.993, F1-Weighted 0.996, \n",
      "Val:\n",
      " loss 0.688, accuracy 0.905, F1-Macro 0.854, F1-Weighted 0.906, \n"
     ]
    },
    {
     "data": {
      "application/vnd.jupyter.widget-view+json": {
       "model_id": "729c6b8cb4574470a64e2cf42d8bed1f",
       "version_major": 2,
       "version_minor": 0
      },
      "text/plain": [
       "HBox(children=(FloatProgress(value=0.0, max=165.0), HTML(value='')))"
      ]
     },
     "metadata": {},
     "output_type": "display_data"
    },
    {
     "name": "stdout",
     "output_type": "stream",
     "text": [
      "\n",
      "Train:\n",
      " loss 0.013, accuracy 0.996, F1-Macro 0.993, F1-Weighted 0.996, \n",
      "Val:\n",
      " loss 0.695, accuracy 0.904, F1-Macro 0.848, F1-Weighted 0.903, \n"
     ]
    },
    {
     "data": {
      "application/vnd.jupyter.widget-view+json": {
       "model_id": "b04a42457e7b4d548683a7ccee97224e",
       "version_major": 2,
       "version_minor": 0
      },
      "text/plain": [
       "HBox(children=(FloatProgress(value=0.0, max=165.0), HTML(value='')))"
      ]
     },
     "metadata": {},
     "output_type": "display_data"
    },
    {
     "name": "stdout",
     "output_type": "stream",
     "text": [
      "\n",
      "Train:\n",
      " loss 0.014, accuracy 0.995, F1-Macro 0.991, F1-Weighted 0.995, \n",
      "Val:\n",
      " loss 0.627, accuracy 0.912, F1-Macro 0.863, F1-Weighted 0.912, \n"
     ]
    },
    {
     "data": {
      "application/vnd.jupyter.widget-view+json": {
       "model_id": "5cf08f068d2747fb8f899598d8752ab0",
       "version_major": 2,
       "version_minor": 0
      },
      "text/plain": [
       "HBox(children=(FloatProgress(value=0.0, max=165.0), HTML(value='')))"
      ]
     },
     "metadata": {},
     "output_type": "display_data"
    },
    {
     "name": "stdout",
     "output_type": "stream",
     "text": [
      "\n",
      "Train:\n",
      " loss 0.014, accuracy 0.996, F1-Macro 0.994, F1-Weighted 0.996, \n",
      "Val:\n",
      " loss 0.636, accuracy 0.915, F1-Macro 0.871, F1-Weighted 0.915, \n"
     ]
    },
    {
     "data": {
      "application/vnd.jupyter.widget-view+json": {
       "model_id": "6b981115134045cc8ab98b3f2ede857a",
       "version_major": 2,
       "version_minor": 0
      },
      "text/plain": [
       "HBox(children=(FloatProgress(value=0.0, max=165.0), HTML(value='')))"
      ]
     },
     "metadata": {},
     "output_type": "display_data"
    },
    {
     "name": "stdout",
     "output_type": "stream",
     "text": [
      "\n",
      "Train:\n",
      " loss 0.012, accuracy 0.995, F1-Macro 0.992, F1-Weighted 0.995, \n",
      "Val:\n",
      " loss 0.644, accuracy 0.912, F1-Macro 0.863, F1-Weighted 0.911, \n"
     ]
    },
    {
     "data": {
      "application/vnd.jupyter.widget-view+json": {
       "model_id": "a77fa56fa82b4698a878c09b3bb4cfb2",
       "version_major": 2,
       "version_minor": 0
      },
      "text/plain": [
       "HBox(children=(FloatProgress(value=0.0, max=165.0), HTML(value='')))"
      ]
     },
     "metadata": {},
     "output_type": "display_data"
    },
    {
     "name": "stdout",
     "output_type": "stream",
     "text": [
      "\n",
      "Train:\n",
      " loss 0.017, accuracy 0.995, F1-Macro 0.992, F1-Weighted 0.995, \n",
      "Val:\n",
      " loss 0.628, accuracy 0.920, F1-Macro 0.881, F1-Weighted 0.920, \n"
     ]
    },
    {
     "data": {
      "application/vnd.jupyter.widget-view+json": {
       "model_id": "a7853882ceee4d55a5f7aabc6323231b",
       "version_major": 2,
       "version_minor": 0
      },
      "text/plain": [
       "HBox(children=(FloatProgress(value=0.0, max=165.0), HTML(value='')))"
      ]
     },
     "metadata": {},
     "output_type": "display_data"
    },
    {
     "name": "stdout",
     "output_type": "stream",
     "text": [
      "\n",
      "Train:\n",
      " loss 0.012, accuracy 0.996, F1-Macro 0.995, F1-Weighted 0.996, \n",
      "Val:\n",
      " loss 0.618, accuracy 0.913, F1-Macro 0.865, F1-Weighted 0.913, \n"
     ]
    },
    {
     "data": {
      "application/vnd.jupyter.widget-view+json": {
       "model_id": "012aeb1cba78452bbf4b68769e3a1c17",
       "version_major": 2,
       "version_minor": 0
      },
      "text/plain": [
       "HBox(children=(FloatProgress(value=0.0, max=165.0), HTML(value='')))"
      ]
     },
     "metadata": {},
     "output_type": "display_data"
    },
    {
     "name": "stdout",
     "output_type": "stream",
     "text": [
      "\n",
      "Train:\n",
      " loss 0.012, accuracy 0.996, F1-Macro 0.994, F1-Weighted 0.996, \n",
      "Val:\n",
      " loss 0.684, accuracy 0.911, F1-Macro 0.861, F1-Weighted 0.911, \n"
     ]
    },
    {
     "data": {
      "application/vnd.jupyter.widget-view+json": {
       "model_id": "98dbdf8263e44c608e45070cb07e46de",
       "version_major": 2,
       "version_minor": 0
      },
      "text/plain": [
       "HBox(children=(FloatProgress(value=0.0, max=165.0), HTML(value='')))"
      ]
     },
     "metadata": {},
     "output_type": "display_data"
    },
    {
     "name": "stdout",
     "output_type": "stream",
     "text": [
      "\n",
      "Train:\n",
      " loss 0.012, accuracy 0.997, F1-Macro 0.995, F1-Weighted 0.997, \n",
      "Val:\n",
      " loss 0.650, accuracy 0.912, F1-Macro 0.865, F1-Weighted 0.912, \n"
     ]
    },
    {
     "data": {
      "application/vnd.jupyter.widget-view+json": {
       "model_id": "46c09b983c4346559bd072fe629e5b8c",
       "version_major": 2,
       "version_minor": 0
      },
      "text/plain": [
       "HBox(children=(FloatProgress(value=0.0, max=165.0), HTML(value='')))"
      ]
     },
     "metadata": {},
     "output_type": "display_data"
    },
    {
     "name": "stdout",
     "output_type": "stream",
     "text": [
      "\n",
      "Train:\n",
      " loss 0.009, accuracy 0.997, F1-Macro 0.995, F1-Weighted 0.997, \n",
      "Val:\n",
      " loss 0.647, accuracy 0.917, F1-Macro 0.872, F1-Weighted 0.917, \n"
     ]
    },
    {
     "data": {
      "application/vnd.jupyter.widget-view+json": {
       "model_id": "2c30834ab5ff4f24a5d0f1c5ea0e3ba1",
       "version_major": 2,
       "version_minor": 0
      },
      "text/plain": [
       "HBox(children=(FloatProgress(value=0.0, max=165.0), HTML(value='')))"
      ]
     },
     "metadata": {},
     "output_type": "display_data"
    },
    {
     "name": "stdout",
     "output_type": "stream",
     "text": [
      "\n",
      "Train:\n",
      " loss 0.009, accuracy 0.997, F1-Macro 0.995, F1-Weighted 0.997, \n",
      "Val:\n",
      " loss 0.659, accuracy 0.915, F1-Macro 0.868, F1-Weighted 0.915, \n"
     ]
    },
    {
     "data": {
      "application/vnd.jupyter.widget-view+json": {
       "model_id": "a548086c02524df98097e54b27f1a40e",
       "version_major": 2,
       "version_minor": 0
      },
      "text/plain": [
       "HBox(children=(FloatProgress(value=0.0, max=165.0), HTML(value='')))"
      ]
     },
     "metadata": {},
     "output_type": "display_data"
    },
    {
     "name": "stdout",
     "output_type": "stream",
     "text": [
      "\n",
      "Train:\n",
      " loss 0.010, accuracy 0.997, F1-Macro 0.995, F1-Weighted 0.997, \n",
      "Val:\n",
      " loss 0.687, accuracy 0.918, F1-Macro 0.874, F1-Weighted 0.918, \n"
     ]
    },
    {
     "data": {
      "application/vnd.jupyter.widget-view+json": {
       "model_id": "e15b158e4e5c47aa9f1ce1053385ba28",
       "version_major": 2,
       "version_minor": 0
      },
      "text/plain": [
       "HBox(children=(FloatProgress(value=0.0, max=165.0), HTML(value='')))"
      ]
     },
     "metadata": {},
     "output_type": "display_data"
    },
    {
     "name": "stdout",
     "output_type": "stream",
     "text": [
      "\n",
      "Train:\n",
      " loss 0.009, accuracy 0.997, F1-Macro 0.995, F1-Weighted 0.997, \n",
      "Val:\n",
      " loss 0.711, accuracy 0.914, F1-Macro 0.867, F1-Weighted 0.915, \n"
     ]
    },
    {
     "data": {
      "application/vnd.jupyter.widget-view+json": {
       "model_id": "59cf28cce61c43a097d9add4a1fb6c88",
       "version_major": 2,
       "version_minor": 0
      },
      "text/plain": [
       "HBox(children=(FloatProgress(value=0.0, max=165.0), HTML(value='')))"
      ]
     },
     "metadata": {},
     "output_type": "display_data"
    },
    {
     "name": "stdout",
     "output_type": "stream",
     "text": [
      "\n",
      "Train:\n",
      " loss 0.009, accuracy 0.996, F1-Macro 0.994, F1-Weighted 0.996, \n",
      "Val:\n",
      " loss 0.738, accuracy 0.911, F1-Macro 0.859, F1-Weighted 0.911, \n"
     ]
    },
    {
     "data": {
      "application/vnd.jupyter.widget-view+json": {
       "model_id": "6741a3fa38574300b259b917d5c39801",
       "version_major": 2,
       "version_minor": 0
      },
      "text/plain": [
       "HBox(children=(FloatProgress(value=0.0, max=165.0), HTML(value='')))"
      ]
     },
     "metadata": {},
     "output_type": "display_data"
    },
    {
     "name": "stdout",
     "output_type": "stream",
     "text": [
      "\n",
      "Train:\n",
      " loss 0.010, accuracy 0.996, F1-Macro 0.994, F1-Weighted 0.996, \n",
      "Val:\n",
      " loss 0.728, accuracy 0.912, F1-Macro 0.860, F1-Weighted 0.911, \n"
     ]
    },
    {
     "data": {
      "application/vnd.jupyter.widget-view+json": {
       "model_id": "0438b036e9aa40f8a5885e09f6d9e9f3",
       "version_major": 2,
       "version_minor": 0
      },
      "text/plain": [
       "HBox(children=(FloatProgress(value=0.0, max=165.0), HTML(value='')))"
      ]
     },
     "metadata": {},
     "output_type": "display_data"
    },
    {
     "name": "stdout",
     "output_type": "stream",
     "text": [
      "\n",
      "Train:\n",
      " loss 0.006, accuracy 0.998, F1-Macro 0.998, F1-Weighted 0.998, \n",
      "Val:\n",
      " loss 0.741, accuracy 0.916, F1-Macro 0.870, F1-Weighted 0.916, \n"
     ]
    },
    {
     "data": {
      "application/vnd.jupyter.widget-view+json": {
       "model_id": "ed5ef88debe746d9ac5919edc371c148",
       "version_major": 2,
       "version_minor": 0
      },
      "text/plain": [
       "HBox(children=(FloatProgress(value=0.0, max=165.0), HTML(value='')))"
      ]
     },
     "metadata": {},
     "output_type": "display_data"
    },
    {
     "name": "stdout",
     "output_type": "stream",
     "text": [
      "\n",
      "Train:\n",
      " loss 0.008, accuracy 0.998, F1-Macro 0.997, F1-Weighted 0.998, \n",
      "Val:\n",
      " loss 0.760, accuracy 0.917, F1-Macro 0.865, F1-Weighted 0.917, \n"
     ]
    },
    {
     "data": {
      "application/vnd.jupyter.widget-view+json": {
       "model_id": "b5343b0e3b0b4a938feaf891dfb0e5c1",
       "version_major": 2,
       "version_minor": 0
      },
      "text/plain": [
       "HBox(children=(FloatProgress(value=0.0, max=165.0), HTML(value='')))"
      ]
     },
     "metadata": {},
     "output_type": "display_data"
    },
    {
     "name": "stdout",
     "output_type": "stream",
     "text": [
      "\n",
      "Train:\n",
      " loss 0.007, accuracy 0.998, F1-Macro 0.996, F1-Weighted 0.998, \n",
      "Val:\n",
      " loss 0.804, accuracy 0.917, F1-Macro 0.869, F1-Weighted 0.917, \n"
     ]
    },
    {
     "data": {
      "application/vnd.jupyter.widget-view+json": {
       "model_id": "ac8e8c9393b64c86b819708ad5d7f6ab",
       "version_major": 2,
       "version_minor": 0
      },
      "text/plain": [
       "HBox(children=(FloatProgress(value=0.0, max=165.0), HTML(value='')))"
      ]
     },
     "metadata": {},
     "output_type": "display_data"
    },
    {
     "name": "stdout",
     "output_type": "stream",
     "text": [
      "\n",
      "Train:\n",
      " loss 0.009, accuracy 0.997, F1-Macro 0.995, F1-Weighted 0.997, \n",
      "Val:\n",
      " loss 0.769, accuracy 0.913, F1-Macro 0.863, F1-Weighted 0.913, \n"
     ]
    },
    {
     "data": {
      "application/vnd.jupyter.widget-view+json": {
       "model_id": "177e70e23ef54736a55e80ac4477590f",
       "version_major": 2,
       "version_minor": 0
      },
      "text/plain": [
       "HBox(children=(FloatProgress(value=0.0, max=165.0), HTML(value='')))"
      ]
     },
     "metadata": {},
     "output_type": "display_data"
    },
    {
     "name": "stdout",
     "output_type": "stream",
     "text": [
      "\n",
      "Train:\n",
      " loss 0.008, accuracy 0.997, F1-Macro 0.995, F1-Weighted 0.997, \n",
      "Val:\n",
      " loss 0.763, accuracy 0.912, F1-Macro 0.866, F1-Weighted 0.912, \n"
     ]
    },
    {
     "data": {
      "application/vnd.jupyter.widget-view+json": {
       "model_id": "13e2c8161c1547f9b1ded2a0dea5c094",
       "version_major": 2,
       "version_minor": 0
      },
      "text/plain": [
       "HBox(children=(FloatProgress(value=0.0, max=165.0), HTML(value='')))"
      ]
     },
     "metadata": {},
     "output_type": "display_data"
    },
    {
     "name": "stdout",
     "output_type": "stream",
     "text": [
      "\n",
      "Train:\n",
      " loss 0.010, accuracy 0.997, F1-Macro 0.995, F1-Weighted 0.997, \n",
      "Val:\n",
      " loss 0.724, accuracy 0.913, F1-Macro 0.859, F1-Weighted 0.914, \n"
     ]
    }
   ],
   "source": [
    "model = LSTM_variable_input(vocab_size, 150, 150)\n",
    "train_model(model, epochs=50, lr=0.005)"
   ]
  },
  {
   "cell_type": "markdown",
   "metadata": {},
   "source": [
    "# Sandbox"
   ]
  },
  {
   "cell_type": "code",
   "execution_count": 40,
   "metadata": {},
   "outputs": [],
   "source": [
    "df_train = df_data.loc[df_data['fold']==\"train\"].copy()"
   ]
  },
  {
   "cell_type": "code",
   "execution_count": 41,
   "metadata": {},
   "outputs": [
    {
     "name": "stdout",
     "output_type": "stream",
     "text": [
      "13081\n"
     ]
    }
   ],
   "source": [
    "tok = spacy.load('pt_core_news_sm')\n",
    "\n",
    "#count number of occurences of each word\n",
    "\n",
    "counts = Counter()\n",
    "for index, row in df_train.iterrows():\n",
    "    counts.update(tokenize(row['four_pages_processed']))\n",
    " #creating vocabulary\n",
    "vocab2index = {\"\":0, \"UNK\":1}\n",
    "words = [\"\", \"UNK\"]\n",
    "for word in counts:\n",
    "    vocab2index[word] = len(words)\n",
    "    words.append(word)\n",
    "print(len(words))   \n"
   ]
  },
  {
   "cell_type": "code",
   "execution_count": 32,
   "metadata": {},
   "outputs": [
    {
     "name": "stdout",
     "output_type": "stream",
     "text": [
      "13081\n"
     ]
    },
    {
     "name": "stderr",
     "output_type": "stream",
     "text": [
      "/dados01/workspace/ufmg.f01dcc/py37/lib/python3.7/site-packages/ipykernel_launcher.py:16: VisibleDeprecationWarning: Creating an ndarray from ragged nested sequences (which is a list-or-tuple of lists-or-tuples-or ndarrays with different lengths or shapes) is deprecated. If you meant to do this, you must specify 'dtype=object' when creating the ndarray.\n",
      "  app.launch_new_instance()\n",
      "/dados01/workspace/ufmg.f01dcc/py37/lib/python3.7/site-packages/ipykernel_launcher.py:17: VisibleDeprecationWarning: Creating an ndarray from ragged nested sequences (which is a list-or-tuple of lists-or-tuples-or ndarrays with different lengths or shapes) is deprecated. If you meant to do this, you must specify 'dtype=object' when creating the ndarray.\n",
      "/dados01/workspace/ufmg.f01dcc/py37/lib/python3.7/site-packages/ipykernel_launcher.py:18: VisibleDeprecationWarning: Creating an ndarray from ragged nested sequences (which is a list-or-tuple of lists-or-tuples-or ndarrays with different lengths or shapes) is deprecated. If you meant to do this, you must specify 'dtype=object' when creating the ndarray.\n"
     ]
    },
    {
     "data": {
      "text/html": [
       "<div>\n",
       "<style scoped>\n",
       "    .dataframe tbody tr th:only-of-type {\n",
       "        vertical-align: middle;\n",
       "    }\n",
       "\n",
       "    .dataframe tbody tr th {\n",
       "        vertical-align: top;\n",
       "    }\n",
       "\n",
       "    .dataframe thead th {\n",
       "        text-align: right;\n",
       "    }\n",
       "</style>\n",
       "<table border=\"1\" class=\"dataframe\">\n",
       "  <thead>\n",
       "    <tr style=\"text-align: right;\">\n",
       "      <th></th>\n",
       "      <th>doc_id</th>\n",
       "      <th>final_meta-class</th>\n",
       "      <th>label</th>\n",
       "      <th>label_int</th>\n",
       "      <th>city</th>\n",
       "      <th>file_dir</th>\n",
       "      <th>one_page</th>\n",
       "      <th>two_pages</th>\n",
       "      <th>three_pages</th>\n",
       "      <th>four_pages</th>\n",
       "      <th>fold</th>\n",
       "      <th>four_pages_processed</th>\n",
       "      <th>four_pages_encoded</th>\n",
       "    </tr>\n",
       "  </thead>\n",
       "  <tbody>\n",
       "    <tr>\n",
       "      <th>0</th>\n",
       "      <td>499fa518c7724a6e449c509b7d7bc819</td>\n",
       "      <td>ATA</td>\n",
       "      <td>ata dispensa licitacao</td>\n",
       "      <td>0</td>\n",
       "      <td>cristais</td>\n",
       "      <td>../data/290-licitacoes-cristais/data/files_jso...</td>\n",
       "      <td>comissao permanente licitacoes ata dispensa ju...</td>\n",
       "      <td>comissao permanente licitacoes ata dispensa ju...</td>\n",
       "      <td>comissao permanente licitacoes ata dispensa ju...</td>\n",
       "      <td>comissao permanente licitacoes ata dispensa ju...</td>\n",
       "      <td>train</td>\n",
       "      <td>comissao permanente licitacoes ata dispensa ju...</td>\n",
       "      <td>[[2, 3, 4, 5, 6, 7, 8, 2, 3, 9, 10, 11, 2, 9, ...</td>\n",
       "    </tr>\n",
       "    <tr>\n",
       "      <th>1</th>\n",
       "      <td>56a09c5d1d04cc95ada4d68ad22dcbd9</td>\n",
       "      <td>ATA</td>\n",
       "      <td>ata dispensa licitacao</td>\n",
       "      <td>0</td>\n",
       "      <td>cristais</td>\n",
       "      <td>../data/290-licitacoes-cristais/data/files_jso...</td>\n",
       "      <td>comissao permanente licitacoes dia fevereiro r...</td>\n",
       "      <td>comissao permanente licitacoes dia fevereiro r...</td>\n",
       "      <td>comissao permanente licitacoes dia fevereiro r...</td>\n",
       "      <td>comissao permanente licitacoes dia fevereiro r...</td>\n",
       "      <td>test</td>\n",
       "      <td>comissao permanente licitacoes dia fevereiro r...</td>\n",
       "      <td>[[2, 3, 4, 101, 148, 8, 2, 3, 9, 10, 11, 2, 9,...</td>\n",
       "    </tr>\n",
       "    <tr>\n",
       "      <th>2</th>\n",
       "      <td>6e9f35208290c1130fcccad47b50aa53</td>\n",
       "      <td>ATA</td>\n",
       "      <td>ata dispensa licitacao</td>\n",
       "      <td>0</td>\n",
       "      <td>cristais</td>\n",
       "      <td>../data/290-licitacoes-cristais/data/files_jso...</td>\n",
       "      <td>praca cel centro estado cep pabx cnpj comissa...</td>\n",
       "      <td>praca cel centro estado cep pabx cnpj comissa...</td>\n",
       "      <td>praca cel centro estado cep pabx cnpj comissa...</td>\n",
       "      <td>praca cel centro estado cep pabx cnpj comissa...</td>\n",
       "      <td>train</td>\n",
       "      <td>praca cel centro estado cep pabx cnpj comissao...</td>\n",
       "      <td>[[109, 110, 111, 112, 113, 114, 45, 2, 3, 4, 8...</td>\n",
       "    </tr>\n",
       "    <tr>\n",
       "      <th>3</th>\n",
       "      <td>669c029c5812ec9a31b9c211044157b4</td>\n",
       "      <td>ATA</td>\n",
       "      <td>ata dispensa licitacao</td>\n",
       "      <td>0</td>\n",
       "      <td>cristais</td>\n",
       "      <td>../data/290-licitacoes-cristais/data/files_jso...</td>\n",
       "      <td>comissao permanente licitacoes dia fevereiro r...</td>\n",
       "      <td>comissao permanente licitacoes dia fevereiro r...</td>\n",
       "      <td>comissao permanente licitacoes dia fevereiro r...</td>\n",
       "      <td>comissao permanente licitacoes dia fevereiro r...</td>\n",
       "      <td>train</td>\n",
       "      <td>comissao permanente licitacoes dia fevereiro r...</td>\n",
       "      <td>[[2, 3, 4, 101, 148, 8, 2, 3, 9, 10, 11, 2, 9,...</td>\n",
       "    </tr>\n",
       "    <tr>\n",
       "      <th>4</th>\n",
       "      <td>a22421dc45d623c9200c7e8fb1e6ca34</td>\n",
       "      <td>ATA</td>\n",
       "      <td>ata dispensa licitacao</td>\n",
       "      <td>0</td>\n",
       "      <td>cristais</td>\n",
       "      <td>../data/290-licitacoes-cristais/data/files_jso...</td>\n",
       "      <td>comissao permanente licitacoes maio reuniu com...</td>\n",
       "      <td>comissao permanente licitacoes maio reuniu com...</td>\n",
       "      <td>comissao permanente licitacoes maio reuniu com...</td>\n",
       "      <td>comissao permanente licitacoes maio reuniu com...</td>\n",
       "      <td>train</td>\n",
       "      <td>comissao permanente licitacoes maio reuniu com...</td>\n",
       "      <td>[[2, 3, 4, 224, 8, 2, 3, 9, 10, 225, 94, 12, 1...</td>\n",
       "    </tr>\n",
       "  </tbody>\n",
       "</table>\n",
       "</div>"
      ],
      "text/plain": [
       "                             doc_id final_meta-class                   label  \\\n",
       "0  499fa518c7724a6e449c509b7d7bc819              ATA  ata dispensa licitacao   \n",
       "1  56a09c5d1d04cc95ada4d68ad22dcbd9              ATA  ata dispensa licitacao   \n",
       "2  6e9f35208290c1130fcccad47b50aa53              ATA  ata dispensa licitacao   \n",
       "3  669c029c5812ec9a31b9c211044157b4              ATA  ata dispensa licitacao   \n",
       "4  a22421dc45d623c9200c7e8fb1e6ca34              ATA  ata dispensa licitacao   \n",
       "\n",
       "   label_int      city                                           file_dir  \\\n",
       "0          0  cristais  ../data/290-licitacoes-cristais/data/files_jso...   \n",
       "1          0  cristais  ../data/290-licitacoes-cristais/data/files_jso...   \n",
       "2          0  cristais  ../data/290-licitacoes-cristais/data/files_jso...   \n",
       "3          0  cristais  ../data/290-licitacoes-cristais/data/files_jso...   \n",
       "4          0  cristais  ../data/290-licitacoes-cristais/data/files_jso...   \n",
       "\n",
       "                                            one_page  \\\n",
       "0  comissao permanente licitacoes ata dispensa ju...   \n",
       "1  comissao permanente licitacoes dia fevereiro r...   \n",
       "2   praca cel centro estado cep pabx cnpj comissa...   \n",
       "3  comissao permanente licitacoes dia fevereiro r...   \n",
       "4  comissao permanente licitacoes maio reuniu com...   \n",
       "\n",
       "                                           two_pages  \\\n",
       "0  comissao permanente licitacoes ata dispensa ju...   \n",
       "1  comissao permanente licitacoes dia fevereiro r...   \n",
       "2   praca cel centro estado cep pabx cnpj comissa...   \n",
       "3  comissao permanente licitacoes dia fevereiro r...   \n",
       "4  comissao permanente licitacoes maio reuniu com...   \n",
       "\n",
       "                                         three_pages  \\\n",
       "0  comissao permanente licitacoes ata dispensa ju...   \n",
       "1  comissao permanente licitacoes dia fevereiro r...   \n",
       "2   praca cel centro estado cep pabx cnpj comissa...   \n",
       "3  comissao permanente licitacoes dia fevereiro r...   \n",
       "4  comissao permanente licitacoes maio reuniu com...   \n",
       "\n",
       "                                          four_pages   fold  \\\n",
       "0  comissao permanente licitacoes ata dispensa ju...  train   \n",
       "1  comissao permanente licitacoes dia fevereiro r...   test   \n",
       "2   praca cel centro estado cep pabx cnpj comissa...  train   \n",
       "3  comissao permanente licitacoes dia fevereiro r...  train   \n",
       "4  comissao permanente licitacoes maio reuniu com...  train   \n",
       "\n",
       "                                four_pages_processed  \\\n",
       "0  comissao permanente licitacoes ata dispensa ju...   \n",
       "1  comissao permanente licitacoes dia fevereiro r...   \n",
       "2  praca cel centro estado cep pabx cnpj comissao...   \n",
       "3  comissao permanente licitacoes dia fevereiro r...   \n",
       "4  comissao permanente licitacoes maio reuniu com...   \n",
       "\n",
       "                                  four_pages_encoded  \n",
       "0  [[2, 3, 4, 5, 6, 7, 8, 2, 3, 9, 10, 11, 2, 9, ...  \n",
       "1  [[2, 3, 4, 101, 148, 8, 2, 3, 9, 10, 11, 2, 9,...  \n",
       "2  [[109, 110, 111, 112, 113, 114, 45, 2, 3, 4, 8...  \n",
       "3  [[2, 3, 4, 101, 148, 8, 2, 3, 9, 10, 11, 2, 9,...  \n",
       "4  [[2, 3, 4, 224, 8, 2, 3, 9, 10, 225, 94, 12, 1...  "
      ]
     },
     "execution_count": 32,
     "metadata": {},
     "output_type": "execute_result"
    }
   ],
   "source": [
    "\n",
    "# encoding\n",
    "df_data.loc[df_data['fold'] == 'train','four_pages_encoded'] = df_data.loc[df_data['fold'] == 'train','four_pages_processed'].apply(lambda x: np.array(encode_sentence(x,vocab2index )))\n",
    "df_data.loc[df_data['fold'] == 'val','four_pages_encoded'] = df_data.loc[df_data['fold'] == 'val','four_pages_processed'].apply(lambda x: np.array(encode_sentence(x,vocab2index )))\n",
    "df_data.loc[df_data['fold'] == 'test','four_pages_encoded'] = df_data.loc[df_data['fold'] == 'test','four_pages_processed'].apply(lambda x: np.array(encode_sentence(x,vocab2index )))\n",
    "df_data.head()"
   ]
  },
  {
   "cell_type": "code",
   "execution_count": 34,
   "metadata": {},
   "outputs": [
    {
     "name": "stdout",
     "output_type": "stream",
     "text": [
      "13081\n"
     ]
    },
    {
     "name": "stderr",
     "output_type": "stream",
     "text": [
      "/dados01/workspace/ufmg.f01dcc/py37/lib/python3.7/site-packages/ipykernel_launcher.py:16: VisibleDeprecationWarning: Creating an ndarray from ragged nested sequences (which is a list-or-tuple of lists-or-tuples-or ndarrays with different lengths or shapes) is deprecated. If you meant to do this, you must specify 'dtype=object' when creating the ndarray.\n",
      "  app.launch_new_instance()\n",
      "/dados01/workspace/ufmg.f01dcc/py37/lib/python3.7/site-packages/ipykernel_launcher.py:17: VisibleDeprecationWarning: Creating an ndarray from ragged nested sequences (which is a list-or-tuple of lists-or-tuples-or ndarrays with different lengths or shapes) is deprecated. If you meant to do this, you must specify 'dtype=object' when creating the ndarray.\n",
      "/dados01/workspace/ufmg.f01dcc/py37/lib/python3.7/site-packages/ipykernel_launcher.py:18: VisibleDeprecationWarning: Creating an ndarray from ragged nested sequences (which is a list-or-tuple of lists-or-tuples-or ndarrays with different lengths or shapes) is deprecated. If you meant to do this, you must specify 'dtype=object' when creating the ndarray.\n"
     ]
    },
    {
     "data": {
      "text/html": [
       "<div>\n",
       "<style scoped>\n",
       "    .dataframe tbody tr th:only-of-type {\n",
       "        vertical-align: middle;\n",
       "    }\n",
       "\n",
       "    .dataframe tbody tr th {\n",
       "        vertical-align: top;\n",
       "    }\n",
       "\n",
       "    .dataframe thead th {\n",
       "        text-align: right;\n",
       "    }\n",
       "</style>\n",
       "<table border=\"1\" class=\"dataframe\">\n",
       "  <thead>\n",
       "    <tr style=\"text-align: right;\">\n",
       "      <th></th>\n",
       "      <th>doc_id</th>\n",
       "      <th>final_meta-class</th>\n",
       "      <th>label</th>\n",
       "      <th>label_int</th>\n",
       "      <th>city</th>\n",
       "      <th>file_dir</th>\n",
       "      <th>one_page</th>\n",
       "      <th>two_pages</th>\n",
       "      <th>three_pages</th>\n",
       "      <th>four_pages</th>\n",
       "      <th>fold</th>\n",
       "      <th>four_pages_processed</th>\n",
       "      <th>four_pages_encoded</th>\n",
       "    </tr>\n",
       "  </thead>\n",
       "  <tbody>\n",
       "    <tr>\n",
       "      <th>0</th>\n",
       "      <td>499fa518c7724a6e449c509b7d7bc819</td>\n",
       "      <td>ATA</td>\n",
       "      <td>ata dispensa licitacao</td>\n",
       "      <td>0</td>\n",
       "      <td>cristais</td>\n",
       "      <td>../data/290-licitacoes-cristais/data/files_jso...</td>\n",
       "      <td>comissao permanente licitacoes ata dispensa ju...</td>\n",
       "      <td>comissao permanente licitacoes ata dispensa ju...</td>\n",
       "      <td>comissao permanente licitacoes ata dispensa ju...</td>\n",
       "      <td>comissao permanente licitacoes ata dispensa ju...</td>\n",
       "      <td>train</td>\n",
       "      <td>comissao permanente licitacoes ata dispensa ju...</td>\n",
       "      <td>[[2, 3, 4, 5, 6, 7, 8, 2, 3, 9, 10, 11, 2, 9, ...</td>\n",
       "    </tr>\n",
       "    <tr>\n",
       "      <th>1</th>\n",
       "      <td>56a09c5d1d04cc95ada4d68ad22dcbd9</td>\n",
       "      <td>ATA</td>\n",
       "      <td>ata dispensa licitacao</td>\n",
       "      <td>0</td>\n",
       "      <td>cristais</td>\n",
       "      <td>../data/290-licitacoes-cristais/data/files_jso...</td>\n",
       "      <td>comissao permanente licitacoes dia fevereiro r...</td>\n",
       "      <td>comissao permanente licitacoes dia fevereiro r...</td>\n",
       "      <td>comissao permanente licitacoes dia fevereiro r...</td>\n",
       "      <td>comissao permanente licitacoes dia fevereiro r...</td>\n",
       "      <td>test</td>\n",
       "      <td>comissao permanente licitacoes dia fevereiro r...</td>\n",
       "      <td>[[2, 3, 4, 101, 109, 8, 2, 3, 9, 10, 11, 2, 9,...</td>\n",
       "    </tr>\n",
       "    <tr>\n",
       "      <th>2</th>\n",
       "      <td>6e9f35208290c1130fcccad47b50aa53</td>\n",
       "      <td>ATA</td>\n",
       "      <td>ata dispensa licitacao</td>\n",
       "      <td>0</td>\n",
       "      <td>cristais</td>\n",
       "      <td>../data/290-licitacoes-cristais/data/files_jso...</td>\n",
       "      <td>praca cel centro estado cep pabx cnpj comissa...</td>\n",
       "      <td>praca cel centro estado cep pabx cnpj comissa...</td>\n",
       "      <td>praca cel centro estado cep pabx cnpj comissa...</td>\n",
       "      <td>praca cel centro estado cep pabx cnpj comissa...</td>\n",
       "      <td>train</td>\n",
       "      <td>praca cel centro estado cep pabx cnpj comissao...</td>\n",
       "      <td>[[182, 183, 120, 184, 185, 186, 45, 2, 3, 4, 8...</td>\n",
       "    </tr>\n",
       "    <tr>\n",
       "      <th>3</th>\n",
       "      <td>669c029c5812ec9a31b9c211044157b4</td>\n",
       "      <td>ATA</td>\n",
       "      <td>ata dispensa licitacao</td>\n",
       "      <td>0</td>\n",
       "      <td>cristais</td>\n",
       "      <td>../data/290-licitacoes-cristais/data/files_jso...</td>\n",
       "      <td>comissao permanente licitacoes dia fevereiro r...</td>\n",
       "      <td>comissao permanente licitacoes dia fevereiro r...</td>\n",
       "      <td>comissao permanente licitacoes dia fevereiro r...</td>\n",
       "      <td>comissao permanente licitacoes dia fevereiro r...</td>\n",
       "      <td>train</td>\n",
       "      <td>comissao permanente licitacoes dia fevereiro r...</td>\n",
       "      <td>[[2, 3, 4, 101, 109, 8, 2, 3, 9, 10, 11, 2, 9,...</td>\n",
       "    </tr>\n",
       "    <tr>\n",
       "      <th>4</th>\n",
       "      <td>a22421dc45d623c9200c7e8fb1e6ca34</td>\n",
       "      <td>ATA</td>\n",
       "      <td>ata dispensa licitacao</td>\n",
       "      <td>0</td>\n",
       "      <td>cristais</td>\n",
       "      <td>../data/290-licitacoes-cristais/data/files_jso...</td>\n",
       "      <td>comissao permanente licitacoes maio reuniu com...</td>\n",
       "      <td>comissao permanente licitacoes maio reuniu com...</td>\n",
       "      <td>comissao permanente licitacoes maio reuniu com...</td>\n",
       "      <td>comissao permanente licitacoes maio reuniu com...</td>\n",
       "      <td>train</td>\n",
       "      <td>comissao permanente licitacoes maio reuniu com...</td>\n",
       "      <td>[[2, 3, 4, 235, 8, 2, 3, 9, 10, 236, 94, 12, 1...</td>\n",
       "    </tr>\n",
       "  </tbody>\n",
       "</table>\n",
       "</div>"
      ],
      "text/plain": [
       "                             doc_id final_meta-class                   label  \\\n",
       "0  499fa518c7724a6e449c509b7d7bc819              ATA  ata dispensa licitacao   \n",
       "1  56a09c5d1d04cc95ada4d68ad22dcbd9              ATA  ata dispensa licitacao   \n",
       "2  6e9f35208290c1130fcccad47b50aa53              ATA  ata dispensa licitacao   \n",
       "3  669c029c5812ec9a31b9c211044157b4              ATA  ata dispensa licitacao   \n",
       "4  a22421dc45d623c9200c7e8fb1e6ca34              ATA  ata dispensa licitacao   \n",
       "\n",
       "   label_int      city                                           file_dir  \\\n",
       "0          0  cristais  ../data/290-licitacoes-cristais/data/files_jso...   \n",
       "1          0  cristais  ../data/290-licitacoes-cristais/data/files_jso...   \n",
       "2          0  cristais  ../data/290-licitacoes-cristais/data/files_jso...   \n",
       "3          0  cristais  ../data/290-licitacoes-cristais/data/files_jso...   \n",
       "4          0  cristais  ../data/290-licitacoes-cristais/data/files_jso...   \n",
       "\n",
       "                                            one_page  \\\n",
       "0  comissao permanente licitacoes ata dispensa ju...   \n",
       "1  comissao permanente licitacoes dia fevereiro r...   \n",
       "2   praca cel centro estado cep pabx cnpj comissa...   \n",
       "3  comissao permanente licitacoes dia fevereiro r...   \n",
       "4  comissao permanente licitacoes maio reuniu com...   \n",
       "\n",
       "                                           two_pages  \\\n",
       "0  comissao permanente licitacoes ata dispensa ju...   \n",
       "1  comissao permanente licitacoes dia fevereiro r...   \n",
       "2   praca cel centro estado cep pabx cnpj comissa...   \n",
       "3  comissao permanente licitacoes dia fevereiro r...   \n",
       "4  comissao permanente licitacoes maio reuniu com...   \n",
       "\n",
       "                                         three_pages  \\\n",
       "0  comissao permanente licitacoes ata dispensa ju...   \n",
       "1  comissao permanente licitacoes dia fevereiro r...   \n",
       "2   praca cel centro estado cep pabx cnpj comissa...   \n",
       "3  comissao permanente licitacoes dia fevereiro r...   \n",
       "4  comissao permanente licitacoes maio reuniu com...   \n",
       "\n",
       "                                          four_pages   fold  \\\n",
       "0  comissao permanente licitacoes ata dispensa ju...  train   \n",
       "1  comissao permanente licitacoes dia fevereiro r...   test   \n",
       "2   praca cel centro estado cep pabx cnpj comissa...  train   \n",
       "3  comissao permanente licitacoes dia fevereiro r...  train   \n",
       "4  comissao permanente licitacoes maio reuniu com...  train   \n",
       "\n",
       "                                four_pages_processed  \\\n",
       "0  comissao permanente licitacoes ata dispensa ju...   \n",
       "1  comissao permanente licitacoes dia fevereiro r...   \n",
       "2  praca cel centro estado cep pabx cnpj comissao...   \n",
       "3  comissao permanente licitacoes dia fevereiro r...   \n",
       "4  comissao permanente licitacoes maio reuniu com...   \n",
       "\n",
       "                                  four_pages_encoded  \n",
       "0  [[2, 3, 4, 5, 6, 7, 8, 2, 3, 9, 10, 11, 2, 9, ...  \n",
       "1  [[2, 3, 4, 101, 109, 8, 2, 3, 9, 10, 11, 2, 9,...  \n",
       "2  [[182, 183, 120, 184, 185, 186, 45, 2, 3, 4, 8...  \n",
       "3  [[2, 3, 4, 101, 109, 8, 2, 3, 9, 10, 11, 2, 9,...  \n",
       "4  [[2, 3, 4, 235, 8, 2, 3, 9, 10, 236, 94, 12, 1...  "
      ]
     },
     "execution_count": 34,
     "metadata": {},
     "output_type": "execute_result"
    }
   ],
   "source": [
    "tok = spacy.load('pt_core_news_sm')\n",
    "\n",
    "#count number of occurences of each word\n",
    "counts = Counter()\n",
    "for index, row in df_data.iterrows():\n",
    "    counts.update(tokenize(row['four_pages_processed']))\n",
    "\n",
    "#creating vocabulary\n",
    "vocab2index = {\"\":0, \"UNK\":1}\n",
    "words = [\"\", \"UNK\"]\n",
    "for word in counts:\n",
    "    vocab2index[word] = len(words)\n",
    "    words.append(word)\n",
    "print(len(words))\n",
    "# encoding\n",
    "df_data.loc[df_data['fold'] == 'train','four_pages_encoded'] = df_data.loc[df_data['fold'] == 'train','four_pages_processed'].apply(lambda x: np.array(encode_sentence(x,vocab2index )))\n",
    "df_data.loc[df_data['fold'] == 'val','four_pages_encoded'] = df_data.loc[df_data['fold'] == 'val','four_pages_processed'].apply(lambda x: np.array(encode_sentence(x,vocab2index )))\n",
    "df_data.loc[df_data['fold'] == 'test','four_pages_encoded'] = df_data.loc[df_data['fold'] == 'test','four_pages_processed'].apply(lambda x: np.array(encode_sentence(x,vocab2index )))\n",
    "df_data.head()"
   ]
  },
  {
   "cell_type": "code",
   "execution_count": 30,
   "metadata": {},
   "outputs": [],
   "source": [
    "def encode_sentence(text, vocab2index, N=1000):\n",
    "    print(\"-\"*20,' TEXT ', \"-\"*20, \"\\n\")\n",
    "    print(text)\n",
    "    tokenized = tokenize(text)\n",
    "    print(\"-\"*20,' TOKENIZE ', \"-\"*20, \"\\n\")\n",
    "    print(tokenized)\n",
    "    encoded = np.zeros(N, dtype=int)\n",
    "    enc1 = np.array([vocab2index.get(word, vocab2index[\"UNK\"]) for word in tokenized])\n",
    "    print(\"-\"*20,' ENCODED ', \"-\"*20, \"\\n\")\n",
    "    print(enc1)\n",
    "    length = min(N, len(enc1))\n",
    "    print(\"-\"*20,' LENGTH ', \"-\"*20, \"\\n\")\n",
    "    print(length)\n",
    "    encoded[:length] = enc1[:length]\n",
    "    print(\"-\"*20,' FINAL ', \"-\"*20, \"\\n\")\n",
    "    print(encoded)\n",
    "    return encoded, length"
   ]
  },
  {
   "cell_type": "code",
   "execution_count": 33,
   "metadata": {
    "scrolled": true
   },
   "outputs": [
    {
     "name": "stdout",
     "output_type": "stream",
     "text": [
      "--------------------  TEXT  -------------------- \n",
      "\n",
      "comissao permanente licitacoes dias abril reuniu comissao permanente licitacao presidente membros comissao licitacao rogana edinamara nomeados portaria janeiro apos procedida avaliacao dispensa licitacao prestacao servicos sonorizacao mecanica trio eletrico evento festivo sabado aleluia praca jose ferreira filho dia abril cotados servicos seguintes empresas fernando silva cnpj endereco av maringa bairro maringa boa esperanca mg valor global quatro mil quinhentos reais elielson eliazar cnpj endereco rua beline moreira maia centro mg valor global tres mil novecentos reais cnpj endereco rua centro candeias mg valor global quatro mil oitocentos reais aberta etapa julgamento chegou entao seguinte resultado final elielson eliazar cnpj endereco beline moreira maia centro mg seq item descricao marca un qtd valor unitario valor total servicos sonorizacao mecanica sv locacao trio eletrico servicos djs locucao segurancas incluso alimentacao transporte oleo diesel impostos sub total total geral ato continuo procedeu abertura envelopes contendo documentacao habilitacao licitante ofertou menor preco apos apreciacao documentos mostrou conformidade solicitado apos termino analise documentos presidente habilitou empresa vencedora segue elielson eliazar cnpj cpf situada beline moreira maia centro mg valor total tres mil novecentos reais valor global tres mil novecentos reais presidente comissao recomenda sr prefeito municipal ratificacao item mencionados horas dia abril xxxxxxxxxxxxxxxxxxxxxx pablo jose silva presidente cpl mattheus henrique rogana membros cpl edinamara ribeiro silva membros cpl\n",
      "--------------------  TOKENIZE  -------------------- \n",
      "\n",
      "['comissao', 'permanente', 'licitacoes', 'dias', 'abril', 'reuniu', 'comissao', 'permanente', 'licitacao', 'presidente', 'membros', 'comissao', 'licitacao', 'rogana', 'edinamara', 'nomeados', 'portaria', 'janeiro', 'apos', 'procedida', 'avaliacao', 'dispensa', 'licitacao', 'prestacao', 'servicos', 'sonorizacao', 'mecanica', 'trio', 'eletrico', 'evento', 'festivo', 'sabado', 'aleluia', 'praca', 'jose', 'ferreira', 'filho', 'dia', 'abril', 'cotados', 'servicos', 'seguintes', 'empresas', 'fernando', 'silva', 'cnpj', 'endereco', 'av', 'maringa', 'bairro', 'maringa', 'boa', 'esperanca', 'mg', 'valor', 'global', 'quatro', 'mil', 'quinhentos', 'reais', 'elielson', 'eliazar', 'cnpj', 'endereco', 'rua', 'beline', 'moreira', 'maia', 'centro', 'mg', 'valor', 'global', 'tres', 'mil', 'novecentos', 'reais', 'cnpj', 'endereco', 'rua', 'centro', 'candeias', 'mg', 'valor', 'global', 'quatro', 'mil', 'oitocentos', 'reais', 'aberta', 'etapa', 'julgamento', 'chegou', 'entao', 'seguinte', 'resultado', 'final', 'elielson', 'eliazar', 'cnpj', 'endereco', 'beline', 'moreira', 'maia', 'centro', 'mg', 'seq', 'item', 'descricao', 'marca', 'un', 'qtd', 'valor', 'unitario', 'valor', 'total', 'servicos', 'sonorizacao', 'mecanica', 'sv', 'locacao', 'trio', 'eletrico', 'servicos', 'djs', 'locucao', 'segurancas', 'incluso', 'alimentacao', 'transporte', 'oleo', 'diesel', 'impostos', 'sub', 'total', 'total', 'geral', 'ato', 'continuo', 'procedeu', 'abertura', 'envelopes', 'contendo', 'documentacao', 'habilitacao', 'licitante', 'ofertou', 'menor', 'preco', 'apos', 'apreciacao', 'documentos', 'mostrou', 'conformidade', 'solicitado', 'apos', 'termino', 'analise', 'documentos', 'presidente', 'habilitou', 'empresa', 'vencedora', 'segue', 'elielson', 'eliazar', 'cnpj', 'cpf', 'situada', 'beline', 'moreira', 'maia', 'centro', 'mg', 'valor', 'total', 'tres', 'mil', 'novecentos', 'reais', 'valor', 'global', 'tres', 'mil', 'novecentos', 'reais', 'presidente', 'comissao', 'recomenda', 'sr', 'prefeito', 'municipal', 'ratificacao', 'item', 'mencionados', 'horas', 'dia', 'abril', 'xxxxxxxxxxxxxxxxxxxxxx', 'pablo', 'jose', 'silva', 'presidente', 'cpl', 'mattheus', 'henrique', 'rogana', 'membros', 'cpl', 'edinamara', 'ribeiro', 'silva', 'membros', 'cpl']\n",
      "--------------------  ENCODED  -------------------- \n",
      "\n",
      "[  2   3   4 315 444   8   2   3   9  10  11   2   9  12  13  14  15  16\n",
      "  17  18  19   6   9 189  21 828 615 968 969 970 971 972 973 182  49 217\n",
      " 974 101 444 513  21 975 254 976 104  45  46 977 978 979 978 980 981  51\n",
      "  58  92 423  89 313  91 834 612  45  46  87 754 837 755 120  51  58  92\n",
      "  88  89 233  91  45  46  87 120 918  51  58  92 423  89 129  91  38  39\n",
      "  40  41  42  43  44 982 834 612  45  46 754 837 755 120  51  52  53  54\n",
      "  55  56  57  58  59  58  60  21 828 615 123 545 968 969  21 983 984 985\n",
      " 986 987 526 485 988 989  61  60  60  62  63  64  65 124 125 126  67  68\n",
      "  69  70  71  72  17  73  74  75  76  77  17  78  79  74  10 990  33  84\n",
      "  85 834 612  45 117  86 754 837 755 120  51  58  60  88  89 233  91  58\n",
      "  92  88  89 233  91  10   2  93  94  95  96  97  53  99 100 101 444 181\n",
      " 103  49 104  10 105 106 107  12  11 105  13 108 104  11 105]\n",
      "--------------------  LENGTH  -------------------- \n",
      "\n",
      "213\n",
      "--------------------  FINAL  -------------------- \n",
      "\n",
      "[  2   3   4 315 444   8   2   3   9  10  11   2   9  12  13  14  15  16\n",
      "  17  18  19   6   9 189  21 828 615 968 969 970 971 972 973 182  49 217\n",
      " 974 101 444 513  21 975 254 976 104  45  46 977 978 979 978 980 981  51\n",
      "  58  92 423  89 313  91 834 612  45  46  87 754 837 755 120  51  58  92\n",
      "  88  89 233  91  45  46  87 120 918  51  58  92 423  89 129  91  38  39\n",
      "  40  41  42  43  44 982 834 612  45  46 754 837 755 120  51  52  53  54\n",
      "  55  56  57  58  59  58  60  21 828 615 123 545 968 969  21 983 984 985\n",
      " 986 987 526 485 988 989  61  60  60  62  63  64  65 124 125 126  67  68\n",
      "  69  70  71  72  17  73  74  75  76  77  17  78  79  74  10 990  33  84\n",
      "  85 834 612  45 117  86 754 837 755 120  51  58  60  88  89 233  91  58\n",
      "  92  88  89 233  91  10   2  93  94  95  96  97  53  99 100 101 444 181\n",
      " 103  49 104  10 105 106 107  12  11 105  13 108 104  11 105   0   0   0\n",
      "   0   0   0   0   0   0   0   0   0   0   0   0   0   0   0   0   0   0\n",
      "   0   0   0   0   0   0   0   0   0   0   0   0   0   0   0   0   0   0\n",
      "   0   0   0   0   0   0   0   0   0   0   0   0   0   0   0   0   0   0\n",
      "   0   0   0   0   0   0   0   0   0   0   0   0   0   0   0   0   0   0\n",
      "   0   0   0   0   0   0   0   0   0   0   0   0   0   0   0   0   0   0\n",
      "   0   0   0   0   0   0   0   0   0   0   0   0   0   0   0   0   0   0\n",
      "   0   0   0   0   0   0   0   0   0   0   0   0   0   0   0   0   0   0\n",
      "   0   0   0   0   0   0   0   0   0   0   0   0   0   0   0   0   0   0\n",
      "   0   0   0   0   0   0   0   0   0   0   0   0   0   0   0   0   0   0\n",
      "   0   0   0   0   0   0   0   0   0   0   0   0   0   0   0   0   0   0\n",
      "   0   0   0   0   0   0   0   0   0   0   0   0   0   0   0   0   0   0\n",
      "   0   0   0   0   0   0   0   0   0   0   0   0   0   0   0   0   0   0\n",
      "   0   0   0   0   0   0   0   0   0   0   0   0   0   0   0   0   0   0\n",
      "   0   0   0   0   0   0   0   0   0   0   0   0   0   0   0   0   0   0\n",
      "   0   0   0   0   0   0   0   0   0   0   0   0   0   0   0   0   0   0\n",
      "   0   0   0   0   0   0   0   0   0   0   0   0   0   0   0   0   0   0\n",
      "   0   0   0   0   0   0   0   0   0   0   0   0   0   0   0   0   0   0\n",
      "   0   0   0   0   0   0   0   0   0   0   0   0   0   0   0   0   0   0\n",
      "   0   0   0   0   0   0   0   0   0   0   0   0   0   0   0   0   0   0\n",
      "   0   0   0   0   0   0   0   0   0   0   0   0   0   0   0   0   0   0\n",
      "   0   0   0   0   0   0   0   0   0   0   0   0   0   0   0   0   0   0\n",
      "   0   0   0   0   0   0   0   0   0   0   0   0   0   0   0   0   0   0\n",
      "   0   0   0   0   0   0   0   0   0   0   0   0   0   0   0   0   0   0\n",
      "   0   0   0   0   0   0   0   0   0   0   0   0   0   0   0   0   0   0\n",
      "   0   0   0   0   0   0   0   0   0   0   0   0   0   0   0   0   0   0\n",
      "   0   0   0   0   0   0   0   0   0   0   0   0   0   0   0   0   0   0\n",
      "   0   0   0   0   0   0   0   0   0   0   0   0   0   0   0   0   0   0\n",
      "   0   0   0   0   0   0   0   0   0   0   0   0   0   0   0   0   0   0\n",
      "   0   0   0   0   0   0   0   0   0   0   0   0   0   0   0   0   0   0\n",
      "   0   0   0   0   0   0   0   0   0   0   0   0   0   0   0   0   0   0\n",
      "   0   0   0   0   0   0   0   0   0   0   0   0   0   0   0   0   0   0\n",
      "   0   0   0   0   0   0   0   0   0   0   0   0   0   0   0   0   0   0\n",
      "   0   0   0   0   0   0   0   0   0   0   0   0   0   0   0   0   0   0\n",
      "   0   0   0   0   0   0   0   0   0   0   0   0   0   0   0   0   0   0\n",
      "   0   0   0   0   0   0   0   0   0   0   0   0   0   0   0   0   0   0\n",
      "   0   0   0   0   0   0   0   0   0   0   0   0   0   0   0   0   0   0\n",
      "   0   0   0   0   0   0   0   0   0   0   0   0   0   0   0   0   0   0\n",
      "   0   0   0   0   0   0   0   0   0   0   0   0   0   0   0   0   0   0\n",
      "   0   0   0   0   0   0   0   0   0   0   0   0   0   0   0   0   0   0\n",
      "   0   0   0   0   0   0   0   0   0   0   0   0   0   0   0   0   0   0\n",
      "   0   0   0   0   0   0   0   0   0   0   0   0   0   0   0   0   0   0\n",
      "   0   0   0   0   0   0   0   0   0   0   0   0   0   0   0   0   0   0\n",
      "   0   0   0   0   0   0   0   0   0   0   0   0   0   0   0   0   0   0\n",
      "   0   0   0   0   0   0   0   0   0   0]\n"
     ]
    },
    {
     "name": "stderr",
     "output_type": "stream",
     "text": [
      "/dados01/workspace/ufmg.f01dcc/py37/lib/python3.7/site-packages/ipykernel_launcher.py:1: VisibleDeprecationWarning: Creating an ndarray from ragged nested sequences (which is a list-or-tuple of lists-or-tuples-or ndarrays with different lengths or shapes) is deprecated. If you meant to do this, you must specify 'dtype=object' when creating the ndarray.\n",
      "  \"\"\"Entry point for launching an IPython kernel.\n"
     ]
    },
    {
     "data": {
      "text/plain": [
       "four_pages_processed    [[2, 3, 4, 315, 444, 8, 2, 3, 9, 10, 11, 2, 9,...\n",
       "Name: 100, dtype: object"
      ]
     },
     "execution_count": 33,
     "metadata": {},
     "output_type": "execute_result"
    }
   ],
   "source": [
    "df_data.loc[100,['four_pages_processed']].apply(lambda x: np.array(encode_sentence(x,vocab2index )))"
   ]
  },
  {
   "cell_type": "code",
   "execution_count": 43,
   "metadata": {},
   "outputs": [
    {
     "data": {
      "text/html": [
       "<div>\n",
       "<style scoped>\n",
       "    .dataframe tbody tr th:only-of-type {\n",
       "        vertical-align: middle;\n",
       "    }\n",
       "\n",
       "    .dataframe tbody tr th {\n",
       "        vertical-align: top;\n",
       "    }\n",
       "\n",
       "    .dataframe thead th {\n",
       "        text-align: right;\n",
       "    }\n",
       "</style>\n",
       "<table border=\"1\" class=\"dataframe\">\n",
       "  <thead>\n",
       "    <tr style=\"text-align: right;\">\n",
       "      <th></th>\n",
       "      <th>doc_id</th>\n",
       "      <th>final_meta-class</th>\n",
       "      <th>label</th>\n",
       "      <th>label_int</th>\n",
       "      <th>city</th>\n",
       "      <th>file_dir</th>\n",
       "      <th>one_page</th>\n",
       "      <th>two_pages</th>\n",
       "      <th>three_pages</th>\n",
       "      <th>four_pages</th>\n",
       "      <th>fold</th>\n",
       "      <th>four_pages_processed</th>\n",
       "      <th>four_pages_encoded</th>\n",
       "    </tr>\n",
       "  </thead>\n",
       "  <tbody>\n",
       "    <tr>\n",
       "      <th>365</th>\n",
       "      <td>6aa821e1e916cac34caf106284ff38b8</td>\n",
       "      <td>ATA</td>\n",
       "      <td>ata registro precos</td>\n",
       "      <td>3</td>\n",
       "      <td>coqueiral</td>\n",
       "      <td>../data/289-licitacoes-coqueiral/data/files_js...</td>\n",
       "      <td>ata registro precos processo administrativo l...</td>\n",
       "      <td>ata registro precos processo administrativo l...</td>\n",
       "      <td>ata registro precos processo administrativo l...</td>\n",
       "      <td>ata registro precos processo administrativo l...</td>\n",
       "      <td>val</td>\n",
       "      <td>ata registro precos processo administrativo li...</td>\n",
       "      <td>[[5, 724, 140, 449, 520, 465, 1501, 505, 1586,...</td>\n",
       "    </tr>\n",
       "    <tr>\n",
       "      <th>3605</th>\n",
       "      <td>e58afaaca85d24ec10e23325b331fa80</td>\n",
       "      <td>OUTROS</td>\n",
       "      <td>outros</td>\n",
       "      <td>12</td>\n",
       "      <td>sao_bento_abade</td>\n",
       "      <td>../data/381-licitacoes-sao-bento-abade/data/fi...</td>\n",
       "      <td>cnpj fone email pregao presencial anexo termo...</td>\n",
       "      <td>cnpj fone email pregao presencial anexo termo...</td>\n",
       "      <td>cnpj fone email pregao presencial anexo termo...</td>\n",
       "      <td>cnpj fone email pregao presencial anexo termo...</td>\n",
       "      <td>test</td>\n",
       "      <td>cnpj fone email pregao presencial anexo termo ...</td>\n",
       "      <td>[[45, 1581, 1584, 505, 1586, 32, 165, 1350, 46...</td>\n",
       "    </tr>\n",
       "    <tr>\n",
       "      <th>3975</th>\n",
       "      <td>4ee123087d9273f8965d5c6948eb21c7</td>\n",
       "      <td>OUTROS</td>\n",
       "      <td>contrato</td>\n",
       "      <td>14</td>\n",
       "      <td>coqueiral</td>\n",
       "      <td>../data/289-licitacoes-coqueiral/data/files_js...</td>\n",
       "      <td>contrato administrativo processo administrati...</td>\n",
       "      <td>contrato administrativo processo administrati...</td>\n",
       "      <td>contrato administrativo processo administrati...</td>\n",
       "      <td>contrato administrativo processo administrati...</td>\n",
       "      <td>val</td>\n",
       "      <td>contrato administrativo processo administrativ...</td>\n",
       "      <td>[[132, 520, 449, 520, 465, 1501, 505, 1586, 38...</td>\n",
       "    </tr>\n",
       "  </tbody>\n",
       "</table>\n",
       "</div>"
      ],
      "text/plain": [
       "                                doc_id final_meta-class                label  \\\n",
       "365   6aa821e1e916cac34caf106284ff38b8              ATA  ata registro precos   \n",
       "3605  e58afaaca85d24ec10e23325b331fa80           OUTROS               outros   \n",
       "3975  4ee123087d9273f8965d5c6948eb21c7           OUTROS             contrato   \n",
       "\n",
       "      label_int             city  \\\n",
       "365           3        coqueiral   \n",
       "3605         12  sao_bento_abade   \n",
       "3975         14        coqueiral   \n",
       "\n",
       "                                               file_dir  \\\n",
       "365   ../data/289-licitacoes-coqueiral/data/files_js...   \n",
       "3605  ../data/381-licitacoes-sao-bento-abade/data/fi...   \n",
       "3975  ../data/289-licitacoes-coqueiral/data/files_js...   \n",
       "\n",
       "                                               one_page  \\\n",
       "365    ata registro precos processo administrativo l...   \n",
       "3605   cnpj fone email pregao presencial anexo termo...   \n",
       "3975   contrato administrativo processo administrati...   \n",
       "\n",
       "                                              two_pages  \\\n",
       "365    ata registro precos processo administrativo l...   \n",
       "3605   cnpj fone email pregao presencial anexo termo...   \n",
       "3975   contrato administrativo processo administrati...   \n",
       "\n",
       "                                            three_pages  \\\n",
       "365    ata registro precos processo administrativo l...   \n",
       "3605   cnpj fone email pregao presencial anexo termo...   \n",
       "3975   contrato administrativo processo administrati...   \n",
       "\n",
       "                                             four_pages  fold  \\\n",
       "365    ata registro precos processo administrativo l...   val   \n",
       "3605   cnpj fone email pregao presencial anexo termo...  test   \n",
       "3975   contrato administrativo processo administrati...   val   \n",
       "\n",
       "                                   four_pages_processed  \\\n",
       "365   ata registro precos processo administrativo li...   \n",
       "3605  cnpj fone email pregao presencial anexo termo ...   \n",
       "3975  contrato administrativo processo administrativ...   \n",
       "\n",
       "                                     four_pages_encoded  \n",
       "365   [[5, 724, 140, 449, 520, 465, 1501, 505, 1586,...  \n",
       "3605  [[45, 1581, 1584, 505, 1586, 32, 165, 1350, 46...  \n",
       "3975  [[132, 520, 449, 520, 465, 1501, 505, 1586, 38...  "
      ]
     },
     "execution_count": 43,
     "metadata": {},
     "output_type": "execute_result"
    }
   ],
   "source": [
    "df_data.loc[df_data['four_pages'].str.contains(\"zoom\")]"
   ]
  }
 ],
 "metadata": {
  "kernelspec": {
   "display_name": "Python 3",
   "language": "python",
   "name": "python3"
  },
  "language_info": {
   "codemirror_mode": {
    "name": "ipython",
    "version": 3
   },
   "file_extension": ".py",
   "mimetype": "text/x-python",
   "name": "python",
   "nbconvert_exporter": "python",
   "pygments_lexer": "ipython3",
   "version": "3.7.6"
  }
 },
 "nbformat": 4,
 "nbformat_minor": 4
}
