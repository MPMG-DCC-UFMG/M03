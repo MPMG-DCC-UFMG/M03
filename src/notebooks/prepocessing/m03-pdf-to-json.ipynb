{
 "cells": [
  {
   "cell_type": "markdown",
   "metadata": {},
   "source": [
    "# Importa dependências"
   ]
  },
  {
   "cell_type": "code",
   "execution_count": 2,
   "metadata": {},
   "outputs": [],
   "source": [
    "import pdfplumber as pdfpb\n",
    "import json\n",
    "import os\n",
    "import re\n",
    "import os.path as osp\n",
    "import glob\n",
    "from os.path import abspath, dirname"
   ]
  },
  {
   "cell_type": "markdown",
   "metadata": {},
   "source": [
    "# Funções necessárias para detectar documentos escaneados"
   ]
  },
  {
   "cell_type": "code",
   "execution_count": 3,
   "metadata": {},
   "outputs": [],
   "source": [
    "def get_features(doc):\n",
    "    metadata = doc[\"metadata\"]\n",
    "    has_author = int(\"Author\" in metadata)\n",
    "    word_creator = \"Creator\" in metadata and \"word\" in metadata[\"Creator\"].lower()\n",
    "    anycad_creator = \"Creator\" in metadata and \"cad\" in metadata[\"Creator\"].lower()\n",
    "    naps2_creator = \"Creator\" in metadata and \"naps2\" in metadata[\"Creator\"].lower()\n",
    "    ilovepdf = \"Producer\" in metadata and \"ilovepdf\" in metadata[\"Producer\"].lower()\n",
    "    return {\n",
    "        \"has_autor\": has_author,\n",
    "        \"word\": word_creator,\n",
    "        \"cad\": anycad_creator,\n",
    "        \"naps2\": naps2_creator,\n",
    "        \"ilovepdf\": ilovepdf\n",
    "    }\n",
    "\n",
    "def count_cid(doc):\n",
    "    n = 0\n",
    "    for page in doc['text_content']:\n",
    "        m = re.search(\"(\\(cid:\\d+\\))\", page)\n",
    "        if m:\n",
    "            return len(m.groups())\n",
    "    return 0\n",
    "\n",
    "def is_scanned(doc):\n",
    "    features = get_features(doc)\n",
    "    \n",
    "    return (not features[\"word\"] and features[\"cad\"]) or \\\n",
    "           (not features[\"word\"] and features[\"naps2\"]) or \\\n",
    "           (len(doc['text_content']) and doc['text_content'][0] == None and features[\"ilovepdf\"])"
   ]
  },
  {
   "cell_type": "code",
   "execution_count": 4,
   "metadata": {},
   "outputs": [],
   "source": [
    "def json_opath(fd_path):\n",
    "    return abspath(dirname(fd_path.rstrip(\"/\")) + \"/../files_json\").rstrip(\"/\") + \"/\"\n",
    "\n",
    "def list_FD(fd):\n",
    "    fd = fd.rstrip(\"/\")\n",
    "    file_descriptor = [json.loads(line) for line in open(fd).readlines()]\n",
    "    files = [item[\"file_name\"] for item in file_descriptor if item[\"type\"] in [\"application/pdf\", \"pdf\", \"pdf;\"]]\n",
    "    return [f\"{dirname(fd)}/{f}\".rstrip(\";\") for f in files]\n",
    "\n",
    "def list_pdf(directory):\n",
    "    directory = directory.rstrip(\"/\")\n",
    "    file_d = glob.glob(f\"{directory}/data/files/file_description.jsonl\")\n",
    "    if len(file_d):\n",
    "        return [{\"docs\": list_FD(file_d[0]), \"output\": json_opath(file_d[0])}]\n",
    "             \n",
    "    multi_file_d = glob.glob(f\"{directory}/*/data/files/file_description.jsonl\")\n",
    "    if len(multi_file_d) == 0:\n",
    "        raise Error(\"No file descriptor\")\n",
    "             \n",
    "    file_descriptors = []\n",
    "    for file_d in multi_file_d:\n",
    "        file_descriptors.append({\"docs\": list_FD(file_d), \"output\": json_opath(file_d)})\n",
    "    return file_descriptors\n",
    "        \n",
    "def get_name(directory):\n",
    "    return re.search(\"licitacoes-(.*)/\", directory)[1].replace(\"-\", \"_\")"
   ]
  },
  {
   "cell_type": "code",
   "execution_count": 5,
   "metadata": {},
   "outputs": [],
   "source": [
    "cities_dir = glob.glob(\"../data/*licitacoes*/\")\n",
    "\n",
    "cities_docs = {}\n",
    "\n",
    "for city_dir in cities_dir:\n",
    "    city = get_name(city_dir)\n",
    "    if city == \"bh\":\n",
    "        continue\n",
    "    cities_docs[city] = list_pdf(city_dir)"
   ]
  },
  {
   "cell_type": "markdown",
   "metadata": {},
   "source": [
    "# Converte Formatos: PDF → JSON"
   ]
  },
  {
   "cell_type": "code",
   "execution_count": 10,
   "metadata": {},
   "outputs": [],
   "source": [
    "def exception_wrap(*, callback, default):\n",
    "    if not callable(callback):\n",
    "        raise Error(\"@func must be a callable.\")\n",
    "    try:\n",
    "        return callback()\n",
    "    except:\n",
    "        return default\n",
    "    \n",
    "def convert(*, filename):\n",
    "    result = {\n",
    "        \"file_id\": filename.rsplit(\"/\")[-1].rsplit(\".\")[0], # foo/bar/baz.any -> baz.any -> baz\n",
    "        \"original_name\": filename.rsplit(\"/\")[-1], \n",
    "        \"n_pages\": -1, \n",
    "        \"metadata\": {},\n",
    "        \"text_content\": \"\", \n",
    "        \"table_content\": [], \n",
    "        \"status\": \"FAILED\"\n",
    "    }\n",
    "    try:\n",
    "        with pdfpb.open(filename) as f:\n",
    "            extract_text_func = lambda pages: [page.dedupe_chars().extract_text() for page in pages]\n",
    "            extract_table_func = lambda pages: [page.extract_table() for page in pages]\n",
    "        \n",
    "            result[\"n_pages\"] = len(f.pages)\n",
    "            \n",
    "            result[\"metadata\"] = exception_wrap(callback=lambda:f.metadata, default={})\n",
    "            \n",
    "            result[\"text_content\"] = exception_wrap(callback=lambda:extract_text_func(f.pages), default=[])\n",
    "            result[\"text_content\"] = [text for text in result[\"text_content\"] if text]\n",
    "            \n",
    "            result[\"table_content\"] = exception_wrap(callback=lambda:extract_table_func(f.pages), default=[])            \n",
    "            result[\"table_content\"] = [table for table in result[\"table_content\"] if table]\n",
    "\n",
    "            if bool(result[\"text_content\"] or result[\"table_content\"]): # empty list is cast to false\n",
    "                if not is_scanned(result):\n",
    "                    result[\"status\"] = \"SUCCESS\"\n",
    "                else:\n",
    "                    print(result[\"file_id\"], result[\"metadata\"])\n",
    "    except:\n",
    "        pass\n",
    "\n",
    "    return result"
   ]
  },
  {
   "cell_type": "code",
   "execution_count": 13,
   "metadata": {
    "scrolled": true
   },
   "outputs": [
    {
     "name": "stdout",
     "output_type": "stream",
     "text": [
      "cristais\n",
      "*** COMISSÃO PERMANENTE DE LICITAÇÕES\n",
      "A T A  D A  D I S P E N S A\n",
      "No dia 1 de fevereiro de 2018, reuniu-se a Comissão Permanente de Licitação, o seu Presidente: Pablo José da Silva e\n",
      "membros da comissão de licitação: Leonardo Luiz Oliveira e Edinamara Ribeiro Silva,nomeados pela Portaria  001/2018 de\n",
      "01 de Janeiro de 2018. Após procedida avaliação para dispensa de licitação para CONTRATAÇÃO DE PROCEDIMENTO\n",
      "CIRÚRGICO DE URETEROLITOTRIPSIA FLEXÍVEL A LASER PARA A PACIENTE TATIANA DOS SANTOS., entre\n",
      "a Prefeitura Municipal de Cristais e a WGA MEDICINA DO TRABALHO LTDA\n",
      "Aberta a etapa de julgamento, chegou-se então ao seguinte resultado:\n",
      "WGA MEDICINA DO TRABALHO LTDA\n",
      "CNPJ/CPF: 01.026.623/0001-04\n",
      "ENDEREÇO: CONEGO ULISSES, 37 - SALA 02               , 37 - CENTRO - CAMPO BELO - MG - 37275-000\n",
      "Seq. Item Descrição Marca UN Qtd. Valor Unitário Valor Total\n",
      "1 2556 PROCEDIMENTO CIRÚRGICO DE SV 1 7800,0000 7800,00\n",
      "URETEROLITOTRIPSIA FLEXÍVEL A\n",
      "LASER -\n",
      "Sub Total 7800,00\n",
      "Total Geral 7800,00\n",
      "Ato contínuo procedeu-se a abertura dos envelopes contendo a documentação de habilitação das licitantes que ofertaram o\n",
      "menor preço, a qual após a apreciação dos documentos, mostrou-se em conformidade com o solicitado. Após o término da\n",
      "análise dos documentos, o Presidente resolveu declarar o objeto do certame à empresa vencedora, conforme segue abaixo:\n",
      " WGA MEDICINA DO TRABALHO LTDA, CNPJ/CPF 01.026.623/0001-04, situada na CONEGO ULISSES, 37 -\n",
      "SALA 02, 37 - CENTRO - MG  com o valor total de R$ 7.800,00 (Sete Mil Oitocentos Reais)\n",
      "Não caberá  contrato para esta compra conforme Art. 62. § 4°\n",
      " Art. 62. O instrumento de contrato é obrigatório nos casos de concorrência e de tomada de preços, bem\n",
      "como nas dispensas e inexigibilidades  cujos  preços estejam compreendidos  nos limites destas duas  modalidades  de\n",
      "licitação, e facultativo nos demais em que a Administração puder substituí-lo por outros instrumentos hábeis, tais como\n",
      "carta-contrato, nota de empenho de despesa, autorização de compra ou ordem de execução de serviço.\n",
      " § 4°  É dispensável o \"termo de contrato\" e facultada a substituição prevista neste artigo, a critério da\n",
      "Administração  e  independentemente  de  seu  valor,  nos  casos  de  compra  com  entrega  imediata  e  integral  dos  bens\n",
      "adquiridos, dos quais não resultem obrigações futuras, inclusive assistência técnica.\n",
      "O valor global foi de R$ 7.800,00 (Sete Mil Oitocentos Reais), e o presidente da comissão recomenda o Sr. Prefeito\n",
      "Municipal a ratificação do item acima mencionados. Prefeitura Municipal de Cristais, 00:00 horas do dia 01 de fevereiro de\n",
      "2018 ..XXXXXXXXXXXXXXXXXXXXXX.\n",
      "{'file_id': '56a09c5d1d04cc95ada4d68ad22dcbd9', 'original_name': '56a09c5d1d04cc95ada4d68ad22dcbd9.pdf', 'n_pages': 2, 'metadata': {'CreationDate': 'D:20180501182608Z', 'Creator': 'MaqSupply Processos', 'Producer': 'Solid PDF Creator  (9.1.3048.1)'}, 'text_content': ['COMISSÃO PERMANENTE DE LICITAÇÕES\\nA T A  D A  D I S P E N S A\\nNo dia 1 de fevereiro de 2018, reuniu-se a Comissão Permanente de Licitação, o seu Presidente: Pablo José da Silva e\\nmembros da comissão de licitação: Leonardo Luiz Oliveira e Edinamara Ribeiro Silva,nomeados pela Portaria  001/2018 de\\n01 de Janeiro de 2018. Após procedida avaliação para dispensa de licitação para CONTRATAÇÃO DE PROCEDIMENTO\\nCIRÚRGICO DE URETEROLITOTRIPSIA FLEXÍVEL A LASER PARA A PACIENTE TATIANA DOS SANTOS., entre\\na Prefeitura Municipal de Cristais e a WGA MEDICINA DO TRABALHO LTDA\\nAberta a etapa de julgamento, chegou-se então ao seguinte resultado:\\nWGA MEDICINA DO TRABALHO LTDA\\nCNPJ/CPF: 01.026.623/0001-04\\nENDEREÇO: CONEGO ULISSES, 37 - SALA 02               , 37 - CENTRO - CAMPO BELO - MG - 37275-000\\nSeq. Item Descrição Marca UN Qtd. Valor Unitário Valor Total\\n1 2556 PROCEDIMENTO CIRÚRGICO DE SV 1 7800,0000 7800,00\\nURETEROLITOTRIPSIA FLEXÍVEL A\\nLASER -\\nSub Total 7800,00\\nTotal Geral 7800,00\\nAto contínuo procedeu-se a abertura dos envelopes contendo a documentação de habilitação das licitantes que ofertaram o\\nmenor preço, a qual após a apreciação dos documentos, mostrou-se em conformidade com o solicitado. Após o término da\\nanálise dos documentos, o Presidente resolveu declarar o objeto do certame à empresa vencedora, conforme segue abaixo:\\n WGA MEDICINA DO TRABALHO LTDA, CNPJ/CPF 01.026.623/0001-04, situada na CONEGO ULISSES, 37 -\\nSALA 02, 37 - CENTRO - MG  com o valor total de R$ 7.800,00 (Sete Mil Oitocentos Reais)\\nNão caberá  contrato para esta compra conforme Art. 62. § 4°\\n Art. 62. O instrumento de contrato é obrigatório nos casos de concorrência e de tomada de preços, bem\\ncomo nas dispensas e inexigibilidades  cujos  preços estejam compreendidos  nos limites destas duas  modalidades  de\\nlicitação, e facultativo nos demais em que a Administração puder substituí-lo por outros instrumentos hábeis, tais como\\ncarta-contrato, nota de empenho de despesa, autorização de compra ou ordem de execução de serviço.\\n § 4°  É dispensável o \"termo de contrato\" e facultada a substituição prevista neste artigo, a critério da\\nAdministração  e  independentemente  de  seu  valor,  nos  casos  de  compra  com  entrega  imediata  e  integral  dos  bens\\nadquiridos, dos quais não resultem obrigações futuras, inclusive assistência técnica.\\nO valor global foi de R$ 7.800,00 (Sete Mil Oitocentos Reais), e o presidente da comissão recomenda o Sr. Prefeito\\nMunicipal a ratificação do item acima mencionados. Prefeitura Municipal de Cristais, 00:00 horas do dia 01 de fevereiro de\\n2018 ..XXXXXXXXXXXXXXXXXXXXXX.', 'PABLO JOSÉ DA SILVA\\nPresidente da CPL\\nMATTHEUS HENRIQUE ROGANA\\nMembros da CPL\\nEDINAMARA RIBEIRO SILVA\\nMembros da CPL'], 'table_content': [[['WGA MEDICINA DO TRABALHO LTDA\\nCNPJ/CPF: 01.026.623/0001-04\\nENDEREÇO: CONEGO ULISSES, 37 - SALA 02               , 37 - CENTRO - CAMPO BELO - MG - 37275-000', None, None, ''], ['Seq. Item Descrição Marca UN Qtd. Valor Unitário Valor', None, None, 'Total'], ['1 2556 PROCEDIMENTO CIRÚRGICO DE SV 1 7800,0000 7800,0\\nURETEROLITOTRIPSIA FLEXÍVEL A\\nLASER -\\nSub Total 7800,00', None, None, '0'], ['Total Geral', '7800,00', '', '']]], 'status': 'SUCCESS'}\n",
      "    56a09c5d1d04cc95ada4d68ad22dcbd9\n"
     ]
    }
   ],
   "source": [
    "for city, documents_dirs in cities_docs.items():\n",
    "    print(city)\n",
    "    for document_dir in documents_dirs:\n",
    "        base_path = document_dir[\"output\"]\n",
    "    \n",
    "        if not os.path.isdir(base_path):\n",
    "            os.mkdir(base_path) \n",
    "\n",
    "        for doc in document_dir[\"docs\"]:\n",
    "            doc_json = convert(filename=doc)\n",
    "            file_id = doc_json[\"file_id\"]\n",
    "            print(f\"    {file_id}\")\n",
    "            with open(f\"{base_path}{file_id}.json\", \"wt\", encoding=\"utf-8\") as f:\n",
    "                json.dump(doc_json, f)"
   ]
  },
  {
   "cell_type": "code",
   "execution_count": null,
   "metadata": {},
   "outputs": [],
   "source": [
    "# cities_docs = {'cristais': [{'docs': ['../data/290-licitacoes-cristais/data/files/56a09c5d1d04cc95ada4d68ad22dcbd9.pdf',]}]}\n",
    "# cities_docs"
   ]
  },
  {
   "cell_type": "markdown",
   "metadata": {},
   "source": [
    "# Exemplo de uso"
   ]
  },
  {
   "cell_type": "code",
   "execution_count": null,
   "metadata": {},
   "outputs": [],
   "source": [
    "cities"
   ]
  },
  {
   "cell_type": "code",
   "execution_count": null,
   "metadata": {},
   "outputs": [],
   "source": [
    "for city, documents_dirs in cities_docs.items():\n",
    "    for document_dir in documents_dirs:\n",
    "        base_path = document_dir[\"output\"]\n",
    "        docs = glob.glob(f\"{base_path}/*.json\")\n",
    "        for doc in docs:\n",
    "            with open(doc) as f:\n",
    "                doc_json = json.load(f)\n",
    "                print(f\"{doc_json['file_id']:>12s} {doc_json['status']}\")"
   ]
  },
  {
   "cell_type": "code",
   "execution_count": null,
   "metadata": {},
   "outputs": [],
   "source": []
  }
 ],
 "metadata": {
  "kernelspec": {
   "display_name": "Python 3",
   "language": "python",
   "name": "python3"
  },
  "language_info": {
   "codemirror_mode": {
    "name": "ipython",
    "version": 3
   },
   "file_extension": ".py",
   "mimetype": "text/x-python",
   "name": "python",
   "nbconvert_exporter": "python",
   "pygments_lexer": "ipython3",
   "version": "3.7.6"
  }
 },
 "nbformat": 4,
 "nbformat_minor": 4
}
