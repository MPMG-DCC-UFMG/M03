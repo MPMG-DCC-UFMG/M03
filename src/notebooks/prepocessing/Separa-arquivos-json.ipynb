{
 "cells": [
  {
   "cell_type": "code",
   "execution_count": 1,
   "metadata": {},
   "outputs": [],
   "source": [
    "import pdfplumber as pdfpb\n",
    "import json\n",
    "import os\n",
    "import re\n",
    "import os.path as osp\n",
    "import pathlib\n",
    "import tarfile\n",
    "import bz2\n",
    "from zipfile import ZipFile\n",
    "from pyunpack import Archive\n",
    "import pandas as pd"
   ]
  },
  {
   "cell_type": "code",
   "execution_count": null,
   "metadata": {},
   "outputs": [],
   "source": [
    "base_path = \"../data/\""
   ]
  },
  {
   "cell_type": "code",
   "execution_count": null,
   "metadata": {},
   "outputs": [],
   "source": [
    "anos = [2017,2018,2019,2020]\n",
    "anos_list = []\n",
    "for ano in anos:\n",
    "    filename = f'{base_path}351-licitacoes-itamarati/licitacoes_itamarati_{str(ano)}/data/files/file_description.jsonl'\n",
    "    df = pd.read_json(filename, lines=True)\n",
    "    df['ano'] = str(ano)\n",
    "    anos_list.append(df)\n",
    "df_description = pd.concat(anos_list)\n",
    "df_description.reset_index(inplace=True, drop=True)\n",
    "df_description"
   ]
  },
  {
   "cell_type": "code",
   "execution_count": null,
   "metadata": {},
   "outputs": [],
   "source": [
    "filename = f\"{base_path}documentos_json/itamarati.json\"\n",
    "with open(filename) as f:\n",
    "    lines = f.readlines() # lê o conteúdo (pode ser lido em um stream, se achar necessário)\n",
    "    print(\"document id                     \", \"  #\", \" status\")\n",
    "    for line in lines: # um doc por linha\n",
    "        document = json.loads(line) # alguns arquivos tem problemas, portanto, verifique o status.\n",
    "        ano = df_description.loc[df_description['file_name'] == \".\".join([document['file_id'], 'pdf']), 'ano'].values[0] # ano da licitação\n",
    "        out_dir = f'{base_path}351-licitacoes-itamarati/licitacoes_itamarati_{ano}/data/files_json/'\n",
    "        os.makedirs(out_dir, exist_ok=True)\n",
    "        filename = os.path.join(out_dir, \".\".join([document['file_id'], 'json']))\n",
    "        with open(filename, \"wt\", encoding=\"utf-8\") as f:\n",
    "            obj = json.dumps(document)\n",
    "            f.write(obj + \"\\n\") # Salva cada documento em uma linha"
   ]
  }
 ],
 "metadata": {
  "kernelspec": {
   "display_name": "Python 3",
   "language": "python",
   "name": "python3"
  },
  "language_info": {
   "codemirror_mode": {
    "name": "ipython",
    "version": 3
   },
   "file_extension": ".py",
   "mimetype": "text/x-python",
   "name": "python",
   "nbconvert_exporter": "python",
   "pygments_lexer": "ipython3",
   "version": "3.7.6"
  }
 },
 "nbformat": 4,
 "nbformat_minor": 4
}
