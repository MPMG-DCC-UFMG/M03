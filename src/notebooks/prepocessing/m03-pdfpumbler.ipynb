{
 "cells": [
  {
   "cell_type": "code",
   "execution_count": 1,
   "metadata": {},
   "outputs": [],
   "source": [
    "# Todas bibliotecas serão testadas utilizando o mesmo arquivo\n",
    "file_path_com_tabela = \"../data/290-licitacoes-cristais/data/files/94cbb7c0710eda204d32940b26503796.pdf\"\n",
    "# Sem tabela e sem extensão\n",
    "file_path_sem_tabela = \"../data/288_licitacoes-pirapetinga/data/files/caf3d38ce4042bfe4a0534a4d478fbf5\"\n",
    "# Documento escaneado\n",
    "file_path_escaneado = \"../data/306-licitacoes-arantina/data/files/751442f1e09057023a7d3acd1b055bfb.pdf\"\n",
    "\n",
    "file_path = file_path_sem_tabela"
   ]
  },
  {
   "cell_type": "markdown",
   "metadata": {},
   "source": [
    "# pdfplumber\n",
    "https://github.com/jsvine/pdfplumber\n",
    "\n",
    "- Permite a extração de informações por páginas\n",
    "- Boa documentação\n",
    "- Tem o método extract_tables() que permite extrair informações de tabelas. Mais informações para extrair tabelas de acordo com as configurações delas: https://github.com/jsvine/pdfplumber#extracting-tables "
   ]
  },
  {
   "cell_type": "code",
   "execution_count": 2,
   "metadata": {},
   "outputs": [],
   "source": [
    "import pdfplumber\n",
    "\n",
    "def extrai_texto(pdf, page_number = 0):\n",
    "    # Número de páginas\n",
    "    print(\"Número de páginas: \", len(pdf.pages))\n",
    "    # Seleciona página a ser avaliada\n",
    "    page = pdf.pages[page_number]\n",
    "    # Extrai o texto da página\n",
    "    return page.extract_text()\n",
    "\n",
    "def extrai_tabelas(pdf, page_number = 0):\n",
    "    tables = []\n",
    "    # Faz leitura da pagina\n",
    "    page = pdf.pages[page_number]\n",
    "    # Extracao de tabelas\n",
    "    for table in page.extract_tables():\n",
    "        tables.append(table)\n",
    "    return tables\n",
    "\n",
    "def print_table(tabelas):\n",
    "    for tabela in tabelas:\n",
    "        if type(tabelas[0][0]) == list:\n",
    "            print_table(tabela)\n",
    "        else:            \n",
    "            print(tabela)\n",
    "            print()\n",
    "    return 0"
   ]
  },
  {
   "cell_type": "markdown",
   "metadata": {},
   "source": [
    "# Documento com tabela"
   ]
  },
  {
   "cell_type": "code",
   "execution_count": 76,
   "metadata": {
    "scrolled": true
   },
   "outputs": [
    {
     "name": "stdout",
     "output_type": "stream",
     "text": [
      "Número de páginas:  10\n",
      "ATA DO PREGÃO PRESENCIAL Nº 00058/2017\n",
      "        Aos 27/09/2017 às 09:00horas, na sala de Licitações da Prefeitura Municipal de Cristais, situado na Praça Cel. Joaquim Luiz da Costa Maia,\n",
      "001, Centro, em Cristais/MG, realizou-se sessão pública para recebimento e abertura dos envelopes, contendo as propostas de preços e a\n",
      "documentação de habilitação, apresentados em razão do certame licitatório na modalidade de Pregão Presencial em referência, cujo objeto é:\n",
      "AQUISIÇÕES  FUTURAS  E  INCERTAS  DE  BRINQUEDOS  PEDAGÓGICOS  PARA ATENDER  ÀS  NECESSIDADES  DA  DIRETORIA\n",
      "MUNICIPAL DE EDUCAÇÃO DO MUNICÍPIO DE CRISTAIS Presentes o pregoeiro Mattheus Henrique Rogana, bem como a equipe de apoio:\n",
      "Equipe de Apoio\n",
      "EDINAMARA RIBEIRO SILVA, PABLO JOSE DA SILVA\n",
      ", que esta subscrevem designados pela Portaria nº 092/17 - 21/08/2017, para atendimento às disposições contidas no Decreto nº 031/2009 de\n",
      "10/06/2009. Presentes também, os representantes das empresas licitantes, conforme relação abaixo:\n",
      "LICITANTE(S) REPRESENTANTE(S)\n",
      "11.384.015/0001-17 CPF: 625.083.696-91\n",
      "ATLANTICA DIDÁTICA & PEDAGOGIA DISTRIBUIDORA LTDA - EPP WANDERLEY GONÇALVES FONSECA\n",
      "21.613.635/0001-34 CPF: 887.147.566-68\n",
      "CARLOS ROBERTO DA SILVA REIS - ME ALECXANDRO DE OLIVEIRA PORFÍRI\n",
      "02.328.587/0001-98 CPF: 742.632.429-04\n",
      "MARCELO PEREIRA DOS SANTOS - CPF 74263242904 - ME MARCELO PEREIRA DOS SANTOS\n",
      "13.319.237/0001-81 CPF: 904.553.806-78\n",
      "SHOP MINEIRO LTDA - ME DONIZETI GERALDO GODOI\n",
      "Dando início à sessão, o pregoeiro recebeu as declarações de cumprimento dos requisitos de habilitação, bem como os envelopes contendo as\n",
      "propostas de preços e a documentação de habilitação. Em seguida o pregoeiro abriu o envelope contendo a proposta de preço, cujo valor foi o\n",
      "seguinte:\n",
      "MARCELO PEREIRA DOS SANTOS - CPF 74263242904 - ME\n",
      "Item Descrição Marca UN Qtd. Valor Unitário Valor Total\n",
      "1 ÁBACO ABERTO ECOBRINK/ECO UN 10 19,6000 196,00\n",
      "BRINK\n",
      "2 ALINHAVO DE ANIMAIS UAI KIT 30 35,1000 1053,00\n",
      "BRINQUEDOS/U\n",
      "AI\n",
      "BRINQUEDOS\n",
      "3 ALINHAVO DE NÚMEROS CARLU KIT 30 27,6000 828,00\n",
      "4 ARAMADO ESPIRAL BRINK UN 15 100,0000 1500,00\n",
      "MOBIL/BRINK\n",
      "MOBIL\n",
      "5 ARAMADO ONDULAR BRINK UN 15 100,0000 1500,00\n",
      "MOBIL/BRINK\n",
      "MOBIL\n",
      "6 BANCO LÁPIS EXCLUSIVA/EX UN 7 266,8000 1867,60\n",
      "CLUSIVA\n",
      "7 BANDINHA RÍTMICA LIG LIG/LIG LIG KIT 3 555,0000 1665,00\n",
      "8 BAÚ MEIOS DE TRANSPORTE EDITORA KIT 4 595,0000 2380,00\n",
      "FUNDAMENTA\n",
      "L/EDITORA\n",
      "FUNDAMENTA\n",
      "L\n",
      "9 BAÚ PEDAGÓGICO  EDITORA UN 3 358,4000 1075,20\n",
      "FUNDAMENTA\n",
      "L/EDITORA\n",
      "FUNDAMENTA\n",
      "L\n",
      "10 BLOCOS LÓGICOS CARLU/CARLU UN 3 23,7000 71,10\n"
     ]
    }
   ],
   "source": [
    "# Abre arquivo pdf\n",
    "pdf = pdfplumber.open(file_path_com_tabela)\n",
    "# Extrai o texto da pagina indicada\n",
    "texto = extrai_texto(pdf, page_number=0)\n",
    "print(texto)"
   ]
  },
  {
   "cell_type": "code",
   "execution_count": 77,
   "metadata": {
    "collapsed": true
   },
   "outputs": [
    {
     "name": "stdout",
     "output_type": "stream",
     "text": [
      "['Equipe de Apoio']\n",
      "\n",
      "['EDINAMARA RIBEIRO SILVA, PABLO JOSE DA SILVA']\n",
      "\n",
      "['LICITANTE(S)', 'REPRESENTANTE(S)']\n",
      "\n",
      "['11.384.015/0001-17\\nATLANTICA DIDÁTICA & PEDAGOGIA DISTRIBUIDORA LTDA - EPP', 'CPF: 625.083.696-91\\nWANDERLEY GONÇALVES FONSECA']\n",
      "\n",
      "['21.613.635/0001-34\\nCARLOS ROBERTO DA SILVA REIS - ME', 'CPF: 887.147.566-68\\nALECXANDRO DE OLIVEIRA PORFÍRI']\n",
      "\n",
      "['02.328.587/0001-98\\nMARCELO PEREIRA DOS SANTOS - CPF 74263242904 - ME', 'CPF: 742.632.429-04\\nMARCELO PEREIRA DOS SANTOS']\n",
      "\n",
      "['13.319.237/0001-81\\nSHOP MINEIRO LTDA - ME', 'CPF: 904.553.806-78\\nDONIZETI GERALDO GODOI']\n",
      "\n",
      "['MARCELO PEREIRA DOS SANTOS - CPF 74263242904 - ME', None, None, None, None, None, None]\n",
      "\n",
      "['Item', 'Descrição', 'Marca', 'UN', 'Qtd.', 'Valor Unitário', 'Valor Total']\n",
      "\n",
      "['', None, None, None, None, None, None]\n",
      "\n",
      "['1', 'ÁBACO ABERTO', 'ECOBRINK/ECO\\nBRINK', 'UN', '10', '19,6000', '196,00']\n",
      "\n",
      "['2', 'ALINHAVO DE ANIMAIS', 'UAI\\nBRINQUEDOS/U\\nAI\\nBRINQUEDOS', 'KIT', '30', '35,1000', '1053,00']\n",
      "\n",
      "['3', 'ALINHAVO DE NÚMEROS', 'CARLU', 'KIT', '30', '27,6000', '828,00']\n",
      "\n",
      "['4', 'ARAMADO ESPIRAL', 'BRINK\\nMOBIL/BRINK\\nMOBIL', 'UN', '15', '100,0000', '1500,00']\n",
      "\n",
      "['5', 'ARAMADO ONDULAR', 'BRINK\\nMOBIL/BRINK\\nMOBIL', 'UN', '15', '100,0000', '1500,00']\n",
      "\n",
      "['6', 'BANCO LÁPIS', 'EXCLUSIVA/EX\\nCLUSIVA', 'UN', '7', '266,8000', '1867,60']\n",
      "\n",
      "['7', 'BANDINHA RÍTMICA', 'LIG LIG/LIG LIG', 'KIT', '3', '555,0000', '1665,00']\n",
      "\n",
      "['8', 'BAÚ MEIOS DE TRANSPORTE', 'EDITORA\\nFUNDAMENTA\\nL/EDITORA\\nFUNDAMENTA\\nL', 'KIT', '4', '595,0000', '2380,00']\n",
      "\n",
      "['9', 'BAÚ PEDAGÓGICO', 'EDITORA\\nFUNDAMENTA\\nL/EDITORA\\nFUNDAMENTA\\nL', 'UN', '3', '358,4000', '1075,20']\n",
      "\n",
      "['10', 'BLOCOS LÓGICOS', 'CARLU/CARLU', 'UN', '3', '23,7000', '71,10']\n",
      "\n"
     ]
    },
    {
     "data": {
      "text/plain": [
       "0"
      ]
     },
     "execution_count": 77,
     "metadata": {},
     "output_type": "execute_result"
    }
   ],
   "source": [
    "# Extracao de tabelas\n",
    "tabelas = extrai_tabelas(pdf, page_number = 0)\n",
    "print_table(tabelas)"
   ]
  },
  {
   "cell_type": "markdown",
   "metadata": {},
   "source": [
    "# Documento sem tabela"
   ]
  },
  {
   "cell_type": "code",
   "execution_count": 79,
   "metadata": {
    "scrolled": true
   },
   "outputs": [
    {
     "name": "stdout",
     "output_type": "stream",
     "text": [
      "Número de páginas:  3\n",
      "PREFEITURA MUNICIPAL DE PIRAPETINGA \n",
      "CEP.: 36.730-000 – ESTADO DE MINAS GERAIS \n",
      " \n",
      " \n",
      "7º  TERMO  ADITIVO  AO  CONTRATO  N.º  073/2018  DO  PROCESSO  LICITATÓRIO  Nº \n",
      "082/2018,  CELEBRADO  PELO  MUNICÍPIO  DE  PIRAPETINGA/MG  E  MAFEL \n",
      "CONSTRUTORA DE PADUA LTDA –ME, QUE TEM POR OBJETO CONTRATAÇÃO DE \n",
      "EMPRESA  ESPECIALIZADA  PARA  EXECUÇÃO  DE  MÃO DE OBRA. \n",
      " \n",
      "CONTRATANTE:  MUNICÍPIO  DE  PIRAPETINGA,  inscrito  no  CNPJ  18.092.825/0001-49, \n",
      "neste  ato  representado  pelo  Prefeito  Municipal  Sr.  Enoghalliton  de  Abreu  Arruda,  brasileiro, \n",
      "solteiro, residente e domiciliado no Município de Pirapetinga, doravante denominado simplesmente \n",
      "CONTRATANTE. \n",
      " \n",
      "EMPRESA CONTRATADA: MAFEL CONSTRUTORA DE PADUA LTDA –ME inscrito(a) no \n",
      "CNPJ/MF sob o nº 20.157.057/0001-06, sediado(a) na Rua Guilherme Tavares da Silva, 65, Bairro \n",
      "Tavares, em Santo Antônio de Pádua, Estado do Rio de Janeiro, neste ato representada pelo Sr. \n",
      "Felipe Chaves Rodrigues Silva, portador da carteira de identidade nº 21.425.764-4 DETRAN/RJ e \n",
      "CPF nº 113.098.427-36, doravante denominada CONTRATADA. \n",
      " \n",
      "Os CONTRATANTES têm entre si justo e avençado, e celebram o presente termo aditivo ao \n",
      "contrato n.º 073/2018, sujeitando-se as partes às normas disciplinares da Lei n.º 8.666, de 21 de \n",
      "junho de 1993, e às seguintes cláusulas: \n",
      "CLÁUSULA PRIMEIRA - DO OBJETO \n",
      "1.1  O presente termo aditivo tem como objeto a prorrogação da vigência do Contrato \n",
      "firmado entre as partes, que tem por objeto a Contratação de empresa especializada na execução \n",
      "de serviços de construção de muro em alvenaria e passeios externos no Cemitério da Garapa, na \n",
      "cidade  de  Pirapetinga/MG,  Convênio  nº  1491000787/2017/SEGOV/PADEM,  firmado  com  a \n",
      "Secretaria de Estado de Governo de Minas Gerais.  \n",
      " \n",
      "CLÁUSULA SEGUNDA - DA PRORROGAÇÃO \n",
      "2.1  Pelo presente termo aditivo, fica prorrogada a vigência do Contrato pelo período de \n",
      "90 dias, findando em 29/12/2020. \n",
      " \n",
      "CLÁUSULA TERCEIRA – DO VALOR DO TERMO ADITIVO \n",
      "3.1  O valor total do contrato não será alterado ou acrescido. \n",
      " \n",
      "CLÁUSULA QUARTA – DO FUNDAMENTO LEGAL \n",
      "4.1  O presente termo aditivo decorre de autorização do Prefeito Municipal, e encontra \n",
      "amparo legal no artigo 57 inciso II da Lei 8666/93. \n",
      " \n",
      "CLÁUSULA QUINTA – DA RATIFICAÇÃO DAS CLÁUSULAS \n",
      "5.1  Ficam ratificadas as demais cláusulas e condições estabelecidas no contrato inicial, \n",
      "firmado entre as partes. \n",
      " \n",
      " \n",
      "PRAÇA DIRCEU DE OLIVEIRA MARTINS, 01. \n",
      "Tel.: (32) 3465 – 3100 – FAX (32) 3465 – 3101 – CNPJ.: 18.092.825/0001-49 \n",
      "e-mail.: admpmp@pirapetinga.mg.gov.br \n"
     ]
    }
   ],
   "source": [
    "# Abre arquivo pdf\n",
    "pdf = pdfplumber.open(file_path_sem_tabela)\n",
    "# Extrai o texto da pagina indicada\n",
    "texto = extrai_texto(pdf, page_number=0)\n",
    "print(texto)"
   ]
  },
  {
   "cell_type": "code",
   "execution_count": 80,
   "metadata": {},
   "outputs": [
    {
     "data": {
      "text/plain": [
       "0"
      ]
     },
     "execution_count": 80,
     "metadata": {},
     "output_type": "execute_result"
    }
   ],
   "source": [
    "# Extracao de tabelas\n",
    "tabelas = extrai_tabelas(pdf, page_number = 0)\n",
    "print_table(tabelas)"
   ]
  },
  {
   "cell_type": "markdown",
   "metadata": {},
   "source": [
    "# Documento escaneado"
   ]
  },
  {
   "cell_type": "code",
   "execution_count": 81,
   "metadata": {
    "scrolled": true
   },
   "outputs": [
    {
     "name": "stdout",
     "output_type": "stream",
     "text": [
      "Número de páginas:  3\n",
      "None\n"
     ]
    }
   ],
   "source": [
    "# Abre arquivo pdf\n",
    "pdf = pdfplumber.open(file_path_escaneado)\n",
    "# Extrai o texto da pagina indicada\n",
    "texto = extrai_texto(pdf, page_number=0)\n",
    "print(texto)"
   ]
  },
  {
   "cell_type": "code",
   "execution_count": 82,
   "metadata": {},
   "outputs": [
    {
     "data": {
      "text/plain": [
       "0"
      ]
     },
     "execution_count": 82,
     "metadata": {},
     "output_type": "execute_result"
    }
   ],
   "source": [
    "# Extracao de tabelas\n",
    "tabelas = extrai_tabelas(pdf, page_number = 0)\n",
    "print_table(tabelas)"
   ]
  },
  {
   "cell_type": "markdown",
   "metadata": {},
   "source": [
    "# Documentos com caracteres duplicados"
   ]
  },
  {
   "cell_type": "code",
   "execution_count": 20,
   "metadata": {
    "collapsed": true
   },
   "outputs": [
    {
     "name": "stdout",
     "output_type": "stream",
     "text": [
      "==================== DUPLICADOS ==================== \n",
      "\n",
      "PPPRRREEEFFFEEEIIITTTUUURRRAAA   MMMUUUNNNIIICCCIIIPPPAAALLL   DDDEEE   CCCRRRIIISSSTTTAAAIIISSS\n",
      "PPPrrraaaçççaaa   CCCeeelll...   JJJoooaaaqqquuuiiimmm   LLLuuuiiizzz   dddaaa   CCCooossstttaaa   MMMaaaiiiaaa,,,   000111 ––– CCCeeennntttrrrooo\n",
      "PPPAAABBBXXX:::   (((333555)))   333888333555---222222000222   ///   222222000333   ///   222222000444   ///   222222000555\n",
      "CCCEEEPPP   333777...222777555---000000000 --- EEESSSTTTAAADDDOOO   DDDEEE   MMMIIINNNAAASSS   GGGEEERRRAAAIIISSS\n",
      "EEEDDDIIITTTAAALLL   DDDEEE   LLLIIICCCIIITTTAAAÇÇÇÃÃÃOOO\n",
      "CCCOOOMMMIIISSSSSSÃÃÃOOO   PPPEEERRRMMMAAANNNEEENNNTTTEEE   DDDEEE   LLLIIICCCIIITTTAAAÇÇÇÕÕÕEEESSS\n",
      "PPPRRROOOCCCEEESSSSSSOOO   LLLIIICCCIIITTTAAATTTÓÓÓRRRIIIOOO::: NNNººº   000555444///222000111888\n",
      "MMMOOODDDAAALLLIIIDDDAAADDDEEE::: CCCOOONNNCCCOOORRRRRREEENNNCCCIIIAAA   CCCOOOMMM   RRREEEGGGIIISSSTTTRRROOO   DDDEEE   PPPRRREEEÇÇÇOOOSSS   NNNººº   000000333///222000111888\n",
      "DDDAAATTTAAA   DDDOOO   EEEDDDIIITTTAAALLL:::   222000   dddeee   mmmaaarrrçççooo   dddeee   222000111888\n",
      "EEENNNTTTRRREEEGGGAAA   DDDOOOSSS   EEENNNVVVEEELLLOOOPPPEEESSS:::222555///000444///222000111888   àààsss   000999:::000000   hhhooorrraaasss\n",
      "ÓÓÓRRRGGGÃÃÃOOO   RRREEEQQQUUUIIISSSIIITTTAAANNNTTTEEE::: DDDIIIRRREEETTTOOORRRIIIAAASSS   MMMUUUNNNIIICCCIIIPPPAAAIIISSS\n",
      "AAA   PPPRRREEEFFFEEEIIITTTUUURRRAAA   MMMUUUNNNIIICCCIIIPPPAAALLL   DDDEEE   CCCRRRIIISSSTTTAAAIIISSS   (((MMMGGG))),,, cccooommm   eeennndddeeerrreeeçççooo   PPPÇÇÇAAA   JJJOOOAAAQQQUUUIIIMMM\n",
      "LLLUUUIIIZZZ DDDAAA CCCOOOSSSTTTAAA MMMAAAIIIAAA 111 /// CCCEEENNNTTTRRROOO /// CCCRRRIIISSSTTTAAAIIISSS---MMMGGG,,, CCCNNNPPPJJJ 111777...888888888...000888222///000000000111---555555 ,,,\n",
      "iiissseeennntttooo   dddeee   IIInnnssscccrrriiiçççãããooo   EEEssstttaaaddduuuaaalll,,, aaatttrrraaavvvééésss   dddaaa   CCCOOOMMMIIISSSSSSÃÃÃOOO   PPPEEERRRMMMAAANNNEEENNNTTTEEE   DDDEEE   LLLIIICCCIIITTTAAAÇÇÇÃÃÃOOO,,,\n",
      "dddeeesssiiigggnnnaaadddaaa   pppeeelllaaa   pppooorrrtttaaarrriiiaaa   nnn...ººº   000222111///222000111888,,,   tttooorrrnnnaaa   pppúúúbbbllliiicccooo   aaaooosss   iiinnnttteeerrreeessssssaaadddooosss   dddooo   rrraaammmooo\n",
      "pppeeerrrtttiiinnneeennnttteee aaa aaabbbeeerrrtttuuurrraaa dddooo PPPrrroooccceeessssssooo LLLiiiccciiitttaaatttóóórrriiiooo nnnººº 000555444///222000111888,,,nnnaaa mmmooodddaaallliiidddaaadddeee\n",
      "CCCOOONNNCCCOOORRRRRREEENNNCCCIIIAAA    CCCOOOMMM    RRREEEGGGIIISSSTTTRRROOO    DDDEEE    PPPRRREEEÇÇÇOOOSSS    nnn...ººº    000000333///222000111888,,, cccuuujjjooo    cccrrriiitttééérrriiiooo    dddeee\n",
      "aaaccceeeiiitttaaabbbiiillliiidddaaadddeee   ssseeerrrááá   ooo   dddeee   mmmaaaiiiooorrr   dddeeessscccooonnntttooo   sssooobbbrrreee   tttaaabbbeeelllaaa,,, sssooobbb   aaa   rrreeegggêêênnnccciiiaaa dddaaa llleeeiii\n",
      "888...666666666///999333,,, pppeeelllooo DDDeeecccrrreeetttooo 777888999222 dddeee 222333 dddeee JJJaaannneeeiiirrrooo dddeee 222000111333\n",
      "hhhttttttppp::://////llleeegggiiissslllaaacccaaaooo...ppplllaaannnaaallltttooo...gggooovvv...bbbrrr///llleeegggiiissslllaaa///llleeegggiiissslllaaacccaaaooo...nnnsssfff///VVViiiwww___IIIdddeeennntttiiifffiiicccaaacccaaaooo///DDDEEECCC%%%222000777...888999222---222000111333???OOOpppeeennnDDDooocccuuummmeeennnttt,,, dddeeemmmaaaiiisss\n",
      "aaalllttteeerrraaaçççõõõeeesss   eee   dddooo   eeessstttaaabbbeeellleeeccciiidddooo   nnneeesssttteee EEEdddiiitttaaalll...\n",
      "III DDDOOO   OOOBBBJJJEEETTTOOO\n",
      "–––\n",
      "CCCOOONNNTTTRRRAAATTTAAAÇÇÇÃÃÃOOO    FFFUUUTTTUUURRRAAA    EEE    IIINNNCCCEEERRRTTTAAA    DDDEEE    EEEMMMPPPRRREEESSSAAA    EEESSSPPPEEECCCIIIAAALLLIIIZZZAAADDDAAA    NNNAAA    ÁÁÁRRREEEAAA    DDDEEE\n",
      "–––\n",
      "CCCOOONNNSSSTTTRRRUUUÇÇÇÃÃÃOOO    CCCIIIVVVIIILLL,,,    PPPAAARRRAAA    RRREEEAAALLLIIIZZZAAARRR    RRREEEFFFOOORRRMMMAAASSS,,,    MMMAAANNNUUUTTTEEENNNÇÇÇÕÕÕEEESSS    EEE    AAAMMMPPPLLLIIIAAAÇÇÇÕÕÕEEESSS    EEEMMM\n",
      "EEEQQQUUUIIIPPPAAAMMMEEENNNTTTOOOSSS   PPPÚÚÚBBBLLLIIICCCOOOSSS,,,   CCCOOOMMM   OOO   FFFOOORRRNNNEEECCCIIIMMMEEENNNTTTOOO   DDDEEE   IIINNNSSSUUUMMMOOOSSS   EEE   CCCOOOMMMPPPOOOSSSIIIÇÇÇÕÕÕEEESSS   PPPRRREEEVVVIIISSSTTTOOOSSS\n",
      "EEE    DDDEEESSSCCCRRRIIITTTOOOSSS    NNNAAA    TTTAAABBBEEELLLAAA    SSSIIINNNAAAPPPIII    (((SSSIIISSSTTTEEEMMMAAA    NNNAAACCCIIIOOONNNAAALLL    DDDEEE    PPPEEESSSQQQUUUIIISSSAAA    DDDEEE    CCCUUUSSSTTTOOOSSS    EEE\n",
      "ÍÍÍNNNDDDIIICCCEEESSS   DDDAAA   CCCOOONNNSSSTTTRRRUUUÇÇÇÃÃÃOOO   CCCIIIVVVIIILLL,,,   DDDIIISSSPPPOOONNNÍÍÍVVVEEELLL   NNNOOO   SSSIIITTTEEE   DDDAAA   CCCAAAIIIXXXAAA   EEECCCOOONNNÔÔÔMMMIIICCCAAA   FFFEEEDDDEEERRRAAALLL)))\n",
      "EEE    SSSEEETTTOOOPPP    (((PPPLLLAAANNNIIILLLHHHAAA    RRREEEFFFEEERRREEENNNCCCIIIAAALLL    DDDEEE    PPPRRREEEÇÇÇOOOSSS    PPPAAARRRAAA    AAASSS    OOOBBBRRRAAASSS    DDDEEE    EEEDDDIIIFFFIIICCCAAAÇÇÇÃÃÃOOO    DDDOOO\n",
      "EEESSSTTTAAADDDOOO   DDDEEE   MMMIIINNNAAASSS   GGGEEERRRAAAIIISSS   DDDIIISSSPPPOOONNNÍÍÍVVVEEELLL   NNNOOO   SSSIIITTTEEE DDDAAA   SSSEEECCCRRREEETTTAAARRRIIIAAA   DDDEEE TTTRRRAAANNNSSSPPPOOORRRTTTEEESSS   EEE\n",
      "\n",
      "==================== DEDUPLICADOS ==================== \n",
      "\n",
      "PREFEITURA MUNICIPAL DE CRISTAIS\n",
      "Praça Cel. Joaquim Luiz da Costa Maia, 01 – Centro\n",
      "PABX: (35) 3835-2202 / 2203 / 2204 / 2205\n",
      "CEP 37.275-000 - ESTADO DE MINAS GERAIS\n",
      "EDITAL DE LICITAÇÃO\n",
      "COMISSÃO PERMANENTE DE LICITAÇÕES\n",
      "PROCESSO LICITATÓRIO: Nº 054/2018\n",
      "MODALIDADE: CONCORRENCIA COM REGISTRO DE PREÇOS Nº 003/2018\n",
      "DATA DO EDITAL: 20 de março de 2018\n",
      "ENTREGA DOS ENVELOPES:25/04/2018 às 09:00 horas\n",
      "ÓRGÃO REQUISITANTE: DIRETORIAS MUNICIPAIS\n",
      "A PREFEITURA MUNICIPAL DE CRISTAIS (MG), com endereço PÇA JOAQUIM\n",
      "LUIZ DA COSTA MAIA 1 / CENTRO / CRISTAIS-MG, CNPJ 17.888.082/0001-55 ,\n",
      "isento de Inscrição Estadual, através da COMISSÃO PERMANENTE DE LICITAÇÃO,\n",
      "designada pela portaria n.º 021/2018, torna público aos interessados do ramo\n",
      "pertinente a abertura do Processo Licitatório nº 054/2018,na modalidade\n",
      "CONCORRENCIA  COM  REGISTRO  DE  PREÇOS  n.º  003/2018, cujo  critério  de\n",
      "aceitabilidade será o de maior desconto sobre tabela, sob a regência da lei\n",
      "8.666/93, pelo Decreto 7892 de 23 de Janeiro de 2013\n",
      "http://legislacao.planalto.gov.br/legisla/legislacao.nsf/Viw_Identificacao/DEC%207.892-2013?OpenDocument, demais\n",
      "alterações e do estabelecido neste Edital.\n",
      "I DO OBJETO\n",
      "–\n",
      "CONTRATAÇÃO  FUTURA  E  INCERTA  DE  EMPRESA  ESPECIALIZADA  NA  ÁREA  DE\n",
      "–\n",
      "CONSTRUÇÃO  CIVIL,  PARA  REALIZAR  REFORMAS,  MANUTENÇÕES  E  AMPLIAÇÕES  EM\n",
      "EQUIPAMENTOS PÚBLICOS, COM O FORNECIMENTO DE INSUMOS E COMPOSIÇÕES PREVISTOS\n",
      "E  DESCRITOS  NA  TABELA  SINAPI  (SISTEMA  NACIONAL  DE  PESQUISA  DE  CUSTOS  E\n",
      "ÍNDICES DA CONSTRUÇÃO CIVIL, DISPONÍVEL NO SITE DA CAIXA ECONÔMICA FEDERAL)\n",
      "E  SETOP  (PLANILHA  REFERENCIAL  DE  PREÇOS  PARA  AS  OBRAS  DE  EDIFICAÇÃO  DO\n",
      "ESTADO DE MINAS GERAIS DISPONÍVEL NO SITE DA SECRETARIA DE TRANSPORTES E\n"
     ]
    }
   ],
   "source": [
    "file_path = '../data/290-licitacoes-cristais/data/files/252366653232cb3af23f7bce44bad875.pdf'\n",
    "pdf = pdfplumber.open(file_path)\n",
    "# Exemplo de documento com caracteres duplicados\n",
    "print(\"=\"*20,\"DUPLICADOS\", \"=\"*20, \"\\n\")\n",
    "print(pdf.pages[0].extract_text())\n",
    "print()\n",
    "print(\"=\"*20,\"DEDUPLICADOS\", \"=\"*20, \"\\n\")\n",
    "print(pdf.pages[0].dedupe_chars().extract_text())"
   ]
  },
  {
   "cell_type": "markdown",
   "metadata": {},
   "source": [
    "# Outros documentos"
   ]
  },
  {
   "cell_type": "code",
   "execution_count": 93,
   "metadata": {
    "scrolled": true
   },
   "outputs": [
    {
     "name": "stdout",
     "output_type": "stream",
     "text": [
      "Número de páginas:  11\n",
      "PREFEITURA MUNICIPAL DE SÃO BENTO ABADE - ESTADO DE MINAS GERAIS \n",
      "CNPJ-17.877.176/0001- 29 \n",
      " \n",
      "Fone: 0** 35 3236-1213 \n",
      "   \n",
      "Rua Odilon Gadbem dos Santos, nº 100 – Centro, São Bento Abade/MG \n",
      " \n",
      "  Email: licitacao@saobentoabade.mg.gov.br \n",
      "  \n",
      " \n",
      "COMÉRCIO LTDA, por intermédio de seu representante, solicitou a verificação e retificação do \n",
      "valor apresentado em proposta física do Item 4, onde constava  valor de R$228,00 por erro de \n",
      "digitação, onde após a retificação o preço real e inicial proposto passou a ser de R$28,00. Iniciou-\n",
      "se então a negociação entre as licitantes e o pregoeiro, havendo oportunidade de as licitantes \n",
      "reduzirem os valores ofertados na proposta escrita, conforme termo de lances em anexo.No \n",
      "momento que se encerrou a negociação, foi aberto o envelope de habilitação da empresa ofertante \n",
      "do menor preço. Os documentos apresentados foram conferidos, vistados e as CNDs devidamente \n",
      "autenticadas nos sites correspondentes e, após análise, constatou-se que a documentação estava \n",
      "em conformidade com as exigências do edital sendo habilitadas as seguintes empresas: Finalizada \n",
      "a etapa competitiva e habilitada a empresa ofertante do menor preço, o Pregoeiro declararou as \n",
      "empresa vencedoras, conforme classificação abaixo: \n",
      " \n",
      "BIOTÉCNICA INDÚSTRIA E COMÉRCIO LTDA - 02.534.069/0001-20, situada na AV. \n",
      "WASHINGTON RIBEIRO, 200 - INDUSTRIAL MICHEL DE LUCA - VARGINHA - MG com \n",
      "o valor total de R$ 12.168,60 (doze mil, cento e sessenta e oito reais e sessenta centavos),  \n",
      "Seq.  Item  Descrição  UN  Marca  Quantidade  Unitário  Total \n",
      "4  21198  ALT GPT Liquiform 30  UN  biotécnica  36,0000  16,5500  595,80 \n",
      "ml COM PIRIDOXAL \n",
      "FOSFATO Linearidade: \n",
      "400 U/L. \n",
      "5  21199  AST GOT Liquiform 30  UN  biotécnica  36,0000  16,5500  595,80 \n",
      "ml COM PIRIDOXAL \n",
      "FOSFATO Linearidade: \n",
      "400 U/L. \n",
      "10  22367  CREATININA 1 X  UN  biotécnica  36,0000  32,0000  1.152,00 \n",
      "250ML LINEARIDADE \n",
      "8MG/DL \n",
      "11  21258  FATOR REUMATOIDE  UN  biotécnica  10,0000  21,9000  219,00 \n",
      "2,5 ML 100 TESTES \n"
     ]
    }
   ],
   "source": [
    "# file_path = \"../data/290-licitacoes-cristais/data/files/1b94c4ce18ae7405718963b5034f2bec.pdf\" #tabela não funcionou muito bem\n",
    "# file_path = \"../data/288_licitacoes-pirapetinga/data/files/4af613f766160b5d2e21a196bbfb3253.pdf\" # primeira linha da tabela não é fechada superiormente, por isso não é identificada\n",
    "file_path = \"../data/381-licitacoes-sao-bento-abade/data/files/1cda8ed8fedeea8de001b15f1168cbc1.pdf\" \n",
    "page_number = 1\n",
    "# Abre arquivo pdf\n",
    "pdf = pdfplumber.open(file_path)\n",
    "texto = extrai_texto(pdf, page_number)\n",
    "print(texto)"
   ]
  },
  {
   "cell_type": "code",
   "execution_count": null,
   "metadata": {},
   "outputs": [],
   "source": []
  }
 ],
 "metadata": {
  "kernelspec": {
   "display_name": "Python 3",
   "language": "python",
   "name": "python3"
  },
  "language_info": {
   "codemirror_mode": {
    "name": "ipython",
    "version": 3
   },
   "file_extension": ".py",
   "mimetype": "text/x-python",
   "name": "python",
   "nbconvert_exporter": "python",
   "pygments_lexer": "ipython3",
   "version": "3.7.6"
  }
 },
 "nbformat": 4,
 "nbformat_minor": 4
}
