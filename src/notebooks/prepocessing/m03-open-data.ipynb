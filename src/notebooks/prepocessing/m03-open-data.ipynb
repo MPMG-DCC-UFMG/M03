{
 "cells": [
  {
   "cell_type": "code",
   "execution_count": 1,
   "metadata": {},
   "outputs": [],
   "source": [
    "from glob import glob\n",
    "import pandas as pd\n",
    "import numpy as np\n",
    "from collections import Counter\n",
    "from IPython.display import display, HTML\n",
    "import re"
   ]
  },
  {
   "cell_type": "code",
   "execution_count": 2,
   "metadata": {},
   "outputs": [],
   "source": [
    "# Base directories\n",
    "BASE_LICITACOES = \"../data/dados_abertos/\""
   ]
  },
  {
   "cell_type": "code",
   "execution_count": 29,
   "metadata": {},
   "outputs": [
    {
     "name": "stdout",
     "output_type": "stream",
     "text": [
      "100684 with any content that correspond to 76.15172257308173%\n"
     ]
    }
   ],
   "source": [
    "# Lists all *.csv files\n",
    "csv_files = glob(BASE_LICITACOES + \"/*/*/*.csv\", recursive=True)\n",
    "\n",
    "# Select document with at least one data, ie, more than one line\n",
    "csv_file_with_content = list()\n",
    "for csv_file in csv_files:\n",
    "    # if \"itemLicitacao\" not in csv_file:\n",
    "    #    continue\n",
    "        \n",
    "    with open(csv_file) as f:\n",
    "        lines = f.readlines()\n",
    "        if len(lines) > 1 and (\"seq_item_licitacao\" in lines[0] or \"seq_licitacao\" in lines[0] or \"seq_orgao\" in lines[0] or \"cod_item\" in lines[0]):\n",
    "            csv_file_with_content.append(csv_file)\n",
    "\n",
    "n = len(csv_file_with_content)\n",
    "total = len(csv_files)\n",
    "print(f\"{n} with any content that correspond to {100*n/total}%\")\n",
    "        "
   ]
  },
  {
   "cell_type": "code",
   "execution_count": 4,
   "metadata": {},
   "outputs": [
    {
     "data": {
      "text/plain": [
       "['../data/dados_abertos/licitacao_2020/3101409/2020.3101409.licitacao.cotacaoLicitacao.csv',\n",
       " '../data/dados_abertos/licitacao_2020/3101409/2020.3101409.licitacao.fornDispensa.csv',\n",
       " '../data/dados_abertos/licitacao_2020/3101409/2020.3101409.licitacao.itemLicitacao.csv',\n",
       " '../data/dados_abertos/licitacao_2020/3101409/2020.3101409.licitacao.dispensa.csv',\n",
       " '../data/dados_abertos/licitacao_2020/3101409/2020.3101409.licitacao.recLicitacao.csv',\n",
       " '../data/dados_abertos/licitacao_2020/3101409/2020.3101409.licitacao.regadesao.csv',\n",
       " '../data/dados_abertos/licitacao_2020/3101409/2020.3101409.licitacao.credDispensa.csv',\n",
       " '../data/dados_abertos/licitacao_2020/3101409/2020.3101409.licitacao.homologLicitacao.csv',\n",
       " '../data/dados_abertos/licitacao_2020/3101409/2020.3101409.licitacao.julgLicitacao.csv',\n",
       " '../data/dados_abertos/licitacao_2020/3101409/2020.3101409.licitacao.respLicitacao.csv']"
      ]
     },
     "execution_count": 4,
     "metadata": {},
     "output_type": "execute_result"
    }
   ],
   "source": [
    "csv_file_with_content[:10]"
   ]
  },
  {
   "cell_type": "code",
   "execution_count": null,
   "metadata": {},
   "outputs": [],
   "source": [
    "# Count diferent headers and fill a single data frame\n",
    "counter = dict()\n",
    "content = []\n",
    "for csv_file in csv_file_with_content:\n",
    "    filename = csv_file.split(\"/\")[-1]\n",
    "    with open(csv_file) as f:\n",
    "        lines = f.readlines()\n",
    "        header = lines[0].split(\";\")        \n",
    "        \n",
    "        for h in header:\n",
    "            if h not in counter:\n",
    "                counter[h] = {\"header\": h, \"counts\": 0, \"files\": filename}\n",
    "                \n",
    "            counter[h][\"counts\"] = counter[h][\"counts\"] + 1\n",
    "            \n",
    "            if counter[h][\"files\"] != filename:\n",
    "                counter[h][\"files\"] += \", \" + filename\n",
    "            \n",
    "            for line in lines[1:]:\n",
    "                dd = line.split(\";\")\n",
    "                record = dict(zip(header, dd))\n",
    "                content.append(record)\n",
    "        \n",
    "\n",
    "_header = pd.DataFrame.from_records(list(counter.values()))\n",
    "_df = pd.DataFrame.from_records(content)"
   ]
  },
  {
   "cell_type": "code",
   "execution_count": 25,
   "metadata": {},
   "outputs": [],
   "source": [
    "_header.to_csv(\"output_dados_abertos/headers.csv\")"
   ]
  },
  {
   "cell_type": "code",
   "execution_count": 28,
   "metadata": {},
   "outputs": [],
   "source": [
    "_df.to_csv(\"output_dados_abertos/results.csv\", index=False)"
   ]
  },
  {
   "cell_type": "code",
   "execution_count": 22,
   "metadata": {},
   "outputs": [
    {
     "data": {
      "text/html": [
       "<div>\n",
       "<style scoped>\n",
       "    .dataframe tbody tr th:only-of-type {\n",
       "        vertical-align: middle;\n",
       "    }\n",
       "\n",
       "    .dataframe tbody tr th {\n",
       "        vertical-align: top;\n",
       "    }\n",
       "\n",
       "    .dataframe thead th {\n",
       "        text-align: right;\n",
       "    }\n",
       "</style>\n",
       "<table border=\"1\" class=\"dataframe\">\n",
       "  <thead>\n",
       "    <tr style=\"text-align: right;\">\n",
       "      <th></th>\n",
       "      <th>num_item</th>\n",
       "      <th>dsc_item</th>\n",
       "    </tr>\n",
       "  </thead>\n",
       "  <tbody>\n",
       "    <tr>\n",
       "      <th>680</th>\n",
       "      <td>1</td>\n",
       "      <td>\"KIT ALIMENTACAO PARA  ALUNOS CONTENDO:\"</td>\n",
       "    </tr>\n",
       "    <tr>\n",
       "      <th>681</th>\n",
       "      <td>7</td>\n",
       "      <td>\"SOLUCAO TAMPAO PH 7,00, FRASCO COM 500 ML\"</td>\n",
       "    </tr>\n",
       "    <tr>\n",
       "      <th>682</th>\n",
       "      <td>4</td>\n",
       "      <td>\"HIPOCLORITO DE SODIO.\"</td>\n",
       "    </tr>\n",
       "    <tr>\n",
       "      <th>683</th>\n",
       "      <td>1</td>\n",
       "      <td>\"CAL HIDRATADA - ESPECIAL PARA TRATAMENTO DE A...</td>\n",
       "    </tr>\n",
       "    <tr>\n",
       "      <th>684</th>\n",
       "      <td>8</td>\n",
       "      <td>\"SULFATO DE ALUMINIO ISENTO DE FERRO LIQUIDO\"</td>\n",
       "    </tr>\n",
       "    <tr>\n",
       "      <th>...</th>\n",
       "      <td>...</td>\n",
       "      <td>...</td>\n",
       "    </tr>\n",
       "    <tr>\n",
       "      <th>5396043</th>\n",
       "      <td>11</td>\n",
       "      <td>\"BALDE OVAL PRODUZIDO EM POLIPROPILENO, 14 LIT...</td>\n",
       "    </tr>\n",
       "    <tr>\n",
       "      <th>5396044</th>\n",
       "      <td>13</td>\n",
       "      <td>\"BANDEJA EM PAPEL LAMINADA.\"</td>\n",
       "    </tr>\n",
       "    <tr>\n",
       "      <th>5396045</th>\n",
       "      <td>36</td>\n",
       "      <td>\"ESPONJA PARA USO COZINHA\"</td>\n",
       "    </tr>\n",
       "    <tr>\n",
       "      <th>5396046</th>\n",
       "      <td>101</td>\n",
       "      <td>\"VASSOURA DE PÊLO SINTÉTICO\"</td>\n",
       "    </tr>\n",
       "    <tr>\n",
       "      <th>5396047</th>\n",
       "      <td>1</td>\n",
       "      <td>\"TRANSPORTE DE RESÍDUOS SÓLIDOS URBANOS E VEÍC...</td>\n",
       "    </tr>\n",
       "  </tbody>\n",
       "</table>\n",
       "<p>2653281 rows × 2 columns</p>\n",
       "</div>"
      ],
      "text/plain": [
       "        num_item                                           dsc_item\n",
       "680            1           \"KIT ALIMENTACAO PARA  ALUNOS CONTENDO:\"\n",
       "681            7        \"SOLUCAO TAMPAO PH 7,00, FRASCO COM 500 ML\"\n",
       "682            4                            \"HIPOCLORITO DE SODIO.\"\n",
       "683            1  \"CAL HIDRATADA - ESPECIAL PARA TRATAMENTO DE A...\n",
       "684            8      \"SULFATO DE ALUMINIO ISENTO DE FERRO LIQUIDO\"\n",
       "...          ...                                                ...\n",
       "5396043       11  \"BALDE OVAL PRODUZIDO EM POLIPROPILENO, 14 LIT...\n",
       "5396044       13                       \"BANDEJA EM PAPEL LAMINADA.\"\n",
       "5396045       36                         \"ESPONJA PARA USO COZINHA\"\n",
       "5396046      101                       \"VASSOURA DE PÊLO SINTÉTICO\"\n",
       "5396047        1  \"TRANSPORTE DE RESÍDUOS SÓLIDOS URBANOS E VEÍC...\n",
       "\n",
       "[2653281 rows x 2 columns]"
      ]
     },
     "execution_count": 22,
     "metadata": {},
     "output_type": "execute_result"
    }
   ],
   "source": [
    "_df.loc[_df.num_item.notna(), [\"num_item\", \"dsc_item\"]]"
   ]
  },
  {
   "cell_type": "code",
   "execution_count": 26,
   "metadata": {},
   "outputs": [],
   "source": [
    "df = pd.read_csv(\"output_dados_abertos/results.csv\")"
   ]
  },
  {
   "cell_type": "code",
   "execution_count": 28,
   "metadata": {},
   "outputs": [
    {
     "data": {
      "text/html": [
       "<div>\n",
       "<style scoped>\n",
       "    .dataframe tbody tr th:only-of-type {\n",
       "        vertical-align: middle;\n",
       "    }\n",
       "\n",
       "    .dataframe tbody tr th {\n",
       "        vertical-align: top;\n",
       "    }\n",
       "\n",
       "    .dataframe thead th {\n",
       "        text-align: right;\n",
       "    }\n",
       "</style>\n",
       "<table border=\"1\" class=\"dataframe\">\n",
       "  <thead>\n",
       "    <tr style=\"text-align: right;\">\n",
       "      <th></th>\n",
       "      <th>seq_item_licitacao</th>\n",
       "      <th>seq_licitacao</th>\n",
       "      <th>seq_orgao</th>\n",
       "      <th>num_ano_referencia</th>\n",
       "      <th>num_mes_referencia</th>\n",
       "      <th>num_lote</th>\n",
       "      <th>dsc_lote</th>\n",
       "      <th>cod_item</th>\n",
       "      <th>num_item</th>\n",
       "      <th>dsc_item</th>\n",
       "      <th>dsc_unid_medida</th>\n",
       "      <th>num_versao_arq\\n</th>\n",
       "    </tr>\n",
       "  </thead>\n",
       "  <tbody>\n",
       "    <tr>\n",
       "      <th>1192674</th>\n",
       "      <td>22100913</td>\n",
       "      <td>672895</td>\n",
       "      <td>1367</td>\n",
       "      <td>2020</td>\n",
       "      <td>3</td>\n",
       "      <td>-1</td>\n",
       "      <td>\"LOTE NÃO INFORMADO\"</td>\n",
       "      <td>200003600936009</td>\n",
       "      <td>1</td>\n",
       "      <td>\"PRESTAÇÃO DE SERVIÇOS  - SERVIÇO DE REFORMA D...</td>\n",
       "      <td>\"SERV.\"</td>\n",
       "      <td>\"1\"\\n</td>\n",
       "    </tr>\n",
       "  </tbody>\n",
       "</table>\n",
       "</div>"
      ],
      "text/plain": [
       "         seq_item_licitacao  seq_licitacao  seq_orgao  num_ano_referencia  \\\n",
       "1192674            22100913         672895       1367                2020   \n",
       "\n",
       "         num_mes_referencia  num_lote              dsc_lote         cod_item  \\\n",
       "1192674                   3        -1  \"LOTE NÃO INFORMADO\"  200003600936009   \n",
       "\n",
       "         num_item                                           dsc_item  \\\n",
       "1192674         1  \"PRESTAÇÃO DE SERVIÇOS  - SERVIÇO DE REFORMA D...   \n",
       "\n",
       "        dsc_unid_medida num_versao_arq\\n  \n",
       "1192674         \"SERV.\"            \"1\"\\n  "
      ]
     },
     "execution_count": 28,
     "metadata": {},
     "output_type": "execute_result"
    }
   ],
   "source": [
    "df.loc[(df.cod_item == 200003600936009) & (df.num_ano_referencia == 2020)]"
   ]
  },
  {
   "cell_type": "code",
   "execution_count": null,
   "metadata": {},
   "outputs": [],
   "source": []
  }
 ],
 "metadata": {
  "kernelspec": {
   "display_name": "Python 3",
   "language": "python",
   "name": "python3"
  },
  "language_info": {
   "codemirror_mode": {
    "name": "ipython",
    "version": 3
   },
   "file_extension": ".py",
   "mimetype": "text/x-python",
   "name": "python",
   "nbconvert_exporter": "python",
   "pygments_lexer": "ipython3",
   "version": "3.7.6"
  }
 },
 "nbformat": 4,
 "nbformat_minor": 4
}
